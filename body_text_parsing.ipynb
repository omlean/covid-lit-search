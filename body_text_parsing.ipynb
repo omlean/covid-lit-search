{
 "cells": [
  {
   "cell_type": "markdown",
   "id": "54d2dcdb-11ea-4611-ac55-f2b5afadff63",
   "metadata": {},
   "source": [
    "# Body text parsing"
   ]
  },
  {
   "cell_type": "code",
   "execution_count": 12,
   "id": "08ad69f7-5bed-4579-aeb1-10b948dcbd4f",
   "metadata": {},
   "outputs": [],
   "source": [
    "import pandas as pd\n",
    "import os\n",
    "from tqdm import tqdm\n",
    "import json\n",
    "import re\n",
    "from IPython.display import JSON\n",
    "\n",
    "import preprocessing\n",
    "import data_access"
   ]
  },
  {
   "cell_type": "code",
   "execution_count": 4,
   "id": "9bad36f6-fc4b-49df-837a-d844d0f6361c",
   "metadata": {},
   "outputs": [
    {
     "name": "stderr",
     "output_type": "stream",
     "text": [
      "100%|██████████| 191570/191570 [10:03<00:00, 317.38it/s]\n"
     ]
    }
   ],
   "source": [
    "# pdf\n",
    "source_path = 'data/cord-19/document_parses/pdf_json/'\n",
    "source_filelist = os.listdir(source_path)\n",
    "\n",
    "dest_path = 'data/cord-19/body_text/pdf/'\n",
    "\n",
    "for filename in tqdm(source_filelist):\n",
    "    source = source_path + filename\n",
    "    dest = dest_path + filename.split('.')[0] + '.txt'\n",
    "    with open(dest, 'w') as dest_file:\n",
    "        dest_file.write(data_access.get_body_text_from_path(source))"
   ]
  },
  {
   "cell_type": "code",
   "execution_count": 5,
   "id": "21de6584-665f-4def-97ef-261c92e30d63",
   "metadata": {},
   "outputs": [
    {
     "name": "stderr",
     "output_type": "stream",
     "text": [
      "100%|██████████| 147047/147047 [08:13<00:00, 297.96it/s]\n"
     ]
    }
   ],
   "source": [
    "# pmc\n",
    "source_path = 'data/cord-19/document_parses/pmc_json/'\n",
    "source_filelist = os.listdir(source_path)\n",
    "\n",
    "dest_path = 'data/cord-19/body_text/pmc/'\n",
    "\n",
    "for filename in tqdm(source_filelist):\n",
    "    source = source_path + filename\n",
    "    dest = dest_path + filename.split('.')[0] + '.txt'\n",
    "    with open(dest, 'w') as dest_file:\n",
    "        dest_file.write(data_access.get_body_text_from_path(source))"
   ]
  },
  {
   "cell_type": "code",
   "execution_count": null,
   "id": "bd42bb31-d721-49d2-8bd4-9a5e48a48fef",
   "metadata": {},
   "outputs": [],
   "source": []
  },
  {
   "cell_type": "code",
   "execution_count": 7,
   "id": "ff0af3df-bb1e-4244-80a4-e1a61a94a7d8",
   "metadata": {},
   "outputs": [],
   "source": [
    "path = 'data/processed/metadata_clean.csv'\n",
    "df = preprocessing.load_cleaned_metadata(path)\n",
    "\n",
    "# delete rows that lack both pdf and pmc paths\n",
    "c1 = df.pdf_json_files != 'none'\n",
    "c2 = df.pmc_json_files != 'none'\n",
    "df = df[c1 ^ c2]"
   ]
  },
  {
   "cell_type": "code",
   "execution_count": 8,
   "id": "a9ad8c70-77bc-439f-b114-cd32430c109d",
   "metadata": {},
   "outputs": [],
   "source": [
    "def uids_to_filelist(df):\n",
    "    \n",
    "    uids = df.cord_uid.values\n",
    "    filelist = []\n",
    "    \n",
    "    for i in range(len(uids)):\n",
    "        row = df.iloc[i]\n",
    "        pdf = row.pdf_json_files\n",
    "        pmc = row.pmc_json_files\n",
    "        if pdf != 'none':\n",
    "            if ';' in pdf:\n",
    "                file = pdf.split(';')[0].strip()\n",
    "            else:\n",
    "                file = pdf\n",
    "        elif pmc != 'none':\n",
    "            if ';' in pmc:\n",
    "                file = pmc.split(';')[0].strip()\n",
    "            else:\n",
    "                file = pmc\n",
    "        filelist.append(file)\n",
    "    return filelist"
   ]
  },
  {
   "cell_type": "code",
   "execution_count": 10,
   "id": "5a6b56fc-8901-460a-8dd2-592fcce4e08e",
   "metadata": {},
   "outputs": [
    {
     "name": "stdout",
     "output_type": "stream",
     "text": [
      "54785\n",
      "54785\n"
     ]
    }
   ],
   "source": [
    "filelist = uids_to_filelist(df)\n",
    "print(len(df.cord_uid.values))\n",
    "print(len(filelist))"
   ]
  },
  {
   "cell_type": "code",
   "execution_count": 30,
   "id": "0ecc9cce-cc14-4463-9255-70b86e99bf2b",
   "metadata": {},
   "outputs": [
    {
     "name": "stderr",
     "output_type": "stream",
     "text": [
      "54785it [03:18, 276.55it/s]\n"
     ]
    }
   ],
   "source": [
    "dest_dir = 'data/cord-19/body_text/uid/'\n",
    "uids = df.cord_uid.values\n",
    "\n",
    "for uid, file in tqdm(zip(uids, filelist)):\n",
    "    source = 'data/cord-19/' + file\n",
    "    dest = dest_dir + uid + '.txt'\n",
    "    with open(dest, 'w') as file:\n",
    "        file.write(data_access.get_body_text_from_path(source))"
   ]
  },
  {
   "cell_type": "code",
   "execution_count": null,
   "id": "ebfb03d9-3818-4d0f-b339-886c7d07bc5e",
   "metadata": {},
   "outputs": [],
   "source": []
  }
 ],
 "metadata": {
  "kernelspec": {
   "display_name": "Python 3",
   "language": "python",
   "name": "python3"
  },
  "language_info": {
   "codemirror_mode": {
    "name": "ipython",
    "version": 3
   },
   "file_extension": ".py",
   "mimetype": "text/x-python",
   "name": "python",
   "nbconvert_exporter": "python",
   "pygments_lexer": "ipython3",
   "version": "3.9.4"
  }
 },
 "nbformat": 4,
 "nbformat_minor": 5
}
