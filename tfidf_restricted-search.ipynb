{
 "cells": [
  {
   "cell_type": "code",
   "execution_count": 1,
   "id": "d3a0a0ae-a117-4138-acd6-23864773a1f5",
   "metadata": {},
   "outputs": [],
   "source": [
    "import pandas as pd\n",
    "import numpy as np\n",
    "import os\n",
    "from tqdm import tqdm\n",
    "\n",
    "from sklearn.feature_extraction.text import TfidfVectorizer\n",
    "import pickle\n",
    "from scipy.sparse import save_npz, load_npz\n",
    "\n",
    "from scipy.spatial.distance import cosine\n",
    "\n",
    "import preprocessing\n",
    "import tfidf_search"
   ]
  },
  {
   "cell_type": "code",
   "execution_count": 2,
   "id": "0a7660e7-4913-4232-b00f-c7eb9919ed49",
   "metadata": {},
   "outputs": [],
   "source": [
    "# load data from file\n",
    "df = pd.read_csv('data/processed/02_full_table.csv', index_col=0, sep='\\t', low_memory=False)"
   ]
  },
  {
   "cell_type": "code",
   "execution_count": 3,
   "id": "d4d1be1b-b9e2-46b1-80ff-be2983f10b1b",
   "metadata": {},
   "outputs": [],
   "source": [
    "# for now, just remove rows without a search_text\n",
    "df = df[df.search_text.notnull()]"
   ]
  },
  {
   "cell_type": "code",
   "execution_count": 4,
   "id": "353e19ac-65e4-4637-9f3b-5007a38f1c61",
   "metadata": {},
   "outputs": [
    {
     "data": {
      "text/plain": [
       "93736"
      ]
     },
     "execution_count": 4,
     "metadata": {},
     "output_type": "execute_result"
    }
   ],
   "source": [
    "# select only papers published in 2021\n",
    "df['publish_time'] = pd.to_datetime(df['publish_time'], errors='coerce')\n",
    "df_jan21 = df[df.publish_time.apply(lambda x: x.year == 2021)]\n",
    "len(df_jan21)"
   ]
  },
  {
   "cell_type": "code",
   "execution_count": 5,
   "id": "1b9c4134-e66c-43d1-ba3e-2f244f3b2bf0",
   "metadata": {},
   "outputs": [],
   "source": [
    "def show_duplicated(df, col):\n",
    "    dup = df[df[col].duplicated(keep=False)].sort_values(col)\n",
    "    return dup"
   ]
  },
  {
   "cell_type": "code",
   "execution_count": 6,
   "id": "7a390cdb-3b4b-4503-820c-6921f8c84b04",
   "metadata": {},
   "outputs": [
    {
     "name": "stdout",
     "output_type": "stream",
     "text": [
      "93736\n",
      "72326\n"
     ]
    }
   ],
   "source": [
    "print(len(df_jan21))\n",
    "mask = ~df_jan21.search_text.duplicated()\n",
    "df_jan21 = df_jan21[mask]\n",
    "print(len(df_jan21))"
   ]
  },
  {
   "cell_type": "markdown",
   "id": "a475373d-9ef6-4842-9c38-06baafe24774",
   "metadata": {},
   "source": [
    "### Vectorize"
   ]
  },
  {
   "cell_type": "code",
   "execution_count": 7,
   "id": "45ef986e-051a-4671-93c9-4c02af0cc06a",
   "metadata": {},
   "outputs": [
    {
     "name": "stdout",
     "output_type": "stream",
     "text": [
      "Vectorizer pickled at  data/processed/04_jan21_vectorizer.pkl\n",
      "Term-document matrix saved at  data/processed/04_jan21_tdm.npz\n"
     ]
    }
   ],
   "source": [
    "# create vectorizer and term-document matrix\n",
    "path = 'data/processed/'\n",
    "documents = df_jan21.search_text\n",
    "vectorizer, tdm = tfidf_search.tfidf_vectorize(documents, pickle_path=path,\n",
    "                                              save_files_prefix=\"04_jan21\")"
   ]
  },
  {
   "cell_type": "code",
   "execution_count": 8,
   "id": "24b25bc5-cc5d-4866-b1a9-3e2d65c68237",
   "metadata": {},
   "outputs": [],
   "source": [
    "# load query data and define uid index\n",
    "query_df = pd.read_csv('data/processed/questions_expert.csv', sep='\\t', index_col=0)\n",
    "index = df_jan21['cord_uid'].values"
   ]
  },
  {
   "cell_type": "code",
   "execution_count": 9,
   "id": "7c5f7734-d38f-4dd8-9aba-b6849d26ad8d",
   "metadata": {},
   "outputs": [
    {
     "name": "stderr",
     "output_type": "stream",
     "text": [
      "  0%|          | 157/72326 [00:00<00:45, 1569.28it/s]"
     ]
    },
    {
     "name": "stdout",
     "output_type": "stream",
     "text": [
      "Vectorized search query\n",
      "Computing document similarity...\n"
     ]
    },
    {
     "name": "stderr",
     "output_type": "stream",
     "text": [
      "100%|██████████| 72326/72326 [00:45<00:00, 1577.43it/s]\n",
      "  0%|          | 131/72326 [00:00<00:55, 1303.09it/s]"
     ]
    },
    {
     "name": "stdout",
     "output_type": "stream",
     "text": [
      "Complete\n",
      "Returned top 5 results.\n",
      "Search results saved to data/processed/04_jan21_q0_search_record.txt\n",
      "Vectorized search query\n",
      "Computing document similarity...\n"
     ]
    },
    {
     "name": "stderr",
     "output_type": "stream",
     "text": [
      "100%|██████████| 72326/72326 [00:48<00:00, 1505.99it/s]\n",
      "  0%|          | 148/72326 [00:00<00:48, 1474.20it/s]"
     ]
    },
    {
     "name": "stdout",
     "output_type": "stream",
     "text": [
      "Complete\n",
      "Returned top 5 results.\n",
      "Search results saved to data/processed/04_jan21_q1_search_record.txt\n",
      "Vectorized search query\n",
      "Computing document similarity...\n"
     ]
    },
    {
     "name": "stderr",
     "output_type": "stream",
     "text": [
      "100%|██████████| 72326/72326 [00:48<00:00, 1503.50it/s]\n",
      "  0%|          | 134/72326 [00:00<00:54, 1334.69it/s]"
     ]
    },
    {
     "name": "stdout",
     "output_type": "stream",
     "text": [
      "Complete\n",
      "Returned top 5 results.\n",
      "Search results saved to data/processed/04_jan21_q2_search_record.txt\n",
      "Vectorized search query\n",
      "Computing document similarity...\n"
     ]
    },
    {
     "name": "stderr",
     "output_type": "stream",
     "text": [
      "100%|██████████| 72326/72326 [00:48<00:00, 1505.65it/s]\n",
      "  0%|          | 150/72326 [00:00<00:48, 1494.97it/s]"
     ]
    },
    {
     "name": "stdout",
     "output_type": "stream",
     "text": [
      "Complete\n",
      "Returned top 5 results.\n",
      "Search results saved to data/processed/04_jan21_q3_search_record.txt\n",
      "Vectorized search query\n",
      "Computing document similarity...\n"
     ]
    },
    {
     "name": "stderr",
     "output_type": "stream",
     "text": [
      "100%|██████████| 72326/72326 [00:48<00:00, 1503.51it/s]\n",
      "  0%|          | 149/72326 [00:00<00:48, 1485.22it/s]"
     ]
    },
    {
     "name": "stdout",
     "output_type": "stream",
     "text": [
      "Complete\n",
      "Returned top 5 results.\n",
      "Search results saved to data/processed/04_jan21_q4_search_record.txt\n",
      "Vectorized search query\n",
      "Computing document similarity...\n"
     ]
    },
    {
     "name": "stderr",
     "output_type": "stream",
     "text": [
      "100%|██████████| 72326/72326 [00:48<00:00, 1506.17it/s]\n",
      "  0%|          | 140/72326 [00:00<00:51, 1394.09it/s]"
     ]
    },
    {
     "name": "stdout",
     "output_type": "stream",
     "text": [
      "Complete\n",
      "Returned top 5 results.\n",
      "Search results saved to data/processed/04_jan21_q5_search_record.txt\n",
      "Vectorized search query\n",
      "Computing document similarity...\n"
     ]
    },
    {
     "name": "stderr",
     "output_type": "stream",
     "text": [
      "100%|██████████| 72326/72326 [00:48<00:00, 1476.85it/s]\n",
      "  0%|          | 148/72326 [00:00<00:48, 1473.52it/s]"
     ]
    },
    {
     "name": "stdout",
     "output_type": "stream",
     "text": [
      "Complete\n",
      "Returned top 5 results.\n",
      "Search results saved to data/processed/04_jan21_q6_search_record.txt\n",
      "Vectorized search query\n",
      "Computing document similarity...\n"
     ]
    },
    {
     "name": "stderr",
     "output_type": "stream",
     "text": [
      "100%|██████████| 72326/72326 [00:48<00:00, 1488.71it/s]\n",
      "  0%|          | 156/72326 [00:00<00:46, 1553.18it/s]"
     ]
    },
    {
     "name": "stdout",
     "output_type": "stream",
     "text": [
      "Complete\n",
      "Returned top 5 results.\n",
      "Search results saved to data/processed/04_jan21_q7_search_record.txt\n",
      "Vectorized search query\n",
      "Computing document similarity...\n"
     ]
    },
    {
     "name": "stderr",
     "output_type": "stream",
     "text": [
      "100%|██████████| 72326/72326 [00:46<00:00, 1552.11it/s]\n",
      "  0%|          | 137/72326 [00:00<00:52, 1368.05it/s]"
     ]
    },
    {
     "name": "stdout",
     "output_type": "stream",
     "text": [
      "Complete\n",
      "Returned top 5 results.\n",
      "Search results saved to data/processed/04_jan21_q8_search_record.txt\n",
      "Vectorized search query\n",
      "Computing document similarity...\n"
     ]
    },
    {
     "name": "stderr",
     "output_type": "stream",
     "text": [
      "100%|██████████| 72326/72326 [00:46<00:00, 1557.23it/s]\n",
      "  0%|          | 139/72326 [00:00<00:52, 1384.09it/s]"
     ]
    },
    {
     "name": "stdout",
     "output_type": "stream",
     "text": [
      "Complete\n",
      "Returned top 5 results.\n",
      "Search results saved to data/processed/04_jan21_q9_search_record.txt\n",
      "Vectorized search query\n",
      "Computing document similarity...\n"
     ]
    },
    {
     "name": "stderr",
     "output_type": "stream",
     "text": [
      "100%|██████████| 72326/72326 [00:46<00:00, 1547.89it/s]\n",
      "  0%|          | 157/72326 [00:00<00:46, 1567.96it/s]"
     ]
    },
    {
     "name": "stdout",
     "output_type": "stream",
     "text": [
      "Complete\n",
      "Returned top 5 results.\n",
      "Search results saved to data/processed/04_jan21_q10_search_record.txt\n",
      "Vectorized search query\n",
      "Computing document similarity...\n"
     ]
    },
    {
     "name": "stderr",
     "output_type": "stream",
     "text": [
      "100%|██████████| 72326/72326 [00:46<00:00, 1551.99it/s]\n",
      "  0%|          | 140/72326 [00:00<00:51, 1389.08it/s]"
     ]
    },
    {
     "name": "stdout",
     "output_type": "stream",
     "text": [
      "Complete\n",
      "Returned top 5 results.\n",
      "Search results saved to data/processed/04_jan21_q11_search_record.txt\n",
      "Vectorized search query\n",
      "Computing document similarity...\n"
     ]
    },
    {
     "name": "stderr",
     "output_type": "stream",
     "text": [
      "100%|██████████| 72326/72326 [00:47<00:00, 1530.01it/s]\n",
      "  0%|          | 158/72326 [00:00<00:45, 1574.29it/s]"
     ]
    },
    {
     "name": "stdout",
     "output_type": "stream",
     "text": [
      "Complete\n",
      "Returned top 5 results.\n",
      "Search results saved to data/processed/04_jan21_q12_search_record.txt\n",
      "Vectorized search query\n",
      "Computing document similarity...\n"
     ]
    },
    {
     "name": "stderr",
     "output_type": "stream",
     "text": [
      "100%|██████████| 72326/72326 [00:45<00:00, 1606.49it/s]\n",
      "  0%|          | 166/72326 [00:00<00:43, 1655.76it/s]"
     ]
    },
    {
     "name": "stdout",
     "output_type": "stream",
     "text": [
      "Complete\n",
      "Returned top 5 results.\n",
      "Search results saved to data/processed/04_jan21_q13_search_record.txt\n",
      "Vectorized search query\n",
      "Computing document similarity...\n"
     ]
    },
    {
     "name": "stderr",
     "output_type": "stream",
     "text": [
      "100%|██████████| 72326/72326 [00:43<00:00, 1664.93it/s]\n",
      "  0%|          | 152/72326 [00:00<00:47, 1513.18it/s]"
     ]
    },
    {
     "name": "stdout",
     "output_type": "stream",
     "text": [
      "Complete\n",
      "Returned top 5 results.\n",
      "Search results saved to data/processed/04_jan21_q14_search_record.txt\n",
      "Vectorized search query\n",
      "Computing document similarity...\n"
     ]
    },
    {
     "name": "stderr",
     "output_type": "stream",
     "text": [
      "100%|██████████| 72326/72326 [00:43<00:00, 1663.89it/s]\n",
      "  0%|          | 153/72326 [00:00<00:47, 1526.69it/s]"
     ]
    },
    {
     "name": "stdout",
     "output_type": "stream",
     "text": [
      "Complete\n",
      "Returned top 5 results.\n",
      "Search results saved to data/processed/04_jan21_q15_search_record.txt\n",
      "Vectorized search query\n",
      "Computing document similarity...\n"
     ]
    },
    {
     "name": "stderr",
     "output_type": "stream",
     "text": [
      "100%|██████████| 72326/72326 [00:43<00:00, 1666.95it/s]\n",
      "  0%|          | 159/72326 [00:00<00:45, 1589.25it/s]"
     ]
    },
    {
     "name": "stdout",
     "output_type": "stream",
     "text": [
      "Complete\n",
      "Returned top 5 results.\n",
      "Search results saved to data/processed/04_jan21_q16_search_record.txt\n",
      "Vectorized search query\n",
      "Computing document similarity...\n"
     ]
    },
    {
     "name": "stderr",
     "output_type": "stream",
     "text": [
      "100%|██████████| 72326/72326 [00:43<00:00, 1662.05it/s]\n",
      "  0%|          | 161/72326 [00:00<00:44, 1608.97it/s]"
     ]
    },
    {
     "name": "stdout",
     "output_type": "stream",
     "text": [
      "Complete\n",
      "Returned top 5 results.\n",
      "Search results saved to data/processed/04_jan21_q17_search_record.txt\n",
      "Vectorized search query\n",
      "Computing document similarity...\n"
     ]
    },
    {
     "name": "stderr",
     "output_type": "stream",
     "text": [
      "100%|██████████| 72326/72326 [00:43<00:00, 1668.39it/s]\n",
      "  0%|          | 165/72326 [00:00<00:43, 1647.49it/s]"
     ]
    },
    {
     "name": "stdout",
     "output_type": "stream",
     "text": [
      "Complete\n",
      "Returned top 5 results.\n",
      "Search results saved to data/processed/04_jan21_q18_search_record.txt\n",
      "Vectorized search query\n",
      "Computing document similarity...\n"
     ]
    },
    {
     "name": "stderr",
     "output_type": "stream",
     "text": [
      "100%|██████████| 72326/72326 [00:43<00:00, 1671.87it/s]\n",
      "  0%|          | 167/72326 [00:00<00:43, 1662.29it/s]"
     ]
    },
    {
     "name": "stdout",
     "output_type": "stream",
     "text": [
      "Complete\n",
      "Returned top 5 results.\n",
      "Search results saved to data/processed/04_jan21_q19_search_record.txt\n",
      "Vectorized search query\n",
      "Computing document similarity...\n"
     ]
    },
    {
     "name": "stderr",
     "output_type": "stream",
     "text": [
      "100%|██████████| 72326/72326 [00:45<00:00, 1598.30it/s]\n",
      "  0%|          | 164/72326 [00:00<00:44, 1633.51it/s]"
     ]
    },
    {
     "name": "stdout",
     "output_type": "stream",
     "text": [
      "Complete\n",
      "Returned top 5 results.\n",
      "Search results saved to data/processed/04_jan21_q20_search_record.txt\n",
      "Vectorized search query\n",
      "Computing document similarity...\n"
     ]
    },
    {
     "name": "stderr",
     "output_type": "stream",
     "text": [
      "100%|██████████| 72326/72326 [00:43<00:00, 1655.33it/s]\n",
      "  0%|          | 168/72326 [00:00<00:42, 1678.94it/s]"
     ]
    },
    {
     "name": "stdout",
     "output_type": "stream",
     "text": [
      "Complete\n",
      "Returned top 5 results.\n",
      "Search results saved to data/processed/04_jan21_q21_search_record.txt\n",
      "Vectorized search query\n",
      "Computing document similarity...\n"
     ]
    },
    {
     "name": "stderr",
     "output_type": "stream",
     "text": [
      "100%|██████████| 72326/72326 [00:43<00:00, 1667.42it/s]\n",
      "  0%|          | 148/72326 [00:00<00:48, 1477.69it/s]"
     ]
    },
    {
     "name": "stdout",
     "output_type": "stream",
     "text": [
      "Complete\n",
      "Returned top 5 results.\n",
      "Search results saved to data/processed/04_jan21_q22_search_record.txt\n",
      "Vectorized search query\n",
      "Computing document similarity...\n"
     ]
    },
    {
     "name": "stderr",
     "output_type": "stream",
     "text": [
      "100%|██████████| 72326/72326 [00:43<00:00, 1649.50it/s]\n",
      "  0%|          | 169/72326 [00:00<00:42, 1685.35it/s]"
     ]
    },
    {
     "name": "stdout",
     "output_type": "stream",
     "text": [
      "Complete\n",
      "Returned top 5 results.\n",
      "Search results saved to data/processed/04_jan21_q23_search_record.txt\n",
      "Vectorized search query\n",
      "Computing document similarity...\n"
     ]
    },
    {
     "name": "stderr",
     "output_type": "stream",
     "text": [
      "100%|██████████| 72326/72326 [00:44<00:00, 1643.53it/s]\n",
      "  0%|          | 167/72326 [00:00<00:43, 1661.84it/s]"
     ]
    },
    {
     "name": "stdout",
     "output_type": "stream",
     "text": [
      "Complete\n",
      "Returned top 5 results.\n",
      "Search results saved to data/processed/04_jan21_q24_search_record.txt\n",
      "Vectorized search query\n",
      "Computing document similarity...\n"
     ]
    },
    {
     "name": "stderr",
     "output_type": "stream",
     "text": [
      "100%|██████████| 72326/72326 [00:43<00:00, 1664.99it/s]\n",
      "  0%|          | 168/72326 [00:00<00:43, 1675.71it/s]"
     ]
    },
    {
     "name": "stdout",
     "output_type": "stream",
     "text": [
      "Complete\n",
      "Returned top 5 results.\n",
      "Search results saved to data/processed/04_jan21_q25_search_record.txt\n",
      "Vectorized search query\n",
      "Computing document similarity...\n"
     ]
    },
    {
     "name": "stderr",
     "output_type": "stream",
     "text": [
      "100%|██████████| 72326/72326 [00:43<00:00, 1645.83it/s]\n",
      "  0%|          | 156/72326 [00:00<00:46, 1559.68it/s]"
     ]
    },
    {
     "name": "stdout",
     "output_type": "stream",
     "text": [
      "Complete\n",
      "Returned top 5 results.\n",
      "Search results saved to data/processed/04_jan21_q26_search_record.txt\n",
      "Vectorized search query\n",
      "Computing document similarity...\n"
     ]
    },
    {
     "name": "stderr",
     "output_type": "stream",
     "text": [
      "100%|██████████| 72326/72326 [00:44<00:00, 1621.31it/s]\n",
      "  0%|          | 159/72326 [00:00<00:45, 1585.42it/s]"
     ]
    },
    {
     "name": "stdout",
     "output_type": "stream",
     "text": [
      "Complete\n",
      "Returned top 5 results.\n",
      "Search results saved to data/processed/04_jan21_q27_search_record.txt\n",
      "Vectorized search query\n",
      "Computing document similarity...\n"
     ]
    },
    {
     "name": "stderr",
     "output_type": "stream",
     "text": [
      "100%|██████████| 72326/72326 [00:43<00:00, 1644.39it/s]\n",
      "  0%|          | 164/72326 [00:00<00:44, 1637.88it/s]"
     ]
    },
    {
     "name": "stdout",
     "output_type": "stream",
     "text": [
      "Complete\n",
      "Returned top 5 results.\n",
      "Search results saved to data/processed/04_jan21_q28_search_record.txt\n",
      "Vectorized search query\n",
      "Computing document similarity...\n"
     ]
    },
    {
     "name": "stderr",
     "output_type": "stream",
     "text": [
      "100%|██████████| 72326/72326 [00:43<00:00, 1643.79it/s]\n"
     ]
    },
    {
     "name": "stdout",
     "output_type": "stream",
     "text": [
      "Complete\n",
      "Returned top 5 results.\n",
      "Search results saved to data/processed/04_jan21_q29_search_record.txt\n"
     ]
    }
   ],
   "source": [
    "# iterate through all questions\n",
    "queries = query_df.question.values\n",
    "for i in range(len(queries)):\n",
    "    query = queries[i]\n",
    "    uids = tfidf_search.tfidf_search(query, vectorizer, tdm, index)\n",
    "    tfidf_search.write_details(query, uids, df_jan21, f'04_jan21_q{i}', 'data/processed/')"
   ]
  },
  {
   "cell_type": "code",
   "execution_count": 10,
   "id": "4085c496-4f2b-4627-a10b-fd831c57c225",
   "metadata": {},
   "outputs": [],
   "source": [
    "# df_jan21.to_csv('data/processed/04_jan21_full_table.csv', sep='\\t')"
   ]
  },
  {
   "cell_type": "markdown",
   "id": "21f5a341-9e34-4ebc-9f1e-917d11804aab",
   "metadata": {},
   "source": [
    "## Consumer questions"
   ]
  },
  {
   "cell_type": "code",
   "execution_count": 46,
   "id": "0c20a64b-2178-48c1-9abf-ce9b94778070",
   "metadata": {},
   "outputs": [],
   "source": [
    "# # load query data and define uid index\n",
    "# query_consumers = pd.read_csv('data/processed/questions_consumer.csv', sep='\\t', index_col=0)\n",
    "# index = df_jan21['cord_uid'].values\n",
    "# queries = query_consumers.question.values"
   ]
  },
  {
   "cell_type": "code",
   "execution_count": 48,
   "id": "421c4691-f636-4819-8ad3-00407980e9c8",
   "metadata": {},
   "outputs": [
    {
     "name": "stderr",
     "output_type": "stream",
     "text": [
      "  0%|          | 80/98473 [00:00<02:04, 793.18it/s]"
     ]
    },
    {
     "name": "stdout",
     "output_type": "stream",
     "text": [
      "Vectorized search query\n",
      "Computing document similarity...\n"
     ]
    },
    {
     "name": "stderr",
     "output_type": "stream",
     "text": [
      "100%|██████████| 98473/98473 [01:11<00:00, 1381.01it/s]\n",
      "  0%|          | 170/98473 [00:00<00:58, 1691.22it/s]"
     ]
    },
    {
     "name": "stdout",
     "output_type": "stream",
     "text": [
      "Complete\n",
      "Returned top 5 results.\n",
      "Search results saved to data/processed/03_jan21_consumer_q0_search_record.txt\n",
      "Vectorized search query\n",
      "Computing document similarity...\n"
     ]
    },
    {
     "name": "stderr",
     "output_type": "stream",
     "text": [
      "100%|██████████| 98473/98473 [01:00<00:00, 1637.72it/s]\n",
      "  0%|          | 134/98473 [00:00<01:13, 1337.26it/s]"
     ]
    },
    {
     "name": "stdout",
     "output_type": "stream",
     "text": [
      "Complete\n",
      "Returned top 5 results.\n",
      "Search results saved to data/processed/03_jan21_consumer_q1_search_record.txt\n",
      "Vectorized search query\n",
      "Computing document similarity...\n"
     ]
    },
    {
     "name": "stderr",
     "output_type": "stream",
     "text": [
      "100%|██████████| 98473/98473 [01:00<00:00, 1630.62it/s]\n",
      "  0%|          | 168/98473 [00:00<00:58, 1678.23it/s]"
     ]
    },
    {
     "name": "stdout",
     "output_type": "stream",
     "text": [
      "Complete\n",
      "Returned top 5 results.\n",
      "Search results saved to data/processed/03_jan21_consumer_q2_search_record.txt\n",
      "Vectorized search query\n",
      "Computing document similarity...\n"
     ]
    },
    {
     "name": "stderr",
     "output_type": "stream",
     "text": [
      "100%|██████████| 98473/98473 [01:02<00:00, 1567.32it/s]\n",
      "  0%|          | 183/98473 [00:00<00:53, 1827.05it/s]"
     ]
    },
    {
     "name": "stdout",
     "output_type": "stream",
     "text": [
      "Complete\n",
      "Returned top 5 results.\n",
      "Search results saved to data/processed/03_jan21_consumer_q3_search_record.txt\n",
      "Vectorized search query\n",
      "Computing document similarity...\n"
     ]
    },
    {
     "name": "stderr",
     "output_type": "stream",
     "text": [
      "100%|██████████| 98473/98473 [00:55<00:00, 1758.54it/s]\n",
      "  0%|          | 180/98473 [00:00<00:54, 1798.01it/s]"
     ]
    },
    {
     "name": "stdout",
     "output_type": "stream",
     "text": [
      "Complete\n",
      "Returned top 5 results.\n",
      "Search results saved to data/processed/03_jan21_consumer_q4_search_record.txt\n",
      "Vectorized search query\n",
      "Computing document similarity...\n"
     ]
    },
    {
     "name": "stderr",
     "output_type": "stream",
     "text": [
      "100%|██████████| 98473/98473 [01:01<00:00, 1593.60it/s]\n",
      "  0%|          | 170/98473 [00:00<00:57, 1698.29it/s]"
     ]
    },
    {
     "name": "stdout",
     "output_type": "stream",
     "text": [
      "Complete\n",
      "Returned top 5 results.\n",
      "Search results saved to data/processed/03_jan21_consumer_q5_search_record.txt\n",
      "Vectorized search query\n",
      "Computing document similarity...\n"
     ]
    },
    {
     "name": "stderr",
     "output_type": "stream",
     "text": [
      "100%|██████████| 98473/98473 [00:56<00:00, 1754.21it/s]\n",
      "  0%|          | 182/98473 [00:00<00:54, 1815.10it/s]"
     ]
    },
    {
     "name": "stdout",
     "output_type": "stream",
     "text": [
      "Complete\n",
      "Returned top 5 results.\n",
      "Search results saved to data/processed/03_jan21_consumer_q6_search_record.txt\n",
      "Vectorized search query\n",
      "Computing document similarity...\n"
     ]
    },
    {
     "name": "stderr",
     "output_type": "stream",
     "text": [
      "100%|██████████| 98473/98473 [00:55<00:00, 1781.05it/s]\n",
      "  0%|          | 187/98473 [00:00<00:52, 1855.36it/s]"
     ]
    },
    {
     "name": "stdout",
     "output_type": "stream",
     "text": [
      "Complete\n",
      "Returned top 5 results.\n",
      "Search results saved to data/processed/03_jan21_consumer_q7_search_record.txt\n",
      "Vectorized search query\n",
      "Computing document similarity...\n"
     ]
    },
    {
     "name": "stderr",
     "output_type": "stream",
     "text": [
      "100%|██████████| 98473/98473 [00:57<00:00, 1720.26it/s]\n",
      "  0%|          | 183/98473 [00:00<00:53, 1822.48it/s]"
     ]
    },
    {
     "name": "stdout",
     "output_type": "stream",
     "text": [
      "Complete\n",
      "Returned top 5 results.\n",
      "Search results saved to data/processed/03_jan21_consumer_q8_search_record.txt\n",
      "Vectorized search query\n",
      "Computing document similarity...\n"
     ]
    },
    {
     "name": "stderr",
     "output_type": "stream",
     "text": [
      "100%|██████████| 98473/98473 [00:59<00:00, 1655.01it/s]\n",
      "  0%|          | 154/98473 [00:00<01:03, 1537.64it/s]"
     ]
    },
    {
     "name": "stdout",
     "output_type": "stream",
     "text": [
      "Complete\n",
      "Returned top 5 results.\n",
      "Search results saved to data/processed/03_jan21_consumer_q9_search_record.txt\n",
      "Vectorized search query\n",
      "Computing document similarity...\n"
     ]
    },
    {
     "name": "stderr",
     "output_type": "stream",
     "text": [
      "100%|██████████| 98473/98473 [01:48<00:00, 911.78it/s] \n",
      "  0%|          | 0/98473 [00:00<?, ?it/s]"
     ]
    },
    {
     "name": "stdout",
     "output_type": "stream",
     "text": [
      "Complete\n",
      "Returned top 5 results.\n",
      "Search results saved to data/processed/03_jan21_consumer_q10_search_record.txt\n",
      "Vectorized search query\n",
      "Computing document similarity...\n"
     ]
    },
    {
     "name": "stderr",
     "output_type": "stream",
     "text": [
      "100%|██████████| 98473/98473 [01:09<00:00, 1423.10it/s]\n",
      "  0%|          | 154/98473 [00:00<01:03, 1536.30it/s]"
     ]
    },
    {
     "name": "stdout",
     "output_type": "stream",
     "text": [
      "Complete\n",
      "Returned top 5 results.\n",
      "Search results saved to data/processed/03_jan21_consumer_q11_search_record.txt\n",
      "Vectorized search query\n",
      "Computing document similarity...\n"
     ]
    },
    {
     "name": "stderr",
     "output_type": "stream",
     "text": [
      "100%|██████████| 98473/98473 [01:02<00:00, 1568.74it/s]\n",
      "  0%|          | 144/98473 [00:00<01:08, 1436.00it/s]"
     ]
    },
    {
     "name": "stdout",
     "output_type": "stream",
     "text": [
      "Complete\n",
      "Returned top 5 results.\n",
      "Search results saved to data/processed/03_jan21_consumer_q12_search_record.txt\n",
      "Vectorized search query\n",
      "Computing document similarity...\n"
     ]
    },
    {
     "name": "stderr",
     "output_type": "stream",
     "text": [
      "100%|██████████| 98473/98473 [01:04<00:00, 1516.39it/s]\n",
      "  0%|          | 168/98473 [00:00<00:58, 1679.41it/s]"
     ]
    },
    {
     "name": "stdout",
     "output_type": "stream",
     "text": [
      "Complete\n",
      "Returned top 5 results.\n",
      "Search results saved to data/processed/03_jan21_consumer_q13_search_record.txt\n",
      "Vectorized search query\n",
      "Computing document similarity...\n"
     ]
    },
    {
     "name": "stderr",
     "output_type": "stream",
     "text": [
      "100%|██████████| 98473/98473 [00:59<00:00, 1664.70it/s]\n",
      "  0%|          | 157/98473 [00:00<01:02, 1562.75it/s]"
     ]
    },
    {
     "name": "stdout",
     "output_type": "stream",
     "text": [
      "Complete\n",
      "Returned top 5 results.\n",
      "Search results saved to data/processed/03_jan21_consumer_q14_search_record.txt\n",
      "Vectorized search query\n",
      "Computing document similarity...\n"
     ]
    },
    {
     "name": "stderr",
     "output_type": "stream",
     "text": [
      "100%|██████████| 98473/98473 [00:59<00:00, 1658.09it/s]\n",
      "  0%|          | 175/98473 [00:00<00:56, 1746.58it/s]"
     ]
    },
    {
     "name": "stdout",
     "output_type": "stream",
     "text": [
      "Complete\n",
      "Returned top 5 results.\n",
      "Search results saved to data/processed/03_jan21_consumer_q15_search_record.txt\n",
      "Vectorized search query\n",
      "Computing document similarity...\n"
     ]
    },
    {
     "name": "stderr",
     "output_type": "stream",
     "text": [
      "100%|██████████| 98473/98473 [01:03<00:00, 1540.44it/s]\n",
      "  0%|          | 181/98473 [00:00<00:54, 1807.95it/s]"
     ]
    },
    {
     "name": "stdout",
     "output_type": "stream",
     "text": [
      "Complete\n",
      "Returned top 5 results.\n",
      "Search results saved to data/processed/03_jan21_consumer_q16_search_record.txt\n",
      "Vectorized search query\n",
      "Computing document similarity...\n"
     ]
    },
    {
     "name": "stderr",
     "output_type": "stream",
     "text": [
      "100%|██████████| 98473/98473 [01:15<00:00, 1304.61it/s]\n",
      "  0%|          | 120/98473 [00:00<01:22, 1195.84it/s]"
     ]
    },
    {
     "name": "stdout",
     "output_type": "stream",
     "text": [
      "Complete\n",
      "Returned top 5 results.\n",
      "Search results saved to data/processed/03_jan21_consumer_q17_search_record.txt\n",
      "Vectorized search query\n",
      "Computing document similarity...\n"
     ]
    },
    {
     "name": "stderr",
     "output_type": "stream",
     "text": [
      "100%|██████████| 98473/98473 [01:07<00:00, 1458.20it/s]\n",
      "  0%|          | 152/98473 [00:00<01:04, 1518.10it/s]"
     ]
    },
    {
     "name": "stdout",
     "output_type": "stream",
     "text": [
      "Complete\n",
      "Returned top 5 results.\n",
      "Search results saved to data/processed/03_jan21_consumer_q18_search_record.txt\n",
      "Vectorized search query\n",
      "Computing document similarity...\n"
     ]
    },
    {
     "name": "stderr",
     "output_type": "stream",
     "text": [
      "100%|██████████| 98473/98473 [01:06<00:00, 1491.27it/s]\n",
      "  0%|          | 111/98473 [00:00<01:28, 1105.77it/s]"
     ]
    },
    {
     "name": "stdout",
     "output_type": "stream",
     "text": [
      "Complete\n",
      "Returned top 5 results.\n",
      "Search results saved to data/processed/03_jan21_consumer_q19_search_record.txt\n",
      "Vectorized search query\n",
      "Computing document similarity...\n"
     ]
    },
    {
     "name": "stderr",
     "output_type": "stream",
     "text": [
      "100%|██████████| 98473/98473 [01:01<00:00, 1612.29it/s]\n",
      "  0%|          | 159/98473 [00:00<01:01, 1585.84it/s]"
     ]
    },
    {
     "name": "stdout",
     "output_type": "stream",
     "text": [
      "Complete\n",
      "Returned top 5 results.\n",
      "Search results saved to data/processed/03_jan21_consumer_q20_search_record.txt\n",
      "Vectorized search query\n",
      "Computing document similarity...\n"
     ]
    },
    {
     "name": "stderr",
     "output_type": "stream",
     "text": [
      "100%|██████████| 98473/98473 [00:59<00:00, 1655.57it/s]\n",
      "  0%|          | 176/98473 [00:00<00:55, 1756.54it/s]"
     ]
    },
    {
     "name": "stdout",
     "output_type": "stream",
     "text": [
      "Complete\n",
      "Returned top 5 results.\n",
      "Search results saved to data/processed/03_jan21_consumer_q21_search_record.txt\n",
      "Vectorized search query\n",
      "Computing document similarity...\n"
     ]
    },
    {
     "name": "stderr",
     "output_type": "stream",
     "text": [
      "100%|██████████| 98473/98473 [01:01<00:00, 1607.31it/s]\n",
      "  0%|          | 161/98473 [00:00<01:01, 1606.84it/s]"
     ]
    },
    {
     "name": "stdout",
     "output_type": "stream",
     "text": [
      "Complete\n",
      "Returned top 5 results.\n",
      "Search results saved to data/processed/03_jan21_consumer_q22_search_record.txt\n",
      "Vectorized search query\n",
      "Computing document similarity...\n"
     ]
    },
    {
     "name": "stderr",
     "output_type": "stream",
     "text": [
      "100%|██████████| 98473/98473 [01:03<00:00, 1543.96it/s]\n",
      "  0%|          | 156/98473 [00:00<01:03, 1553.08it/s]"
     ]
    },
    {
     "name": "stdout",
     "output_type": "stream",
     "text": [
      "Complete\n",
      "Returned top 5 results.\n",
      "Search results saved to data/processed/03_jan21_consumer_q23_search_record.txt\n",
      "Vectorized search query\n",
      "Computing document similarity...\n"
     ]
    },
    {
     "name": "stderr",
     "output_type": "stream",
     "text": [
      "100%|██████████| 98473/98473 [01:17<00:00, 1274.97it/s]\n",
      "  0%|          | 0/98473 [00:00<?, ?it/s]"
     ]
    },
    {
     "name": "stdout",
     "output_type": "stream",
     "text": [
      "Complete\n",
      "Returned top 5 results.\n",
      "Search results saved to data/processed/03_jan21_consumer_q24_search_record.txt\n",
      "Vectorized search query\n",
      "Computing document similarity...\n"
     ]
    },
    {
     "name": "stderr",
     "output_type": "stream",
     "text": [
      "100%|██████████| 98473/98473 [01:08<00:00, 1435.53it/s]\n",
      "  0%|          | 120/98473 [00:00<01:22, 1186.95it/s]"
     ]
    },
    {
     "name": "stdout",
     "output_type": "stream",
     "text": [
      "Complete\n",
      "Returned top 5 results.\n",
      "Search results saved to data/processed/03_jan21_consumer_q25_search_record.txt\n",
      "Vectorized search query\n",
      "Computing document similarity...\n"
     ]
    },
    {
     "name": "stderr",
     "output_type": "stream",
     "text": [
      "100%|██████████| 98473/98473 [01:06<00:00, 1485.11it/s]\n",
      "  0%|          | 144/98473 [00:00<01:08, 1432.54it/s]"
     ]
    },
    {
     "name": "stdout",
     "output_type": "stream",
     "text": [
      "Complete\n",
      "Returned top 5 results.\n",
      "Search results saved to data/processed/03_jan21_consumer_q26_search_record.txt\n",
      "Vectorized search query\n",
      "Computing document similarity...\n"
     ]
    },
    {
     "name": "stderr",
     "output_type": "stream",
     "text": [
      "100%|██████████| 98473/98473 [01:05<00:00, 1500.64it/s]\n",
      "  0%|          | 151/98473 [00:00<01:05, 1502.58it/s]"
     ]
    },
    {
     "name": "stdout",
     "output_type": "stream",
     "text": [
      "Complete\n",
      "Returned top 5 results.\n",
      "Search results saved to data/processed/03_jan21_consumer_q27_search_record.txt\n",
      "Vectorized search query\n",
      "Computing document similarity...\n"
     ]
    },
    {
     "name": "stderr",
     "output_type": "stream",
     "text": [
      "100%|██████████| 98473/98473 [01:03<00:00, 1553.27it/s]\n",
      "  0%|          | 150/98473 [00:00<01:05, 1497.36it/s]"
     ]
    },
    {
     "name": "stdout",
     "output_type": "stream",
     "text": [
      "Complete\n",
      "Returned top 5 results.\n",
      "Search results saved to data/processed/03_jan21_consumer_q28_search_record.txt\n",
      "Vectorized search query\n",
      "Computing document similarity...\n"
     ]
    },
    {
     "name": "stderr",
     "output_type": "stream",
     "text": [
      "100%|██████████| 98473/98473 [01:04<00:00, 1517.57it/s]\n"
     ]
    },
    {
     "name": "stdout",
     "output_type": "stream",
     "text": [
      "Complete\n",
      "Returned top 5 results.\n",
      "Search results saved to data/processed/03_jan21_consumer_q29_search_record.txt\n"
     ]
    }
   ],
   "source": [
    "# for i in range(len(queries)):\n",
    "#     query = queries[i]\n",
    "#     uids = tfidf_search.tfidf_search(query, vectorizer, tdm, index)\n",
    "#     tfidf_search.write_details(query, uids, df_jan21, f'03_jan21_consumer_q{i}', 'data/processed/')"
   ]
  }
 ],
 "metadata": {
  "kernelspec": {
   "display_name": "Python 3",
   "language": "python",
   "name": "python3"
  },
  "language_info": {
   "codemirror_mode": {
    "name": "ipython",
    "version": 3
   },
   "file_extension": ".py",
   "mimetype": "text/x-python",
   "name": "python",
   "nbconvert_exporter": "python",
   "pygments_lexer": "ipython3",
   "version": "3.8.8"
  }
 },
 "nbformat": 4,
 "nbformat_minor": 5
}
