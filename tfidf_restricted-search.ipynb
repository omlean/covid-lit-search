{
 "cells": [
  {
   "cell_type": "code",
   "execution_count": 1,
   "id": "d3a0a0ae-a117-4138-acd6-23864773a1f5",
   "metadata": {},
   "outputs": [],
   "source": [
    "import pandas as pd\n",
    "import numpy as np\n",
    "import os\n",
    "from tqdm import tqdm\n",
    "\n",
    "from sklearn.feature_extraction.text import TfidfVectorizer\n",
    "import pickle\n",
    "from scipy.sparse import save_npz, load_npz\n",
    "\n",
    "from scipy.spatial.distance import cosine\n",
    "\n",
    "import preprocessing\n",
    "import tfidf_search"
   ]
  },
  {
   "cell_type": "code",
   "execution_count": 2,
   "id": "0a7660e7-4913-4232-b00f-c7eb9919ed49",
   "metadata": {},
   "outputs": [],
   "source": [
    "# load data from file\n",
    "df = pd.read_csv('data/processed/01_full_table.csv', index_col=0, sep='\\t', low_memory=False)"
   ]
  },
  {
   "cell_type": "code",
   "execution_count": 3,
   "id": "d4d1be1b-b9e2-46b1-80ff-be2983f10b1b",
   "metadata": {},
   "outputs": [],
   "source": [
    "# for now, just remove rows without a search_text\n",
    "df = df[df.search_text.notnull()]"
   ]
  },
  {
   "cell_type": "code",
   "execution_count": 31,
   "id": "353e19ac-65e4-4637-9f3b-5007a38f1c61",
   "metadata": {},
   "outputs": [
    {
     "data": {
      "text/plain": [
       "98473"
      ]
     },
     "execution_count": 31,
     "metadata": {},
     "output_type": "execute_result"
    }
   ],
   "source": [
    "# select only papers published in 2021\n",
    "df['publish_time'] = pd.to_datetime(df['publish_time'], errors='coerce')\n",
    "df_jan21 = df[df.publish_time.apply(lambda x: x.year == 2021)]\n",
    "len(df_jan21)"
   ]
  },
  {
   "cell_type": "code",
   "execution_count": 35,
   "id": "45ef986e-051a-4671-93c9-4c02af0cc06a",
   "metadata": {},
   "outputs": [
    {
     "name": "stdin",
     "output_type": "stream",
     "text": [
      "Files by that name already exist. Enter another prefix... 03_jan21\n"
     ]
    },
    {
     "name": "stdout",
     "output_type": "stream",
     "text": [
      "Vectorizer pickled at  data/processed/03_jan21_vectorizer.pkl\n",
      "Term-document matrix saved at  data/processed/03_jan21_tdm.npz\n"
     ]
    }
   ],
   "source": [
    "# create vectorizer and term-document matrix\n",
    "path = 'data/processed/'\n",
    "documents = df_jan21.search_text\n",
    "vectorizer, tdm = tfidf_search.tfidf_vectorize(documents, pickle_path=path,\n",
    "                                              save_files_prefix=\"03_jan21\")"
   ]
  },
  {
   "cell_type": "code",
   "execution_count": 43,
   "id": "24b25bc5-cc5d-4866-b1a9-3e2d65c68237",
   "metadata": {},
   "outputs": [],
   "source": [
    "# load query data and define uid index\n",
    "query_df = pd.read_csv('data/processed/questions_expert.csv', sep='\\t', index_col=0)\n",
    "index = df_jan21['cord_uid'].values"
   ]
  },
  {
   "cell_type": "code",
   "execution_count": 44,
   "id": "7c5f7734-d38f-4dd8-9aba-b6849d26ad8d",
   "metadata": {},
   "outputs": [
    {
     "name": "stderr",
     "output_type": "stream",
     "text": [
      "  0%|          | 122/98473 [00:00<01:20, 1217.59it/s]"
     ]
    },
    {
     "name": "stdout",
     "output_type": "stream",
     "text": [
      "Vectorized search query\n",
      "Computing document similarity...\n"
     ]
    },
    {
     "name": "stderr",
     "output_type": "stream",
     "text": [
      "100%|██████████| 98473/98473 [01:04<00:00, 1529.52it/s]\n",
      "  0%|          | 156/98473 [00:00<01:03, 1556.62it/s]"
     ]
    },
    {
     "name": "stdout",
     "output_type": "stream",
     "text": [
      "Complete\n",
      "Returned top 5 results.\n",
      "Search results saved to data/processed/03_jan21_q0_search_record.txt\n",
      "Vectorized search query\n",
      "Computing document similarity...\n"
     ]
    },
    {
     "name": "stderr",
     "output_type": "stream",
     "text": [
      "100%|██████████| 98473/98473 [01:05<00:00, 1492.20it/s]\n",
      "  0%|          | 139/98473 [00:00<01:10, 1389.20it/s]"
     ]
    },
    {
     "name": "stdout",
     "output_type": "stream",
     "text": [
      "Complete\n",
      "Returned top 5 results.\n",
      "Search results saved to data/processed/03_jan21_q1_search_record.txt\n",
      "Vectorized search query\n",
      "Computing document similarity...\n"
     ]
    },
    {
     "name": "stderr",
     "output_type": "stream",
     "text": [
      "100%|██████████| 98473/98473 [01:06<00:00, 1474.56it/s]\n",
      "  0%|          | 148/98473 [00:00<01:06, 1473.28it/s]"
     ]
    },
    {
     "name": "stdout",
     "output_type": "stream",
     "text": [
      "Complete\n",
      "Returned top 5 results.\n",
      "Search results saved to data/processed/03_jan21_q2_search_record.txt\n",
      "Vectorized search query\n",
      "Computing document similarity...\n"
     ]
    },
    {
     "name": "stderr",
     "output_type": "stream",
     "text": [
      "100%|██████████| 98473/98473 [01:15<00:00, 1308.87it/s]\n",
      "  0%|          | 88/98473 [00:00<01:53, 870.35it/s]"
     ]
    },
    {
     "name": "stdout",
     "output_type": "stream",
     "text": [
      "Complete\n",
      "Returned top 5 results.\n",
      "Search results saved to data/processed/03_jan21_q3_search_record.txt\n",
      "Vectorized search query\n",
      "Computing document similarity...\n"
     ]
    },
    {
     "name": "stderr",
     "output_type": "stream",
     "text": [
      "100%|██████████| 98473/98473 [01:01<00:00, 1597.38it/s]\n",
      "  0%|          | 142/98473 [00:00<01:09, 1413.58it/s]"
     ]
    },
    {
     "name": "stdout",
     "output_type": "stream",
     "text": [
      "Complete\n",
      "Returned top 5 results.\n",
      "Search results saved to data/processed/03_jan21_q4_search_record.txt\n",
      "Vectorized search query\n",
      "Computing document similarity...\n"
     ]
    },
    {
     "name": "stderr",
     "output_type": "stream",
     "text": [
      "100%|██████████| 98473/98473 [01:01<00:00, 1589.56it/s]\n",
      "  0%|          | 149/98473 [00:00<01:06, 1485.12it/s]"
     ]
    },
    {
     "name": "stdout",
     "output_type": "stream",
     "text": [
      "Complete\n",
      "Returned top 5 results.\n",
      "Search results saved to data/processed/03_jan21_q5_search_record.txt\n",
      "Vectorized search query\n",
      "Computing document similarity...\n"
     ]
    },
    {
     "name": "stderr",
     "output_type": "stream",
     "text": [
      "100%|██████████| 98473/98473 [01:01<00:00, 1605.82it/s]\n",
      "  0%|          | 150/98473 [00:00<01:05, 1493.56it/s]"
     ]
    },
    {
     "name": "stdout",
     "output_type": "stream",
     "text": [
      "Complete\n",
      "Returned top 5 results.\n",
      "Search results saved to data/processed/03_jan21_q6_search_record.txt\n",
      "Vectorized search query\n",
      "Computing document similarity...\n"
     ]
    },
    {
     "name": "stderr",
     "output_type": "stream",
     "text": [
      "100%|██████████| 98473/98473 [01:01<00:00, 1611.39it/s]\n",
      "  0%|          | 147/98473 [00:00<01:07, 1462.72it/s]"
     ]
    },
    {
     "name": "stdout",
     "output_type": "stream",
     "text": [
      "Complete\n",
      "Returned top 5 results.\n",
      "Search results saved to data/processed/03_jan21_q7_search_record.txt\n",
      "Vectorized search query\n",
      "Computing document similarity...\n"
     ]
    },
    {
     "name": "stderr",
     "output_type": "stream",
     "text": [
      "100%|██████████| 98473/98473 [01:01<00:00, 1611.36it/s]\n",
      "  0%|          | 153/98473 [00:00<01:04, 1523.77it/s]"
     ]
    },
    {
     "name": "stdout",
     "output_type": "stream",
     "text": [
      "Complete\n",
      "Returned top 5 results.\n",
      "Search results saved to data/processed/03_jan21_q8_search_record.txt\n",
      "Vectorized search query\n",
      "Computing document similarity...\n"
     ]
    },
    {
     "name": "stderr",
     "output_type": "stream",
     "text": [
      "100%|██████████| 98473/98473 [01:00<00:00, 1615.09it/s]\n",
      "  0%|          | 151/98473 [00:00<01:05, 1507.93it/s]"
     ]
    },
    {
     "name": "stdout",
     "output_type": "stream",
     "text": [
      "Complete\n",
      "Returned top 5 results.\n",
      "Search results saved to data/processed/03_jan21_q9_search_record.txt\n",
      "Vectorized search query\n",
      "Computing document similarity...\n"
     ]
    },
    {
     "name": "stderr",
     "output_type": "stream",
     "text": [
      "100%|██████████| 98473/98473 [01:01<00:00, 1605.86it/s]\n",
      "  0%|          | 151/98473 [00:00<01:05, 1507.79it/s]"
     ]
    },
    {
     "name": "stdout",
     "output_type": "stream",
     "text": [
      "Complete\n",
      "Returned top 5 results.\n",
      "Search results saved to data/processed/03_jan21_q10_search_record.txt\n",
      "Vectorized search query\n",
      "Computing document similarity...\n"
     ]
    },
    {
     "name": "stderr",
     "output_type": "stream",
     "text": [
      "100%|██████████| 98473/98473 [01:06<00:00, 1477.85it/s]\n",
      "  0%|          | 0/98473 [00:00<?, ?it/s]"
     ]
    },
    {
     "name": "stdout",
     "output_type": "stream",
     "text": [
      "Complete\n",
      "Returned top 5 results.\n",
      "Search results saved to data/processed/03_jan21_q11_search_record.txt\n",
      "Vectorized search query\n",
      "Computing document similarity...\n"
     ]
    },
    {
     "name": "stderr",
     "output_type": "stream",
     "text": [
      "100%|██████████| 98473/98473 [01:58<00:00, 831.38it/s]\n",
      "  0%|          | 0/98473 [00:00<?, ?it/s]"
     ]
    },
    {
     "name": "stdout",
     "output_type": "stream",
     "text": [
      "Complete\n",
      "Returned top 5 results.\n",
      "Search results saved to data/processed/03_jan21_q12_search_record.txt\n",
      "Vectorized search query\n",
      "Computing document similarity...\n"
     ]
    },
    {
     "name": "stderr",
     "output_type": "stream",
     "text": [
      "100%|██████████| 98473/98473 [01:54<00:00, 858.89it/s]\n",
      "  0%|          | 0/98473 [00:00<?, ?it/s]"
     ]
    },
    {
     "name": "stdout",
     "output_type": "stream",
     "text": [
      "Complete\n",
      "Returned top 5 results.\n",
      "Search results saved to data/processed/03_jan21_q13_search_record.txt\n",
      "Vectorized search query\n",
      "Computing document similarity...\n"
     ]
    },
    {
     "name": "stderr",
     "output_type": "stream",
     "text": [
      "100%|██████████| 98473/98473 [01:55<00:00, 851.90it/s] \n",
      "  0%|          | 0/98473 [00:00<?, ?it/s]"
     ]
    },
    {
     "name": "stdout",
     "output_type": "stream",
     "text": [
      "Complete\n",
      "Returned top 5 results.\n",
      "Search results saved to data/processed/03_jan21_q14_search_record.txt\n",
      "Vectorized search query\n",
      "Computing document similarity...\n"
     ]
    },
    {
     "name": "stderr",
     "output_type": "stream",
     "text": [
      "100%|██████████| 98473/98473 [01:59<00:00, 822.60it/s]\n",
      "  0%|          | 0/98473 [00:00<?, ?it/s]"
     ]
    },
    {
     "name": "stdout",
     "output_type": "stream",
     "text": [
      "Complete\n",
      "Returned top 5 results.\n",
      "Search results saved to data/processed/03_jan21_q15_search_record.txt\n",
      "Vectorized search query\n",
      "Computing document similarity...\n"
     ]
    },
    {
     "name": "stderr",
     "output_type": "stream",
     "text": [
      "100%|██████████| 98473/98473 [01:55<00:00, 855.17it/s]\n",
      "  0%|          | 0/98473 [00:00<?, ?it/s]"
     ]
    },
    {
     "name": "stdout",
     "output_type": "stream",
     "text": [
      "Complete\n",
      "Returned top 5 results.\n",
      "Search results saved to data/processed/03_jan21_q16_search_record.txt\n",
      "Vectorized search query\n",
      "Computing document similarity...\n"
     ]
    },
    {
     "name": "stderr",
     "output_type": "stream",
     "text": [
      "100%|██████████| 98473/98473 [01:54<00:00, 856.47it/s]\n",
      "  0%|          | 0/98473 [00:00<?, ?it/s]"
     ]
    },
    {
     "name": "stdout",
     "output_type": "stream",
     "text": [
      "Complete\n",
      "Returned top 5 results.\n",
      "Search results saved to data/processed/03_jan21_q17_search_record.txt\n",
      "Vectorized search query\n",
      "Computing document similarity...\n"
     ]
    },
    {
     "name": "stderr",
     "output_type": "stream",
     "text": [
      "100%|██████████| 98473/98473 [01:54<00:00, 857.20it/s] \n",
      "  0%|          | 0/98473 [00:00<?, ?it/s]"
     ]
    },
    {
     "name": "stdout",
     "output_type": "stream",
     "text": [
      "Complete\n",
      "Returned top 5 results.\n",
      "Search results saved to data/processed/03_jan21_q18_search_record.txt\n",
      "Vectorized search query\n",
      "Computing document similarity...\n"
     ]
    },
    {
     "name": "stderr",
     "output_type": "stream",
     "text": [
      "100%|██████████| 98473/98473 [01:54<00:00, 859.42it/s]\n",
      "  0%|          | 0/98473 [00:00<?, ?it/s]"
     ]
    },
    {
     "name": "stdout",
     "output_type": "stream",
     "text": [
      "Complete\n",
      "Returned top 5 results.\n",
      "Search results saved to data/processed/03_jan21_q19_search_record.txt\n",
      "Vectorized search query\n",
      "Computing document similarity...\n"
     ]
    },
    {
     "name": "stderr",
     "output_type": "stream",
     "text": [
      "100%|██████████| 98473/98473 [01:55<00:00, 855.67it/s] \n",
      "  0%|          | 0/98473 [00:00<?, ?it/s]"
     ]
    },
    {
     "name": "stdout",
     "output_type": "stream",
     "text": [
      "Complete\n",
      "Returned top 5 results.\n",
      "Search results saved to data/processed/03_jan21_q20_search_record.txt\n",
      "Vectorized search query\n",
      "Computing document similarity...\n"
     ]
    },
    {
     "name": "stderr",
     "output_type": "stream",
     "text": [
      "100%|██████████| 98473/98473 [01:55<00:00, 853.63it/s]\n",
      "  0%|          | 0/98473 [00:00<?, ?it/s]"
     ]
    },
    {
     "name": "stdout",
     "output_type": "stream",
     "text": [
      "Complete\n",
      "Returned top 5 results.\n",
      "Search results saved to data/processed/03_jan21_q21_search_record.txt\n",
      "Vectorized search query\n",
      "Computing document similarity...\n"
     ]
    },
    {
     "name": "stderr",
     "output_type": "stream",
     "text": [
      "100%|██████████| 98473/98473 [01:55<00:00, 855.55it/s] \n",
      "  0%|          | 0/98473 [00:00<?, ?it/s]"
     ]
    },
    {
     "name": "stdout",
     "output_type": "stream",
     "text": [
      "Complete\n",
      "Returned top 5 results.\n",
      "Search results saved to data/processed/03_jan21_q22_search_record.txt\n",
      "Vectorized search query\n",
      "Computing document similarity...\n"
     ]
    },
    {
     "name": "stderr",
     "output_type": "stream",
     "text": [
      "100%|██████████| 98473/98473 [02:19<00:00, 706.51it/s] \n",
      "  0%|          | 0/98473 [00:00<?, ?it/s]"
     ]
    },
    {
     "name": "stdout",
     "output_type": "stream",
     "text": [
      "Complete\n",
      "Returned top 5 results.\n",
      "Search results saved to data/processed/03_jan21_q23_search_record.txt\n",
      "Vectorized search query\n",
      "Computing document similarity...\n"
     ]
    },
    {
     "name": "stderr",
     "output_type": "stream",
     "text": [
      "100%|██████████| 98473/98473 [01:57<00:00, 838.11it/s]\n",
      "  0%|          | 0/98473 [00:00<?, ?it/s]"
     ]
    },
    {
     "name": "stdout",
     "output_type": "stream",
     "text": [
      "Complete\n",
      "Returned top 5 results.\n",
      "Search results saved to data/processed/03_jan21_q24_search_record.txt\n",
      "Vectorized search query\n",
      "Computing document similarity...\n"
     ]
    },
    {
     "name": "stderr",
     "output_type": "stream",
     "text": [
      "100%|██████████| 98473/98473 [01:55<00:00, 850.14it/s]\n",
      "  0%|          | 0/98473 [00:00<?, ?it/s]"
     ]
    },
    {
     "name": "stdout",
     "output_type": "stream",
     "text": [
      "Complete\n",
      "Returned top 5 results.\n",
      "Search results saved to data/processed/03_jan21_q25_search_record.txt\n",
      "Vectorized search query\n",
      "Computing document similarity...\n"
     ]
    },
    {
     "name": "stderr",
     "output_type": "stream",
     "text": [
      "100%|██████████| 98473/98473 [01:55<00:00, 849.76it/s]\n",
      "  0%|          | 0/98473 [00:00<?, ?it/s]"
     ]
    },
    {
     "name": "stdout",
     "output_type": "stream",
     "text": [
      "Complete\n",
      "Returned top 5 results.\n",
      "Search results saved to data/processed/03_jan21_q26_search_record.txt\n",
      "Vectorized search query\n",
      "Computing document similarity...\n"
     ]
    },
    {
     "name": "stderr",
     "output_type": "stream",
     "text": [
      "100%|██████████| 98473/98473 [01:56<00:00, 847.96it/s]\n",
      "  0%|          | 0/98473 [00:00<?, ?it/s]"
     ]
    },
    {
     "name": "stdout",
     "output_type": "stream",
     "text": [
      "Complete\n",
      "Returned top 5 results.\n",
      "Search results saved to data/processed/03_jan21_q27_search_record.txt\n",
      "Vectorized search query\n",
      "Computing document similarity...\n"
     ]
    },
    {
     "name": "stderr",
     "output_type": "stream",
     "text": [
      "100%|██████████| 98473/98473 [01:55<00:00, 852.35it/s]\n",
      "  0%|          | 0/98473 [00:00<?, ?it/s]"
     ]
    },
    {
     "name": "stdout",
     "output_type": "stream",
     "text": [
      "Complete\n",
      "Returned top 5 results.\n",
      "Search results saved to data/processed/03_jan21_q28_search_record.txt\n",
      "Vectorized search query\n",
      "Computing document similarity...\n"
     ]
    },
    {
     "name": "stderr",
     "output_type": "stream",
     "text": [
      "100%|██████████| 98473/98473 [01:55<00:00, 849.24it/s]\n"
     ]
    },
    {
     "name": "stdout",
     "output_type": "stream",
     "text": [
      "Complete\n",
      "Returned top 5 results.\n",
      "Search results saved to data/processed/03_jan21_q29_search_record.txt\n"
     ]
    }
   ],
   "source": [
    "# iterate through all questions\n",
    "queries = query_df.question.values\n",
    "for i in range(len(queries)):\n",
    "    query = queries[i]\n",
    "    uids = tfidf_search.tfidf_search(query, vectorizer, tdm, index)\n",
    "    tfidf_search.write_details(query, uids, df_jan21, f'03_jan21_q{i}', 'data/processed/')"
   ]
  },
  {
   "cell_type": "markdown",
   "id": "21f5a341-9e34-4ebc-9f1e-917d11804aab",
   "metadata": {},
   "source": [
    "## Consumer questions"
   ]
  },
  {
   "cell_type": "code",
   "execution_count": 46,
   "id": "0c20a64b-2178-48c1-9abf-ce9b94778070",
   "metadata": {},
   "outputs": [],
   "source": [
    "# load query data and define uid index\n",
    "query_consumers = pd.read_csv('data/processed/questions_consumer.csv', sep='\\t', index_col=0)\n",
    "index = df_jan21['cord_uid'].values\n",
    "queries = query_consumers.question.values"
   ]
  },
  {
   "cell_type": "code",
   "execution_count": 48,
   "id": "421c4691-f636-4819-8ad3-00407980e9c8",
   "metadata": {},
   "outputs": [
    {
     "name": "stderr",
     "output_type": "stream",
     "text": [
      "  0%|          | 80/98473 [00:00<02:04, 793.18it/s]"
     ]
    },
    {
     "name": "stdout",
     "output_type": "stream",
     "text": [
      "Vectorized search query\n",
      "Computing document similarity...\n"
     ]
    },
    {
     "name": "stderr",
     "output_type": "stream",
     "text": [
      "100%|██████████| 98473/98473 [01:11<00:00, 1381.01it/s]\n",
      "  0%|          | 170/98473 [00:00<00:58, 1691.22it/s]"
     ]
    },
    {
     "name": "stdout",
     "output_type": "stream",
     "text": [
      "Complete\n",
      "Returned top 5 results.\n",
      "Search results saved to data/processed/03_jan21_consumer_q0_search_record.txt\n",
      "Vectorized search query\n",
      "Computing document similarity...\n"
     ]
    },
    {
     "name": "stderr",
     "output_type": "stream",
     "text": [
      "100%|██████████| 98473/98473 [01:00<00:00, 1637.72it/s]\n",
      "  0%|          | 134/98473 [00:00<01:13, 1337.26it/s]"
     ]
    },
    {
     "name": "stdout",
     "output_type": "stream",
     "text": [
      "Complete\n",
      "Returned top 5 results.\n",
      "Search results saved to data/processed/03_jan21_consumer_q1_search_record.txt\n",
      "Vectorized search query\n",
      "Computing document similarity...\n"
     ]
    },
    {
     "name": "stderr",
     "output_type": "stream",
     "text": [
      "100%|██████████| 98473/98473 [01:00<00:00, 1630.62it/s]\n",
      "  0%|          | 168/98473 [00:00<00:58, 1678.23it/s]"
     ]
    },
    {
     "name": "stdout",
     "output_type": "stream",
     "text": [
      "Complete\n",
      "Returned top 5 results.\n",
      "Search results saved to data/processed/03_jan21_consumer_q2_search_record.txt\n",
      "Vectorized search query\n",
      "Computing document similarity...\n"
     ]
    },
    {
     "name": "stderr",
     "output_type": "stream",
     "text": [
      "100%|██████████| 98473/98473 [01:02<00:00, 1567.32it/s]\n",
      "  0%|          | 183/98473 [00:00<00:53, 1827.05it/s]"
     ]
    },
    {
     "name": "stdout",
     "output_type": "stream",
     "text": [
      "Complete\n",
      "Returned top 5 results.\n",
      "Search results saved to data/processed/03_jan21_consumer_q3_search_record.txt\n",
      "Vectorized search query\n",
      "Computing document similarity...\n"
     ]
    },
    {
     "name": "stderr",
     "output_type": "stream",
     "text": [
      "100%|██████████| 98473/98473 [00:55<00:00, 1758.54it/s]\n",
      "  0%|          | 180/98473 [00:00<00:54, 1798.01it/s]"
     ]
    },
    {
     "name": "stdout",
     "output_type": "stream",
     "text": [
      "Complete\n",
      "Returned top 5 results.\n",
      "Search results saved to data/processed/03_jan21_consumer_q4_search_record.txt\n",
      "Vectorized search query\n",
      "Computing document similarity...\n"
     ]
    },
    {
     "name": "stderr",
     "output_type": "stream",
     "text": [
      "100%|██████████| 98473/98473 [01:01<00:00, 1593.60it/s]\n",
      "  0%|          | 170/98473 [00:00<00:57, 1698.29it/s]"
     ]
    },
    {
     "name": "stdout",
     "output_type": "stream",
     "text": [
      "Complete\n",
      "Returned top 5 results.\n",
      "Search results saved to data/processed/03_jan21_consumer_q5_search_record.txt\n",
      "Vectorized search query\n",
      "Computing document similarity...\n"
     ]
    },
    {
     "name": "stderr",
     "output_type": "stream",
     "text": [
      "100%|██████████| 98473/98473 [00:56<00:00, 1754.21it/s]\n",
      "  0%|          | 182/98473 [00:00<00:54, 1815.10it/s]"
     ]
    },
    {
     "name": "stdout",
     "output_type": "stream",
     "text": [
      "Complete\n",
      "Returned top 5 results.\n",
      "Search results saved to data/processed/03_jan21_consumer_q6_search_record.txt\n",
      "Vectorized search query\n",
      "Computing document similarity...\n"
     ]
    },
    {
     "name": "stderr",
     "output_type": "stream",
     "text": [
      "100%|██████████| 98473/98473 [00:55<00:00, 1781.05it/s]\n",
      "  0%|          | 187/98473 [00:00<00:52, 1855.36it/s]"
     ]
    },
    {
     "name": "stdout",
     "output_type": "stream",
     "text": [
      "Complete\n",
      "Returned top 5 results.\n",
      "Search results saved to data/processed/03_jan21_consumer_q7_search_record.txt\n",
      "Vectorized search query\n",
      "Computing document similarity...\n"
     ]
    },
    {
     "name": "stderr",
     "output_type": "stream",
     "text": [
      "100%|██████████| 98473/98473 [00:57<00:00, 1720.26it/s]\n",
      "  0%|          | 183/98473 [00:00<00:53, 1822.48it/s]"
     ]
    },
    {
     "name": "stdout",
     "output_type": "stream",
     "text": [
      "Complete\n",
      "Returned top 5 results.\n",
      "Search results saved to data/processed/03_jan21_consumer_q8_search_record.txt\n",
      "Vectorized search query\n",
      "Computing document similarity...\n"
     ]
    },
    {
     "name": "stderr",
     "output_type": "stream",
     "text": [
      "100%|██████████| 98473/98473 [00:59<00:00, 1655.01it/s]\n",
      "  0%|          | 154/98473 [00:00<01:03, 1537.64it/s]"
     ]
    },
    {
     "name": "stdout",
     "output_type": "stream",
     "text": [
      "Complete\n",
      "Returned top 5 results.\n",
      "Search results saved to data/processed/03_jan21_consumer_q9_search_record.txt\n",
      "Vectorized search query\n",
      "Computing document similarity...\n"
     ]
    },
    {
     "name": "stderr",
     "output_type": "stream",
     "text": [
      "100%|██████████| 98473/98473 [01:48<00:00, 911.78it/s] \n",
      "  0%|          | 0/98473 [00:00<?, ?it/s]"
     ]
    },
    {
     "name": "stdout",
     "output_type": "stream",
     "text": [
      "Complete\n",
      "Returned top 5 results.\n",
      "Search results saved to data/processed/03_jan21_consumer_q10_search_record.txt\n",
      "Vectorized search query\n",
      "Computing document similarity...\n"
     ]
    },
    {
     "name": "stderr",
     "output_type": "stream",
     "text": [
      "100%|██████████| 98473/98473 [01:09<00:00, 1423.10it/s]\n",
      "  0%|          | 154/98473 [00:00<01:03, 1536.30it/s]"
     ]
    },
    {
     "name": "stdout",
     "output_type": "stream",
     "text": [
      "Complete\n",
      "Returned top 5 results.\n",
      "Search results saved to data/processed/03_jan21_consumer_q11_search_record.txt\n",
      "Vectorized search query\n",
      "Computing document similarity...\n"
     ]
    },
    {
     "name": "stderr",
     "output_type": "stream",
     "text": [
      "100%|██████████| 98473/98473 [01:02<00:00, 1568.74it/s]\n",
      "  0%|          | 144/98473 [00:00<01:08, 1436.00it/s]"
     ]
    },
    {
     "name": "stdout",
     "output_type": "stream",
     "text": [
      "Complete\n",
      "Returned top 5 results.\n",
      "Search results saved to data/processed/03_jan21_consumer_q12_search_record.txt\n",
      "Vectorized search query\n",
      "Computing document similarity...\n"
     ]
    },
    {
     "name": "stderr",
     "output_type": "stream",
     "text": [
      "100%|██████████| 98473/98473 [01:04<00:00, 1516.39it/s]\n",
      "  0%|          | 168/98473 [00:00<00:58, 1679.41it/s]"
     ]
    },
    {
     "name": "stdout",
     "output_type": "stream",
     "text": [
      "Complete\n",
      "Returned top 5 results.\n",
      "Search results saved to data/processed/03_jan21_consumer_q13_search_record.txt\n",
      "Vectorized search query\n",
      "Computing document similarity...\n"
     ]
    },
    {
     "name": "stderr",
     "output_type": "stream",
     "text": [
      "100%|██████████| 98473/98473 [00:59<00:00, 1664.70it/s]\n",
      "  0%|          | 157/98473 [00:00<01:02, 1562.75it/s]"
     ]
    },
    {
     "name": "stdout",
     "output_type": "stream",
     "text": [
      "Complete\n",
      "Returned top 5 results.\n",
      "Search results saved to data/processed/03_jan21_consumer_q14_search_record.txt\n",
      "Vectorized search query\n",
      "Computing document similarity...\n"
     ]
    },
    {
     "name": "stderr",
     "output_type": "stream",
     "text": [
      "100%|██████████| 98473/98473 [00:59<00:00, 1658.09it/s]\n",
      "  0%|          | 175/98473 [00:00<00:56, 1746.58it/s]"
     ]
    },
    {
     "name": "stdout",
     "output_type": "stream",
     "text": [
      "Complete\n",
      "Returned top 5 results.\n",
      "Search results saved to data/processed/03_jan21_consumer_q15_search_record.txt\n",
      "Vectorized search query\n",
      "Computing document similarity...\n"
     ]
    },
    {
     "name": "stderr",
     "output_type": "stream",
     "text": [
      "100%|██████████| 98473/98473 [01:03<00:00, 1540.44it/s]\n",
      "  0%|          | 181/98473 [00:00<00:54, 1807.95it/s]"
     ]
    },
    {
     "name": "stdout",
     "output_type": "stream",
     "text": [
      "Complete\n",
      "Returned top 5 results.\n",
      "Search results saved to data/processed/03_jan21_consumer_q16_search_record.txt\n",
      "Vectorized search query\n",
      "Computing document similarity...\n"
     ]
    },
    {
     "name": "stderr",
     "output_type": "stream",
     "text": [
      "100%|██████████| 98473/98473 [01:15<00:00, 1304.61it/s]\n",
      "  0%|          | 120/98473 [00:00<01:22, 1195.84it/s]"
     ]
    },
    {
     "name": "stdout",
     "output_type": "stream",
     "text": [
      "Complete\n",
      "Returned top 5 results.\n",
      "Search results saved to data/processed/03_jan21_consumer_q17_search_record.txt\n",
      "Vectorized search query\n",
      "Computing document similarity...\n"
     ]
    },
    {
     "name": "stderr",
     "output_type": "stream",
     "text": [
      "100%|██████████| 98473/98473 [01:07<00:00, 1458.20it/s]\n",
      "  0%|          | 152/98473 [00:00<01:04, 1518.10it/s]"
     ]
    },
    {
     "name": "stdout",
     "output_type": "stream",
     "text": [
      "Complete\n",
      "Returned top 5 results.\n",
      "Search results saved to data/processed/03_jan21_consumer_q18_search_record.txt\n",
      "Vectorized search query\n",
      "Computing document similarity...\n"
     ]
    },
    {
     "name": "stderr",
     "output_type": "stream",
     "text": [
      "100%|██████████| 98473/98473 [01:06<00:00, 1491.27it/s]\n",
      "  0%|          | 111/98473 [00:00<01:28, 1105.77it/s]"
     ]
    },
    {
     "name": "stdout",
     "output_type": "stream",
     "text": [
      "Complete\n",
      "Returned top 5 results.\n",
      "Search results saved to data/processed/03_jan21_consumer_q19_search_record.txt\n",
      "Vectorized search query\n",
      "Computing document similarity...\n"
     ]
    },
    {
     "name": "stderr",
     "output_type": "stream",
     "text": [
      "100%|██████████| 98473/98473 [01:01<00:00, 1612.29it/s]\n",
      "  0%|          | 159/98473 [00:00<01:01, 1585.84it/s]"
     ]
    },
    {
     "name": "stdout",
     "output_type": "stream",
     "text": [
      "Complete\n",
      "Returned top 5 results.\n",
      "Search results saved to data/processed/03_jan21_consumer_q20_search_record.txt\n",
      "Vectorized search query\n",
      "Computing document similarity...\n"
     ]
    },
    {
     "name": "stderr",
     "output_type": "stream",
     "text": [
      "100%|██████████| 98473/98473 [00:59<00:00, 1655.57it/s]\n",
      "  0%|          | 176/98473 [00:00<00:55, 1756.54it/s]"
     ]
    },
    {
     "name": "stdout",
     "output_type": "stream",
     "text": [
      "Complete\n",
      "Returned top 5 results.\n",
      "Search results saved to data/processed/03_jan21_consumer_q21_search_record.txt\n",
      "Vectorized search query\n",
      "Computing document similarity...\n"
     ]
    },
    {
     "name": "stderr",
     "output_type": "stream",
     "text": [
      "100%|██████████| 98473/98473 [01:01<00:00, 1607.31it/s]\n",
      "  0%|          | 161/98473 [00:00<01:01, 1606.84it/s]"
     ]
    },
    {
     "name": "stdout",
     "output_type": "stream",
     "text": [
      "Complete\n",
      "Returned top 5 results.\n",
      "Search results saved to data/processed/03_jan21_consumer_q22_search_record.txt\n",
      "Vectorized search query\n",
      "Computing document similarity...\n"
     ]
    },
    {
     "name": "stderr",
     "output_type": "stream",
     "text": [
      "100%|██████████| 98473/98473 [01:03<00:00, 1543.96it/s]\n",
      "  0%|          | 156/98473 [00:00<01:03, 1553.08it/s]"
     ]
    },
    {
     "name": "stdout",
     "output_type": "stream",
     "text": [
      "Complete\n",
      "Returned top 5 results.\n",
      "Search results saved to data/processed/03_jan21_consumer_q23_search_record.txt\n",
      "Vectorized search query\n",
      "Computing document similarity...\n"
     ]
    },
    {
     "name": "stderr",
     "output_type": "stream",
     "text": [
      "100%|██████████| 98473/98473 [01:17<00:00, 1274.97it/s]\n",
      "  0%|          | 0/98473 [00:00<?, ?it/s]"
     ]
    },
    {
     "name": "stdout",
     "output_type": "stream",
     "text": [
      "Complete\n",
      "Returned top 5 results.\n",
      "Search results saved to data/processed/03_jan21_consumer_q24_search_record.txt\n",
      "Vectorized search query\n",
      "Computing document similarity...\n"
     ]
    },
    {
     "name": "stderr",
     "output_type": "stream",
     "text": [
      "100%|██████████| 98473/98473 [01:08<00:00, 1435.53it/s]\n",
      "  0%|          | 120/98473 [00:00<01:22, 1186.95it/s]"
     ]
    },
    {
     "name": "stdout",
     "output_type": "stream",
     "text": [
      "Complete\n",
      "Returned top 5 results.\n",
      "Search results saved to data/processed/03_jan21_consumer_q25_search_record.txt\n",
      "Vectorized search query\n",
      "Computing document similarity...\n"
     ]
    },
    {
     "name": "stderr",
     "output_type": "stream",
     "text": [
      "100%|██████████| 98473/98473 [01:06<00:00, 1485.11it/s]\n",
      "  0%|          | 144/98473 [00:00<01:08, 1432.54it/s]"
     ]
    },
    {
     "name": "stdout",
     "output_type": "stream",
     "text": [
      "Complete\n",
      "Returned top 5 results.\n",
      "Search results saved to data/processed/03_jan21_consumer_q26_search_record.txt\n",
      "Vectorized search query\n",
      "Computing document similarity...\n"
     ]
    },
    {
     "name": "stderr",
     "output_type": "stream",
     "text": [
      "100%|██████████| 98473/98473 [01:05<00:00, 1500.64it/s]\n",
      "  0%|          | 151/98473 [00:00<01:05, 1502.58it/s]"
     ]
    },
    {
     "name": "stdout",
     "output_type": "stream",
     "text": [
      "Complete\n",
      "Returned top 5 results.\n",
      "Search results saved to data/processed/03_jan21_consumer_q27_search_record.txt\n",
      "Vectorized search query\n",
      "Computing document similarity...\n"
     ]
    },
    {
     "name": "stderr",
     "output_type": "stream",
     "text": [
      "100%|██████████| 98473/98473 [01:03<00:00, 1553.27it/s]\n",
      "  0%|          | 150/98473 [00:00<01:05, 1497.36it/s]"
     ]
    },
    {
     "name": "stdout",
     "output_type": "stream",
     "text": [
      "Complete\n",
      "Returned top 5 results.\n",
      "Search results saved to data/processed/03_jan21_consumer_q28_search_record.txt\n",
      "Vectorized search query\n",
      "Computing document similarity...\n"
     ]
    },
    {
     "name": "stderr",
     "output_type": "stream",
     "text": [
      "100%|██████████| 98473/98473 [01:04<00:00, 1517.57it/s]\n"
     ]
    },
    {
     "name": "stdout",
     "output_type": "stream",
     "text": [
      "Complete\n",
      "Returned top 5 results.\n",
      "Search results saved to data/processed/03_jan21_consumer_q29_search_record.txt\n"
     ]
    }
   ],
   "source": [
    "for i in range(len(queries)):\n",
    "    query = queries[i]\n",
    "    uids = tfidf_search.tfidf_search(query, vectorizer, tdm, index)\n",
    "    tfidf_search.write_details(query, uids, df_jan21, f'03_jan21_consumer_q{i}', 'data/processed/')"
   ]
  },
  {
   "cell_type": "code",
   "execution_count": null,
   "id": "c5d4b5cb-e523-4cbe-bb6e-9ec3cfceb967",
   "metadata": {},
   "outputs": [],
   "source": []
  }
 ],
 "metadata": {
  "kernelspec": {
   "display_name": "Python 3",
   "language": "python",
   "name": "python3"
  },
  "language_info": {
   "codemirror_mode": {
    "name": "ipython",
    "version": 3
   },
   "file_extension": ".py",
   "mimetype": "text/x-python",
   "name": "python",
   "nbconvert_exporter": "python",
   "pygments_lexer": "ipython3",
   "version": "3.9.4"
  }
 },
 "nbformat": 4,
 "nbformat_minor": 5
}
