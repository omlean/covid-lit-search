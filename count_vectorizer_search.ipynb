{
 "cells": [
  {
   "cell_type": "markdown",
   "id": "b8cd64fb-2627-42f0-813f-5f62b46d0048",
   "metadata": {},
   "source": [
    "### Count vectorizer search\n",
    "Search system based on simple word counts in query and targets"
   ]
  },
  {
   "cell_type": "code",
   "execution_count": 1,
   "id": "f41537eb-ff86-40f6-9fb6-03272cf69fc1",
   "metadata": {},
   "outputs": [],
   "source": [
    "import pandas as pd\n",
    "import numpy as np\n",
    "import os\n",
    "import pickle\n",
    "\n",
    "from scipy.sparse import save_npz, load_npz\n",
    "from sklearn.feature_extraction.text import CountVectorizer\n",
    "\n",
    "import preprocessing\n",
    "import tfidf_search"
   ]
  },
  {
   "cell_type": "code",
   "execution_count": 2,
   "id": "79082dcc-310e-49f6-80c9-bce52ad7714c",
   "metadata": {},
   "outputs": [],
   "source": [
    "def count_vectorize(documents, pickle_path=None, save_files_prefix=\"\"):\n",
    "    \"\"\"Input:\n",
    "    documents: Series or List of strings to vectorize\n",
    "    pickle_path: path of directory to save vectorizer and term-document matrix, e.g. 'data/processed/'\n",
    "    save_files_prefix: prefix for saved files. For example, passing \"01\" will produce files '01_vectorizer.pkl' and '01_tdm.npz'\n",
    "    \n",
    "    Output: Fit vectorizer and term-document matrix\"\"\"\n",
    "    \n",
    "    vectorizer = CountVectorizer()\n",
    "    vectorizer.fit(documents)\n",
    "    tdm = vectorizer.transform(documents)\n",
    "    \n",
    "    if pickle_path is not None: # save vectorizer and term-document matrix\n",
    "        \n",
    "        # if files by that name already exist, prompt user to choose another prefix. Repeats if new input still exists\n",
    "        while os.path.exists(pickle_path + save_files_prefix + \"_vectorizer.pkl\"):\n",
    "            save_files_prefix = input(\"Files by that name already exist. Enter another prefix...\")\n",
    "        \n",
    "        vec_path = pickle_path + save_files_prefix + \"_vectorizer.pkl\"\n",
    "        \n",
    "        with open(vec_path, 'wb') as file: # pickle vectorizer\n",
    "            pickle.dump(vectorizer, file)\n",
    "        print('Vectorizer pickled at ', vec_path)\n",
    "        \n",
    "        tdm_path = pickle_path + save_files_prefix + \"_tdm.npz\"\n",
    "        save_npz(tdm_path, tdm) # save term-document matrix\n",
    "        print('Term-document matrix saved at ', tdm_path)\n",
    "\n",
    "    return vectorizer, tdm"
   ]
  },
  {
   "cell_type": "code",
   "execution_count": 3,
   "id": "a48d6189-0192-43f7-a120-6b62630d6fc4",
   "metadata": {},
   "outputs": [],
   "source": [
    "path = 'data/processed/04_jan21_full_table.csv'\n",
    "df = pd.read_csv(path, sep='\\t', index_col=0, low_memory=False)"
   ]
  },
  {
   "cell_type": "code",
   "execution_count": 4,
   "id": "2dd00114-762e-4ce5-99fd-b9f77a354d2e",
   "metadata": {},
   "outputs": [
    {
     "data": {
      "text/plain": [
       "72326"
      ]
     },
     "execution_count": 4,
     "metadata": {},
     "output_type": "execute_result"
    }
   ],
   "source": [
    "len(df)"
   ]
  },
  {
   "cell_type": "markdown",
   "id": "40a2a59b-49de-4ee9-9470-5d131d0463ce",
   "metadata": {},
   "source": [
    "### Vectorize search texts"
   ]
  },
  {
   "cell_type": "code",
   "execution_count": 5,
   "id": "1cb3f330-42bf-4520-8085-d37007f05150",
   "metadata": {},
   "outputs": [
    {
     "name": "stdin",
     "output_type": "stream",
     "text": [
      "Files by that name already exist. Enter another prefix... cv_jan21\n"
     ]
    },
    {
     "name": "stdout",
     "output_type": "stream",
     "text": [
      "Vectorizer pickled at  data/processed/cv_jan21_vectorizer.pkl\n",
      "Term-document matrix saved at  data/processed/cv_jan21_tdm.npz\n"
     ]
    }
   ],
   "source": [
    "documents = df.search_text.tolist()\n",
    "path = 'data/processed/'\n",
    "vectorizer, tdm = count_vectorize(documents, pickle_path=path, save_files_prefix=\"cv_jan21\")"
   ]
  },
  {
   "cell_type": "markdown",
   "id": "958650ce-84ac-4103-9098-4465eaba953a",
   "metadata": {},
   "source": [
    "### Perform searches"
   ]
  },
  {
   "cell_type": "code",
   "execution_count": 6,
   "id": "1286e62d-84a6-4827-b7d9-e8bdbc8f9900",
   "metadata": {},
   "outputs": [],
   "source": [
    "# load vectorizer and tdm\n",
    "path = 'data/processed/cv_jan21_vectorizer.pkl'\n",
    "vectorizer = tfidf_search.load_vectorizer(path)\n",
    "tdm = load_npz('data/processed/cv_jan21_tdm.npz')\n",
    "questions = pd.read_csv('data/processed/questions_expert.csv', sep='\\t').question.tolist()\n",
    "index = df.cord_uid.tolist()"
   ]
  },
  {
   "cell_type": "code",
   "execution_count": null,
   "id": "4e5801ad-7d08-403a-893c-891640a3de3c",
   "metadata": {},
   "outputs": [
    {
     "name": "stderr",
     "output_type": "stream",
     "text": [
      "  0%|          | 79/72326 [00:00<01:31, 788.55it/s]"
     ]
    },
    {
     "name": "stdout",
     "output_type": "stream",
     "text": [
      "Vectorized search query\n",
      "Computing document similarity...\n"
     ]
    },
    {
     "name": "stderr",
     "output_type": "stream",
     "text": [
      "100%|██████████| 72326/72326 [00:59<00:00, 1222.18it/s]\n",
      "  0%|          | 121/72326 [00:00<00:59, 1205.09it/s]"
     ]
    },
    {
     "name": "stdout",
     "output_type": "stream",
     "text": [
      "Complete\n",
      "Returned top 5 results.\n",
      "Search results saved to results/cv_jan21/cv_0_search_record.txt\n",
      "Vectorized search query\n",
      "Computing document similarity...\n"
     ]
    },
    {
     "name": "stderr",
     "output_type": "stream",
     "text": [
      "100%|██████████| 72326/72326 [01:07<00:00, 1068.05it/s]\n",
      "  0%|          | 118/72326 [00:00<01:01, 1176.87it/s]"
     ]
    },
    {
     "name": "stdout",
     "output_type": "stream",
     "text": [
      "Complete\n",
      "Returned top 5 results.\n",
      "Search results saved to results/cv_jan21/cv_1_search_record.txt\n",
      "Vectorized search query\n",
      "Computing document similarity...\n"
     ]
    },
    {
     "name": "stderr",
     "output_type": "stream",
     "text": [
      "100%|██████████| 72326/72326 [01:06<00:00, 1082.02it/s]\n",
      "  0%|          | 107/72326 [00:00<01:07, 1065.32it/s]"
     ]
    },
    {
     "name": "stdout",
     "output_type": "stream",
     "text": [
      "Complete\n",
      "Returned top 5 results.\n",
      "Search results saved to results/cv_jan21/cv_2_search_record.txt\n",
      "Vectorized search query\n",
      "Computing document similarity...\n"
     ]
    },
    {
     "name": "stderr",
     "output_type": "stream",
     "text": [
      "100%|██████████| 72326/72326 [01:03<00:00, 1146.40it/s]\n",
      "  0%|          | 117/72326 [00:00<01:01, 1166.96it/s]"
     ]
    },
    {
     "name": "stdout",
     "output_type": "stream",
     "text": [
      "Complete\n",
      "Returned top 5 results.\n",
      "Search results saved to results/cv_jan21/cv_3_search_record.txt\n",
      "Vectorized search query\n",
      "Computing document similarity...\n"
     ]
    },
    {
     "name": "stderr",
     "output_type": "stream",
     "text": [
      "100%|██████████| 72326/72326 [01:04<00:00, 1127.76it/s]\n",
      "  0%|          | 113/72326 [00:00<01:04, 1127.54it/s]"
     ]
    },
    {
     "name": "stdout",
     "output_type": "stream",
     "text": [
      "Complete\n",
      "Returned top 5 results.\n",
      "Search results saved to results/cv_jan21/cv_4_search_record.txt\n",
      "Vectorized search query\n",
      "Computing document similarity...\n"
     ]
    },
    {
     "name": "stderr",
     "output_type": "stream",
     "text": [
      "100%|██████████| 72326/72326 [01:05<00:00, 1110.22it/s]\n",
      "  0%|          | 98/72326 [00:00<01:13, 979.41it/s]"
     ]
    },
    {
     "name": "stdout",
     "output_type": "stream",
     "text": [
      "Complete\n",
      "Returned top 5 results.\n",
      "Search results saved to results/cv_jan21/cv_5_search_record.txt\n",
      "Vectorized search query\n",
      "Computing document similarity...\n"
     ]
    },
    {
     "name": "stderr",
     "output_type": "stream",
     "text": [
      "100%|██████████| 72326/72326 [01:02<00:00, 1148.41it/s]\n",
      "  0%|          | 60/72326 [00:00<02:00, 599.76it/s]"
     ]
    },
    {
     "name": "stdout",
     "output_type": "stream",
     "text": [
      "Complete\n",
      "Returned top 5 results.\n",
      "Search results saved to results/cv_jan21/cv_6_search_record.txt\n",
      "Vectorized search query\n",
      "Computing document similarity...\n"
     ]
    },
    {
     "name": "stderr",
     "output_type": "stream",
     "text": [
      "100%|██████████| 72326/72326 [01:09<00:00, 1043.73it/s]\n",
      "  0%|          | 100/72326 [00:00<01:12, 996.73it/s]"
     ]
    },
    {
     "name": "stdout",
     "output_type": "stream",
     "text": [
      "Complete\n",
      "Returned top 5 results.\n",
      "Search results saved to results/cv_jan21/cv_7_search_record.txt\n",
      "Vectorized search query\n",
      "Computing document similarity...\n"
     ]
    },
    {
     "name": "stderr",
     "output_type": "stream",
     "text": [
      "100%|██████████| 72326/72326 [01:06<00:00, 1086.89it/s]\n",
      "  0%|          | 103/72326 [00:00<01:10, 1024.58it/s]"
     ]
    },
    {
     "name": "stdout",
     "output_type": "stream",
     "text": [
      "Complete\n",
      "Returned top 5 results.\n",
      "Search results saved to results/cv_jan21/cv_8_search_record.txt\n",
      "Vectorized search query\n",
      "Computing document similarity...\n"
     ]
    },
    {
     "name": "stderr",
     "output_type": "stream",
     "text": [
      "100%|██████████| 72326/72326 [01:02<00:00, 1155.58it/s]\n",
      "  0%|          | 87/72326 [00:00<01:24, 855.08it/s]"
     ]
    },
    {
     "name": "stdout",
     "output_type": "stream",
     "text": [
      "Complete\n",
      "Returned top 5 results.\n",
      "Search results saved to results/cv_jan21/cv_9_search_record.txt\n",
      "Vectorized search query\n",
      "Computing document similarity...\n"
     ]
    },
    {
     "name": "stderr",
     "output_type": "stream",
     "text": [
      "100%|██████████| 72326/72326 [01:09<00:00, 1040.11it/s]\n",
      "  0%|          | 88/72326 [00:00<01:22, 873.36it/s]"
     ]
    },
    {
     "name": "stdout",
     "output_type": "stream",
     "text": [
      "Complete\n",
      "Returned top 5 results.\n",
      "Search results saved to results/cv_jan21/cv_10_search_record.txt\n",
      "Vectorized search query\n",
      "Computing document similarity...\n"
     ]
    },
    {
     "name": "stderr",
     "output_type": "stream",
     "text": [
      "100%|██████████| 72326/72326 [01:02<00:00, 1148.82it/s]\n",
      "  0%|          | 117/72326 [00:00<01:01, 1169.69it/s]"
     ]
    },
    {
     "name": "stdout",
     "output_type": "stream",
     "text": [
      "Complete\n",
      "Returned top 5 results.\n",
      "Search results saved to results/cv_jan21/cv_11_search_record.txt\n",
      "Vectorized search query\n",
      "Computing document similarity...\n"
     ]
    },
    {
     "name": "stderr",
     "output_type": "stream",
     "text": [
      "100%|██████████| 72326/72326 [01:03<00:00, 1132.34it/s]\n",
      "  0%|          | 107/72326 [00:00<01:07, 1068.11it/s]"
     ]
    },
    {
     "name": "stdout",
     "output_type": "stream",
     "text": [
      "Complete\n",
      "Returned top 5 results.\n",
      "Search results saved to results/cv_jan21/cv_12_search_record.txt\n",
      "Vectorized search query\n",
      "Computing document similarity...\n"
     ]
    },
    {
     "name": "stderr",
     "output_type": "stream",
     "text": [
      "100%|██████████| 72326/72326 [01:03<00:00, 1143.32it/s]\n",
      "  0%|          | 123/72326 [00:00<00:58, 1229.06it/s]"
     ]
    },
    {
     "name": "stdout",
     "output_type": "stream",
     "text": [
      "Complete\n",
      "Returned top 5 results.\n",
      "Search results saved to results/cv_jan21/cv_13_search_record.txt\n",
      "Vectorized search query\n",
      "Computing document similarity...\n"
     ]
    },
    {
     "name": "stderr",
     "output_type": "stream",
     "text": [
      "100%|██████████| 72326/72326 [01:00<00:00, 1193.01it/s]\n",
      "  0%|          | 123/72326 [00:00<00:59, 1220.95it/s]"
     ]
    },
    {
     "name": "stdout",
     "output_type": "stream",
     "text": [
      "Complete\n",
      "Returned top 5 results.\n",
      "Search results saved to results/cv_jan21/cv_14_search_record.txt\n",
      "Vectorized search query\n",
      "Computing document similarity...\n"
     ]
    },
    {
     "name": "stderr",
     "output_type": "stream",
     "text": [
      "100%|██████████| 72326/72326 [01:00<00:00, 1186.87it/s]\n",
      "  0%|          | 120/72326 [00:00<01:00, 1189.90it/s]"
     ]
    },
    {
     "name": "stdout",
     "output_type": "stream",
     "text": [
      "Complete\n",
      "Returned top 5 results.\n",
      "Search results saved to results/cv_jan21/cv_15_search_record.txt\n",
      "Vectorized search query\n",
      "Computing document similarity...\n"
     ]
    },
    {
     "name": "stderr",
     "output_type": "stream",
     "text": [
      "100%|██████████| 72326/72326 [01:00<00:00, 1187.49it/s]\n",
      "  0%|          | 120/72326 [00:00<01:00, 1198.34it/s]"
     ]
    },
    {
     "name": "stdout",
     "output_type": "stream",
     "text": [
      "Complete\n",
      "Returned top 5 results.\n",
      "Search results saved to results/cv_jan21/cv_16_search_record.txt\n",
      "Vectorized search query\n",
      "Computing document similarity...\n"
     ]
    },
    {
     "name": "stderr",
     "output_type": "stream",
     "text": [
      "100%|██████████| 72326/72326 [01:01<00:00, 1171.85it/s]\n",
      "  0%|          | 119/72326 [00:00<01:01, 1183.26it/s]"
     ]
    },
    {
     "name": "stdout",
     "output_type": "stream",
     "text": [
      "Complete\n",
      "Returned top 5 results.\n",
      "Search results saved to results/cv_jan21/cv_17_search_record.txt\n",
      "Vectorized search query\n",
      "Computing document similarity...\n"
     ]
    },
    {
     "name": "stderr",
     "output_type": "stream",
     "text": [
      "100%|██████████| 72326/72326 [01:09<00:00, 1043.91it/s]\n",
      "  0%|          | 87/72326 [00:00<01:23, 869.19it/s]"
     ]
    },
    {
     "name": "stdout",
     "output_type": "stream",
     "text": [
      "Complete\n",
      "Returned top 5 results.\n",
      "Search results saved to results/cv_jan21/cv_18_search_record.txt\n",
      "Vectorized search query\n",
      "Computing document similarity...\n"
     ]
    },
    {
     "name": "stderr",
     "output_type": "stream",
     "text": [
      "100%|██████████| 72326/72326 [01:05<00:00, 1100.77it/s]\n",
      "  0%|          | 117/72326 [00:00<01:02, 1162.76it/s]"
     ]
    },
    {
     "name": "stdout",
     "output_type": "stream",
     "text": [
      "Complete\n",
      "Returned top 5 results.\n",
      "Search results saved to results/cv_jan21/cv_19_search_record.txt\n",
      "Vectorized search query\n",
      "Computing document similarity...\n"
     ]
    },
    {
     "name": "stderr",
     "output_type": "stream",
     "text": [
      "100%|██████████| 72326/72326 [01:05<00:00, 1108.07it/s]\n",
      "  0%|          | 117/72326 [00:00<01:01, 1168.22it/s]"
     ]
    },
    {
     "name": "stdout",
     "output_type": "stream",
     "text": [
      "Complete\n",
      "Returned top 5 results.\n",
      "Search results saved to results/cv_jan21/cv_20_search_record.txt\n",
      "Vectorized search query\n",
      "Computing document similarity...\n"
     ]
    },
    {
     "name": "stderr",
     "output_type": "stream",
     "text": [
      "100%|██████████| 72326/72326 [01:04<00:00, 1129.62it/s]\n",
      "  0%|          | 113/72326 [00:00<01:04, 1117.01it/s]"
     ]
    },
    {
     "name": "stdout",
     "output_type": "stream",
     "text": [
      "Complete\n",
      "Returned top 5 results.\n",
      "Search results saved to results/cv_jan21/cv_21_search_record.txt\n",
      "Vectorized search query\n",
      "Computing document similarity...\n"
     ]
    },
    {
     "name": "stderr",
     "output_type": "stream",
     "text": [
      " 31%|███▏      | 22605/72326 [00:19<00:41, 1202.31it/s]"
     ]
    }
   ],
   "source": [
    "directory='results/cv_jan21/'\n",
    "\n",
    "for i in range(len(questions)):\n",
    "    query = questions[i]\n",
    "    uids = tfidf_search.tfidf_search(query, vectorizer, tdm, index)\n",
    "    tfidf_search.write_details(query, uids, df,\n",
    "                               record_file_prefix=f'cv_{i}', \n",
    "                               directory='results/cv_jan21/')"
   ]
  },
  {
   "cell_type": "code",
   "execution_count": null,
   "id": "61605bd7-4de1-4bb5-93f6-947ca0b0c0fe",
   "metadata": {},
   "outputs": [],
   "source": []
  }
 ],
 "metadata": {
  "kernelspec": {
   "display_name": "Python 3",
   "language": "python",
   "name": "python3"
  },
  "language_info": {
   "codemirror_mode": {
    "name": "ipython",
    "version": 3
   },
   "file_extension": ".py",
   "mimetype": "text/x-python",
   "name": "python",
   "nbconvert_exporter": "python",
   "pygments_lexer": "ipython3",
   "version": "3.8.8"
  }
 },
 "nbformat": 4,
 "nbformat_minor": 5
}
