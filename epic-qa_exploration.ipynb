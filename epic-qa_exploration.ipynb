{
 "cells": [
  {
   "cell_type": "code",
   "execution_count": 10,
   "id": "789985e1-33a3-4e4f-93f5-cae04627bfdb",
   "metadata": {},
   "outputs": [],
   "source": [
    "import gzip\n",
    "import tarfile\n",
    "import json\n",
    "from IPython.display import JSON"
   ]
  },
  {
   "cell_type": "code",
   "execution_count": 5,
   "id": "14059298-8bc1-4c96-8049-b5c1fc95fccb",
   "metadata": {},
   "outputs": [],
   "source": [
    "# tar = tarfile.open(\"data/EPIC-QA/epic_qa_cord_2020-10-22-split-corrected.tar.gz\", \"r:gz\")\n",
    "# for tarinfo in tar:\n",
    "#     print(tarinfo.name, \"is\", tarinfo.size, \"bytes in size and is \", end=\"\")\n",
    "#     if tarinfo.isreg():\n",
    "#         print(\"a regular file.\")\n",
    "#     elif tarinfo.isdir():\n",
    "#         print(\"a directory.\")\n",
    "#     else:\n",
    "#         print(\"something else.\")\n",
    "# tar.close()"
   ]
  },
  {
   "cell_type": "code",
   "execution_count": 9,
   "id": "c5ece567-4300-49a3-a11d-1c84014b5803",
   "metadata": {},
   "outputs": [],
   "source": [
    "with gzip.open('data/EPIC-QA/prelim_judgments_corrected.json.gz', 'r') as file:\n",
    "    j = json.load(file)"
   ]
  },
  {
   "cell_type": "code",
   "execution_count": 11,
   "id": "0ba2038e-9177-46c1-87c5-fbc0b62bdf25",
   "metadata": {},
   "outputs": [
    {
     "data": {
      "application/json": [
       {
        "annotations": [
         {
          "nugget_ids": [
           "EQ001-N00"
          ],
          "sentence_id": "0hldozml-C001-S000"
         },
         {
          "nugget_ids": [
           "EQ001-N02"
          ],
          "sentence_id": "0hldozml-C001-S001"
         },
         {
          "nugget_ids": [
           "EQ001-N01",
           "EQ001-N03",
           "EQ001-N04",
           "EQ001-N08"
          ],
          "sentence_id": "0hldozml-C001-S002"
         },
         {
          "nugget_ids": [
           "EQ001-N05"
          ],
          "sentence_id": "0hldozml-C001-S004"
         },
         {
          "nugget_ids": [
           "EQ001-N08",
           "EQ001-N06"
          ],
          "sentence_id": "0hldozml-C001-S007"
         },
         {
          "nugget_ids": [
           "EQ001-N07"
          ],
          "sentence_id": "0hldozml-C001-S010"
         },
         {
          "nugget_ids": [
           "EQ001-N00"
          ],
          "sentence_id": "23yi8so0-C000-S000"
         },
         {
          "nugget_ids": [
           "EQ001-N08"
          ],
          "sentence_id": "2l4xxu3v-C006-S006"
         },
         {
          "nugget_ids": [
           "EQ001-N08",
           "EQ001-N03"
          ],
          "sentence_id": "30j0auua-C000-S001"
         },
         {
          "nugget_ids": [
           "EQ001-N05"
          ],
          "sentence_id": "30j0auua-C000-S002"
         },
         {
          "nugget_ids": [
           "EQ001-N09",
           "EQ001-N01"
          ],
          "sentence_id": "30j0auua-C000-S003"
         },
         {
          "nugget_ids": [
           "EQ001-N01",
           "EQ001-N03",
           "EQ001-N10"
          ],
          "sentence_id": "4dtk1kyh-C019-S000"
         },
         {
          "nugget_ids": [
           "EQ001-N05"
          ],
          "sentence_id": "4zg3ms5b-C000-S000"
         },
         {
          "nugget_ids": [
           "EQ001-N00",
           "EQ001-N05"
          ],
          "sentence_id": "5fe8rmhm-C002-S000"
         },
         {
          "nugget_ids": [
           "EQ001-N05"
          ],
          "sentence_id": "5fe8rmhm-C002-S002"
         },
         {
          "nugget_ids": [
           "EQ001-N01",
           "EQ001-N13"
          ],
          "sentence_id": "7v5aln90-C000-S001"
         },
         {
          "nugget_ids": [
           "EQ001-N01"
          ],
          "sentence_id": "7v5aln90-C000-S002"
         },
         {
          "nugget_ids": [
           "EQ001-N19",
           "EQ001-N10"
          ],
          "sentence_id": "7v5aln90-C000-S003"
         },
         {
          "nugget_ids": [
           "EQ001-N19",
           "EQ001-N00"
          ],
          "sentence_id": "7v5aln90-C000-S004"
         },
         {
          "nugget_ids": [
           "EQ001-N00",
           "EQ001-N19"
          ],
          "sentence_id": "7v5aln90-C000-S005"
         },
         {
          "nugget_ids": [
           "EQ001-N10",
           "EQ001-N08"
          ],
          "sentence_id": "aazntg4c-C014-S000"
         },
         {
          "nugget_ids": [
           "EQ001-N10",
           "EQ001-N03"
          ],
          "sentence_id": "aazntg4c-C014-S001"
         },
         {
          "nugget_ids": [
           "EQ001-N10",
           "EQ001-N03"
          ],
          "sentence_id": "aazntg4c-C014-S002"
         },
         {
          "nugget_ids": [
           "EQ001-N01"
          ],
          "sentence_id": "aazntg4c-C014-S003"
         },
         {
          "nugget_ids": [
           "EQ001-N10"
          ],
          "sentence_id": "aazntg4c-C014-S004"
         },
         {
          "nugget_ids": [
           "EQ001-N10",
           "EQ001-N03"
          ],
          "sentence_id": "aazntg4c-C014-S005"
         },
         {
          "nugget_ids": [
           "EQ001-N04"
          ],
          "sentence_id": "aazntg4c-C014-S006"
         },
         {
          "nugget_ids": [
           "EQ001-N10"
          ],
          "sentence_id": "aazntg4c-C014-S007"
         },
         {
          "nugget_ids": [
           "EQ001-N12",
           "EQ001-N08"
          ],
          "sentence_id": "aw0kkvvl-C000-S000"
         },
         {
          "nugget_ids": [
           "EQ001-N13",
           "EQ001-N03",
           "EQ001-N10"
          ],
          "sentence_id": "aw0kkvvl-C000-S004"
         },
         {
          "nugget_ids": [
           "EQ001-N00",
           "EQ001-N12",
           "EQ001-N18"
          ],
          "sentence_id": "c97myb3u-C003-S001"
         },
         {
          "nugget_ids": [
           "EQ001-N08"
          ],
          "sentence_id": "c97myb3u-C003-S002"
         },
         {
          "nugget_ids": [
           "EQ001-N08"
          ],
          "sentence_id": "c97myb3u-C003-S003"
         },
         {
          "nugget_ids": [
           "EQ001-N13",
           "EQ001-N03"
          ],
          "sentence_id": "ccxj4s6j-C000-S002"
         },
         {
          "nugget_ids": [
           "EQ001-N18",
           "EQ001-N09"
          ],
          "sentence_id": "ccxj4s6j-C000-S003"
         },
         {
          "nugget_ids": [
           "EQ001-N21"
          ],
          "sentence_id": "ccxj4s6j-C000-S004"
         },
         {
          "nugget_ids": [
           "EQ001-N08"
          ],
          "sentence_id": "cls39iot-C000-S001"
         },
         {
          "nugget_ids": [
           "EQ001-N00",
           "EQ001-N05"
          ],
          "sentence_id": "d6by9p41-C000-S000"
         },
         {
          "nugget_ids": [
           "EQ001-N01",
           "EQ001-N03"
          ],
          "sentence_id": "d6by9p41-C000-S002"
         },
         {
          "nugget_ids": [
           "EQ001-N00",
           "EQ001-N01",
           "EQ001-N05"
          ],
          "sentence_id": "d6by9p41-C000-S004"
         },
         {
          "nugget_ids": [
           "EQ001-N05"
          ],
          "sentence_id": "dckuhrlf-C000-S000"
         },
         {
          "nugget_ids": [
           "EQ001-N13"
          ],
          "sentence_id": "dckuhrlf-C000-S001"
         },
         {
          "nugget_ids": [
           "EQ001-N05"
          ],
          "sentence_id": "ds74ie94-C000-S001"
         },
         {
          "nugget_ids": [
           "EQ001-N00"
          ],
          "sentence_id": "dv9m19yk-C000-S002"
         },
         {
          "nugget_ids": [
           "EQ001-N13"
          ],
          "sentence_id": "dv9m19yk-C000-S003"
         },
         {
          "nugget_ids": [
           "EQ001-N08"
          ],
          "sentence_id": "dx3jywv7-C000-S000"
         },
         {
          "nugget_ids": [
           "EQ001-N00"
          ],
          "sentence_id": "dx3jywv7-C000-S001"
         },
         {
          "nugget_ids": [
           "EQ001-N03",
           "EQ001-N10"
          ],
          "sentence_id": "e1urdt9w-C024-S000"
         },
         {
          "nugget_ids": [
           "EQ001-N10",
           "EQ001-N03"
          ],
          "sentence_id": "e1urdt9w-C024-S001"
         },
         {
          "nugget_ids": [
           "EQ001-N10"
          ],
          "sentence_id": "e1urdt9w-C024-S003"
         },
         {
          "nugget_ids": [
           "EQ001-N03"
          ],
          "sentence_id": "e1urdt9w-C024-S004"
         },
         {
          "nugget_ids": [
           "EQ001-N03",
           "EQ001-N10"
          ],
          "sentence_id": "e1urdt9w-C024-S005"
         },
         {
          "nugget_ids": [
           "EQ001-N04"
          ],
          "sentence_id": "e1urdt9w-C024-S006"
         },
         {
          "nugget_ids": [
           "EQ001-N10",
           "EQ001-N01"
          ],
          "sentence_id": "e1urdt9w-C024-S007"
         },
         {
          "nugget_ids": [
           "EQ001-N05"
          ],
          "sentence_id": "e5nxkvo7-C000-S000"
         },
         {
          "nugget_ids": [
           "EQ001-N05"
          ],
          "sentence_id": "e5nxkvo7-C000-S004"
         },
         {
          "nugget_ids": [
           "EQ001-N05"
          ],
          "sentence_id": "eec649x4-C001-S000"
         },
         {
          "nugget_ids": [
           "EQ001-N03",
           "EQ001-N01",
           "EQ001-N04",
           "EQ001-N13"
          ],
          "sentence_id": "eec649x4-C001-S006"
         },
         {
          "nugget_ids": [
           "EQ001-N01"
          ],
          "sentence_id": "eec649x4-C014-S003"
         },
         {
          "nugget_ids": [
           "EQ001-N16"
          ],
          "sentence_id": "eec649x4-C014-S004"
         },
         {
          "nugget_ids": [
           "EQ001-N16"
          ],
          "sentence_id": "eec649x4-C014-S005"
         },
         {
          "nugget_ids": [
           "EQ001-N16"
          ],
          "sentence_id": "eec649x4-C014-S006"
         },
         {
          "nugget_ids": [
           "EQ001-N16"
          ],
          "sentence_id": "eec649x4-C014-S007"
         },
         {
          "nugget_ids": [
           "EQ001-N16"
          ],
          "sentence_id": "eec649x4-C014-S008"
         },
         {
          "nugget_ids": [
           "EQ001-N14"
          ],
          "sentence_id": "eec649x4-C015-S000"
         },
         {
          "nugget_ids": [
           "EQ001-N00"
          ],
          "sentence_id": "eec649x4-C015-S001"
         },
         {
          "nugget_ids": [
           "EQ001-N18",
           "EQ001-N04",
           "EQ001-N03"
          ],
          "sentence_id": "fyh8gjjl-C001-S001"
         },
         {
          "nugget_ids": [
           "EQ001-N22"
          ],
          "sentence_id": "fyh8gjjl-C001-S000"
         },
         {
          "nugget_ids": [
           "EQ001-N00"
          ],
          "sentence_id": "n0wm7ttq-C005-S000"
         },
         {
          "nugget_ids": [
           "EQ001-N00"
          ],
          "sentence_id": "n0wm7ttq-C005-S002"
         },
         {
          "nugget_ids": [
           "EQ001-N05"
          ],
          "sentence_id": "gy78e87y-C000-S000"
         },
         {
          "nugget_ids": [
           "EQ001-N02"
          ],
          "sentence_id": "gy78e87y-C000-S005"
         },
         {
          "nugget_ids": [
           "EQ001-N15"
          ],
          "sentence_id": "gy78e87y-C000-S008"
         },
         {
          "nugget_ids": [
           "EQ001-N00"
          ],
          "sentence_id": "hq4jb2wy-C000-S001"
         },
         {
          "nugget_ids": [
           "EQ001-N13",
           "EQ001-N01",
           "EQ001-N17",
           "EQ001-N09"
          ],
          "sentence_id": "hq4jb2wy-C000-S004"
         },
         {
          "nugget_ids": [
           "EQ001-N09"
          ],
          "sentence_id": "hq4jb2wy-C000-S005"
         },
         {
          "nugget_ids": [
           "EQ001-N05"
          ],
          "sentence_id": "i2ppoe55-C000-S001"
         },
         {
          "nugget_ids": [
           "EQ001-N01",
           "EQ001-N03",
           "EQ001-N17"
          ],
          "sentence_id": "kem4x4wr-C000-S003"
         },
         {
          "nugget_ids": [
           "EQ001-N06"
          ],
          "sentence_id": "kem4x4wr-C000-S005"
         },
         {
          "nugget_ids": [
           "EQ001-N00"
          ],
          "sentence_id": "kem4x4wr-C000-S006"
         },
         {
          "nugget_ids": [
           "EQ001-N22",
           "EQ001-N03"
          ],
          "sentence_id": "n7ylgqfu-C064-S009"
         },
         {
          "nugget_ids": [
           "EQ001-N00"
          ],
          "sentence_id": "n7ylgqfu-C064-S002"
         },
         {
          "nugget_ids": [
           "EQ001-N18"
          ],
          "sentence_id": "obfvi3ms-C005-S000"
         },
         {
          "nugget_ids": [
           "EQ001-N05"
          ],
          "sentence_id": "ov3r7izq-C000-S000"
         },
         {
          "nugget_ids": [
           "EQ001-N00"
          ],
          "sentence_id": "ov3r7izq-C000-S004"
         },
         {
          "nugget_ids": [
           "EQ001-N05"
          ],
          "sentence_id": "pn9nwl64-C022-S000"
         },
         {
          "nugget_ids": [
           "EQ001-N12",
           "EQ001-N12"
          ],
          "sentence_id": "pn9nwl64-C022-S001"
         },
         {
          "nugget_ids": [
           "EQ001-N12"
          ],
          "sentence_id": "pn9nwl64-C022-S006"
         },
         {
          "nugget_ids": [
           "EQ001-N19"
          ],
          "sentence_id": "puuqv6zk-C000-S000"
         },
         {
          "nugget_ids": [
           "EQ001-N01",
           "EQ001-N06"
          ],
          "sentence_id": "puuqv6zk-C000-S002"
         },
         {
          "nugget_ids": [
           "EQ001-N02"
          ],
          "sentence_id": "puuqv6zk-C000-S003"
         },
         {
          "nugget_ids": [
           "EQ001-N21",
           "EQ001-N18"
          ],
          "sentence_id": "r0peje13-C000-S000"
         },
         {
          "nugget_ids": [
           "EQ001-N01",
           "EQ001-N03"
          ],
          "sentence_id": "r0peje13-C000-S001"
         },
         {
          "nugget_ids": [
           "EQ001-N18"
          ],
          "sentence_id": "r0peje13-C000-S002"
         },
         {
          "nugget_ids": [
           "EQ001-N01"
          ],
          "sentence_id": "r0peje13-C000-S004"
         },
         {
          "nugget_ids": [
           "EQ001-N01"
          ],
          "sentence_id": "r0peje13-C000-S011"
         },
         {
          "nugget_ids": [
           "EQ001-N01",
           "EQ001-N12",
           "EQ001-N18"
          ],
          "sentence_id": "szsb1oan-C044-S000"
         },
         {
          "nugget_ids": [
           "EQ001-N12"
          ],
          "sentence_id": "szsb1oan-C044-S001"
         },
         {
          "nugget_ids": [
           "EQ001-N05"
          ],
          "sentence_id": "trsw2o0j-C000-S000"
         },
         {
          "nugget_ids": [
           "EQ001-N00"
          ],
          "sentence_id": "n0wm7ttq-C005-S000"
         },
         {
          "nugget_ids": [
           "EQ001-N00"
          ],
          "sentence_id": "n0wm7ttq-C005-S002"
         },
         {
          "nugget_ids": [
           "EQ001-N00"
          ],
          "sentence_id": "wim5q9a5-C000-S000"
         },
         {
          "nugget_ids": [
           "EQ001-N19"
          ],
          "sentence_id": "wim5q9a5-C000-S002"
         },
         {
          "nugget_ids": [
           "EQ001-N19"
          ],
          "sentence_id": "wim5q9a5-C000-S003"
         },
         {
          "nugget_ids": [
           "EQ001-N19"
          ],
          "sentence_id": "wim5q9a5-C000-S004"
         },
         {
          "nugget_ids": [
           "EQ001-N00",
           "EQ001-N19"
          ],
          "sentence_id": "wim5q9a5-C000-S005"
         },
         {
          "nugget_ids": [
           "EQ001-N22"
          ],
          "sentence_id": "wim5q9a5-C000-S006"
         },
         {
          "nugget_ids": [
           "EQ001-N22",
           "EQ001-N03",
           "EQ001-N14"
          ],
          "sentence_id": "wim5q9a5-C000-S007"
         },
         {
          "nugget_ids": [
           "EQ001-N01",
           "EQ001-N03",
           "EQ001-N02"
          ],
          "sentence_id": "wim5q9a5-C000-S008"
         },
         {
          "nugget_ids": [
           "EQ001-N01",
           "EQ001-N00"
          ],
          "sentence_id": "wim5q9a5-C000-S009"
         },
         {
          "nugget_ids": [
           "EQ001-N00"
          ],
          "sentence_id": "wim5q9a5-C000-S010"
         },
         {
          "nugget_ids": [
           "EQ001-N19",
           "EQ001-N22",
           "EQ001-N03",
           "EQ001-N01",
           "EQ001-N14"
          ],
          "sentence_id": "wim5q9a5-C000-S013"
         },
         {
          "nugget_ids": [
           "EQ001-N02"
          ],
          "sentence_id": "wim5q9a5-C000-S014"
         },
         {
          "nugget_ids": [
           "EQ001-N13",
           "EQ001-N18"
          ],
          "sentence_id": "xuczplaf-C000-S001"
         },
         {
          "nugget_ids": [
           "EQ001-N23",
           "EQ001-N18",
           "EQ001-N04"
          ],
          "sentence_id": "1g2mup0k-C006-S001"
         },
         {
          "nugget_ids": [
           "EQ001-N18"
          ],
          "sentence_id": "1g2mup0k-C006-S006"
         },
         {
          "nugget_ids": [
           "EQ001-N23"
          ],
          "sentence_id": "1g2mup0k-C006-S007"
         }
        ],
        "nuggets": [
         {
          "nugget": "spillover",
          "nugget_id": "EQ001-N23"
         },
         {
          "nugget": "positive selection pressure",
          "nugget_id": "EQ001-N22"
         },
         {
          "nugget": "the species barrier",
          "nugget_id": "EQ001-N21"
         },
         {
          "nugget": "potential mutations",
          "nugget_id": "EQ001-N20"
         },
         {
          "nugget": "genetic recombination",
          "nugget_id": "EQ001-N19"
         },
         {
          "nugget": "animal-to-human transmission",
          "nugget_id": "EQ001-N18"
         },
         {
          "nugget": "bat reservoirs",
          "nugget_id": "EQ001-N17"
         },
         {
          "nugget": "Codon usage bias",
          "nugget_id": "EQ001-N16"
         },
         {
          "nugget": "ancestral haplotypes",
          "nugget_id": "EQ001-N15"
         },
         {
          "nugget": "bat coronavirus genome",
          "nugget_id": "EQ001-N14"
         },
         {
          "nugget": "zoonotic origin",
          "nugget_id": "EQ001-N13"
         },
         {
          "nugget": "seafood wholesale market in Wuhan",
          "nugget_id": "EQ001-N12"
         },
         {
          "nugget": "evolutionary constraints",
          "nugget_id": "EQ001-N11"
         },
         {
          "nugget": "pangolins",
          "nugget_id": "EQ001-N10"
         },
         {
          "nugget": "interspecies transmission",
          "nugget_id": "EQ001-N09"
         },
         {
          "nugget": "betacoronaviruses",
          "nugget_id": "EQ001-N08"
         },
         {
          "nugget": "viral fitness",
          "nugget_id": "EQ001-N07"
         },
         {
          "nugget": "molecular evolution",
          "nugget_id": "EQ001-N06"
         },
         {
          "nugget": "Chinese province of Hubei",
          "nugget_id": "EQ001-N05"
         },
         {
          "nugget": "Mammal species",
          "nugget_id": "EQ001-N04"
         },
         {
          "nugget": "Bats",
          "nugget_id": "EQ001-N03"
         },
         {
          "nugget": "virus adapation",
          "nugget_id": "EQ001-N02"
         },
         {
          "nugget": "species of origin",
          "nugget_id": "EQ001-N01"
         },
         {
          "nugget": "emergence",
          "nugget_id": "EQ001-N00"
         }
        ],
        "question_id": "EQ001"
       },
       {
        "annotations": [
         {
          "nugget_ids": [
           "CQ001-N02"
          ],
          "sentence_id": "95534418522ff422077fa28cb7dd5e824d6841a4-C160-S003"
         },
         {
          "nugget_ids": [
           "CQ001-N04"
          ],
          "sentence_id": "c2e4cf4dfeb981d78ed6093b549538bc38951ac5-C009-S001"
         },
         {
          "nugget_ids": [
           "CQ001-N05"
          ],
          "sentence_id": "e495cd69cfa39d0faa3bbf2c46f69f7ab6096105-C005-S000"
         },
         {
          "nugget_ids": [
           "CQ001-N04"
          ],
          "sentence_id": "e77f5bec7406320ce8373d0354b903084b186e2e-C000-S001"
         }
        ],
        "nuggets": [
         {
          "nugget": "wild animal traders",
          "nugget_id": "CQ001-N06"
         },
         {
          "nugget": "exposure to wild animals",
          "nugget_id": "CQ001-N05"
         },
         {
          "nugget": "Wuhan",
          "nugget_id": "CQ001-N04"
         },
         {
          "nugget": "testing of animals",
          "nugget_id": "CQ001-N03"
         },
         {
          "nugget": "experimentally infected animals",
          "nugget_id": "CQ001-N02"
         },
         {
          "nugget": "newly emerged coronavirus",
          "nugget_id": "CQ001-N01"
         },
         {
          "nugget": "live animal market",
          "nugget_id": "CQ001-N00"
         }
        ],
        "question_id": "CQ001"
       },
       {
        "annotations": [
         {
          "nugget_ids": [
           "EQ040-N00",
           "EQ040-N20",
           "EQ040-N21"
          ],
          "sentence_id": "0nh58odf-C004-S001"
         },
         {
          "nugget_ids": [
           "EQ040-N29"
          ],
          "sentence_id": "2kbi9drl-C011-S000"
         },
         {
          "nugget_ids": [
           "EQ040-N00",
           "EQ040-N02"
          ],
          "sentence_id": "2kbi9drl-C011-S001"
         },
         {
          "nugget_ids": [
           "EQ040-N03",
           "EQ040-N00",
           "EQ040-N29",
           "EQ040-N02"
          ],
          "sentence_id": "2kbi9drl-C011-S003"
         },
         {
          "nugget_ids": [
           "EQ040-N06",
           "EQ040-N04",
           "EQ040-N05"
          ],
          "sentence_id": "2kbi9drl-C011-S004"
         },
         {
          "nugget_ids": [
           "EQ040-N07",
           "EQ040-N05",
           "EQ040-N08"
          ],
          "sentence_id": "2kbi9drl-C011-S005"
         },
         {
          "nugget_ids": [
           "EQ040-N11"
          ],
          "sentence_id": "2kbi9drl-C011-S006"
         },
         {
          "nugget_ids": [
           "EQ040-N00",
           "EQ040-N10"
          ],
          "sentence_id": "2kbi9drl-C011-S007"
         },
         {
          "nugget_ids": [
           "EQ040-N13",
           "EQ040-N03",
           "EQ040-N31"
          ],
          "sentence_id": "2kbi9drl-C011-S008"
         },
         {
          "nugget_ids": [
           "EQ040-N11",
           "EQ040-N24"
          ],
          "sentence_id": "2kbi9drl-C011-S009"
         },
         {
          "nugget_ids": [
           "EQ040-N23"
          ],
          "sentence_id": "2kbi9drl-C011-S010"
         },
         {
          "nugget_ids": [
           "EQ040-N23"
          ],
          "sentence_id": "2kbi9drl-C011-S013"
         },
         {
          "nugget_ids": [
           "EQ040-N29"
          ],
          "sentence_id": "2ok1owv7-C000-S000"
         },
         {
          "nugget_ids": [
           "EQ040-N26",
           "EQ040-N29"
          ],
          "sentence_id": "2ok1owv7-C000-S001"
         },
         {
          "nugget_ids": [
           "EQ040-N24",
           "EQ040-N29"
          ],
          "sentence_id": "2ok1owv7-C000-S002"
         },
         {
          "nugget_ids": [
           "EQ040-N01"
          ],
          "sentence_id": "3h1o0oz3-C000-S000"
         },
         {
          "nugget_ids": [
           "EQ040-N23"
          ],
          "sentence_id": "3h1o0oz3-C000-S001"
         },
         {
          "nugget_ids": [
           "EQ040-N12"
          ],
          "sentence_id": "3h1o0oz3-C000-S002"
         },
         {
          "nugget_ids": [
           "EQ040-N14",
           "EQ040-N03",
           "EQ040-N13",
           "EQ040-N31"
          ],
          "sentence_id": "3h1o0oz3-C000-S003"
         },
         {
          "nugget_ids": [
           "EQ040-N15"
          ],
          "sentence_id": "3h1o0oz3-C000-S004"
         },
         {
          "nugget_ids": [
           "EQ040-N16"
          ],
          "sentence_id": "3h1o0oz3-C000-S006"
         },
         {
          "nugget_ids": [
           "EQ040-N10",
           "EQ040-N28",
           "EQ040-N14"
          ],
          "sentence_id": "3h1o0oz3-C000-S007"
         },
         {
          "nugget_ids": [
           "EQ040-N03",
           "EQ040-N13",
           "EQ040-N31",
           "EQ040-N25"
          ],
          "sentence_id": "3h1o0oz3-C000-S008"
         },
         {
          "nugget_ids": [
           "EQ040-N17",
           "EQ040-N18"
          ],
          "sentence_id": "3h1o0oz3-C000-S009"
         },
         {
          "nugget_ids": [
           "EQ040-N24"
          ],
          "sentence_id": "59492sjb-C000-S000"
         },
         {
          "nugget_ids": [
           "EQ040-N26"
          ],
          "sentence_id": "59492sjb-C000-S001"
         },
         {
          "nugget_ids": [
           "EQ040-N29"
          ],
          "sentence_id": "59492sjb-C000-S002"
         },
         {
          "nugget_ids": [
           "EQ040-N10",
           "EQ040-N28"
          ],
          "sentence_id": "59492sjb-C000-S003"
         },
         {
          "nugget_ids": [
           "EQ040-N18"
          ],
          "sentence_id": "59492sjb-C000-S004"
         },
         {
          "nugget_ids": [
           "EQ040-N03",
           "EQ040-N13",
           "EQ040-N31",
           "EQ040-N30",
           "EQ040-N19"
          ],
          "sentence_id": "59492sjb-C000-S005"
         },
         {
          "nugget_ids": [
           "EQ040-N06"
          ],
          "sentence_id": "59492sjb-C000-S008"
         },
         {
          "nugget_ids": [
           "EQ040-N29"
          ],
          "sentence_id": "59492sjb-C000-S012"
         },
         {
          "nugget_ids": [
           "EQ040-N11"
          ],
          "sentence_id": "59492sjb-C000-S013"
         },
         {
          "nugget_ids": [
           "EQ040-N26"
          ],
          "sentence_id": "594qzvsk-C000-S000"
         },
         {
          "nugget_ids": [
           "EQ040-N02",
           "EQ040-N20",
           "EQ040-N21"
          ],
          "sentence_id": "5mh3ds6y-C024-S001"
         },
         {
          "nugget_ids": [
           "EQ040-N27",
           "EQ040-N20",
           "EQ040-N21"
          ],
          "sentence_id": "5mh3ds6y-C024-S002"
         },
         {
          "nugget_ids": [
           "EQ040-N20",
           "EQ040-N21",
           "EQ040-N22"
          ],
          "sentence_id": "5mh3ds6y-C024-S003"
         },
         {
          "nugget_ids": [
           "EQ040-N20"
          ],
          "sentence_id": "5mh3ds6y-C024-S004"
         },
         {
          "nugget_ids": [
           "EQ040-N23"
          ],
          "sentence_id": "6dsx7pey-C013-S000"
         },
         {
          "nugget_ids": [
           "EQ040-N24"
          ],
          "sentence_id": "6dsx7pey-C013-S002"
         },
         {
          "nugget_ids": [
           "EQ040-N24",
           "EQ040-N26",
           "EQ040-N23"
          ],
          "sentence_id": "6dsx7pey-C013-S003"
         },
         {
          "nugget_ids": [
           "EQ040-N24"
          ],
          "sentence_id": "a51vkiei-C000-S002"
         },
         {
          "nugget_ids": [
           "EQ040-N25"
          ],
          "sentence_id": "a51vkiei-C000-S003"
         },
         {
          "nugget_ids": [
           "EQ040-N27",
           "EQ040-N24"
          ],
          "sentence_id": "a51vkiei-C000-S004"
         },
         {
          "nugget_ids": [
           "EQ040-N23"
          ],
          "sentence_id": "a51vkiei-C000-S005"
         },
         {
          "nugget_ids": [
           "EQ040-N27"
          ],
          "sentence_id": "a51vkiei-C000-S006"
         },
         {
          "nugget_ids": [
           "EQ040-N27",
           "EQ040-N24"
          ],
          "sentence_id": "a51vkiei-C000-S007"
         },
         {
          "nugget_ids": [
           "EQ040-N27"
          ],
          "sentence_id": "a51vkiei-C000-S008"
         },
         {
          "nugget_ids": [
           "EQ040-N18"
          ],
          "sentence_id": "a51vkiei-C000-S009"
         },
         {
          "nugget_ids": [
           "EQ040-N26",
           "EQ040-N24"
          ],
          "sentence_id": "a51vkiei-C000-S010"
         },
         {
          "nugget_ids": [
           "EQ040-N01"
          ],
          "sentence_id": "apkbzwcc-C001-S000"
         },
         {
          "nugget_ids": [
           "EQ040-N26"
          ],
          "sentence_id": "apkbzwcc-C001-S003"
         },
         {
          "nugget_ids": [
           "EQ040-N27"
          ],
          "sentence_id": "aqkpnz0o-C000-S004"
         },
         {
          "nugget_ids": [
           "EQ040-N27",
           "EQ040-N23"
          ],
          "sentence_id": "aqkpnz0o-C000-S005"
         },
         {
          "nugget_ids": [
           "EQ040-N23"
          ],
          "sentence_id": "aqkpnz0o-C000-S007"
         },
         {
          "nugget_ids": [
           "EQ040-N23"
          ],
          "sentence_id": "aqkpnz0o-C000-S008"
         },
         {
          "nugget_ids": [
           "EQ040-N23"
          ],
          "sentence_id": "aqkpnz0o-C000-S009"
         },
         {
          "nugget_ids": [
           "EQ040-N06"
          ],
          "sentence_id": "bawgldfi-C011-S003"
         },
         {
          "nugget_ids": [
           "EQ040-N32",
           "EQ040-N23"
          ],
          "sentence_id": "bsypo08l-C023-S001"
         },
         {
          "nugget_ids": [
           "EQ040-N23"
          ],
          "sentence_id": "bsypo08l-C023-S003"
         },
         {
          "nugget_ids": [
           "EQ040-N03",
           "EQ040-N13",
           "EQ040-N31",
           "EQ040-N20",
           "EQ040-N21"
          ],
          "sentence_id": "bsypo08l-C018-S000"
         },
         {
          "nugget_ids": [
           "EQ040-N29"
          ],
          "sentence_id": "bsypo08l-C018-S001"
         },
         {
          "nugget_ids": [
           "EQ040-N06",
           "EQ040-N32"
          ],
          "sentence_id": "bsypo08l-C018-S002"
         },
         {
          "nugget_ids": [
           "EQ040-N14"
          ],
          "sentence_id": "bsypo08l-C019-S000"
         },
         {
          "nugget_ids": [
           "EQ040-N14",
           "EQ040-N28"
          ],
          "sentence_id": "bsypo08l-C019-S001"
         },
         {
          "nugget_ids": [
           "EQ040-N28"
          ],
          "sentence_id": "bsypo08l-C019-S002"
         },
         {
          "nugget_ids": [
           "EQ040-N28"
          ],
          "sentence_id": "bsypo08l-C019-S003"
         },
         {
          "nugget_ids": [
           "EQ040-N28"
          ],
          "sentence_id": "bsypo08l-C019-S004"
         },
         {
          "nugget_ids": [
           "EQ040-N28"
          ],
          "sentence_id": "bsypo08l-C019-S007"
         },
         {
          "nugget_ids": [
           "EQ040-N26"
          ],
          "sentence_id": "fpj5urao-C000-S003"
         },
         {
          "nugget_ids": [
           "EQ040-N24"
          ],
          "sentence_id": "fpj5urao-C000-S004"
         },
         {
          "nugget_ids": [
           "EQ040-N32",
           "EQ040-N29"
          ],
          "sentence_id": "fpj5urao-C000-S006"
         },
         {
          "nugget_ids": [
           "EQ040-N10",
           "EQ040-N28",
           "EQ040-N14"
          ],
          "sentence_id": "fpj5urao-C000-S009"
         },
         {
          "nugget_ids": [
           "EQ040-N30"
          ],
          "sentence_id": "h2a25xym-C019-S000"
         },
         {
          "nugget_ids": [
           "EQ040-N30"
          ],
          "sentence_id": "h2a25xym-C019-S001"
         },
         {
          "nugget_ids": [
           "EQ040-N24"
          ],
          "sentence_id": "hcszyxr1-C000-S000"
         },
         {
          "nugget_ids": [
           "EQ040-N03",
           "EQ040-N13",
           "EQ040-N31",
           "EQ040-N14"
          ],
          "sentence_id": "hcszyxr1-C000-S001"
         },
         {
          "nugget_ids": [
           "EQ040-N03",
           "EQ040-N13",
           "EQ040-N31"
          ],
          "sentence_id": "hcszyxr1-C000-S003"
         },
         {
          "nugget_ids": [
           "EQ040-N28",
           "EQ040-N14",
           "EQ040-N29"
          ],
          "sentence_id": "hib30ct6-C019-S002"
         },
         {
          "nugget_ids": [
           "EQ040-N29"
          ],
          "sentence_id": "i9zrojoo-C003-S000"
         },
         {
          "nugget_ids": [
           "EQ040-N28",
           "EQ040-N14"
          ],
          "sentence_id": "i9zrojoo-C003-S002"
         },
         {
          "nugget_ids": [
           "EQ040-N17",
           "EQ040-N24"
          ],
          "sentence_id": "jujrazsr-C024-S000"
         },
         {
          "nugget_ids": [
           "EQ040-N17",
           "EQ040-N24"
          ],
          "sentence_id": "jujrazsr-C024-S001"
         },
         {
          "nugget_ids": [
           "EQ040-N23"
          ],
          "sentence_id": "k8m19by9-C002-S000"
         },
         {
          "nugget_ids": [
           "EQ040-N29",
           "EQ040-N34"
          ],
          "sentence_id": "k8m19by9-C002-S001"
         },
         {
          "nugget_ids": [
           "EQ040-N22"
          ],
          "sentence_id": "k8m19by9-C002-S003"
         },
         {
          "nugget_ids": [
           "EQ040-N22",
           "EQ040-N34"
          ],
          "sentence_id": "k90of0me-C000-S002"
         },
         {
          "nugget_ids": [
           "EQ040-N29"
          ],
          "sentence_id": "k90of0me-C000-S003"
         },
         {
          "nugget_ids": [
           "EQ040-N27"
          ],
          "sentence_id": "k90of0me-C000-S008"
         },
         {
          "nugget_ids": [
           "EQ040-N10",
           "EQ040-N14",
           "EQ040-N34"
          ],
          "sentence_id": "k90of0me-C000-S010"
         },
         {
          "nugget_ids": [
           "EQ040-N34"
          ],
          "sentence_id": "k90of0me-C000-S011"
         },
         {
          "nugget_ids": [
           "EQ040-N34"
          ],
          "sentence_id": "k90of0me-C000-S013"
         },
         {
          "nugget_ids": [
           "EQ040-N34"
          ],
          "sentence_id": "k90of0me-C000-S014"
         },
         {
          "nugget_ids": [
           "EQ040-N32",
           "EQ040-N36",
           "EQ040-N37"
          ],
          "sentence_id": "ulygq434-C033-S000"
         },
         {
          "nugget_ids": [
           "EQ040-N36",
           "EQ040-N37"
          ],
          "sentence_id": "ulygq434-C033-S001"
         },
         {
          "nugget_ids": [
           "EQ040-N32"
          ],
          "sentence_id": "ulygq434-C032-S000"
         },
         {
          "nugget_ids": [
           "EQ040-N24"
          ],
          "sentence_id": "ulygq434-C032-S003"
         },
         {
          "nugget_ids": [
           "EQ040-N32",
           "EQ040-N24"
          ],
          "sentence_id": "ulygq434-C007-S000"
         },
         {
          "nugget_ids": [
           "EQ040-N32",
           "EQ040-N24"
          ],
          "sentence_id": "ulygq434-C007-S003"
         },
         {
          "nugget_ids": [
           "EQ040-N03",
           "EQ040-N13",
           "EQ040-N31",
           "EQ040-N34"
          ],
          "sentence_id": "ulygq434-C007-S004"
         },
         {
          "nugget_ids": [
           "EQ040-N32"
          ],
          "sentence_id": "ulygq434-C007-S005"
         },
         {
          "nugget_ids": [
           "EQ040-N26"
          ],
          "sentence_id": "leyqhma0-C000-S000"
         },
         {
          "nugget_ids": [
           "EQ040-N24"
          ],
          "sentence_id": "leyqhma0-C000-S002"
         },
         {
          "nugget_ids": [
           "EQ040-N32"
          ],
          "sentence_id": "leyqhma0-C000-S005"
         },
         {
          "nugget_ids": [
           "EQ040-N17"
          ],
          "sentence_id": "leyqhma0-C000-S007"
         },
         {
          "nugget_ids": [
           "EQ040-N31",
           "EQ040-N03",
           "EQ040-N13",
           "EQ040-N34"
          ],
          "sentence_id": "leyqhma0-C000-S008"
         },
         {
          "nugget_ids": [
           "EQ040-N23"
          ],
          "sentence_id": "lf1bbw5u-C000-S002"
         },
         {
          "nugget_ids": [
           "EQ040-N35"
          ],
          "sentence_id": "lf1bbw5u-C000-S003"
         },
         {
          "nugget_ids": [
           "EQ040-N35",
           "EQ040-N23"
          ],
          "sentence_id": "lf1bbw5u-C000-S004"
         },
         {
          "nugget_ids": [
           "EQ040-N29"
          ],
          "sentence_id": "miujzgtd-C000-S005"
         },
         {
          "nugget_ids": [
           "EQ040-N23"
          ],
          "sentence_id": "mp3a9c9u-C002-S000"
         },
         {
          "nugget_ids": [
           "EQ040-N23"
          ],
          "sentence_id": "mp3a9c9u-C002-S002"
         },
         {
          "nugget_ids": [
           "EQ040-N23"
          ],
          "sentence_id": "mp3a9c9u-C002-S005"
         },
         {
          "nugget_ids": [
           "EQ040-N23"
          ],
          "sentence_id": "mp3a9c9u-C002-S007"
         },
         {
          "nugget_ids": [
           "EQ040-N23"
          ],
          "sentence_id": "mp3a9c9u-C002-S008"
         },
         {
          "nugget_ids": [
           "EQ040-N24"
          ],
          "sentence_id": "mp3a9c9u-C002-S009"
         },
         {
          "nugget_ids": [
           "EQ040-N24"
          ],
          "sentence_id": "mp3a9c9u-C002-S011"
         },
         {
          "nugget_ids": [
           "EQ040-N26"
          ],
          "sentence_id": "oonm8363-C001-S000"
         },
         {
          "nugget_ids": [
           "EQ040-N22",
           "EQ040-N29"
          ],
          "sentence_id": "oonm8363-C001-S001"
         },
         {
          "nugget_ids": [
           "EQ040-N24"
          ],
          "sentence_id": "oonm8363-C001-S003"
         },
         {
          "nugget_ids": [
           "EQ040-N33"
          ],
          "sentence_id": "oonm8363-C001-S005"
         },
         {
          "nugget_ids": [
           "EQ040-N34",
           "EQ040-N22"
          ],
          "sentence_id": "ow2aijmj-C000-S002"
         },
         {
          "nugget_ids": [
           "EQ040-N29"
          ],
          "sentence_id": "ow2aijmj-C000-S003"
         },
         {
          "nugget_ids": [
           "EQ040-N27"
          ],
          "sentence_id": "ow2aijmj-C000-S008"
         },
         {
          "nugget_ids": [
           "EQ040-N34",
           "EQ040-N10"
          ],
          "sentence_id": "ow2aijmj-C000-S010"
         },
         {
          "nugget_ids": [
           "EQ040-N34"
          ],
          "sentence_id": "ow2aijmj-C000-S011"
         },
         {
          "nugget_ids": [
           "EQ040-N34"
          ],
          "sentence_id": "ow2aijmj-C000-S013"
         },
         {
          "nugget_ids": [
           "EQ040-N34"
          ],
          "sentence_id": "ow2aijmj-C000-S014"
         },
         {
          "nugget_ids": [
           "EQ040-N29"
          ],
          "sentence_id": "ow2aijmj-C009-S000"
         },
         {
          "nugget_ids": [
           "EQ040-N29"
          ],
          "sentence_id": "ow2aijmj-C009-S001"
         },
         {
          "nugget_ids": [
           "EQ040-N03",
           "EQ040-N13",
           "EQ040-N31"
          ],
          "sentence_id": "pgiqxd7v-C016-S001"
         },
         {
          "nugget_ids": [
           "EQ040-N23"
          ],
          "sentence_id": "qvz63m93-C000-S003"
         },
         {
          "nugget_ids": [
           "EQ040-N29"
          ],
          "sentence_id": "qvz63m93-C000-S004"
         },
         {
          "nugget_ids": [
           "EQ040-N29",
           "EQ040-N28",
           "EQ040-N14"
          ],
          "sentence_id": "qvz63m93-C000-S005"
         },
         {
          "nugget_ids": [
           "EQ040-N35",
           "EQ040-N28"
          ],
          "sentence_id": "qvz63m93-C000-S006"
         },
         {
          "nugget_ids": [
           "EQ040-N35"
          ],
          "sentence_id": "qvz63m93-C000-S008"
         },
         {
          "nugget_ids": [
           "EQ040-N28",
           "EQ040-N02",
           "EQ040-N13",
           "EQ040-N03",
           "EQ040-N31"
          ],
          "sentence_id": "qvz63m93-C000-S009"
         },
         {
          "nugget_ids": [
           "EQ040-N35"
          ],
          "sentence_id": "qvz63m93-C000-S011"
         },
         {
          "nugget_ids": [
           "EQ040-N29"
          ],
          "sentence_id": "qvz63m93-C000-S012"
         },
         {
          "nugget_ids": [
           "EQ040-N17",
           "EQ040-N24"
          ],
          "sentence_id": "r3t4bd78-C005-S001"
         },
         {
          "nugget_ids": [
           "EQ040-N24",
           "EQ040-N29"
          ],
          "sentence_id": "r3t4bd78-C005-S004"
         },
         {
          "nugget_ids": [
           "EQ040-N29"
          ],
          "sentence_id": "rcv8sh22-C005-S000"
         },
         {
          "nugget_ids": [
           "EQ040-N24"
          ],
          "sentence_id": "rcv8sh22-C005-S001"
         },
         {
          "nugget_ids": [
           "EQ040-N29"
          ],
          "sentence_id": "rcv8sh22-C005-S003"
         },
         {
          "nugget_ids": [
           "EQ040-N29"
          ],
          "sentence_id": "vahud6o5-C000-S002"
         },
         {
          "nugget_ids": [
           "EQ040-N10",
           "EQ040-N28"
          ],
          "sentence_id": "vahud6o5-C000-S003"
         },
         {
          "nugget_ids": [
           "EQ040-N18"
          ],
          "sentence_id": "vahud6o5-C000-S004"
         },
         {
          "nugget_ids": [
           "EQ040-N03",
           "EQ040-N13",
           "EQ040-N30",
           "EQ040-N31",
           "EQ040-N19"
          ],
          "sentence_id": "vahud6o5-C000-S005"
         },
         {
          "nugget_ids": [
           "EQ040-N06"
          ],
          "sentence_id": "vahud6o5-C000-S008"
         },
         {
          "nugget_ids": [
           "EQ040-N29"
          ],
          "sentence_id": "vahud6o5-C000-S012"
         },
         {
          "nugget_ids": [
           "EQ040-N11"
          ],
          "sentence_id": "vahud6o5-C000-S013"
         },
         {
          "nugget_ids": [
           "EQ040-N29"
          ],
          "sentence_id": "wk63bmgn-C000-S001"
         },
         {
          "nugget_ids": [
           "EQ040-N32"
          ],
          "sentence_id": "ulygq434-C032-S000"
         },
         {
          "nugget_ids": [
           "EQ040-N24"
          ],
          "sentence_id": "ulygq434-C032-S003"
         },
         {
          "nugget_ids": [
           "EQ040-N36",
           "EQ040-N37"
          ],
          "sentence_id": "ulygq434-C033-S000"
         },
         {
          "nugget_ids": [
           "EQ040-N37",
           "EQ040-N36"
          ],
          "sentence_id": "ulygq434-C033-S001"
         },
         {
          "nugget_ids": [
           "EQ040-N36",
           "EQ040-N37"
          ],
          "sentence_id": "ulygq434-C033-S000"
         },
         {
          "nugget_ids": [
           "EQ040-N37",
           "EQ040-N36"
          ],
          "sentence_id": "ulygq434-C033-S001"
         }
        ],
        "nuggets": [
         {
          "nugget": "insertion mutations",
          "nugget_id": "EQ040-N37"
         },
         {
          "nugget": "deletion  mutations",
          "nugget_id": "EQ040-N36"
         },
         {
          "nugget": "fatality outcome",
          "nugget_id": "EQ040-N35"
         },
         {
          "nugget": "RdRp gene",
          "nugget_id": "EQ040-N34"
         },
         {
          "nugget": "genomic surveillance",
          "nugget_id": "EQ040-N33"
         },
         {
          "nugget": "SNP genotyping",
          "nugget_id": "EQ040-N32"
         },
         {
          "nugget": "spike protein",
          "nugget_id": "EQ040-N31"
         },
         {
          "nugget": "RBD",
          "nugget_id": "EQ040-N30"
         },
         {
          "nugget": "genetic diversity",
          "nugget_id": "EQ040-N29"
         },
         {
          "nugget": "non-synonymous mutations",
          "nugget_id": "EQ040-N28"
         },
         {
          "nugget": "recurrent mutations",
          "nugget_id": "EQ040-N27"
         },
         {
          "nugget": "emergence",
          "nugget_id": "EQ040-N26"
         },
         {
          "nugget": "natural selection",
          "nugget_id": "EQ040-N25"
         },
         {
          "nugget": "viral transmission",
          "nugget_id": "EQ040-N24"
         },
         {
          "nugget": "Phylogenetic tree",
          "nugget_id": "EQ040-N23"
         },
         {
          "nugget": "viral replication",
          "nugget_id": "EQ040-N22"
         },
         {
          "nugget": "nsp3",
          "nugget_id": "EQ040-N21"
         },
         {
          "nugget": "nsp2",
          "nugget_id": "EQ040-N20"
         },
         {
          "nugget": "intergenomic introgression",
          "nugget_id": "EQ040-N19"
         },
         {
          "nugget": "adaptation",
          "nugget_id": "EQ040-N18"
         },
         {
          "nugget": "viral pathogenicity",
          "nugget_id": "EQ040-N17"
         },
         {
          "nugget": "codon usage",
          "nugget_id": "EQ040-N16"
         },
         {
          "nugget": "elevated synonymous mutations",
          "nugget_id": "EQ040-N15"
         },
         {
          "nugget": "amino acid substitutions",
          "nugget_id": "EQ040-N14"
         },
         {
          "nugget": "spike gene",
          "nugget_id": "EQ040-N13"
         },
         {
          "nugget": "neutral evolution",
          "nugget_id": "EQ040-N12"
         },
         {
          "nugget": "haplotype",
          "nugget_id": "EQ040-N11"
         },
         {
          "nugget": "synonymous mutations",
          "nugget_id": "EQ040-N10"
         },
         {
          "nugget": "missense mutation frequencies",
          "nugget_id": "EQ040-N09"
         },
         {
          "nugget": "conservative inframe deletions",
          "nugget_id": "EQ040-N08"
         },
         {
          "nugget": "recurrent deletions",
          "nugget_id": "EQ040-N07"
         },
         {
          "nugget": "envelope protein gene orf3",
          "nugget_id": "EQ040-N06"
         },
         {
          "nugget": "frameshift deletions",
          "nugget_id": "EQ040-N05"
         },
         {
          "nugget": "in-frame deletions",
          "nugget_id": "EQ040-N04"
         },
         {
          "nugget": "surface glycoprotein S gene",
          "nugget_id": "EQ040-N03"
         },
         {
          "nugget": "orf1ab polyprotein",
          "nugget_id": "EQ040-N02"
         },
         {
          "nugget": "single-stranded RNA genome",
          "nugget_id": "EQ040-N01"
         },
         {
          "nugget": "missense mutations",
          "nugget_id": "EQ040-N00"
         }
        ],
        "question_id": "EQ040"
       },
       {
        "annotations": [
         {
          "nugget_ids": [
           "EQ002-N13"
          ],
          "sentence_id": "0jm73t0s-C020-S000"
         },
         {
          "nugget_ids": [
           "EQ002-N00",
           "EQ002-N13"
          ],
          "sentence_id": "0jm73t0s-C020-S002"
         },
         {
          "nugget_ids": [
           "EQ002-N00",
           "EQ002-N13"
          ],
          "sentence_id": "0jm73t0s-C020-S003"
         },
         {
          "nugget_ids": [
           "EQ002-N00"
          ],
          "sentence_id": "0jm73t0s-C020-S008"
         },
         {
          "nugget_ids": [
           "EQ002-N02"
          ],
          "sentence_id": "1npav6m4-C000-S001"
         },
         {
          "nugget_ids": [
           "EQ002-N01"
          ],
          "sentence_id": "3vntjg8d-C006-S001"
         },
         {
          "nugget_ids": [
           "EQ002-N08"
          ],
          "sentence_id": "526elsrf-C000-S007"
         },
         {
          "nugget_ids": [
           "EQ002-N01"
          ],
          "sentence_id": "526elsrf-C000-S008"
         },
         {
          "nugget_ids": [
           "EQ002-N12"
          ],
          "sentence_id": "526elsrf-C000-S009"
         },
         {
          "nugget_ids": [
           "EQ002-N05"
          ],
          "sentence_id": "526elsrf-C000-S010"
         },
         {
          "nugget_ids": [
           "EQ002-N09",
           "EQ002-N10",
           "EQ002-N01"
          ],
          "sentence_id": "526elsrf-C000-S011"
         },
         {
          "nugget_ids": [
           "EQ002-N01",
           "EQ002-N05"
          ],
          "sentence_id": "526elsrf-C000-S013"
         },
         {
          "nugget_ids": [
           "EQ002-N11"
          ],
          "sentence_id": "5kyx6ycq-C018-S002"
         },
         {
          "nugget_ids": [
           "EQ002-N11",
           "EQ002-N00"
          ],
          "sentence_id": "5kyx6ycq-C018-S003"
         },
         {
          "nugget_ids": [
           "EQ002-N11",
           "EQ002-N00"
          ],
          "sentence_id": "5kyx6ycq-C018-S004"
         },
         {
          "nugget_ids": [
           "EQ002-N11"
          ],
          "sentence_id": "5kyx6ycq-C018-S005"
         },
         {
          "nugget_ids": [
           "EQ002-N11",
           "EQ002-N00"
          ],
          "sentence_id": "5kyx6ycq-C018-S006"
         },
         {
          "nugget_ids": [
           "EQ002-N02"
          ],
          "sentence_id": "vn45rnve-C001-S000"
         },
         {
          "nugget_ids": [
           "EQ002-N15"
          ],
          "sentence_id": "7wirya95-C017-S002"
         },
         {
          "nugget_ids": [
           "EQ002-N11"
          ],
          "sentence_id": "9svrz0vj-C000-S001"
         },
         {
          "nugget_ids": [
           "EQ002-N11",
           "EQ002-N02"
          ],
          "sentence_id": "9svrz0vj-C000-S005"
         },
         {
          "nugget_ids": [
           "EQ002-N15"
          ],
          "sentence_id": "9svrz0vj-C000-S003"
         },
         {
          "nugget_ids": [
           "EQ002-N11"
          ],
          "sentence_id": "akb96git-C000-S000"
         },
         {
          "nugget_ids": [
           "EQ002-N10"
          ],
          "sentence_id": "akb96git-C000-S003"
         },
         {
          "nugget_ids": [
           "EQ002-N11"
          ],
          "sentence_id": "akb96git-C028-S001"
         },
         {
          "nugget_ids": [
           "EQ002-N15"
          ],
          "sentence_id": "lysvg3vw-C017-S000"
         },
         {
          "nugget_ids": [
           "EQ002-N02"
          ],
          "sentence_id": "lysvg3vw-C017-S001"
         },
         {
          "nugget_ids": [
           "EQ002-N11",
           "EQ002-N00",
           "EQ002-N06"
          ],
          "sentence_id": "lysvg3vw-C017-S003"
         },
         {
          "nugget_ids": [
           "EQ002-N00",
           "EQ002-N06"
          ],
          "sentence_id": "lysvg3vw-C017-S007"
         },
         {
          "nugget_ids": [
           "EQ002-N01",
           "EQ002-N05"
          ],
          "sentence_id": "4hbwg18z-C004-S003"
         },
         {
          "nugget_ids": [
           "EQ002-N01",
           "EQ002-N05"
          ],
          "sentence_id": "4hbwg18z-C004-S002"
         },
         {
          "nugget_ids": [
           "EQ002-N00"
          ],
          "sentence_id": "cx3lf0dx-C000-S004"
         },
         {
          "nugget_ids": [
           "EQ002-N00"
          ],
          "sentence_id": "cx3lf0dx-C000-S006"
         },
         {
          "nugget_ids": [
           "EQ002-N11"
          ],
          "sentence_id": "d9zu9an6-C000-S006"
         },
         {
          "nugget_ids": [
           "EQ002-N06"
          ],
          "sentence_id": "hadnxjeo-C007-S010"
         },
         {
          "nugget_ids": [
           "EQ002-N00"
          ],
          "sentence_id": "hadnxjeo-C007-S011"
         },
         {
          "nugget_ids": [
           "EQ002-N14"
          ],
          "sentence_id": "hadnxjeo-C007-S012"
         },
         {
          "nugget_ids": [
           "EQ002-N13"
          ],
          "sentence_id": "hadnxjeo-C000-S003"
         },
         {
          "nugget_ids": [
           "EQ002-N00",
           "EQ002-N06"
          ],
          "sentence_id": "hadnxjeo-C000-S002"
         },
         {
          "nugget_ids": [
           "EQ002-N00",
           "EQ002-N06"
          ],
          "sentence_id": "hadnxjeo-C000-S001"
         },
         {
          "nugget_ids": [
           "EQ002-N01",
           "EQ002-N05"
          ],
          "sentence_id": "it0vccw3-C000-S003"
         },
         {
          "nugget_ids": [
           "EQ002-N01",
           "EQ002-N05"
          ],
          "sentence_id": "it0vccw3-C000-S004"
         },
         {
          "nugget_ids": [
           "EQ002-N02"
          ],
          "sentence_id": "lysvg3vw-C017-S001"
         },
         {
          "nugget_ids": [
           "EQ002-N02"
          ],
          "sentence_id": "lysvg3vw-C017-S002"
         },
         {
          "nugget_ids": [
           "EQ002-N00",
           "EQ002-N06",
           "EQ002-N11"
          ],
          "sentence_id": "lysvg3vw-C017-S003"
         },
         {
          "nugget_ids": [
           "EQ002-N00",
           "EQ002-N06"
          ],
          "sentence_id": "lysvg3vw-C017-S007"
         },
         {
          "nugget_ids": [
           "EQ002-N06",
           "EQ002-N00",
           "EQ002-N01",
           "EQ002-N05",
           "EQ002-N09",
           "EQ002-N10"
          ],
          "sentence_id": "mdyojac2-C024-S001"
         },
         {
          "nugget_ids": [
           "EQ002-N03"
          ],
          "sentence_id": "n0c0928t-C004-S001"
         },
         {
          "nugget_ids": [
           "EQ002-N03"
          ],
          "sentence_id": "n0c0928t-C004-S000"
         },
         {
          "nugget_ids": [
           "EQ002-N15"
          ],
          "sentence_id": "og0zw56h-C004-S001"
         },
         {
          "nugget_ids": [
           "EQ002-N15"
          ],
          "sentence_id": "og0zw56h-C004-S002"
         },
         {
          "nugget_ids": [
           "EQ002-N15"
          ],
          "sentence_id": "og0zw56h-C004-S003"
         },
         {
          "nugget_ids": [
           "EQ002-N15"
          ],
          "sentence_id": "og0zw56h-C004-S004"
         },
         {
          "nugget_ids": [
           "EQ002-N06"
          ],
          "sentence_id": "pm6ta0qy-C000-S005"
         },
         {
          "nugget_ids": [
           "EQ002-N06"
          ],
          "sentence_id": "pm6ta0qy-C000-S007"
         },
         {
          "nugget_ids": [
           "EQ002-N00"
          ],
          "sentence_id": "pm6ta0qy-C000-S006"
         },
         {
          "nugget_ids": [
           "EQ002-N00"
          ],
          "sentence_id": "pm6ta0qy-C000-S008"
         },
         {
          "nugget_ids": [
           "EQ002-N00"
          ],
          "sentence_id": "pm6ta0qy-C000-S010"
         },
         {
          "nugget_ids": [
           "EQ002-N00"
          ],
          "sentence_id": "pm6ta0qy-C000-S009"
         },
         {
          "nugget_ids": [
           "EQ002-N15"
          ],
          "sentence_id": "q9ab1pji-C003-S003"
         },
         {
          "nugget_ids": [
           "EQ002-N15"
          ],
          "sentence_id": "q9ab1pji-C003-S002"
         },
         {
          "nugget_ids": [
           "EQ002-N00",
           "EQ002-N06",
           "EQ002-N02"
          ],
          "sentence_id": "qz2joxys-C000-S012"
         },
         {
          "nugget_ids": [
           "EQ002-N00"
          ],
          "sentence_id": "qz2joxys-C000-S013"
         },
         {
          "nugget_ids": [
           "EQ002-N11"
          ],
          "sentence_id": "r141na6j-C016-S001"
         },
         {
          "nugget_ids": [
           "EQ002-N11"
          ],
          "sentence_id": "r141na6j-C016-S000"
         },
         {
          "nugget_ids": [
           "EQ002-N11"
          ],
          "sentence_id": "r141na6j-C016-S003"
         },
         {
          "nugget_ids": [
           "EQ002-N00"
          ],
          "sentence_id": "r9yrr45q-C017-S001"
         },
         {
          "nugget_ids": [
           "EQ002-N00"
          ],
          "sentence_id": "r9yrr45q-C017-S003"
         },
         {
          "nugget_ids": [
           "EQ002-N08"
          ],
          "sentence_id": "r9yrr45q-C017-S004"
         },
         {
          "nugget_ids": [
           "EQ002-N00",
           "EQ002-N06"
          ],
          "sentence_id": "wic7n6ia-C022-S001"
         },
         {
          "nugget_ids": [
           "EQ002-N00"
          ],
          "sentence_id": "wic7n6ia-C022-S002"
         },
         {
          "nugget_ids": [
           "EQ002-N15"
          ],
          "sentence_id": "wjmu0p9u-C001-S004"
         },
         {
          "nugget_ids": [
           "EQ002-N00",
           "EQ002-N06"
          ],
          "sentence_id": "xhdqe7hh-C024-S001"
         },
         {
          "nugget_ids": [
           "EQ002-N00"
          ],
          "sentence_id": "xrgnt6l5-C000-S001"
         },
         {
          "nugget_ids": [
           "EQ002-N06"
          ],
          "sentence_id": "xrgnt6l5-C000-S002"
         },
         {
          "nugget_ids": [
           "EQ002-N11"
          ],
          "sentence_id": "xrgnt6l5-C000-S004"
         },
         {
          "nugget_ids": [
           "EQ002-N11"
          ],
          "sentence_id": "xrgnt6l5-C000-S005"
         },
         {
          "nugget_ids": [
           "EQ002-N11"
          ],
          "sentence_id": "xrgnt6l5-C000-S003"
         },
         {
          "nugget_ids": [
           "EQ002-N16"
          ],
          "sentence_id": "yi57n8nc-C000-S006"
         },
         {
          "nugget_ids": [
           "EQ002-N16"
          ],
          "sentence_id": "yi57n8nc-C000-S005"
         },
         {
          "nugget_ids": [
           "EQ002-N16"
          ],
          "sentence_id": "yi57n8nc-C000-S004"
         },
         {
          "nugget_ids": [
           "EQ002-N06",
           "EQ002-N00"
          ],
          "sentence_id": "yi57n8nc-C016-S002"
         },
         {
          "nugget_ids": [
           "EQ002-N16"
          ],
          "sentence_id": "yi57n8nc-C016-S003"
         },
         {
          "nugget_ids": [
           "EQ002-N06"
          ],
          "sentence_id": "zvngy7zz-C000-S002"
         },
         {
          "nugget_ids": [
           "EQ002-N06",
           "EQ002-N15"
          ],
          "sentence_id": "zvngy7zz-C000-S001"
         },
         {
          "nugget_ids": [
           "EQ002-N00",
           "EQ002-N06",
           "EQ002-N02"
          ],
          "sentence_id": "zvngy7zz-C000-S003"
         }
        ],
        "nuggets": [
         {
          "nugget": "recovery",
          "nugget_id": "EQ002-N16"
         },
         {
          "nugget": "similar virus behavior",
          "nugget_id": "EQ002-N15"
         },
         {
          "nugget": "UV effects",
          "nugget_id": "EQ002-N14"
         },
         {
          "nugget": "weather effect behavior",
          "nugget_id": "EQ002-N13"
         },
         {
          "nugget": "humidity effect on temp",
          "nugget_id": "EQ002-N12"
         },
         {
          "nugget": "climate",
          "nugget_id": "EQ002-N11"
         },
         {
          "nugget": "precipitation life",
          "nugget_id": "EQ002-N10"
         },
         {
          "nugget": "wind life",
          "nugget_id": "EQ002-N09"
         },
         {
          "nugget": "delay complications",
          "nugget_id": "EQ002-N08"
         },
         {
          "nugget": "immune response",
          "nugget_id": "EQ002-N07"
         },
         {
          "nugget": "humidity transmission",
          "nugget_id": "EQ002-N06"
         },
         {
          "nugget": "humidity life",
          "nugget_id": "EQ002-N05"
         },
         {
          "nugget": "air quality",
          "nugget_id": "EQ002-N04"
         },
         {
          "nugget": "atmosphere",
          "nugget_id": "EQ002-N03"
         },
         {
          "nugget": "seasonal effect",
          "nugget_id": "EQ002-N02"
         },
         {
          "nugget": "temp life",
          "nugget_id": "EQ002-N01"
         },
         {
          "nugget": "temp transmission",
          "nugget_id": "EQ002-N00"
         }
        ],
        "question_id": "EQ002"
       },
       {
        "annotations": [
         {
          "nugget_ids": [
           "CQ002-N00"
          ],
          "sentence_id": "95534418522ff422077fa28cb7dd5e824d6841a4-C102-S000"
         },
         {
          "nugget_ids": [
           "CQ002-N01"
          ],
          "sentence_id": "95534418522ff422077fa28cb7dd5e824d6841a4-C102-S001"
         },
         {
          "nugget_ids": [
           "CQ002-N00"
          ],
          "sentence_id": "95534418522ff422077fa28cb7dd5e824d6841a4-C047-S002"
         },
         {
          "nugget_ids": [
           "CQ002-N01"
          ],
          "sentence_id": "95534418522ff422077fa28cb7dd5e824d6841a4-C047-S003"
         },
         {
          "nugget_ids": [
           "CQ002-N03",
           "CQ002-N04"
          ],
          "sentence_id": "95534418522ff422077fa28cb7dd5e824d6841a4-C047-S009"
         },
         {
          "nugget_ids": [
           "CQ002-N03",
           "CQ002-N04"
          ],
          "sentence_id": "95534418522ff422077fa28cb7dd5e824d6841a4-C047-S008"
         },
         {
          "nugget_ids": [
           "CQ002-N03",
           "CQ002-N04"
          ],
          "sentence_id": "95534418522ff422077fa28cb7dd5e824d6841a4-C104-S000"
         },
         {
          "nugget_ids": [
           "CQ002-N03",
           "CQ002-N04"
          ],
          "sentence_id": "95534418522ff422077fa28cb7dd5e824d6841a4-C104-S001"
         },
         {
          "nugget_ids": [
           "CQ002-N03",
           "CQ002-N04"
          ],
          "sentence_id": "95534418522ff422077fa28cb7dd5e824d6841a4-C007-S004"
         },
         {
          "nugget_ids": [
           "CQ002-N03",
           "CQ002-N04"
          ],
          "sentence_id": "95534418522ff422077fa28cb7dd5e824d6841a4-C007-S005"
         }
        ],
        "nuggets": [
         {
          "nugget": "other humidity survival",
          "nugget_id": "CQ002-N04"
         },
         {
          "nugget": "other temp survival",
          "nugget_id": "CQ002-N03"
         },
         {
          "nugget": "other humidity spread",
          "nugget_id": "CQ002-N02"
         },
         {
          "nugget": "other temp spread",
          "nugget_id": "CQ002-N01"
         },
         {
          "nugget": "unknown effect",
          "nugget_id": "CQ002-N00"
         }
        ],
        "question_id": "CQ002"
       },
       {
        "annotations": [
         {
          "nugget_ids": [
           "EQ005-N07",
           "EQ005-N05"
          ],
          "sentence_id": "03pd9jtn-C022-S000"
         },
         {
          "nugget_ids": [
           "EQ005-N00"
          ],
          "sentence_id": "1kzy7rts-C020-S000"
         },
         {
          "nugget_ids": [
           "EQ005-N00"
          ],
          "sentence_id": "1kzy7rts-C020-S002"
         },
         {
          "nugget_ids": [
           "EQ005-N00"
          ],
          "sentence_id": "1kzy7rts-C020-S003"
         },
         {
          "nugget_ids": [
           "EQ005-N00"
          ],
          "sentence_id": "1kzy7rts-C020-S004"
         },
         {
          "nugget_ids": [
           "EQ005-N01"
          ],
          "sentence_id": "1kzy7rts-C020-S006"
         },
         {
          "nugget_ids": [
           "EQ005-N01"
          ],
          "sentence_id": "1kzy7rts-C020-S007"
         },
         {
          "nugget_ids": [
           "EQ005-N01"
          ],
          "sentence_id": "1kzy7rts-C020-S008"
         },
         {
          "nugget_ids": [
           "EQ005-N01"
          ],
          "sentence_id": "1kzy7rts-C020-S009"
         },
         {
          "nugget_ids": [
           "EQ005-N01",
           "EQ005-N07",
           "EQ005-N04"
          ],
          "sentence_id": "1kzy7rts-C020-S010"
         },
         {
          "nugget_ids": [
           "EQ005-N01"
          ],
          "sentence_id": "1kzy7rts-C020-S011"
         },
         {
          "nugget_ids": [
           "EQ005-N01"
          ],
          "sentence_id": "1kzy7rts-C020-S012"
         },
         {
          "nugget_ids": [
           "EQ005-N01"
          ],
          "sentence_id": "1kzy7rts-C020-S013"
         },
         {
          "nugget_ids": [
           "EQ005-N02"
          ],
          "sentence_id": "2cuts3d9-C000-S002"
         },
         {
          "nugget_ids": [
           "EQ005-N02"
          ],
          "sentence_id": "2cuts3d9-C000-S003"
         },
         {
          "nugget_ids": [
           "EQ005-N04"
          ],
          "sentence_id": "2p209g2p-C021-S002"
         },
         {
          "nugget_ids": [
           "EQ005-N04",
           "EQ005-N09"
          ],
          "sentence_id": "2p209g2p-C021-S003"
         },
         {
          "nugget_ids": [
           "EQ005-N01"
          ],
          "sentence_id": "vh30awom-C025-S002"
         },
         {
          "nugget_ids": [
           "EQ005-N01"
          ],
          "sentence_id": "vh30awom-C025-S003"
         },
         {
          "nugget_ids": [
           "EQ005-N01"
          ],
          "sentence_id": "vh30awom-C025-S004"
         },
         {
          "nugget_ids": [
           "EQ005-N07"
          ],
          "sentence_id": "vh30awom-C025-S005"
         },
         {
          "nugget_ids": [
           "EQ005-N02",
           "EQ005-N05"
          ],
          "sentence_id": "vh30awom-C025-S006"
         },
         {
          "nugget_ids": [
           "EQ005-N04"
          ],
          "sentence_id": "vh30awom-C025-S008"
         },
         {
          "nugget_ids": [
           "EQ005-N07",
           "EQ005-N05",
           "EQ005-N06"
          ],
          "sentence_id": "7h3rrea7-C000-S002"
         },
         {
          "nugget_ids": [
           "EQ005-N07",
           "EQ005-N05",
           "EQ005-N06"
          ],
          "sentence_id": "7h3rrea7-C000-S003"
         },
         {
          "nugget_ids": [
           "EQ005-N06"
          ],
          "sentence_id": "7h3rrea7-C000-S004"
         },
         {
          "nugget_ids": [
           "EQ005-N07",
           "EQ005-N05",
           "EQ005-N06"
          ],
          "sentence_id": "7h3rrea7-C000-S011"
         },
         {
          "nugget_ids": [
           "EQ005-N06"
          ],
          "sentence_id": "7h3rrea7-C000-S012"
         },
         {
          "nugget_ids": [
           "EQ005-N14",
           "EQ005-N02"
          ],
          "sentence_id": "7jhjlxtf-C025-S007"
         },
         {
          "nugget_ids": [
           "EQ005-N08"
          ],
          "sentence_id": "aoti88v7-C000-S004"
         },
         {
          "nugget_ids": [
           "EQ005-N09",
           "EQ005-N10"
          ],
          "sentence_id": "c6pbr3nn-C000-S001"
         },
         {
          "nugget_ids": [
           "EQ005-N09",
           "EQ005-N10"
          ],
          "sentence_id": "c6pbr3nn-C000-S002"
         },
         {
          "nugget_ids": [
           "EQ005-N09"
          ],
          "sentence_id": "c6pbr3nn-C000-S004"
         },
         {
          "nugget_ids": [
           "EQ005-N09",
           "EQ005-N10"
          ],
          "sentence_id": "c6pbr3nn-C000-S005"
         },
         {
          "nugget_ids": [
           "EQ005-N01"
          ],
          "sentence_id": "gg8hptfg-C003-S004"
         },
         {
          "nugget_ids": [
           "EQ005-N05",
           "EQ005-N18"
          ],
          "sentence_id": "gg8hptfg-C003-S003"
         },
         {
          "nugget_ids": [
           "EQ005-N11"
          ],
          "sentence_id": "gpr86lxe-C000-S005"
         },
         {
          "nugget_ids": [
           "EQ005-N11",
           "EQ005-N01",
           "EQ005-N20"
          ],
          "sentence_id": "gpr86lxe-C000-S006"
         },
         {
          "nugget_ids": [
           "EQ005-N12"
          ],
          "sentence_id": "h06zxykb-C000-S002"
         },
         {
          "nugget_ids": [
           "EQ005-N12",
           "EQ005-N13"
          ],
          "sentence_id": "h06zxykb-C000-S003"
         },
         {
          "nugget_ids": [
           "EQ005-N12"
          ],
          "sentence_id": "h06zxykb-C000-S005"
         },
         {
          "nugget_ids": [
           "EQ005-N02",
           "EQ005-N14"
          ],
          "sentence_id": "jbc74lcu-C000-S009"
         },
         {
          "nugget_ids": [
           "EQ005-N01"
          ],
          "sentence_id": "ljmkqdzx-C003-S000"
         },
         {
          "nugget_ids": [
           "EQ005-N01"
          ],
          "sentence_id": "ljmkqdzx-C003-S001"
         },
         {
          "nugget_ids": [
           "EQ005-N01"
          ],
          "sentence_id": "ljmkqdzx-C003-S003"
         },
         {
          "nugget_ids": [
           "EQ005-N09"
          ],
          "sentence_id": "lzocumhd-C000-S007"
         },
         {
          "nugget_ids": [
           "EQ005-N09"
          ],
          "sentence_id": "lzocumhd-C000-S010"
         },
         {
          "nugget_ids": [
           "EQ005-N08"
          ],
          "sentence_id": "m3go4tun-C008-S003"
         },
         {
          "nugget_ids": [
           "EQ005-N16",
           "EQ005-N17"
          ],
          "sentence_id": "m3go4tun-C008-S004"
         },
         {
          "nugget_ids": [
           "EQ005-N08"
          ],
          "sentence_id": "m3go4tun-C008-S006"
         },
         {
          "nugget_ids": [
           "EQ005-N18",
           "EQ005-N19",
           "EQ005-N20"
          ],
          "sentence_id": "m7dwbheg-C000-S007"
         },
         {
          "nugget_ids": [
           "EQ005-N07"
          ],
          "sentence_id": "oxyfwtsx-C004-S007"
         },
         {
          "nugget_ids": [
           "EQ005-N07"
          ],
          "sentence_id": "pld0clpd-C026-S004"
         },
         {
          "nugget_ids": [
           "EQ005-N01",
           "EQ005-N07"
          ],
          "sentence_id": "pld0clpd-C026-S006"
         },
         {
          "nugget_ids": [
           "EQ005-N01"
          ],
          "sentence_id": "pld0clpd-C026-S007"
         },
         {
          "nugget_ids": [
           "EQ005-N02"
          ],
          "sentence_id": "pld0clpd-C028-S003"
         },
         {
          "nugget_ids": [
           "EQ005-N07"
          ],
          "sentence_id": "pld0clpd-C028-S007"
         },
         {
          "nugget_ids": [
           "EQ005-N07"
          ],
          "sentence_id": "pld0clpd-C028-S008"
         },
         {
          "nugget_ids": [
           "EQ005-N01"
          ],
          "sentence_id": "qci7khki-C010-S003"
         },
         {
          "nugget_ids": [
           "EQ005-N07",
           "EQ005-N01",
           "EQ005-N02",
           "EQ005-N05"
          ],
          "sentence_id": "qci7khki-C012-S005"
         },
         {
          "nugget_ids": [
           "EQ005-N01"
          ],
          "sentence_id": "qutdsod1-C006-S012"
         },
         {
          "nugget_ids": [
           "EQ005-N01"
          ],
          "sentence_id": "qutdsod1-C006-S013"
         },
         {
          "nugget_ids": [
           "EQ005-N07"
          ],
          "sentence_id": "rzy6nv0p-C006-S004"
         },
         {
          "nugget_ids": [
           "EQ005-N07"
          ],
          "sentence_id": "rzy6nv0p-C006-S005"
         },
         {
          "nugget_ids": [
           "EQ005-N07"
          ],
          "sentence_id": "rzy6nv0p-C006-S006"
         },
         {
          "nugget_ids": [
           "EQ005-N07"
          ],
          "sentence_id": "rzy6nv0p-C006-S007"
         },
         {
          "nugget_ids": [
           "EQ005-N09"
          ],
          "sentence_id": "rzy6nv0p-C006-S008"
         },
         {
          "nugget_ids": [
           "EQ005-N01"
          ],
          "sentence_id": "sniabjhu-C015-S000"
         },
         {
          "nugget_ids": [
           "EQ005-N01"
          ],
          "sentence_id": "sniabjhu-C015-S002"
         },
         {
          "nugget_ids": [
           "EQ005-N01"
          ],
          "sentence_id": "sniabjhu-C015-S004"
         },
         {
          "nugget_ids": [
           "EQ005-N01"
          ],
          "sentence_id": "vh30awom-C025-S002"
         },
         {
          "nugget_ids": [
           "EQ005-N01"
          ],
          "sentence_id": "vh30awom-C025-S003"
         },
         {
          "nugget_ids": [
           "EQ005-N01"
          ],
          "sentence_id": "vh30awom-C025-S004"
         },
         {
          "nugget_ids": [
           "EQ005-N07"
          ],
          "sentence_id": "vh30awom-C025-S005"
         },
         {
          "nugget_ids": [
           "EQ005-N02",
           "EQ005-N05"
          ],
          "sentence_id": "vh30awom-C025-S006"
         },
         {
          "nugget_ids": [
           "EQ005-N00",
           "EQ005-N00"
          ],
          "sentence_id": "q6ejkn83-C012-S000"
         },
         {
          "nugget_ids": [
           "EQ005-N00"
          ],
          "sentence_id": "q6ejkn83-C012-S002"
         },
         {
          "nugget_ids": [
           "EQ005-N00"
          ],
          "sentence_id": "q6ejkn83-C012-S003"
         },
         {
          "nugget_ids": [
           "EQ005-N00"
          ],
          "sentence_id": "q6ejkn83-C012-S005"
         },
         {
          "nugget_ids": [
           "EQ005-N00"
          ],
          "sentence_id": "q6ejkn83-C012-S006"
         },
         {
          "nugget_ids": [
           "EQ005-N00"
          ],
          "sentence_id": "q6ejkn83-C012-S009"
         },
         {
          "nugget_ids": [
           "EQ005-N00"
          ],
          "sentence_id": "q6ejkn83-C012-S011"
         }
        ],
        "nuggets": [
         {
          "nugget": "RDV",
          "nugget_id": "EQ005-N21"
         },
         {
          "nugget": "Omeprazol",
          "nugget_id": "EQ005-N20"
         },
         {
          "nugget": "Opipramol",
          "nugget_id": "EQ005-N19"
         },
         {
          "nugget": "Azithromycine",
          "nugget_id": "EQ005-N18"
         },
         {
          "nugget": "S227.14",
          "nugget_id": "EQ005-N17"
         },
         {
          "nugget": "S109.8",
          "nugget_id": "EQ005-N16"
         },
         {
          "nugget": "S230.15",
          "nugget_id": "EQ005-N15"
         },
         {
          "nugget": "chlorpromazine",
          "nugget_id": "EQ005-N14"
         },
         {
          "nugget": "cathepsin inhibitor",
          "nugget_id": "EQ005-N13"
         },
         {
          "nugget": "camostat",
          "nugget_id": "EQ005-N12"
         },
         {
          "nugget": "aprotinin",
          "nugget_id": "EQ005-N11"
         },
         {
          "nugget": "Cepharanthine",
          "nugget_id": "EQ005-N10"
         },
         {
          "nugget": "Nelfinavir",
          "nugget_id": "EQ005-N09"
         },
         {
          "nugget": "SARS-CoV-2-RBD binding agents",
          "nugget_id": "EQ005-N08"
         },
         {
          "nugget": "lopinavir-ritonavir",
          "nugget_id": "EQ005-N07"
         },
         {
          "nugget": "emtricitabine-tenofovir",
          "nugget_id": "EQ005-N06"
         },
         {
          "nugget": "hydroxychloroquine",
          "nugget_id": "EQ005-N05"
         },
         {
          "nugget": "Interferon beta",
          "nugget_id": "EQ005-N04"
         },
         {
          "nugget": "infacon-1",
          "nugget_id": "EQ005-N03"
         },
         {
          "nugget": "chloroquine",
          "nugget_id": "EQ005-N02"
         },
         {
          "nugget": "Remdesivir",
          "nugget_id": "EQ005-N01"
         },
         {
          "nugget": "Favipiravir",
          "nugget_id": "EQ005-N00"
         }
        ],
        "question_id": "EQ005"
       },
       {
        "annotations": [
         {
          "nugget_ids": [
           "CQ005-N01"
          ],
          "sentence_id": "da4b78ce412fbc1076a0a9768817df33b977cec4-C009-S000"
         },
         {
          "nugget_ids": [
           "CQ005-N00"
          ],
          "sentence_id": "da4b78ce412fbc1076a0a9768817df33b977cec4-C009-S001"
         },
         {
          "nugget_ids": [
           "CQ005-N00"
          ],
          "sentence_id": "da4b78ce412fbc1076a0a9768817df33b977cec4-C009-S002"
         },
         {
          "nugget_ids": [
           "CQ005-N01"
          ],
          "sentence_id": "e62ce07b30f413637130df1c73bc482dcbd44f6d-C005-S000"
         },
         {
          "nugget_ids": [
           "CQ005-N01"
          ],
          "sentence_id": "e62ce07b30f413637130df1c73bc482dcbd44f6d-C005-S001"
         },
         {
          "nugget_ids": [
           "CQ005-N00"
          ],
          "sentence_id": "f3da0670aab53b2c0c479241acbdd5dfad116c00-C001-S000"
         },
         {
          "nugget_ids": [
           "CQ005-N00"
          ],
          "sentence_id": "f3da0670aab53b2c0c479241acbdd5dfad116c00-C001-S001"
         },
         {
          "nugget_ids": [
           "CQ005-N00"
          ],
          "sentence_id": "f3da0670aab53b2c0c479241acbdd5dfad116c00-C001-S002"
         }
        ],
        "nuggets": [
         {
          "nugget": "Lopinavir/ritonavir",
          "nugget_id": "CQ005-N01"
         },
         {
          "nugget": "Remdesivir",
          "nugget_id": "CQ005-N00"
         }
        ],
        "question_id": "CQ005"
       },
       {
        "annotations": [
         {
          "nugget_ids": [
           "EQ007-N13",
           "EQ007-N00"
          ],
          "sentence_id": "01mo6yo9-C000-S002"
         },
         {
          "nugget_ids": [
           "EQ007-N12",
           "EQ007-N08",
           "EQ007-N03"
          ],
          "sentence_id": "01mo6yo9-C000-S000"
         },
         {
          "nugget_ids": [
           "EQ007-N12",
           "EQ007-N08",
           "EQ007-N03"
          ],
          "sentence_id": "01mo6yo9-C000-S003"
         },
         {
          "nugget_ids": [
           "EQ007-N12",
           "EQ007-N08",
           "EQ007-N03"
          ],
          "sentence_id": "01mo6yo9-C000-S006"
         },
         {
          "nugget_ids": [
           "EQ007-N08",
           "EQ007-N04"
          ],
          "sentence_id": "01mo6yo9-C000-S005"
         },
         {
          "nugget_ids": [
           "EQ007-N08"
          ],
          "sentence_id": "0te5ybjv-C000-S001"
         },
         {
          "nugget_ids": [
           "EQ007-N08",
           "EQ007-N05"
          ],
          "sentence_id": "0te5ybjv-C000-S002"
         },
         {
          "nugget_ids": [
           "EQ007-N05",
           "EQ007-N04"
          ],
          "sentence_id": "0te5ybjv-C000-S003"
         },
         {
          "nugget_ids": [
           "EQ007-N12"
          ],
          "sentence_id": "0te5ybjv-C000-S005"
         },
         {
          "nugget_ids": [
           "EQ007-N12",
           "EQ007-N03"
          ],
          "sentence_id": "17q4g88y-C000-S004"
         },
         {
          "nugget_ids": [
           "EQ007-N12",
           "EQ007-N03"
          ],
          "sentence_id": "17q4g88y-C000-S005"
         },
         {
          "nugget_ids": [
           "EQ007-N12",
           "EQ007-N03",
           "EQ007-N08"
          ],
          "sentence_id": "17q4g88y-C000-S007"
         },
         {
          "nugget_ids": [
           "EQ007-N12",
           "EQ007-N08",
           "EQ007-N03"
          ],
          "sentence_id": "3aoxplp3-C013-S005"
         },
         {
          "nugget_ids": [
           "EQ007-N12",
           "EQ007-N05",
           "EQ007-N02",
           "EQ007-N06",
           "EQ007-N09",
           "EQ007-N03"
          ],
          "sentence_id": "3aoxplp3-C013-S007"
         },
         {
          "nugget_ids": [
           "EQ007-N05",
           "EQ007-N09",
           "EQ007-N03"
          ],
          "sentence_id": "3aoxplp3-C013-S009"
         },
         {
          "nugget_ids": [
           "EQ007-N05",
           "EQ007-N02",
           "EQ007-N06",
           "EQ007-N09",
           "EQ007-N03"
          ],
          "sentence_id": "3aoxplp3-C013-S010"
         },
         {
          "nugget_ids": [
           "EQ007-N03",
           "EQ007-N12"
          ],
          "sentence_id": "38oeau38-C020-S000"
         },
         {
          "nugget_ids": [
           "EQ007-N03",
           "EQ007-N12",
           "EQ007-N08"
          ],
          "sentence_id": "38oeau38-C021-S000"
         },
         {
          "nugget_ids": [
           "EQ007-N03",
           "EQ007-N12",
           "EQ007-N00",
           "EQ007-N10"
          ],
          "sentence_id": "38oeau38-C021-S001"
         },
         {
          "nugget_ids": [
           "EQ007-N12",
           "EQ007-N03",
           "EQ007-N08"
          ],
          "sentence_id": "5ig5upot-C000-S000"
         },
         {
          "nugget_ids": [
           "EQ007-N12",
           "EQ007-N03",
           "EQ007-N08"
          ],
          "sentence_id": "5ig5upot-C000-S003"
         },
         {
          "nugget_ids": [
           "EQ007-N12",
           "EQ007-N03"
          ],
          "sentence_id": "5ig5upot-C000-S008"
         },
         {
          "nugget_ids": [
           "EQ007-N08"
          ],
          "sentence_id": "5ig5upot-C000-S004"
         },
         {
          "nugget_ids": [
           "EQ007-N08",
           "EQ007-N01",
           "EQ007-N02"
          ],
          "sentence_id": "5ig5upot-C000-S002"
         },
         {
          "nugget_ids": [
           "EQ007-N08",
           "EQ007-N01",
           "EQ007-N11"
          ],
          "sentence_id": "5ig5upot-C000-S005"
         },
         {
          "nugget_ids": [
           "EQ007-N08",
           "EQ007-N11"
          ],
          "sentence_id": "5ig5upot-C000-S006"
         },
         {
          "nugget_ids": [
           "EQ007-N08",
           "EQ007-N01",
           "EQ007-N11"
          ],
          "sentence_id": "5ig5upot-C000-S007"
         },
         {
          "nugget_ids": [
           "EQ007-N08",
           "EQ007-N01"
          ],
          "sentence_id": "5ig5upot-C000-S009"
         },
         {
          "nugget_ids": [
           "EQ007-N12",
           "EQ007-N00"
          ],
          "sentence_id": "6se4faio-C000-S000"
         },
         {
          "nugget_ids": [
           "EQ007-N12",
           "EQ007-N08"
          ],
          "sentence_id": "6se4faio-C000-S001"
         },
         {
          "nugget_ids": [
           "EQ007-N08"
          ],
          "sentence_id": "6se4faio-C000-S002"
         },
         {
          "nugget_ids": [
           "EQ007-N08",
           "EQ007-N04"
          ],
          "sentence_id": "6se4faio-C000-S003"
         },
         {
          "nugget_ids": [
           "EQ007-N08"
          ],
          "sentence_id": "6se4faio-C000-S004"
         },
         {
          "nugget_ids": [
           "EQ007-N06"
          ],
          "sentence_id": "6se4faio-C000-S006"
         },
         {
          "nugget_ids": [
           "EQ007-N06"
          ],
          "sentence_id": "6se4faio-C000-S007"
         },
         {
          "nugget_ids": [
           "EQ007-N03"
          ],
          "sentence_id": "8hrjgcas-C000-S001"
         },
         {
          "nugget_ids": [
           "EQ007-N03"
          ],
          "sentence_id": "8hrjgcas-C000-S000"
         },
         {
          "nugget_ids": [
           "EQ007-N03",
           "EQ007-N12"
          ],
          "sentence_id": "8hrjgcas-C000-S002"
         },
         {
          "nugget_ids": [
           "EQ007-N03"
          ],
          "sentence_id": "8hrjgcas-C000-S006"
         },
         {
          "nugget_ids": [
           "EQ007-N12",
           "EQ007-N08"
          ],
          "sentence_id": "8hrjgcas-C000-S004"
         },
         {
          "nugget_ids": [
           "EQ007-N12",
           "EQ007-N10"
          ],
          "sentence_id": "8hrjgcas-C000-S005"
         },
         {
          "nugget_ids": [
           "EQ007-N12",
           "EQ007-N03"
          ],
          "sentence_id": "8ijbesl8-C000-S000"
         },
         {
          "nugget_ids": [
           "EQ007-N12",
           "EQ007-N03",
           "EQ007-N05",
           "EQ007-N08"
          ],
          "sentence_id": "8ijbesl8-C000-S002"
         },
         {
          "nugget_ids": [
           "EQ007-N12",
           "EQ007-N03",
           "EQ007-N08",
           "EQ007-N00"
          ],
          "sentence_id": "8ijbesl8-C000-S003"
         },
         {
          "nugget_ids": [
           "EQ007-N03",
           "EQ007-N08"
          ],
          "sentence_id": "8ijbesl8-C000-S005"
         },
         {
          "nugget_ids": [
           "EQ007-N03"
          ],
          "sentence_id": "8ijbesl8-C000-S007"
         },
         {
          "nugget_ids": [
           "EQ007-N08",
           "EQ007-N00"
          ],
          "sentence_id": "8ijbesl8-C000-S004"
         },
         {
          "nugget_ids": [
           "EQ007-N08"
          ],
          "sentence_id": "8ijbesl8-C000-S006"
         },
         {
          "nugget_ids": [
           "EQ007-N12",
           "EQ007-N03"
          ],
          "sentence_id": "9khsgtz3-C000-S000"
         },
         {
          "nugget_ids": [
           "EQ007-N12",
           "EQ007-N03",
           "EQ007-N08",
           "EQ007-N04"
          ],
          "sentence_id": "9khsgtz3-C000-S001"
         },
         {
          "nugget_ids": [
           "EQ007-N12",
           "EQ007-N08"
          ],
          "sentence_id": "9khsgtz3-C000-S002"
         },
         {
          "nugget_ids": [
           "EQ007-N12",
           "EQ007-N03",
           "EQ007-N08"
          ],
          "sentence_id": "9khsgtz3-C000-S005"
         },
         {
          "nugget_ids": [
           "EQ007-N12",
           "EQ007-N03",
           "EQ007-N08"
          ],
          "sentence_id": "9khsgtz3-C000-S006"
         },
         {
          "nugget_ids": [
           "EQ007-N12",
           "EQ007-N03",
           "EQ007-N08"
          ],
          "sentence_id": "9khsgtz3-C000-S003"
         },
         {
          "nugget_ids": [
           "EQ007-N08"
          ],
          "sentence_id": "9khsgtz3-C000-S004"
         },
         {
          "nugget_ids": [
           "EQ007-N08",
           "EQ007-N12"
          ],
          "sentence_id": "bk6hmkww-C050-S000"
         },
         {
          "nugget_ids": [
           "EQ007-N08"
          ],
          "sentence_id": "bk6hmkww-C050-S001"
         },
         {
          "nugget_ids": [
           "EQ007-N08",
           "EQ007-N01"
          ],
          "sentence_id": "bk6hmkww-C050-S003"
         },
         {
          "nugget_ids": [
           "EQ007-N12"
          ],
          "sentence_id": "bk6hmkww-C050-S002"
         },
         {
          "nugget_ids": [
           "EQ007-N12",
           "EQ007-N03"
          ],
          "sentence_id": "c3z3n3yz-C018-S002"
         },
         {
          "nugget_ids": [
           "EQ007-N12"
          ],
          "sentence_id": "c3z3n3yz-C018-S000"
         },
         {
          "nugget_ids": [
           "EQ007-N12",
           "EQ007-N03",
           "EQ007-N08"
          ],
          "sentence_id": "c3z3n3yz-C018-S003"
         },
         {
          "nugget_ids": [
           "EQ007-N12"
          ],
          "sentence_id": "c3z3n3yz-C018-S008"
         },
         {
          "nugget_ids": [
           "EQ007-N03",
           "EQ007-N08"
          ],
          "sentence_id": "c3z3n3yz-C018-S010"
         },
         {
          "nugget_ids": [
           "EQ007-N12",
           "EQ007-N08"
          ],
          "sentence_id": "cmew26m3-C005-S006"
         },
         {
          "nugget_ids": [
           "EQ007-N12",
           "EQ007-N08",
           "EQ007-N03",
           "EQ007-N05",
           "EQ007-N02"
          ],
          "sentence_id": "cmew26m3-C005-S007"
         },
         {
          "nugget_ids": [
           "EQ007-N12",
           "EQ007-N08",
           "EQ007-N03"
          ],
          "sentence_id": "cmew26m3-C005-S009"
         },
         {
          "nugget_ids": [
           "EQ007-N12",
           "EQ007-N05",
           "EQ007-N02"
          ],
          "sentence_id": "cmew26m3-C005-S010"
         },
         {
          "nugget_ids": [
           "EQ007-N03",
           "EQ007-N08"
          ],
          "sentence_id": "d7xq7x5g-C000-S000"
         },
         {
          "nugget_ids": [
           "EQ007-N03"
          ],
          "sentence_id": "d7xq7x5g-C000-S001"
         },
         {
          "nugget_ids": [
           "EQ007-N03"
          ],
          "sentence_id": "d7xq7x5g-C000-S004"
         },
         {
          "nugget_ids": [
           "EQ007-N03",
           "EQ007-N08",
           "EQ007-N05",
           "EQ007-N09",
           "EQ007-N12"
          ],
          "sentence_id": "d7xq7x5g-C000-S003"
         },
         {
          "nugget_ids": [
           "EQ007-N12"
          ],
          "sentence_id": "ewcv8m06-C004-S001"
         },
         {
          "nugget_ids": [
           "EQ007-N07",
           "EQ007-N08",
           "EQ007-N03",
           "EQ007-N12"
          ],
          "sentence_id": "hfo5pni5-C000-S003"
         },
         {
          "nugget_ids": [
           "EQ007-N07",
           "EQ007-N08",
           "EQ007-N12"
          ],
          "sentence_id": "hfo5pni5-C000-S004"
         },
         {
          "nugget_ids": [
           "EQ007-N07",
           "EQ007-N12"
          ],
          "sentence_id": "hfo5pni5-C000-S005"
         },
         {
          "nugget_ids": [
           "EQ007-N07",
           "EQ007-N03",
           "EQ007-N12"
          ],
          "sentence_id": "hfo5pni5-C000-S007"
         },
         {
          "nugget_ids": [
           "EQ007-N12"
          ],
          "sentence_id": "hfo5pni5-C000-S006"
         },
         {
          "nugget_ids": [
           "EQ007-N12"
          ],
          "sentence_id": "hfo5pni5-C000-S002"
         },
         {
          "nugget_ids": [
           "EQ007-N04",
           "EQ007-N08",
           "EQ007-N12"
          ],
          "sentence_id": "va4t15mb-C002-S001"
         },
         {
          "nugget_ids": [
           "EQ007-N00",
           "EQ007-N03",
           "EQ007-N08"
          ],
          "sentence_id": "j9armxm9-C000-S001"
         },
         {
          "nugget_ids": [
           "EQ007-N00",
           "EQ007-N03",
           "EQ007-N08"
          ],
          "sentence_id": "j9armxm9-C000-S007"
         },
         {
          "nugget_ids": [
           "EQ007-N03",
           "EQ007-N08"
          ],
          "sentence_id": "j9armxm9-C000-S010"
         },
         {
          "nugget_ids": [
           "EQ007-N08"
          ],
          "sentence_id": "j9armxm9-C000-S003"
         },
         {
          "nugget_ids": [
           "EQ007-N08"
          ],
          "sentence_id": "j9armxm9-C000-S004"
         },
         {
          "nugget_ids": [
           "EQ007-N08",
           "EQ007-N12"
          ],
          "sentence_id": "j9armxm9-C000-S006"
         },
         {
          "nugget_ids": [
           "EQ007-N08",
           "EQ007-N12"
          ],
          "sentence_id": "j9armxm9-C000-S008"
         },
         {
          "nugget_ids": [
           "EQ007-N08"
          ],
          "sentence_id": "j9armxm9-C000-S009"
         },
         {
          "nugget_ids": [
           "EQ007-N08",
           "EQ007-N03"
          ],
          "sentence_id": "jh5nehnc-C011-S001"
         },
         {
          "nugget_ids": [
           "EQ007-N08"
          ],
          "sentence_id": "jh5nehnc-C011-S004"
         },
         {
          "nugget_ids": [
           "EQ007-N08"
          ],
          "sentence_id": "jh5nehnc-C011-S006"
         },
         {
          "nugget_ids": [
           "EQ007-N08",
           "EQ007-N03",
           "EQ007-N10"
          ],
          "sentence_id": "jh5nehnc-C011-S008"
         },
         {
          "nugget_ids": [
           "EQ007-N08"
          ],
          "sentence_id": "jh5nehnc-C011-S009"
         },
         {
          "nugget_ids": [
           "EQ007-N04"
          ],
          "sentence_id": "jh5nehnc-C011-S002"
         },
         {
          "nugget_ids": [
           "EQ007-N08",
           "EQ007-N05",
           "EQ007-N12",
           "EQ007-N03"
          ],
          "sentence_id": "jqebi6bc-C012-S000"
         },
         {
          "nugget_ids": [
           "EQ007-N08"
          ],
          "sentence_id": "jqebi6bc-C012-S001"
         },
         {
          "nugget_ids": [
           "EQ007-N08"
          ],
          "sentence_id": "jqebi6bc-C012-S002"
         },
         {
          "nugget_ids": [
           "EQ007-N08"
          ],
          "sentence_id": "jqebi6bc-C012-S003"
         },
         {
          "nugget_ids": [
           "EQ007-N08"
          ],
          "sentence_id": "jqebi6bc-C012-S004"
         },
         {
          "nugget_ids": [
           "EQ007-N08"
          ],
          "sentence_id": "jqebi6bc-C012-S005"
         },
         {
          "nugget_ids": [
           "EQ007-N08"
          ],
          "sentence_id": "jqebi6bc-C012-S006"
         },
         {
          "nugget_ids": [
           "EQ007-N08"
          ],
          "sentence_id": "jqebi6bc-C012-S009"
         },
         {
          "nugget_ids": [
           "EQ007-N08"
          ],
          "sentence_id": "jqebi6bc-C012-S010"
         },
         {
          "nugget_ids": [
           "EQ007-N08",
           "EQ007-N03",
           "EQ007-N12"
          ],
          "sentence_id": "k54lmjxk-C004-S000"
         },
         {
          "nugget_ids": [
           "EQ007-N08",
           "EQ007-N03"
          ],
          "sentence_id": "k54lmjxk-C004-S001"
         },
         {
          "nugget_ids": [
           "EQ007-N12"
          ],
          "sentence_id": "k54lmjxk-C004-S002"
         },
         {
          "nugget_ids": [
           "EQ007-N08",
           "EQ007-N12"
          ],
          "sentence_id": "ku45p8f2-C000-S001"
         },
         {
          "nugget_ids": [
           "EQ007-N08",
           "EQ007-N05",
           "EQ007-N12"
          ],
          "sentence_id": "ku45p8f2-C000-S000"
         },
         {
          "nugget_ids": [
           "EQ007-N08",
           "EQ007-N00",
           "EQ007-N12"
          ],
          "sentence_id": "ku45p8f2-C000-S008"
         },
         {
          "nugget_ids": [
           "EQ007-N05",
           "EQ007-N12"
          ],
          "sentence_id": "ku45p8f2-C000-S003"
         },
         {
          "nugget_ids": [
           "EQ007-N05",
           "EQ007-N12"
          ],
          "sentence_id": "ku45p8f2-C000-S007"
         },
         {
          "nugget_ids": [
           "EQ007-N08",
           "EQ007-N12",
           "EQ007-N03"
          ],
          "sentence_id": "ntra3jhs-C000-S001"
         },
         {
          "nugget_ids": [
           "EQ007-N08"
          ],
          "sentence_id": "ntra3jhs-C000-S004"
         },
         {
          "nugget_ids": [
           "EQ007-N08",
           "EQ007-N01"
          ],
          "sentence_id": "ntra3jhs-C000-S006"
         },
         {
          "nugget_ids": [
           "EQ007-N12",
           "EQ007-N05"
          ],
          "sentence_id": "ntra3jhs-C000-S002"
         },
         {
          "nugget_ids": [
           "EQ007-N12",
           "EQ007-N11",
           "EQ007-N03"
          ],
          "sentence_id": "ntra3jhs-C000-S003"
         },
         {
          "nugget_ids": [
           "EQ007-N12"
          ],
          "sentence_id": "ntra3jhs-C000-S005"
         },
         {
          "nugget_ids": [
           "EQ007-N12",
           "EQ007-N08",
           "EQ007-N03",
           "EQ007-N10"
          ],
          "sentence_id": "nuboheyr-C001-S005"
         },
         {
          "nugget_ids": [
           "EQ007-N12",
           "EQ007-N08",
           "EQ007-N03"
          ],
          "sentence_id": "nuboheyr-C001-S006"
         },
         {
          "nugget_ids": [
           "EQ007-N12",
           "EQ007-N03",
           "EQ007-N05"
          ],
          "sentence_id": "o2vl31aq-C000-S002"
         },
         {
          "nugget_ids": [
           "EQ007-N12",
           "EQ007-N03",
           "EQ007-N08"
          ],
          "sentence_id": "o2vl31aq-C000-S001"
         },
         {
          "nugget_ids": [
           "EQ007-N03",
           "EQ007-N08"
          ],
          "sentence_id": "o2vl31aq-C000-S006"
         },
         {
          "nugget_ids": [
           "EQ007-N03",
           "EQ007-N08"
          ],
          "sentence_id": "o2vl31aq-C000-S008"
         },
         {
          "nugget_ids": [
           "EQ007-N08"
          ],
          "sentence_id": "o2vl31aq-C000-S007"
         },
         {
          "nugget_ids": [
           "EQ007-N05"
          ],
          "sentence_id": "o2vl31aq-C000-S003"
         },
         {
          "nugget_ids": [
           "EQ007-N03",
           "EQ007-N12"
          ],
          "sentence_id": "ofd2ipvs-C037-S000"
         },
         {
          "nugget_ids": [
           "EQ007-N12"
          ],
          "sentence_id": "ofd2ipvs-C037-S002"
         },
         {
          "nugget_ids": [
           "EQ007-N03"
          ],
          "sentence_id": "q2b4ig1h-C000-S000"
         },
         {
          "nugget_ids": [
           "EQ007-N03"
          ],
          "sentence_id": "q2b4ig1h-C000-S001"
         },
         {
          "nugget_ids": [
           "EQ007-N03",
           "EQ007-N12"
          ],
          "sentence_id": "q2b4ig1h-C000-S002"
         },
         {
          "nugget_ids": [
           "EQ007-N03"
          ],
          "sentence_id": "q2b4ig1h-C000-S006"
         },
         {
          "nugget_ids": [
           "EQ007-N12",
           "EQ007-N08"
          ],
          "sentence_id": "q2b4ig1h-C000-S004"
         },
         {
          "nugget_ids": [
           "EQ007-N12"
          ],
          "sentence_id": "q2b4ig1h-C000-S005"
         },
         {
          "nugget_ids": [
           "EQ007-N12",
           "EQ007-N03"
          ],
          "sentence_id": "sbm0l7a8-C002-S000"
         },
         {
          "nugget_ids": [
           "EQ007-N12",
           "EQ007-N08"
          ],
          "sentence_id": "sbm0l7a8-C002-S001"
         },
         {
          "nugget_ids": [
           "EQ007-N12",
           "EQ007-N03"
          ],
          "sentence_id": "sbm0l7a8-C002-S002"
         },
         {
          "nugget_ids": [
           "EQ007-N12",
           "EQ007-N03",
           "EQ007-N09"
          ],
          "sentence_id": "sbm0l7a8-C002-S003"
         },
         {
          "nugget_ids": [
           "EQ007-N08"
          ],
          "sentence_id": "sbm0l7a8-C002-S004"
         },
         {
          "nugget_ids": [
           "EQ007-N09"
          ],
          "sentence_id": "sbm0l7a8-C002-S006"
         },
         {
          "nugget_ids": [
           "EQ007-N08",
           "EQ007-N03",
           "EQ007-N12"
          ],
          "sentence_id": "um70ket2-C023-S001"
         },
         {
          "nugget_ids": [
           "EQ007-N12"
          ],
          "sentence_id": "cfpxtfq6-C012-S001"
         },
         {
          "nugget_ids": [
           "EQ007-N12",
           "EQ007-N08"
          ],
          "sentence_id": "cfpxtfq6-C012-S002"
         },
         {
          "nugget_ids": [
           "EQ007-N12"
          ],
          "sentence_id": "cfpxtfq6-C012-S004"
         },
         {
          "nugget_ids": [
           "EQ007-N12",
           "EQ007-N08"
          ],
          "sentence_id": "cfpxtfq6-C012-S006"
         },
         {
          "nugget_ids": [
           "EQ007-N08"
          ],
          "sentence_id": "cfpxtfq6-C012-S003"
         },
         {
          "nugget_ids": [
           "EQ007-N08"
          ],
          "sentence_id": "cfpxtfq6-C012-S005"
         },
         {
          "nugget_ids": [
           "EQ007-N04",
           "EQ007-N12"
          ],
          "sentence_id": "vrcul1t5-C009-S001"
         },
         {
          "nugget_ids": [
           "EQ007-N12"
          ],
          "sentence_id": "wf5cozst-C000-S001"
         },
         {
          "nugget_ids": [
           "EQ007-N07",
           "EQ007-N03",
           "EQ007-N08"
          ],
          "sentence_id": "wf5cozst-C000-S002"
         },
         {
          "nugget_ids": [
           "EQ007-N07",
           "EQ007-N03",
           "EQ007-N08"
          ],
          "sentence_id": "wf5cozst-C000-S008"
         },
         {
          "nugget_ids": [
           "EQ007-N08"
          ],
          "sentence_id": "wf5cozst-C000-S003"
         },
         {
          "nugget_ids": [
           "EQ007-N08"
          ],
          "sentence_id": "wf5cozst-C000-S004"
         },
         {
          "nugget_ids": [
           "EQ007-N08"
          ],
          "sentence_id": "wf5cozst-C000-S005"
         },
         {
          "nugget_ids": [
           "EQ007-N04"
          ],
          "sentence_id": "wf5cozst-C000-S007"
         },
         {
          "nugget_ids": [
           "EQ007-N08",
           "EQ007-N06",
           "EQ007-N05"
          ],
          "sentence_id": "wfy5kz63-C002-S001"
         },
         {
          "nugget_ids": [
           "EQ007-N08"
          ],
          "sentence_id": "wfy5kz63-C002-S000"
         },
         {
          "nugget_ids": [
           "EQ007-N06",
           "EQ007-N05"
          ],
          "sentence_id": "wfy5kz63-C002-S002"
         },
         {
          "nugget_ids": [
           "EQ007-N08",
           "EQ007-N12"
          ],
          "sentence_id": "wlbkbq93-C010-S007"
         },
         {
          "nugget_ids": [
           "EQ007-N03",
           "EQ007-N12"
          ],
          "sentence_id": "wow470k7-C001-S003"
         },
         {
          "nugget_ids": [
           "EQ007-N03",
           "EQ007-N12"
          ],
          "sentence_id": "wow470k7-C001-S004"
         },
         {
          "nugget_ids": [
           "EQ007-N03",
           "EQ007-N12"
          ],
          "sentence_id": "wow470k7-C001-S006"
         },
         {
          "nugget_ids": [
           "EQ007-N08"
          ],
          "sentence_id": "wow470k7-C001-S005"
         },
         {
          "nugget_ids": [
           "EQ007-N08"
          ],
          "sentence_id": "xk5njk7d-C000-S000"
         },
         {
          "nugget_ids": [
           "EQ007-N08"
          ],
          "sentence_id": "xk5njk7d-C000-S005"
         },
         {
          "nugget_ids": [
           "EQ007-N08"
          ],
          "sentence_id": "xk5njk7d-C000-S006"
         },
         {
          "nugget_ids": [
           "EQ007-N05",
           "EQ007-N08"
          ],
          "sentence_id": "xob8d5nz-C000-S000"
         },
         {
          "nugget_ids": [
           "EQ007-N08"
          ],
          "sentence_id": "xob8d5nz-C000-S002"
         },
         {
          "nugget_ids": [
           "EQ007-N08",
           "EQ007-N01"
          ],
          "sentence_id": "xob8d5nz-C000-S003"
         },
         {
          "nugget_ids": [
           "EQ007-N12",
           "EQ007-N13"
          ],
          "sentence_id": "ypj3lcpv-C000-S003"
         },
         {
          "nugget_ids": [
           "EQ007-N05",
           "EQ007-N03",
           "EQ007-N08"
          ],
          "sentence_id": "ypj3lcpv-C000-S004"
         },
         {
          "nugget_ids": [
           "EQ007-N05",
           "EQ007-N08",
           "EQ007-N04"
          ],
          "sentence_id": "ypj3lcpv-C000-S006"
         },
         {
          "nugget_ids": [
           "EQ007-N05",
           "EQ007-N03",
           "EQ007-N08",
           "EQ007-N13"
          ],
          "sentence_id": "ypj3lcpv-C000-S009"
         },
         {
          "nugget_ids": [
           "EQ007-N03"
          ],
          "sentence_id": "ypj3lcpv-C000-S005"
         },
         {
          "nugget_ids": [
           "EQ007-N08"
          ],
          "sentence_id": "ypj3lcpv-C000-S007"
         },
         {
          "nugget_ids": [
           "EQ007-N00",
           "EQ007-N03",
           "EQ007-N08",
           "EQ007-N12"
          ],
          "sentence_id": "yvtk83x6-C001-S002"
         },
         {
          "nugget_ids": [
           "EQ007-N00",
           "EQ007-N03",
           "EQ007-N08",
           "EQ007-N10"
          ],
          "sentence_id": "yvtk83x6-C001-S003"
         },
         {
          "nugget_ids": [
           "EQ007-N00",
           "EQ007-N03",
           "EQ007-N08",
           "EQ007-N12"
          ],
          "sentence_id": "vzfkstiw-C001-S005"
         },
         {
          "nugget_ids": [
           "EQ007-N00",
           "EQ007-N03",
           "EQ007-N08",
           "EQ007-N12",
           "EQ007-N13"
          ],
          "sentence_id": "vzfkstiw-C001-S006"
         },
         {
          "nugget_ids": [
           "EQ007-N12",
           "EQ007-N03",
           "EQ007-N08",
           "EQ007-N05",
           "EQ007-N00"
          ],
          "sentence_id": "yywrw9gb-C000-S004"
         },
         {
          "nugget_ids": [
           "EQ007-N00",
           "EQ007-N03",
           "EQ007-N08",
           "EQ007-N12"
          ],
          "sentence_id": "38oeau38-C021-S000"
         },
         {
          "nugget_ids": [
           "EQ007-N00",
           "EQ007-N03",
           "EQ007-N08",
           "EQ007-N12",
           "EQ007-N10"
          ],
          "sentence_id": "38oeau38-C021-S001"
         }
        ],
        "nuggets": [
         {
          "nugget": "seroepidemiology",
          "nugget_id": "EQ007-N13"
         },
         {
          "nugget": "serodiagnostics",
          "nugget_id": "EQ007-N12"
         },
         {
          "nugget": "seroconversion",
          "nugget_id": "EQ007-N11"
         },
         {
          "nugget": "previous infection",
          "nugget_id": "EQ007-N10"
         },
         {
          "nugget": "lateral flow immunoassay",
          "nugget_id": "EQ007-N09"
         },
         {
          "nugget": "immunoglobulins",
          "nugget_id": "EQ007-N08"
         },
         {
          "nugget": "immunochromatography",
          "nugget_id": "EQ007-N07"
         },
         {
          "nugget": "fluorescent immunoassay",
          "nugget_id": "EQ007-N06"
         },
         {
          "nugget": "enzyme linked immunosorbent assay",
          "nugget_id": "EQ007-N05"
         },
         {
          "nugget": "cross reaction",
          "nugget_id": "EQ007-N04"
         },
         {
          "nugget": "COVID-19 diagnosis",
          "nugget_id": "EQ007-N03"
         },
         {
          "nugget": "chemiluminescence immunoassay",
          "nugget_id": "EQ007-N02"
         },
         {
          "nugget": "antibody titer",
          "nugget_id": "EQ007-N01"
         },
         {
          "nugget": "antibody response",
          "nugget_id": "EQ007-N00"
         }
        ],
        "question_id": "EQ007"
       },
       {
        "annotations": [
         {
          "nugget_ids": [
           "CQ007-N00",
           "CQ007-N01",
           "CQ007-N02",
           "CQ007-N03"
          ],
          "sentence_id": "02cb8618e0100e5c02bed887a9c1f315ed03335e-C002-S000"
         },
         {
          "nugget_ids": [
           "CQ007-N00",
           "CQ007-N02"
          ],
          "sentence_id": "02cb8618e0100e5c02bed887a9c1f315ed03335e-C002-S001"
         },
         {
          "nugget_ids": [
           "CQ007-N00",
           "CQ007-N02",
           "CQ007-N03"
          ],
          "sentence_id": "02cb8618e0100e5c02bed887a9c1f315ed03335e-C002-S002"
         },
         {
          "nugget_ids": [
           "CQ007-N00"
          ],
          "sentence_id": "12d95dac3493295604375790365e00354eccba72-C001-S008"
         },
         {
          "nugget_ids": [
           "CQ007-N00"
          ],
          "sentence_id": "12d95dac3493295604375790365e00354eccba72-C001-S014"
         },
         {
          "nugget_ids": [
           "CQ007-N01"
          ],
          "sentence_id": "91d81066e862264e4154d783a77bf99041df8d20-C001-S000"
         },
         {
          "nugget_ids": [
           "CQ007-N01"
          ],
          "sentence_id": "91d81066e862264e4154d783a77bf99041df8d20-C001-S001"
         },
         {
          "nugget_ids": [
           "CQ007-N01",
           "CQ007-N00",
           "CQ007-N02"
          ],
          "sentence_id": "91d81066e862264e4154d783a77bf99041df8d20-C001-S002"
         },
         {
          "nugget_ids": [
           "CQ007-N01"
          ],
          "sentence_id": "91d81066e862264e4154d783a77bf99041df8d20-C001-S009"
         },
         {
          "nugget_ids": [
           "CQ007-N01"
          ],
          "sentence_id": "91d81066e862264e4154d783a77bf99041df8d20-C001-S010"
         },
         {
          "nugget_ids": [
           "CQ007-N01"
          ],
          "sentence_id": "91d81066e862264e4154d783a77bf99041df8d20-C001-S011"
         },
         {
          "nugget_ids": [
           "CQ007-N00"
          ],
          "sentence_id": "91d81066e862264e4154d783a77bf99041df8d20-C001-S004"
         },
         {
          "nugget_ids": [
           "CQ007-N00"
          ],
          "sentence_id": "91d81066e862264e4154d783a77bf99041df8d20-C001-S005"
         },
         {
          "nugget_ids": [
           "CQ007-N00",
           "CQ007-N02"
          ],
          "sentence_id": "91d81066e862264e4154d783a77bf99041df8d20-C001-S007"
         },
         {
          "nugget_ids": [
           "CQ007-N00",
           "CQ007-N02"
          ],
          "sentence_id": "91d81066e862264e4154d783a77bf99041df8d20-C001-S008"
         },
         {
          "nugget_ids": [
           "CQ007-N02"
          ],
          "sentence_id": "91d81066e862264e4154d783a77bf99041df8d20-C001-S006"
         },
         {
          "nugget_ids": [
           "CQ007-N00",
           "CQ007-N02",
           "CQ007-N01"
          ],
          "sentence_id": "d866cac6923bca5807d4aec1301cb287a2aab46c-C002-S000"
         },
         {
          "nugget_ids": [
           "CQ007-N00"
          ],
          "sentence_id": "d866cac6923bca5807d4aec1301cb287a2aab46c-C002-S001"
         },
         {
          "nugget_ids": [
           "CQ007-N00",
           "CQ007-N02",
           "CQ007-N01"
          ],
          "sentence_id": "d866cac6923bca5807d4aec1301cb287a2aab46c-C002-S002"
         },
         {
          "nugget_ids": [
           "CQ007-N00",
           "CQ007-N01"
          ],
          "sentence_id": "d866cac6923bca5807d4aec1301cb287a2aab46c-C002-S003"
         },
         {
          "nugget_ids": [
           "CQ007-N01"
          ],
          "sentence_id": "d866cac6923bca5807d4aec1301cb287a2aab46c-C002-S004"
         },
         {
          "nugget_ids": [
           "CQ007-N00",
           "CQ007-N01"
          ],
          "sentence_id": "e8e4505aa64a46084161dd17f8a70c95778fdaeb-C016-S003"
         },
         {
          "nugget_ids": [
           "CQ007-N00",
           "CQ007-N02"
          ],
          "sentence_id": "e8e4505aa64a46084161dd17f8a70c95778fdaeb-C018-S000"
         },
         {
          "nugget_ids": [
           "CQ007-N00",
           "CQ007-N02"
          ],
          "sentence_id": "e8e4505aa64a46084161dd17f8a70c95778fdaeb-C018-S001"
         }
        ],
        "nuggets": [
         {
          "nugget": "previous infection",
          "nugget_id": "CQ007-N03"
         },
         {
          "nugget": "immune response",
          "nugget_id": "CQ007-N02"
         },
         {
          "nugget": "antibody test",
          "nugget_id": "CQ007-N01"
         },
         {
          "nugget": "antibodies",
          "nugget_id": "CQ007-N00"
         }
        ],
        "question_id": "CQ007"
       },
       {
        "annotations": [
         {
          "nugget_ids": [
           "EQ011-N86",
           "EQ011-N72"
          ],
          "sentence_id": "092wubsa-C004-S000"
         },
         {
          "nugget_ids": [
           "EQ011-N86"
          ],
          "sentence_id": "092wubsa-C004-S001"
         },
         {
          "nugget_ids": [
           "EQ011-N86"
          ],
          "sentence_id": "092wubsa-C004-S003"
         },
         {
          "nugget_ids": [
           "EQ011-N86"
          ],
          "sentence_id": "092wubsa-C004-S004"
         },
         {
          "nugget_ids": [
           "EQ011-N72",
           "EQ011-N63"
          ],
          "sentence_id": "092wubsa-C004-S002"
         },
         {
          "nugget_ids": [
           "EQ011-N70"
          ],
          "sentence_id": "092wubsa-C004-S006"
         },
         {
          "nugget_ids": [
           "EQ011-N34"
          ],
          "sentence_id": "092wubsa-C004-S007"
         },
         {
          "nugget_ids": [
           "EQ011-N00",
           "EQ011-N87",
           "EQ011-N81",
           "EQ011-N74"
          ],
          "sentence_id": "1cc4aoc6-C007-S001"
         },
         {
          "nugget_ids": [
           "EQ011-N67",
           "EQ011-N74"
          ],
          "sentence_id": "1cc4aoc6-C007-S002"
         },
         {
          "nugget_ids": [
           "EQ011-N67"
          ],
          "sentence_id": "1cc4aoc6-C007-S004"
         },
         {
          "nugget_ids": [
           "EQ011-N74"
          ],
          "sentence_id": "1cc4aoc6-C007-S000"
         },
         {
          "nugget_ids": [
           "EQ011-N74",
           "EQ011-N69",
           "EQ011-N62"
          ],
          "sentence_id": "1cc4aoc6-C007-S005"
         },
         {
          "nugget_ids": [
           "EQ011-N74",
           "EQ011-N73",
           "EQ011-N69",
           "EQ011-N91"
          ],
          "sentence_id": "1cc4aoc6-C007-S006"
         },
         {
          "nugget_ids": [
           "EQ011-N69",
           "EQ011-N78"
          ],
          "sentence_id": "1cc4aoc6-C007-S003"
         },
         {
          "nugget_ids": [
           "EQ011-N70"
          ],
          "sentence_id": "2nmdyf7b-C000-S001"
         },
         {
          "nugget_ids": [
           "EQ011-N34"
          ],
          "sentence_id": "2nmdyf7b-C000-S002"
         },
         {
          "nugget_ids": [
           "EQ011-N04"
          ],
          "sentence_id": "2nmdyf7b-C000-S003"
         },
         {
          "nugget_ids": [
           "EQ011-N53"
          ],
          "sentence_id": "2nmdyf7b-C000-S004"
         },
         {
          "nugget_ids": [
           "EQ011-N28"
          ],
          "sentence_id": "2nmdyf7b-C000-S005"
         },
         {
          "nugget_ids": [
           "EQ011-N42",
           "EQ011-N43",
           "EQ011-N06"
          ],
          "sentence_id": "2nmdyf7b-C000-S006"
         },
         {
          "nugget_ids": [
           "EQ011-N48",
           "EQ011-N45"
          ],
          "sentence_id": "2nmdyf7b-C000-S007"
         },
         {
          "nugget_ids": [
           "EQ011-N16"
          ],
          "sentence_id": "2nmdyf7b-C000-S008"
         },
         {
          "nugget_ids": [
           "EQ011-N11"
          ],
          "sentence_id": "2nmdyf7b-C000-S009"
         },
         {
          "nugget_ids": [
           "EQ011-N84"
          ],
          "sentence_id": "2nmdyf7b-C000-S010"
         },
         {
          "nugget_ids": [
           "EQ011-N16"
          ],
          "sentence_id": "2nmdyf7b-C000-S013"
         },
         {
          "nugget_ids": [
           "EQ011-N76",
           "EQ011-N28"
          ],
          "sentence_id": "2nmdyf7b-C000-S014"
         },
         {
          "nugget_ids": [
           "EQ011-N65",
           "EQ011-N78",
           "EQ011-N00"
          ],
          "sentence_id": "3l7xbpjm-C002-S000"
         },
         {
          "nugget_ids": [
           "EQ011-N69",
           "EQ011-N00"
          ],
          "sentence_id": "3l7xbpjm-C002-S001"
         },
         {
          "nugget_ids": [
           "EQ011-N86",
           "EQ011-N82"
          ],
          "sentence_id": "3xw4qjoy-C000-S000"
         },
         {
          "nugget_ids": [
           "EQ011-N86"
          ],
          "sentence_id": "3xw4qjoy-C000-S002"
         },
         {
          "nugget_ids": [
           "EQ011-N86"
          ],
          "sentence_id": "3xw4qjoy-C000-S003"
         },
         {
          "nugget_ids": [
           "EQ011-N86"
          ],
          "sentence_id": "3xw4qjoy-C000-S004"
         },
         {
          "nugget_ids": [
           "EQ011-N86"
          ],
          "sentence_id": "3xw4qjoy-C000-S005"
         },
         {
          "nugget_ids": [
           "EQ011-N86"
          ],
          "sentence_id": "3xw4qjoy-C000-S006"
         },
         {
          "nugget_ids": [
           "EQ011-N86"
          ],
          "sentence_id": "3xw4qjoy-C000-S007"
         },
         {
          "nugget_ids": [
           "EQ011-N22",
           "EQ011-N34"
          ],
          "sentence_id": "3xw4qjoy-C000-S001"
         },
         {
          "nugget_ids": [
           "EQ011-N82",
           "EQ011-N86"
          ],
          "sentence_id": "3xw4qjoy-C005-S000"
         },
         {
          "nugget_ids": [
           "EQ011-N82",
           "EQ011-N86"
          ],
          "sentence_id": "3xw4qjoy-C005-S001"
         },
         {
          "nugget_ids": [
           "EQ011-N82",
           "EQ011-N86"
          ],
          "sentence_id": "3xw4qjoy-C005-S002"
         },
         {
          "nugget_ids": [
           "EQ011-N82",
           "EQ011-N86"
          ],
          "sentence_id": "3xw4qjoy-C005-S003"
         },
         {
          "nugget_ids": [
           "EQ011-N82",
           "EQ011-N86"
          ],
          "sentence_id": "3xw4qjoy-C005-S004"
         },
         {
          "nugget_ids": [
           "EQ011-N82",
           "EQ011-N86"
          ],
          "sentence_id": "3xw4qjoy-C005-S005"
         },
         {
          "nugget_ids": [
           "EQ011-N82",
           "EQ011-N86",
           "EQ011-N80"
          ],
          "sentence_id": "3xw4qjoy-C005-S006"
         },
         {
          "nugget_ids": [
           "EQ011-N82",
           "EQ011-N86",
           "EQ011-N80"
          ],
          "sentence_id": "3xw4qjoy-C005-S007"
         },
         {
          "nugget_ids": [
           "EQ011-N82",
           "EQ011-N86",
           "EQ011-N80"
          ],
          "sentence_id": "3xw4qjoy-C005-S008"
         },
         {
          "nugget_ids": [
           "EQ011-N82",
           "EQ011-N86"
          ],
          "sentence_id": "3xw4qjoy-C005-S009"
         },
         {
          "nugget_ids": [
           "EQ011-N73"
          ],
          "sentence_id": "6cr9h7no-C013-S000"
         },
         {
          "nugget_ids": [
           "EQ011-N68"
          ],
          "sentence_id": "6mzzibj8-C000-S004"
         },
         {
          "nugget_ids": [
           "EQ011-N68"
          ],
          "sentence_id": "6mzzibj8-C000-S008"
         },
         {
          "nugget_ids": [
           "EQ011-N68",
           "EQ011-N69"
          ],
          "sentence_id": "6mzzibj8-C000-S006"
         },
         {
          "nugget_ids": [
           "EQ011-N68",
           "EQ011-N69"
          ],
          "sentence_id": "6mzzibj8-C000-S005"
         },
         {
          "nugget_ids": [
           "EQ011-N68"
          ],
          "sentence_id": "6mzzibj8-C000-S007"
         },
         {
          "nugget_ids": [
           "EQ011-N68"
          ],
          "sentence_id": "6mzzibj8-C000-S000"
         },
         {
          "nugget_ids": [
           "EQ011-N68"
          ],
          "sentence_id": "6mzzibj8-C000-S001"
         },
         {
          "nugget_ids": [
           "EQ011-N68"
          ],
          "sentence_id": "6mzzibj8-C000-S002"
         },
         {
          "nugget_ids": [
           "EQ011-N14"
          ],
          "sentence_id": "6mzzibj8-C015-S000"
         },
         {
          "nugget_ids": [
           "EQ011-N78",
           "EQ011-N76"
          ],
          "sentence_id": "6mzzibj8-C015-S001"
         },
         {
          "nugget_ids": [
           "EQ011-N97"
          ],
          "sentence_id": "6ru36mpj-C001-S000"
         },
         {
          "nugget_ids": [
           "EQ011-N97",
           "EQ011-N08"
          ],
          "sentence_id": "6ru36mpj-C001-S001"
         },
         {
          "nugget_ids": [
           "EQ011-N97",
           "EQ011-N57",
           "EQ011-N69"
          ],
          "sentence_id": "6ru36mpj-C001-S002"
         },
         {
          "nugget_ids": [
           "EQ011-N97"
          ],
          "sentence_id": "6ru36mpj-C001-S003"
         },
         {
          "nugget_ids": [
           "EQ011-N97"
          ],
          "sentence_id": "6ru36mpj-C001-S004"
         },
         {
          "nugget_ids": [
           "EQ011-N69"
          ],
          "sentence_id": "6ru36mpj-C001-S005"
         },
         {
          "nugget_ids": [
           "EQ011-N69"
          ],
          "sentence_id": "6xer2cty-C033-S000"
         },
         {
          "nugget_ids": [
           "EQ011-N69",
           "EQ011-N78"
          ],
          "sentence_id": "6xer2cty-C033-S001"
         },
         {
          "nugget_ids": [
           "EQ011-N69",
           "EQ011-N81"
          ],
          "sentence_id": "6xer2cty-C033-S002"
         },
         {
          "nugget_ids": [
           "EQ011-N85"
          ],
          "sentence_id": "6xer2cty-C033-S003"
         },
         {
          "nugget_ids": [
           "EQ011-N69",
           "EQ011-N70",
           "EQ011-N78"
          ],
          "sentence_id": "6xer2cty-C005-S000"
         },
         {
          "nugget_ids": [
           "EQ011-N69"
          ],
          "sentence_id": "6xer2cty-C005-S001"
         },
         {
          "nugget_ids": [
           "EQ011-N69",
           "EQ011-N70"
          ],
          "sentence_id": "6xer2cty-C005-S002"
         },
         {
          "nugget_ids": [
           "EQ011-N69"
          ],
          "sentence_id": "6xer2cty-C015-S001"
         },
         {
          "nugget_ids": [
           "EQ011-N69"
          ],
          "sentence_id": "6xer2cty-C015-S002"
         },
         {
          "nugget_ids": [
           "EQ011-N22",
           "EQ011-N85",
           "EQ011-N88"
          ],
          "sentence_id": "7gzx6ljt-C000-S000"
         },
         {
          "nugget_ids": [
           "EQ011-N22",
           "EQ011-N35"
          ],
          "sentence_id": "7gzx6ljt-C000-S001"
         },
         {
          "nugget_ids": [
           "EQ011-N63"
          ],
          "sentence_id": "7gzx6ljt-C000-S002"
         },
         {
          "nugget_ids": [
           "EQ011-N58"
          ],
          "sentence_id": "7s3nnzyx-C000-S001"
         },
         {
          "nugget_ids": [
           "EQ011-N58"
          ],
          "sentence_id": "7s3nnzyx-C000-S002"
         },
         {
          "nugget_ids": [
           "EQ011-N58",
           "EQ011-N83"
          ],
          "sentence_id": "7s3nnzyx-C000-S006"
         },
         {
          "nugget_ids": [
           "EQ011-N53",
           "EQ011-N37"
          ],
          "sentence_id": "7s3nnzyx-C000-S005"
         },
         {
          "nugget_ids": [
           "EQ011-N85"
          ],
          "sentence_id": "i4wyhque-C002-S002"
         },
         {
          "nugget_ids": [
           "EQ011-N73"
          ],
          "sentence_id": "i4wyhque-C002-S003"
         },
         {
          "nugget_ids": [
           "EQ011-N73"
          ],
          "sentence_id": "i4wyhque-C002-S001"
         },
         {
          "nugget_ids": [
           "EQ011-N73"
          ],
          "sentence_id": "i4wyhque-C002-S000"
         },
         {
          "nugget_ids": [
           "EQ011-N05",
           "EQ011-N96"
          ],
          "sentence_id": "8e7wxzel-C000-S000"
         },
         {
          "nugget_ids": [
           "EQ011-N05",
           "EQ011-N96"
          ],
          "sentence_id": "8e7wxzel-C000-S001"
         },
         {
          "nugget_ids": [
           "EQ011-N05",
           "EQ011-N96"
          ],
          "sentence_id": "8e7wxzel-C000-S004"
         },
         {
          "nugget_ids": [
           "EQ011-N86"
          ],
          "sentence_id": "8e7wxzel-C000-S002"
         },
         {
          "nugget_ids": [
           "EQ011-N86"
          ],
          "sentence_id": "8e7wxzel-C000-S003"
         },
         {
          "nugget_ids": [
           "EQ011-N59"
          ],
          "sentence_id": "8nv1a76u-C010-S000"
         },
         {
          "nugget_ids": [
           "EQ011-N59"
          ],
          "sentence_id": "8nv1a76u-C010-S004"
         },
         {
          "nugget_ids": [
           "EQ011-N73",
           "EQ011-N80"
          ],
          "sentence_id": "8nv1a76u-C010-S005"
         },
         {
          "nugget_ids": [
           "EQ011-N60"
          ],
          "sentence_id": "8nv1a76u-C010-S003"
         },
         {
          "nugget_ids": [
           "EQ011-N59",
           "EQ011-N67"
          ],
          "sentence_id": "8nv1a76u-C010-S002"
         },
         {
          "nugget_ids": [
           "EQ011-N97"
          ],
          "sentence_id": "95ap8qfn-C003-S002"
         },
         {
          "nugget_ids": [
           "EQ011-N97",
           "EQ011-N68"
          ],
          "sentence_id": "95ap8qfn-C003-S001"
         },
         {
          "nugget_ids": [
           "EQ011-N07",
           "EQ011-N68"
          ],
          "sentence_id": "95ap8qfn-C003-S000"
         },
         {
          "nugget_ids": [
           "EQ011-N78",
           "EQ011-N65"
          ],
          "sentence_id": "95ap8qfn-C003-S003"
         },
         {
          "nugget_ids": [
           "EQ011-N78",
           "EQ011-N87"
          ],
          "sentence_id": "95ap8qfn-C003-S004"
         },
         {
          "nugget_ids": [
           "EQ011-N69"
          ],
          "sentence_id": "95ap8qfn-C003-S005"
         },
         {
          "nugget_ids": [
           "EQ011-N76",
           "EQ011-N96",
           "EQ011-N98",
           "EQ011-N97",
           "EQ011-N21"
          ],
          "sentence_id": "95fty9yi-C025-S001"
         },
         {
          "nugget_ids": [
           "EQ011-N04",
           "EQ011-N21",
           "EQ011-N04"
          ],
          "sentence_id": "95fty9yi-C025-S004"
         },
         {
          "nugget_ids": [
           "EQ011-N21",
           "EQ011-N04"
          ],
          "sentence_id": "95fty9yi-C025-S003"
         },
         {
          "nugget_ids": [
           "EQ011-N21",
           "EQ011-N04",
           "EQ011-N63"
          ],
          "sentence_id": "95fty9yi-C025-S006"
         },
         {
          "nugget_ids": [
           "EQ011-N21",
           "EQ011-N04"
          ],
          "sentence_id": "95fty9yi-C025-S008"
         },
         {
          "nugget_ids": [
           "EQ011-N04",
           "EQ011-N62",
           "EQ011-N63"
          ],
          "sentence_id": "95fty9yi-C025-S005"
         },
         {
          "nugget_ids": [
           "EQ011-N04"
          ],
          "sentence_id": "95fty9yi-C025-S007"
         },
         {
          "nugget_ids": [
           "EQ011-N69"
          ],
          "sentence_id": "9a2hcwrs-C039-S000"
         },
         {
          "nugget_ids": [
           "EQ011-N69",
           "EQ011-N39"
          ],
          "sentence_id": "9a2hcwrs-C039-S001"
         },
         {
          "nugget_ids": [
           "EQ011-N68",
           "EQ011-N78",
           "EQ011-N75"
          ],
          "sentence_id": "9a2hcwrs-C039-S003"
         },
         {
          "nugget_ids": [
           "EQ011-N81",
           "EQ011-N53",
           "EQ011-N85",
           "EQ011-N80"
          ],
          "sentence_id": "b2493coe-C005-S001"
         },
         {
          "nugget_ids": [
           "EQ011-N90",
           "EQ011-N85"
          ],
          "sentence_id": "b2493coe-C005-S002"
         },
         {
          "nugget_ids": [
           "EQ011-N97"
          ],
          "sentence_id": "bsbz3a1l-C009-S000"
         },
         {
          "nugget_ids": [
           "EQ011-N69"
          ],
          "sentence_id": "bucj2qsv-C008-S000"
         },
         {
          "nugget_ids": [
           "EQ011-N12",
           "EQ011-N85"
          ],
          "sentence_id": "ddve4mga-C046-S000"
         },
         {
          "nugget_ids": [
           "EQ011-N12"
          ],
          "sentence_id": "ddve4mga-C046-S003"
         },
         {
          "nugget_ids": [
           "EQ011-N12",
           "EQ011-N56"
          ],
          "sentence_id": "ddve4mga-C046-S006"
         },
         {
          "nugget_ids": [
           "EQ011-N12",
           "EQ011-N56"
          ],
          "sentence_id": "ddve4mga-C046-S007"
         },
         {
          "nugget_ids": [
           "EQ011-N12"
          ],
          "sentence_id": "ddve4mga-C046-S009"
         },
         {
          "nugget_ids": [
           "EQ011-N31"
          ],
          "sentence_id": "ddve4mga-C046-S005"
         },
         {
          "nugget_ids": [
           "EQ011-N69"
          ],
          "sentence_id": "dl7vrb5k-C007-S000"
         },
         {
          "nugget_ids": [
           "EQ011-N26",
           "EQ011-N04"
          ],
          "sentence_id": "dl7vrb5k-C007-S001"
         },
         {
          "nugget_ids": [
           "EQ011-N54",
           "EQ011-N53"
          ],
          "sentence_id": "dl7vrb5k-C016-S000"
         },
         {
          "nugget_ids": [
           "EQ011-N54"
          ],
          "sentence_id": "dl7vrb5k-C016-S001"
         },
         {
          "nugget_ids": [
           "EQ011-N54",
           "EQ011-N18",
           "EQ011-N19",
           "EQ011-N15",
           "EQ011-N20",
           "EQ011-N23"
          ],
          "sentence_id": "dl7vrb5k-C016-S002"
         },
         {
          "nugget_ids": [
           "EQ011-N54",
           "EQ011-N26",
           "EQ011-N67",
           "EQ011-N56"
          ],
          "sentence_id": "dl7vrb5k-C016-S003"
         },
         {
          "nugget_ids": [
           "EQ011-N02",
           "EQ011-N40"
          ],
          "sentence_id": "dt0e8ly4-C002-S000"
         },
         {
          "nugget_ids": [
           "EQ011-N02",
           "EQ011-N76"
          ],
          "sentence_id": "dt0e8ly4-C002-S001"
         },
         {
          "nugget_ids": [
           "EQ011-N02",
           "EQ011-N40"
          ],
          "sentence_id": "dt0e8ly4-C002-S002"
         },
         {
          "nugget_ids": [
           "EQ011-N02",
           "EQ011-N76",
           "EQ011-N40",
           "EQ011-N44",
           "EQ011-N47",
           "EQ011-N46"
          ],
          "sentence_id": "dt0e8ly4-C002-S003"
         },
         {
          "nugget_ids": [
           "EQ011-N90",
           "EQ011-N62"
          ],
          "sentence_id": "eazqdlds-C000-S001"
         },
         {
          "nugget_ids": [
           "EQ011-N87",
           "EQ011-N82",
           "EQ011-N69",
           "EQ011-N62"
          ],
          "sentence_id": "eazqdlds-C000-S002"
         },
         {
          "nugget_ids": [
           "EQ011-N87",
           "EQ011-N82",
           "EQ011-N93"
          ],
          "sentence_id": "eazqdlds-C000-S003"
         },
         {
          "nugget_ids": [
           "EQ011-N87",
           "EQ011-N82",
           "EQ011-N69",
           "EQ011-N85"
          ],
          "sentence_id": "eazqdlds-C000-S007"
         },
         {
          "nugget_ids": [
           "EQ011-N82",
           "EQ011-N62"
          ],
          "sentence_id": "eazqdlds-C000-S008"
         },
         {
          "nugget_ids": [
           "EQ011-N69",
           "EQ011-N86",
           "EQ011-N37"
          ],
          "sentence_id": "eazqdlds-C000-S004"
         },
         {
          "nugget_ids": [
           "EQ011-N69",
           "EQ011-N85",
           "EQ011-N88"
          ],
          "sentence_id": "eazqdlds-C000-S006"
         },
         {
          "nugget_ids": [
           "EQ011-N62"
          ],
          "sentence_id": "eazqdlds-C000-S005"
         },
         {
          "nugget_ids": [
           "EQ011-N87",
           "EQ011-N62"
          ],
          "sentence_id": "ezs6z0rl-C005-S001"
         },
         {
          "nugget_ids": [
           "EQ011-N87",
           "EQ011-N62"
          ],
          "sentence_id": "ezs6z0rl-C005-S003"
         },
         {
          "nugget_ids": [
           "EQ011-N62"
          ],
          "sentence_id": "ezs6z0rl-C005-S004"
         },
         {
          "nugget_ids": [
           "EQ011-N03",
           "EQ011-N01",
           "EQ011-N69",
           "EQ011-N09"
          ],
          "sentence_id": "f7ylxcog-C000-S000"
         },
         {
          "nugget_ids": [
           "EQ011-N03",
           "EQ011-N01",
           "EQ011-N09"
          ],
          "sentence_id": "f7ylxcog-C000-S002"
         },
         {
          "nugget_ids": [
           "EQ011-N03",
           "EQ011-N01",
           "EQ011-N69",
           "EQ011-N09"
          ],
          "sentence_id": "f7ylxcog-C000-S005"
         },
         {
          "nugget_ids": [
           "EQ011-N03"
          ],
          "sentence_id": "f7ylxcog-C000-S003"
         },
         {
          "nugget_ids": [
           "EQ011-N03",
           "EQ011-N01",
           "EQ011-N72",
           "EQ011-N69",
           "EQ011-N09"
          ],
          "sentence_id": "f7ylxcog-C000-S006"
         },
         {
          "nugget_ids": [
           "EQ011-N03",
           "EQ011-N01",
           "EQ011-N69",
           "EQ011-N09"
          ],
          "sentence_id": "f7ylxcog-C000-S007"
         },
         {
          "nugget_ids": [
           "EQ011-N03",
           "EQ011-N69"
          ],
          "sentence_id": "f7ylxcog-C000-S008"
         },
         {
          "nugget_ids": [
           "EQ011-N03",
           "EQ011-N69"
          ],
          "sentence_id": "f7ylxcog-C000-S010"
         },
         {
          "nugget_ids": [
           "EQ011-N03",
           "EQ011-N01",
           "EQ011-N69",
           "EQ011-N09"
          ],
          "sentence_id": "f7ylxcog-C000-S011"
         },
         {
          "nugget_ids": [
           "EQ011-N03",
           "EQ011-N69",
           "EQ011-N72"
          ],
          "sentence_id": "f7ylxcog-C000-S012"
         },
         {
          "nugget_ids": [
           "EQ011-N01",
           "EQ011-N69",
           "EQ011-N09"
          ],
          "sentence_id": "f7ylxcog-C000-S009"
         },
         {
          "nugget_ids": [
           "EQ011-N68"
          ],
          "sentence_id": "fl7koite-C008-S000"
         },
         {
          "nugget_ids": [
           "EQ011-N68"
          ],
          "sentence_id": "fl7koite-C008-S001"
         },
         {
          "nugget_ids": [
           "EQ011-N68",
           "EQ011-N69"
          ],
          "sentence_id": "fl7koite-C008-S002"
         },
         {
          "nugget_ids": [
           "EQ011-N68"
          ],
          "sentence_id": "fl7koite-C008-S003"
         },
         {
          "nugget_ids": [
           "EQ011-N68",
           "EQ011-N40"
          ],
          "sentence_id": "fl7koite-C008-S006"
         },
         {
          "nugget_ids": [
           "EQ011-N68"
          ],
          "sentence_id": "fl7koite-C008-S007"
         },
         {
          "nugget_ids": [
           "EQ011-N68"
          ],
          "sentence_id": "fl7koite-C008-S008"
         },
         {
          "nugget_ids": [
           "EQ011-N68",
           "EQ011-N40",
           "EQ011-N88"
          ],
          "sentence_id": "fl7koite-C008-S004"
         },
         {
          "nugget_ids": [
           "EQ011-N68",
           "EQ011-N69",
           "EQ011-N48",
           "EQ011-N10"
          ],
          "sentence_id": "fl7koite-C008-S005"
         },
         {
          "nugget_ids": [
           "EQ011-N04",
           "EQ011-N02"
          ],
          "sentence_id": "gy05dg7b-C002-S003"
         },
         {
          "nugget_ids": [
           "EQ011-N07"
          ],
          "sentence_id": "gy05dg7b-C002-S004"
         },
         {
          "nugget_ids": [
           "EQ011-N07",
           "EQ011-N68"
          ],
          "sentence_id": "gy05dg7b-C002-S007"
         },
         {
          "nugget_ids": [
           "EQ011-N86"
          ],
          "sentence_id": "gy05dg7b-C002-S001"
         },
         {
          "nugget_ids": [
           "EQ011-N86"
          ],
          "sentence_id": "gy05dg7b-C002-S000"
         },
         {
          "nugget_ids": [
           "EQ011-N86",
           "EQ011-N09"
          ],
          "sentence_id": "gy05dg7b-C002-S011"
         },
         {
          "nugget_ids": [
           "EQ011-N68"
          ],
          "sentence_id": "gy05dg7b-C002-S005"
         },
         {
          "nugget_ids": [
           "EQ011-N68"
          ],
          "sentence_id": "gy05dg7b-C002-S006"
         },
         {
          "nugget_ids": [
           "EQ011-N68"
          ],
          "sentence_id": "gy05dg7b-C002-S008"
         },
         {
          "nugget_ids": [
           "EQ011-N68",
           "EQ011-N69"
          ],
          "sentence_id": "gy05dg7b-C002-S012"
         },
         {
          "nugget_ids": [
           "EQ011-N68",
           "EQ011-N09"
          ],
          "sentence_id": "gy05dg7b-C002-S013"
         },
         {
          "nugget_ids": [
           "EQ011-N68"
          ],
          "sentence_id": "gy05dg7b-C002-S009"
         },
         {
          "nugget_ids": [
           "EQ011-N09"
          ],
          "sentence_id": "gy05dg7b-C002-S010"
         },
         {
          "nugget_ids": [
           "EQ011-N83",
           "EQ011-N76"
          ],
          "sentence_id": "hpyh2dxy-C000-S001"
         },
         {
          "nugget_ids": [
           "EQ011-N69",
           "EQ011-N69"
          ],
          "sentence_id": "hpyh2dxy-C000-S003"
         },
         {
          "nugget_ids": [
           "EQ011-N65",
           "EQ011-N76",
           "EQ011-N78",
           "EQ011-N69"
          ],
          "sentence_id": "hpyh2dxy-C000-S004"
         },
         {
          "nugget_ids": [
           "EQ011-N85",
           "EQ011-N32",
           "EQ011-N33",
           "EQ011-N21",
           "EQ011-N69"
          ],
          "sentence_id": "hpyh2dxy-C000-S005"
         },
         {
          "nugget_ids": [
           "EQ011-N78",
           "EQ011-N69"
          ],
          "sentence_id": "hpyh2dxy-C000-S006"
         },
         {
          "nugget_ids": [
           "EQ011-N78"
          ],
          "sentence_id": "hpyh2dxy-C000-S008"
         },
         {
          "nugget_ids": [
           "EQ011-N78",
           "EQ011-N94",
           "EQ011-N69"
          ],
          "sentence_id": "hpyh2dxy-C000-S009"
         },
         {
          "nugget_ids": [
           "EQ011-N88",
           "EQ011-N83",
           "EQ011-N21",
           "EQ011-N69"
          ],
          "sentence_id": "hpyh2dxy-C000-S007"
         },
         {
          "nugget_ids": [
           "EQ011-N69"
          ],
          "sentence_id": "hpyh2dxy-C000-S010"
         },
         {
          "nugget_ids": [
           "EQ011-N73"
          ],
          "sentence_id": "zi9u0nks-C006-S000"
         },
         {
          "nugget_ids": [
           "EQ011-N73"
          ],
          "sentence_id": "zi9u0nks-C006-S001"
         },
         {
          "nugget_ids": [
           "EQ011-N73"
          ],
          "sentence_id": "zi9u0nks-C006-S002"
         },
         {
          "nugget_ids": [
           "EQ011-N73"
          ],
          "sentence_id": "zi9u0nks-C006-S003"
         },
         {
          "nugget_ids": [
           "EQ011-N73"
          ],
          "sentence_id": "zi9u0nks-C006-S004"
         },
         {
          "nugget_ids": [
           "EQ011-N64"
          ],
          "sentence_id": "iuzfexig-C007-S000"
         },
         {
          "nugget_ids": [
           "EQ011-N68"
          ],
          "sentence_id": "iuzfexig-C007-S001"
         },
         {
          "nugget_ids": [
           "EQ011-N68",
           "EQ011-N83"
          ],
          "sentence_id": "iuzfexig-C007-S002"
         },
         {
          "nugget_ids": [
           "EQ011-N68",
           "EQ011-N07"
          ],
          "sentence_id": "iuzfexig-C007-S003"
         },
         {
          "nugget_ids": [
           "EQ011-N68",
           "EQ011-N73"
          ],
          "sentence_id": "iuzfexig-C007-S004"
         },
         {
          "nugget_ids": [
           "EQ011-N05",
           "EQ011-N78",
           "EQ011-N96"
          ],
          "sentence_id": "j3n1etkr-C000-S000"
         },
         {
          "nugget_ids": [
           "EQ011-N05",
           "EQ011-N96",
           "EQ011-N69"
          ],
          "sentence_id": "j3n1etkr-C000-S002"
         },
         {
          "nugget_ids": [
           "EQ011-N05",
           "EQ011-N96",
           "EQ011-N69"
          ],
          "sentence_id": "j3n1etkr-C000-S003"
         },
         {
          "nugget_ids": [
           "EQ011-N05",
           "EQ011-N96",
           "EQ011-N69"
          ],
          "sentence_id": "j3n1etkr-C000-S006"
         },
         {
          "nugget_ids": [
           "EQ011-N05",
           "EQ011-N96",
           "EQ011-N69"
          ],
          "sentence_id": "j3n1etkr-C000-S007"
         },
         {
          "nugget_ids": [
           "EQ011-N05",
           "EQ011-N96"
          ],
          "sentence_id": "j3n1etkr-C000-S010"
         },
         {
          "nugget_ids": [
           "EQ011-N78",
           "EQ011-N69"
          ],
          "sentence_id": "j3n1etkr-C000-S005"
         },
         {
          "nugget_ids": [
           "EQ011-N78",
           "EQ011-N96",
           "EQ011-N69"
          ],
          "sentence_id": "j3n1etkr-C000-S009"
         },
         {
          "nugget_ids": [
           "EQ011-N96"
          ],
          "sentence_id": "j3n1etkr-C000-S001"
         },
         {
          "nugget_ids": [
           "EQ011-N96",
           "EQ011-N69"
          ],
          "sentence_id": "j3n1etkr-C000-S008"
         },
         {
          "nugget_ids": [
           "EQ011-N69",
           "EQ011-N95"
          ],
          "sentence_id": "j3n1etkr-C000-S004"
         },
         {
          "nugget_ids": [
           "EQ011-N04"
          ],
          "sentence_id": "ji45igni-C012-S000"
         },
         {
          "nugget_ids": [
           "EQ011-N86"
          ],
          "sentence_id": "ji45igni-C012-S001"
         },
         {
          "nugget_ids": [
           "EQ011-N01",
           "EQ011-N09"
          ],
          "sentence_id": "jp18es2b-C000-S000"
         },
         {
          "nugget_ids": [
           "EQ011-N01",
           "EQ011-N09"
          ],
          "sentence_id": "jp18es2b-C000-S001"
         },
         {
          "nugget_ids": [
           "EQ011-N01",
           "EQ011-N09"
          ],
          "sentence_id": "jp18es2b-C000-S002"
         },
         {
          "nugget_ids": [
           "EQ011-N01",
           "EQ011-N09"
          ],
          "sentence_id": "jp18es2b-C000-S003"
         },
         {
          "nugget_ids": [
           "EQ011-N01",
           "EQ011-N09"
          ],
          "sentence_id": "jp18es2b-C000-S005"
         },
         {
          "nugget_ids": [
           "EQ011-N05",
           "EQ011-N69"
          ],
          "sentence_id": "l39na6s8-C010-S000"
         },
         {
          "nugget_ids": [
           "EQ011-N05"
          ],
          "sentence_id": "l39na6s8-C010-S003"
         },
         {
          "nugget_ids": [
           "EQ011-N05",
           "EQ011-N53",
           "EQ011-N43"
          ],
          "sentence_id": "l39na6s8-C010-S005"
         },
         {
          "nugget_ids": [
           "EQ011-N05",
           "EQ011-N96"
          ],
          "sentence_id": "l39na6s8-C010-S006"
         },
         {
          "nugget_ids": [
           "EQ011-N05",
           "EQ011-N68"
          ],
          "sentence_id": "l39na6s8-C010-S007"
         },
         {
          "nugget_ids": [
           "EQ011-N05",
           "EQ011-N53",
           "EQ011-N43",
           "EQ011-N04",
           "EQ011-N00"
          ],
          "sentence_id": "l39na6s8-C010-S008"
         },
         {
          "nugget_ids": [
           "EQ011-N05",
           "EQ011-N93",
           "EQ011-N68"
          ],
          "sentence_id": "l39na6s8-C010-S011"
         },
         {
          "nugget_ids": [
           "EQ011-N05",
           "EQ011-N96",
           "EQ011-N80"
          ],
          "sentence_id": "l39na6s8-C010-S012"
         },
         {
          "nugget_ids": [
           "EQ011-N05",
           "EQ011-N96",
           "EQ011-N69"
          ],
          "sentence_id": "l39na6s8-C010-S013"
         },
         {
          "nugget_ids": [
           "EQ011-N05",
           "EQ011-N96",
           "EQ011-N69"
          ],
          "sentence_id": "l39na6s8-C010-S014"
         },
         {
          "nugget_ids": [
           "EQ011-N05",
           "EQ011-N96",
           "EQ011-N69"
          ],
          "sentence_id": "l39na6s8-C010-S001"
         },
         {
          "nugget_ids": [
           "EQ011-N96"
          ],
          "sentence_id": "l39na6s8-C010-S002"
         },
         {
          "nugget_ids": [
           "EQ011-N96",
           "EQ011-N69"
          ],
          "sentence_id": "l39na6s8-C010-S004"
         },
         {
          "nugget_ids": [
           "EQ011-N90"
          ],
          "sentence_id": "l39na6s8-C010-S009"
         },
         {
          "nugget_ids": [
           "EQ011-N50"
          ],
          "sentence_id": "l5eh6fcj-C000-S000"
         },
         {
          "nugget_ids": [
           "EQ011-N50",
           "EQ011-N56"
          ],
          "sentence_id": "l5eh6fcj-C000-S002"
         },
         {
          "nugget_ids": [
           "EQ011-N50",
           "EQ011-N76"
          ],
          "sentence_id": "l5eh6fcj-C000-S003"
         },
         {
          "nugget_ids": [
           "EQ011-N50"
          ],
          "sentence_id": "l5eh6fcj-C000-S004"
         },
         {
          "nugget_ids": [
           "EQ011-N50",
           "EQ011-N69",
           "EQ011-N80",
           "EQ011-N83"
          ],
          "sentence_id": "l5eh6fcj-C000-S006"
         },
         {
          "nugget_ids": [
           "EQ011-N50",
           "EQ011-N80"
          ],
          "sentence_id": "l5eh6fcj-C000-S007"
         },
         {
          "nugget_ids": [
           "EQ011-N50",
           "EQ011-N85"
          ],
          "sentence_id": "l5eh6fcj-C000-S008"
         },
         {
          "nugget_ids": [
           "EQ011-N76"
          ],
          "sentence_id": "l5eh6fcj-C000-S001"
         },
         {
          "nugget_ids": [
           "EQ011-N78",
           "EQ011-N65"
          ],
          "sentence_id": "mu0g857x-C000-S000"
         },
         {
          "nugget_ids": [
           "EQ011-N78",
           "EQ011-N69"
          ],
          "sentence_id": "mu0g857x-C000-S001"
         },
         {
          "nugget_ids": [
           "EQ011-N78",
           "EQ011-N69"
          ],
          "sentence_id": "mu0g857x-C000-S005"
         },
         {
          "nugget_ids": [
           "EQ011-N78",
           "EQ011-N65",
           "EQ011-N69",
           "EQ011-N71"
          ],
          "sentence_id": "mu0g857x-C000-S006"
         },
         {
          "nugget_ids": [
           "EQ011-N73",
           "EQ011-N69"
          ],
          "sentence_id": "mu0g857x-C000-S002"
         },
         {
          "nugget_ids": [
           "EQ011-N73"
          ],
          "sentence_id": "mu0g857x-C000-S003"
         },
         {
          "nugget_ids": [
           "EQ011-N69",
           "EQ011-N67"
          ],
          "sentence_id": "mu0g857x-C000-S007"
         },
         {
          "nugget_ids": [
           "EQ011-N69"
          ],
          "sentence_id": "mu0g857x-C000-S009"
         },
         {
          "nugget_ids": [
           "EQ011-N69"
          ],
          "sentence_id": "mu0g857x-C000-S010"
         },
         {
          "nugget_ids": [
           "EQ011-N69",
           "EQ011-N67",
           "EQ011-N38",
           "EQ011-N49",
           "EQ011-N77"
          ],
          "sentence_id": "mu0g857x-C000-S011"
         },
         {
          "nugget_ids": [
           "EQ011-N69"
          ],
          "sentence_id": "mu0g857x-C000-S012"
         },
         {
          "nugget_ids": [
           "EQ011-N69",
           "EQ011-N62"
          ],
          "sentence_id": "mu0g857x-C000-S013"
         },
         {
          "nugget_ids": [
           "EQ011-N69",
           "EQ011-N62"
          ],
          "sentence_id": "mu0g857x-C000-S014"
         },
         {
          "nugget_ids": [
           "EQ011-N78",
           "EQ011-N68",
           "EQ011-N95",
           "EQ011-N05"
          ],
          "sentence_id": "n0qm3lds-C000-S000"
         },
         {
          "nugget_ids": [
           "EQ011-N78"
          ],
          "sentence_id": "n0qm3lds-C000-S005"
         },
         {
          "nugget_ids": [
           "EQ011-N78",
           "EQ011-N95"
          ],
          "sentence_id": "n0qm3lds-C000-S009"
         },
         {
          "nugget_ids": [
           "EQ011-N95"
          ],
          "sentence_id": "n0qm3lds-C000-S001"
         },
         {
          "nugget_ids": [
           "EQ011-N95",
           "EQ011-N05"
          ],
          "sentence_id": "n0qm3lds-C000-S002"
         },
         {
          "nugget_ids": [
           "EQ011-N95"
          ],
          "sentence_id": "n0qm3lds-C000-S008"
         },
         {
          "nugget_ids": [
           "EQ011-N95",
           "EQ011-N05"
          ],
          "sentence_id": "n0qm3lds-C000-S007"
         },
         {
          "nugget_ids": [
           "EQ011-N95",
           "EQ011-N05"
          ],
          "sentence_id": "n0qm3lds-C000-S006"
         },
         {
          "nugget_ids": [
           "EQ011-N95"
          ],
          "sentence_id": "n0qm3lds-C000-S004"
         },
         {
          "nugget_ids": [
           "EQ011-N95",
           "EQ011-N05"
          ],
          "sentence_id": "n0qm3lds-C000-S010"
         },
         {
          "nugget_ids": [
           "EQ011-N05"
          ],
          "sentence_id": "n0qm3lds-C000-S003"
         },
         {
          "nugget_ids": [
           "EQ011-N46",
           "EQ011-N48"
          ],
          "sentence_id": "o6jdvlya-C020-S000"
         },
         {
          "nugget_ids": [
           "EQ011-N46"
          ],
          "sentence_id": "o6jdvlya-C020-S001"
         },
         {
          "nugget_ids": [
           "EQ011-N46",
           "EQ011-N16",
           "EQ011-N30"
          ],
          "sentence_id": "o6jdvlya-C020-S002"
         },
         {
          "nugget_ids": [
           "EQ011-N46"
          ],
          "sentence_id": "o6jdvlya-C020-S003"
         },
         {
          "nugget_ids": [
           "EQ011-N46"
          ],
          "sentence_id": "o6jdvlya-C020-S004"
         },
         {
          "nugget_ids": [
           "EQ011-N46",
           "EQ011-N48"
          ],
          "sentence_id": "o6jdvlya-C020-S005"
         },
         {
          "nugget_ids": [
           "EQ011-N83"
          ],
          "sentence_id": "o6jdvlya-C020-S006"
         },
         {
          "nugget_ids": [
           "EQ011-N69",
           "EQ011-N68",
           "EQ011-N36"
          ],
          "sentence_id": "oyid5haj-C005-S000"
         },
         {
          "nugget_ids": [
           "EQ011-N01",
           "EQ011-N03"
          ],
          "sentence_id": "q2xjx56v-C000-S000"
         },
         {
          "nugget_ids": [
           "EQ011-N01",
           "EQ011-N03",
           "EQ011-N72"
          ],
          "sentence_id": "q2xjx56v-C000-S001"
         },
         {
          "nugget_ids": [
           "EQ011-N86",
           "EQ011-N97",
           "EQ011-N76",
           "EQ011-N66"
          ],
          "sentence_id": "9naohwpo-C004-S000"
         },
         {
          "nugget_ids": [
           "EQ011-N86",
           "EQ011-N97",
           "EQ011-N78",
           "EQ011-N76",
           "EQ011-N66"
          ],
          "sentence_id": "9naohwpo-C004-S001"
         },
         {
          "nugget_ids": [
           "EQ011-N86",
           "EQ011-N97",
           "EQ011-N78",
           "EQ011-N76",
           "EQ011-N66"
          ],
          "sentence_id": "9naohwpo-C004-S002"
         },
         {
          "nugget_ids": [
           "EQ011-N86",
           "EQ011-N97",
           "EQ011-N78",
           "EQ011-N76",
           "EQ011-N66"
          ],
          "sentence_id": "9naohwpo-C004-S003"
         },
         {
          "nugget_ids": [
           "EQ011-N86",
           "EQ011-N78",
           "EQ011-N66"
          ],
          "sentence_id": "9naohwpo-C004-S006"
         },
         {
          "nugget_ids": [
           "EQ011-N86",
           "EQ011-N97",
           "EQ011-N66"
          ],
          "sentence_id": "9naohwpo-C004-S009"
         },
         {
          "nugget_ids": [
           "EQ011-N97",
           "EQ011-N39",
           "EQ011-N46",
           "EQ011-N49"
          ],
          "sentence_id": "9naohwpo-C004-S004"
         },
         {
          "nugget_ids": [
           "EQ011-N97",
           "EQ011-N76",
           "EQ011-N66",
           "EQ011-N06"
          ],
          "sentence_id": "9naohwpo-C004-S007"
         },
         {
          "nugget_ids": [
           "EQ011-N97",
           "EQ011-N06"
          ],
          "sentence_id": "9naohwpo-C004-S008"
         },
         {
          "nugget_ids": [
           "EQ011-N86",
           "EQ011-N68",
           "EQ011-N78"
          ],
          "sentence_id": "tyobde1j-C002-S000"
         },
         {
          "nugget_ids": [
           "EQ011-N86",
           "EQ011-N65"
          ],
          "sentence_id": "tyobde1j-C002-S001"
         },
         {
          "nugget_ids": [
           "EQ011-N86",
           "EQ011-N68",
           "EQ011-N78"
          ],
          "sentence_id": "tyobde1j-C002-S002"
         },
         {
          "nugget_ids": [
           "EQ011-N86",
           "EQ011-N79"
          ],
          "sentence_id": "tyobde1j-C002-S008"
         },
         {
          "nugget_ids": [
           "EQ011-N79"
          ],
          "sentence_id": "tyobde1j-C002-S003"
         },
         {
          "nugget_ids": [
           "EQ011-N79"
          ],
          "sentence_id": "tyobde1j-C002-S004"
         },
         {
          "nugget_ids": [
           "EQ011-N79"
          ],
          "sentence_id": "tyobde1j-C002-S006"
         },
         {
          "nugget_ids": [
           "EQ011-N62",
           "EQ011-N74"
          ],
          "sentence_id": "tyobde1j-C002-S005"
         },
         {
          "nugget_ids": [
           "EQ011-N03",
           "EQ011-N00"
          ],
          "sentence_id": "tyobde1j-C006-S000"
         },
         {
          "nugget_ids": [
           "EQ011-N00",
           "EQ011-N72",
           "EQ011-N78",
           "EQ011-N62"
          ],
          "sentence_id": "tyobde1j-C006-S001"
         },
         {
          "nugget_ids": [
           "EQ011-N72",
           "EQ011-N78",
           "EQ011-N63",
           "EQ011-N62"
          ],
          "sentence_id": "tyobde1j-C006-S003"
         },
         {
          "nugget_ids": [
           "EQ011-N78"
          ],
          "sentence_id": "tyobde1j-C006-S004"
         },
         {
          "nugget_ids": [
           "EQ011-N84",
           "EQ011-N80",
           "EQ011-N94",
           "EQ011-N92"
          ],
          "sentence_id": "tyobde1j-C006-S002"
         },
         {
          "nugget_ids": [
           "EQ011-N89",
           "EQ011-N31",
           "EQ011-N69"
          ],
          "sentence_id": "v9zrivd3-C000-S001"
         },
         {
          "nugget_ids": [
           "EQ011-N89",
           "EQ011-N31"
          ],
          "sentence_id": "v9zrivd3-C000-S002"
         },
         {
          "nugget_ids": [
           "EQ011-N89",
           "EQ011-N31",
           "EQ011-N78"
          ],
          "sentence_id": "v9zrivd3-C000-S003"
         },
         {
          "nugget_ids": [
           "EQ011-N65"
          ],
          "sentence_id": "x0me00m0-C000-S000"
         },
         {
          "nugget_ids": [
           "EQ011-N65",
           "EQ011-N78",
           "EQ011-N69",
           "EQ011-N71"
          ],
          "sentence_id": "x0me00m0-C000-S006"
         },
         {
          "nugget_ids": [
           "EQ011-N78"
          ],
          "sentence_id": "x0me00m0-C000-S001"
         },
         {
          "nugget_ids": [
           "EQ011-N78",
           "EQ011-N69"
          ],
          "sentence_id": "x0me00m0-C000-S005"
         },
         {
          "nugget_ids": [
           "EQ011-N73",
           "EQ011-N69"
          ],
          "sentence_id": "x0me00m0-C000-S002"
         },
         {
          "nugget_ids": [
           "EQ011-N73"
          ],
          "sentence_id": "x0me00m0-C000-S003"
         },
         {
          "nugget_ids": [
           "EQ011-N69",
           "EQ011-N67"
          ],
          "sentence_id": "x0me00m0-C000-S007"
         },
         {
          "nugget_ids": [
           "EQ011-N69"
          ],
          "sentence_id": "x0me00m0-C000-S008"
         },
         {
          "nugget_ids": [
           "EQ011-N69"
          ],
          "sentence_id": "x0me00m0-C000-S009"
         },
         {
          "nugget_ids": [
           "EQ011-N69",
           "EQ011-N67",
           "EQ011-N38",
           "EQ011-N77",
           "EQ011-N49"
          ],
          "sentence_id": "x0me00m0-C000-S010"
         },
         {
          "nugget_ids": [
           "EQ011-N69"
          ],
          "sentence_id": "x0me00m0-C000-S011"
         },
         {
          "nugget_ids": [
           "EQ011-N69"
          ],
          "sentence_id": "x0me00m0-C000-S012"
         },
         {
          "nugget_ids": [
           "EQ011-N69",
           "EQ011-N62"
          ],
          "sentence_id": "x0me00m0-C000-S013"
         },
         {
          "nugget_ids": [
           "EQ011-N69",
           "EQ011-N61"
          ],
          "sentence_id": "x0me00m0-C000-S014"
         },
         {
          "nugget_ids": [
           "EQ011-N68"
          ],
          "sentence_id": "kh7vvnc7-C000-S002"
         },
         {
          "nugget_ids": [
           "EQ011-N90",
           "EQ011-N94",
           "EQ011-N81"
          ],
          "sentence_id": "kh7vvnc7-C000-S001"
         },
         {
          "nugget_ids": [
           "EQ011-N90",
           "EQ011-N81",
           "EQ011-N65"
          ],
          "sentence_id": "kh7vvnc7-C000-S000"
         },
         {
          "nugget_ids": [
           "EQ011-N24"
          ],
          "sentence_id": "xrtkgo0b-C011-S000"
         },
         {
          "nugget_ids": [
           "EQ011-N55",
           "EQ011-N69"
          ],
          "sentence_id": "xrtkgo0b-C011-S002"
         },
         {
          "nugget_ids": [
           "EQ011-N70",
           "EQ011-N78"
          ],
          "sentence_id": "xrtkgo0b-C011-S003"
         },
         {
          "nugget_ids": [
           "EQ011-N70",
           "EQ011-N24"
          ],
          "sentence_id": "xrtkgo0b-C011-S004"
         },
         {
          "nugget_ids": [
           "EQ011-N77",
           "EQ011-N69"
          ],
          "sentence_id": "xzidr8dv-C000-S000"
         },
         {
          "nugget_ids": [
           "EQ011-N77",
           "EQ011-N69"
          ],
          "sentence_id": "xzidr8dv-C000-S004"
         },
         {
          "nugget_ids": [
           "EQ011-N77",
           "EQ011-N69",
           "EQ011-N31"
          ],
          "sentence_id": "xzidr8dv-C000-S002"
         },
         {
          "nugget_ids": [
           "EQ011-N77",
           "EQ011-N69",
           "EQ011-N36"
          ],
          "sentence_id": "xzidr8dv-C000-S005"
         },
         {
          "nugget_ids": [
           "EQ011-N77",
           "EQ011-N69"
          ],
          "sentence_id": "xzidr8dv-C000-S003"
         },
         {
          "nugget_ids": [
           "EQ011-N65"
          ],
          "sentence_id": "xzidr8dv-C000-S001"
         },
         {
          "nugget_ids": [
           "EQ011-N78"
          ],
          "sentence_id": "ygojah79-C000-S000"
         },
         {
          "nugget_ids": [
           "EQ011-N97"
          ],
          "sentence_id": "ygojah79-C000-S001"
         },
         {
          "nugget_ids": [
           "EQ011-N97",
           "EQ011-N69"
          ],
          "sentence_id": "ygojah79-C000-S002"
         },
         {
          "nugget_ids": [
           "EQ011-N68",
           "EQ011-N43"
          ],
          "sentence_id": "ygojah79-C000-S003"
         },
         {
          "nugget_ids": [
           "EQ011-N68",
           "EQ011-N82"
          ],
          "sentence_id": "ym7ce5ux-C046-S000"
         },
         {
          "nugget_ids": [
           "EQ011-N68"
          ],
          "sentence_id": "ym7ce5ux-C046-S001"
         },
         {
          "nugget_ids": [
           "EQ011-N68"
          ],
          "sentence_id": "ym7ce5ux-C046-S002"
         },
         {
          "nugget_ids": [
           "EQ011-N68",
           "EQ011-N82"
          ],
          "sentence_id": "ym7ce5ux-C046-S003"
         },
         {
          "nugget_ids": [
           "EQ011-N68",
           "EQ011-N82"
          ],
          "sentence_id": "ym7ce5ux-C046-S004"
         },
         {
          "nugget_ids": [
           "EQ011-N68",
           "EQ011-N82"
          ],
          "sentence_id": "ym7ce5ux-C046-S005"
         }
        ],
        "nuggets": [
         {
          "nugget": "Delayed diagnosis for those without COVID-19",
          "nugget_id": "EQ011-N98"
         },
         {
          "nugget": "Delayed care for those without COVID-19",
          "nugget_id": "EQ011-N97"
         },
         {
          "nugget": "Delayed cancer care for those without COVID-19",
          "nugget_id": "EQ011-N96"
         },
         {
          "nugget": "Avoid surgery",
          "nugget_id": "EQ011-N95"
         },
         {
          "nugget": "Quarantine",
          "nugget_id": "EQ011-N94"
         },
         {
          "nugget": "Outpatient",
          "nugget_id": "EQ011-N93"
         },
         {
          "nugget": "Observation",
          "nugget_id": "EQ011-N92"
         },
         {
          "nugget": "Neurooncology",
          "nugget_id": "EQ011-N91"
         },
         {
          "nugget": "Telehealth",
          "nugget_id": "EQ011-N90"
         },
         {
          "nugget": "Radiology departments",
          "nugget_id": "EQ011-N89"
         },
         {
          "nugget": "Point of care",
          "nugget_id": "EQ011-N88"
         },
         {
          "nugget": "Palliative care",
          "nugget_id": "EQ011-N87"
         },
         {
          "nugget": "Location",
          "nugget_id": "EQ011-N86"
         },
         {
          "nugget": "Frequent screening/active triage",
          "nugget_id": "EQ011-N85"
         },
         {
          "nugget": "Early discharge",
          "nugget_id": "EQ011-N84"
         },
         {
          "nugget": "Early screening and triage",
          "nugget_id": "EQ011-N83"
         },
         {
          "nugget": "Community setting",
          "nugget_id": "EQ011-N82"
         },
         {
          "nugget": "Care at home",
          "nugget_id": "EQ011-N81"
         },
         {
          "nugget": "Admission",
          "nugget_id": "EQ011-N80"
         },
         {
          "nugget": "Turning units or spaces into triage or other care areas",
          "nugget_id": "EQ011-N79"
         },
         {
          "nugget": "Resource-driven decisions",
          "nugget_id": "EQ011-N78"
         },
         {
          "nugget": "Performance score",
          "nugget_id": "EQ011-N77"
         },
         {
          "nugget": "Missed diagnosis of COVID-19 infections (results in delayed diagnosis, misdiagnosis, delayed treatment)",
          "nugget_id": "EQ011-N76"
         },
         {
          "nugget": "Econmic-driven decisions",
          "nugget_id": "EQ011-N75"
         },
         {
          "nugget": "Communication",
          "nugget_id": "EQ011-N74"
         },
         {
          "nugget": "Evidence based",
          "nugget_id": "EQ011-N73"
         },
         {
          "nugget": "Ethics",
          "nugget_id": "EQ011-N72"
         },
         {
          "nugget": "Greatest good for the greatest number",
          "nugget_id": "EQ011-N71"
         },
         {
          "nugget": "World Health Organization guidance",
          "nugget_id": "EQ011-N70"
         },
         {
          "nugget": "Triage algorithm",
          "nugget_id": "EQ011-N69"
         },
         {
          "nugget": "Staff safety",
          "nugget_id": "EQ011-N68"
         },
         {
          "nugget": "Predicted survival",
          "nugget_id": "EQ011-N67"
         },
         {
          "nugget": "Poor diagnostics/poor surveillance",
          "nugget_id": "EQ011-N66"
         },
         {
          "nugget": "Patient surge/hospitals overwhelmed",
          "nugget_id": "EQ011-N65"
         },
         {
          "nugget": "Nosocomial infection",
          "nugget_id": "EQ011-N64"
         },
         {
          "nugget": "Legal considerations",
          "nugget_id": "EQ011-N63"
         },
         {
          "nugget": "Interdisciplinary care",
          "nugget_id": "EQ011-N62"
         },
         {
          "nugget": "Critical care specialist physician",
          "nugget_id": "EQ011-N61"
         },
         {
          "nugget": "virus negative lymphatic myocarditis",
          "nugget_id": "EQ011-N60"
         },
         {
          "nugget": "heart attack during initial presentation (and has COVID-19)",
          "nugget_id": "EQ011-N59"
         },
         {
          "nugget": "cutaneous manifestations",
          "nugget_id": "EQ011-N58"
         },
         {
          "nugget": "refractory undiagnosed gastrointestinal symptoms",
          "nugget_id": "EQ011-N57"
         },
         {
          "nugget": "Viral infections/pneumonia",
          "nugget_id": "EQ011-N56"
         },
         {
          "nugget": "Tuberculosis",
          "nugget_id": "EQ011-N55"
         },
         {
          "nugget": "Severe pneumonia",
          "nugget_id": "EQ011-N54"
         },
         {
          "nugget": "Severe clinical presentation/acuity",
          "nugget_id": "EQ011-N53"
         },
         {
          "nugget": "Severe clinical deterioration in patients with cancer and COVID-19",
          "nugget_id": "EQ011-N52"
         },
         {
          "nugget": "Presymtomatic",
          "nugget_id": "EQ011-N51"
         },
         {
          "nugget": "Olfactory or taste disorders (OTD)",
          "nugget_id": "EQ011-N50"
         },
         {
          "nugget": "Number of organ failures",
          "nugget_id": "EQ011-N49"
         },
         {
          "nugget": "Fever",
          "nugget_id": "EQ011-N48"
         },
         {
          "nugget": "Fall",
          "nugget_id": "EQ011-N47"
         },
         {
          "nugget": "Diarrhea",
          "nugget_id": "EQ011-N46"
         },
         {
          "nugget": "Cough",
          "nugget_id": "EQ011-N45"
         },
         {
          "nugget": "Confusion",
          "nugget_id": "EQ011-N44"
         },
         {
          "nugget": "Co-morbidities",
          "nugget_id": "EQ011-N43"
         },
         {
          "nugget": "Chronic disease",
          "nugget_id": "EQ011-N42"
         },
         {
          "nugget": "Bacterial infections/pneumonia",
          "nugget_id": "EQ011-N41"
         },
         {
          "nugget": "Atypical presentation",
          "nugget_id": "EQ011-N40"
         },
         {
          "nugget": "Asymptomatic",
          "nugget_id": "EQ011-N39"
         },
         {
          "nugget": "ASA score",
          "nugget_id": "EQ011-N38"
         },
         {
          "nugget": "Acuity",
          "nugget_id": "EQ011-N37"
         },
         {
          "nugget": "Acute respiratory symptoms",
          "nugget_id": "EQ011-N36"
         },
         {
          "nugget": "positive tracheal aspirate test",
          "nugget_id": "EQ011-N35"
         },
         {
          "nugget": "RT-PCR in respiratory samples",
          "nugget_id": "EQ011-N34"
         },
         {
          "nugget": "Rapid IgM/IgG testing",
          "nugget_id": "EQ011-N33"
         },
         {
          "nugget": "Rapid host immune response",
          "nugget_id": "EQ011-N32"
         },
         {
          "nugget": "Radiological findings",
          "nugget_id": "EQ011-N31"
         },
         {
          "nugget": "Prolonged coagulation",
          "nugget_id": "EQ011-N30"
         },
         {
          "nugget": "Pathogen specific confirmatory tests",
          "nugget_id": "EQ011-N29"
         },
         {
          "nugget": "Nucleic acid test",
          "nugget_id": "EQ011-N28"
         },
         {
          "nugget": "Negative test",
          "nugget_id": "EQ011-N27"
         },
         {
          "nugget": "High MuLBSTA scores",
          "nugget_id": "EQ011-N26"
         },
         {
          "nugget": "Molecular confirmatory testing",
          "nugget_id": "EQ011-N25"
         },
         {
          "nugget": "MDR-TB and XDR-TB diagnosis",
          "nugget_id": "EQ011-N24"
         },
         {
          "nugget": "Lower lymphocytes count",
          "nugget_id": "EQ011-N23"
         },
         {
          "nugget": "nasppharyngeal swab",
          "nugget_id": "EQ011-N22"
         },
         {
          "nugget": "immunity testing",
          "nugget_id": "EQ011-N21"
         },
         {
          "nugget": "Hyponatremia",
          "nugget_id": "EQ011-N20"
         },
         {
          "nugget": "Hypocalcemia",
          "nugget_id": "EQ011-N19"
         },
         {
          "nugget": "Higher neutrophil count",
          "nugget_id": "EQ011-N18"
         },
         {
          "nugget": "Higher mortality risk",
          "nugget_id": "EQ011-N17"
         },
         {
          "nugget": "Higher liver enzyme tests",
          "nugget_id": "EQ011-N16"
         },
         {
          "nugget": "Higher levels of CRP",
          "nugget_id": "EQ011-N15"
         },
         {
          "nugget": "Handheld non contact thermometers",
          "nugget_id": "EQ011-N14"
         },
         {
          "nugget": "Fingerstick",
          "nugget_id": "EQ011-N13"
         },
         {
          "nugget": "chest X-ray",
          "nugget_id": "EQ011-N12"
         },
         {
          "nugget": "Abnormal density shadow in parenchyma of  both lungs",
          "nugget_id": "EQ011-N11"
         },
         {
          "nugget": "Highly suspect COVID in all patients",
          "nugget_id": "EQ011-N10"
         },
         {
          "nugget": "Pediatric patients",
          "nugget_id": "EQ011-N09"
         },
         {
          "nugget": "non-life threatening",
          "nugget_id": "EQ011-N08"
         },
         {
          "nugget": "Direct exposure",
          "nugget_id": "EQ011-N07"
         },
         {
          "nugget": "Co-morbidities",
          "nugget_id": "EQ011-N06"
         },
         {
          "nugget": "Cancer",
          "nugget_id": "EQ011-N05"
         },
         {
          "nugget": "Older age",
          "nugget_id": "EQ011-N04"
         },
         {
          "nugget": "Extracorporeal membrane oxygenation (ECMO)",
          "nugget_id": "EQ011-N03"
         },
         {
          "nugget": "Elderly",
          "nugget_id": "EQ011-N02"
         },
         {
          "nugget": "Critically ill pediatric patients",
          "nugget_id": "EQ011-N01"
         },
         {
          "nugget": "Aggressive measures",
          "nugget_id": "EQ011-N00"
         }
        ],
        "question_id": "EQ011"
       },
       {
        "annotations": [
         {
          "nugget_ids": [
           "CQ011-N00",
           "CQ011-N72"
          ],
          "sentence_id": "03702a0bee7145c30c07ce1b3e0c10ff09016025-C001-S000"
         },
         {
          "nugget_ids": [
           "CQ011-N72",
           "CQ011-N01"
          ],
          "sentence_id": "03702a0bee7145c30c07ce1b3e0c10ff09016025-C001-S001"
         },
         {
          "nugget_ids": [
           "CQ011-N02",
           "CQ011-N00",
           "CQ011-N28"
          ],
          "sentence_id": "03702a0bee7145c30c07ce1b3e0c10ff09016025-C001-S002"
         },
         {
          "nugget_ids": [
           "CQ011-N00",
           "CQ011-N01"
          ],
          "sentence_id": "03702a0bee7145c30c07ce1b3e0c10ff09016025-C001-S003"
         },
         {
          "nugget_ids": [
           "CQ011-N45"
          ],
          "sentence_id": "1e70c19ffe4b7f50bfba1d3f9b836243fe6bc996-C020-S001"
         },
         {
          "nugget_ids": [
           "CQ011-N65"
          ],
          "sentence_id": "208cd94c6aa94fc8fe686789c8871d19461ed8af-C000-S000"
         },
         {
          "nugget_ids": [
           "CQ011-N31",
           "CQ011-N59",
           "CQ011-N73",
           "CQ011-N74"
          ],
          "sentence_id": "208cd94c6aa94fc8fe686789c8871d19461ed8af-C000-S001"
         },
         {
          "nugget_ids": [
           "CQ011-N18"
          ],
          "sentence_id": "208cd94c6aa94fc8fe686789c8871d19461ed8af-C000-S002"
         },
         {
          "nugget_ids": [
           "CQ011-N01",
           "CQ011-N28"
          ],
          "sentence_id": "26d709250c8d6af8790267ab06561a32b70f4ce2-C003-S001"
         },
         {
          "nugget_ids": [
           "CQ011-N01",
           "CQ011-N28"
          ],
          "sentence_id": "26d709250c8d6af8790267ab06561a32b70f4ce2-C003-S002"
         },
         {
          "nugget_ids": [
           "CQ011-N01",
           "CQ011-N28"
          ],
          "sentence_id": "26d709250c8d6af8790267ab06561a32b70f4ce2-C003-S003"
         },
         {
          "nugget_ids": [
           "CQ011-N01",
           "CQ011-N28"
          ],
          "sentence_id": "26d709250c8d6af8790267ab06561a32b70f4ce2-C003-S005"
         },
         {
          "nugget_ids": [
           "CQ011-N01",
           "CQ011-N28"
          ],
          "sentence_id": "26d709250c8d6af8790267ab06561a32b70f4ce2-C003-S006"
         },
         {
          "nugget_ids": [
           "CQ011-N01",
           "CQ011-N28"
          ],
          "sentence_id": "26d709250c8d6af8790267ab06561a32b70f4ce2-C003-S007"
         },
         {
          "nugget_ids": [
           "CQ011-N01",
           "CQ011-N28"
          ],
          "sentence_id": "26d709250c8d6af8790267ab06561a32b70f4ce2-C003-S008"
         },
         {
          "nugget_ids": [
           "CQ011-N01"
          ],
          "sentence_id": "26d709250c8d6af8790267ab06561a32b70f4ce2-C003-S009"
         },
         {
          "nugget_ids": [
           "CQ011-N01",
           "CQ011-N28"
          ],
          "sentence_id": "26d709250c8d6af8790267ab06561a32b70f4ce2-C003-S010"
         },
         {
          "nugget_ids": [
           "CQ011-N01",
           "CQ011-N28"
          ],
          "sentence_id": "26d709250c8d6af8790267ab06561a32b70f4ce2-C003-S011"
         },
         {
          "nugget_ids": [
           "CQ011-N01",
           "CQ011-N28"
          ],
          "sentence_id": "26d709250c8d6af8790267ab06561a32b70f4ce2-C003-S013"
         },
         {
          "nugget_ids": [
           "CQ011-N01"
          ],
          "sentence_id": "26d709250c8d6af8790267ab06561a32b70f4ce2-C013-S007"
         },
         {
          "nugget_ids": [
           "CQ011-N01"
          ],
          "sentence_id": "26d709250c8d6af8790267ab06561a32b70f4ce2-C013-S008"
         },
         {
          "nugget_ids": [
           "CQ011-N01"
          ],
          "sentence_id": "26d709250c8d6af8790267ab06561a32b70f4ce2-C013-S009"
         },
         {
          "nugget_ids": [
           "CQ011-N01"
          ],
          "sentence_id": "26d709250c8d6af8790267ab06561a32b70f4ce2-C013-S014"
         },
         {
          "nugget_ids": [
           "CQ011-N01"
          ],
          "sentence_id": "26d709250c8d6af8790267ab06561a32b70f4ce2-C013-S013"
         },
         {
          "nugget_ids": [
           "CQ011-N01"
          ],
          "sentence_id": "26d709250c8d6af8790267ab06561a32b70f4ce2-C013-S012"
         },
         {
          "nugget_ids": [
           "CQ011-N01"
          ],
          "sentence_id": "26d709250c8d6af8790267ab06561a32b70f4ce2-C013-S011"
         },
         {
          "nugget_ids": [
           "CQ011-N01"
          ],
          "sentence_id": "26d709250c8d6af8790267ab06561a32b70f4ce2-C013-S010"
         },
         {
          "nugget_ids": [
           "CQ011-N01"
          ],
          "sentence_id": "26d709250c8d6af8790267ab06561a32b70f4ce2-C013-S006"
         },
         {
          "nugget_ids": [
           "CQ011-N01"
          ],
          "sentence_id": "26d709250c8d6af8790267ab06561a32b70f4ce2-C013-S004"
         },
         {
          "nugget_ids": [
           "CQ011-N01"
          ],
          "sentence_id": "26d709250c8d6af8790267ab06561a32b70f4ce2-C013-S000"
         },
         {
          "nugget_ids": [
           "CQ011-N01",
           "CQ011-N28"
          ],
          "sentence_id": "26d709250c8d6af8790267ab06561a32b70f4ce2-C014-S001"
         },
         {
          "nugget_ids": [
           "CQ011-N01",
           "CQ011-N28"
          ],
          "sentence_id": "26d709250c8d6af8790267ab06561a32b70f4ce2-C014-S002"
         },
         {
          "nugget_ids": [
           "CQ011-N01",
           "CQ011-N28"
          ],
          "sentence_id": "26d709250c8d6af8790267ab06561a32b70f4ce2-C014-S003"
         },
         {
          "nugget_ids": [
           "CQ011-N01",
           "CQ011-N28"
          ],
          "sentence_id": "26d709250c8d6af8790267ab06561a32b70f4ce2-C014-S005"
         },
         {
          "nugget_ids": [
           "CQ011-N01",
           "CQ011-N28"
          ],
          "sentence_id": "26d709250c8d6af8790267ab06561a32b70f4ce2-C014-S006"
         },
         {
          "nugget_ids": [
           "CQ011-N01",
           "CQ011-N28"
          ],
          "sentence_id": "26d709250c8d6af8790267ab06561a32b70f4ce2-C014-S007"
         },
         {
          "nugget_ids": [
           "CQ011-N01",
           "CQ011-N28"
          ],
          "sentence_id": "26d709250c8d6af8790267ab06561a32b70f4ce2-C014-S008"
         },
         {
          "nugget_ids": [
           "CQ011-N01",
           "CQ011-N28"
          ],
          "sentence_id": "26d709250c8d6af8790267ab06561a32b70f4ce2-C014-S009"
         },
         {
          "nugget_ids": [
           "CQ011-N01",
           "CQ011-N28"
          ],
          "sentence_id": "26d709250c8d6af8790267ab06561a32b70f4ce2-C014-S010"
         },
         {
          "nugget_ids": [
           "CQ011-N01",
           "CQ011-N28"
          ],
          "sentence_id": "26d709250c8d6af8790267ab06561a32b70f4ce2-C014-S011"
         },
         {
          "nugget_ids": [
           "CQ011-N01",
           "CQ011-N28"
          ],
          "sentence_id": "26d709250c8d6af8790267ab06561a32b70f4ce2-C014-S013"
         },
         {
          "nugget_ids": [
           "CQ011-N01"
          ],
          "sentence_id": "26d709250c8d6af8790267ab06561a32b70f4ce2-C001-S000"
         },
         {
          "nugget_ids": [
           "CQ011-N01"
          ],
          "sentence_id": "26d709250c8d6af8790267ab06561a32b70f4ce2-C001-S001"
         },
         {
          "nugget_ids": [
           "CQ011-N01"
          ],
          "sentence_id": "26d709250c8d6af8790267ab06561a32b70f4ce2-C001-S002"
         },
         {
          "nugget_ids": [
           "CQ011-N01"
          ],
          "sentence_id": "26d709250c8d6af8790267ab06561a32b70f4ce2-C001-S003"
         },
         {
          "nugget_ids": [
           "CQ011-N01"
          ],
          "sentence_id": "26d709250c8d6af8790267ab06561a32b70f4ce2-C001-S006"
         },
         {
          "nugget_ids": [
           "CQ011-N01"
          ],
          "sentence_id": "26d709250c8d6af8790267ab06561a32b70f4ce2-C001-S009"
         },
         {
          "nugget_ids": [
           "CQ011-N01"
          ],
          "sentence_id": "26d709250c8d6af8790267ab06561a32b70f4ce2-C001-S011"
         },
         {
          "nugget_ids": [
           "CQ011-N01"
          ],
          "sentence_id": "26d709250c8d6af8790267ab06561a32b70f4ce2-C001-S008"
         },
         {
          "nugget_ids": [
           "CQ011-N01"
          ],
          "sentence_id": "26d709250c8d6af8790267ab06561a32b70f4ce2-C001-S014"
         },
         {
          "nugget_ids": [
           "CQ011-N01"
          ],
          "sentence_id": "26dbc7ae98ec8d15143325b93c186525150a5a9a-C001-S000"
         },
         {
          "nugget_ids": [
           "CQ011-N01",
           "CQ011-N00"
          ],
          "sentence_id": "2df2dc3d8b76620f4ec17069986e7b182f59072d-C035-S000"
         },
         {
          "nugget_ids": [
           "CQ011-N64"
          ],
          "sentence_id": "2df2dc3d8b76620f4ec17069986e7b182f59072d-C035-S001"
         },
         {
          "nugget_ids": [
           "CQ011-N03",
           "CQ011-N33"
          ],
          "sentence_id": "2df2dc3d8b76620f4ec17069986e7b182f59072d-C046-S000"
         },
         {
          "nugget_ids": [
           "CQ011-N03",
           "CQ011-N33",
           "CQ011-N05",
           "CQ011-N30",
           "CQ011-N04"
          ],
          "sentence_id": "2df2dc3d8b76620f4ec17069986e7b182f59072d-C046-S002"
         },
         {
          "nugget_ids": [
           "CQ011-N03",
           "CQ011-N33"
          ],
          "sentence_id": "2df2dc3d8b76620f4ec17069986e7b182f59072d-C046-S003"
         },
         {
          "nugget_ids": [
           "CQ011-N06"
          ],
          "sentence_id": "2df2dc3d8b76620f4ec17069986e7b182f59072d-C046-S001"
         },
         {
          "nugget_ids": [
           "CQ011-N14",
           "CQ011-N15"
          ],
          "sentence_id": "2df2dc3d8b76620f4ec17069986e7b182f59072d-C009-S007"
         },
         {
          "nugget_ids": [
           "CQ011-N14",
           "CQ011-N15"
          ],
          "sentence_id": "2df2dc3d8b76620f4ec17069986e7b182f59072d-C009-S008"
         },
         {
          "nugget_ids": [
           "CQ011-N14",
           "CQ011-N15",
           "CQ011-N13",
           "CQ011-N12"
          ],
          "sentence_id": "2df2dc3d8b76620f4ec17069986e7b182f59072d-C009-S009"
         },
         {
          "nugget_ids": [
           "CQ011-N14",
           "CQ011-N15"
          ],
          "sentence_id": "2df2dc3d8b76620f4ec17069986e7b182f59072d-C009-S011"
         },
         {
          "nugget_ids": [
           "CQ011-N03"
          ],
          "sentence_id": "2df2dc3d8b76620f4ec17069986e7b182f59072d-C009-S000"
         },
         {
          "nugget_ids": [
           "CQ011-N13"
          ],
          "sentence_id": "2df2dc3d8b76620f4ec17069986e7b182f59072d-C009-S001"
         },
         {
          "nugget_ids": [
           "CQ011-N13"
          ],
          "sentence_id": "2df2dc3d8b76620f4ec17069986e7b182f59072d-C009-S004"
         },
         {
          "nugget_ids": [
           "CQ011-N13"
          ],
          "sentence_id": "2df2dc3d8b76620f4ec17069986e7b182f59072d-C009-S006"
         },
         {
          "nugget_ids": [
           "CQ011-N13"
          ],
          "sentence_id": "2df2dc3d8b76620f4ec17069986e7b182f59072d-C009-S014"
         },
         {
          "nugget_ids": [
           "CQ011-N12"
          ],
          "sentence_id": "2df2dc3d8b76620f4ec17069986e7b182f59072d-C009-S010"
         },
         {
          "nugget_ids": [
           "CQ011-N18",
           "CQ011-N20",
           "CQ011-N21",
           "CQ011-N22",
           "CQ011-N27",
           "CQ011-N23",
           "CQ011-N19",
           "CQ011-N74",
           "CQ011-N31"
          ],
          "sentence_id": "2df2dc3d8b76620f4ec17069986e7b182f59072d-C005-S005"
         },
         {
          "nugget_ids": [
           "CQ011-N37",
           "CQ011-N24",
           "CQ011-N07"
          ],
          "sentence_id": "2df2dc3d8b76620f4ec17069986e7b182f59072d-C005-S006"
         },
         {
          "nugget_ids": [
           "CQ011-N32",
           "CQ011-N24",
           "CQ011-N25"
          ],
          "sentence_id": "2df2dc3d8b76620f4ec17069986e7b182f59072d-C005-S007"
         },
         {
          "nugget_ids": [
           "CQ011-N32",
           "CQ011-N26",
           "CQ011-N27"
          ],
          "sentence_id": "2df2dc3d8b76620f4ec17069986e7b182f59072d-C005-S008"
         },
         {
          "nugget_ids": [
           "CQ011-N73",
           "CQ011-N74",
           "CQ011-N31"
          ],
          "sentence_id": "2df2dc3d8b76620f4ec17069986e7b182f59072d-C005-S011"
         },
         {
          "nugget_ids": [
           "CQ011-N73",
           "CQ011-N74",
           "CQ011-N31"
          ],
          "sentence_id": "2df2dc3d8b76620f4ec17069986e7b182f59072d-C005-S010"
         },
         {
          "nugget_ids": [
           "CQ011-N31",
           "CQ011-N74",
           "CQ011-N31",
           "CQ011-N01"
          ],
          "sentence_id": "2df2dc3d8b76620f4ec17069986e7b182f59072d-C005-S012"
         },
         {
          "nugget_ids": [
           "CQ011-N74",
           "CQ011-N31",
           "CQ011-N75",
           "CQ011-N07"
          ],
          "sentence_id": "2df2dc3d8b76620f4ec17069986e7b182f59072d-C005-S014"
         },
         {
          "nugget_ids": [
           "CQ011-N74",
           "CQ011-N31"
          ],
          "sentence_id": "2df2dc3d8b76620f4ec17069986e7b182f59072d-C005-S004"
         },
         {
          "nugget_ids": [
           "CQ011-N10"
          ],
          "sentence_id": "2df2dc3d8b76620f4ec17069986e7b182f59072d-C005-S013"
         },
         {
          "nugget_ids": [
           "CQ011-N06"
          ],
          "sentence_id": "2df2dc3d8b76620f4ec17069986e7b182f59072d-C022-S000"
         },
         {
          "nugget_ids": [
           "CQ011-N06"
          ],
          "sentence_id": "2df2dc3d8b76620f4ec17069986e7b182f59072d-C022-S002"
         },
         {
          "nugget_ids": [
           "CQ011-N03"
          ],
          "sentence_id": "2df2dc3d8b76620f4ec17069986e7b182f59072d-C022-S001"
         },
         {
          "nugget_ids": [
           "CQ011-N04",
           "CQ011-N05"
          ],
          "sentence_id": "2df2dc3d8b76620f4ec17069986e7b182f59072d-C022-S003"
         },
         {
          "nugget_ids": [
           "CQ011-N03",
           "CQ011-N18"
          ],
          "sentence_id": "2df2dc3d8b76620f4ec17069986e7b182f59072d-C022-S004"
         },
         {
          "nugget_ids": [
           "CQ011-N13",
           "CQ011-N18"
          ],
          "sentence_id": "2df2dc3d8b76620f4ec17069986e7b182f59072d-C022-S005"
         },
         {
          "nugget_ids": [
           "CQ011-N13",
           "CQ011-N18"
          ],
          "sentence_id": "2df2dc3d8b76620f4ec17069986e7b182f59072d-C022-S008"
         },
         {
          "nugget_ids": [
           "CQ011-N13",
           "CQ011-N18"
          ],
          "sentence_id": "2df2dc3d8b76620f4ec17069986e7b182f59072d-C022-S009"
         },
         {
          "nugget_ids": [
           "CQ011-N13",
           "CQ011-N18"
          ],
          "sentence_id": "2df2dc3d8b76620f4ec17069986e7b182f59072d-C022-S010"
         },
         {
          "nugget_ids": [
           "CQ011-N18"
          ],
          "sentence_id": "2df2dc3d8b76620f4ec17069986e7b182f59072d-C022-S006"
         },
         {
          "nugget_ids": [
           "CQ011-N18"
          ],
          "sentence_id": "2df2dc3d8b76620f4ec17069986e7b182f59072d-C022-S007"
         },
         {
          "nugget_ids": [
           "CQ011-N18",
           "CQ011-N14",
           "CQ011-N15"
          ],
          "sentence_id": "2df2dc3d8b76620f4ec17069986e7b182f59072d-C022-S011"
         },
         {
          "nugget_ids": [
           "CQ011-N18",
           "CQ011-N14",
           "CQ011-N15",
           "CQ011-N12"
          ],
          "sentence_id": "2df2dc3d8b76620f4ec17069986e7b182f59072d-C022-S012"
         },
         {
          "nugget_ids": [
           "CQ011-N18",
           "CQ011-N14",
           "CQ011-N15",
           "CQ011-N12"
          ],
          "sentence_id": "2df2dc3d8b76620f4ec17069986e7b182f59072d-C022-S013"
         },
         {
          "nugget_ids": [
           "CQ011-N18",
           "CQ011-N12"
          ],
          "sentence_id": "2df2dc3d8b76620f4ec17069986e7b182f59072d-C022-S014"
         },
         {
          "nugget_ids": [
           "CQ011-N01",
           "CQ011-N18",
           "CQ011-N74",
           "CQ011-N73",
           "CQ011-N31"
          ],
          "sentence_id": "2df2dc3d8b76620f4ec17069986e7b182f59072d-C038-S001"
         },
         {
          "nugget_ids": [
           "CQ011-N09",
           "CQ011-N10"
          ],
          "sentence_id": "2df2dc3d8b76620f4ec17069986e7b182f59072d-C038-S002"
         },
         {
          "nugget_ids": [
           "CQ011-N07",
           "CQ011-N74",
           "CQ011-N75",
           "CQ011-N08"
          ],
          "sentence_id": "2df2dc3d8b76620f4ec17069986e7b182f59072d-C038-S003"
         },
         {
          "nugget_ids": [
           "CQ011-N08",
           "CQ011-N76"
          ],
          "sentence_id": "2df2dc3d8b76620f4ec17069986e7b182f59072d-C038-S004"
         },
         {
          "nugget_ids": [
           "CQ011-N01"
          ],
          "sentence_id": "2df2dc3d8b76620f4ec17069986e7b182f59072d-C038-S005"
         },
         {
          "nugget_ids": [
           "CQ011-N31",
           "CQ011-N73"
          ],
          "sentence_id": "2df2dc3d8b76620f4ec17069986e7b182f59072d-C038-S006"
         },
         {
          "nugget_ids": [
           "CQ011-N31",
           "CQ011-N73"
          ],
          "sentence_id": "2df2dc3d8b76620f4ec17069986e7b182f59072d-C038-S000"
         },
         {
          "nugget_ids": [
           "CQ011-N64",
           "CQ011-N00",
           "CQ011-N01"
          ],
          "sentence_id": "2df2dc3d8b76620f4ec17069986e7b182f59072d-C004-S012"
         },
         {
          "nugget_ids": [
           "CQ011-N00",
           "CQ011-N01"
          ],
          "sentence_id": "2df2dc3d8b76620f4ec17069986e7b182f59072d-C004-S001"
         },
         {
          "nugget_ids": [
           "CQ011-N00",
           "CQ011-N01"
          ],
          "sentence_id": "2df2dc3d8b76620f4ec17069986e7b182f59072d-C004-S002"
         },
         {
          "nugget_ids": [
           "CQ011-N00",
           "CQ011-N01"
          ],
          "sentence_id": "2df2dc3d8b76620f4ec17069986e7b182f59072d-C004-S004"
         },
         {
          "nugget_ids": [
           "CQ011-N00",
           "CQ011-N01"
          ],
          "sentence_id": "2df2dc3d8b76620f4ec17069986e7b182f59072d-C004-S010"
         },
         {
          "nugget_ids": [
           "CQ011-N00",
           "CQ011-N01"
          ],
          "sentence_id": "2df2dc3d8b76620f4ec17069986e7b182f59072d-C004-S011"
         },
         {
          "nugget_ids": [
           "CQ011-N01"
          ],
          "sentence_id": "2df2dc3d8b76620f4ec17069986e7b182f59072d-C004-S000"
         },
         {
          "nugget_ids": [
           "CQ011-N01"
          ],
          "sentence_id": "2df2dc3d8b76620f4ec17069986e7b182f59072d-C004-S003"
         },
         {
          "nugget_ids": [
           "CQ011-N01"
          ],
          "sentence_id": "2df2dc3d8b76620f4ec17069986e7b182f59072d-C004-S008"
         },
         {
          "nugget_ids": [
           "CQ011-N29"
          ],
          "sentence_id": "2df2dc3d8b76620f4ec17069986e7b182f59072d-C004-S005"
         },
         {
          "nugget_ids": [
           "CQ011-N29"
          ],
          "sentence_id": "2df2dc3d8b76620f4ec17069986e7b182f59072d-C004-S006"
         },
         {
          "nugget_ids": [
           "CQ011-N29"
          ],
          "sentence_id": "2df2dc3d8b76620f4ec17069986e7b182f59072d-C004-S007"
         },
         {
          "nugget_ids": [
           "CQ011-N01"
          ],
          "sentence_id": "30752b8b8d890c3aaddac530af47ad8da42fff65-C002-S000"
         },
         {
          "nugget_ids": [
           "CQ011-N01"
          ],
          "sentence_id": "30752b8b8d890c3aaddac530af47ad8da42fff65-C002-S001"
         },
         {
          "nugget_ids": [
           "CQ011-N01"
          ],
          "sentence_id": "30752b8b8d890c3aaddac530af47ad8da42fff65-C002-S002"
         },
         {
          "nugget_ids": [
           "CQ011-N01"
          ],
          "sentence_id": "30752b8b8d890c3aaddac530af47ad8da42fff65-C002-S003"
         },
         {
          "nugget_ids": [
           "CQ011-N42",
           "CQ011-N76",
           "CQ011-N11"
          ],
          "sentence_id": "3c1fcdf12bf53c47f76b573dd52d440fe1a7a8aa-C013-S000"
         },
         {
          "nugget_ids": [
           "CQ011-N07",
           "CQ011-N74",
           "CQ011-N75",
           "CQ011-N59"
          ],
          "sentence_id": "3c1fcdf12bf53c47f76b573dd52d440fe1a7a8aa-C013-S001"
         },
         {
          "nugget_ids": [
           "CQ011-N08",
           "CQ011-N76",
           "CQ011-N58",
           "CQ011-N11"
          ],
          "sentence_id": "3c1fcdf12bf53c47f76b573dd52d440fe1a7a8aa-C013-S002"
         },
         {
          "nugget_ids": [
           "CQ011-N10",
           "CQ011-N01"
          ],
          "sentence_id": "3c1fcdf12bf53c47f76b573dd52d440fe1a7a8aa-C013-S003"
         },
         {
          "nugget_ids": [
           "CQ011-N41"
          ],
          "sentence_id": "3c1fcdf12bf53c47f76b573dd52d440fe1a7a8aa-C014-S000"
         },
         {
          "nugget_ids": [
           "CQ011-N41",
           "CQ011-N19",
           "CQ011-N33",
           "CQ011-N25",
           "CQ011-N35",
           "CQ011-N34",
           "CQ011-N27",
           "CQ011-N36",
           "CQ011-N37",
           "CQ011-N38",
           "CQ011-N39"
          ],
          "sentence_id": "3c1fcdf12bf53c47f76b573dd52d440fe1a7a8aa-C014-S007"
         },
         {
          "nugget_ids": [
           "CQ011-N41",
           "CQ011-N27"
          ],
          "sentence_id": "3c1fcdf12bf53c47f76b573dd52d440fe1a7a8aa-C014-S010"
         },
         {
          "nugget_ids": [
           "CQ011-N40"
          ],
          "sentence_id": "3c1fcdf12bf53c47f76b573dd52d440fe1a7a8aa-C014-S008"
         },
         {
          "nugget_ids": [
           "CQ011-N27"
          ],
          "sentence_id": "3c1fcdf12bf53c47f76b573dd52d440fe1a7a8aa-C014-S013"
         },
         {
          "nugget_ids": [
           "CQ011-N27"
          ],
          "sentence_id": "3c1fcdf12bf53c47f76b573dd52d440fe1a7a8aa-C014-S014"
         },
         {
          "nugget_ids": [
           "CQ011-N01"
          ],
          "sentence_id": "5cd6ec5dfba7d5fc7356a7a744d09589b5936b1f-C001-S001"
         },
         {
          "nugget_ids": [
           "CQ011-N01",
           "CQ011-N28",
           "CQ011-N31"
          ],
          "sentence_id": "5cd6ec5dfba7d5fc7356a7a744d09589b5936b1f-C001-S002"
         },
         {
          "nugget_ids": [
           "CQ011-N74",
           "CQ011-N75"
          ],
          "sentence_id": "8015b38b93603b86eb577c42ab9007ea711d2689-C000-S001"
         },
         {
          "nugget_ids": [
           "CQ011-N45",
           "CQ011-N01"
          ],
          "sentence_id": "8015b38b93603b86eb577c42ab9007ea711d2689-C000-S002"
         },
         {
          "nugget_ids": [
           "CQ011-N45"
          ],
          "sentence_id": "8015b38b93603b86eb577c42ab9007ea711d2689-C000-S005"
         },
         {
          "nugget_ids": [
           "CQ011-N45",
           "CQ011-N44"
          ],
          "sentence_id": "8015b38b93603b86eb577c42ab9007ea711d2689-C000-S006"
         },
         {
          "nugget_ids": [
           "CQ011-N45"
          ],
          "sentence_id": "8015b38b93603b86eb577c42ab9007ea711d2689-C000-S007"
         },
         {
          "nugget_ids": [
           "CQ011-N01",
           "CQ011-N48"
          ],
          "sentence_id": "8015b38b93603b86eb577c42ab9007ea711d2689-C000-S009"
         },
         {
          "nugget_ids": [
           "CQ011-N01",
           "CQ011-N48"
          ],
          "sentence_id": "8015b38b93603b86eb577c42ab9007ea711d2689-C000-S010"
         },
         {
          "nugget_ids": [
           "CQ011-N01"
          ],
          "sentence_id": "8015b38b93603b86eb577c42ab9007ea711d2689-C000-S011"
         },
         {
          "nugget_ids": [
           "CQ011-N63"
          ],
          "sentence_id": "8848de798ca0230e110ecb0f98f6c3aacbe718c1-C000-S005"
         },
         {
          "nugget_ids": [
           "CQ011-N18",
           "CQ011-N63",
           "CQ011-N75",
           "CQ011-N61",
           "CQ011-N62",
           "CQ011-N31",
           "CQ011-N76",
           "CQ011-N44"
          ],
          "sentence_id": "8848de798ca0230e110ecb0f98f6c3aacbe718c1-C000-S003"
         },
         {
          "nugget_ids": [
           "CQ011-N01"
          ],
          "sentence_id": "8848de798ca0230e110ecb0f98f6c3aacbe718c1-C000-S001"
         },
         {
          "nugget_ids": [
           "CQ011-N64"
          ],
          "sentence_id": "8848de798ca0230e110ecb0f98f6c3aacbe718c1-C000-S007"
         },
         {
          "nugget_ids": [
           "CQ011-N01"
          ],
          "sentence_id": "8848de798ca0230e110ecb0f98f6c3aacbe718c1-C000-S000"
         },
         {
          "nugget_ids": [
           "CQ011-N60",
           "CQ011-N76",
           "CQ011-N45",
           "CQ011-N44"
          ],
          "sentence_id": "8848de798ca0230e110ecb0f98f6c3aacbe718c1-C002-S002"
         },
         {
          "nugget_ids": [
           "CQ011-N60",
           "CQ011-N76",
           "CQ011-N45",
           "CQ011-N44"
          ],
          "sentence_id": "8848de798ca0230e110ecb0f98f6c3aacbe718c1-C002-S003"
         },
         {
          "nugget_ids": [
           "CQ011-N60",
           "CQ011-N76",
           "CQ011-N45",
           "CQ011-N44"
          ],
          "sentence_id": "8848de798ca0230e110ecb0f98f6c3aacbe718c1-C002-S006"
         },
         {
          "nugget_ids": [
           "CQ011-N45",
           "CQ011-N44"
          ],
          "sentence_id": "8848de798ca0230e110ecb0f98f6c3aacbe718c1-C002-S004"
         },
         {
          "nugget_ids": [
           "CQ011-N09"
          ],
          "sentence_id": "8848de798ca0230e110ecb0f98f6c3aacbe718c1-C002-S005"
         },
         {
          "nugget_ids": [
           "CQ011-N13"
          ],
          "sentence_id": "95f514cc105df05eede5c86cf2fb5d8f15ad73d8-C012-S000"
         },
         {
          "nugget_ids": [
           "CQ011-N01",
           "CQ011-N66"
          ],
          "sentence_id": "c430de98e37fa28484230450ad8b4d731ff737ed-C000-S000"
         },
         {
          "nugget_ids": [
           "CQ011-N01",
           "CQ011-N69"
          ],
          "sentence_id": "c430de98e37fa28484230450ad8b4d731ff737ed-C000-S001"
         },
         {
          "nugget_ids": [
           "CQ011-N01",
           "CQ011-N66"
          ],
          "sentence_id": "c430de98e37fa28484230450ad8b4d731ff737ed-C000-S002"
         },
         {
          "nugget_ids": [
           "CQ011-N01",
           "CQ011-N66",
           "CQ011-N65"
          ],
          "sentence_id": "c430de98e37fa28484230450ad8b4d731ff737ed-C000-S003"
         },
         {
          "nugget_ids": [
           "CQ011-N00"
          ],
          "sentence_id": "c99323e6e0cfe0ccc1df7befafc6f92f1a37c53b-C000-S000"
         },
         {
          "nugget_ids": [
           "CQ011-N01"
          ],
          "sentence_id": "c99323e6e0cfe0ccc1df7befafc6f92f1a37c53b-C000-S001"
         },
         {
          "nugget_ids": [
           "CQ011-N76"
          ],
          "sentence_id": "cc277672af5c1df3317d3b02251ef38de0e803b6-C010-S000"
         },
         {
          "nugget_ids": [
           "CQ011-N01"
          ],
          "sentence_id": "d41908a7cbbe0074732c9f70548cc3bd87e5e0ad-C003-S000"
         },
         {
          "nugget_ids": [
           "CQ011-N01",
           "CQ011-N54",
           "CQ011-N58"
          ],
          "sentence_id": "d41908a7cbbe0074732c9f70548cc3bd87e5e0ad-C003-S001"
         },
         {
          "nugget_ids": [
           "CQ011-N01"
          ],
          "sentence_id": "d41908a7cbbe0074732c9f70548cc3bd87e5e0ad-C003-S002"
         },
         {
          "nugget_ids": [
           "CQ011-N01"
          ],
          "sentence_id": "d41908a7cbbe0074732c9f70548cc3bd87e5e0ad-C003-S003"
         },
         {
          "nugget_ids": [
           "CQ011-N01"
          ],
          "sentence_id": "d41908a7cbbe0074732c9f70548cc3bd87e5e0ad-C003-S004"
         },
         {
          "nugget_ids": [
           "CQ011-N01"
          ],
          "sentence_id": "d41908a7cbbe0074732c9f70548cc3bd87e5e0ad-C003-S005"
         },
         {
          "nugget_ids": [
           "CQ011-N01"
          ],
          "sentence_id": "d41908a7cbbe0074732c9f70548cc3bd87e5e0ad-C003-S006"
         },
         {
          "nugget_ids": [
           "CQ011-N01"
          ],
          "sentence_id": "d41908a7cbbe0074732c9f70548cc3bd87e5e0ad-C003-S007"
         },
         {
          "nugget_ids": [
           "CQ011-N01"
          ],
          "sentence_id": "d41908a7cbbe0074732c9f70548cc3bd87e5e0ad-C003-S008"
         },
         {
          "nugget_ids": [
           "CQ011-N01"
          ],
          "sentence_id": "d41908a7cbbe0074732c9f70548cc3bd87e5e0ad-C003-S009"
         },
         {
          "nugget_ids": [
           "CQ011-N01"
          ],
          "sentence_id": "d41908a7cbbe0074732c9f70548cc3bd87e5e0ad-C003-S011"
         },
         {
          "nugget_ids": [
           "CQ011-N01"
          ],
          "sentence_id": "d41908a7cbbe0074732c9f70548cc3bd87e5e0ad-C003-S012"
         },
         {
          "nugget_ids": [
           "CQ011-N01"
          ],
          "sentence_id": "d41908a7cbbe0074732c9f70548cc3bd87e5e0ad-C003-S014"
         },
         {
          "nugget_ids": [
           "CQ011-N01",
           "CQ011-N28"
          ],
          "sentence_id": "d4cd18b4d08caf4016507e77526a0408819b6e93-C003-S001"
         },
         {
          "nugget_ids": [
           "CQ011-N01",
           "CQ011-N28"
          ],
          "sentence_id": "d4cd18b4d08caf4016507e77526a0408819b6e93-C003-S002"
         },
         {
          "nugget_ids": [
           "CQ011-N01",
           "CQ011-N28"
          ],
          "sentence_id": "d4cd18b4d08caf4016507e77526a0408819b6e93-C003-S000"
         },
         {
          "nugget_ids": [
           "CQ011-N01",
           "CQ011-N28"
          ],
          "sentence_id": "d4cd18b4d08caf4016507e77526a0408819b6e93-C003-S003"
         },
         {
          "nugget_ids": [
           "CQ011-N01",
           "CQ011-N28"
          ],
          "sentence_id": "d4cd18b4d08caf4016507e77526a0408819b6e93-C003-S004"
         },
         {
          "nugget_ids": [
           "CQ011-N01"
          ],
          "sentence_id": "d711fd9582c50174ac7b2dd47388ef015ad459ac-C002-S000"
         },
         {
          "nugget_ids": [
           "CQ011-N01"
          ],
          "sentence_id": "d711fd9582c50174ac7b2dd47388ef015ad459ac-C002-S001"
         },
         {
          "nugget_ids": [
           "CQ011-N01",
           "CQ011-N57"
          ],
          "sentence_id": "d711fd9582c50174ac7b2dd47388ef015ad459ac-C002-S002"
         },
         {
          "nugget_ids": [
           "CQ011-N01",
           "CQ011-N00"
          ],
          "sentence_id": "d711fd9582c50174ac7b2dd47388ef015ad459ac-C002-S003"
         },
         {
          "nugget_ids": [
           "CQ011-N01"
          ],
          "sentence_id": "d711fd9582c50174ac7b2dd47388ef015ad459ac-C002-S007"
         },
         {
          "nugget_ids": [
           "CQ011-N01",
           "CQ011-N13"
          ],
          "sentence_id": "d711fd9582c50174ac7b2dd47388ef015ad459ac-C002-S008"
         },
         {
          "nugget_ids": [
           "CQ011-N01"
          ],
          "sentence_id": "d711fd9582c50174ac7b2dd47388ef015ad459ac-C002-S010"
         },
         {
          "nugget_ids": [
           "CQ011-N01",
           "CQ011-N76"
          ],
          "sentence_id": "d711fd9582c50174ac7b2dd47388ef015ad459ac-C002-S011"
         },
         {
          "nugget_ids": [
           "CQ011-N01",
           "CQ011-N76"
          ],
          "sentence_id": "d711fd9582c50174ac7b2dd47388ef015ad459ac-C002-S012"
         },
         {
          "nugget_ids": [
           "CQ011-N54",
           "CQ011-N58"
          ],
          "sentence_id": "dbc468dcae4116713e8332babf25cdc14fb743b5-C000-S006"
         },
         {
          "nugget_ids": [
           "CQ011-N54",
           "CQ011-N71",
           "CQ011-N01"
          ],
          "sentence_id": "dbc468dcae4116713e8332babf25cdc14fb743b5-C000-S014"
         },
         {
          "nugget_ids": [
           "CQ011-N54",
           "CQ011-N71",
           "CQ011-N01"
          ],
          "sentence_id": "dbc468dcae4116713e8332babf25cdc14fb743b5-C000-S010"
         },
         {
          "nugget_ids": [
           "CQ011-N31",
           "CQ011-N76"
          ],
          "sentence_id": "dbc468dcae4116713e8332babf25cdc14fb743b5-C000-S000"
         },
         {
          "nugget_ids": [
           "CQ011-N01"
          ],
          "sentence_id": "dbc468dcae4116713e8332babf25cdc14fb743b5-C000-S002"
         },
         {
          "nugget_ids": [
           "CQ011-N01",
           "CQ011-N66"
          ],
          "sentence_id": "dbc468dcae4116713e8332babf25cdc14fb743b5-C000-S008"
         },
         {
          "nugget_ids": [
           "CQ011-N00",
           "CQ011-N01"
          ],
          "sentence_id": "f3da0670aab53b2c0c479241acbdd5dfad116c00-C003-S000"
         },
         {
          "nugget_ids": [
           "CQ011-N01",
           "CQ011-N28"
          ],
          "sentence_id": "f7fe4943851a0f64656355f8e63174831c573cc6-C004-S001"
         },
         {
          "nugget_ids": [
           "CQ011-N01",
           "CQ011-N28"
          ],
          "sentence_id": "f7fe4943851a0f64656355f8e63174831c573cc6-C004-S003"
         },
         {
          "nugget_ids": [
           "CQ011-N01",
           "CQ011-N28"
          ],
          "sentence_id": "f7fe4943851a0f64656355f8e63174831c573cc6-C004-S005"
         },
         {
          "nugget_ids": [
           "CQ011-N01",
           "CQ011-N28"
          ],
          "sentence_id": "f7fe4943851a0f64656355f8e63174831c573cc6-C004-S006"
         },
         {
          "nugget_ids": [
           "CQ011-N01",
           "CQ011-N28"
          ],
          "sentence_id": "f7fe4943851a0f64656355f8e63174831c573cc6-C004-S007"
         },
         {
          "nugget_ids": [
           "CQ011-N01",
           "CQ011-N28"
          ],
          "sentence_id": "f7fe4943851a0f64656355f8e63174831c573cc6-C004-S008"
         },
         {
          "nugget_ids": [
           "CQ011-N01",
           "CQ011-N28"
          ],
          "sentence_id": "f7fe4943851a0f64656355f8e63174831c573cc6-C004-S009"
         },
         {
          "nugget_ids": [
           "CQ011-N01",
           "CQ011-N28"
          ],
          "sentence_id": "f7fe4943851a0f64656355f8e63174831c573cc6-C004-S010"
         },
         {
          "nugget_ids": [
           "CQ011-N01",
           "CQ011-N28"
          ],
          "sentence_id": "f7fe4943851a0f64656355f8e63174831c573cc6-C004-S012"
         },
         {
          "nugget_ids": [
           "CQ011-N01",
           "CQ011-N28"
          ],
          "sentence_id": "f7fe4943851a0f64656355f8e63174831c573cc6-C004-S013"
         },
         {
          "nugget_ids": [
           "CQ011-N01",
           "CQ011-N28"
          ],
          "sentence_id": "f7fe4943851a0f64656355f8e63174831c573cc6-C004-S014"
         },
         {
          "nugget_ids": [
           "CQ011-N01"
          ],
          "sentence_id": "f7fe4943851a0f64656355f8e63174831c573cc6-C010-S000"
         },
         {
          "nugget_ids": [
           "CQ011-N01",
           "CQ011-N48",
           "CQ011-N49",
           "CQ011-N50"
          ],
          "sentence_id": "f7fe4943851a0f64656355f8e63174831c573cc6-C010-S002"
         },
         {
          "nugget_ids": [
           "CQ011-N01"
          ],
          "sentence_id": "f7fe4943851a0f64656355f8e63174831c573cc6-C010-S003"
         },
         {
          "nugget_ids": [
           "CQ011-N01"
          ],
          "sentence_id": "f7fe4943851a0f64656355f8e63174831c573cc6-C010-S004"
         },
         {
          "nugget_ids": [
           "CQ011-N01"
          ],
          "sentence_id": "f7fe4943851a0f64656355f8e63174831c573cc6-C010-S005"
         },
         {
          "nugget_ids": [
           "CQ011-N01"
          ],
          "sentence_id": "f7fe4943851a0f64656355f8e63174831c573cc6-C010-S006"
         },
         {
          "nugget_ids": [
           "CQ011-N01"
          ],
          "sentence_id": "f7fe4943851a0f64656355f8e63174831c573cc6-C010-S007"
         },
         {
          "nugget_ids": [
           "CQ011-N01"
          ],
          "sentence_id": "f7fe4943851a0f64656355f8e63174831c573cc6-C010-S008"
         },
         {
          "nugget_ids": [
           "CQ011-N01"
          ],
          "sentence_id": "f7fe4943851a0f64656355f8e63174831c573cc6-C010-S009"
         },
         {
          "nugget_ids": [
           "CQ011-N01"
          ],
          "sentence_id": "f7fe4943851a0f64656355f8e63174831c573cc6-C010-S011"
         },
         {
          "nugget_ids": [
           "CQ011-N47"
          ],
          "sentence_id": "f7fe4943851a0f64656355f8e63174831c573cc6-C010-S001"
         },
         {
          "nugget_ids": [
           "CQ011-N47"
          ],
          "sentence_id": "f7fe4943851a0f64656355f8e63174831c573cc6-C010-S012"
         },
         {
          "nugget_ids": [
           "CQ011-N48",
           "CQ011-N49",
           "CQ011-N50",
           "CQ011-N51",
           "CQ011-N52",
           "CQ011-N53"
          ],
          "sentence_id": "f7fe4943851a0f64656355f8e63174831c573cc6-C010-S010"
         },
         {
          "nugget_ids": [
           "CQ011-N01"
          ],
          "sentence_id": "f7fe4943851a0f64656355f8e63174831c573cc6-C008-S000"
         },
         {
          "nugget_ids": [
           "CQ011-N01"
          ],
          "sentence_id": "f7fe4943851a0f64656355f8e63174831c573cc6-C008-S002"
         }
        ],
        "nuggets": [
         {
          "nugget": "safe home isolation environment (risk of transmission at home, home-based care)",
          "nugget_id": "CQ011-N76"
         },
         {
          "nugget": "outpatient",
          "nugget_id": "CQ011-N75"
         },
         {
          "nugget": "inpatient",
          "nugget_id": "CQ011-N74"
         },
         {
          "nugget": "hospital admission",
          "nugget_id": "CQ011-N73"
         },
         {
          "nugget": "initial health care encounter",
          "nugget_id": "CQ011-N72"
         },
         {
          "nugget": "nursing homes",
          "nugget_id": "CQ011-N71"
         },
         {
          "nugget": "long-term care facilities",
          "nugget_id": "CQ011-N70"
         },
         {
          "nugget": "patient rooms",
          "nugget_id": "CQ011-N69"
         },
         {
          "nugget": "emergency medical shelters",
          "nugget_id": "CQ011-N68"
         },
         {
          "nugget": "triage stations",
          "nugget_id": "CQ011-N67"
         },
         {
          "nugget": "inpatient obstetric care settings",
          "nugget_id": "CQ011-N66"
         },
         {
          "nugget": "person-to-person transmission",
          "nugget_id": "CQ011-N65"
         },
         {
          "nugget": "local or state health department",
          "nugget_id": "CQ011-N64"
         },
         {
          "nugget": "right level of care",
          "nugget_id": "CQ011-N63"
         },
         {
          "nugget": "emergency room",
          "nugget_id": "CQ011-N62"
         },
         {
          "nugget": "urgent care",
          "nugget_id": "CQ011-N61"
         },
         {
          "nugget": "telehealth",
          "nugget_id": "CQ011-N60"
         },
         {
          "nugget": "treatment location",
          "nugget_id": "CQ011-N59"
         },
         {
          "nugget": "underlying medical conditions",
          "nugget_id": "CQ011-N58"
         },
         {
          "nugget": "immunocomprimised",
          "nugget_id": "CQ011-N57"
         },
         {
          "nugget": "immunity",
          "nugget_id": "CQ011-N56"
         },
         {
          "nugget": "pregnancy",
          "nugget_id": "CQ011-N55"
         },
         {
          "nugget": "older age",
          "nugget_id": "CQ011-N54"
         },
         {
          "nugget": "diarrhea",
          "nugget_id": "CQ011-N53"
         },
         {
          "nugget": "nausea",
          "nugget_id": "CQ011-N52"
         },
         {
          "nugget": "fatigue",
          "nugget_id": "CQ011-N51"
         },
         {
          "nugget": "shortness of breath",
          "nugget_id": "CQ011-N50"
         },
         {
          "nugget": "sore throat",
          "nugget_id": "CQ011-N49"
         },
         {
          "nugget": "cough",
          "nugget_id": "CQ011-N48"
         },
         {
          "nugget": "temperature higher than 100 F",
          "nugget_id": "CQ011-N47"
         },
         {
          "nugget": "active tuberculosis",
          "nugget_id": "CQ011-N46"
         },
         {
          "nugget": "COVID-19 specific clinical triage system (prioritization or framework)",
          "nugget_id": "CQ011-N45"
         },
         {
          "nugget": "routine clinical triage",
          "nugget_id": "CQ011-N44"
         },
         {
          "nugget": "absence of hypoxia",
          "nugget_id": "CQ011-N43"
         },
         {
          "nugget": "Absence of viral pneumonia",
          "nugget_id": "CQ011-N42"
         },
         {
          "nugget": "critically ill",
          "nugget_id": "CQ011-N41"
         },
         {
          "nugget": "polyneuropathy/myopathy",
          "nugget_id": "CQ011-N40"
         },
         {
          "nugget": "gastrointestinal bleeding",
          "nugget_id": "CQ011-N39"
         },
         {
          "nugget": "thromboembolism",
          "nugget_id": "CQ011-N38"
         },
         {
          "nugget": "secondary bacterial infections",
          "nugget_id": "CQ011-N37"
         },
         {
          "nugget": "prolonged hospitalization complications",
          "nugget_id": "CQ011-N36"
         },
         {
          "nugget": "acute kidney injury",
          "nugget_id": "CQ011-N35"
         },
         {
          "nugget": "cardiomyopathy and arrhythmia",
          "nugget_id": "CQ011-N34"
         },
         {
          "nugget": "pneumonia",
          "nugget_id": "CQ011-N33"
         },
         {
          "nugget": "Corticosterioisds",
          "nugget_id": "CQ011-N32"
         },
         {
          "nugget": "hospitalization",
          "nugget_id": "CQ011-N31"
         },
         {
          "nugget": "severe disease",
          "nugget_id": "CQ011-N30"
         },
         {
          "nugget": "chest CT scans",
          "nugget_id": "CQ011-N29"
         },
         {
          "nugget": "isolation precautions",
          "nugget_id": "CQ011-N28"
         },
         {
          "nugget": "sepsis shock",
          "nugget_id": "CQ011-N27"
         },
         {
          "nugget": "chronic obstructive pulmonary disease (COPD)",
          "nugget_id": "CQ011-N26"
         },
         {
          "nugget": "Acute Respiratory Distress Syndrome (ARDS)",
          "nugget_id": "CQ011-N25"
         },
         {
          "nugget": "viral pneumonia",
          "nugget_id": "CQ011-N24"
         },
         {
          "nugget": "multi-organ failure",
          "nugget_id": "CQ011-N23"
         },
         {
          "nugget": "respiratory failure",
          "nugget_id": "CQ011-N22"
         },
         {
          "nugget": "advanced organ support",
          "nugget_id": "CQ011-N21"
         },
         {
          "nugget": "supplemental oxygen",
          "nugget_id": "CQ011-N20"
         },
         {
          "nugget": "complications",
          "nugget_id": "CQ011-N19"
         },
         {
          "nugget": "clinical management",
          "nugget_id": "CQ011-N18"
         },
         {
          "nugget": "chronic conditions",
          "nugget_id": "CQ011-N17"
         },
         {
          "nugget": "individualized management",
          "nugget_id": "CQ011-N16"
         },
         {
          "nugget": "Angiotensin Receptor Blockers (ARBs)",
          "nugget_id": "CQ011-N15"
         },
         {
          "nugget": "Angiotensin Converting Enzyme Inhibitors (ACE-I)",
          "nugget_id": "CQ011-N14"
         },
         {
          "nugget": "latest scientific evidence",
          "nugget_id": "CQ011-N13"
         },
         {
          "nugget": "cardiovascular disease",
          "nugget_id": "CQ011-N12"
         },
         {
          "nugget": "self-monitoring",
          "nugget_id": "CQ011-N11"
         },
         {
          "nugget": "progressively worse clinical presentation",
          "nugget_id": "CQ011-N10"
         },
         {
          "nugget": "mild clinical presentation",
          "nugget_id": "CQ011-N09"
         },
         {
          "nugget": "clinical presentation",
          "nugget_id": "CQ011-N08"
         },
         {
          "nugget": "case-by-case basis",
          "nugget_id": "CQ011-N07"
         },
         {
          "nugget": "antibiotics",
          "nugget_id": "CQ011-N06"
         },
         {
          "nugget": "illness severity",
          "nugget_id": "CQ011-N05"
         },
         {
          "nugget": "bacterial infection",
          "nugget_id": "CQ011-N04"
         },
         {
          "nugget": "concurrent community acquired pneumonia",
          "nugget_id": "CQ011-N03"
         },
         {
          "nugget": "first point of contact",
          "nugget_id": "CQ011-N02"
         },
         {
          "nugget": "infection control",
          "nugget_id": "CQ011-N01"
         },
         {
          "nugget": "early detection and prevention",
          "nugget_id": "CQ011-N00"
         }
        ],
        "question_id": "CQ011"
       },
       {
        "annotations": [
         {
          "nugget_ids": [
           "EQ013-N00",
           "EQ013-N01"
          ],
          "sentence_id": "046s47v6-C004-S000"
         },
         {
          "nugget_ids": [
           "EQ013-N05"
          ],
          "sentence_id": "046s47v6-C004-S001"
         },
         {
          "nugget_ids": [
           "EQ013-N01",
           "EQ013-N02",
           "EQ013-N00"
          ],
          "sentence_id": "046s47v6-C004-S003"
         },
         {
          "nugget_ids": [
           "EQ013-N11",
           "EQ013-N03"
          ],
          "sentence_id": "046s47v6-C004-S008"
         },
         {
          "nugget_ids": [
           "EQ013-N08",
           "EQ013-N09"
          ],
          "sentence_id": "046s47v6-C004-S009"
         },
         {
          "nugget_ids": [
           "EQ013-N03",
           "EQ013-N11"
          ],
          "sentence_id": "046s47v6-C004-S010"
         },
         {
          "nugget_ids": [
           "EQ013-N06"
          ],
          "sentence_id": "0a5fccio-C000-S002"
         },
         {
          "nugget_ids": [
           "EQ013-N07",
           "EQ013-N11",
           "EQ013-N12",
           "EQ013-N01"
          ],
          "sentence_id": "0a5fccio-C000-S003"
         },
         {
          "nugget_ids": [
           "EQ013-N08"
          ],
          "sentence_id": "0bz4micv-C001-S003"
         },
         {
          "nugget_ids": [
           "EQ013-N08"
          ],
          "sentence_id": "0bz4micv-C001-S004"
         },
         {
          "nugget_ids": [
           "EQ013-N08",
           "EQ013-N17"
          ],
          "sentence_id": "0bz4micv-C001-S005"
         },
         {
          "nugget_ids": [
           "EQ013-N08"
          ],
          "sentence_id": "0bz4micv-C001-S008"
         },
         {
          "nugget_ids": [
           "EQ013-N08"
          ],
          "sentence_id": "0bz4micv-C001-S009"
         },
         {
          "nugget_ids": [
           "EQ013-N08"
          ],
          "sentence_id": "0bz4micv-C001-S010"
         },
         {
          "nugget_ids": [
           "EQ013-N08",
           "EQ013-N17"
          ],
          "sentence_id": "0bz4micv-C001-S011"
         },
         {
          "nugget_ids": [
           "EQ013-N08"
          ],
          "sentence_id": "0bz4micv-C001-S012"
         },
         {
          "nugget_ids": [
           "EQ013-N07"
          ],
          "sentence_id": "0bz4micv-C001-S013"
         },
         {
          "nugget_ids": [
           "EQ013-N10"
          ],
          "sentence_id": "1e28zj1d-C004-S000"
         },
         {
          "nugget_ids": [
           "EQ013-N13"
          ],
          "sentence_id": "1e28zj1d-C004-S001"
         },
         {
          "nugget_ids": [
           "EQ013-N35"
          ],
          "sentence_id": "2ftw85xw-C004-S002"
         },
         {
          "nugget_ids": [
           "EQ013-N00",
           "EQ013-N07",
           "EQ013-N02"
          ],
          "sentence_id": "2ftw85xw-C004-S003"
         },
         {
          "nugget_ids": [
           "EQ013-N08",
           "EQ013-N17"
          ],
          "sentence_id": "2ftw85xw-C004-S004"
         },
         {
          "nugget_ids": [
           "EQ013-N00",
           "EQ013-N11",
           "EQ013-N05"
          ],
          "sentence_id": "2yblpbwm-C000-S001"
         },
         {
          "nugget_ids": [
           "EQ013-N00",
           "EQ013-N01",
           "EQ013-N11",
           "EQ013-N06",
           "EQ013-N08",
           "EQ013-N17",
           "EQ013-N18",
           "EQ013-N16",
           "EQ013-N05"
          ],
          "sentence_id": "2yblpbwm-C000-S002"
         },
         {
          "nugget_ids": [
           "EQ013-N00",
           "EQ013-N35"
          ],
          "sentence_id": "3rulpeex-C003-S004"
         },
         {
          "nugget_ids": [
           "EQ013-N01",
           "EQ013-N02",
           "EQ013-N00",
           "EQ013-N06",
           "EQ013-N18",
           "EQ013-N12"
          ],
          "sentence_id": "3yxrqa22-C010-S000"
         },
         {
          "nugget_ids": [
           "EQ013-N04",
           "EQ013-N08",
           "EQ013-N14",
           "EQ013-N10"
          ],
          "sentence_id": "41ohcoil-C039-S002"
         },
         {
          "nugget_ids": [
           "EQ013-N13",
           "EQ013-N14"
          ],
          "sentence_id": "41ohcoil-C039-S001"
         },
         {
          "nugget_ids": [
           "EQ013-N13"
          ],
          "sentence_id": "41ohcoil-C039-S004"
         },
         {
          "nugget_ids": [
           "EQ013-N27"
          ],
          "sentence_id": "41ohcoil-C039-S006"
         },
         {
          "nugget_ids": [
           "EQ013-N10"
          ],
          "sentence_id": "41ohcoil-C039-S007"
         },
         {
          "nugget_ids": [
           "EQ013-N35",
           "EQ013-N07",
           "EQ013-N12",
           "EQ013-N01",
           "EQ013-N02",
           "EQ013-N00"
          ],
          "sentence_id": "41ohcoil-C039-S008"
         },
         {
          "nugget_ids": [
           "EQ013-N15"
          ],
          "sentence_id": "41ohcoil-C039-S009"
         },
         {
          "nugget_ids": [
           "EQ013-N16"
          ],
          "sentence_id": "4p6fcy8f-C000-S001"
         },
         {
          "nugget_ids": [
           "EQ013-N16"
          ],
          "sentence_id": "4p6fcy8f-C000-S002"
         },
         {
          "nugget_ids": [
           "EQ013-N16"
          ],
          "sentence_id": "4p6fcy8f-C000-S003"
         },
         {
          "nugget_ids": [
           "EQ013-N16"
          ],
          "sentence_id": "4p6fcy8f-C000-S004"
         },
         {
          "nugget_ids": [
           "EQ013-N00",
           "EQ013-N04",
           "EQ013-N08",
           "EQ013-N17",
           "EQ013-N16"
          ],
          "sentence_id": "5eejt4s9-C034-S001"
         },
         {
          "nugget_ids": [
           "EQ013-N35",
           "EQ013-N08",
           "EQ013-N03",
           "EQ013-N11",
           "EQ013-N28"
          ],
          "sentence_id": "6jbm869r-C069-S000"
         },
         {
          "nugget_ids": [
           "EQ013-N00",
           "EQ013-N01",
           "EQ013-N18"
          ],
          "sentence_id": "6rqd3fmj-C026-S001"
         },
         {
          "nugget_ids": [
           "EQ013-N02"
          ],
          "sentence_id": "6rqd3fmj-C026-S000"
         },
         {
          "nugget_ids": [
           "EQ013-N18"
          ],
          "sentence_id": "6rqd3fmj-C026-S002"
         },
         {
          "nugget_ids": [
           "EQ013-N18"
          ],
          "sentence_id": "6rqd3fmj-C026-S003"
         },
         {
          "nugget_ids": [
           "EQ013-N18"
          ],
          "sentence_id": "6rqd3fmj-C026-S004"
         },
         {
          "nugget_ids": [
           "EQ013-N06",
           "EQ013-N18"
          ],
          "sentence_id": "6rqd3fmj-C026-S005"
         },
         {
          "nugget_ids": [
           "EQ013-N18"
          ],
          "sentence_id": "6rqd3fmj-C026-S006"
         },
         {
          "nugget_ids": [
           "EQ013-N18"
          ],
          "sentence_id": "6rqd3fmj-C026-S007"
         },
         {
          "nugget_ids": [
           "EQ013-N00",
           "EQ013-N01"
          ],
          "sentence_id": "7bux39qz-C000-S001"
         },
         {
          "nugget_ids": [
           "EQ013-N19"
          ],
          "sentence_id": "7bux39qz-C000-S002"
         },
         {
          "nugget_ids": [
           "EQ013-N02",
           "EQ013-N00",
           "EQ013-N16",
           "EQ013-N29"
          ],
          "sentence_id": "7bux39qz-C000-S003"
         },
         {
          "nugget_ids": [
           "EQ013-N19"
          ],
          "sentence_id": "7bux39qz-C000-S005"
         },
         {
          "nugget_ids": [
           "EQ013-N19"
          ],
          "sentence_id": "7bux39qz-C000-S006"
         },
         {
          "nugget_ids": [
           "EQ013-N27"
          ],
          "sentence_id": "801t0728-C003-S001"
         },
         {
          "nugget_ids": [
           "EQ013-N10",
           "EQ013-N07"
          ],
          "sentence_id": "801t0728-C003-S005"
         },
         {
          "nugget_ids": [
           "EQ013-N15",
           "EQ013-N21"
          ],
          "sentence_id": "8igrpqib-C021-S001"
         },
         {
          "nugget_ids": [
           "EQ013-N15"
          ],
          "sentence_id": "8igrpqib-C021-S002"
         },
         {
          "nugget_ids": [
           "EQ013-N15"
          ],
          "sentence_id": "8igrpqib-C021-S007"
         },
         {
          "nugget_ids": [
           "EQ013-N21"
          ],
          "sentence_id": "8igrpqib-C021-S010"
         },
         {
          "nugget_ids": [
           "EQ013-N22"
          ],
          "sentence_id": "8igrpqib-C021-S011"
         },
         {
          "nugget_ids": [
           "EQ013-N00",
           "EQ013-N06"
          ],
          "sentence_id": "8m7fv1t0-C003-S000"
         },
         {
          "nugget_ids": [
           "EQ013-N19"
          ],
          "sentence_id": "8m7fv1t0-C003-S001"
         },
         {
          "nugget_ids": [
           "EQ013-N16"
          ],
          "sentence_id": "8m7fv1t0-C003-S002"
         },
         {
          "nugget_ids": [
           "EQ013-N16"
          ],
          "sentence_id": "8m7fv1t0-C003-S003"
         },
         {
          "nugget_ids": [
           "EQ013-N16",
           "EQ013-N00"
          ],
          "sentence_id": "8m7fv1t0-C003-S004"
         },
         {
          "nugget_ids": [
           "EQ013-N16"
          ],
          "sentence_id": "8m7fv1t0-C003-S005"
         },
         {
          "nugget_ids": [
           "EQ013-N16"
          ],
          "sentence_id": "8m7fv1t0-C003-S006"
         },
         {
          "nugget_ids": [
           "EQ013-N07",
           "EQ013-N11",
           "EQ013-N03"
          ],
          "sentence_id": "a1ha0hx4-C000-S000"
         },
         {
          "nugget_ids": [
           "EQ013-N16",
           "EQ013-N35"
          ],
          "sentence_id": "a1ha0hx4-C000-S001"
         },
         {
          "nugget_ids": [
           "EQ013-N16"
          ],
          "sentence_id": "a1ha0hx4-C000-S003"
         },
         {
          "nugget_ids": [
           "EQ013-N16"
          ],
          "sentence_id": "a1ha0hx4-C000-S005"
         },
         {
          "nugget_ids": [
           "EQ013-N05"
          ],
          "sentence_id": "awp1nck0-C001-S000"
         },
         {
          "nugget_ids": [
           "EQ013-N25"
          ],
          "sentence_id": "awp1nck0-C001-S001"
         },
         {
          "nugget_ids": [
           "EQ013-N05"
          ],
          "sentence_id": "awp1nck0-C001-S002"
         },
         {
          "nugget_ids": [
           "EQ013-N18"
          ],
          "sentence_id": "awp1nck0-C001-S003"
         },
         {
          "nugget_ids": [
           "EQ013-N18"
          ],
          "sentence_id": "awp1nck0-C001-S004"
         },
         {
          "nugget_ids": [
           "EQ013-N35"
          ],
          "sentence_id": "awp1nck0-C002-S000"
         },
         {
          "nugget_ids": [
           "EQ013-N23",
           "EQ013-N11",
           "EQ013-N24"
          ],
          "sentence_id": "awp1nck0-C000-S002"
         },
         {
          "nugget_ids": [
           "EQ013-N11"
          ],
          "sentence_id": "awp1nck0-C000-S003"
         },
         {
          "nugget_ids": [
           "EQ013-N05"
          ],
          "sentence_id": "awp1nck0-C000-S004"
         },
         {
          "nugget_ids": [
           "EQ013-N10",
           "EQ013-N27",
           "EQ013-N26"
          ],
          "sentence_id": "b5287qd4-C002-S000"
         },
         {
          "nugget_ids": [
           "EQ013-N27",
           "EQ013-N07"
          ],
          "sentence_id": "b5287qd4-C002-S001"
         },
         {
          "nugget_ids": [
           "EQ013-N27"
          ],
          "sentence_id": "b5287qd4-C002-S002"
         },
         {
          "nugget_ids": [
           "EQ013-N00",
           "EQ013-N01",
           "EQ013-N02"
          ],
          "sentence_id": "c17eijdt-C000-S000"
         },
         {
          "nugget_ids": [
           "EQ013-N28"
          ],
          "sentence_id": "c17eijdt-C000-S001"
         },
         {
          "nugget_ids": [
           "EQ013-N28"
          ],
          "sentence_id": "c17eijdt-C000-S002"
         },
         {
          "nugget_ids": [
           "EQ013-N28"
          ],
          "sentence_id": "c17eijdt-C000-S005"
         },
         {
          "nugget_ids": [
           "EQ013-N28"
          ],
          "sentence_id": "c17eijdt-C000-S006"
         },
         {
          "nugget_ids": [
           "EQ013-N28"
          ],
          "sentence_id": "c17eijdt-C000-S007"
         },
         {
          "nugget_ids": [
           "EQ013-N31"
          ],
          "sentence_id": "cigv3t0h-C002-S002"
         },
         {
          "nugget_ids": [
           "EQ013-N07"
          ],
          "sentence_id": "cigv3t0h-C002-S004"
         },
         {
          "nugget_ids": [
           "EQ013-N01",
           "EQ013-N35",
           "EQ013-N07",
           "EQ013-N32"
          ],
          "sentence_id": "d91t5o01-C009-S000"
         },
         {
          "nugget_ids": [
           "EQ013-N29",
           "EQ013-N07"
          ],
          "sentence_id": "e2ayh108-C000-S001"
         },
         {
          "nugget_ids": [
           "EQ013-N00",
           "EQ013-N01"
          ],
          "sentence_id": "ejg6hpuy-C016-S000"
         },
         {
          "nugget_ids": [
           "EQ013-N08",
           "EQ013-N09",
           "EQ013-N17"
          ],
          "sentence_id": "ejg6hpuy-C016-S001"
         },
         {
          "nugget_ids": [
           "EQ013-N35"
          ],
          "sentence_id": "ejg6hpuy-C016-S002"
         },
         {
          "nugget_ids": [
           "EQ013-N16",
           "EQ013-N05"
          ],
          "sentence_id": "ejg6hpuy-C016-S003"
         },
         {
          "nugget_ids": [
           "EQ013-N00",
           "EQ013-N01",
           "EQ013-N07"
          ],
          "sentence_id": "fd41czxh-C006-S000"
         },
         {
          "nugget_ids": [
           "EQ013-N12"
          ],
          "sentence_id": "fd41czxh-C006-S003"
         },
         {
          "nugget_ids": [
           "EQ013-N01",
           "EQ013-N00",
           "EQ013-N16"
          ],
          "sentence_id": "fhaw3b6t-C000-S001"
         },
         {
          "nugget_ids": [
           "EQ013-N31"
          ],
          "sentence_id": "fl5ar971-C020-S000"
         },
         {
          "nugget_ids": [
           "EQ013-N01",
           "EQ013-N03"
          ],
          "sentence_id": "fl5ar971-C020-S001"
         },
         {
          "nugget_ids": [
           "EQ013-N01",
           "EQ013-N03"
          ],
          "sentence_id": "fl5ar971-C020-S002"
         },
         {
          "nugget_ids": [
           "EQ013-N00",
           "EQ013-N01"
          ],
          "sentence_id": "g42gfovg-C019-S000"
         },
         {
          "nugget_ids": [
           "EQ013-N17",
           "EQ013-N16"
          ],
          "sentence_id": "g42gfovg-C019-S001"
         },
         {
          "nugget_ids": [
           "EQ013-N08",
           "EQ013-N09"
          ],
          "sentence_id": "g42gfovg-C023-S000"
         },
         {
          "nugget_ids": [
           "EQ013-N08",
           "EQ013-N09"
          ],
          "sentence_id": "g42gfovg-C023-S001"
         },
         {
          "nugget_ids": [
           "EQ013-N08",
           "EQ013-N09"
          ],
          "sentence_id": "g42gfovg-C023-S002"
         },
         {
          "nugget_ids": [
           "EQ013-N31",
           "EQ013-N32"
          ],
          "sentence_id": "hfkzu18p-C013-S001"
         },
         {
          "nugget_ids": [
           "EQ013-N00",
           "EQ013-N01",
           "EQ013-N02"
          ],
          "sentence_id": "jpy373ph-C010-S001"
         },
         {
          "nugget_ids": [
           "EQ013-N16"
          ],
          "sentence_id": "jpy373ph-C010-S002"
         },
         {
          "nugget_ids": [
           "EQ013-N08",
           "EQ013-N09",
           "EQ013-N16"
          ],
          "sentence_id": "jpy373ph-C010-S003"
         },
         {
          "nugget_ids": [
           "EQ013-N07",
           "EQ013-N31"
          ],
          "sentence_id": "kpov2hy4-C000-S000"
         },
         {
          "nugget_ids": [
           "EQ013-N00",
           "EQ013-N01",
           "EQ013-N02"
          ],
          "sentence_id": "kpov2hy4-C007-S000"
         },
         {
          "nugget_ids": [
           "EQ013-N16"
          ],
          "sentence_id": "kpov2hy4-C007-S001"
         },
         {
          "nugget_ids": [
           "EQ013-N08",
           "EQ013-N17",
           "EQ013-N05",
           "EQ013-N09",
           "EQ013-N33"
          ],
          "sentence_id": "kpov2hy4-C007-S002"
         },
         {
          "nugget_ids": [
           "EQ013-N00",
           "EQ013-N16"
          ],
          "sentence_id": "kpov2hy4-C007-S003"
         },
         {
          "nugget_ids": [
           "EQ013-N00",
           "EQ013-N16"
          ],
          "sentence_id": "kpov2hy4-C007-S004"
         },
         {
          "nugget_ids": [
           "EQ013-N01"
          ],
          "sentence_id": "kpov2hy4-C007-S005"
         },
         {
          "nugget_ids": [
           "EQ013-N01",
           "EQ013-N00"
          ],
          "sentence_id": "o9z6rdim-C000-S001"
         },
         {
          "nugget_ids": [
           "EQ013-N00",
           "EQ013-N29"
          ],
          "sentence_id": "o9z6rdim-C000-S002"
         },
         {
          "nugget_ids": [
           "EQ013-N35"
          ],
          "sentence_id": "odbi4yvz-C033-S003"
         },
         {
          "nugget_ids": [
           "EQ013-N15"
          ],
          "sentence_id": "odbi4yvz-C033-S012"
         },
         {
          "nugget_ids": [
           "EQ013-N07",
           "EQ013-N02",
           "EQ013-N11",
           "EQ013-N03"
          ],
          "sentence_id": "riem28zd-C004-S001"
         },
         {
          "nugget_ids": [
           "EQ013-N05"
          ],
          "sentence_id": "riem28zd-C004-S002"
         },
         {
          "nugget_ids": [
           "EQ013-N25"
          ],
          "sentence_id": "riem28zd-C004-S004"
         },
         {
          "nugget_ids": [
           "EQ013-N02",
           "EQ013-N05",
           "EQ013-N25"
          ],
          "sentence_id": "riem28zd-C004-S005"
         },
         {
          "nugget_ids": [
           "EQ013-N27"
          ],
          "sentence_id": "s4ef9qob-C000-S001"
         },
         {
          "nugget_ids": [
           "EQ013-N27",
           "EQ013-N07"
          ],
          "sentence_id": "s4ef9qob-C000-S003"
         },
         {
          "nugget_ids": [
           "EQ013-N07",
           "EQ013-N27"
          ],
          "sentence_id": "s4ef9qob-C000-S004"
         },
         {
          "nugget_ids": [
           "EQ013-N31"
          ],
          "sentence_id": "s4ef9qob-C000-S005"
         },
         {
          "nugget_ids": [
           "EQ013-N07",
           "EQ013-N10"
          ],
          "sentence_id": "3ateeei3-C005-S000"
         },
         {
          "nugget_ids": [
           "EQ013-N00",
           "EQ013-N02",
           "EQ013-N01",
           "EQ013-N07",
           "EQ013-N03"
          ],
          "sentence_id": "3ateeei3-C005-S001"
         },
         {
          "nugget_ids": [
           "EQ013-N31"
          ],
          "sentence_id": "3ateeei3-C005-S002"
         },
         {
          "nugget_ids": [
           "EQ013-N31"
          ],
          "sentence_id": "3ateeei3-C005-S003"
         },
         {
          "nugget_ids": [
           "EQ013-N31"
          ],
          "sentence_id": "3ateeei3-C005-S004"
         },
         {
          "nugget_ids": [
           "EQ013-N31"
          ],
          "sentence_id": "3ateeei3-C005-S005"
         },
         {
          "nugget_ids": [
           "EQ013-N31"
          ],
          "sentence_id": "3ateeei3-C005-S006"
         },
         {
          "nugget_ids": [
           "EQ013-N27",
           "EQ013-N10"
          ],
          "sentence_id": "xuczplaf-C008-S000"
         },
         {
          "nugget_ids": [
           "EQ013-N10"
          ],
          "sentence_id": "xuczplaf-C008-S002"
         },
         {
          "nugget_ids": [
           "EQ013-N10"
          ],
          "sentence_id": "xuczplaf-C008-S003"
         },
         {
          "nugget_ids": [
           "EQ013-N13",
           "EQ013-N10"
          ],
          "sentence_id": "xuczplaf-C008-S004"
         },
         {
          "nugget_ids": [
           "EQ013-N07"
          ],
          "sentence_id": "xuczplaf-C008-S005"
         },
         {
          "nugget_ids": [
           "EQ013-N07",
           "EQ013-N30"
          ],
          "sentence_id": "xuczplaf-C008-S006"
         },
         {
          "nugget_ids": [
           "EQ013-N07",
           "EQ013-N02",
           "EQ013-N00"
          ],
          "sentence_id": "xuczplaf-C008-S007"
         },
         {
          "nugget_ids": [
           "EQ013-N05"
          ],
          "sentence_id": "xuczplaf-C008-S008"
         },
         {
          "nugget_ids": [
           "EQ013-N05"
          ],
          "sentence_id": "xuczplaf-C008-S009"
         },
         {
          "nugget_ids": [
           "EQ013-N12"
          ],
          "sentence_id": "yxm0f6zn-C004-S000"
         },
         {
          "nugget_ids": [
           "EQ013-N07",
           "EQ013-N34"
          ],
          "sentence_id": "zug0x23h-C004-S001"
         }
        ],
        "nuggets": [
         {
          "nugget": "transmission route",
          "nugget_id": "EQ013-N35"
         },
         {
          "nugget": "transmission by sexual contact",
          "nugget_id": "EQ013-N34"
         },
         {
          "nugget": "bloodborne transmission",
          "nugget_id": "EQ013-N33"
         },
         {
          "nugget": "transmission at superspreader events",
          "nugget_id": "EQ013-N32"
         },
         {
          "nugget": "pre-symptomatic transmission",
          "nugget_id": "EQ013-N31"
         },
         {
          "nugget": "intrafamilial transmission",
          "nugget_id": "EQ013-N30"
         },
         {
          "nugget": "transmission at dental practice",
          "nugget_id": "EQ013-N29"
         },
         {
          "nugget": "transmission by water",
          "nugget_id": "EQ013-N28"
         },
         {
          "nugget": "transmission at wet markets",
          "nugget_id": "EQ013-N27"
         },
         {
          "nugget": "transmission by horsehoe bats",
          "nugget_id": "EQ013-N26"
         },
         {
          "nugget": "transmission by breast milk",
          "nugget_id": "EQ013-N25"
         },
         {
          "nugget": "transmission by mobile phones",
          "nugget_id": "EQ013-N24"
         },
         {
          "nugget": "transmission by door handles",
          "nugget_id": "EQ013-N23"
         },
         {
          "nugget": "transmission by airborne particulate matter (PM)",
          "nugget_id": "EQ013-N22"
         },
         {
          "nugget": "transmission by gaseous air pollution",
          "nugget_id": "EQ013-N21"
         },
         {
          "nugget": "animal-human transmission",
          "nugget_id": "EQ013-N20"
         },
         {
          "nugget": "saliva transmission",
          "nugget_id": "EQ013-N19"
         },
         {
          "nugget": "ocular transmission",
          "nugget_id": "EQ013-N18"
         },
         {
          "nugget": "fecal-oral route",
          "nugget_id": "EQ013-N17"
         },
         {
          "nugget": "airborne transmission",
          "nugget_id": "EQ013-N16"
         },
         {
          "nugget": "transmission by air pollution",
          "nugget_id": "EQ013-N15"
         },
         {
          "nugget": "transmission by rats",
          "nugget_id": "EQ013-N14"
         },
         {
          "nugget": "transmission by bats",
          "nugget_id": "EQ013-N13"
         },
         {
          "nugget": "nosocomial transmission",
          "nugget_id": "EQ013-N12"
         },
         {
          "nugget": "indirect contact transmission",
          "nugget_id": "EQ013-N11"
         },
         {
          "nugget": "cross-species transmission",
          "nugget_id": "EQ013-N10"
         },
         {
          "nugget": "transmission by urine",
          "nugget_id": "EQ013-N09"
         },
         {
          "nugget": "transmission by feces",
          "nugget_id": "EQ013-N08"
         },
         {
          "nugget": "person-to-person transmission",
          "nugget_id": "EQ013-N07"
         },
         {
          "nugget": "transmission by infectious secretions",
          "nugget_id": "EQ013-N06"
         },
         {
          "nugget": "vertical transmission",
          "nugget_id": "EQ013-N05"
         },
         {
          "nugget": "transmission by excrement",
          "nugget_id": "EQ013-N04"
         },
         {
          "nugget": "transmission by fomites",
          "nugget_id": "EQ013-N03"
         },
         {
          "nugget": "close contact",
          "nugget_id": "EQ013-N02"
         },
         {
          "nugget": "transmission by  contact",
          "nugget_id": "EQ013-N01"
         },
         {
          "nugget": "transmission by respiratory droplets",
          "nugget_id": "EQ013-N00"
         }
        ],
        "question_id": "EQ013"
       },
       {
        "annotations": [
         {
          "nugget_ids": [
           "CQ013-N00",
           "CQ013-N04",
           "CQ013-N16",
           "CQ013-N05"
          ],
          "sentence_id": "246fea0a0aac2b6a698ea868c0396211118e346b-C004-S000"
         },
         {
          "nugget_ids": [
           "CQ013-N01"
          ],
          "sentence_id": "246fea0a0aac2b6a698ea868c0396211118e346b-C004-S002"
         },
         {
          "nugget_ids": [
           "CQ013-N00"
          ],
          "sentence_id": "26130d4657b6ddd563cd085089f52572684ff6c1-C000-S003"
         },
         {
          "nugget_ids": [
           "CQ013-N02"
          ],
          "sentence_id": "385229d6c59dbba1ef9a0eb6c5ca580d0d784b46-C002-S001"
         },
         {
          "nugget_ids": [
           "CQ013-N02"
          ],
          "sentence_id": "385229d6c59dbba1ef9a0eb6c5ca580d0d784b46-C002-S002"
         },
         {
          "nugget_ids": [
           "CQ013-N02",
           "CQ013-N19"
          ],
          "sentence_id": "385229d6c59dbba1ef9a0eb6c5ca580d0d784b46-C002-S004"
         },
         {
          "nugget_ids": [
           "CQ013-N02",
           "CQ013-N19"
          ],
          "sentence_id": "385229d6c59dbba1ef9a0eb6c5ca580d0d784b46-C002-S005"
         },
         {
          "nugget_ids": [
           "CQ013-N02"
          ],
          "sentence_id": "385229d6c59dbba1ef9a0eb6c5ca580d0d784b46-C002-S006"
         },
         {
          "nugget_ids": [
           "CQ013-N00"
          ],
          "sentence_id": "4b224486f06c549e2b815b095388adb9dae478ea-C000-S003"
         },
         {
          "nugget_ids": [
           "CQ013-N00"
          ],
          "sentence_id": "85162923aadac75a79873a379eb11b11907e6657-C000-S001"
         },
         {
          "nugget_ids": [
           "CQ013-N00",
           "CQ013-N04"
          ],
          "sentence_id": "85162923aadac75a79873a379eb11b11907e6657-C000-S002"
         },
         {
          "nugget_ids": [
           "CQ013-N04",
           "CQ013-N05"
          ],
          "sentence_id": "894b2b2ed16bce16bc7875699f9b574959c15fba-C003-S005"
         },
         {
          "nugget_ids": [
           "CQ013-N04",
           "CQ013-N00"
          ],
          "sentence_id": "894b2b2ed16bce16bc7875699f9b574959c15fba-C003-S007"
         },
         {
          "nugget_ids": [
           "CQ013-N00"
          ],
          "sentence_id": "94912a92b08f8d53b69e7a3dbd7e1bc2aee68608-C000-S003"
         },
         {
          "nugget_ids": [
           "CQ013-N12",
           "CQ013-N11"
          ],
          "sentence_id": "95534418522ff422077fa28cb7dd5e824d6841a4-C105-S000"
         },
         {
          "nugget_ids": [
           "CQ013-N00"
          ],
          "sentence_id": "95534418522ff422077fa28cb7dd5e824d6841a4-C105-S001"
         },
         {
          "nugget_ids": [
           "CQ013-N08"
          ],
          "sentence_id": "95534418522ff422077fa28cb7dd5e824d6841a4-C051-S000"
         },
         {
          "nugget_ids": [
           "CQ013-N08"
          ],
          "sentence_id": "95534418522ff422077fa28cb7dd5e824d6841a4-C051-S001"
         },
         {
          "nugget_ids": [
           "CQ013-N08"
          ],
          "sentence_id": "95534418522ff422077fa28cb7dd5e824d6841a4-C051-S002"
         },
         {
          "nugget_ids": [
           "CQ013-N00",
           "CQ013-N04",
           "CQ013-N16",
           "CQ013-N05"
          ],
          "sentence_id": "95534418522ff422077fa28cb7dd5e824d6841a4-C040-S000"
         },
         {
          "nugget_ids": [
           "CQ013-N04"
          ],
          "sentence_id": "95534418522ff422077fa28cb7dd5e824d6841a4-C040-S001"
         },
         {
          "nugget_ids": [
           "CQ013-N04",
           "CQ013-N00"
          ],
          "sentence_id": "95534418522ff422077fa28cb7dd5e824d6841a4-C040-S003"
         },
         {
          "nugget_ids": [
           "CQ013-N04",
           "CQ013-N17",
           "CQ013-N00"
          ],
          "sentence_id": "95534418522ff422077fa28cb7dd5e824d6841a4-C040-S004"
         },
         {
          "nugget_ids": [
           "CQ013-N17"
          ],
          "sentence_id": "95534418522ff422077fa28cb7dd5e824d6841a4-C040-S005"
         },
         {
          "nugget_ids": [
           "CQ013-N10"
          ],
          "sentence_id": "95534418522ff422077fa28cb7dd5e824d6841a4-C047-S006"
         },
         {
          "nugget_ids": [
           "CQ013-N08",
           "CQ013-N07"
          ],
          "sentence_id": "95534418522ff422077fa28cb7dd5e824d6841a4-C047-S008"
         },
         {
          "nugget_ids": [
           "CQ013-N08",
           "CQ013-N07"
          ],
          "sentence_id": "95534418522ff422077fa28cb7dd5e824d6841a4-C047-S009"
         },
         {
          "nugget_ids": [
           "CQ013-N07",
           "CQ013-N08"
          ],
          "sentence_id": "95534418522ff422077fa28cb7dd5e824d6841a4-C047-S010"
         },
         {
          "nugget_ids": [
           "CQ013-N11"
          ],
          "sentence_id": "95534418522ff422077fa28cb7dd5e824d6841a4-C047-S013"
         },
         {
          "nugget_ids": [
           "CQ013-N12"
          ],
          "sentence_id": "95534418522ff422077fa28cb7dd5e824d6841a4-C047-S012"
         },
         {
          "nugget_ids": [
           "CQ013-N00"
          ],
          "sentence_id": "95534418522ff422077fa28cb7dd5e824d6841a4-C047-S014"
         },
         {
          "nugget_ids": [
           "CQ013-N18",
           "CQ013-N08"
          ],
          "sentence_id": "95534418522ff422077fa28cb7dd5e824d6841a4-C053-S000"
         },
         {
          "nugget_ids": [
           "CQ013-N14"
          ],
          "sentence_id": "95534418522ff422077fa28cb7dd5e824d6841a4-C075-S001"
         },
         {
          "nugget_ids": [
           "CQ013-N00",
           "CQ013-N04"
          ],
          "sentence_id": "95534418522ff422077fa28cb7dd5e824d6841a4-C075-S004"
         },
         {
          "nugget_ids": [
           "CQ013-N05"
          ],
          "sentence_id": "95534418522ff422077fa28cb7dd5e824d6841a4-C075-S005"
         },
         {
          "nugget_ids": [
           "CQ013-N05"
          ],
          "sentence_id": "95534418522ff422077fa28cb7dd5e824d6841a4-C075-S006"
         },
         {
          "nugget_ids": [
           "CQ013-N14"
          ],
          "sentence_id": "95534418522ff422077fa28cb7dd5e824d6841a4-C075-S007"
         },
         {
          "nugget_ids": [
           "CQ013-N07",
           "CQ013-N08"
          ],
          "sentence_id": "95534418522ff422077fa28cb7dd5e824d6841a4-C075-S008"
         },
         {
          "nugget_ids": [
           "CQ013-N14"
          ],
          "sentence_id": "95534418522ff422077fa28cb7dd5e824d6841a4-C075-S009"
         },
         {
          "nugget_ids": [
           "CQ013-N15",
           "CQ013-N14"
          ],
          "sentence_id": "95534418522ff422077fa28cb7dd5e824d6841a4-C075-S011"
         },
         {
          "nugget_ids": [
           "CQ013-N14"
          ],
          "sentence_id": "95534418522ff422077fa28cb7dd5e824d6841a4-C075-S012"
         },
         {
          "nugget_ids": [
           "CQ013-N14"
          ],
          "sentence_id": "95534418522ff422077fa28cb7dd5e824d6841a4-C075-S014"
         },
         {
          "nugget_ids": [
           "CQ013-N00",
           "CQ013-N05"
          ],
          "sentence_id": "95534418522ff422077fa28cb7dd5e824d6841a4-C096-S000"
         },
         {
          "nugget_ids": [
           "CQ013-N05"
          ],
          "sentence_id": "95534418522ff422077fa28cb7dd5e824d6841a4-C096-S001"
         },
         {
          "nugget_ids": [
           "CQ013-N00",
           "CQ013-N04",
           "CQ013-N10"
          ],
          "sentence_id": "95534418522ff422077fa28cb7dd5e824d6841a4-C096-S002"
         },
         {
          "nugget_ids": [
           "CQ013-N10"
          ],
          "sentence_id": "95534418522ff422077fa28cb7dd5e824d6841a4-C096-S004"
         },
         {
          "nugget_ids": [
           "CQ013-N19",
           "CQ013-N00"
          ],
          "sentence_id": "95534418522ff422077fa28cb7dd5e824d6841a4-C003-S014"
         },
         {
          "nugget_ids": [
           "CQ013-N19",
           "CQ013-N20",
           "CQ013-N04"
          ],
          "sentence_id": "95534418522ff422077fa28cb7dd5e824d6841a4-C082-S003"
         },
         {
          "nugget_ids": [
           "CQ013-N19"
          ],
          "sentence_id": "95534418522ff422077fa28cb7dd5e824d6841a4-C082-S004"
         },
         {
          "nugget_ids": [
           "CQ013-N20",
           "CQ013-N21"
          ],
          "sentence_id": "95534418522ff422077fa28cb7dd5e824d6841a4-C082-S005"
         },
         {
          "nugget_ids": [
           "CQ013-N00",
           "CQ013-N05"
          ],
          "sentence_id": "95534418522ff422077fa28cb7dd5e824d6841a4-C082-S006"
         },
         {
          "nugget_ids": [
           "CQ013-N00"
          ],
          "sentence_id": "95534418522ff422077fa28cb7dd5e824d6841a4-C082-S012"
         },
         {
          "nugget_ids": [
           "CQ013-N05"
          ],
          "sentence_id": "95534418522ff422077fa28cb7dd5e824d6841a4-C009-S001"
         },
         {
          "nugget_ids": [
           "CQ013-N07",
           "CQ013-N09",
           "CQ013-N22"
          ],
          "sentence_id": "95534418522ff422077fa28cb7dd5e824d6841a4-C009-S002"
         },
         {
          "nugget_ids": [
           "CQ013-N22"
          ],
          "sentence_id": "95534418522ff422077fa28cb7dd5e824d6841a4-C009-S003"
         },
         {
          "nugget_ids": [
           "CQ013-N23"
          ],
          "sentence_id": "95534418522ff422077fa28cb7dd5e824d6841a4-C009-S008"
         },
         {
          "nugget_ids": [
           "CQ013-N17"
          ],
          "sentence_id": "95534418522ff422077fa28cb7dd5e824d6841a4-C046-S003"
         },
         {
          "nugget_ids": [
           "CQ013-N00",
           "CQ013-N05"
          ],
          "sentence_id": "95534418522ff422077fa28cb7dd5e824d6841a4-C046-S006"
         },
         {
          "nugget_ids": [
           "CQ013-N06"
          ],
          "sentence_id": "95534418522ff422077fa28cb7dd5e824d6841a4-C046-S007"
         },
         {
          "nugget_ids": [
           "CQ013-N07",
           "CQ013-N08",
           "CQ013-N09"
          ],
          "sentence_id": "95534418522ff422077fa28cb7dd5e824d6841a4-C046-S010"
         },
         {
          "nugget_ids": [
           "CQ013-N07",
           "CQ013-N06",
           "CQ013-N09"
          ],
          "sentence_id": "95534418522ff422077fa28cb7dd5e824d6841a4-C046-S011"
         },
         {
          "nugget_ids": [
           "CQ013-N10"
          ],
          "sentence_id": "95534418522ff422077fa28cb7dd5e824d6841a4-C007-S002"
         },
         {
          "nugget_ids": [
           "CQ013-N12",
           "CQ013-N11"
          ],
          "sentence_id": "95534418522ff422077fa28cb7dd5e824d6841a4-C007-S009"
         },
         {
          "nugget_ids": [
           "CQ013-N00"
          ],
          "sentence_id": "95534418522ff422077fa28cb7dd5e824d6841a4-C007-S010"
         },
         {
          "nugget_ids": [
           "CQ013-N00",
           "CQ013-N05"
          ],
          "sentence_id": "95534418522ff422077fa28cb7dd5e824d6841a4-C004-S003"
         },
         {
          "nugget_ids": [
           "CQ013-N05"
          ],
          "sentence_id": "95534418522ff422077fa28cb7dd5e824d6841a4-C004-S004"
         },
         {
          "nugget_ids": [
           "CQ013-N00",
           "CQ013-N04"
          ],
          "sentence_id": "95534418522ff422077fa28cb7dd5e824d6841a4-C004-S005"
         },
         {
          "nugget_ids": [
           "CQ013-N10"
          ],
          "sentence_id": "95534418522ff422077fa28cb7dd5e824d6841a4-C004-S006"
         },
         {
          "nugget_ids": [
           "CQ013-N10"
          ],
          "sentence_id": "95534418522ff422077fa28cb7dd5e824d6841a4-C004-S009"
         },
         {
          "nugget_ids": [
           "CQ013-N19",
           "CQ013-N00"
          ],
          "sentence_id": "95534418522ff422077fa28cb7dd5e824d6841a4-C044-S003"
         },
         {
          "nugget_ids": [
           "CQ013-N00",
           "CQ013-N05"
          ],
          "sentence_id": "95534418522ff422077fa28cb7dd5e824d6841a4-C044-S007"
         },
         {
          "nugget_ids": [
           "CQ013-N05"
          ],
          "sentence_id": "95534418522ff422077fa28cb7dd5e824d6841a4-C044-S008"
         },
         {
          "nugget_ids": [
           "CQ013-N00",
           "CQ013-N04"
          ],
          "sentence_id": "95534418522ff422077fa28cb7dd5e824d6841a4-C044-S009"
         },
         {
          "nugget_ids": [
           "CQ013-N10"
          ],
          "sentence_id": "95534418522ff422077fa28cb7dd5e824d6841a4-C044-S010"
         },
         {
          "nugget_ids": [
           "CQ013-N10"
          ],
          "sentence_id": "95534418522ff422077fa28cb7dd5e824d6841a4-C044-S013"
         },
         {
          "nugget_ids": [
           "CQ013-N00"
          ],
          "sentence_id": "95534418522ff422077fa28cb7dd5e824d6841a4-C045-S005"
         },
         {
          "nugget_ids": [
           "CQ013-N00"
          ],
          "sentence_id": "95534418522ff422077fa28cb7dd5e824d6841a4-C045-S006"
         },
         {
          "nugget_ids": [
           "CQ013-N01"
          ],
          "sentence_id": "95534418522ff422077fa28cb7dd5e824d6841a4-C045-S008"
         },
         {
          "nugget_ids": [
           "CQ013-N00",
           "CQ013-N04"
          ],
          "sentence_id": "95534418522ff422077fa28cb7dd5e824d6841a4-C149-S001"
         },
         {
          "nugget_ids": [
           "CQ013-N05"
          ],
          "sentence_id": "95534418522ff422077fa28cb7dd5e824d6841a4-C149-S002"
         },
         {
          "nugget_ids": [
           "CQ013-N14",
           "CQ013-N05"
          ],
          "sentence_id": "95534418522ff422077fa28cb7dd5e824d6841a4-C149-S004"
         },
         {
          "nugget_ids": [
           "CQ013-N08",
           "CQ013-N07"
          ],
          "sentence_id": "95534418522ff422077fa28cb7dd5e824d6841a4-C149-S005"
         },
         {
          "nugget_ids": [
           "CQ013-N14"
          ],
          "sentence_id": "95534418522ff422077fa28cb7dd5e824d6841a4-C149-S006"
         },
         {
          "nugget_ids": [
           "CQ013-N15",
           "CQ013-N14"
          ],
          "sentence_id": "95534418522ff422077fa28cb7dd5e824d6841a4-C149-S008"
         },
         {
          "nugget_ids": [
           "CQ013-N00",
           "CQ013-N04",
           "CQ013-N05"
          ],
          "sentence_id": "bceba12379d3b7042f03570be73a37d5d988cb66-C000-S001"
         },
         {
          "nugget_ids": [
           "CQ013-N01"
          ],
          "sentence_id": "bceba12379d3b7042f03570be73a37d5d988cb66-C000-S002"
         },
         {
          "nugget_ids": [
           "CQ013-N14"
          ],
          "sentence_id": "bceba12379d3b7042f03570be73a37d5d988cb66-C000-S003"
         },
         {
          "nugget_ids": [
           "CQ013-N07",
           "CQ013-N08"
          ],
          "sentence_id": "bceba12379d3b7042f03570be73a37d5d988cb66-C000-S004"
         },
         {
          "nugget_ids": [
           "CQ013-N14"
          ],
          "sentence_id": "bceba12379d3b7042f03570be73a37d5d988cb66-C000-S009"
         },
         {
          "nugget_ids": [
           "CQ013-N00"
          ],
          "sentence_id": "e50926e5a6cfff7596986c958eed60d463c85cd3-C000-S003"
         },
         {
          "nugget_ids": [
           "CQ013-N00"
          ],
          "sentence_id": "e77f5bec7406320ce8373d0354b903084b186e2e-C000-S000"
         },
         {
          "nugget_ids": [
           "CQ013-N00",
           "CQ013-N05",
           "CQ013-N04"
          ],
          "sentence_id": "e77f5bec7406320ce8373d0354b903084b186e2e-C000-S006"
         },
         {
          "nugget_ids": [
           "CQ013-N05",
           "CQ013-N00"
          ],
          "sentence_id": "e77f5bec7406320ce8373d0354b903084b186e2e-C000-S007"
         },
         {
          "nugget_ids": [
           "CQ013-N04",
           "CQ013-N00",
           "CQ013-N17"
          ],
          "sentence_id": "e77f5bec7406320ce8373d0354b903084b186e2e-C000-S008"
         },
         {
          "nugget_ids": [
           "CQ013-N16",
           "CQ013-N05"
          ],
          "sentence_id": "e77f5bec7406320ce8373d0354b903084b186e2e-C000-S009"
         },
         {
          "nugget_ids": [
           "CQ013-N01"
          ],
          "sentence_id": "e77f5bec7406320ce8373d0354b903084b186e2e-C000-S010"
         }
        ],
        "nuggets": [
         {
          "nugget": "transmission to contact lens wearers",
          "nugget_id": "CQ013-N24"
         },
         {
          "nugget": "transmission at blood centers",
          "nugget_id": "CQ013-N23"
         },
         {
          "nugget": "transmission by imported goods",
          "nugget_id": "CQ013-N22"
         },
         {
          "nugget": "transmission by dogs",
          "nugget_id": "CQ013-N21"
         },
         {
          "nugget": "transmission by cats",
          "nugget_id": "CQ013-N20"
         },
         {
          "nugget": "transmission by pets",
          "nugget_id": "CQ013-N19"
         },
         {
          "nugget": "transmission by laundry",
          "nugget_id": "CQ013-N18"
         },
         {
          "nugget": "duration of exposure",
          "nugget_id": "CQ013-N17"
         },
         {
          "nugget": "transmission by infectious secretions",
          "nugget_id": "CQ013-N16"
         },
         {
          "nugget": "transmission by intimate contact",
          "nugget_id": "CQ013-N15"
         },
         {
          "nugget": "transmission after death",
          "nugget_id": "CQ013-N14"
         },
         {
          "nugget": "transmission by insects",
          "nugget_id": "CQ013-N13"
         },
         {
          "nugget": "transmission by ticks",
          "nugget_id": "CQ013-N12"
         },
         {
          "nugget": "transmission by mosquitoes",
          "nugget_id": "CQ013-N11"
         },
         {
          "nugget": "community spread",
          "nugget_id": "CQ013-N10"
         },
         {
          "nugget": "transmission by packaging containers",
          "nugget_id": "CQ013-N09"
         },
         {
          "nugget": "transmission by objects",
          "nugget_id": "CQ013-N08"
         },
         {
          "nugget": "transmission by surfaces",
          "nugget_id": "CQ013-N07"
         },
         {
          "nugget": "transmission by food",
          "nugget_id": "CQ013-N06"
         },
         {
          "nugget": "transmission by respiratory droplets",
          "nugget_id": "CQ013-N05"
         },
         {
          "nugget": "close contact",
          "nugget_id": "CQ013-N04"
         },
         {
          "nugget": "civets",
          "nugget_id": "CQ013-N03"
         },
         {
          "nugget": "non-native animals",
          "nugget_id": "CQ013-N02"
         },
         {
          "nugget": "asymptomatic carriers",
          "nugget_id": "CQ013-N01"
         },
         {
          "nugget": "person-to-person transmission",
          "nugget_id": "CQ013-N00"
         }
        ],
        "question_id": "CQ013"
       },
       {
        "annotations": [
         {
          "nugget_ids": [
           "EQ029-N00",
           "EQ029-N26"
          ],
          "sentence_id": "1xf2sxtv-C004-S000"
         },
         {
          "nugget_ids": [
           "EQ029-N00",
           "EQ029-N26"
          ],
          "sentence_id": "1xf2sxtv-C004-S001"
         },
         {
          "nugget_ids": [
           "EQ029-N00"
          ],
          "sentence_id": "1xf2sxtv-C004-S002"
         },
         {
          "nugget_ids": [
           "EQ029-N00"
          ],
          "sentence_id": "1xf2sxtv-C004-S003"
         },
         {
          "nugget_ids": [
           "EQ029-N01"
          ],
          "sentence_id": "2j56et4p-C010-S000"
         },
         {
          "nugget_ids": [
           "EQ029-N01"
          ],
          "sentence_id": "2j56et4p-C010-S001"
         },
         {
          "nugget_ids": [
           "EQ029-N02",
           "EQ029-N03"
          ],
          "sentence_id": "2j56et4p-C010-S002"
         },
         {
          "nugget_ids": [
           "EQ029-N04",
           "EQ029-N05"
          ],
          "sentence_id": "3bc72zgr-C019-S000"
         },
         {
          "nugget_ids": [
           "EQ029-N04"
          ],
          "sentence_id": "3bc72zgr-C019-S003"
         },
         {
          "nugget_ids": [
           "EQ029-N06",
           "EQ029-N28"
          ],
          "sentence_id": "3pxo0j42-C000-S003"
         },
         {
          "nugget_ids": [
           "EQ029-N06",
           "EQ029-N28",
           "EQ029-N07",
           "EQ029-N08",
           "EQ029-N09",
           "EQ029-N78"
          ],
          "sentence_id": "3pxo0j42-C000-S008"
         },
         {
          "nugget_ids": [
           "EQ029-N09",
           "EQ029-N08"
          ],
          "sentence_id": "3pxo0j42-C000-S014"
         },
         {
          "nugget_ids": [
           "EQ029-N26"
          ],
          "sentence_id": "4yuw7jo3-C007-S002"
         },
         {
          "nugget_ids": [
           "EQ029-N28"
          ],
          "sentence_id": "6ffif8fc-C007-S002"
         },
         {
          "nugget_ids": [
           "EQ029-N10",
           "EQ029-N11"
          ],
          "sentence_id": "6ffif8fc-C007-S003"
         },
         {
          "nugget_ids": [
           "EQ029-N32",
           "EQ029-N33"
          ],
          "sentence_id": "6ffif8fc-C007-S004"
         },
         {
          "nugget_ids": [
           "EQ029-N12",
           "EQ029-N14",
           "EQ029-N15",
           "EQ029-N13"
          ],
          "sentence_id": "6mqg4nb5-C016-S004"
         },
         {
          "nugget_ids": [
           "EQ029-N16",
           "EQ029-N01"
          ],
          "sentence_id": "6mqg4nb5-C016-S005"
         },
         {
          "nugget_ids": [
           "EQ029-N17",
           "EQ029-N19",
           "EQ029-N18"
          ],
          "sentence_id": "6mqg4nb5-C016-S006"
         },
         {
          "nugget_ids": [
           "EQ029-N17"
          ],
          "sentence_id": "6mqg4nb5-C016-S007"
         },
         {
          "nugget_ids": [
           "EQ029-N28"
          ],
          "sentence_id": "6mqg4nb5-C016-S008"
         },
         {
          "nugget_ids": [
           "EQ029-N18",
           "EQ029-N28"
          ],
          "sentence_id": "6mqg4nb5-C016-S009"
         },
         {
          "nugget_ids": [
           "EQ029-N18"
          ],
          "sentence_id": "6mqg4nb5-C016-S010"
         },
         {
          "nugget_ids": [
           "EQ029-N19"
          ],
          "sentence_id": "6mqg4nb5-C016-S011"
         },
         {
          "nugget_ids": [
           "EQ029-N17",
           "EQ029-N19",
           "EQ029-N18"
          ],
          "sentence_id": "6mqg4nb5-C016-S012"
         },
         {
          "nugget_ids": [
           "EQ029-N20"
          ],
          "sentence_id": "aqge7xuu-C004-S004"
         },
         {
          "nugget_ids": [
           "EQ029-N26"
          ],
          "sentence_id": "bv6xa8v8-C026-S000"
         },
         {
          "nugget_ids": [
           "EQ029-N21"
          ],
          "sentence_id": "bv6xa8v8-C026-S003"
         },
         {
          "nugget_ids": [
           "EQ029-N22",
           "EQ029-N23",
           "EQ029-N24"
          ],
          "sentence_id": "bv6xa8v8-C026-S005"
         },
         {
          "nugget_ids": [
           "EQ029-N01",
           "EQ029-N28",
           "EQ029-N26"
          ],
          "sentence_id": "cloeomqq-C000-S004"
         },
         {
          "nugget_ids": [
           "EQ029-N11"
          ],
          "sentence_id": "cloeomqq-C000-S005"
         },
         {
          "nugget_ids": [
           "EQ029-N25"
          ],
          "sentence_id": "cloeomqq-C000-S006"
         },
         {
          "nugget_ids": [
           "EQ029-N10",
           "EQ029-N11"
          ],
          "sentence_id": "da61tfr9-C000-S004"
         },
         {
          "nugget_ids": [
           "EQ029-N10"
          ],
          "sentence_id": "da61tfr9-C000-S005"
         },
         {
          "nugget_ids": [
           "EQ029-N10"
          ],
          "sentence_id": "da61tfr9-C000-S006"
         },
         {
          "nugget_ids": [
           "EQ029-N26"
          ],
          "sentence_id": "dfydh7sf-C015-S000"
         },
         {
          "nugget_ids": [
           "EQ029-N26"
          ],
          "sentence_id": "dfydh7sf-C015-S001"
         },
         {
          "nugget_ids": [
           "EQ029-N05"
          ],
          "sentence_id": "dfydh7sf-C015-S002"
         },
         {
          "nugget_ids": [
           "EQ029-N05",
           "EQ029-N28"
          ],
          "sentence_id": "dfydh7sf-C015-S003"
         },
         {
          "nugget_ids": [
           "EQ029-N26",
           "EQ029-N05"
          ],
          "sentence_id": "dfydh7sf-C015-S004"
         },
         {
          "nugget_ids": [
           "EQ029-N05",
           "EQ029-N26",
           "EQ029-N28"
          ],
          "sentence_id": "dir0jtyb-C000-S003"
         },
         {
          "nugget_ids": [
           "EQ029-N27",
           "EQ029-N26"
          ],
          "sentence_id": "dir0jtyb-C000-S004"
         },
         {
          "nugget_ids": [
           "EQ029-N26",
           "EQ029-N28"
          ],
          "sentence_id": "dir0jtyb-C000-S005"
         },
         {
          "nugget_ids": [
           "EQ029-N27"
          ],
          "sentence_id": "dir0jtyb-C000-S006"
         },
         {
          "nugget_ids": [
           "EQ029-N27"
          ],
          "sentence_id": "dir0jtyb-C000-S007"
         },
         {
          "nugget_ids": [
           "EQ029-N26",
           "EQ029-N27",
           "EQ029-N28"
          ],
          "sentence_id": "dir0jtyb-C000-S008"
         },
         {
          "nugget_ids": [
           "EQ029-N27"
          ],
          "sentence_id": "dir0jtyb-C000-S009"
         },
         {
          "nugget_ids": [
           "EQ029-N28",
           "EQ029-N29",
           "EQ029-N26",
           "EQ029-N30",
           "EQ029-N31"
          ],
          "sentence_id": "dtwstwbe-C000-S002"
         },
         {
          "nugget_ids": [
           "EQ029-N32",
           "EQ029-N33"
          ],
          "sentence_id": "eqfz0wpm-C018-S002"
         },
         {
          "nugget_ids": [
           "EQ029-N33"
          ],
          "sentence_id": "eqfz0wpm-C018-S004"
         },
         {
          "nugget_ids": [
           "EQ029-N33"
          ],
          "sentence_id": "eqfz0wpm-C018-S006"
         },
         {
          "nugget_ids": [
           "EQ029-N33"
          ],
          "sentence_id": "f6muhf3d-C003-S000"
         },
         {
          "nugget_ids": [
           "EQ029-N33"
          ],
          "sentence_id": "f6muhf3d-C003-S001"
         },
         {
          "nugget_ids": [
           "EQ029-N33"
          ],
          "sentence_id": "f6muhf3d-C003-S003"
         },
         {
          "nugget_ids": [
           "EQ029-N26",
           "EQ029-N34"
          ],
          "sentence_id": "fs8dn7ir-C013-S000"
         },
         {
          "nugget_ids": [
           "EQ029-N34"
          ],
          "sentence_id": "fs8dn7ir-C013-S001"
         },
         {
          "nugget_ids": [
           "EQ029-N26"
          ],
          "sentence_id": "fs8dn7ir-C013-S003"
         },
         {
          "nugget_ids": [
           "EQ029-N26"
          ],
          "sentence_id": "fs8dn7ir-C013-S005"
         },
         {
          "nugget_ids": [
           "EQ029-N26"
          ],
          "sentence_id": "fs8dn7ir-C013-S006"
         },
         {
          "nugget_ids": [
           "EQ029-N33"
          ],
          "sentence_id": "hgpfib1z-C010-S000"
         },
         {
          "nugget_ids": [
           "EQ029-N33"
          ],
          "sentence_id": "hgpfib1z-C010-S001"
         },
         {
          "nugget_ids": [
           "EQ029-N33"
          ],
          "sentence_id": "hgpfib1z-C010-S002"
         },
         {
          "nugget_ids": [
           "EQ029-N26",
           "EQ029-N28"
          ],
          "sentence_id": "hrntvohh-C007-S001"
         },
         {
          "nugget_ids": [
           "EQ029-N35",
           "EQ029-N01",
           "EQ029-N11"
          ],
          "sentence_id": "kc2r034w-C000-S002"
         },
         {
          "nugget_ids": [
           "EQ029-N01",
           "EQ029-N32"
          ],
          "sentence_id": "kc2r034w-C000-S003"
         },
         {
          "nugget_ids": [
           "EQ029-N36",
           "EQ029-N01",
           "EQ029-N32"
          ],
          "sentence_id": "kc2r034w-C000-S004"
         },
         {
          "nugget_ids": [
           "EQ029-N36"
          ],
          "sentence_id": "kc2r034w-C000-S005"
         },
         {
          "nugget_ids": [
           "EQ029-N37",
           "EQ029-N36"
          ],
          "sentence_id": "kc2r034w-C000-S006"
         },
         {
          "nugget_ids": [
           "EQ029-N28"
          ],
          "sentence_id": "oh85yi49-C023-S000"
         },
         {
          "nugget_ids": [
           "EQ029-N39",
           "EQ029-N38",
           "EQ029-N40",
           "EQ029-N41",
           "EQ029-N42",
           "EQ029-N43",
           "EQ029-N44",
           "EQ029-N45",
           "EQ029-N10",
           "EQ029-N46",
           "EQ029-N47",
           "EQ029-N48",
           "EQ029-N49",
           "EQ029-N50",
           "EQ029-N52",
           "EQ029-N53",
           "EQ029-N54",
           "EQ029-N55",
           "EQ029-N56",
           "EQ029-N57",
           "EQ029-N58",
           "EQ029-N59",
           "EQ029-N60",
           "EQ029-N61",
           "EQ029-N62",
           "EQ029-N63",
           "EQ029-N64",
           "EQ029-N65",
           "EQ029-N66"
          ],
          "sentence_id": "oyr03uw1-C027-S004"
         },
         {
          "nugget_ids": [
           "EQ029-N28",
           "EQ029-N26"
          ],
          "sentence_id": "p1iktm9v-C000-S003"
         },
         {
          "nugget_ids": [
           "EQ029-N67",
           "EQ029-N68",
           "EQ029-N28"
          ],
          "sentence_id": "p1iktm9v-C000-S004"
         },
         {
          "nugget_ids": [
           "EQ029-N67"
          ],
          "sentence_id": "p1iktm9v-C000-S006"
         },
         {
          "nugget_ids": [
           "EQ029-N68"
          ],
          "sentence_id": "p1iktm9v-C000-S007"
         },
         {
          "nugget_ids": [
           "EQ029-N28",
           "EQ029-N67",
           "EQ029-N68"
          ],
          "sentence_id": "p1iktm9v-C000-S009"
         },
         {
          "nugget_ids": [
           "EQ029-N26",
           "EQ029-N33"
          ],
          "sentence_id": "pgxew3yk-C000-S002"
         },
         {
          "nugget_ids": [
           "EQ029-N69",
           "EQ029-N14",
           "EQ029-N70",
           "EQ029-N16",
           "EQ029-N33"
          ],
          "sentence_id": "pgxew3yk-C000-S004"
         },
         {
          "nugget_ids": [
           "EQ029-N72",
           "EQ029-N71"
          ],
          "sentence_id": "pgxew3yk-C000-S006"
         },
         {
          "nugget_ids": [
           "EQ029-N26",
           "EQ029-N28",
           "EQ029-N33"
          ],
          "sentence_id": "q18c0ps0-C000-S001"
         },
         {
          "nugget_ids": [
           "EQ029-N73",
           "EQ029-N74",
           "EQ029-N75",
           "EQ029-N76"
          ],
          "sentence_id": "q5fhgq6q-C000-S005"
         },
         {
          "nugget_ids": [
           "EQ029-N33"
          ],
          "sentence_id": "q5fhgq6q-C000-S004"
         },
         {
          "nugget_ids": [
           "EQ029-N33"
          ],
          "sentence_id": "q5fhgq6q-C000-S003"
         },
         {
          "nugget_ids": [
           "EQ029-N73",
           "EQ029-N33"
          ],
          "sentence_id": "q5fhgq6q-C000-S006"
         },
         {
          "nugget_ids": [
           "EQ029-N73",
           "EQ029-N74",
           "EQ029-N75",
           "EQ029-N76"
          ],
          "sentence_id": "q5fhgq6q-C000-S007"
         },
         {
          "nugget_ids": [
           "EQ029-N06",
           "EQ029-N28",
           "EQ029-N08",
           "EQ029-N78"
          ],
          "sentence_id": "rjss51sq-C001-S000"
         },
         {
          "nugget_ids": [
           "EQ029-N06",
           "EQ029-N28"
          ],
          "sentence_id": "rjss51sq-C001-S001"
         },
         {
          "nugget_ids": [
           "EQ029-N33"
          ],
          "sentence_id": "rrws1h7u-C000-S002"
         },
         {
          "nugget_ids": [
           "EQ029-N33"
          ],
          "sentence_id": "rrws1h7u-C000-S003"
         },
         {
          "nugget_ids": [
           "EQ029-N33"
          ],
          "sentence_id": "rrws1h7u-C000-S004"
         },
         {
          "nugget_ids": [
           "EQ029-N33",
           "EQ029-N79",
           "EQ029-N80",
           "EQ029-N81"
          ],
          "sentence_id": "rrws1h7u-C000-S009"
         },
         {
          "nugget_ids": [
           "EQ029-N33"
          ],
          "sentence_id": "rrws1h7u-C000-S011"
         },
         {
          "nugget_ids": [
           "EQ029-N33"
          ],
          "sentence_id": "rrws1h7u-C000-S012"
         },
         {
          "nugget_ids": [
           "EQ029-N33",
           "EQ029-N82",
           "EQ029-N62"
          ],
          "sentence_id": "rz205rqd-C018-S001"
         },
         {
          "nugget_ids": [
           "EQ029-N33",
           "EQ029-N62",
           "EQ029-N82"
          ],
          "sentence_id": "rz205rqd-C018-S002"
         },
         {
          "nugget_ids": [
           "EQ029-N33",
           "EQ029-N62",
           "EQ029-N82",
           "EQ029-N83"
          ],
          "sentence_id": "rz205rqd-C018-S003"
         },
         {
          "nugget_ids": [
           "EQ029-N62",
           "EQ029-N82",
           "EQ029-N33",
           "EQ029-N83"
          ],
          "sentence_id": "rz205rqd-C018-S004"
         },
         {
          "nugget_ids": [
           "EQ029-N62",
           "EQ029-N82",
           "EQ029-N83"
          ],
          "sentence_id": "rz205rqd-C018-S005"
         },
         {
          "nugget_ids": [
           "EQ029-N33"
          ],
          "sentence_id": "sd40c03b-C000-S002"
         },
         {
          "nugget_ids": [
           "EQ029-N33"
          ],
          "sentence_id": "sd40c03b-C000-S003"
         },
         {
          "nugget_ids": [
           "EQ029-N33"
          ],
          "sentence_id": "sd40c03b-C000-S004"
         },
         {
          "nugget_ids": [
           "EQ029-N19",
           "EQ029-N84",
           "EQ029-N85",
           "EQ029-N86"
          ],
          "sentence_id": "sd40c03b-C000-S007"
         },
         {
          "nugget_ids": [
           "EQ029-N19",
           "EQ029-N84",
           "EQ029-N85",
           "EQ029-N86"
          ],
          "sentence_id": "sd40c03b-C000-S008"
         },
         {
          "nugget_ids": [
           "EQ029-N87",
           "EQ029-N88",
           "EQ029-N89",
           "EQ029-N90"
          ],
          "sentence_id": "ofmjtri8-C002-S006"
         },
         {
          "nugget_ids": [
           "EQ029-N26",
           "EQ029-N28"
          ],
          "sentence_id": "us0qpw0m-C000-S002"
         },
         {
          "nugget_ids": [
           "EQ029-N26"
          ],
          "sentence_id": "us0qpw0m-C000-S003"
         },
         {
          "nugget_ids": [
           "EQ029-N10",
           "EQ029-N11"
          ],
          "sentence_id": "us0qpw0m-C000-S004"
         },
         {
          "nugget_ids": [
           "EQ029-N10",
           "EQ029-N11",
           "EQ029-N26"
          ],
          "sentence_id": "us0qpw0m-C000-S005"
         },
         {
          "nugget_ids": [
           "EQ029-N26"
          ],
          "sentence_id": "us0qpw0m-C000-S006"
         },
         {
          "nugget_ids": [
           "EQ029-N11",
           "EQ029-N10",
           "EQ029-N26",
           "EQ029-N28"
          ],
          "sentence_id": "us0qpw0m-C000-S007"
         },
         {
          "nugget_ids": [
           "EQ029-N11"
          ],
          "sentence_id": "us0qpw0m-C000-S008"
         },
         {
          "nugget_ids": [
           "EQ029-N11"
          ],
          "sentence_id": "us0qpw0m-C000-S009"
         },
         {
          "nugget_ids": [
           "EQ029-N26"
          ],
          "sentence_id": "us0qpw0m-C000-S010"
         },
         {
          "nugget_ids": [
           "EQ029-N26"
          ],
          "sentence_id": "w1ep0wq8-C004-S001"
         },
         {
          "nugget_ids": [
           "EQ029-N26",
           "EQ029-N28"
          ],
          "sentence_id": "w1ep0wq8-C004-S002"
         },
         {
          "nugget_ids": [
           "EQ029-N26"
          ],
          "sentence_id": "w1ep0wq8-C004-S003"
         },
         {
          "nugget_ids": [
           "EQ029-N12",
           "EQ029-N15"
          ],
          "sentence_id": "w1ep0wq8-C004-S007"
         },
         {
          "nugget_ids": [
           "EQ029-N15",
           "EQ029-N12"
          ],
          "sentence_id": "w1ep0wq8-C004-S008"
         },
         {
          "nugget_ids": [
           "EQ029-N26",
           "EQ029-N28"
          ],
          "sentence_id": "wgfhjfiz-C000-S003"
         },
         {
          "nugget_ids": [
           "EQ029-N26",
           "EQ029-N28"
          ],
          "sentence_id": "wgfhjfiz-C000-S004"
         },
         {
          "nugget_ids": [
           "EQ029-N34",
           "EQ029-N28",
           "EQ029-N26"
          ],
          "sentence_id": "wgfhjfiz-C000-S005"
         },
         {
          "nugget_ids": [
           "EQ029-N26",
           "EQ029-N34"
          ],
          "sentence_id": "wgfhjfiz-C000-S006"
         },
         {
          "nugget_ids": [
           "EQ029-N28",
           "EQ029-N26",
           "EQ029-N34"
          ],
          "sentence_id": "wgfhjfiz-C000-S008"
         },
         {
          "nugget_ids": [
           "EQ029-N28",
           "EQ029-N26",
           "EQ029-N34"
          ],
          "sentence_id": "wgfhjfiz-C000-S007"
         },
         {
          "nugget_ids": [
           "EQ029-N26",
           "EQ029-N28",
           "EQ029-N34"
          ],
          "sentence_id": "wgfhjfiz-C000-S009"
         },
         {
          "nugget_ids": [
           "EQ029-N33",
           "EQ029-N92",
           "EQ029-N16",
           "EQ029-N93",
           "EQ029-N15"
          ],
          "sentence_id": "zb434ve3-C010-S000"
         },
         {
          "nugget_ids": [
           "EQ029-N12",
           "EQ029-N92",
           "EQ029-N15"
          ],
          "sentence_id": "zb434ve3-C010-S003"
         }
        ],
        "nuggets": [
         {
          "nugget": "efavirenz",
          "nugget_id": "EQ029-N93"
         },
         {
          "nugget": "atazanavir",
          "nugget_id": "EQ029-N92"
         },
         {
          "nugget": "lopinavir",
          "nugget_id": "EQ029-N91"
         },
         {
          "nugget": "sunitinib",
          "nugget_id": "EQ029-N90"
         },
         {
          "nugget": "pazopanib",
          "nugget_id": "EQ029-N89"
         },
         {
          "nugget": "dasatinib",
          "nugget_id": "EQ029-N88"
         },
         {
          "nugget": "axitinib",
          "nugget_id": "EQ029-N87"
         },
         {
          "nugget": "bictegravir",
          "nugget_id": "EQ029-N86"
         },
         {
          "nugget": "dolutegravir",
          "nugget_id": "EQ029-N85"
         },
         {
          "nugget": "raltegravir",
          "nugget_id": "EQ029-N84"
         },
         {
          "nugget": "maraviroc (MVC)",
          "nugget_id": "EQ029-N83"
         },
         {
          "nugget": "glecaprevir",
          "nugget_id": "EQ029-N82"
         },
         {
          "nugget": "darunavir",
          "nugget_id": "EQ029-N81"
         },
         {
          "nugget": "isoacteoside",
          "nugget_id": "EQ029-N80"
         },
         {
          "nugget": "cannabisin A",
          "nugget_id": "EQ029-N79"
         },
         {
          "nugget": "mefloquine",
          "nugget_id": "EQ029-N78"
         },
         {
          "nugget": "selamectin",
          "nugget_id": "EQ029-N77"
         },
         {
          "nugget": "nicotinamide",
          "nugget_id": "EQ029-N76"
         },
         {
          "nugget": "vitamin B12",
          "nugget_id": "EQ029-N75"
         },
         {
          "nugget": "telbivudine",
          "nugget_id": "EQ029-N74"
         },
         {
          "nugget": "ribavirin",
          "nugget_id": "EQ029-N73"
         },
         {
          "nugget": "Coenzyme A",
          "nugget_id": "EQ029-N72"
         },
         {
          "nugget": "Flavin Adenine Dinucleotide (FAD) Adeflavin",
          "nugget_id": "EQ029-N71"
         },
         {
          "nugget": "Saquinavir",
          "nugget_id": "EQ029-N70"
         },
         {
          "nugget": "Zanamivir",
          "nugget_id": "EQ029-N69"
         },
         {
          "nugget": "CGP-60474",
          "nugget_id": "EQ029-N68"
         },
         {
          "nugget": "COL-3",
          "nugget_id": "EQ029-N67"
         },
         {
          "nugget": "artenimol",
          "nugget_id": "EQ029-N66"
         },
         {
          "nugget": "quercetin",
          "nugget_id": "EQ029-N65"
         },
         {
          "nugget": "proline",
          "nugget_id": "EQ029-N64"
         },
         {
          "nugget": "vicriviroc",
          "nugget_id": "EQ029-N63"
         },
         {
          "nugget": "maraviroc",
          "nugget_id": "EQ029-N62"
         },
         {
          "nugget": "ketoprofen",
          "nugget_id": "EQ029-N61"
         },
         {
          "nugget": "framycetin",
          "nugget_id": "EQ029-N60"
         },
         {
          "nugget": "ruplizumab",
          "nugget_id": "EQ029-N59"
         },
         {
          "nugget": "N-formylmethionine",
          "nugget_id": "EQ029-N58"
         },
         {
          "nugget": "myricetin",
          "nugget_id": "EQ029-N57"
         },
         {
          "nugget": "abacavir",
          "nugget_id": "EQ029-N56"
         },
         {
          "nugget": "cefazolin",
          "nugget_id": "EQ029-N55"
         },
         {
          "nugget": "ibalizumab",
          "nugget_id": "EQ029-N54"
         },
         {
          "nugget": "olsalazine",
          "nugget_id": "EQ029-N53"
         },
         {
          "nugget": "siltuximab",
          "nugget_id": "EQ029-N52"
         },
         {
          "nugget": "golimumab",
          "nugget_id": "EQ029-N51"
         },
         {
          "nugget": "afelimomab",
          "nugget_id": "EQ029-N50"
         },
         {
          "nugget": "pranlukast",
          "nugget_id": "EQ029-N49"
         },
         {
          "nugget": "clenbuterol",
          "nugget_id": "EQ029-N48"
         },
         {
          "nugget": "thalidomide",
          "nugget_id": "EQ029-N47"
         },
         {
          "nugget": "epinephrine",
          "nugget_id": "EQ029-N46"
         },
         {
          "nugget": "infliximab",
          "nugget_id": "EQ029-N45"
         },
         {
          "nugget": "adalimumab",
          "nugget_id": "EQ029-N44"
         },
         {
          "nugget": "etanercept",
          "nugget_id": "EQ029-N43"
         },
         {
          "nugget": "tapinarof",
          "nugget_id": "EQ029-N42"
         },
         {
          "nugget": "YSIL6",
          "nugget_id": "EQ029-N41"
         },
         {
          "nugget": "atiprimod",
          "nugget_id": "EQ029-N40"
         },
         {
          "nugget": "andrographolide",
          "nugget_id": "EQ029-N39"
         },
         {
          "nugget": "pseudoephedrine",
          "nugget_id": "EQ029-N38"
         },
         {
          "nugget": "grazoprevir",
          "nugget_id": "EQ029-N37"
         },
         {
          "nugget": "elbasvir",
          "nugget_id": "EQ029-N36"
         },
         {
          "nugget": "Kaletra",
          "nugget_id": "EQ029-N35"
         },
         {
          "nugget": "heparin (HP)",
          "nugget_id": "EQ029-N34"
         },
         {
          "nugget": "3C-like protease (3CL pro) domain",
          "nugget_id": "EQ029-N33"
         },
         {
          "nugget": "papain-like protease (PL pro ) domain",
          "nugget_id": "EQ029-N32"
         },
         {
          "nugget": "cathepsin L",
          "nugget_id": "EQ029-N31"
         },
         {
          "nugget": "TPC2",
          "nugget_id": "EQ029-N30"
         },
         {
          "nugget": "PIKfyve",
          "nugget_id": "EQ029-N29"
         },
         {
          "nugget": "angiotensin converting enzyme 2 (hACE2)",
          "nugget_id": "EQ029-N28"
         },
         {
          "nugget": "toll-like receptor 4 (TLR4)",
          "nugget_id": "EQ029-N27"
         },
         {
          "nugget": "spike glycoprotein SARS-CoV-2",
          "nugget_id": "EQ029-N26"
         },
         {
          "nugget": "limonin",
          "nugget_id": "EQ029-N25"
         },
         {
          "nugget": "meplazumab",
          "nugget_id": "EQ029-N24"
         },
         {
          "nugget": "metuzumab",
          "nugget_id": "EQ029-N23"
         },
         {
          "nugget": "metuximab",
          "nugget_id": "EQ029-N22"
         },
         {
          "nugget": "CD147-antagonistic peptide (AP)-9",
          "nugget_id": "EQ029-N21"
         },
         {
          "nugget": "cefuroxime",
          "nugget_id": "EQ029-N20"
         },
         {
          "nugget": "paritaprevir",
          "nugget_id": "EQ029-N19"
         },
         {
          "nugget": "CGP42112A",
          "nugget_id": "EQ029-N18"
         },
         {
          "nugget": "methisazone",
          "nugget_id": "EQ029-N17"
         },
         {
          "nugget": "remdesivir",
          "nugget_id": "EQ029-N16"
         },
         {
          "nugget": "ritonavir",
          "nugget_id": "EQ029-N15"
         },
         {
          "nugget": "indinavir",
          "nugget_id": "EQ029-N14"
         },
         {
          "nugget": "asunaprevir",
          "nugget_id": "EQ029-N13"
         },
         {
          "nugget": "lopinavir",
          "nugget_id": "EQ029-N12"
         },
         {
          "nugget": "hydroxychloroquine",
          "nugget_id": "EQ029-N11"
         },
         {
          "nugget": "chloroquine",
          "nugget_id": "EQ029-N10"
         },
         {
          "nugget": "mefloquine hydrochloride",
          "nugget_id": "EQ029-N09"
         },
         {
          "nugget": "selamectin",
          "nugget_id": "EQ029-N08"
         },
         {
          "nugget": "cepharanthine (CEP)",
          "nugget_id": "EQ029-N07"
         },
         {
          "nugget": "spike protein of pangolin coronavirus GX_P2V",
          "nugget_id": "EQ029-N06"
         },
         {
          "nugget": "SARS-CoV-2-S1",
          "nugget_id": "EQ029-N05"
         },
         {
          "nugget": "ibuprofen",
          "nugget_id": "EQ029-N04"
         },
         {
          "nugget": "hydroxychloroquine-SARS-CoV-2 helicase",
          "nugget_id": "EQ029-N03"
         },
         {
          "nugget": "favipiravir-SARS-CoV-2 helicase",
          "nugget_id": "EQ029-N02"
         },
         {
          "nugget": "SARS-CoV-2 helicase",
          "nugget_id": "EQ029-N01"
         },
         {
          "nugget": "SARS-CoV-2-S RBD and DPP4",
          "nugget_id": "EQ029-N00"
         }
        ],
        "question_id": "EQ029"
       },
       {
        "annotations": [
         {
          "nugget_ids": [
           "CQ029-N00",
           "CQ029-N01",
           "CQ029-N02"
          ],
          "sentence_id": "2df2dc3d8b76620f4ec17069986e7b182f59072d-C023-S002"
         },
         {
          "nugget_ids": [
           "CQ029-N00"
          ],
          "sentence_id": "2df2dc3d8b76620f4ec17069986e7b182f59072d-C023-S005"
         },
         {
          "nugget_ids": [
           "CQ029-N00"
          ],
          "sentence_id": "2df2dc3d8b76620f4ec17069986e7b182f59072d-C023-S006"
         },
         {
          "nugget_ids": [
           "CQ029-N03"
          ],
          "sentence_id": "2df2dc3d8b76620f4ec17069986e7b182f59072d-C047-S000"
         },
         {
          "nugget_ids": [
           "CQ029-N03"
          ],
          "sentence_id": "2df2dc3d8b76620f4ec17069986e7b182f59072d-C009-S003"
         },
         {
          "nugget_ids": [
           "CQ029-N04",
           "CQ029-N05"
          ],
          "sentence_id": "2df2dc3d8b76620f4ec17069986e7b182f59072d-C009-S008"
         },
         {
          "nugget_ids": [
           "CQ029-N00"
          ],
          "sentence_id": "2df2dc3d8b76620f4ec17069986e7b182f59072d-C009-S013"
         },
         {
          "nugget_ids": [
           "CQ029-N03"
          ],
          "sentence_id": "2df2dc3d8b76620f4ec17069986e7b182f59072d-C022-S007"
         },
         {
          "nugget_ids": [
           "CQ029-N06"
          ],
          "sentence_id": "2df2dc3d8b76620f4ec17069986e7b182f59072d-C022-S002"
         },
         {
          "nugget_ids": [
           "CQ029-N06"
          ],
          "sentence_id": "2df2dc3d8b76620f4ec17069986e7b182f59072d-C022-S003"
         },
         {
          "nugget_ids": [
           "CQ029-N04",
           "CQ029-N05"
          ],
          "sentence_id": "2df2dc3d8b76620f4ec17069986e7b182f59072d-C022-S012"
         },
         {
          "nugget_ids": [
           "CQ029-N00",
           "CQ029-N01",
           "CQ029-N02"
          ],
          "sentence_id": "2df2dc3d8b76620f4ec17069986e7b182f59072d-C049-S000"
         },
         {
          "nugget_ids": [
           "CQ029-N00"
          ],
          "sentence_id": "2df2dc3d8b76620f4ec17069986e7b182f59072d-C049-S003"
         },
         {
          "nugget_ids": [
           "CQ029-N03"
          ],
          "sentence_id": "3c1fcdf12bf53c47f76b573dd52d440fe1a7a8aa-C015-S002"
         },
         {
          "nugget_ids": [
           "CQ029-N04",
           "CQ029-N05"
          ],
          "sentence_id": "3c1fcdf12bf53c47f76b573dd52d440fe1a7a8aa-C008-S000"
         },
         {
          "nugget_ids": [
           "CQ029-N00"
          ],
          "sentence_id": "3c1fcdf12bf53c47f76b573dd52d440fe1a7a8aa-C008-S003"
         },
         {
          "nugget_ids": [
           "CQ029-N00"
          ],
          "sentence_id": "3c1fcdf12bf53c47f76b573dd52d440fe1a7a8aa-C008-S004"
         },
         {
          "nugget_ids": [
           "CQ029-N08"
          ],
          "sentence_id": "da4b78ce412fbc1076a0a9768817df33b977cec4-C009-S000"
         },
         {
          "nugget_ids": [
           "CQ029-N09"
          ],
          "sentence_id": "da4b78ce412fbc1076a0a9768817df33b977cec4-C009-S001"
         },
         {
          "nugget_ids": [
           "CQ029-N09"
          ],
          "sentence_id": "da4b78ce412fbc1076a0a9768817df33b977cec4-C009-S002"
         },
         {
          "nugget_ids": [
           "CQ029-N08",
           "CQ029-N03"
          ],
          "sentence_id": "e62ce07b30f413637130df1c73bc482dcbd44f6d-C005-S000"
         },
         {
          "nugget_ids": [
           "CQ029-N08"
          ],
          "sentence_id": "e62ce07b30f413637130df1c73bc482dcbd44f6d-C005-S001"
         },
         {
          "nugget_ids": [
           "CQ029-N03"
          ],
          "sentence_id": "e62ce07b30f413637130df1c73bc482dcbd44f6d-C005-S002"
         },
         {
          "nugget_ids": [
           "CQ029-N03"
          ],
          "sentence_id": "e62ce07b30f413637130df1c73bc482dcbd44f6d-C005-S003"
         },
         {
          "nugget_ids": [
           "CQ029-N03"
          ],
          "sentence_id": "f3da0670aab53b2c0c479241acbdd5dfad116c00-C003-S000"
         },
         {
          "nugget_ids": [
           "CQ029-N10",
           "CQ029-N11"
          ],
          "sentence_id": "f3da0670aab53b2c0c479241acbdd5dfad116c00-C002-S001"
         },
         {
          "nugget_ids": [
           "CQ029-N10",
           "CQ029-N11"
          ],
          "sentence_id": "f3da0670aab53b2c0c479241acbdd5dfad116c00-C002-S003"
         },
         {
          "nugget_ids": [
           "CQ029-N10",
           "CQ029-N11"
          ],
          "sentence_id": "f3da0670aab53b2c0c479241acbdd5dfad116c00-C002-S004"
         }
        ],
        "nuggets": [
         {
          "nugget": "chloroquine",
          "nugget_id": "CQ029-N11"
         },
         {
          "nugget": "hydroxychloroquine",
          "nugget_id": "CQ029-N10"
         },
         {
          "nugget": "remdesivir",
          "nugget_id": "CQ029-N09"
         },
         {
          "nugget": "lopinavir-ritonavir",
          "nugget_id": "CQ029-N08"
         },
         {
          "nugget": "corticosteroids",
          "nugget_id": "CQ029-N07"
         },
         {
          "nugget": "antibiotics",
          "nugget_id": "CQ029-N06"
         },
         {
          "nugget": "angiotensin receptor blockers (ARB)",
          "nugget_id": "CQ029-N05"
         },
         {
          "nugget": "angiotensin converting enzyme inhibitors (ACE-I)",
          "nugget_id": "CQ029-N04"
         },
         {
          "nugget": "antiviral drugs",
          "nugget_id": "CQ029-N03"
         },
         {
          "nugget": "naproxen",
          "nugget_id": "CQ029-N02"
         },
         {
          "nugget": "ibuprofen",
          "nugget_id": "CQ029-N01"
         },
         {
          "nugget": "nonsteroidal anti-inflammatory drugs (NSAIDs)",
          "nugget_id": "CQ029-N00"
         }
        ],
        "question_id": "CQ029"
       },
       {
        "annotations": [
         {
          "nugget_ids": [
           "EQ018-N09"
          ],
          "sentence_id": "05vx82oo-C007-S002"
         },
         {
          "nugget_ids": [
           "EQ018-N08"
          ],
          "sentence_id": "1ybj2p1n-C027-S002"
         },
         {
          "nugget_ids": [
           "EQ018-N09"
          ],
          "sentence_id": "3rqrq2mg-C010-S001"
         },
         {
          "nugget_ids": [
           "EQ018-N09"
          ],
          "sentence_id": "41gd7rug-C001-S013"
         },
         {
          "nugget_ids": [
           "EQ018-N09"
          ],
          "sentence_id": "41gd7rug-C001-S001"
         },
         {
          "nugget_ids": [
           "EQ018-N00"
          ],
          "sentence_id": "43gik8e3-C014-S003"
         },
         {
          "nugget_ids": [
           "EQ018-N03"
          ],
          "sentence_id": "6dq8xx7c-C046-S003"
         },
         {
          "nugget_ids": [
           "EQ018-N00"
          ],
          "sentence_id": "8ko7mmu3-C027-S003"
         },
         {
          "nugget_ids": [
           "EQ018-N09"
          ],
          "sentence_id": "8ssh7dcx-C001-S003"
         },
         {
          "nugget_ids": [
           "EQ018-N09"
          ],
          "sentence_id": "99doz9m6-C039-S000"
         },
         {
          "nugget_ids": [
           "EQ018-N00"
          ],
          "sentence_id": "a0k4o3v3-C007-S000"
         },
         {
          "nugget_ids": [
           "EQ018-N00"
          ],
          "sentence_id": "cukhr8zk-C032-S001"
         },
         {
          "nugget_ids": [
           "EQ018-N05"
          ],
          "sentence_id": "e05ae0kl-C000-S009"
         },
         {
          "nugget_ids": [
           "EQ018-N00"
          ],
          "sentence_id": "fa95j6be-C013-S007"
         },
         {
          "nugget_ids": [
           "EQ018-N00"
          ],
          "sentence_id": "e31ff6s0-C011-S002"
         },
         {
          "nugget_ids": [
           "EQ018-N09"
          ],
          "sentence_id": "ea88olv5-C011-S000"
         },
         {
          "nugget_ids": [
           "EQ018-N00"
          ],
          "sentence_id": "ed6wdbcb-C004-S000"
         },
         {
          "nugget_ids": [
           "EQ018-N05"
          ],
          "sentence_id": "qwngx01h-C002-S004"
         },
         {
          "nugget_ids": [
           "EQ018-N00"
          ],
          "sentence_id": "hq0owf31-C045-S001"
         },
         {
          "nugget_ids": [
           "EQ018-N05"
          ],
          "sentence_id": "i3occcxu-C002-S007"
         },
         {
          "nugget_ids": [
           "EQ018-N04"
          ],
          "sentence_id": "jmf45tdu-C004-S010"
         },
         {
          "nugget_ids": [
           "EQ018-N04"
          ],
          "sentence_id": "jmf45tdu-C004-S009"
         },
         {
          "nugget_ids": [
           "EQ018-N04"
          ],
          "sentence_id": "jmf45tdu-C004-S006"
         },
         {
          "nugget_ids": [
           "EQ018-N00"
          ],
          "sentence_id": "kqmlw4on-C001-S006"
         },
         {
          "nugget_ids": [
           "EQ018-N04"
          ],
          "sentence_id": "bm99zrxz-C032-S000"
         },
         {
          "nugget_ids": [
           "EQ018-N01"
          ],
          "sentence_id": "l8y9r8cp-C001-S010"
         },
         {
          "nugget_ids": [
           "EQ018-N00"
          ],
          "sentence_id": "mg9snelc-C004-S006"
         },
         {
          "nugget_ids": [
           "EQ018-N00"
          ],
          "sentence_id": "mg9snelc-C004-S007"
         },
         {
          "nugget_ids": [
           "EQ018-N09"
          ],
          "sentence_id": "mpr3xb2a-C008-S001"
         },
         {
          "nugget_ids": [
           "EQ018-N00"
          ],
          "sentence_id": "n5bqf6rj-C045-S002"
         },
         {
          "nugget_ids": [
           "EQ018-N09"
          ],
          "sentence_id": "0ma2oiez-C001-S000"
         },
         {
          "nugget_ids": [
           "EQ018-N00"
          ],
          "sentence_id": "oi290bsa-C001-S008"
         },
         {
          "nugget_ids": [
           "EQ018-N07"
          ],
          "sentence_id": "qmg3hmro-C002-S003"
         },
         {
          "nugget_ids": [
           "EQ018-N05"
          ],
          "sentence_id": "qmg3hmro-C000-S002"
         },
         {
          "nugget_ids": [
           "EQ018-N02"
          ],
          "sentence_id": "qmg3hmro-C005-S005"
         },
         {
          "nugget_ids": [
           "EQ018-N09"
          ],
          "sentence_id": "r0ztgces-C012-S002"
         },
         {
          "nugget_ids": [
           "EQ018-N07"
          ],
          "sentence_id": "ropgq7tr-C019-S002"
         },
         {
          "nugget_ids": [
           "EQ018-N09"
          ],
          "sentence_id": "rqw9jir0-C000-S003"
         },
         {
          "nugget_ids": [
           "EQ018-N09"
          ],
          "sentence_id": "4hlvrfeh-C018-S001"
         },
         {
          "nugget_ids": [
           "EQ018-N09"
          ],
          "sentence_id": "g592dfyz-C025-S002"
         },
         {
          "nugget_ids": [
           "EQ018-N09"
          ],
          "sentence_id": "g592dfyz-C024-S000"
         },
         {
          "nugget_ids": [
           "EQ018-N00"
          ],
          "sentence_id": "timdk5qw-C004-S003"
         },
         {
          "nugget_ids": [
           "EQ018-N07"
          ],
          "sentence_id": "ujk48pe7-C000-S001"
         },
         {
          "nugget_ids": [
           "EQ018-N03"
          ],
          "sentence_id": "v4icuf5z-C007-S005"
         },
         {
          "nugget_ids": [
           "EQ018-N10"
          ],
          "sentence_id": "ve34oyz0-C000-S003"
         },
         {
          "nugget_ids": [
           "EQ018-N00"
          ],
          "sentence_id": "vjg2auh7-C009-S002"
         },
         {
          "nugget_ids": [
           "EQ018-N10"
          ],
          "sentence_id": "vo2jmu3v-C004-S000"
         },
         {
          "nugget_ids": [
           "EQ018-N00"
          ],
          "sentence_id": "vpodtbjk-C043-S003"
         },
         {
          "nugget_ids": [
           "EQ018-N00"
          ],
          "sentence_id": "w30flf42-C001-S004"
         },
         {
          "nugget_ids": [
           "EQ018-N01"
          ],
          "sentence_id": "wni08lks-C000-S000"
         },
         {
          "nugget_ids": [
           "EQ018-N03"
          ],
          "sentence_id": "wqs1k0os-C007-S001"
         },
         {
          "nugget_ids": [
           "EQ018-N01"
          ],
          "sentence_id": "xj7xxxpd-C030-S008"
         },
         {
          "nugget_ids": [
           "EQ018-N09"
          ],
          "sentence_id": "rpq62xhl-C038-S000"
         },
         {
          "nugget_ids": [
           "EQ018-N08"
          ],
          "sentence_id": "xn8jzzsd-C001-S001"
         },
         {
          "nugget_ids": [
           "EQ018-N05"
          ],
          "sentence_id": "xx5xbjqu-C005-S005"
         },
         {
          "nugget_ids": [
           "EQ018-N00"
          ],
          "sentence_id": "xx5xbjqu-C001-S005"
         },
         {
          "nugget_ids": [
           "EQ018-N05"
          ],
          "sentence_id": "yxnss3td-C001-S002"
         },
         {
          "nugget_ids": [
           "EQ018-N05"
          ],
          "sentence_id": "z68tl88x-C009-S000"
         },
         {
          "nugget_ids": [
           "EQ018-N09"
          ],
          "sentence_id": "z68tl88x-C005-S000"
         },
         {
          "nugget_ids": [
           "EQ018-N00"
          ],
          "sentence_id": "zwyueevh-C002-S014"
         }
        ],
        "nuggets": [
         {
          "nugget": "mask fit",
          "nugget_id": "EQ018-N10"
         },
         {
          "nugget": "efficacy to prevent coronavirus infection",
          "nugget_id": "EQ018-N09"
         },
         {
          "nugget": "respiratory protective equipment",
          "nugget_id": "EQ018-N08"
         },
         {
          "nugget": "disposable surgical masks",
          "nugget_id": "EQ018-N07"
         },
         {
          "nugget": "The valved masks",
          "nugget_id": "EQ018-N06"
         },
         {
          "nugget": "surgical facemasks",
          "nugget_id": "EQ018-N05"
         },
         {
          "nugget": "powered air-purifying respirator (PAPR)",
          "nugget_id": "EQ018-N04"
         },
         {
          "nugget": "FFP2 or FFP3 masks",
          "nugget_id": "EQ018-N03"
         },
         {
          "nugget": "high efficiency particulate air (HEPA) mask",
          "nugget_id": "EQ018-N02"
         },
         {
          "nugget": "cloth masks",
          "nugget_id": "EQ018-N01"
         },
         {
          "nugget": "N95 mask",
          "nugget_id": "EQ018-N00"
         }
        ],
        "question_id": "EQ018"
       },
       {
        "annotations": [
         {
          "nugget_ids": [
           "CQ018-N02"
          ],
          "sentence_id": "23b4685a1661e851a7becff421977c89dc176c82-C024-S000"
         },
         {
          "nugget_ids": [
           "CQ018-N02"
          ],
          "sentence_id": "26d1f032121b2d58b84da79ed23f3f2a9afb6c0b-C004-S001"
         },
         {
          "nugget_ids": [
           "CQ018-N00"
          ],
          "sentence_id": "2df2dc3d8b76620f4ec17069986e7b182f59072d-C020-S001"
         },
         {
          "nugget_ids": [
           "CQ018-N00"
          ],
          "sentence_id": "2df2dc3d8b76620f4ec17069986e7b182f59072d-C006-S012"
         },
         {
          "nugget_ids": [
           "CQ018-N02"
          ],
          "sentence_id": "2e25a0835431c703fdec033c87934dbbb5d0b9ee-C004-S009"
         },
         {
          "nugget_ids": [
           "CQ018-N00"
          ],
          "sentence_id": "2e25a0835431c703fdec033c87934dbbb5d0b9ee-C003-S004"
         },
         {
          "nugget_ids": [
           "CQ018-N00"
          ],
          "sentence_id": "2e25a0835431c703fdec033c87934dbbb5d0b9ee-C005-S004"
         },
         {
          "nugget_ids": [
           "CQ018-N02"
          ],
          "sentence_id": "4bca29834882ae8cfbcbf309787338a9967cffb9-C054-S000"
         },
         {
          "nugget_ids": [
           "CQ018-N02"
          ],
          "sentence_id": "851dda52be5053e703f16b74e432375beb8a3d11-C007-S001"
         },
         {
          "nugget_ids": [
           "CQ018-N02"
          ],
          "sentence_id": "894b2b2ed16bce16bc7875699f9b574959c15fba-C003-S007"
         },
         {
          "nugget_ids": [
           "CQ018-N02"
          ],
          "sentence_id": "95534418522ff422077fa28cb7dd5e824d6841a4-C110-S004"
         },
         {
          "nugget_ids": [
           "CQ018-N02"
          ],
          "sentence_id": "95534418522ff422077fa28cb7dd5e824d6841a4-C049-S013"
         },
         {
          "nugget_ids": [
           "CQ018-N02"
          ],
          "sentence_id": "95534418522ff422077fa28cb7dd5e824d6841a4-C072-S010"
         },
         {
          "nugget_ids": [
           "CQ018-N02"
          ],
          "sentence_id": "95534418522ff422077fa28cb7dd5e824d6841a4-C054-S001"
         },
         {
          "nugget_ids": [
           "CQ018-N02"
          ],
          "sentence_id": "95534418522ff422077fa28cb7dd5e824d6841a4-C050-S000"
         },
         {
          "nugget_ids": [
           "CQ018-N02"
          ],
          "sentence_id": "95534418522ff422077fa28cb7dd5e824d6841a4-C012-S011"
         },
         {
          "nugget_ids": [
           "CQ018-N02"
          ],
          "sentence_id": "95f514cc105df05eede5c86cf2fb5d8f15ad73d8-C011-S000"
         },
         {
          "nugget_ids": [
           "CQ018-N02"
          ],
          "sentence_id": "95f514cc105df05eede5c86cf2fb5d8f15ad73d8-C012-S000"
         },
         {
          "nugget_ids": [
           "CQ018-N02"
          ],
          "sentence_id": "c2ac3a7dfec12c7e02decfd1aaa792d11f272928-C003-S000"
         },
         {
          "nugget_ids": [
           "CQ018-N02"
          ],
          "sentence_id": "c2ac3a7dfec12c7e02decfd1aaa792d11f272928-C002-S000"
         },
         {
          "nugget_ids": [
           "CQ018-N02"
          ],
          "sentence_id": "ca125e26bfbe3a569d39326604ba25970f504b70-C001-S001"
         },
         {
          "nugget_ids": [
           "CQ018-N02"
          ],
          "sentence_id": "ca125e26bfbe3a569d39326604ba25970f504b70-C001-S006"
         },
         {
          "nugget_ids": [
           "CQ018-N03"
          ],
          "sentence_id": "d41908a7cbbe0074732c9f70548cc3bd87e5e0ad-C004-S001"
         },
         {
          "nugget_ids": [
           "CQ018-N02"
          ],
          "sentence_id": "d4d17cabccef152ad8f8e6d146eadbce0c86cbb5-C002-S001"
         },
         {
          "nugget_ids": [
           "CQ018-N02"
          ],
          "sentence_id": "ed24685d24edd81bac86bce51a4a93b1140efbb2-C011-S002"
         },
         {
          "nugget_ids": [
           "CQ018-N02"
          ],
          "sentence_id": "ed24685d24edd81bac86bce51a4a93b1140efbb2-C025-S000"
         },
         {
          "nugget_ids": [
           "CQ018-N02"
          ],
          "sentence_id": "ed24685d24edd81bac86bce51a4a93b1140efbb2-C025-S002"
         },
         {
          "nugget_ids": [
           "CQ018-N02"
          ],
          "sentence_id": "ed24685d24edd81bac86bce51a4a93b1140efbb2-C003-S009"
         },
         {
          "nugget_ids": [
           "CQ018-N02"
          ],
          "sentence_id": "ed24685d24edd81bac86bce51a4a93b1140efbb2-C003-S006"
         },
         {
          "nugget_ids": [
           "CQ018-N02"
          ],
          "sentence_id": "ed24685d24edd81bac86bce51a4a93b1140efbb2-C019-S014"
         },
         {
          "nugget_ids": [
           "CQ018-N02"
          ],
          "sentence_id": "ed24685d24edd81bac86bce51a4a93b1140efbb2-C019-S011"
         }
        ],
        "nuggets": [
         {
          "nugget": "medical face mask",
          "nugget_id": "CQ018-N05"
         },
         {
          "nugget": "surgical mask",
          "nugget_id": "CQ018-N04"
         },
         {
          "nugget": "home made mask",
          "nugget_id": "CQ018-N03"
         },
         {
          "nugget": "cloth face covering",
          "nugget_id": "CQ018-N02"
         },
         {
          "nugget": "air-purifying respirators",
          "nugget_id": "CQ018-N01"
         },
         {
          "nugget": "N95 respirators",
          "nugget_id": "CQ018-N00"
         }
        ],
        "question_id": "CQ018"
       },
       {
        "annotations": [
         {
          "nugget_ids": [
           "EQ020-N09"
          ],
          "sentence_id": "0x02bmti-C000-S013"
         },
         {
          "nugget_ids": [
           "EQ020-N01"
          ],
          "sentence_id": "0x02bmti-C000-S010"
         },
         {
          "nugget_ids": [
           "EQ020-N09"
          ],
          "sentence_id": "0x02bmti-C000-S012"
         },
         {
          "nugget_ids": [
           "EQ020-N02"
          ],
          "sentence_id": "10l12wgu-C022-S002"
         },
         {
          "nugget_ids": [
           "EQ020-N24",
           "EQ020-N05",
           "EQ020-N06"
          ],
          "sentence_id": "1g0mz73b-C001-S001"
         },
         {
          "nugget_ids": [
           "EQ020-N10"
          ],
          "sentence_id": "1kul8sbe-C005-S000"
         },
         {
          "nugget_ids": [
           "EQ020-N08"
          ],
          "sentence_id": "1kul8sbe-C005-S003"
         },
         {
          "nugget_ids": [
           "EQ020-N22"
          ],
          "sentence_id": "1kul8sbe-C005-S008"
         },
         {
          "nugget_ids": [
           "EQ020-N22"
          ],
          "sentence_id": "1kul8sbe-C005-S010"
         },
         {
          "nugget_ids": [
           "EQ020-N09",
           "EQ020-N10"
          ],
          "sentence_id": "1kul8sbe-C005-S011"
         },
         {
          "nugget_ids": [
           "EQ020-N10"
          ],
          "sentence_id": "38oeau38-C024-S000"
         },
         {
          "nugget_ids": [
           "EQ020-N17"
          ],
          "sentence_id": "3twud97m-C000-S007"
         },
         {
          "nugget_ids": [
           "EQ020-N02"
          ],
          "sentence_id": "6baw4hmt-C000-S003"
         },
         {
          "nugget_ids": [
           "EQ020-N10"
          ],
          "sentence_id": "6vajr6w7-C000-S012"
         },
         {
          "nugget_ids": [
           "EQ020-N00"
          ],
          "sentence_id": "8d6xxjgu-C000-S002"
         },
         {
          "nugget_ids": [
           "EQ020-N01"
          ],
          "sentence_id": "8d6xxjgu-C000-S003"
         },
         {
          "nugget_ids": [
           "EQ020-N04"
          ],
          "sentence_id": "ble3xfa3-C043-S000"
         },
         {
          "nugget_ids": [
           "EQ020-N00"
          ],
          "sentence_id": "bwfrjrr9-C000-S000"
         },
         {
          "nugget_ids": [
           "EQ020-N10"
          ],
          "sentence_id": "38oeau38-C024-S000"
         },
         {
          "nugget_ids": [
           "EQ020-N00"
          ],
          "sentence_id": "f48gflvs-C000-S000"
         },
         {
          "nugget_ids": [
           "EQ020-N22"
          ],
          "sentence_id": "fow7nqrx-C000-S008"
         },
         {
          "nugget_ids": [
           "EQ020-N10"
          ],
          "sentence_id": "fow7nqrx-C000-S003"
         },
         {
          "nugget_ids": [
           "EQ020-N07"
          ],
          "sentence_id": "jnp2ldcj-C008-S005"
         },
         {
          "nugget_ids": [
           "EQ020-N14"
          ],
          "sentence_id": "rjxwp3pi-C003-S013"
         },
         {
          "nugget_ids": [
           "EQ020-N21"
          ],
          "sentence_id": "rjxwp3pi-C003-S010"
         },
         {
          "nugget_ids": [
           "EQ020-N22"
          ],
          "sentence_id": "rjxwp3pi-C003-S002"
         },
         {
          "nugget_ids": [
           "EQ020-N15"
          ],
          "sentence_id": "rjxwp3pi-C003-S003"
         },
         {
          "nugget_ids": [
           "EQ020-N22",
           "EQ020-N09"
          ],
          "sentence_id": "rjxwp3pi-C003-S007"
         },
         {
          "nugget_ids": [
           "EQ020-N00"
          ],
          "sentence_id": "6kn4mr04-C009-S001"
         },
         {
          "nugget_ids": [
           "EQ020-N09"
          ],
          "sentence_id": "6kn4mr04-C009-S000"
         },
         {
          "nugget_ids": [
           "EQ020-N18"
          ],
          "sentence_id": "umoly45g-C000-S000"
         },
         {
          "nugget_ids": [
           "EQ020-N09"
          ],
          "sentence_id": "va34p27b-C000-S002"
         },
         {
          "nugget_ids": [
           "EQ020-N11"
          ],
          "sentence_id": "x0wqtlxh-C000-S003"
         },
         {
          "nugget_ids": [
           "EQ020-N00"
          ],
          "sentence_id": "x0wqtlxh-C000-S002"
         },
         {
          "nugget_ids": [
           "EQ020-N00"
          ],
          "sentence_id": "x0wqtlxh-C000-S001"
         },
         {
          "nugget_ids": [
           "EQ020-N16"
          ],
          "sentence_id": "xsutuwn0-C000-S001"
         },
         {
          "nugget_ids": [
           "EQ020-N00"
          ],
          "sentence_id": "38oeau38-C024-S001"
         },
         {
          "nugget_ids": [
           "EQ020-N10"
          ],
          "sentence_id": "38oeau38-C024-S000"
         },
         {
          "nugget_ids": [
           "EQ020-N11"
          ],
          "sentence_id": "ynias4ga-C007-S000"
         },
         {
          "nugget_ids": [
           "EQ020-N04"
          ],
          "sentence_id": "38oeau38-C027-S000"
         },
         {
          "nugget_ids": [
           "EQ020-N11"
          ],
          "sentence_id": "38oeau38-C024-S000"
         },
         {
          "nugget_ids": [
           "EQ020-N11"
          ],
          "sentence_id": "028avudf-C009-S008"
         }
        ],
        "nuggets": [
         {
          "nugget": "Modulate the ACE2",
          "nugget_id": "EQ020-N24"
         },
         {
          "nugget": "Standard therapy",
          "nugget_id": "EQ020-N23"
         },
         {
          "nugget": "Upregulating ACE2",
          "nugget_id": "EQ020-N22"
         },
         {
          "nugget": "Do not withdraw",
          "nugget_id": "EQ020-N21"
         },
         {
          "nugget": "Facilitating interaction and penetration",
          "nugget_id": "EQ020-N20"
         },
         {
          "nugget": "Counteract the effects of ACE",
          "nugget_id": "EQ020-N19"
         },
         {
          "nugget": "Protects against lung injury",
          "nugget_id": "EQ020-N18"
         },
         {
          "nugget": "Not associated with increased SARS-CoV-2",
          "nugget_id": "EQ020-N17"
         },
         {
          "nugget": "Should not stop prophylactically",
          "nugget_id": "EQ020-N16"
         },
         {
          "nugget": "Increase regulation of ACE2",
          "nugget_id": "EQ020-N15"
         },
         {
          "nugget": "Deleterious effects on morbidity and mortality",
          "nugget_id": "EQ020-N14"
         },
         {
          "nugget": "Worse prognosis",
          "nugget_id": "EQ020-N13"
         },
         {
          "nugget": "More prone",
          "nugget_id": "EQ020-N12"
         },
         {
          "nugget": "Not well studied",
          "nugget_id": "EQ020-N11"
         },
         {
          "nugget": "Increasing the risk",
          "nugget_id": "EQ020-N10"
         },
         {
          "nugget": "Entry of SARS-CoV-2 into the lung",
          "nugget_id": "EQ020-N09"
         },
         {
          "nugget": "ACE shows homology",
          "nugget_id": "EQ020-N08"
         },
         {
          "nugget": "Alternatives",
          "nugget_id": "EQ020-N07"
         },
         {
          "nugget": "ACE2 recognized as the target",
          "nugget_id": "EQ020-N06"
         },
         {
          "nugget": "Increase the cellular expression",
          "nugget_id": "EQ020-N05"
         },
         {
          "nugget": "Combination",
          "nugget_id": "EQ020-N04"
         },
         {
          "nugget": "Monotherapy",
          "nugget_id": "EQ020-N03"
         },
         {
          "nugget": "No significant increase",
          "nugget_id": "EQ020-N02"
         },
         {
          "nugget": "May increase",
          "nugget_id": "EQ020-N01"
         },
         {
          "nugget": "ACE2 receptor",
          "nugget_id": "EQ020-N00"
         }
        ],
        "question_id": "EQ020"
       },
       {
        "annotations": [
         {
          "nugget_ids": [
           "CQ020-N02"
          ],
          "sentence_id": "2df2dc3d8b76620f4ec17069986e7b182f59072d-C023-S006"
         },
         {
          "nugget_ids": [
           "CQ020-N02",
           "CQ020-N06"
          ],
          "sentence_id": "2df2dc3d8b76620f4ec17069986e7b182f59072d-C023-S000"
         },
         {
          "nugget_ids": [
           "CQ020-N05"
          ],
          "sentence_id": "2df2dc3d8b76620f4ec17069986e7b182f59072d-C023-S002"
         },
         {
          "nugget_ids": [
           "CQ020-N05"
          ],
          "sentence_id": "2df2dc3d8b76620f4ec17069986e7b182f59072d-C011-S000"
         },
         {
          "nugget_ids": [
           "CQ020-N06",
           "CQ020-N02"
          ],
          "sentence_id": "2df2dc3d8b76620f4ec17069986e7b182f59072d-C009-S011"
         },
         {
          "nugget_ids": [
           "CQ020-N03"
          ],
          "sentence_id": "2df2dc3d8b76620f4ec17069986e7b182f59072d-C009-S009"
         },
         {
          "nugget_ids": [
           "CQ020-N03"
          ],
          "sentence_id": "2df2dc3d8b76620f4ec17069986e7b182f59072d-C022-S013"
         },
         {
          "nugget_ids": [
           "CQ020-N07",
           "CQ020-N08"
          ],
          "sentence_id": "2df2dc3d8b76620f4ec17069986e7b182f59072d-C022-S012"
         },
         {
          "nugget_ids": [
           "CQ020-N06",
           "CQ020-N02"
          ],
          "sentence_id": "2df2dc3d8b76620f4ec17069986e7b182f59072d-C048-S003"
         },
         {
          "nugget_ids": [
           "CQ020-N07",
           "CQ020-N08"
          ],
          "sentence_id": "2df2dc3d8b76620f4ec17069986e7b182f59072d-C048-S000"
         },
         {
          "nugget_ids": [
           "CQ020-N03"
          ],
          "sentence_id": "2df2dc3d8b76620f4ec17069986e7b182f59072d-C048-S001"
         },
         {
          "nugget_ids": [
           "CQ020-N10"
          ],
          "sentence_id": "3c1fcdf12bf53c47f76b573dd52d440fe1a7a8aa-C008-S001"
         },
         {
          "nugget_ids": [
           "CQ020-N04"
          ],
          "sentence_id": "3c1fcdf12bf53c47f76b573dd52d440fe1a7a8aa-C008-S000"
         }
        ],
        "nuggets": [
         {
          "nugget": "ACE2 receptor",
          "nugget_id": "CQ020-N10"
         },
         {
          "nugget": "Increase the expression",
          "nugget_id": "CQ020-N09"
         },
         {
          "nugget": "No link between ARBs and COVID-19",
          "nugget_id": "CQ020-N08"
         },
         {
          "nugget": "No link between ACE-I and COVID-19",
          "nugget_id": "CQ020-N07"
         },
         {
          "nugget": "ACE-I or ARBs to treat chronic conditions",
          "nugget_id": "CQ020-N06"
         },
         {
          "nugget": "No available evidence",
          "nugget_id": "CQ020-N05"
         },
         {
          "nugget": "May increase the risk of SARS-CoV-2 infection",
          "nugget_id": "CQ020-N04"
         },
         {
          "nugget": "Continue taking ACE-I or ARBS",
          "nugget_id": "CQ020-N03"
         },
         {
          "nugget": "Individualized managemnt",
          "nugget_id": "CQ020-N02"
         },
         {
          "nugget": "ARBs",
          "nugget_id": "CQ020-N01"
         },
         {
          "nugget": "ACE Inhibitors",
          "nugget_id": "CQ020-N00"
         }
        ],
        "question_id": "CQ020"
       },
       {
        "annotations": [
         {
          "nugget_ids": [
           "EQ021-N13"
          ],
          "sentence_id": "0ie6tkgm-C009-S003"
         },
         {
          "nugget_ids": [
           "EQ021-N00"
          ],
          "sentence_id": "0ie6tkgm-C000-S000"
         },
         {
          "nugget_ids": [
           "EQ021-N28"
          ],
          "sentence_id": "0ie6tkgm-C000-S001"
         },
         {
          "nugget_ids": [
           "EQ021-N31"
          ],
          "sentence_id": "0ie6tkgm-C000-S002"
         },
         {
          "nugget_ids": [
           "EQ021-N13"
          ],
          "sentence_id": "xn11xd78-C2389-S001"
         },
         {
          "nugget_ids": [
           "EQ021-N10"
          ],
          "sentence_id": "xn11xd78-C2389-S002"
         },
         {
          "nugget_ids": [
           "EQ021-N05"
          ],
          "sentence_id": "xn11xd78-C1965-S002"
         },
         {
          "nugget_ids": [
           "EQ021-N29"
          ],
          "sentence_id": "0r0zdpds-C017-S000"
         },
         {
          "nugget_ids": [
           "EQ021-N29"
          ],
          "sentence_id": "0r0zdpds-C017-S001"
         },
         {
          "nugget_ids": [
           "EQ021-N00"
          ],
          "sentence_id": "2cwvga0k-C049-S005"
         },
         {
          "nugget_ids": [
           "EQ021-N31"
          ],
          "sentence_id": "6cgajmb8-C000-S008"
         },
         {
          "nugget_ids": [
           "EQ021-N09"
          ],
          "sentence_id": "6cgajmb8-C000-S009"
         },
         {
          "nugget_ids": [
           "EQ021-N10"
          ],
          "sentence_id": "6cgajmb8-C000-S010"
         },
         {
          "nugget_ids": [
           "EQ021-N11"
          ],
          "sentence_id": "6cgajmb8-C000-S011"
         },
         {
          "nugget_ids": [
           "EQ021-N31"
          ],
          "sentence_id": "6cgajmb8-C000-S012"
         },
         {
          "nugget_ids": [
           "EQ021-N06"
          ],
          "sentence_id": "6vgylu8n-C012-S003"
         },
         {
          "nugget_ids": [
           "EQ021-N12"
          ],
          "sentence_id": "9p0dsyqx-C000-S000"
         },
         {
          "nugget_ids": [
           "EQ021-N12"
          ],
          "sentence_id": "9p0dsyqx-C000-S001"
         },
         {
          "nugget_ids": [
           "EQ021-N12"
          ],
          "sentence_id": "9p0dsyqx-C000-S003"
         },
         {
          "nugget_ids": [
           "EQ021-N12"
          ],
          "sentence_id": "9p0dsyqx-C000-S004"
         },
         {
          "nugget_ids": [
           "EQ021-N16"
          ],
          "sentence_id": "9p0dsyqx-C000-S005"
         },
         {
          "nugget_ids": [
           "EQ021-N31"
          ],
          "sentence_id": "9p0dsyqx-C000-S006"
         },
         {
          "nugget_ids": [
           "EQ021-N37"
          ],
          "sentence_id": "9p0dsyqx-C000-S007"
         },
         {
          "nugget_ids": [
           "EQ021-N12"
          ],
          "sentence_id": "9p0dsyqx-C000-S009"
         },
         {
          "nugget_ids": [
           "EQ021-N27"
          ],
          "sentence_id": "arfz6224-C000-S000"
         },
         {
          "nugget_ids": [
           "EQ021-N11"
          ],
          "sentence_id": "b8tvdqp7-C000-S002"
         },
         {
          "nugget_ids": [
           "EQ021-N20"
          ],
          "sentence_id": "b8tvdqp7-C000-S005"
         },
         {
          "nugget_ids": [
           "EQ021-N31"
          ],
          "sentence_id": "cysj93kv-C000-S001"
         },
         {
          "nugget_ids": [
           "EQ021-N12"
          ],
          "sentence_id": "cysj93kv-C000-S004"
         },
         {
          "nugget_ids": [
           "EQ021-N28"
          ],
          "sentence_id": "cysj93kv-C000-S000"
         },
         {
          "nugget_ids": [
           "EQ021-N12"
          ],
          "sentence_id": "cysj93kv-C007-S000"
         },
         {
          "nugget_ids": [
           "EQ021-N13"
          ],
          "sentence_id": "g1l3gi3l-C001-S000"
         },
         {
          "nugget_ids": [
           "EQ021-N13"
          ],
          "sentence_id": "g1l3gi3l-C001-S001"
         },
         {
          "nugget_ids": [
           "EQ021-N13"
          ],
          "sentence_id": "g1l3gi3l-C001-S002"
         },
         {
          "nugget_ids": [
           "EQ021-N13"
          ],
          "sentence_id": "g1l3gi3l-C001-S010"
         },
         {
          "nugget_ids": [
           "EQ021-N13"
          ],
          "sentence_id": "g1l3gi3l-C001-S011"
         },
         {
          "nugget_ids": [
           "EQ021-N13"
          ],
          "sentence_id": "iygfzqx5-C000-S006"
         },
         {
          "nugget_ids": [
           "EQ021-N10"
          ],
          "sentence_id": "iygfzqx5-C000-S007"
         },
         {
          "nugget_ids": [
           "EQ021-N13"
          ],
          "sentence_id": "iygfzqx5-C000-S008"
         },
         {
          "nugget_ids": [
           "EQ021-N13"
          ],
          "sentence_id": "iygfzqx5-C000-S009"
         },
         {
          "nugget_ids": [
           "EQ021-N13"
          ],
          "sentence_id": "lizwiate-C000-S002"
         },
         {
          "nugget_ids": [
           "EQ021-N12"
          ],
          "sentence_id": "lizwiate-C000-S004"
         },
         {
          "nugget_ids": [
           "EQ021-N24"
          ],
          "sentence_id": "lizwiate-C000-S005"
         },
         {
          "nugget_ids": [
           "EQ021-N12"
          ],
          "sentence_id": "lizwiate-C000-S007"
         },
         {
          "nugget_ids": [
           "EQ021-N12"
          ],
          "sentence_id": "lizwiate-C000-S006"
         },
         {
          "nugget_ids": [
           "EQ021-N12"
          ],
          "sentence_id": "lizwiate-C000-S008"
         },
         {
          "nugget_ids": [
           "EQ021-N12"
          ],
          "sentence_id": "lywpbn1i-C000-S001"
         },
         {
          "nugget_ids": [
           "EQ021-N37"
          ],
          "sentence_id": "lywpbn1i-C000-S011"
         },
         {
          "nugget_ids": [
           "EQ021-N18"
          ],
          "sentence_id": "okomovsk-C000-S002"
         },
         {
          "nugget_ids": [
           "EQ021-N18"
          ],
          "sentence_id": "okomovsk-C000-S001"
         },
         {
          "nugget_ids": [
           "EQ021-N20"
          ],
          "sentence_id": "okomovsk-C000-S009"
         },
         {
          "nugget_ids": [
           "EQ021-N20"
          ],
          "sentence_id": "okomovsk-C000-S012"
         },
         {
          "nugget_ids": [
           "EQ021-N25"
          ],
          "sentence_id": "r0zu4sns-C000-S003"
         },
         {
          "nugget_ids": [
           "EQ021-N31"
          ],
          "sentence_id": "r0zu4sns-C000-S004"
         },
         {
          "nugget_ids": [
           "EQ021-N13"
          ],
          "sentence_id": "r9yngrra-C000-S002"
         },
         {
          "nugget_ids": [
           "EQ021-N13"
          ],
          "sentence_id": "r9yngrra-C000-S003"
         },
         {
          "nugget_ids": [
           "EQ021-N13"
          ],
          "sentence_id": "r9yngrra-C000-S005"
         },
         {
          "nugget_ids": [
           "EQ021-N13"
          ],
          "sentence_id": "r9yngrra-C000-S006"
         },
         {
          "nugget_ids": [
           "EQ021-N13"
          ],
          "sentence_id": "r9yngrra-C000-S007"
         },
         {
          "nugget_ids": [
           "EQ021-N13"
          ],
          "sentence_id": "r9yngrra-C000-S008"
         },
         {
          "nugget_ids": [
           "EQ021-N13"
          ],
          "sentence_id": "r9yngrra-C000-S009"
         },
         {
          "nugget_ids": [
           "EQ021-N13"
          ],
          "sentence_id": "r9yngrra-C000-S010"
         },
         {
          "nugget_ids": [
           "EQ021-N13"
          ],
          "sentence_id": "r9yngrra-C000-S001"
         },
         {
          "nugget_ids": [
           "EQ021-N09"
          ],
          "sentence_id": "trwbfefy-C000-S010"
         },
         {
          "nugget_ids": [
           "EQ021-N09"
          ],
          "sentence_id": "trwbfefy-C000-S011"
         },
         {
          "nugget_ids": [
           "EQ021-N26"
          ],
          "sentence_id": "trwbfefy-C000-S009"
         },
         {
          "nugget_ids": [
           "EQ021-N13"
          ],
          "sentence_id": "u7ub7i0l-C003-S001"
         },
         {
          "nugget_ids": [
           "EQ021-N28"
          ],
          "sentence_id": "u7ub7i0l-C000-S005"
         },
         {
          "nugget_ids": [
           "EQ021-N27"
          ],
          "sentence_id": "vwukiwe4-C002-S002"
         },
         {
          "nugget_ids": [
           "EQ021-N13"
          ],
          "sentence_id": "yw7psy0a-C001-S006"
         },
         {
          "nugget_ids": [
           "EQ021-N13"
          ],
          "sentence_id": "yw7psy0a-C001-S008"
         },
         {
          "nugget_ids": [
           "EQ021-N13"
          ],
          "sentence_id": "yw7psy0a-C001-S009"
         }
        ],
        "nuggets": [
         {
          "nugget": "elderly",
          "nugget_id": "EQ021-N37"
         },
         {
          "nugget": "aging",
          "nugget_id": "EQ021-N36"
         },
         {
          "nugget": "shortage of ventilators",
          "nugget_id": "EQ021-N35"
         },
         {
          "nugget": "shortages of ICU beds",
          "nugget_id": "EQ021-N34"
         },
         {
          "nugget": "higher mortality",
          "nugget_id": "EQ021-N33"
         },
         {
          "nugget": "raca specific",
          "nugget_id": "EQ021-N32"
         },
         {
          "nugget": "age-specific",
          "nugget_id": "EQ021-N31"
         },
         {
          "nugget": "sex-specific",
          "nugget_id": "EQ021-N30"
         },
         {
          "nugget": "Colder countries",
          "nugget_id": "EQ021-N29"
         },
         {
          "nugget": "sex and age categories",
          "nugget_id": "EQ021-N28"
         },
         {
          "nugget": "fatality ratio",
          "nugget_id": "EQ021-N27"
         },
         {
          "nugget": "latent mortality",
          "nugget_id": "EQ021-N26"
         },
         {
          "nugget": "case fatality risk",
          "nugget_id": "EQ021-N25"
         },
         {
          "nugget": "population-level mortality",
          "nugget_id": "EQ021-N24"
         },
         {
          "nugget": "number of deaths",
          "nugget_id": "EQ021-N23"
         },
         {
          "nugget": "mortality schedule to populations with different age and sex structures",
          "nugget_id": "EQ021-N22"
         },
         {
          "nugget": "growing number of series on COVID-19 deaths",
          "nugget_id": "EQ021-N21"
         },
         {
          "nugget": "in-hospital mortality",
          "nugget_id": "EQ021-N20"
         },
         {
          "nugget": "cumulative number of deaths",
          "nugget_id": "EQ021-N19"
         },
         {
          "nugget": "fatal outcomes",
          "nugget_id": "EQ021-N18"
         },
         {
          "nugget": "elderly longevity",
          "nugget_id": "EQ021-N17"
         },
         {
          "nugget": "mortality selection",
          "nugget_id": "EQ021-N16"
         },
         {
          "nugget": "deaths over population",
          "nugget_id": "EQ021-N15"
         },
         {
          "nugget": "deaths over observed infections",
          "nugget_id": "EQ021-N14"
         },
         {
          "nugget": "case-fatality rates",
          "nugget_id": "EQ021-N13"
         },
         {
          "nugget": "death rates",
          "nugget_id": "EQ021-N12"
         },
         {
          "nugget": "mortality risk",
          "nugget_id": "EQ021-N11"
         },
         {
          "nugget": "higher mortality",
          "nugget_id": "EQ021-N10"
         },
         {
          "nugget": "highest mortality",
          "nugget_id": "EQ021-N09"
         },
         {
          "nugget": "all-cause mortality",
          "nugget_id": "EQ021-N08"
         },
         {
          "nugget": "cohort mortality",
          "nugget_id": "EQ021-N07"
         },
         {
          "nugget": "high-mortality",
          "nugget_id": "EQ021-N06"
         },
         {
          "nugget": "low-mortality",
          "nugget_id": "EQ021-N05"
         },
         {
          "nugget": "heavy loses",
          "nugget_id": "EQ021-N04"
         },
         {
          "nugget": "many death",
          "nugget_id": "EQ021-N03"
         },
         {
          "nugget": "COVID-19 motality",
          "nugget_id": "EQ021-N02"
         },
         {
          "nugget": "IFR",
          "nugget_id": "EQ021-N01"
         },
         {
          "nugget": "infection fatality rate",
          "nugget_id": "EQ021-N00"
         }
        ],
        "question_id": "EQ021"
       },
       {
        "annotations": [
         {
          "nugget_ids": [
           "EQ036-N03"
          ],
          "sentence_id": "7ganlgm6-C004-S001"
         },
         {
          "nugget_ids": [
           "EQ036-N04"
          ],
          "sentence_id": "50hqr249-C000-S004"
         },
         {
          "nugget_ids": [
           "EQ036-N04"
          ],
          "sentence_id": "50hqr249-C000-S005"
         },
         {
          "nugget_ids": [
           "EQ036-N04"
          ],
          "sentence_id": "66qle52a-C000-S004"
         },
         {
          "nugget_ids": [
           "EQ036-N04"
          ],
          "sentence_id": "66qle52a-C000-S005"
         },
         {
          "nugget_ids": [
           "EQ036-N04"
          ],
          "sentence_id": "mvnkkcow-C011-S000"
         },
         {
          "nugget_ids": [
           "EQ036-N10"
          ],
          "sentence_id": "mvnkkcow-C011-S005"
         },
         {
          "nugget_ids": [
           "EQ036-N03"
          ],
          "sentence_id": "9sbrxzxu-C000-S004"
         },
         {
          "nugget_ids": [
           "EQ036-N03"
          ],
          "sentence_id": "m5ho8jqp-C005-S010"
         },
         {
          "nugget_ids": [
           "EQ036-N04"
          ],
          "sentence_id": "ah8uyfe7-C000-S005"
         },
         {
          "nugget_ids": [
           "EQ036-N04"
          ],
          "sentence_id": "ah8uyfe7-C000-S006"
         },
         {
          "nugget_ids": [
           "EQ036-N07"
          ],
          "sentence_id": "ah8uyfe7-C000-S007"
         },
         {
          "nugget_ids": [
           "EQ036-N04"
          ],
          "sentence_id": "ah8uyfe7-C000-S009"
         },
         {
          "nugget_ids": [
           "EQ036-N04"
          ],
          "sentence_id": "elo7kfun-C018-S001"
         },
         {
          "nugget_ids": [
           "EQ036-N12"
          ],
          "sentence_id": "ftyj42bz-C019-S002"
         },
         {
          "nugget_ids": [
           "EQ036-N12"
          ],
          "sentence_id": "g3hc043f-C021-S004"
         },
         {
          "nugget_ids": [
           "EQ036-N04"
          ],
          "sentence_id": "gf4o3n3z-C000-S003"
         },
         {
          "nugget_ids": [
           "EQ036-N04"
          ],
          "sentence_id": "gf4o3n3z-C000-S004"
         },
         {
          "nugget_ids": [
           "EQ036-N04"
          ],
          "sentence_id": "gf4o3n3z-C000-S005"
         },
         {
          "nugget_ids": [
           "EQ036-N03"
          ],
          "sentence_id": "gz38qibg-C003-S003"
         },
         {
          "nugget_ids": [
           "EQ036-N03"
          ],
          "sentence_id": "gz38qibg-C003-S004"
         },
         {
          "nugget_ids": [
           "EQ036-N03"
          ],
          "sentence_id": "gz38qibg-C003-S005"
         },
         {
          "nugget_ids": [
           "EQ036-N03"
          ],
          "sentence_id": "34ljq0qt-C001-S005"
         },
         {
          "nugget_ids": [
           "EQ036-N03"
          ],
          "sentence_id": "34ljq0qt-C001-S007"
         },
         {
          "nugget_ids": [
           "EQ036-N04"
          ],
          "sentence_id": "i9r77o70-C000-S001"
         },
         {
          "nugget_ids": [
           "EQ036-N03"
          ],
          "sentence_id": "i9r77o70-C000-S002"
         },
         {
          "nugget_ids": [
           "EQ036-N09"
          ],
          "sentence_id": "i9r77o70-C000-S004"
         },
         {
          "nugget_ids": [
           "EQ036-N04"
          ],
          "sentence_id": "im2np7s1-C000-S002"
         },
         {
          "nugget_ids": [
           "EQ036-N20"
          ],
          "sentence_id": "im2np7s1-C000-S004"
         },
         {
          "nugget_ids": [
           "EQ036-N04"
          ],
          "sentence_id": "jty4ebdf-C000-S001"
         },
         {
          "nugget_ids": [
           "EQ036-N04"
          ],
          "sentence_id": "jty4ebdf-C000-S003"
         },
         {
          "nugget_ids": [
           "EQ036-N04"
          ],
          "sentence_id": "jty4ebdf-C000-S004"
         },
         {
          "nugget_ids": [
           "EQ036-N04"
          ],
          "sentence_id": "jty4ebdf-C000-S007"
         },
         {
          "nugget_ids": [
           "EQ036-N20"
          ],
          "sentence_id": "jty4ebdf-C003-S001"
         },
         {
          "nugget_ids": [
           "EQ036-N04"
          ],
          "sentence_id": "jty4ebdf-C003-S003"
         },
         {
          "nugget_ids": [
           "EQ036-N04"
          ],
          "sentence_id": "jty4ebdf-C003-S004"
         },
         {
          "nugget_ids": [
           "EQ036-N04"
          ],
          "sentence_id": "llhbadip-C000-S001"
         },
         {
          "nugget_ids": [
           "EQ036-N04"
          ],
          "sentence_id": "llhbadip-C000-S002"
         },
         {
          "nugget_ids": [
           "EQ036-N04"
          ],
          "sentence_id": "llhbadip-C000-S003"
         },
         {
          "nugget_ids": [
           "EQ036-N09"
          ],
          "sentence_id": "llhbadip-C000-S004"
         },
         {
          "nugget_ids": [
           "EQ036-N04"
          ],
          "sentence_id": "llhbadip-C000-S005"
         },
         {
          "nugget_ids": [
           "EQ036-N04"
          ],
          "sentence_id": "llhbadip-C000-S006"
         },
         {
          "nugget_ids": [
           "EQ036-N09"
          ],
          "sentence_id": "mvnkkcow-C011-S000"
         },
         {
          "nugget_ids": [
           "EQ036-N04"
          ],
          "sentence_id": "mvnkkcow-C011-S004"
         },
         {
          "nugget_ids": [
           "EQ036-N10"
          ],
          "sentence_id": "mvnkkcow-C011-S005"
         },
         {
          "nugget_ids": [
           "EQ036-N09"
          ],
          "sentence_id": "mrnid1i2-C010-S000"
         },
         {
          "nugget_ids": [
           "EQ036-N03"
          ],
          "sentence_id": "muwwyktk-C017-S000"
         },
         {
          "nugget_ids": [
           "EQ036-N09"
          ],
          "sentence_id": "muwwyktk-C017-S001"
         },
         {
          "nugget_ids": [
           "EQ036-N09"
          ],
          "sentence_id": "mvnkkcow-C011-S000"
         },
         {
          "nugget_ids": [
           "EQ036-N04"
          ],
          "sentence_id": "mvnkkcow-C011-S004"
         },
         {
          "nugget_ids": [
           "EQ036-N10"
          ],
          "sentence_id": "mvnkkcow-C011-S005"
         },
         {
          "nugget_ids": [
           "EQ036-N04"
          ],
          "sentence_id": "nhq0oq8y-C000-S001"
         },
         {
          "nugget_ids": [
           "EQ036-N15"
          ],
          "sentence_id": "nsp53lv6-C030-S003"
         },
         {
          "nugget_ids": [
           "EQ036-N04"
          ],
          "sentence_id": "o9fvzwj5-C006-S002"
         },
         {
          "nugget_ids": [
           "EQ036-N16"
          ],
          "sentence_id": "o9fvzwj5-C006-S005"
         },
         {
          "nugget_ids": [
           "EQ036-N12"
          ],
          "sentence_id": "o9fvzwj5-C006-S006"
         },
         {
          "nugget_ids": [
           "EQ036-N16"
          ],
          "sentence_id": "o9fvzwj5-C006-S008"
         },
         {
          "nugget_ids": [
           "EQ036-N16"
          ],
          "sentence_id": "o9fvzwj5-C006-S009"
         },
         {
          "nugget_ids": [
           "EQ036-N16"
          ],
          "sentence_id": "o9fvzwj5-C006-S010"
         },
         {
          "nugget_ids": [
           "EQ036-N16"
          ],
          "sentence_id": "o9fvzwj5-C006-S012"
         },
         {
          "nugget_ids": [
           "EQ036-N16"
          ],
          "sentence_id": "o9fvzwj5-C006-S013"
         },
         {
          "nugget_ids": [
           "EQ036-N04"
          ],
          "sentence_id": "q02fq403-C001-S011"
         },
         {
          "nugget_ids": [
           "EQ036-N03"
          ],
          "sentence_id": "t0cw7l2a-C005-S000"
         },
         {
          "nugget_ids": [
           "EQ036-N20"
          ],
          "sentence_id": "t0cw7l2a-C005-S003"
         },
         {
          "nugget_ids": [
           "EQ036-N04"
          ],
          "sentence_id": "t0cw7l2a-C005-S006"
         },
         {
          "nugget_ids": [
           "EQ036-N07"
          ],
          "sentence_id": "t0cw7l2a-C005-S007"
         },
         {
          "nugget_ids": [
           "EQ036-N03"
          ],
          "sentence_id": "t0cw7l2a-C005-S008"
         },
         {
          "nugget_ids": [
           "EQ036-N04"
          ],
          "sentence_id": "vhl5adaw-C000-S004"
         },
         {
          "nugget_ids": [
           "EQ036-N04"
          ],
          "sentence_id": "vhl5adaw-C000-S006"
         },
         {
          "nugget_ids": [
           "EQ036-N09",
           "EQ036-N09"
          ],
          "sentence_id": "wm6yey1v-C007-S001"
         },
         {
          "nugget_ids": [
           "EQ036-N09",
           "EQ036-N09"
          ],
          "sentence_id": "wm6yey1v-C007-S002"
         },
         {
          "nugget_ids": [
           "EQ036-N17"
          ],
          "sentence_id": "wm6yey1v-C007-S003"
         },
         {
          "nugget_ids": [
           "EQ036-N04"
          ],
          "sentence_id": "wm6yey1v-C007-S005"
         },
         {
          "nugget_ids": [
           "EQ036-N04"
          ],
          "sentence_id": "wm6yey1v-C007-S006"
         },
         {
          "nugget_ids": [
           "EQ036-N04"
          ],
          "sentence_id": "wm6yey1v-C007-S011"
         },
         {
          "nugget_ids": [
           "EQ036-N04"
          ],
          "sentence_id": "wm6yey1v-C007-S013"
         },
         {
          "nugget_ids": [
           "EQ036-N04"
          ],
          "sentence_id": "yi6yu5l1-C000-S003"
         },
         {
          "nugget_ids": [
           "EQ036-N04"
          ],
          "sentence_id": "yi6yu5l1-C000-S010"
         },
         {
          "nugget_ids": [
           "EQ036-N04"
          ],
          "sentence_id": "yi6yu5l1-C000-S009"
         },
         {
          "nugget_ids": [
           "EQ036-N04"
          ],
          "sentence_id": "yi6yu5l1-C000-S006"
         },
         {
          "nugget_ids": [
           "EQ036-N04"
          ],
          "sentence_id": "yi6yu5l1-C000-S005"
         },
         {
          "nugget_ids": [
           "EQ036-N04"
          ],
          "sentence_id": "yi6yu5l1-C000-S004"
         },
         {
          "nugget_ids": [
           "EQ036-N04"
          ],
          "sentence_id": "z7fgmpc5-C020-S000"
         },
         {
          "nugget_ids": [
           "EQ036-N09"
          ],
          "sentence_id": "z7fgmpc5-C020-S002"
         },
         {
          "nugget_ids": [
           "EQ036-N04"
          ],
          "sentence_id": "z7fgmpc5-C020-S001"
         },
         {
          "nugget_ids": [
           "EQ036-N04"
          ],
          "sentence_id": "z7fgmpc5-C000-S000"
         },
         {
          "nugget_ids": [
           "EQ036-N04"
          ],
          "sentence_id": "z7fgmpc5-C000-S001"
         },
         {
          "nugget_ids": [
           "EQ036-N04"
          ],
          "sentence_id": "z7fgmpc5-C000-S004"
         },
         {
          "nugget_ids": [
           "EQ036-N04"
          ],
          "sentence_id": "z7fgmpc5-C000-S006"
         },
         {
          "nugget_ids": [
           "EQ036-N04"
          ],
          "sentence_id": "z7fgmpc5-C000-S007"
         },
         {
          "nugget_ids": [
           "EQ036-N09"
          ],
          "sentence_id": "vqdbdef6-C001-S002"
         },
         {
          "nugget_ids": [
           "EQ036-N09"
          ],
          "sentence_id": "zu46bdpu-C011-S006"
         },
         {
          "nugget_ids": [
           "EQ036-N15"
          ],
          "sentence_id": "zu46bdpu-C011-S008"
         },
         {
          "nugget_ids": [
           "EQ036-N16"
          ],
          "sentence_id": "zu46bdpu-C011-S013"
         },
         {
          "nugget_ids": [
           "EQ036-N05"
          ],
          "sentence_id": "zu46bdpu-C011-S012"
         }
        ],
        "nuggets": [
         {
          "nugget": "ectodomain",
          "nugget_id": "EQ036-N20"
         },
         {
          "nugget": "t cell epitopes",
          "nugget_id": "EQ036-N19"
         },
         {
          "nugget": "important B",
          "nugget_id": "EQ036-N18"
         },
         {
          "nugget": "N-terminal domain",
          "nugget_id": "EQ036-N17"
         },
         {
          "nugget": "epitopes",
          "nugget_id": "EQ036-N16"
         },
         {
          "nugget": "1.54 Å",
          "nugget_id": "EQ036-N15"
         },
         {
          "nugget": "S ectodomain",
          "nugget_id": "EQ036-N14"
         },
         {
          "nugget": "S1/ S2",
          "nugget_id": "EQ036-N13"
         },
         {
          "nugget": "primary sequence",
          "nugget_id": "EQ036-N12"
         },
         {
          "nugget": "multimeric conformation",
          "nugget_id": "EQ036-N11"
         },
         {
          "nugget": "100 Å",
          "nugget_id": "EQ036-N10"
         },
         {
          "nugget": "trimer on the virion surface",
          "nugget_id": "EQ036-N09"
         },
         {
          "nugget": "furin cleavage site",
          "nugget_id": "EQ036-N08"
         },
         {
          "nugget": "more than 90% amino acid similarity",
          "nugget_id": "EQ036-N07"
         },
         {
          "nugget": "a transmembrane domain",
          "nugget_id": "EQ036-N06"
         },
         {
          "nugget": "a fusion domain",
          "nugget_id": "EQ036-N05"
         },
         {
          "nugget": "receptor-binding domain",
          "nugget_id": "EQ036-N04"
         },
         {
          "nugget": "S1 and S2 subunits",
          "nugget_id": "EQ036-N03"
         },
         {
          "nugget": "an intracellular domain",
          "nugget_id": "EQ036-N02"
         },
         {
          "nugget": "an intermembrane domain",
          "nugget_id": "EQ036-N01"
         },
         {
          "nugget": "180 kDa homotrimer consisting of an extracellular domain",
          "nugget_id": "EQ036-N00"
         }
        ],
        "question_id": "EQ036"
       },
       {
        "annotations": [
         {
          "nugget_ids": [
           "CQ021-N09"
          ],
          "sentence_id": "0dfa2e289061d6431683a30863afa7d6acd0d82f-C002-S000"
         },
         {
          "nugget_ids": [
           "CQ021-N09"
          ],
          "sentence_id": "0dfa2e289061d6431683a30863afa7d6acd0d82f-C002-S001"
         },
         {
          "nugget_ids": [
           "CQ021-N09"
          ],
          "sentence_id": "0dfa2e289061d6431683a30863afa7d6acd0d82f-C002-S003"
         },
         {
          "nugget_ids": [
           "CQ021-N09",
           "CQ021-N26",
           "CQ021-N21"
          ],
          "sentence_id": "0dfa2e289061d6431683a30863afa7d6acd0d82f-C002-S014"
         },
         {
          "nugget_ids": [
           "CQ021-N09",
           "CQ021-N26",
           "CQ021-N21"
          ],
          "sentence_id": "0dfa2e289061d6431683a30863afa7d6acd0d82f-C002-S013"
         },
         {
          "nugget_ids": [
           "CQ021-N25"
          ],
          "sentence_id": "0dfa2e289061d6431683a30863afa7d6acd0d82f-C002-S009"
         },
         {
          "nugget_ids": [
           "CQ021-N25"
          ],
          "sentence_id": "0dfa2e289061d6431683a30863afa7d6acd0d82f-C002-S008"
         },
         {
          "nugget_ids": [
           "CQ021-N25"
          ],
          "sentence_id": "0dfa2e289061d6431683a30863afa7d6acd0d82f-C002-S007"
         },
         {
          "nugget_ids": [
           "CQ021-N25"
          ],
          "sentence_id": "0dfa2e289061d6431683a30863afa7d6acd0d82f-C002-S002"
         },
         {
          "nugget_ids": [
           "CQ021-N14"
          ],
          "sentence_id": "0dfa2e289061d6431683a30863afa7d6acd0d82f-C002-S012"
         },
         {
          "nugget_ids": [
           "CQ021-N16"
          ],
          "sentence_id": "0dfa2e289061d6431683a30863afa7d6acd0d82f-C002-S004"
         },
         {
          "nugget_ids": [
           "CQ021-N15"
          ],
          "sentence_id": "0dfa2e289061d6431683a30863afa7d6acd0d82f-C002-S005"
         },
         {
          "nugget_ids": [
           "CQ021-N23"
          ],
          "sentence_id": "0dfa2e289061d6431683a30863afa7d6acd0d82f-C002-S006"
         },
         {
          "nugget_ids": [
           "CQ021-N21"
          ],
          "sentence_id": "0dfa2e289061d6431683a30863afa7d6acd0d82f-C002-S010"
         },
         {
          "nugget_ids": [
           "CQ021-N21"
          ],
          "sentence_id": "0dfa2e289061d6431683a30863afa7d6acd0d82f-C002-S011"
         },
         {
          "nugget_ids": [
           "CQ021-N17"
          ],
          "sentence_id": "0dfa2e289061d6431683a30863afa7d6acd0d82f-C003-S001"
         },
         {
          "nugget_ids": [
           "CQ021-N09"
          ],
          "sentence_id": "0dfa2e289061d6431683a30863afa7d6acd0d82f-C003-S002"
         },
         {
          "nugget_ids": [
           "CQ021-N09",
           "CQ021-N11",
           "CQ021-N15"
          ],
          "sentence_id": "0dfa2e289061d6431683a30863afa7d6acd0d82f-C003-S003"
         },
         {
          "nugget_ids": [
           "CQ021-N12",
           "CQ021-N21"
          ],
          "sentence_id": "0dfa2e289061d6431683a30863afa7d6acd0d82f-C003-S000"
         },
         {
          "nugget_ids": [
           "CQ021-N13",
           "CQ021-N25"
          ],
          "sentence_id": "0dfa2e289061d6431683a30863afa7d6acd0d82f-C003-S004"
         },
         {
          "nugget_ids": [
           "CQ021-N13"
          ],
          "sentence_id": "0dfa2e289061d6431683a30863afa7d6acd0d82f-C003-S005"
         },
         {
          "nugget_ids": [
           "CQ021-N18",
           "CQ021-N25"
          ],
          "sentence_id": "12b863e7eb069f99212383ab5991546da20d26a2-C013-S002"
         },
         {
          "nugget_ids": [
           "CQ021-N21"
          ],
          "sentence_id": "12b863e7eb069f99212383ab5991546da20d26a2-C013-S003"
         },
         {
          "nugget_ids": [
           "CQ021-N03",
           "CQ021-N21"
          ],
          "sentence_id": "12b863e7eb069f99212383ab5991546da20d26a2-C013-S004"
         },
         {
          "nugget_ids": [
           "CQ021-N21",
           "CQ021-N09"
          ],
          "sentence_id": "12b863e7eb069f99212383ab5991546da20d26a2-C013-S005"
         },
         {
          "nugget_ids": [
           "CQ021-N21",
           "CQ021-N09"
          ],
          "sentence_id": "12b863e7eb069f99212383ab5991546da20d26a2-C013-S006"
         },
         {
          "nugget_ids": [
           "CQ021-N09",
           "CQ021-N12"
          ],
          "sentence_id": "12b863e7eb069f99212383ab5991546da20d26a2-C013-S007"
         },
         {
          "nugget_ids": [
           "CQ021-N19",
           "CQ021-N10"
          ],
          "sentence_id": "12b863e7eb069f99212383ab5991546da20d26a2-C013-S010"
         },
         {
          "nugget_ids": [
           "CQ021-N19",
           "CQ021-N10"
          ],
          "sentence_id": "12b863e7eb069f99212383ab5991546da20d26a2-C013-S011"
         },
         {
          "nugget_ids": [
           "CQ021-N19",
           "CQ021-N10",
           "CQ021-N23"
          ],
          "sentence_id": "12b863e7eb069f99212383ab5991546da20d26a2-C013-S012"
         },
         {
          "nugget_ids": [
           "CQ021-N19",
           "CQ021-N10"
          ],
          "sentence_id": "12b863e7eb069f99212383ab5991546da20d26a2-C013-S009"
         },
         {
          "nugget_ids": [
           "CQ021-N17",
           "CQ021-N18",
           "CQ021-N22",
           "CQ021-N20"
          ],
          "sentence_id": "12b863e7eb069f99212383ab5991546da20d26a2-C013-S008"
         },
         {
          "nugget_ids": [
           "CQ021-N20"
          ],
          "sentence_id": "12b863e7eb069f99212383ab5991546da20d26a2-C013-S013"
         },
         {
          "nugget_ids": [
           "CQ021-N20",
           "CQ021-N19"
          ],
          "sentence_id": "12b863e7eb069f99212383ab5991546da20d26a2-C014-S007"
         },
         {
          "nugget_ids": [
           "CQ021-N20"
          ],
          "sentence_id": "12b863e7eb069f99212383ab5991546da20d26a2-C014-S006"
         },
         {
          "nugget_ids": [
           "CQ021-N20"
          ],
          "sentence_id": "12b863e7eb069f99212383ab5991546da20d26a2-C014-S005"
         },
         {
          "nugget_ids": [
           "CQ021-N20",
           "CQ021-N09",
           "CQ021-N21"
          ],
          "sentence_id": "12b863e7eb069f99212383ab5991546da20d26a2-C014-S004"
         },
         {
          "nugget_ids": [
           "CQ021-N20"
          ],
          "sentence_id": "12b863e7eb069f99212383ab5991546da20d26a2-C014-S003"
         },
         {
          "nugget_ids": [
           "CQ021-N20",
           "CQ021-N26"
          ],
          "sentence_id": "12b863e7eb069f99212383ab5991546da20d26a2-C014-S002"
         },
         {
          "nugget_ids": [
           "CQ021-N20"
          ],
          "sentence_id": "12b863e7eb069f99212383ab5991546da20d26a2-C014-S000"
         },
         {
          "nugget_ids": [
           "CQ021-N26"
          ],
          "sentence_id": "12b863e7eb069f99212383ab5991546da20d26a2-C014-S001"
         },
         {
          "nugget_ids": [
           "CQ021-N10",
           "CQ021-N19"
          ],
          "sentence_id": "12b863e7eb069f99212383ab5991546da20d26a2-C007-S000"
         },
         {
          "nugget_ids": [
           "CQ021-N23",
           "CQ021-N10"
          ],
          "sentence_id": "12b863e7eb069f99212383ab5991546da20d26a2-C007-S001"
         },
         {
          "nugget_ids": [
           "CQ021-N20",
           "CQ021-N25"
          ],
          "sentence_id": "12b863e7eb069f99212383ab5991546da20d26a2-C007-S002"
         },
         {
          "nugget_ids": [
           "CQ021-N20"
          ],
          "sentence_id": "12b863e7eb069f99212383ab5991546da20d26a2-C007-S003"
         },
         {
          "nugget_ids": [
           "CQ021-N20"
          ],
          "sentence_id": "12b863e7eb069f99212383ab5991546da20d26a2-C007-S004"
         },
         {
          "nugget_ids": [
           "CQ021-N20",
           "CQ021-N26"
          ],
          "sentence_id": "12b863e7eb069f99212383ab5991546da20d26a2-C007-S006"
         },
         {
          "nugget_ids": [
           "CQ021-N20",
           "CQ021-N25"
          ],
          "sentence_id": "12b863e7eb069f99212383ab5991546da20d26a2-C007-S007"
         },
         {
          "nugget_ids": [
           "CQ021-N20",
           "CQ021-N21",
           "CQ021-N09",
           "CQ021-N25"
          ],
          "sentence_id": "12b863e7eb069f99212383ab5991546da20d26a2-C007-S008"
         },
         {
          "nugget_ids": [
           "CQ021-N20"
          ],
          "sentence_id": "12b863e7eb069f99212383ab5991546da20d26a2-C007-S009"
         },
         {
          "nugget_ids": [
           "CQ021-N20"
          ],
          "sentence_id": "12b863e7eb069f99212383ab5991546da20d26a2-C007-S010"
         },
         {
          "nugget_ids": [
           "CQ021-N20"
          ],
          "sentence_id": "12b863e7eb069f99212383ab5991546da20d26a2-C007-S011"
         },
         {
          "nugget_ids": [
           "CQ021-N26"
          ],
          "sentence_id": "12b863e7eb069f99212383ab5991546da20d26a2-C007-S005"
         },
         {
          "nugget_ids": [
           "CQ021-N27",
           "CQ021-N28",
           "CQ021-N29",
           "CQ021-N30",
           "CQ021-N32",
           "CQ021-N17",
           "CQ021-N17",
           "CQ021-N03",
           "CQ021-N01",
           "CQ021-N34"
          ],
          "sentence_id": "3c1fcdf12bf53c47f76b573dd52d440fe1a7a8aa-C007-S006"
         },
         {
          "nugget_ids": [
           "CQ021-N17",
           "CQ021-N01"
          ],
          "sentence_id": "3c1fcdf12bf53c47f76b573dd52d440fe1a7a8aa-C007-S002"
         },
         {
          "nugget_ids": [
           "CQ021-N17",
           "CQ021-N03",
           "CQ021-N01"
          ],
          "sentence_id": "3c1fcdf12bf53c47f76b573dd52d440fe1a7a8aa-C007-S000"
         },
         {
          "nugget_ids": [
           "CQ021-N17",
           "CQ021-N26",
           "CQ021-N14"
          ],
          "sentence_id": "5291415fa574ea794cfb2aa6983daa3692345d4c-C017-S000"
         },
         {
          "nugget_ids": [
           "CQ021-N10",
           "CQ021-N20"
          ],
          "sentence_id": "5291415fa574ea794cfb2aa6983daa3692345d4c-C017-S001"
         },
         {
          "nugget_ids": [
           "CQ021-N20",
           "CQ021-N10",
           "CQ021-N19"
          ],
          "sentence_id": "5291415fa574ea794cfb2aa6983daa3692345d4c-C007-S000"
         },
         {
          "nugget_ids": [
           "CQ021-N20"
          ],
          "sentence_id": "5291415fa574ea794cfb2aa6983daa3692345d4c-C007-S002"
         },
         {
          "nugget_ids": [
           "CQ021-N20",
           "CQ021-N10",
           "CQ021-N19"
          ],
          "sentence_id": "5291415fa574ea794cfb2aa6983daa3692345d4c-C007-S003"
         },
         {
          "nugget_ids": [
           "CQ021-N20"
          ],
          "sentence_id": "5291415fa574ea794cfb2aa6983daa3692345d4c-C007-S001"
         },
         {
          "nugget_ids": [
           "CQ021-N25",
           "CQ021-N18"
          ],
          "sentence_id": "5291415fa574ea794cfb2aa6983daa3692345d4c-C006-S008"
         },
         {
          "nugget_ids": [
           "CQ021-N25",
           "CQ021-N20"
          ],
          "sentence_id": "5291415fa574ea794cfb2aa6983daa3692345d4c-C006-S014"
         },
         {
          "nugget_ids": [
           "CQ021-N17"
          ],
          "sentence_id": "5291415fa574ea794cfb2aa6983daa3692345d4c-C006-S009"
         },
         {
          "nugget_ids": [
           "CQ021-N17"
          ],
          "sentence_id": "5291415fa574ea794cfb2aa6983daa3692345d4c-C006-S010"
         },
         {
          "nugget_ids": [
           "CQ021-N17"
          ],
          "sentence_id": "5291415fa574ea794cfb2aa6983daa3692345d4c-C006-S011"
         },
         {
          "nugget_ids": [
           "CQ021-N17",
           "CQ021-N26",
           "CQ021-N16"
          ],
          "sentence_id": "5291415fa574ea794cfb2aa6983daa3692345d4c-C006-S012"
         },
         {
          "nugget_ids": [
           "CQ021-N26",
           "CQ021-N17"
          ],
          "sentence_id": "5291415fa574ea794cfb2aa6983daa3692345d4c-C006-S013"
         },
         {
          "nugget_ids": [
           "CQ021-N16"
          ],
          "sentence_id": "5291415fa574ea794cfb2aa6983daa3692345d4c-C000-S003"
         },
         {
          "nugget_ids": [
           "CQ021-N17",
           "CQ021-N16"
          ],
          "sentence_id": "5291415fa574ea794cfb2aa6983daa3692345d4c-C000-S014"
         },
         {
          "nugget_ids": [
           "CQ021-N23"
          ],
          "sentence_id": "5291415fa574ea794cfb2aa6983daa3692345d4c-C001-S003"
         },
         {
          "nugget_ids": [
           "CQ021-N23",
           "CQ021-N16"
          ],
          "sentence_id": "5291415fa574ea794cfb2aa6983daa3692345d4c-C001-S014"
         },
         {
          "nugget_ids": [
           "CQ021-N23",
           "CQ021-N25"
          ],
          "sentence_id": "5291415fa574ea794cfb2aa6983daa3692345d4c-C001-S002"
         },
         {
          "nugget_ids": [
           "CQ021-N25"
          ],
          "sentence_id": "5291415fa574ea794cfb2aa6983daa3692345d4c-C001-S013"
         },
         {
          "nugget_ids": [
           "CQ021-N21",
           "CQ021-N09"
          ],
          "sentence_id": "5291415fa574ea794cfb2aa6983daa3692345d4c-C001-S001"
         },
         {
          "nugget_ids": [
           "CQ021-N17",
           "CQ021-N14",
           "CQ021-N16"
          ],
          "sentence_id": "5291415fa574ea794cfb2aa6983daa3692345d4c-C001-S010"
         },
         {
          "nugget_ids": [
           "CQ021-N16"
          ],
          "sentence_id": "5291415fa574ea794cfb2aa6983daa3692345d4c-C001-S004"
         },
         {
          "nugget_ids": [
           "CQ021-N17"
          ],
          "sentence_id": "e495cd69cfa39d0faa3bbf2c46f69f7ab6096105-C003-S007"
         },
         {
          "nugget_ids": [
           "CQ021-N17",
           "CQ021-N01"
          ],
          "sentence_id": "effda91f38a8376c9d20766d03702c4334ab7b9f-C002-S006"
         },
         {
          "nugget_ids": [
           "CQ021-N24"
          ],
          "sentence_id": "f1caf55375b8ed40ec446dc2f3c35edac2eef1b2-C057-S001"
         }
        ],
        "nuggets": [
         {
          "nugget": "multiple comorbid risk factor",
          "nugget_id": "CQ021-N34"
         },
         {
          "nugget": "obesity risk factor",
          "nugget_id": "CQ021-N33"
         },
         {
          "nugget": "hypertension risk factor",
          "nugget_id": "CQ021-N32"
         },
         {
          "nugget": "environmental risk factors",
          "nugget_id": "CQ021-N31"
         },
         {
          "nugget": "diabetes risk factor",
          "nugget_id": "CQ021-N30"
         },
         {
          "nugget": "chronic respiratory disease risk factor",
          "nugget_id": "CQ021-N29"
         },
         {
          "nugget": "cardiovascular disease risk factor",
          "nugget_id": "CQ021-N28"
         },
         {
          "nugget": "cancer risk factor",
          "nugget_id": "CQ021-N27"
         },
         {
          "nugget": "weekly data release",
          "nugget_id": "CQ021-N26"
         },
         {
          "nugget": "test result sources",
          "nugget_id": "CQ021-N25"
         },
         {
          "nugget": "secondary fatalities",
          "nugget_id": "CQ021-N24"
         },
         {
          "nugget": "reporting competency",
          "nugget_id": "CQ021-N23"
         },
         {
          "nugget": "raw mortality numbers",
          "nugget_id": "CQ021-N22"
         },
         {
          "nugget": "provisional death counts",
          "nugget_id": "CQ021-N21"
         },
         {
          "nugget": "P and I death threshold",
          "nugget_id": "CQ021-N20"
         },
         {
          "nugget": "Other condition misclassification",
          "nugget_id": "CQ021-N19"
         },
         {
          "nugget": "mortality rate",
          "nugget_id": "CQ021-N18"
         },
         {
          "nugget": "fatality rate",
          "nugget_id": "CQ021-N17"
         },
         {
          "nugget": "increased spread",
          "nugget_id": "CQ021-N16"
         },
         {
          "nugget": "increased reporting",
          "nugget_id": "CQ021-N15"
         },
         {
          "nugget": "final death counts",
          "nugget_id": "CQ021-N14"
         },
         {
          "nugget": "differing verification",
          "nugget_id": "CQ021-N13"
         },
         {
          "nugget": "differing reports",
          "nugget_id": "CQ021-N12"
         },
         {
          "nugget": "defects in recall",
          "nugget_id": "CQ021-N11"
         },
         {
          "nugget": "comorbid death increases indicator",
          "nugget_id": "CQ021-N10"
         },
         {
          "nugget": "backfill",
          "nugget_id": "CQ021-N09"
         },
         {
          "nugget": "rates by socioeconomic status",
          "nugget_id": "CQ021-N08"
         },
         {
          "nugget": "rates by sex",
          "nugget_id": "CQ021-N07"
         },
         {
          "nugget": "rates by racial identity",
          "nugget_id": "CQ021-N06"
         },
         {
          "nugget": "rates by prior health status",
          "nugget_id": "CQ021-N05"
         },
         {
          "nugget": "rates by preventive behavior",
          "nugget_id": "CQ021-N04"
         },
         {
          "nugget": "rates by location",
          "nugget_id": "CQ021-N03"
         },
         {
          "nugget": "rates by blood type",
          "nugget_id": "CQ021-N02"
         },
         {
          "nugget": "rates by age",
          "nugget_id": "CQ021-N01"
         },
         {
          "nugget": "global rates",
          "nugget_id": "CQ021-N00"
         }
        ],
        "question_id": "CQ021"
       },
       {
        "annotations": [
         {
          "nugget_ids": [
           "CQ034-N10",
           "CQ034-N08",
           "CQ034-N07"
          ],
          "sentence_id": "1e70c19ffe4b7f50bfba1d3f9b836243fe6bc996-C007-S000"
         },
         {
          "nugget_ids": [
           "CQ034-N10",
           "CQ034-N07",
           "CQ034-N08"
          ],
          "sentence_id": "1fbb2632cd6fb18e4f8f80d04a7c2fad895f8668-C000-S000"
         },
         {
          "nugget_ids": [
           "CQ034-N09",
           "CQ034-N11"
          ],
          "sentence_id": "26d1f032121b2d58b84da79ed23f3f2a9afb6c0b-C000-S001"
         },
         {
          "nugget_ids": [
           "CQ034-N09"
          ],
          "sentence_id": "26d1f032121b2d58b84da79ed23f3f2a9afb6c0b-C000-S002"
         },
         {
          "nugget_ids": [
           "CQ034-N11"
          ],
          "sentence_id": "26d1f032121b2d58b84da79ed23f3f2a9afb6c0b-C000-S000"
         },
         {
          "nugget_ids": [
           "CQ034-N08"
          ],
          "sentence_id": "26d1f032121b2d58b84da79ed23f3f2a9afb6c0b-C000-S003"
         },
         {
          "nugget_ids": [
           "CQ034-N08"
          ],
          "sentence_id": "26d1f032121b2d58b84da79ed23f3f2a9afb6c0b-C000-S004"
         },
         {
          "nugget_ids": [
           "CQ034-N11"
          ],
          "sentence_id": "3c1fcdf12bf53c47f76b573dd52d440fe1a7a8aa-C009-S000"
         },
         {
          "nugget_ids": [
           "CQ034-N08"
          ],
          "sentence_id": "4f237bc3717271410aeab74b7836237882eda83e-C000-S001"
         },
         {
          "nugget_ids": [
           "CQ034-N07",
           "CQ034-N08",
           "CQ034-N10"
          ],
          "sentence_id": "58c0fc903ad4636156f8cb363cb9731bb973f5d1-C000-S000"
         },
         {
          "nugget_ids": [
           "CQ034-N07",
           "CQ034-N08",
           "CQ034-N10"
          ],
          "sentence_id": "6275d346fa8f420c2c006596878929f395911d54-C017-S000"
         },
         {
          "nugget_ids": [
           "CQ034-N07",
           "CQ034-N08",
           "CQ034-N10"
          ],
          "sentence_id": "77d0930c472bbdcfdfca48a1f25419903abe4f27-C006-S000"
         },
         {
          "nugget_ids": [
           "CQ034-N07",
           "CQ034-N08",
           "CQ034-N10"
          ],
          "sentence_id": "78886297685071c76c23d38fecca31bd7c95e8b7-C006-S007"
         },
         {
          "nugget_ids": [
           "CQ034-N07",
           "CQ034-N08",
           "CQ034-N10"
          ],
          "sentence_id": "78886297685071c76c23d38fecca31bd7c95e8b7-C032-S001"
         },
         {
          "nugget_ids": [
           "CQ034-N09"
          ],
          "sentence_id": "95534418522ff422077fa28cb7dd5e824d6841a4-C030-S001"
         },
         {
          "nugget_ids": [
           "CQ034-N09"
          ],
          "sentence_id": "95534418522ff422077fa28cb7dd5e824d6841a4-C030-S003"
         },
         {
          "nugget_ids": [
           "CQ034-N11"
          ],
          "sentence_id": "ace0c0af6a7e298cf9db6ce6e54bb582f871dfeb-C000-S000"
         },
         {
          "nugget_ids": [
           "CQ034-N07",
           "CQ034-N08",
           "CQ034-N10"
          ],
          "sentence_id": "ace0c0af6a7e298cf9db6ce6e54bb582f871dfeb-C001-S000"
         },
         {
          "nugget_ids": [
           "CQ034-N10",
           "CQ034-N08",
           "CQ034-N07"
          ],
          "sentence_id": "c6f9b7409f442b0ed1fd74fcdf75cbfc19409305-C003-S001"
         },
         {
          "nugget_ids": [
           "CQ034-N08",
           "CQ034-N07"
          ],
          "sentence_id": "d04e6cfb7247cfa77a0a7a2a171e34f622748b3c-C000-S006"
         },
         {
          "nugget_ids": [
           "CQ034-N11"
          ],
          "sentence_id": "d04e6cfb7247cfa77a0a7a2a171e34f622748b3c-C000-S005"
         },
         {
          "nugget_ids": [
           "CQ034-N10"
          ],
          "sentence_id": "da4b78ce412fbc1076a0a9768817df33b977cec4-C003-S000"
         },
         {
          "nugget_ids": [
           "CQ034-N11"
          ],
          "sentence_id": "da4b78ce412fbc1076a0a9768817df33b977cec4-C003-S009"
         },
         {
          "nugget_ids": [
           "CQ034-N01"
          ],
          "sentence_id": "da4b78ce412fbc1076a0a9768817df33b977cec4-C003-S001"
         }
        ],
        "nuggets": [
         {
          "nugget": "Unknowns regarding complications",
          "nugget_id": "CQ034-N11"
         },
         {
          "nugget": "age and risk of complications",
          "nugget_id": "CQ034-N10"
         },
         {
          "nugget": "complications for people with disabilities",
          "nugget_id": "CQ034-N09"
         },
         {
          "nugget": "complications for underlying conditions",
          "nugget_id": "CQ034-N08"
         },
         {
          "nugget": "complications for older adults",
          "nugget_id": "CQ034-N07"
         },
         {
          "nugget": "prolonged hospitalization complications",
          "nugget_id": "CQ034-N06"
         },
         {
          "nugget": "adverse mental health outcomes",
          "nugget_id": "CQ034-N05"
         },
         {
          "nugget": "adverse pregnancy outcomes",
          "nugget_id": "CQ034-N04"
         },
         {
          "nugget": "MIS-C",
          "nugget_id": "CQ034-N03"
         },
         {
          "nugget": "endocrine-metabolic complications",
          "nugget_id": "CQ034-N02"
         },
         {
          "nugget": "respiratory complications",
          "nugget_id": "CQ034-N01"
         },
         {
          "nugget": "cardiac complications",
          "nugget_id": "CQ034-N00"
         }
        ],
        "question_id": "CQ034"
       },
       {
        "annotations": [
         {
          "nugget_ids": [
           "EQ022-N04",
           "EQ022-N01"
          ],
          "sentence_id": "4q2olzx1-C007-S000"
         },
         {
          "nugget_ids": [
           "EQ022-N02"
          ],
          "sentence_id": "4q2olzx1-C007-S001"
         },
         {
          "nugget_ids": [
           "EQ022-N02"
          ],
          "sentence_id": "4q2olzx1-C007-S002"
         },
         {
          "nugget_ids": [
           "EQ022-N01",
           "EQ022-N04"
          ],
          "sentence_id": "4q2olzx1-C006-S000"
         },
         {
          "nugget_ids": [
           "EQ022-N00",
           "EQ022-N01"
          ],
          "sentence_id": "4q2olzx1-C006-S001"
         },
         {
          "nugget_ids": [
           "EQ022-N00",
           "EQ022-N01"
          ],
          "sentence_id": "4q2olzx1-C006-S002"
         },
         {
          "nugget_ids": [
           "EQ022-N00",
           "EQ022-N01"
          ],
          "sentence_id": "4snfwx8r-C011-S000"
         },
         {
          "nugget_ids": [
           "EQ022-N00",
           "EQ022-N01",
           "EQ022-N04"
          ],
          "sentence_id": "4snfwx8r-C011-S001"
         },
         {
          "nugget_ids": [
           "EQ022-N00"
          ],
          "sentence_id": "4snfwx8r-C011-S002"
         },
         {
          "nugget_ids": [
           "EQ022-N00"
          ],
          "sentence_id": "4snfwx8r-C011-S003"
         },
         {
          "nugget_ids": [
           "EQ022-N01",
           "EQ022-N02",
           "EQ022-N04"
          ],
          "sentence_id": "4snfwx8r-C011-S004"
         },
         {
          "nugget_ids": [
           "EQ022-N01",
           "EQ022-N07"
          ],
          "sentence_id": "4snfwx8r-C011-S005"
         },
         {
          "nugget_ids": [
           "EQ022-N01",
           "EQ022-N07"
          ],
          "sentence_id": "4snfwx8r-C011-S006"
         },
         {
          "nugget_ids": [
           "EQ022-N01",
           "EQ022-N04"
          ],
          "sentence_id": "4snfwx8r-C011-S007"
         },
         {
          "nugget_ids": [
           "EQ022-N04",
           "EQ022-N01"
          ],
          "sentence_id": "4snfwx8r-C011-S008"
         },
         {
          "nugget_ids": [
           "EQ022-N04",
           "EQ022-N03",
           "EQ022-N01"
          ],
          "sentence_id": "4snfwx8r-C011-S009"
         },
         {
          "nugget_ids": [
           "EQ022-N01",
           "EQ022-N04"
          ],
          "sentence_id": "4snfwx8r-C011-S010"
         },
         {
          "nugget_ids": [
           "EQ022-N02"
          ],
          "sentence_id": "4snfwx8r-C011-S011"
         },
         {
          "nugget_ids": [
           "EQ022-N00",
           "EQ022-N01"
          ],
          "sentence_id": "4snfwx8r-C011-S012"
         },
         {
          "nugget_ids": [
           "EQ022-N00"
          ],
          "sentence_id": "9f7up1nq-C009-S000"
         },
         {
          "nugget_ids": [
           "EQ022-N00"
          ],
          "sentence_id": "9f7up1nq-C009-S001"
         },
         {
          "nugget_ids": [
           "EQ022-N01",
           "EQ022-N04"
          ],
          "sentence_id": "9f7up1nq-C009-S002"
         },
         {
          "nugget_ids": [
           "EQ022-N00"
          ],
          "sentence_id": "9f7up1nq-C009-S003"
         },
         {
          "nugget_ids": [
           "EQ022-N00"
          ],
          "sentence_id": "9f7up1nq-C009-S004"
         },
         {
          "nugget_ids": [
           "EQ022-N01",
           "EQ022-N05"
          ],
          "sentence_id": "9f7up1nq-C012-S002"
         },
         {
          "nugget_ids": [
           "EQ022-N00",
           "EQ022-N01",
           "EQ022-N05"
          ],
          "sentence_id": "9f7up1nq-C012-S003"
         },
         {
          "nugget_ids": [
           "EQ022-N00",
           "EQ022-N01"
          ],
          "sentence_id": "9f7up1nq-C012-S004"
         },
         {
          "nugget_ids": [
           "EQ022-N01"
          ],
          "sentence_id": "9f7up1nq-C007-S000"
         },
         {
          "nugget_ids": [
           "EQ022-N01",
           "EQ022-N00"
          ],
          "sentence_id": "9pq88x6l-C007-S001"
         },
         {
          "nugget_ids": [
           "EQ022-N01"
          ],
          "sentence_id": "9pq88x6l-C007-S002"
         },
         {
          "nugget_ids": [
           "EQ022-N01"
          ],
          "sentence_id": "9pq88x6l-C007-S004"
         },
         {
          "nugget_ids": [
           "EQ022-N01",
           "EQ022-N07"
          ],
          "sentence_id": "9pq88x6l-C007-S005"
         },
         {
          "nugget_ids": [
           "EQ022-N01",
           "EQ022-N04",
           "EQ022-N07"
          ],
          "sentence_id": "9pq88x6l-C007-S006"
         },
         {
          "nugget_ids": [
           "EQ022-N01"
          ],
          "sentence_id": "9pq88x6l-C007-S007"
         },
         {
          "nugget_ids": [
           "EQ022-N00",
           "EQ022-N01"
          ],
          "sentence_id": "9pq88x6l-C007-S008"
         },
         {
          "nugget_ids": [
           "EQ022-N03",
           "EQ022-N01",
           "EQ022-N04"
          ],
          "sentence_id": "aezihlpd-C001-S001"
         },
         {
          "nugget_ids": [
           "EQ022-N01",
           "EQ022-N04"
          ],
          "sentence_id": "aezihlpd-C001-S003"
         },
         {
          "nugget_ids": [
           "EQ022-N01"
          ],
          "sentence_id": "aezihlpd-C001-S006"
         },
         {
          "nugget_ids": [
           "EQ022-N01",
           "EQ022-N00",
           "EQ022-N06"
          ],
          "sentence_id": "boew323c-C000-S001"
         },
         {
          "nugget_ids": [
           "EQ022-N00",
           "EQ022-N01"
          ],
          "sentence_id": "boew323c-C000-S002"
         },
         {
          "nugget_ids": [
           "EQ022-N00",
           "EQ022-N01",
           "EQ022-N02",
           "EQ022-N07"
          ],
          "sentence_id": "boew323c-C000-S008"
         },
         {
          "nugget_ids": [
           "EQ022-N00",
           "EQ022-N01",
           "EQ022-N02",
           "EQ022-N06"
          ],
          "sentence_id": "boew323c-C000-S009"
         },
         {
          "nugget_ids": [
           "EQ022-N00",
           "EQ022-N02",
           "EQ022-N07"
          ],
          "sentence_id": "boew323c-C000-S010"
         },
         {
          "nugget_ids": [
           "EQ022-N02"
          ],
          "sentence_id": "boew323c-C000-S011"
         },
         {
          "nugget_ids": [
           "EQ022-N02"
          ],
          "sentence_id": "boew323c-C000-S012"
         },
         {
          "nugget_ids": [
           "EQ022-N02",
           "EQ022-N01"
          ],
          "sentence_id": "boew323c-C000-S013"
         },
         {
          "nugget_ids": [
           "EQ022-N09",
           "EQ022-N06"
          ],
          "sentence_id": "boew323c-C000-S014"
         },
         {
          "nugget_ids": [
           "EQ022-N01"
          ],
          "sentence_id": "bsvlo6zx-C004-S000"
         },
         {
          "nugget_ids": [
           "EQ022-N01"
          ],
          "sentence_id": "bsvlo6zx-C004-S001"
         },
         {
          "nugget_ids": [
           "EQ022-N03",
           "EQ022-N04",
           "EQ022-N01"
          ],
          "sentence_id": "bsvlo6zx-C004-S002"
         },
         {
          "nugget_ids": [
           "EQ022-N01",
           "EQ022-N02"
          ],
          "sentence_id": "cgdcsazr-C006-S000"
         },
         {
          "nugget_ids": [
           "EQ022-N01"
          ],
          "sentence_id": "cgdcsazr-C006-S001"
         },
         {
          "nugget_ids": [
           "EQ022-N01"
          ],
          "sentence_id": "cgdcsazr-C006-S003"
         },
         {
          "nugget_ids": [
           "EQ022-N02"
          ],
          "sentence_id": "cgdcsazr-C006-S007"
         },
         {
          "nugget_ids": [
           "EQ022-N01",
           "EQ022-N04"
          ],
          "sentence_id": "cgdcsazr-C006-S008"
         },
         {
          "nugget_ids": [
           "EQ022-N01",
           "EQ022-N04"
          ],
          "sentence_id": "cgdcsazr-C006-S009"
         },
         {
          "nugget_ids": [
           "EQ022-N02"
          ],
          "sentence_id": "cgdcsazr-C006-S010"
         },
         {
          "nugget_ids": [
           "EQ022-N01"
          ],
          "sentence_id": "cgdcsazr-C006-S012"
         },
         {
          "nugget_ids": [
           "EQ022-N01",
           "EQ022-N02"
          ],
          "sentence_id": "csgblpu1-C008-S000"
         },
         {
          "nugget_ids": [
           "EQ022-N01",
           "EQ022-N04"
          ],
          "sentence_id": "csgblpu1-C008-S001"
         },
         {
          "nugget_ids": [
           "EQ022-N02",
           "EQ022-N04",
           "EQ022-N00"
          ],
          "sentence_id": "csgblpu1-C008-S002"
         },
         {
          "nugget_ids": [
           "EQ022-N01",
           "EQ022-N07"
          ],
          "sentence_id": "csgblpu1-C008-S003"
         },
         {
          "nugget_ids": [
           "EQ022-N01"
          ],
          "sentence_id": "csgblpu1-C008-S004"
         },
         {
          "nugget_ids": [
           "EQ022-N01",
           "EQ022-N04"
          ],
          "sentence_id": "csgblpu1-C008-S005"
         },
         {
          "nugget_ids": [
           "EQ022-N01"
          ],
          "sentence_id": "cv20koaq-C014-S000"
         },
         {
          "nugget_ids": [
           "EQ022-N00",
           "EQ022-N01"
          ],
          "sentence_id": "ejsqsn59-C000-S000"
         },
         {
          "nugget_ids": [
           "EQ022-N00",
           "EQ022-N01"
          ],
          "sentence_id": "ejsqsn59-C000-S001"
         },
         {
          "nugget_ids": [
           "EQ022-N03"
          ],
          "sentence_id": "ejsqsn59-C000-S002"
         },
         {
          "nugget_ids": [
           "EQ022-N00"
          ],
          "sentence_id": "ejsqsn59-C000-S003"
         },
         {
          "nugget_ids": [
           "EQ022-N01",
           "EQ022-N04"
          ],
          "sentence_id": "ejsqsn59-C000-S004"
         },
         {
          "nugget_ids": [
           "EQ022-N07",
           "EQ022-N04"
          ],
          "sentence_id": "ejsqsn59-C000-S005"
         },
         {
          "nugget_ids": [
           "EQ022-N00",
           "EQ022-N01"
          ],
          "sentence_id": "ejsqsn59-C000-S006"
         },
         {
          "nugget_ids": [
           "EQ022-N09"
          ],
          "sentence_id": "fvvx16sv-C023-S001"
         },
         {
          "nugget_ids": [
           "EQ022-N00"
          ],
          "sentence_id": "fvvx16sv-C023-S004"
         },
         {
          "nugget_ids": [
           "EQ022-N01"
          ],
          "sentence_id": "gfjpsduv-C000-S002"
         },
         {
          "nugget_ids": [
           "EQ022-N01"
          ],
          "sentence_id": "gfjpsduv-C000-S009"
         },
         {
          "nugget_ids": [
           "EQ022-N01"
          ],
          "sentence_id": "i9k57iut-C003-S000"
         },
         {
          "nugget_ids": [
           "EQ022-N01",
           "EQ022-N07"
          ],
          "sentence_id": "i9k57iut-C003-S001"
         },
         {
          "nugget_ids": [
           "EQ022-N04"
          ],
          "sentence_id": "i9k57iut-C003-S002"
         },
         {
          "nugget_ids": [
           "EQ022-N00"
          ],
          "sentence_id": "i9k57iut-C003-S003"
         },
         {
          "nugget_ids": [
           "EQ022-N00",
           "EQ022-N01"
          ],
          "sentence_id": "i9k57iut-C003-S004"
         },
         {
          "nugget_ids": [
           "EQ022-N03"
          ],
          "sentence_id": "i9k57iut-C003-S005"
         },
         {
          "nugget_ids": [
           "EQ022-N03",
           "EQ022-N01"
          ],
          "sentence_id": "i9k57iut-C003-S006"
         },
         {
          "nugget_ids": [
           "EQ022-N09",
           "EQ022-N03",
           "EQ022-N01"
          ],
          "sentence_id": "i9k57iut-C003-S008"
         },
         {
          "nugget_ids": [
           "EQ022-N03"
          ],
          "sentence_id": "i9k57iut-C003-S010"
         },
         {
          "nugget_ids": [
           "EQ022-N03",
           "EQ022-N00"
          ],
          "sentence_id": "i9k57iut-C003-S011"
         },
         {
          "nugget_ids": [
           "EQ022-N03"
          ],
          "sentence_id": "i9k57iut-C003-S012"
         },
         {
          "nugget_ids": [
           "EQ022-N03"
          ],
          "sentence_id": "i9k57iut-C003-S013"
         },
         {
          "nugget_ids": [
           "EQ022-N01",
           "EQ022-N04"
          ],
          "sentence_id": "io1t141z-C012-S000"
         },
         {
          "nugget_ids": [
           "EQ022-N01"
          ],
          "sentence_id": "io1t141z-C011-S000"
         },
         {
          "nugget_ids": [
           "EQ022-N01",
           "EQ022-N04"
          ],
          "sentence_id": "jg6v644y-C000-S001"
         },
         {
          "nugget_ids": [
           "EQ022-N00",
           "EQ022-N01"
          ],
          "sentence_id": "jg6v644y-C000-S002"
         },
         {
          "nugget_ids": [
           "EQ022-N01",
           "EQ022-N02",
           "EQ022-N07"
          ],
          "sentence_id": "jg6v644y-C000-S005"
         },
         {
          "nugget_ids": [
           "EQ022-N00"
          ],
          "sentence_id": "jg6v644y-C000-S006"
         },
         {
          "nugget_ids": [
           "EQ022-N00"
          ],
          "sentence_id": "jg6v644y-C000-S007"
         },
         {
          "nugget_ids": [
           "EQ022-N00",
           "EQ022-N01",
           "EQ022-N02"
          ],
          "sentence_id": "jg6v644y-C000-S009"
         },
         {
          "nugget_ids": [
           "EQ022-N01"
          ],
          "sentence_id": "jg6v644y-C000-S010"
         },
         {
          "nugget_ids": [
           "EQ022-N00",
           "EQ022-N01",
           "EQ022-N02"
          ],
          "sentence_id": "jg6v644y-C000-S011"
         },
         {
          "nugget_ids": [
           "EQ022-N01"
          ],
          "sentence_id": "kt6t41ff-C016-S000"
         },
         {
          "nugget_ids": [
           "EQ022-N01"
          ],
          "sentence_id": "kv0jm1d1-C000-S000"
         },
         {
          "nugget_ids": [
           "EQ022-N00"
          ],
          "sentence_id": "kv0jm1d1-C000-S001"
         },
         {
          "nugget_ids": [
           "EQ022-N01"
          ],
          "sentence_id": "kv0jm1d1-C000-S002"
         },
         {
          "nugget_ids": [
           "EQ022-N00",
           "EQ022-N01"
          ],
          "sentence_id": "kv0jm1d1-C000-S004"
         },
         {
          "nugget_ids": [
           "EQ022-N00",
           "EQ022-N01"
          ],
          "sentence_id": "lfjud2aq-C000-S000"
         },
         {
          "nugget_ids": [
           "EQ022-N00",
           "EQ022-N01"
          ],
          "sentence_id": "lfjud2aq-C000-S001"
         },
         {
          "nugget_ids": [
           "EQ022-N03"
          ],
          "sentence_id": "lfjud2aq-C000-S002"
         },
         {
          "nugget_ids": [
           "EQ022-N00"
          ],
          "sentence_id": "lfjud2aq-C000-S003"
         },
         {
          "nugget_ids": [
           "EQ022-N01",
           "EQ022-N04"
          ],
          "sentence_id": "lfjud2aq-C000-S004"
         },
         {
          "nugget_ids": [
           "EQ022-N07"
          ],
          "sentence_id": "lfjud2aq-C000-S005"
         },
         {
          "nugget_ids": [
           "EQ022-N00"
          ],
          "sentence_id": "lfjud2aq-C000-S006"
         },
         {
          "nugget_ids": [
           "EQ022-N00"
          ],
          "sentence_id": "mh8rgbo1-C000-S000"
         },
         {
          "nugget_ids": [
           "EQ022-N00",
           "EQ022-N01",
           "EQ022-N06"
          ],
          "sentence_id": "mh8rgbo1-C000-S001"
         },
         {
          "nugget_ids": [
           "EQ022-N00",
           "EQ022-N06"
          ],
          "sentence_id": "mh8rgbo1-C000-S006"
         },
         {
          "nugget_ids": [
           "EQ022-N01",
           "EQ022-N06"
          ],
          "sentence_id": "mh8rgbo1-C000-S007"
         },
         {
          "nugget_ids": [
           "EQ022-N00",
           "EQ022-N01",
           "EQ022-N06"
          ],
          "sentence_id": "mh8rgbo1-C000-S008"
         },
         {
          "nugget_ids": [
           "EQ022-N01",
           "EQ022-N06"
          ],
          "sentence_id": "mh8rgbo1-C000-S009"
         },
         {
          "nugget_ids": [
           "EQ022-N00",
           "EQ022-N01"
          ],
          "sentence_id": "mtg4l456-C000-S000"
         },
         {
          "nugget_ids": [
           "EQ022-N00",
           "EQ022-N01"
          ],
          "sentence_id": "okomovsk-C000-S002"
         },
         {
          "nugget_ids": [
           "EQ022-N00",
           "EQ022-N02",
           "EQ022-N07"
          ],
          "sentence_id": "okomovsk-C000-S008"
         },
         {
          "nugget_ids": [
           "EQ022-N00",
           "EQ022-N01",
           "EQ022-N07",
           "EQ022-N02",
           "EQ022-N06"
          ],
          "sentence_id": "okomovsk-C000-S009"
         },
         {
          "nugget_ids": [
           "EQ022-N00",
           "EQ022-N02"
          ],
          "sentence_id": "okomovsk-C000-S010"
         },
         {
          "nugget_ids": [
           "EQ022-N02"
          ],
          "sentence_id": "okomovsk-C000-S011"
         },
         {
          "nugget_ids": [
           "EQ022-N02"
          ],
          "sentence_id": "okomovsk-C000-S012"
         },
         {
          "nugget_ids": [
           "EQ022-N02",
           "EQ022-N01"
          ],
          "sentence_id": "okomovsk-C000-S013"
         },
         {
          "nugget_ids": [
           "EQ022-N06",
           "EQ022-N09"
          ],
          "sentence_id": "okomovsk-C000-S014"
         },
         {
          "nugget_ids": [
           "EQ022-N00"
          ],
          "sentence_id": "sf073cmj-C014-S000"
         },
         {
          "nugget_ids": [
           "EQ022-N03",
           "EQ022-N04"
          ],
          "sentence_id": "sf073cmj-C014-S001"
         },
         {
          "nugget_ids": [
           "EQ022-N03",
           "EQ022-N00"
          ],
          "sentence_id": "sf073cmj-C014-S002"
         },
         {
          "nugget_ids": [
           "EQ022-N00",
           "EQ022-N01",
           "EQ022-N03",
           "EQ022-N04"
          ],
          "sentence_id": "sf073cmj-C014-S003"
         },
         {
          "nugget_ids": [
           "EQ022-N03"
          ],
          "sentence_id": "smkpp89u-C000-S003"
         },
         {
          "nugget_ids": [
           "EQ022-N03",
           "EQ022-N01"
          ],
          "sentence_id": "smkpp89u-C000-S004"
         },
         {
          "nugget_ids": [
           "EQ022-N00"
          ],
          "sentence_id": "smkpp89u-C000-S005"
         },
         {
          "nugget_ids": [
           "EQ022-N00",
           "EQ022-N01"
          ],
          "sentence_id": "smkpp89u-C000-S006"
         },
         {
          "nugget_ids": [
           "EQ022-N01"
          ],
          "sentence_id": "smkpp89u-C000-S007"
         },
         {
          "nugget_ids": [
           "EQ022-N01",
           "EQ022-N04"
          ],
          "sentence_id": "smkpp89u-C000-S008"
         },
         {
          "nugget_ids": [
           "EQ022-N02",
           "EQ022-N04"
          ],
          "sentence_id": "smkpp89u-C000-S009"
         },
         {
          "nugget_ids": [
           "EQ022-N01"
          ],
          "sentence_id": "smkpp89u-C000-S010"
         },
         {
          "nugget_ids": [
           "EQ022-N04",
           "EQ022-N01"
          ],
          "sentence_id": "smkpp89u-C000-S011"
         },
         {
          "nugget_ids": [
           "EQ022-N04",
           "EQ022-N01"
          ],
          "sentence_id": "smkpp89u-C000-S012"
         },
         {
          "nugget_ids": [
           "EQ022-N00",
           "EQ022-N01"
          ],
          "sentence_id": "sqwduxs4-C000-S002"
         },
         {
          "nugget_ids": [
           "EQ022-N03"
          ],
          "sentence_id": "sqwduxs4-C000-S004"
         },
         {
          "nugget_ids": [
           "EQ022-N04"
          ],
          "sentence_id": "sqwduxs4-C000-S005"
         },
         {
          "nugget_ids": [
           "EQ022-N01",
           "EQ022-N03"
          ],
          "sentence_id": "sqwduxs4-C000-S006"
         },
         {
          "nugget_ids": [
           "EQ022-N00",
           "EQ022-N01"
          ],
          "sentence_id": "sqwduxs4-C000-S007"
         },
         {
          "nugget_ids": [
           "EQ022-N00",
           "EQ022-N07"
          ],
          "sentence_id": "t9knzadf-C006-S000"
         },
         {
          "nugget_ids": [
           "EQ022-N06"
          ],
          "sentence_id": "t9knzadf-C006-S002"
         },
         {
          "nugget_ids": [
           "EQ022-N01"
          ],
          "sentence_id": "t9knzadf-C006-S003"
         },
         {
          "nugget_ids": [
           "EQ022-N01",
           "EQ022-N06",
           "EQ022-N07"
          ],
          "sentence_id": "t9knzadf-C006-S004"
         },
         {
          "nugget_ids": [
           "EQ022-N01"
          ],
          "sentence_id": "v3qgqfwr-C010-S000"
         },
         {
          "nugget_ids": [
           "EQ022-N00",
           "EQ022-N01"
          ],
          "sentence_id": "v3qgqfwr-C010-S001"
         },
         {
          "nugget_ids": [
           "EQ022-N01",
           "EQ022-N00",
           "EQ022-N02"
          ],
          "sentence_id": "wlwt65w5-C000-S000"
         },
         {
          "nugget_ids": [
           "EQ022-N01"
          ],
          "sentence_id": "x62j1979-C000-S000"
         },
         {
          "nugget_ids": [
           "EQ022-N00"
          ],
          "sentence_id": "x62j1979-C000-S001"
         },
         {
          "nugget_ids": [
           "EQ022-N01"
          ],
          "sentence_id": "x62j1979-C000-S002"
         },
         {
          "nugget_ids": [
           "EQ022-N00",
           "EQ022-N01"
          ],
          "sentence_id": "x62j1979-C000-S004"
         },
         {
          "nugget_ids": [
           "EQ022-N00",
           "EQ022-N01",
           "EQ022-N02"
          ],
          "sentence_id": "yy0nyjzz-C002-S000"
         },
         {
          "nugget_ids": [
           "EQ022-N06",
           "EQ022-N02",
           "EQ022-N00"
          ],
          "sentence_id": "yy0nyjzz-C002-S001"
         },
         {
          "nugget_ids": [
           "EQ022-N02"
          ],
          "sentence_id": "yy0nyjzz-C002-S002"
         },
         {
          "nugget_ids": [
           "EQ022-N03"
          ],
          "sentence_id": "zf7a0d95-C000-S001"
         },
         {
          "nugget_ids": [
           "EQ022-N03",
           "EQ022-N04"
          ],
          "sentence_id": "zf7a0d95-C000-S002"
         },
         {
          "nugget_ids": [
           "EQ022-N03",
           "EQ022-N04",
           "EQ022-N09",
           "EQ022-N00"
          ],
          "sentence_id": "zf7a0d95-C000-S003"
         },
         {
          "nugget_ids": [
           "EQ022-N01",
           "EQ022-N04"
          ],
          "sentence_id": "zf7a0d95-C000-S004"
         },
         {
          "nugget_ids": [
           "EQ022-N01"
          ],
          "sentence_id": "zf7a0d95-C000-S005"
         },
         {
          "nugget_ids": [
           "EQ022-N01"
          ],
          "sentence_id": "zf7a0d95-C000-S006"
         },
         {
          "nugget_ids": [
           "EQ022-N01",
           "EQ022-N04"
          ],
          "sentence_id": "zf7a0d95-C000-S007"
         },
         {
          "nugget_ids": [
           "EQ022-N00",
           "EQ022-N01",
           "EQ022-N07"
          ],
          "sentence_id": "zf7a0d95-C000-S008"
         },
         {
          "nugget_ids": [
           "EQ022-N01",
           "EQ022-N04"
          ],
          "sentence_id": "zf7a0d95-C000-S009"
         },
         {
          "nugget_ids": [
           "EQ022-N01",
           "EQ022-N04"
          ],
          "sentence_id": "zf7a0d95-C000-S011"
         }
        ],
        "nuggets": [
         {
          "nugget": "cardiotoxic drugs",
          "nugget_id": "EQ022-N10"
         },
         {
          "nugget": "ACE inhibitors",
          "nugget_id": "EQ022-N09"
         },
         {
          "nugget": "angiotensin receptor blockers",
          "nugget_id": "EQ022-N08"
         },
         {
          "nugget": "incidence data",
          "nugget_id": "EQ022-N07"
         },
         {
          "nugget": "mortality data",
          "nugget_id": "EQ022-N06"
         },
         {
          "nugget": "elderly",
          "nugget_id": "EQ022-N05"
         },
         {
          "nugget": "myocardial damage mechanisms",
          "nugget_id": "EQ022-N04"
         },
         {
          "nugget": "ACE2",
          "nugget_id": "EQ022-N03"
         },
         {
          "nugget": "cardiac biomarker elevation",
          "nugget_id": "EQ022-N02"
         },
         {
          "nugget": "cardiac disease as a complication",
          "nugget_id": "EQ022-N01"
         },
         {
          "nugget": "exacerbation of cardiac disease",
          "nugget_id": "EQ022-N00"
         }
        ],
        "question_id": "EQ022"
       },
       {
        "annotations": [
         {
          "nugget_ids": [
           "CQ022-N00"
          ],
          "sentence_id": "1fbb2632cd6fb18e4f8f80d04a7c2fad895f8668-C000-S000"
         },
         {
          "nugget_ids": [
           "CQ022-N00"
          ],
          "sentence_id": "94c904c441d7e065b92f78a41b3b2f56143f5ade-C000-S002"
         },
         {
          "nugget_ids": [
           "CQ022-N00"
          ],
          "sentence_id": "ace0c0af6a7e298cf9db6ce6e54bb582f871dfeb-C001-S000"
         },
         {
          "nugget_ids": [
           "CQ022-N00"
          ],
          "sentence_id": "cc277672af5c1df3317d3b02251ef38de0e803b6-C000-S003"
         },
         {
          "nugget_ids": [
           "CQ022-N00"
          ],
          "sentence_id": "e6c5a83dcf1f9686604dac3b7410777067cd224b-C003-S007"
         },
         {
          "nugget_ids": [
           "CQ022-N00"
          ],
          "sentence_id": "e6c5a83dcf1f9686604dac3b7410777067cd224b-C003-S008"
         }
        ],
        "nuggets": [
         {
          "nugget": "heart disease as a complication",
          "nugget_id": "CQ022-N01"
         },
         {
          "nugget": "heart disease exacerbation",
          "nugget_id": "CQ022-N00"
         }
        ],
        "question_id": "CQ022"
       },
       {
        "annotations": [
         {
          "nugget_ids": [
           "EQ023-N00"
          ],
          "sentence_id": "07arhrv9-C002-S000"
         },
         {
          "nugget_ids": [
           "EQ023-N00"
          ],
          "sentence_id": "07arhrv9-C002-S001"
         },
         {
          "nugget_ids": [
           "EQ023-N00"
          ],
          "sentence_id": "07arhrv9-C002-S004"
         },
         {
          "nugget_ids": [
           "EQ023-N00"
          ],
          "sentence_id": "07arhrv9-C026-S003"
         },
         {
          "nugget_ids": [
           "EQ023-N00"
          ],
          "sentence_id": "07arhrv9-C026-S004"
         },
         {
          "nugget_ids": [
           "EQ023-N02"
          ],
          "sentence_id": "0l10n9n7-C021-S001"
         },
         {
          "nugget_ids": [
           "EQ023-N02"
          ],
          "sentence_id": "0l10n9n7-C021-S002"
         },
         {
          "nugget_ids": [
           "EQ023-N02"
          ],
          "sentence_id": "0l10n9n7-C021-S007"
         },
         {
          "nugget_ids": [
           "EQ023-N02"
          ],
          "sentence_id": "0l10n9n7-C021-S006"
         },
         {
          "nugget_ids": [
           "EQ023-N03"
          ],
          "sentence_id": "0l10n9n7-C021-S005"
         },
         {
          "nugget_ids": [
           "EQ023-N03"
          ],
          "sentence_id": "0l10n9n7-C021-S008"
         },
         {
          "nugget_ids": [
           "EQ023-N03"
          ],
          "sentence_id": "1z5fky0d-C011-S001"
         },
         {
          "nugget_ids": [
           "EQ023-N03"
          ],
          "sentence_id": "1z5fky0d-C011-S000"
         },
         {
          "nugget_ids": [
           "EQ023-N02"
          ],
          "sentence_id": "1z5fky0d-C011-S002"
         },
         {
          "nugget_ids": [
           "EQ023-N02"
          ],
          "sentence_id": "5efzormt-C001-S000"
         },
         {
          "nugget_ids": [
           "EQ023-N02"
          ],
          "sentence_id": "5efzormt-C001-S001"
         },
         {
          "nugget_ids": [
           "EQ023-N02"
          ],
          "sentence_id": "5efzormt-C001-S003"
         },
         {
          "nugget_ids": [
           "EQ023-N02"
          ],
          "sentence_id": "5efzormt-C001-S002"
         },
         {
          "nugget_ids": [
           "EQ023-N02"
          ],
          "sentence_id": "5efzormt-C001-S004"
         },
         {
          "nugget_ids": [
           "EQ023-N02"
          ],
          "sentence_id": "5efzormt-C001-S005"
         },
         {
          "nugget_ids": [
           "EQ023-N00"
          ],
          "sentence_id": "6p411mgz-C009-S000"
         },
         {
          "nugget_ids": [
           "EQ023-N00"
          ],
          "sentence_id": "6p411mgz-C009-S003"
         },
         {
          "nugget_ids": [
           "EQ023-N00"
          ],
          "sentence_id": "6p411mgz-C009-S004"
         },
         {
          "nugget_ids": [
           "EQ023-N00"
          ],
          "sentence_id": "6p411mgz-C009-S008"
         },
         {
          "nugget_ids": [
           "EQ023-N00"
          ],
          "sentence_id": "6p411mgz-C009-S009"
         },
         {
          "nugget_ids": [
           "EQ023-N02"
          ],
          "sentence_id": "7kw9lws0-C007-S001"
         },
         {
          "nugget_ids": [
           "EQ023-N02"
          ],
          "sentence_id": "7kw9lws0-C007-S002"
         },
         {
          "nugget_ids": [
           "EQ023-N02"
          ],
          "sentence_id": "7kw9lws0-C007-S000"
         },
         {
          "nugget_ids": [
           "EQ023-N03",
           "EQ023-N05"
          ],
          "sentence_id": "8789ibcp-C010-S005"
         },
         {
          "nugget_ids": [
           "EQ023-N03"
          ],
          "sentence_id": "8789ibcp-C010-S003"
         },
         {
          "nugget_ids": [
           "EQ023-N05"
          ],
          "sentence_id": "8789ibcp-C010-S002"
         },
         {
          "nugget_ids": [
           "EQ023-N05"
          ],
          "sentence_id": "8789ibcp-C010-S004"
         },
         {
          "nugget_ids": [
           "EQ023-N02"
          ],
          "sentence_id": "8jhwamfv-C000-S001"
         },
         {
          "nugget_ids": [
           "EQ023-N02"
          ],
          "sentence_id": "8jhwamfv-C000-S004"
         },
         {
          "nugget_ids": [
           "EQ023-N02"
          ],
          "sentence_id": "8jhwamfv-C000-S006"
         },
         {
          "nugget_ids": [
           "EQ023-N02"
          ],
          "sentence_id": "8jhwamfv-C000-S007"
         },
         {
          "nugget_ids": [
           "EQ023-N02"
          ],
          "sentence_id": "8jhwamfv-C000-S003"
         },
         {
          "nugget_ids": [
           "EQ023-N04"
          ],
          "sentence_id": "8obqdbh9-C006-S002"
         },
         {
          "nugget_ids": [
           "EQ023-N04"
          ],
          "sentence_id": "8obqdbh9-C006-S003"
         },
         {
          "nugget_ids": [
           "EQ023-N04"
          ],
          "sentence_id": "8obqdbh9-C006-S005"
         },
         {
          "nugget_ids": [
           "EQ023-N04"
          ],
          "sentence_id": "8obqdbh9-C006-S000"
         },
         {
          "nugget_ids": [
           "EQ023-N03"
          ],
          "sentence_id": "8obqdbh9-C007-S001"
         },
         {
          "nugget_ids": [
           "EQ023-N03",
           "EQ023-N04"
          ],
          "sentence_id": "8obqdbh9-C007-S000"
         },
         {
          "nugget_ids": [
           "EQ023-N05"
          ],
          "sentence_id": "996h386w-C000-S007"
         },
         {
          "nugget_ids": [
           "EQ023-N05"
          ],
          "sentence_id": "996h386w-C000-S008"
         },
         {
          "nugget_ids": [
           "EQ023-N05"
          ],
          "sentence_id": "996h386w-C000-S006"
         },
         {
          "nugget_ids": [
           "EQ023-N05"
          ],
          "sentence_id": "996h386w-C000-S009"
         },
         {
          "nugget_ids": [
           "EQ023-N05"
          ],
          "sentence_id": "996h386w-C000-S002"
         },
         {
          "nugget_ids": [
           "EQ023-N03"
          ],
          "sentence_id": "9qpe4qm4-C001-S000"
         },
         {
          "nugget_ids": [
           "EQ023-N03"
          ],
          "sentence_id": "9qpe4qm4-C001-S003"
         },
         {
          "nugget_ids": [
           "EQ023-N03"
          ],
          "sentence_id": "a3o8u7l8-C010-S004"
         },
         {
          "nugget_ids": [
           "EQ023-N03"
          ],
          "sentence_id": "a3o8u7l8-C010-S006"
         },
         {
          "nugget_ids": [
           "EQ023-N03"
          ],
          "sentence_id": "a3o8u7l8-C010-S007"
         },
         {
          "nugget_ids": [
           "EQ023-N02"
          ],
          "sentence_id": "aor7mjh4-C000-S004"
         },
         {
          "nugget_ids": [
           "EQ023-N02"
          ],
          "sentence_id": "aor7mjh4-C000-S003"
         },
         {
          "nugget_ids": [
           "EQ023-N02"
          ],
          "sentence_id": "aor7mjh4-C000-S002"
         },
         {
          "nugget_ids": [
           "EQ023-N02"
          ],
          "sentence_id": "aor7mjh4-C000-S001"
         },
         {
          "nugget_ids": [
           "EQ023-N02"
          ],
          "sentence_id": "aor7mjh4-C000-S006"
         },
         {
          "nugget_ids": [
           "EQ023-N02"
          ],
          "sentence_id": "aor7mjh4-C000-S008"
         },
         {
          "nugget_ids": [
           "EQ023-N02"
          ],
          "sentence_id": "aor7mjh4-C000-S009"
         },
         {
          "nugget_ids": [
           "EQ023-N02"
          ],
          "sentence_id": "aor7mjh4-C000-S007"
         },
         {
          "nugget_ids": [
           "EQ023-N03"
          ],
          "sentence_id": "bwkad2s0-C006-S000"
         },
         {
          "nugget_ids": [
           "EQ023-N05"
          ],
          "sentence_id": "bwkad2s0-C006-S001"
         },
         {
          "nugget_ids": [
           "EQ023-N05"
          ],
          "sentence_id": "csgblpu1-C006-S000"
         },
         {
          "nugget_ids": [
           "EQ023-N03"
          ],
          "sentence_id": "d7q7m7zz-C010-S002"
         },
         {
          "nugget_ids": [
           "EQ023-N02"
          ],
          "sentence_id": "h3xwg8uy-C000-S001"
         },
         {
          "nugget_ids": [
           "EQ023-N02"
          ],
          "sentence_id": "h3xwg8uy-C000-S002"
         },
         {
          "nugget_ids": [
           "EQ023-N02"
          ],
          "sentence_id": "h3xwg8uy-C000-S003"
         },
         {
          "nugget_ids": [
           "EQ023-N02"
          ],
          "sentence_id": "h3xwg8uy-C000-S004"
         },
         {
          "nugget_ids": [
           "EQ023-N02"
          ],
          "sentence_id": "h3xwg8uy-C000-S005"
         },
         {
          "nugget_ids": [
           "EQ023-N02"
          ],
          "sentence_id": "h3xwg8uy-C000-S006"
         },
         {
          "nugget_ids": [
           "EQ023-N05"
          ],
          "sentence_id": "hsxwz798-C010-S002"
         },
         {
          "nugget_ids": [
           "EQ023-N05"
          ],
          "sentence_id": "hsxwz798-C010-S001"
         },
         {
          "nugget_ids": [
           "EQ023-N05"
          ],
          "sentence_id": "hsxwz798-C010-S009"
         },
         {
          "nugget_ids": [
           "EQ023-N03"
          ],
          "sentence_id": "kf2ddpo1-C001-S002"
         },
         {
          "nugget_ids": [
           "EQ023-N03"
          ],
          "sentence_id": "kf2ddpo1-C001-S003"
         },
         {
          "nugget_ids": [
           "EQ023-N03"
          ],
          "sentence_id": "kf2ddpo1-C001-S004"
         },
         {
          "nugget_ids": [
           "EQ023-N03"
          ],
          "sentence_id": "komx6t5h-C000-S005"
         },
         {
          "nugget_ids": [
           "EQ023-N03"
          ],
          "sentence_id": "komx6t5h-C000-S007"
         },
         {
          "nugget_ids": [
           "EQ023-N03"
          ],
          "sentence_id": "komx6t5h-C000-S006"
         },
         {
          "nugget_ids": [
           "EQ023-N05"
          ],
          "sentence_id": "mrye12tl-C000-S007"
         },
         {
          "nugget_ids": [
           "EQ023-N05"
          ],
          "sentence_id": "mrye12tl-C000-S008"
         },
         {
          "nugget_ids": [
           "EQ023-N05"
          ],
          "sentence_id": "mrye12tl-C000-S009"
         },
         {
          "nugget_ids": [
           "EQ023-N05"
          ],
          "sentence_id": "mrye12tl-C000-S002"
         },
         {
          "nugget_ids": [
           "EQ023-N03",
           "EQ023-N01"
          ],
          "sentence_id": "n4dgqo73-C002-S000"
         },
         {
          "nugget_ids": [
           "EQ023-N03",
           "EQ023-N01"
          ],
          "sentence_id": "n4dgqo73-C002-S001"
         },
         {
          "nugget_ids": [
           "EQ023-N03"
          ],
          "sentence_id": "n4dgqo73-C002-S002"
         },
         {
          "nugget_ids": [
           "EQ023-N03"
          ],
          "sentence_id": "o5031cxp-C001-S001"
         },
         {
          "nugget_ids": [
           "EQ023-N02"
          ],
          "sentence_id": "o5031cxp-C001-S002"
         },
         {
          "nugget_ids": [
           "EQ023-N02"
          ],
          "sentence_id": "o5031cxp-C001-S005"
         },
         {
          "nugget_ids": [
           "EQ023-N02"
          ],
          "sentence_id": "o5031cxp-C001-S006"
         },
         {
          "nugget_ids": [
           "EQ023-N02"
          ],
          "sentence_id": "o5031cxp-C001-S007"
         },
         {
          "nugget_ids": [
           "EQ023-N02"
          ],
          "sentence_id": "o5031cxp-C001-S004"
         },
         {
          "nugget_ids": [
           "EQ023-N02"
          ],
          "sentence_id": "p10cya94-C000-S000"
         },
         {
          "nugget_ids": [
           "EQ023-N02"
          ],
          "sentence_id": "p10cya94-C000-S001"
         },
         {
          "nugget_ids": [
           "EQ023-N02"
          ],
          "sentence_id": "p10cya94-C000-S012"
         },
         {
          "nugget_ids": [
           "EQ023-N02"
          ],
          "sentence_id": "p10cya94-C000-S010"
         },
         {
          "nugget_ids": [
           "EQ023-N02"
          ],
          "sentence_id": "p10cya94-C000-S011"
         },
         {
          "nugget_ids": [
           "EQ023-N03"
          ],
          "sentence_id": "p10cya94-C000-S007"
         },
         {
          "nugget_ids": [
           "EQ023-N03"
          ],
          "sentence_id": "p10cya94-C000-S009"
         },
         {
          "nugget_ids": [
           "EQ023-N04"
          ],
          "sentence_id": "qbxx6yae-C000-S003"
         },
         {
          "nugget_ids": [
           "EQ023-N04"
          ],
          "sentence_id": "qbxx6yae-C000-S007"
         },
         {
          "nugget_ids": [
           "EQ023-N04"
          ],
          "sentence_id": "qbxx6yae-C000-S009"
         },
         {
          "nugget_ids": [
           "EQ023-N02"
          ],
          "sentence_id": "qn89o0d3-C017-S000"
         },
         {
          "nugget_ids": [
           "EQ023-N02"
          ],
          "sentence_id": "qn89o0d3-C017-S001"
         },
         {
          "nugget_ids": [
           "EQ023-N02"
          ],
          "sentence_id": "qn89o0d3-C017-S002"
         },
         {
          "nugget_ids": [
           "EQ023-N02"
          ],
          "sentence_id": "qn89o0d3-C017-S003"
         },
         {
          "nugget_ids": [
           "EQ023-N02"
          ],
          "sentence_id": "qn89o0d3-C017-S004"
         },
         {
          "nugget_ids": [
           "EQ023-N02"
          ],
          "sentence_id": "qn89o0d3-C017-S005"
         },
         {
          "nugget_ids": [
           "EQ023-N02"
          ],
          "sentence_id": "sk4hihij-C003-S004"
         },
         {
          "nugget_ids": [
           "EQ023-N02"
          ],
          "sentence_id": "sk4hihij-C003-S005"
         },
         {
          "nugget_ids": [
           "EQ023-N02"
          ],
          "sentence_id": "sk4hihij-C003-S009"
         },
         {
          "nugget_ids": [
           "EQ023-N02"
          ],
          "sentence_id": "sk4hihij-C003-S010"
         },
         {
          "nugget_ids": [
           "EQ023-N02"
          ],
          "sentence_id": "sk4hihij-C003-S001"
         },
         {
          "nugget_ids": [
           "EQ023-N05"
          ],
          "sentence_id": "tajy3p9e-C000-S012"
         },
         {
          "nugget_ids": [
           "EQ023-N05"
          ],
          "sentence_id": "tajy3p9e-C000-S007"
         },
         {
          "nugget_ids": [
           "EQ023-N03"
          ],
          "sentence_id": "ucimsb8d-C003-S000"
         },
         {
          "nugget_ids": [
           "EQ023-N01"
          ],
          "sentence_id": "ucimsb8d-C001-S003"
         },
         {
          "nugget_ids": [
           "EQ023-N02"
          ],
          "sentence_id": "w2bhtu9f-C000-S000"
         },
         {
          "nugget_ids": [
           "EQ023-N02"
          ],
          "sentence_id": "w2bhtu9f-C000-S001"
         },
         {
          "nugget_ids": [
           "EQ023-N02"
          ],
          "sentence_id": "w2bhtu9f-C000-S002"
         },
         {
          "nugget_ids": [
           "EQ023-N02"
          ],
          "sentence_id": "w2bhtu9f-C000-S005"
         },
         {
          "nugget_ids": [
           "EQ023-N02"
          ],
          "sentence_id": "w2bhtu9f-C000-S006"
         },
         {
          "nugget_ids": [
           "EQ023-N02"
          ],
          "sentence_id": "w2bhtu9f-C000-S007"
         },
         {
          "nugget_ids": [
           "EQ023-N03",
           "EQ023-N01"
          ],
          "sentence_id": "weh0cq09-C003-S000"
         },
         {
          "nugget_ids": [
           "EQ023-N05"
          ],
          "sentence_id": "xk6zg17u-C002-S000"
         },
         {
          "nugget_ids": [
           "EQ023-N05"
          ],
          "sentence_id": "xk6zg17u-C002-S001"
         },
         {
          "nugget_ids": [
           "EQ023-N04"
          ],
          "sentence_id": "y4r9nfu9-C006-S000"
         },
         {
          "nugget_ids": [
           "EQ023-N03"
          ],
          "sentence_id": "y4r9nfu9-C006-S001"
         },
         {
          "nugget_ids": [
           "EQ023-N01"
          ],
          "sentence_id": "ye5v8t3j-C007-S000"
         },
         {
          "nugget_ids": [
           "EQ023-N03"
          ],
          "sentence_id": "ye5v8t3j-C007-S002"
         },
         {
          "nugget_ids": [
           "EQ023-N02"
          ],
          "sentence_id": "ye5v8t3j-C007-S003"
         },
         {
          "nugget_ids": [
           "EQ023-N02"
          ],
          "sentence_id": "ye5v8t3j-C007-S004"
         },
         {
          "nugget_ids": [
           "EQ023-N03"
          ],
          "sentence_id": "yezf62ac-C011-S002"
         },
         {
          "nugget_ids": [
           "EQ023-N04"
          ],
          "sentence_id": "yy0nyjzz-C002-S000"
         },
         {
          "nugget_ids": [
           "EQ023-N04"
          ],
          "sentence_id": "yy0nyjzz-C002-S001"
         }
        ],
        "nuggets": [
         {
          "nugget": "Comorbidites",
          "nugget_id": "EQ023-N05"
         },
         {
          "nugget": "Acute cardiac injury",
          "nugget_id": "EQ023-N04"
         },
         {
          "nugget": "Chronic Medical conditions",
          "nugget_id": "EQ023-N03"
         },
         {
          "nugget": "Hypertension Treatment",
          "nugget_id": "EQ023-N02"
         },
         {
          "nugget": "Increased Risk",
          "nugget_id": "EQ023-N01"
         },
         {
          "nugget": "hypertensive disorders of pregnancy",
          "nugget_id": "EQ023-N00"
         }
        ],
        "question_id": "EQ023"
       },
       {
        "annotations": [
         {
          "nugget_ids": [
           "CQ023-N00"
          ],
          "sentence_id": "1e70c19ffe4b7f50bfba1d3f9b836243fe6bc996-C005-S001"
         },
         {
          "nugget_ids": [
           "CQ023-N00"
          ],
          "sentence_id": "1e70c19ffe4b7f50bfba1d3f9b836243fe6bc996-C005-S000"
         },
         {
          "nugget_ids": [
           "CQ023-N00"
          ],
          "sentence_id": "1e70c19ffe4b7f50bfba1d3f9b836243fe6bc996-C005-S002"
         },
         {
          "nugget_ids": [
           "CQ023-N01"
          ],
          "sentence_id": "1f88a7b9b112ca618a1f86e940253c300fdb928e-C005-S001"
         },
         {
          "nugget_ids": [
           "CQ023-N01"
          ],
          "sentence_id": "1fbb2632cd6fb18e4f8f80d04a7c2fad895f8668-C000-S000"
         },
         {
          "nugget_ids": [
           "CQ023-N07"
          ],
          "sentence_id": "2c58fcfdeddfb2a9637fe3759aaad0d755cbee09-C001-S003"
         },
         {
          "nugget_ids": [
           "CQ023-N00"
          ],
          "sentence_id": "2c58fcfdeddfb2a9637fe3759aaad0d755cbee09-C001-S001"
         },
         {
          "nugget_ids": [
           "CQ023-N07"
          ],
          "sentence_id": "2df2dc3d8b76620f4ec17069986e7b182f59072d-C011-S000"
         },
         {
          "nugget_ids": [
           "CQ023-N02"
          ],
          "sentence_id": "2df2dc3d8b76620f4ec17069986e7b182f59072d-C018-S006"
         },
         {
          "nugget_ids": [
           "CQ023-N02"
          ],
          "sentence_id": "2df2dc3d8b76620f4ec17069986e7b182f59072d-C018-S013"
         },
         {
          "nugget_ids": [
           "CQ023-N02"
          ],
          "sentence_id": "2df2dc3d8b76620f4ec17069986e7b182f59072d-C018-S010"
         },
         {
          "nugget_ids": [
           "CQ023-N05"
          ],
          "sentence_id": "2df2dc3d8b76620f4ec17069986e7b182f59072d-C018-S009"
         },
         {
          "nugget_ids": [
           "CQ023-N03"
          ],
          "sentence_id": "2df2dc3d8b76620f4ec17069986e7b182f59072d-C023-S000"
         },
         {
          "nugget_ids": [
           "CQ023-N03"
          ],
          "sentence_id": "2df2dc3d8b76620f4ec17069986e7b182f59072d-C023-S006"
         },
         {
          "nugget_ids": [
           "CQ023-N03"
          ],
          "sentence_id": "2df2dc3d8b76620f4ec17069986e7b182f59072d-C023-S007"
         },
         {
          "nugget_ids": [
           "CQ023-N03"
          ],
          "sentence_id": "2df2dc3d8b76620f4ec17069986e7b182f59072d-C023-S005"
         },
         {
          "nugget_ids": [
           "CQ023-N03",
           "CQ023-N06"
          ],
          "sentence_id": "2df2dc3d8b76620f4ec17069986e7b182f59072d-C023-S004"
         },
         {
          "nugget_ids": [
           "CQ023-N06"
          ],
          "sentence_id": "2df2dc3d8b76620f4ec17069986e7b182f59072d-C023-S002"
         },
         {
          "nugget_ids": [
           "CQ023-N06"
          ],
          "sentence_id": "38390f953bb4863181f9db23e8651750b7c37646-C005-S002"
         },
         {
          "nugget_ids": [
           "CQ023-N04"
          ],
          "sentence_id": "38390f953bb4863181f9db23e8651750b7c37646-C005-S004"
         },
         {
          "nugget_ids": [
           "CQ023-N04"
          ],
          "sentence_id": "38390f953bb4863181f9db23e8651750b7c37646-C005-S006"
         },
         {
          "nugget_ids": [
           "CQ023-N04"
          ],
          "sentence_id": "38390f953bb4863181f9db23e8651750b7c37646-C005-S010"
         },
         {
          "nugget_ids": [
           "CQ023-N04"
          ],
          "sentence_id": "38390f953bb4863181f9db23e8651750b7c37646-C005-S012"
         },
         {
          "nugget_ids": [
           "CQ023-N04"
          ],
          "sentence_id": "38390f953bb4863181f9db23e8651750b7c37646-C005-S013"
         },
         {
          "nugget_ids": [
           "CQ023-N04"
          ],
          "sentence_id": "38390f953bb4863181f9db23e8651750b7c37646-C033-S001"
         },
         {
          "nugget_ids": [
           "CQ023-N04"
          ],
          "sentence_id": "38390f953bb4863181f9db23e8651750b7c37646-C033-S000"
         },
         {
          "nugget_ids": [
           "CQ023-N04"
          ],
          "sentence_id": "38390f953bb4863181f9db23e8651750b7c37646-C033-S004"
         },
         {
          "nugget_ids": [
           "CQ023-N04"
          ],
          "sentence_id": "38390f953bb4863181f9db23e8651750b7c37646-C033-S002"
         },
         {
          "nugget_ids": [
           "CQ023-N01"
          ],
          "sentence_id": "38390f953bb4863181f9db23e8651750b7c37646-C033-S003"
         },
         {
          "nugget_ids": [
           "CQ023-N01"
          ],
          "sentence_id": "3b5aec565eb5c94db4afa97eb188d1af183ff754-C000-S000"
         },
         {
          "nugget_ids": [
           "CQ023-N00"
          ],
          "sentence_id": "3b5aec565eb5c94db4afa97eb188d1af183ff754-C005-S000"
         },
         {
          "nugget_ids": [
           "CQ023-N00"
          ],
          "sentence_id": "3b5aec565eb5c94db4afa97eb188d1af183ff754-C005-S001"
         },
         {
          "nugget_ids": [
           "CQ023-N00"
          ],
          "sentence_id": "3b5aec565eb5c94db4afa97eb188d1af183ff754-C005-S002"
         },
         {
          "nugget_ids": [
           "CQ023-N02"
          ],
          "sentence_id": "3c1fcdf12bf53c47f76b573dd52d440fe1a7a8aa-C008-S000"
         },
         {
          "nugget_ids": [
           "CQ023-N02"
          ],
          "sentence_id": "3c1fcdf12bf53c47f76b573dd52d440fe1a7a8aa-C008-S003"
         },
         {
          "nugget_ids": [
           "CQ023-N02"
          ],
          "sentence_id": "3c1fcdf12bf53c47f76b573dd52d440fe1a7a8aa-C008-S001"
         },
         {
          "nugget_ids": [
           "CQ023-N02"
          ],
          "sentence_id": "3c1fcdf12bf53c47f76b573dd52d440fe1a7a8aa-C008-S002"
         },
         {
          "nugget_ids": [
           "CQ023-N05"
          ],
          "sentence_id": "3c1fcdf12bf53c47f76b573dd52d440fe1a7a8aa-C014-S001"
         },
         {
          "nugget_ids": [
           "CQ023-N05"
          ],
          "sentence_id": "3c1fcdf12bf53c47f76b573dd52d440fe1a7a8aa-C014-S002"
         },
         {
          "nugget_ids": [
           "CQ023-N05"
          ],
          "sentence_id": "3c1fcdf12bf53c47f76b573dd52d440fe1a7a8aa-C014-S003"
         },
         {
          "nugget_ids": [
           "CQ023-N05"
          ],
          "sentence_id": "3c1fcdf12bf53c47f76b573dd52d440fe1a7a8aa-C014-S004"
         },
         {
          "nugget_ids": [
           "CQ023-N05"
          ],
          "sentence_id": "3c1fcdf12bf53c47f76b573dd52d440fe1a7a8aa-C014-S008"
         },
         {
          "nugget_ids": [
           "CQ023-N05"
          ],
          "sentence_id": "3c1fcdf12bf53c47f76b573dd52d440fe1a7a8aa-C014-S011"
         },
         {
          "nugget_ids": [
           "CQ023-N05"
          ],
          "sentence_id": "3c1fcdf12bf53c47f76b573dd52d440fe1a7a8aa-C014-S010"
         },
         {
          "nugget_ids": [
           "CQ023-N01"
          ],
          "sentence_id": "58c0fc903ad4636156f8cb363cb9731bb973f5d1-C000-S000"
         },
         {
          "nugget_ids": [
           "CQ023-N06"
          ],
          "sentence_id": "58c7c105e627c78d1114b06ad4a1a17d00871bc1-C015-S005"
         },
         {
          "nugget_ids": [
           "CQ023-N01"
          ],
          "sentence_id": "58c7c105e627c78d1114b06ad4a1a17d00871bc1-C015-S003"
         },
         {
          "nugget_ids": [
           "CQ023-N01"
          ],
          "sentence_id": "58c7c105e627c78d1114b06ad4a1a17d00871bc1-C015-S002"
         },
         {
          "nugget_ids": [
           "CQ023-N00"
          ],
          "sentence_id": "5dda8569b57de9f1c947c9c044136428ea05bf29-C000-S003"
         },
         {
          "nugget_ids": [
           "CQ023-N00"
          ],
          "sentence_id": "5dda8569b57de9f1c947c9c044136428ea05bf29-C000-S004"
         },
         {
          "nugget_ids": [
           "CQ023-N00"
          ],
          "sentence_id": "5dda8569b57de9f1c947c9c044136428ea05bf29-C000-S005"
         },
         {
          "nugget_ids": [
           "CQ023-N01"
          ],
          "sentence_id": "5dda8569b57de9f1c947c9c044136428ea05bf29-C000-S006"
         },
         {
          "nugget_ids": [
           "CQ023-N06"
          ],
          "sentence_id": "95534418522ff422077fa28cb7dd5e824d6841a4-C069-S009"
         },
         {
          "nugget_ids": [
           "CQ023-N00"
          ],
          "sentence_id": "95534418522ff422077fa28cb7dd5e824d6841a4-C069-S001"
         },
         {
          "nugget_ids": [
           "CQ023-N06"
          ],
          "sentence_id": "95534418522ff422077fa28cb7dd5e824d6841a4-C026-S000"
         },
         {
          "nugget_ids": [
           "CQ023-N06"
          ],
          "sentence_id": "95534418522ff422077fa28cb7dd5e824d6841a4-C026-S001"
         },
         {
          "nugget_ids": [
           "CQ023-N00"
          ],
          "sentence_id": "95534418522ff422077fa28cb7dd5e824d6841a4-C026-S010"
         },
         {
          "nugget_ids": [
           "CQ023-N00"
          ],
          "sentence_id": "95534418522ff422077fa28cb7dd5e824d6841a4-C134-S000"
         },
         {
          "nugget_ids": [
           "CQ023-N07"
          ],
          "sentence_id": "95534418522ff422077fa28cb7dd5e824d6841a4-C020-S000"
         },
         {
          "nugget_ids": [
           "CQ023-N07"
          ],
          "sentence_id": "95534418522ff422077fa28cb7dd5e824d6841a4-C020-S001"
         },
         {
          "nugget_ids": [
           "CQ023-N07"
          ],
          "sentence_id": "95534418522ff422077fa28cb7dd5e824d6841a4-C020-S002"
         },
         {
          "nugget_ids": [
           "CQ023-N00"
          ],
          "sentence_id": "95534418522ff422077fa28cb7dd5e824d6841a4-C020-S011"
         },
         {
          "nugget_ids": [
           "CQ023-N00"
          ],
          "sentence_id": "ace0c0af6a7e298cf9db6ce6e54bb582f871dfeb-C000-S000"
         },
         {
          "nugget_ids": [
           "CQ023-N08"
          ],
          "sentence_id": "badbc9ab7eb21f1c082d74955aeb9dc7d3739313-C001-S000"
         },
         {
          "nugget_ids": [
           "CQ023-N08"
          ],
          "sentence_id": "badbc9ab7eb21f1c082d74955aeb9dc7d3739313-C001-S001"
         },
         {
          "nugget_ids": [
           "CQ023-N06"
          ],
          "sentence_id": "bceba12379d3b7042f03570be73a37d5d988cb66-C000-S005"
         },
         {
          "nugget_ids": [
           "CQ023-N06"
          ],
          "sentence_id": "bceba12379d3b7042f03570be73a37d5d988cb66-C000-S007"
         },
         {
          "nugget_ids": [
           "CQ023-N00"
          ],
          "sentence_id": "bceba12379d3b7042f03570be73a37d5d988cb66-C000-S012"
         },
         {
          "nugget_ids": [
           "CQ023-N00"
          ],
          "sentence_id": "bceba12379d3b7042f03570be73a37d5d988cb66-C000-S002"
         },
         {
          "nugget_ids": [
           "CQ023-N00"
          ],
          "sentence_id": "d04e6cfb7247cfa77a0a7a2a171e34f622748b3c-C000-S012"
         },
         {
          "nugget_ids": [
           "CQ023-N04"
          ],
          "sentence_id": "da4b78ce412fbc1076a0a9768817df33b977cec4-C003-S001"
         },
         {
          "nugget_ids": [
           "CQ023-N04"
          ],
          "sentence_id": "da4b78ce412fbc1076a0a9768817df33b977cec4-C003-S000"
         },
         {
          "nugget_ids": [
           "CQ023-N04"
          ],
          "sentence_id": "da4b78ce412fbc1076a0a9768817df33b977cec4-C003-S003"
         },
         {
          "nugget_ids": [
           "CQ023-N04"
          ],
          "sentence_id": "da4b78ce412fbc1076a0a9768817df33b977cec4-C003-S005"
         },
         {
          "nugget_ids": [
           "CQ023-N04"
          ],
          "sentence_id": "da4b78ce412fbc1076a0a9768817df33b977cec4-C003-S009"
         },
         {
          "nugget_ids": [
           "CQ023-N00"
          ],
          "sentence_id": "e77f5bec7406320ce8373d0354b903084b186e2e-C000-S002"
         },
         {
          "nugget_ids": [
           "CQ023-N00"
          ],
          "sentence_id": "e77f5bec7406320ce8373d0354b903084b186e2e-C000-S003"
         },
         {
          "nugget_ids": [
           "CQ023-N00"
          ],
          "sentence_id": "e77f5bec7406320ce8373d0354b903084b186e2e-C000-S004"
         },
         {
          "nugget_ids": [
           "CQ023-N06"
          ],
          "sentence_id": "ed24685d24edd81bac86bce51a4a93b1140efbb2-C049-S001"
         }
        ],
        "nuggets": [
         {
          "nugget": "Asthma",
          "nugget_id": "CQ023-N08"
         },
         {
          "nugget": "Clean surfaces",
          "nugget_id": "CQ023-N07"
         },
         {
          "nugget": "CDC",
          "nugget_id": "CQ023-N06"
         },
         {
          "nugget": "No specfic treatment",
          "nugget_id": "CQ023-N05"
         },
         {
          "nugget": "Children",
          "nugget_id": "CQ023-N04"
         },
         {
          "nugget": "Medications",
          "nugget_id": "CQ023-N03"
         },
         {
          "nugget": "Treatment",
          "nugget_id": "CQ023-N02"
         },
         {
          "nugget": "Higher risk",
          "nugget_id": "CQ023-N01"
         },
         {
          "nugget": "Symptoms",
          "nugget_id": "CQ023-N00"
         }
        ],
        "question_id": "CQ023"
       },
       {
        "annotations": [
         {
          "nugget_ids": [
           "EQ041-N06"
          ],
          "sentence_id": "lagat9la-C001-S008"
         },
         {
          "nugget_ids": [
           "EQ041-N05"
          ],
          "sentence_id": "1lw5vbu9-C001-S000"
         },
         {
          "nugget_ids": [
           "EQ041-N05",
           "EQ041-N01"
          ],
          "sentence_id": "1lw5vbu9-C001-S001"
         },
         {
          "nugget_ids": [
           "EQ041-N05",
           "EQ041-N01"
          ],
          "sentence_id": "1lw5vbu9-C001-S003"
         },
         {
          "nugget_ids": [
           "EQ041-N05"
          ],
          "sentence_id": "1lw5vbu9-C001-S004"
         },
         {
          "nugget_ids": [
           "EQ041-N05"
          ],
          "sentence_id": "1lw5vbu9-C004-S002"
         },
         {
          "nugget_ids": [
           "EQ041-N05"
          ],
          "sentence_id": "1lw5vbu9-C004-S005"
         },
         {
          "nugget_ids": [
           "EQ041-N05"
          ],
          "sentence_id": "1lw5vbu9-C004-S006"
         },
         {
          "nugget_ids": [
           "EQ041-N05"
          ],
          "sentence_id": "1lw5vbu9-C004-S012"
         },
         {
          "nugget_ids": [
           "EQ041-N02"
          ],
          "sentence_id": "1lw5vbu9-C000-S000"
         },
         {
          "nugget_ids": [
           "EQ041-N00"
          ],
          "sentence_id": "1lw5vbu9-C000-S001"
         },
         {
          "nugget_ids": [
           "EQ041-N00"
          ],
          "sentence_id": "1lw5vbu9-C000-S002"
         },
         {
          "nugget_ids": [
           "EQ041-N05"
          ],
          "sentence_id": "1lw5vbu9-C000-S003"
         },
         {
          "nugget_ids": [
           "EQ041-N05"
          ],
          "sentence_id": "1lw5vbu9-C000-S004"
         },
         {
          "nugget_ids": [
           "EQ041-N05",
           "EQ041-N06"
          ],
          "sentence_id": "1lw5vbu9-C008-S004"
         },
         {
          "nugget_ids": [
           "EQ041-N05",
           "EQ041-N02"
          ],
          "sentence_id": "1lw5vbu9-C008-S001"
         },
         {
          "nugget_ids": [
           "EQ041-N06"
          ],
          "sentence_id": "1lw5vbu9-C008-S002"
         },
         {
          "nugget_ids": [
           "EQ041-N06"
          ],
          "sentence_id": "hy27h1nd-C002-S000"
         },
         {
          "nugget_ids": [
           "EQ041-N05"
          ],
          "sentence_id": "hy27h1nd-C003-S000"
         },
         {
          "nugget_ids": [
           "EQ041-N01"
          ],
          "sentence_id": "hy27h1nd-C003-S001"
         },
         {
          "nugget_ids": [
           "EQ041-N01"
          ],
          "sentence_id": "hy27h1nd-C003-S002"
         },
         {
          "nugget_ids": [
           "EQ041-N06"
          ],
          "sentence_id": "5beiw78k-C001-S002"
         },
         {
          "nugget_ids": [
           "EQ041-N02"
          ],
          "sentence_id": "5beiw78k-C001-S004"
         },
         {
          "nugget_ids": [
           "EQ041-N06"
          ],
          "sentence_id": "80w0wu9e-C017-S002"
         },
         {
          "nugget_ids": [
           "EQ041-N05"
          ],
          "sentence_id": "80w0wu9e-C017-S000"
         },
         {
          "nugget_ids": [
           "EQ041-N05"
          ],
          "sentence_id": "80w0wu9e-C017-S001"
         },
         {
          "nugget_ids": [
           "EQ041-N03",
           "EQ041-N05"
          ],
          "sentence_id": "88s32x0v-C000-S000"
         },
         {
          "nugget_ids": [
           "EQ041-N02"
          ],
          "sentence_id": "8yvu9xhw-C000-S000"
         },
         {
          "nugget_ids": [
           "EQ041-N02",
           "EQ041-N01"
          ],
          "sentence_id": "8yvu9xhw-C000-S007"
         },
         {
          "nugget_ids": [
           "EQ041-N04"
          ],
          "sentence_id": "8yvu9xhw-C000-S002"
         },
         {
          "nugget_ids": [
           "EQ041-N04"
          ],
          "sentence_id": "8yvu9xhw-C000-S003"
         },
         {
          "nugget_ids": [
           "EQ041-N04"
          ],
          "sentence_id": "8yvu9xhw-C000-S008"
         },
         {
          "nugget_ids": [
           "EQ041-N05"
          ],
          "sentence_id": "8yvu9xhw-C000-S010"
         },
         {
          "nugget_ids": [
           "EQ041-N05"
          ],
          "sentence_id": "8yvu9xhw-C000-S011"
         },
         {
          "nugget_ids": [
           "EQ041-N05"
          ],
          "sentence_id": "8yvu9xhw-C000-S001"
         },
         {
          "nugget_ids": [
           "EQ041-N05"
          ],
          "sentence_id": "8yvu9xhw-C000-S009"
         },
         {
          "nugget_ids": [
           "EQ041-N02"
          ],
          "sentence_id": "8yvu9xhw-C001-S000"
         },
         {
          "nugget_ids": [
           "EQ041-N04"
          ],
          "sentence_id": "8yvu9xhw-C001-S002"
         },
         {
          "nugget_ids": [
           "EQ041-N04"
          ],
          "sentence_id": "8yvu9xhw-C001-S003"
         },
         {
          "nugget_ids": [
           "EQ041-N04"
          ],
          "sentence_id": "8yvu9xhw-C001-S004"
         },
         {
          "nugget_ids": [
           "EQ041-N06",
           "EQ041-N05"
          ],
          "sentence_id": "8yvu9xhw-C001-S001"
         },
         {
          "nugget_ids": [
           "EQ041-N01"
          ],
          "sentence_id": "9pn6f6g7-C002-S002"
         },
         {
          "nugget_ids": [
           "EQ041-N01"
          ],
          "sentence_id": "9pn6f6g7-C002-S001"
         },
         {
          "nugget_ids": [
           "EQ041-N01"
          ],
          "sentence_id": "9pn6f6g7-C002-S000"
         },
         {
          "nugget_ids": [
           "EQ041-N05"
          ],
          "sentence_id": "aa9zegjr-C000-S000"
         },
         {
          "nugget_ids": [
           "EQ041-N05"
          ],
          "sentence_id": "aa9zegjr-C000-S003"
         },
         {
          "nugget_ids": [
           "EQ041-N05",
           "EQ041-N02"
          ],
          "sentence_id": "aa9zegjr-C000-S004"
         },
         {
          "nugget_ids": [
           "EQ041-N05"
          ],
          "sentence_id": "aa9zegjr-C000-S006"
         },
         {
          "nugget_ids": [
           "EQ041-N02"
          ],
          "sentence_id": "cuo7qdkj-C000-S000"
         },
         {
          "nugget_ids": [
           "EQ041-N02",
           "EQ041-N05"
          ],
          "sentence_id": "cuo7qdkj-C000-S003"
         },
         {
          "nugget_ids": [
           "EQ041-N05"
          ],
          "sentence_id": "cuo7qdkj-C000-S001"
         },
         {
          "nugget_ids": [
           "EQ041-N05"
          ],
          "sentence_id": "cuo7qdkj-C000-S004"
         },
         {
          "nugget_ids": [
           "EQ041-N05",
           "EQ041-N06"
          ],
          "sentence_id": "cuo7qdkj-C000-S005"
         },
         {
          "nugget_ids": [
           "EQ041-N06"
          ],
          "sentence_id": "dwrazfli-C002-S000"
         },
         {
          "nugget_ids": [
           "EQ041-N06"
          ],
          "sentence_id": "dwrazfli-C002-S002"
         },
         {
          "nugget_ids": [
           "EQ041-N05"
          ],
          "sentence_id": "dwrazfli-C002-S001"
         },
         {
          "nugget_ids": [
           "EQ041-N05"
          ],
          "sentence_id": "dwrazfli-C002-S003"
         },
         {
          "nugget_ids": [
           "EQ041-N06"
          ],
          "sentence_id": "dwrazfli-C011-S000"
         },
         {
          "nugget_ids": [
           "EQ041-N06"
          ],
          "sentence_id": "dwrazfli-C011-S003"
         },
         {
          "nugget_ids": [
           "EQ041-N05"
          ],
          "sentence_id": "dwrazfli-C011-S004"
         },
         {
          "nugget_ids": [
           "EQ041-N05"
          ],
          "sentence_id": "dwrazfli-C011-S002"
         },
         {
          "nugget_ids": [
           "EQ041-N05"
          ],
          "sentence_id": "dwrazfli-C011-S001"
         },
         {
          "nugget_ids": [
           "EQ041-N05"
          ],
          "sentence_id": "fefkvg0a-C007-S000"
         },
         {
          "nugget_ids": [
           "EQ041-N05",
           "EQ041-N01"
          ],
          "sentence_id": "fefkvg0a-C007-S002"
         },
         {
          "nugget_ids": [
           "EQ041-N06",
           "EQ041-N00"
          ],
          "sentence_id": "fefkvg0a-C007-S005"
         },
         {
          "nugget_ids": [
           "EQ041-N02"
          ],
          "sentence_id": "fefkvg0a-C007-S003"
         },
         {
          "nugget_ids": [
           "EQ041-N01",
           "EQ041-N03"
          ],
          "sentence_id": "fefkvg0a-C007-S001"
         },
         {
          "nugget_ids": [
           "EQ041-N02",
           "EQ041-N05"
          ],
          "sentence_id": "flkd7u9u-C036-S002"
         },
         {
          "nugget_ids": [
           "EQ041-N02",
           "EQ041-N05"
          ],
          "sentence_id": "flkd7u9u-C036-S003"
         },
         {
          "nugget_ids": [
           "EQ041-N02",
           "EQ041-N05"
          ],
          "sentence_id": "flkd7u9u-C036-S004"
         },
         {
          "nugget_ids": [
           "EQ041-N02",
           "EQ041-N05"
          ],
          "sentence_id": "flkd7u9u-C036-S005"
         },
         {
          "nugget_ids": [
           "EQ041-N02",
           "EQ041-N05"
          ],
          "sentence_id": "fsid4a39-C002-S001"
         },
         {
          "nugget_ids": [
           "EQ041-N02",
           "EQ041-N05"
          ],
          "sentence_id": "fsid4a39-C002-S002"
         },
         {
          "nugget_ids": [
           "EQ041-N01"
          ],
          "sentence_id": "fsid4a39-C002-S003"
         },
         {
          "nugget_ids": [
           "EQ041-N05"
          ],
          "sentence_id": "g0ndggwc-C000-S000"
         },
         {
          "nugget_ids": [
           "EQ041-N05",
           "EQ041-N02"
          ],
          "sentence_id": "g0ndggwc-C000-S001"
         },
         {
          "nugget_ids": [
           "EQ041-N05"
          ],
          "sentence_id": "g0ndggwc-C000-S003"
         },
         {
          "nugget_ids": [
           "EQ041-N05"
          ],
          "sentence_id": "g0ndggwc-C000-S004"
         },
         {
          "nugget_ids": [
           "EQ041-N05",
           "EQ041-N01"
          ],
          "sentence_id": "g0ndggwc-C000-S005"
         },
         {
          "nugget_ids": [
           "EQ041-N06"
          ],
          "sentence_id": "g0ndggwc-C000-S009"
         },
         {
          "nugget_ids": [
           "EQ041-N06",
           "EQ041-N00"
          ],
          "sentence_id": "g0ndggwc-C000-S007"
         },
         {
          "nugget_ids": [
           "EQ041-N05"
          ],
          "sentence_id": "hiqj1jsa-C000-S000"
         },
         {
          "nugget_ids": [
           "EQ041-N05"
          ],
          "sentence_id": "hiqj1jsa-C000-S004"
         },
         {
          "nugget_ids": [
           "EQ041-N05",
           "EQ041-N06",
           "EQ041-N00"
          ],
          "sentence_id": "hiqj1jsa-C000-S005"
         },
         {
          "nugget_ids": [
           "EQ041-N05"
          ],
          "sentence_id": "hiqj1jsa-C000-S006"
         },
         {
          "nugget_ids": [
           "EQ041-N05",
           "EQ041-N02"
          ],
          "sentence_id": "miayce9l-C000-S000"
         },
         {
          "nugget_ids": [
           "EQ041-N05"
          ],
          "sentence_id": "miayce9l-C000-S002"
         },
         {
          "nugget_ids": [
           "EQ041-N00"
          ],
          "sentence_id": "miayce9l-C000-S001"
         },
         {
          "nugget_ids": [
           "EQ041-N00"
          ],
          "sentence_id": "msfwi6x2-C022-S000"
         },
         {
          "nugget_ids": [
           "EQ041-N05",
           "EQ041-N01"
          ],
          "sentence_id": "msfwi6x2-C022-S003"
         },
         {
          "nugget_ids": [
           "EQ041-N05",
           "EQ041-N00"
          ],
          "sentence_id": "nw2pd9ni-C001-S005"
         },
         {
          "nugget_ids": [
           "EQ041-N05",
           "EQ041-N06"
          ],
          "sentence_id": "nw2pd9ni-C001-S004"
         },
         {
          "nugget_ids": [
           "EQ041-N05",
           "EQ041-N00"
          ],
          "sentence_id": "nw2pd9ni-C001-S003"
         },
         {
          "nugget_ids": [
           "EQ041-N05"
          ],
          "sentence_id": "nw2pd9ni-C001-S002"
         },
         {
          "nugget_ids": [
           "EQ041-N05"
          ],
          "sentence_id": "nw2pd9ni-C001-S001"
         },
         {
          "nugget_ids": [
           "EQ041-N05",
           "EQ041-N02"
          ],
          "sentence_id": "nw2pd9ni-C001-S000"
         },
         {
          "nugget_ids": [
           "EQ041-N05",
           "EQ041-N00"
          ],
          "sentence_id": "nw2pd9ni-C001-S006"
         },
         {
          "nugget_ids": [
           "EQ041-N01"
          ],
          "sentence_id": "mzx1ye6t-C089-S001"
         },
         {
          "nugget_ids": [
           "EQ041-N06"
          ],
          "sentence_id": "mzx1ye6t-C089-S000"
         },
         {
          "nugget_ids": [
           "EQ041-N06"
          ],
          "sentence_id": "mzx1ye6t-C089-S003"
         },
         {
          "nugget_ids": [
           "EQ041-N06"
          ],
          "sentence_id": "mzx1ye6t-C089-S002"
         },
         {
          "nugget_ids": [
           "EQ041-N06"
          ],
          "sentence_id": "pws42iay-C009-S002"
         },
         {
          "nugget_ids": [
           "EQ041-N06"
          ],
          "sentence_id": "pws42iay-C009-S001"
         },
         {
          "nugget_ids": [
           "EQ041-N06"
          ],
          "sentence_id": "pws42iay-C009-S000"
         },
         {
          "nugget_ids": [
           "EQ041-N00"
          ],
          "sentence_id": "q6zrmfud-C003-S000"
         },
         {
          "nugget_ids": [
           "EQ041-N00",
           "EQ041-N06"
          ],
          "sentence_id": "q6zrmfud-C003-S007"
         },
         {
          "nugget_ids": [
           "EQ041-N00",
           "EQ041-N05"
          ],
          "sentence_id": "q6zrmfud-C003-S011"
         },
         {
          "nugget_ids": [
           "EQ041-N00",
           "EQ041-N05"
          ],
          "sentence_id": "q6zrmfud-C003-S013"
         },
         {
          "nugget_ids": [
           "EQ041-N01"
          ],
          "sentence_id": "q6zrmfud-C003-S002"
         },
         {
          "nugget_ids": [
           "EQ041-N01"
          ],
          "sentence_id": "q6zrmfud-C003-S003"
         },
         {
          "nugget_ids": [
           "EQ041-N01"
          ],
          "sentence_id": "q6zrmfud-C003-S004"
         },
         {
          "nugget_ids": [
           "EQ041-N01"
          ],
          "sentence_id": "q6zrmfud-C003-S005"
         },
         {
          "nugget_ids": [
           "EQ041-N01",
           "EQ041-N03"
          ],
          "sentence_id": "q6zrmfud-C003-S008"
         },
         {
          "nugget_ids": [
           "EQ041-N03"
          ],
          "sentence_id": "q6zrmfud-C003-S009"
         },
         {
          "nugget_ids": [
           "EQ041-N03"
          ],
          "sentence_id": "q6zrmfud-C003-S010"
         },
         {
          "nugget_ids": [
           "EQ041-N05"
          ],
          "sentence_id": "q6zrmfud-C003-S006"
         },
         {
          "nugget_ids": [
           "EQ041-N06"
          ],
          "sentence_id": "q6zrmfud-C003-S012"
         },
         {
          "nugget_ids": [
           "EQ041-N02"
          ],
          "sentence_id": "q7telkky-C000-S000"
         },
         {
          "nugget_ids": [
           "EQ041-N06"
          ],
          "sentence_id": "q7telkky-C000-S001"
         },
         {
          "nugget_ids": [
           "EQ041-N06"
          ],
          "sentence_id": "q7telkky-C000-S002"
         },
         {
          "nugget_ids": [
           "EQ041-N05"
          ],
          "sentence_id": "qvu7981m-C046-S001"
         },
         {
          "nugget_ids": [
           "EQ041-N05"
          ],
          "sentence_id": "qvu7981m-C046-S002"
         },
         {
          "nugget_ids": [
           "EQ041-N05",
           "EQ041-N00"
          ],
          "sentence_id": "qvu7981m-C046-S004"
         },
         {
          "nugget_ids": [
           "EQ041-N05"
          ],
          "sentence_id": "qvu7981m-C046-S005"
         },
         {
          "nugget_ids": [
           "EQ041-N06"
          ],
          "sentence_id": "qvu7981m-C046-S000"
         },
         {
          "nugget_ids": [
           "EQ041-N06"
          ],
          "sentence_id": "r8s2osad-C006-S002"
         },
         {
          "nugget_ids": [
           "EQ041-N06"
          ],
          "sentence_id": "r8s2osad-C006-S008"
         },
         {
          "nugget_ids": [
           "EQ041-N06"
          ],
          "sentence_id": "r8s2osad-C006-S003"
         },
         {
          "nugget_ids": [
           "EQ041-N00",
           "EQ041-N06"
          ],
          "sentence_id": "rk6h1vka-C000-S000"
         },
         {
          "nugget_ids": [
           "EQ041-N06",
           "EQ041-N05"
          ],
          "sentence_id": "rk6h1vka-C000-S005"
         },
         {
          "nugget_ids": [
           "EQ041-N05"
          ],
          "sentence_id": "rk6h1vka-C000-S001"
         },
         {
          "nugget_ids": [
           "EQ041-N05"
          ],
          "sentence_id": "rk6h1vka-C000-S003"
         },
         {
          "nugget_ids": [
           "EQ041-N06"
          ],
          "sentence_id": "sza8r2e1-C000-S000"
         },
         {
          "nugget_ids": [
           "EQ041-N06"
          ],
          "sentence_id": "sza8r2e1-C000-S001"
         },
         {
          "nugget_ids": [
           "EQ041-N02"
          ],
          "sentence_id": "sza8r2e1-C000-S002"
         },
         {
          "nugget_ids": [
           "EQ041-N02"
          ],
          "sentence_id": "u2pt89w9-C012-S001"
         },
         {
          "nugget_ids": [
           "EQ041-N02",
           "EQ041-N01"
          ],
          "sentence_id": "u2pt89w9-C012-S002"
         },
         {
          "nugget_ids": [
           "EQ041-N03",
           "EQ041-N06"
          ],
          "sentence_id": "u2pt89w9-C012-S004"
         },
         {
          "nugget_ids": [
           "EQ041-N06"
          ],
          "sentence_id": "u2pt89w9-C012-S000"
         },
         {
          "nugget_ids": [
           "EQ041-N05",
           "EQ041-N06"
          ],
          "sentence_id": "vs4qb91t-C000-S003"
         },
         {
          "nugget_ids": [
           "EQ041-N05",
           "EQ041-N06"
          ],
          "sentence_id": "vs4qb91t-C000-S002"
         },
         {
          "nugget_ids": [
           "EQ041-N05",
           "EQ041-N06"
          ],
          "sentence_id": "vs4qb91t-C000-S000"
         },
         {
          "nugget_ids": [
           "EQ041-N05",
           "EQ041-N06"
          ],
          "sentence_id": "vs4qb91t-C000-S004"
         },
         {
          "nugget_ids": [
           "EQ041-N06"
          ],
          "sentence_id": "zxb8zfep-C000-S001"
         },
         {
          "nugget_ids": [
           "EQ041-N06"
          ],
          "sentence_id": "zxb8zfep-C000-S007"
         },
         {
          "nugget_ids": [
           "EQ041-N05"
          ],
          "sentence_id": "zxb8zfep-C000-S000"
         },
         {
          "nugget_ids": [
           "EQ041-N05"
          ],
          "sentence_id": "zxb8zfep-C000-S011"
         }
        ],
        "nuggets": [
         {
          "nugget": "Socioeconmic Disparities",
          "nugget_id": "EQ041-N06"
         },
         {
          "nugget": "Incrementanl Risk",
          "nugget_id": "EQ041-N05"
         },
         {
          "nugget": "Social distancing",
          "nugget_id": "EQ041-N04"
         },
         {
          "nugget": "Occupational Risk",
          "nugget_id": "EQ041-N03"
         },
         {
          "nugget": "Death Percentage",
          "nugget_id": "EQ041-N02"
         },
         {
          "nugget": "CDC COVID-NET",
          "nugget_id": "EQ041-N01"
         },
         {
          "nugget": "Insectionality of Factors",
          "nugget_id": "EQ041-N00"
         }
        ],
        "question_id": "EQ041"
       },
       {
        "annotations": [
         {
          "nugget_ids": [
           "CQ041-N03"
          ],
          "sentence_id": "1c52318e1c9d61a672604d071830c8b38ffe991f-C000-S002"
         },
         {
          "nugget_ids": [
           "CQ041-N00"
          ],
          "sentence_id": "5dda8569b57de9f1c947c9c044136428ea05bf29-C000-S006"
         },
         {
          "nugget_ids": [
           "CQ041-N00"
          ],
          "sentence_id": "95534418522ff422077fa28cb7dd5e824d6841a4-C073-S007"
         },
         {
          "nugget_ids": [
           "CQ041-N00"
          ],
          "sentence_id": "95534418522ff422077fa28cb7dd5e824d6841a4-C073-S008"
         },
         {
          "nugget_ids": [
           "CQ041-N00"
          ],
          "sentence_id": "95534418522ff422077fa28cb7dd5e824d6841a4-C073-S005"
         },
         {
          "nugget_ids": [
           "CQ041-N00"
          ],
          "sentence_id": "95534418522ff422077fa28cb7dd5e824d6841a4-C073-S006"
         },
         {
          "nugget_ids": [
           "CQ041-N01"
          ],
          "sentence_id": "95534418522ff422077fa28cb7dd5e824d6841a4-C073-S000"
         },
         {
          "nugget_ids": [
           "CQ041-N01"
          ],
          "sentence_id": "95534418522ff422077fa28cb7dd5e824d6841a4-C073-S003"
         },
         {
          "nugget_ids": [
           "CQ041-N01"
          ],
          "sentence_id": "95534418522ff422077fa28cb7dd5e824d6841a4-C003-S009"
         },
         {
          "nugget_ids": [
           "CQ041-N01"
          ],
          "sentence_id": "95534418522ff422077fa28cb7dd5e824d6841a4-C026-S000"
         },
         {
          "nugget_ids": [
           "CQ041-N01"
          ],
          "sentence_id": "95534418522ff422077fa28cb7dd5e824d6841a4-C026-S001"
         },
         {
          "nugget_ids": [
           "CQ041-N00"
          ],
          "sentence_id": "be5edea77fcbed022e672b9cc8380d0bd2e56eb9-C003-S007"
         },
         {
          "nugget_ids": [
           "CQ041-N01"
          ],
          "sentence_id": "be5edea77fcbed022e672b9cc8380d0bd2e56eb9-C003-S008"
         },
         {
          "nugget_ids": [
           "CQ041-N01"
          ],
          "sentence_id": "be5edea77fcbed022e672b9cc8380d0bd2e56eb9-C003-S009"
         },
         {
          "nugget_ids": [
           "CQ041-N03"
          ],
          "sentence_id": "cb720be4bd281848c8e901083a182e4f4f5a83e7-C001-S004"
         },
         {
          "nugget_ids": [
           "CQ041-N03"
          ],
          "sentence_id": "cb720be4bd281848c8e901083a182e4f4f5a83e7-C001-S002"
         },
         {
          "nugget_ids": [
           "CQ041-N03"
          ],
          "sentence_id": "cb720be4bd281848c8e901083a182e4f4f5a83e7-C001-S001"
         },
         {
          "nugget_ids": [
           "CQ041-N01"
          ],
          "sentence_id": "cfff20c4664913471368397efc281f0dcab73567-C001-S009"
         },
         {
          "nugget_ids": [
           "CQ041-N01"
          ],
          "sentence_id": "cfff20c4664913471368397efc281f0dcab73567-C001-S007"
         },
         {
          "nugget_ids": [
           "CQ041-N01"
          ],
          "sentence_id": "cfff20c4664913471368397efc281f0dcab73567-C001-S000"
         },
         {
          "nugget_ids": [
           "CQ041-N01"
          ],
          "sentence_id": "cfff20c4664913471368397efc281f0dcab73567-C011-S003"
         },
         {
          "nugget_ids": [
           "CQ041-N01"
          ],
          "sentence_id": "cfff20c4664913471368397efc281f0dcab73567-C011-S002"
         },
         {
          "nugget_ids": [
           "CQ041-N01"
          ],
          "sentence_id": "cfff20c4664913471368397efc281f0dcab73567-C011-S001"
         },
         {
          "nugget_ids": [
           "CQ041-N01"
          ],
          "sentence_id": "d04e6cfb7247cfa77a0a7a2a171e34f622748b3c-C000-S012"
         },
         {
          "nugget_ids": [
           "CQ041-N01"
          ],
          "sentence_id": "d04e6cfb7247cfa77a0a7a2a171e34f622748b3c-C000-S013"
         },
         {
          "nugget_ids": [
           "CQ041-N00"
          ],
          "sentence_id": "e6c5a83dcf1f9686604dac3b7410777067cd224b-C001-S006"
         },
         {
          "nugget_ids": [
           "CQ041-N00"
          ],
          "sentence_id": "f1caf55375b8ed40ec446dc2f3c35edac2eef1b2-C057-S001"
         }
        ],
        "nuggets": [
         {
          "nugget": "Health inequality",
          "nugget_id": "CQ041-N03"
         },
         {
          "nugget": "Econmic status",
          "nugget_id": "CQ041-N02"
         },
         {
          "nugget": "CDC Guidelines",
          "nugget_id": "CQ041-N01"
         },
         {
          "nugget": "Increase Risk",
          "nugget_id": "CQ041-N00"
         }
        ],
        "question_id": "CQ041"
       },
       {
        "annotations": [
         {
          "nugget_ids": [
           "EQ025-N00"
          ],
          "sentence_id": "0g7wy4yw-C000-S006"
         },
         {
          "nugget_ids": [
           "EQ025-N06"
          ],
          "sentence_id": "0g7wy4yw-C000-S007"
         },
         {
          "nugget_ids": [
           "EQ025-N00"
          ],
          "sentence_id": "0g7wy4yw-C000-S008"
         },
         {
          "nugget_ids": [
           "EQ025-N00"
          ],
          "sentence_id": "0g7wy4yw-C000-S009"
         },
         {
          "nugget_ids": [
           "EQ025-N00"
          ],
          "sentence_id": "0g7wy4yw-C000-S010"
         },
         {
          "nugget_ids": [
           "EQ025-N00"
          ],
          "sentence_id": "0g7wy4yw-C000-S011"
         },
         {
          "nugget_ids": [
           "EQ025-N00"
          ],
          "sentence_id": "0g7wy4yw-C000-S013"
         },
         {
          "nugget_ids": [
           "EQ025-N00"
          ],
          "sentence_id": "4srdobgu-C000-S004"
         },
         {
          "nugget_ids": [
           "EQ025-N01"
          ],
          "sentence_id": "4y5279c5-C001-S010"
         },
         {
          "nugget_ids": [
           "EQ025-N07"
          ],
          "sentence_id": "6m71ubfz-C000-S005"
         },
         {
          "nugget_ids": [
           "EQ025-N02"
          ],
          "sentence_id": "82kz35th-C000-S007"
         },
         {
          "nugget_ids": [
           "EQ025-N05"
          ],
          "sentence_id": "82kz35th-C000-S010"
         },
         {
          "nugget_ids": [
           "EQ025-N10"
          ],
          "sentence_id": "9k8r18x7-C000-S003"
         },
         {
          "nugget_ids": [
           "EQ025-N00"
          ],
          "sentence_id": "9k8r18x7-C000-S005"
         },
         {
          "nugget_ids": [
           "EQ025-N10"
          ],
          "sentence_id": "9k8r18x7-C000-S006"
         },
         {
          "nugget_ids": [
           "EQ025-N11"
          ],
          "sentence_id": "9k8r18x7-C000-S007"
         },
         {
          "nugget_ids": [
           "EQ025-N04"
          ],
          "sentence_id": "as6tbfrh-C000-S001"
         },
         {
          "nugget_ids": [
           "EQ025-N00"
          ],
          "sentence_id": "asivq33u-C000-S010"
         },
         {
          "nugget_ids": [
           "EQ025-N14"
          ],
          "sentence_id": "asivq33u-C000-S012"
         },
         {
          "nugget_ids": [
           "EQ025-N12"
          ],
          "sentence_id": "asivq33u-C000-S013"
         },
         {
          "nugget_ids": [
           "EQ025-N00"
          ],
          "sentence_id": "bph0ro5v-C004-S005"
         },
         {
          "nugget_ids": [
           "EQ025-N00"
          ],
          "sentence_id": "cwi0omul-C000-S007"
         },
         {
          "nugget_ids": [
           "EQ025-N06"
          ],
          "sentence_id": "cwi0omul-C000-S009"
         },
         {
          "nugget_ids": [
           "EQ025-N00"
          ],
          "sentence_id": "cwi0omul-C000-S011"
         },
         {
          "nugget_ids": [
           "EQ025-N06"
          ],
          "sentence_id": "dm5cf4hw-C000-S003"
         },
         {
          "nugget_ids": [
           "EQ025-N06"
          ],
          "sentence_id": "dm5cf4hw-C000-S004"
         },
         {
          "nugget_ids": [
           "EQ025-N06"
          ],
          "sentence_id": "dm5cf4hw-C000-S005"
         },
         {
          "nugget_ids": [
           "EQ025-N06"
          ],
          "sentence_id": "dm5cf4hw-C000-S006"
         },
         {
          "nugget_ids": [
           "EQ025-N00"
          ],
          "sentence_id": "dvpl8dfx-C000-S004"
         },
         {
          "nugget_ids": [
           "EQ025-N00"
          ],
          "sentence_id": "dvpl8dfx-C000-S007"
         },
         {
          "nugget_ids": [
           "EQ025-N00"
          ],
          "sentence_id": "dvpl8dfx-C000-S008"
         },
         {
          "nugget_ids": [
           "EQ025-N00"
          ],
          "sentence_id": "dvpl8dfx-C000-S005"
         },
         {
          "nugget_ids": [
           "EQ025-N00"
          ],
          "sentence_id": "dvpl8dfx-C000-S006"
         },
         {
          "nugget_ids": [
           "EQ025-N00"
          ],
          "sentence_id": "fg69m7o0-C000-S007"
         },
         {
          "nugget_ids": [
           "EQ025-N06"
          ],
          "sentence_id": "fg69m7o0-C000-S009"
         },
         {
          "nugget_ids": [
           "EQ025-N00"
          ],
          "sentence_id": "fg69m7o0-C000-S011"
         },
         {
          "nugget_ids": [
           "EQ025-N16"
          ],
          "sentence_id": "glntveye-C000-S001"
         },
         {
          "nugget_ids": [
           "EQ025-N16"
          ],
          "sentence_id": "ljc7ojzt-C000-S001"
         },
         {
          "nugget_ids": [
           "EQ025-N01"
          ],
          "sentence_id": "ljc7ojzt-C000-S005"
         },
         {
          "nugget_ids": [
           "EQ025-N07"
          ],
          "sentence_id": "lz2oqqin-C002-S002"
         },
         {
          "nugget_ids": [
           "EQ025-N07"
          ],
          "sentence_id": "lz2oqqin-C002-S005"
         },
         {
          "nugget_ids": [
           "EQ025-N08"
          ],
          "sentence_id": "lz2oqqin-C002-S008"
         },
         {
          "nugget_ids": [
           "EQ025-N07"
          ],
          "sentence_id": "lz2oqqin-C002-S009"
         },
         {
          "nugget_ids": [
           "EQ025-N07"
          ],
          "sentence_id": "lz2oqqin-C002-S010"
         },
         {
          "nugget_ids": [
           "EQ025-N07"
          ],
          "sentence_id": "lz2oqqin-C002-S012"
         },
         {
          "nugget_ids": [
           "EQ025-N00"
          ],
          "sentence_id": "m8x2ryx5-C000-S006"
         },
         {
          "nugget_ids": [
           "EQ025-N02"
          ],
          "sentence_id": "m8x2ryx5-C000-S007"
         },
         {
          "nugget_ids": [
           "EQ025-N01"
          ],
          "sentence_id": "m8x2ryx5-C000-S008"
         },
         {
          "nugget_ids": [
           "EQ025-N00"
          ],
          "sentence_id": "mfaza5rg-C000-S004"
         },
         {
          "nugget_ids": [
           "EQ025-N00"
          ],
          "sentence_id": "mfaza5rg-C000-S005"
         },
         {
          "nugget_ids": [
           "EQ025-N00"
          ],
          "sentence_id": "mfaza5rg-C000-S006"
         },
         {
          "nugget_ids": [
           "EQ025-N05"
          ],
          "sentence_id": "mfaza5rg-C000-S007"
         },
         {
          "nugget_ids": [
           "EQ025-N00"
          ],
          "sentence_id": "mfaza5rg-C000-S008"
         },
         {
          "nugget_ids": [
           "EQ025-N00"
          ],
          "sentence_id": "mfaza5rg-C000-S009"
         },
         {
          "nugget_ids": [
           "EQ025-N00"
          ],
          "sentence_id": "nqee1shq-C000-S010"
         },
         {
          "nugget_ids": [
           "EQ025-N00"
          ],
          "sentence_id": "nqee1shq-C000-S011"
         },
         {
          "nugget_ids": [
           "EQ025-N00"
          ],
          "sentence_id": "nqee1shq-C000-S013"
         },
         {
          "nugget_ids": [
           "EQ025-N16"
          ],
          "sentence_id": "ny2uqeor-C003-S002"
         },
         {
          "nugget_ids": [
           "EQ025-N07"
          ],
          "sentence_id": "ny2uqeor-C003-S003"
         },
         {
          "nugget_ids": [
           "EQ025-N06"
          ],
          "sentence_id": "o6xrzvjx-C000-S005"
         },
         {
          "nugget_ids": [
           "EQ025-N06"
          ],
          "sentence_id": "o6xrzvjx-C000-S006"
         },
         {
          "nugget_ids": [
           "EQ025-N06"
          ],
          "sentence_id": "o6xrzvjx-C029-S005"
         },
         {
          "nugget_ids": [
           "EQ025-N06"
          ],
          "sentence_id": "o6xrzvjx-C029-S006"
         },
         {
          "nugget_ids": [
           "EQ025-N06"
          ],
          "sentence_id": "op02flb8-C001-S003"
         },
         {
          "nugget_ids": [
           "EQ025-N00"
          ],
          "sentence_id": "rkm6c8z6-C000-S011"
         },
         {
          "nugget_ids": [
           "EQ025-N00"
          ],
          "sentence_id": "rkm6c8z6-C000-S010"
         },
         {
          "nugget_ids": [
           "EQ025-N00"
          ],
          "sentence_id": "rkm6c8z6-C000-S013"
         },
         {
          "nugget_ids": [
           "EQ025-N02"
          ],
          "sentence_id": "s9j21zsy-C000-S003"
         },
         {
          "nugget_ids": [
           "EQ025-N01"
          ],
          "sentence_id": "s9j21zsy-C000-S004"
         },
         {
          "nugget_ids": [
           "EQ025-N02"
          ],
          "sentence_id": "t996fbad-C008-S005"
         },
         {
          "nugget_ids": [
           "EQ025-N00"
          ],
          "sentence_id": "t996fbad-C008-S006"
         },
         {
          "nugget_ids": [
           "EQ025-N02"
          ],
          "sentence_id": "t996fbad-C000-S003"
         },
         {
          "nugget_ids": [
           "EQ025-N01"
          ],
          "sentence_id": "t996fbad-C000-S005"
         },
         {
          "nugget_ids": [
           "EQ025-N10"
          ],
          "sentence_id": "t996fbad-C000-S006"
         },
         {
          "nugget_ids": [
           "EQ025-N11"
          ],
          "sentence_id": "t996fbad-C000-S007"
         },
         {
          "nugget_ids": [
           "EQ025-N10"
          ],
          "sentence_id": "t996fbad-C012-S001"
         },
         {
          "nugget_ids": [
           "EQ025-N02"
          ],
          "sentence_id": "t996fbad-C012-S003"
         },
         {
          "nugget_ids": [
           "EQ025-N02"
          ],
          "sentence_id": "t996fbad-C012-S004"
         },
         {
          "nugget_ids": [
           "EQ025-N11"
          ],
          "sentence_id": "t996fbad-C012-S005"
         },
         {
          "nugget_ids": [
           "EQ025-N11"
          ],
          "sentence_id": "t996fbad-C012-S007"
         },
         {
          "nugget_ids": [
           "EQ025-N10"
          ],
          "sentence_id": "tyvsl7os-C000-S005"
         },
         {
          "nugget_ids": [
           "EQ025-N00"
          ],
          "sentence_id": "tyvsl7os-C000-S007"
         },
         {
          "nugget_ids": [
           "EQ025-N01"
          ],
          "sentence_id": "tyvsl7os-C000-S009"
         },
         {
          "nugget_ids": [
           "EQ025-N00"
          ],
          "sentence_id": "vnnnevrl-C002-S000"
         },
         {
          "nugget_ids": [
           "EQ025-N00"
          ],
          "sentence_id": "vnnnevrl-C002-S001"
         },
         {
          "nugget_ids": [
           "EQ025-N00"
          ],
          "sentence_id": "vnnnevrl-C002-S004"
         },
         {
          "nugget_ids": [
           "EQ025-N06"
          ],
          "sentence_id": "za3qypgg-C022-S007"
         },
         {
          "nugget_ids": [
           "EQ025-N02"
          ],
          "sentence_id": "za3qypgg-C022-S001"
         },
         {
          "nugget_ids": [
           "EQ025-N06"
          ],
          "sentence_id": "za3qypgg-C022-S005"
         },
         {
          "nugget_ids": [
           "EQ025-N06"
          ],
          "sentence_id": "za3qypgg-C022-S002"
         }
        ],
        "nuggets": [
         {
          "nugget": "LDH",
          "nugget_id": "EQ025-N19"
         },
         {
          "nugget": "fibrinogen",
          "nugget_id": "EQ025-N18"
         },
         {
          "nugget": "Alanine aminotransferase",
          "nugget_id": "EQ025-N17"
         },
         {
          "nugget": "d-dimer",
          "nugget_id": "EQ025-N16"
         },
         {
          "nugget": "ferritin",
          "nugget_id": "EQ025-N15"
         },
         {
          "nugget": "ApoA1",
          "nugget_id": "EQ025-N14"
         },
         {
          "nugget": "high-density lipoprotein cholesterol",
          "nugget_id": "EQ025-N13"
         },
         {
          "nugget": "total protein",
          "nugget_id": "EQ025-N12"
         },
         {
          "nugget": "angiotensin II",
          "nugget_id": "EQ025-N11"
         },
         {
          "nugget": "albumin",
          "nugget_id": "EQ025-N10"
         },
         {
          "nugget": "myoglobin",
          "nugget_id": "EQ025-N09"
         },
         {
          "nugget": "creatine kinase",
          "nugget_id": "EQ025-N08"
         },
         {
          "nugget": "troponins",
          "nugget_id": "EQ025-N07"
         },
         {
          "nugget": "cytokines",
          "nugget_id": "EQ025-N06"
         },
         {
          "nugget": "procalcitonin",
          "nugget_id": "EQ025-N05"
         },
         {
          "nugget": "oxygen",
          "nugget_id": "EQ025-N04"
         },
         {
          "nugget": "ACE",
          "nugget_id": "EQ025-N03"
         },
         {
          "nugget": "C-reactive protein",
          "nugget_id": "EQ025-N02"
         },
         {
          "nugget": "lactate dehydrogenase",
          "nugget_id": "EQ025-N01"
         },
         {
          "nugget": "Blood cell count",
          "nugget_id": "EQ025-N00"
         }
        ],
        "question_id": "EQ025"
       },
       {
        "annotations": [
         {
          "nugget_ids": [
           "CQ025-N00"
          ],
          "sentence_id": "3c1fcdf12bf53c47f76b573dd52d440fe1a7a8aa-C010-S003"
         }
        ],
        "nuggets": [
         {
          "nugget": "reverse transcription polymerase chain reaction",
          "nugget_id": "CQ025-N00"
         }
        ],
        "question_id": "CQ025"
       },
       {
        "annotations": [
         {
          "nugget_ids": [
           "EQ026-N00",
           "EQ026-N01",
           "EQ026-N02"
          ],
          "sentence_id": "289fu2yb-C003-S001"
         },
         {
          "nugget_ids": [
           "EQ026-N00",
           "EQ026-N01",
           "EQ026-N03",
           "EQ026-N04",
           "EQ026-N05"
          ],
          "sentence_id": "2uxptj0y-C012-S000"
         },
         {
          "nugget_ids": [
           "EQ026-N03"
          ],
          "sentence_id": "2uxptj0y-C012-S001"
         },
         {
          "nugget_ids": [
           "EQ026-N00",
           "EQ026-N01",
           "EQ026-N04",
           "EQ026-N05"
          ],
          "sentence_id": "2zm4dq0u-C017-S003"
         },
         {
          "nugget_ids": [
           "EQ026-N00",
           "EQ026-N15",
           "EQ026-N01",
           "EQ026-N04"
          ],
          "sentence_id": "3w63yt7f-C000-S004"
         },
         {
          "nugget_ids": [
           "EQ026-N06",
           "EQ026-N07"
          ],
          "sentence_id": "52kq2u8a-C000-S000"
         },
         {
          "nugget_ids": [
           "EQ026-N20",
           "EQ026-N00",
           "EQ026-N01"
          ],
          "sentence_id": "52kq2u8a-C000-S006"
         },
         {
          "nugget_ids": [
           "EQ026-N00",
           "EQ026-N01",
           "EQ026-N03",
           "EQ026-N04",
           "EQ026-N05"
          ],
          "sentence_id": "52kq2u8a-C000-S007"
         },
         {
          "nugget_ids": [
           "EQ026-N00",
           "EQ026-N01",
           "EQ026-N04",
           "EQ026-N05",
           "EQ026-N02",
           "EQ026-N09",
           "EQ026-N08"
          ],
          "sentence_id": "5fg87lvu-C013-S001"
         },
         {
          "nugget_ids": [
           "EQ026-N03"
          ],
          "sentence_id": "5fg87lvu-C013-S002"
         },
         {
          "nugget_ids": [
           "EQ026-N00",
           "EQ026-N01",
           "EQ026-N08",
           "EQ026-N10"
          ],
          "sentence_id": "5fg87lvu-C013-S006"
         },
         {
          "nugget_ids": [
           "EQ026-N03"
          ],
          "sentence_id": "5fg87lvu-C013-S010"
         },
         {
          "nugget_ids": [
           "EQ026-N11",
           "EQ026-N07",
           "EQ026-N13",
           "EQ026-N16"
          ],
          "sentence_id": "5p0yyrdx-C000-S006"
         },
         {
          "nugget_ids": [
           "EQ026-N00",
           "EQ026-N01",
           "EQ026-N03"
          ],
          "sentence_id": "7oaerpee-C015-S005"
         },
         {
          "nugget_ids": [
           "EQ026-N00",
           "EQ026-N01"
          ],
          "sentence_id": "7oaerpee-C015-S006"
         },
         {
          "nugget_ids": [
           "EQ026-N03",
           "EQ026-N09"
          ],
          "sentence_id": "7oaerpee-C015-S007"
         },
         {
          "nugget_ids": [
           "EQ026-N04",
           "EQ026-N05",
           "EQ026-N00",
           "EQ026-N01"
          ],
          "sentence_id": "7oaerpee-C015-S008"
         },
         {
          "nugget_ids": [
           "EQ026-N00",
           "EQ026-N03"
          ],
          "sentence_id": "7oaerpee-C015-S009"
         },
         {
          "nugget_ids": [
           "EQ026-N11",
           "EQ026-N12",
           "EQ026-N00",
           "EQ026-N01"
          ],
          "sentence_id": "7oaerpee-C015-S012"
         },
         {
          "nugget_ids": [
           "EQ026-N00"
          ],
          "sentence_id": "7oaerpee-C015-S013"
         },
         {
          "nugget_ids": [
           "EQ026-N11",
           "EQ026-N12"
          ],
          "sentence_id": "7oaerpee-C015-S014"
         },
         {
          "nugget_ids": [
           "EQ026-N14"
          ],
          "sentence_id": "89l3cagv-C005-S000"
         },
         {
          "nugget_ids": [
           "EQ026-N06",
           "EQ026-N07"
          ],
          "sentence_id": "89l3cagv-C005-S001"
         },
         {
          "nugget_ids": [
           "EQ026-N14",
           "EQ026-N17"
          ],
          "sentence_id": "89l3cagv-C005-S003"
         },
         {
          "nugget_ids": [
           "EQ026-N14"
          ],
          "sentence_id": "89l3cagv-C005-S006"
         },
         {
          "nugget_ids": [
           "EQ026-N14"
          ],
          "sentence_id": "89l3cagv-C003-S002"
         },
         {
          "nugget_ids": [
           "EQ026-N06",
           "EQ026-N07"
          ],
          "sentence_id": "89l3cagv-C000-S000"
         },
         {
          "nugget_ids": [
           "EQ026-N00",
           "EQ026-N05",
           "EQ026-N01"
          ],
          "sentence_id": "9k0741ct-C000-S002"
         },
         {
          "nugget_ids": [
           "EQ026-N02",
           "EQ026-N23"
          ],
          "sentence_id": "9xavaxsu-C023-S000"
         },
         {
          "nugget_ids": [
           "EQ026-N02",
           "EQ026-N10"
          ],
          "sentence_id": "9xavaxsu-C023-S001"
         },
         {
          "nugget_ids": [
           "EQ026-N02",
           "EQ026-N10",
           "EQ026-N19"
          ],
          "sentence_id": "9xavaxsu-C023-S003"
         },
         {
          "nugget_ids": [
           "EQ026-N00",
           "EQ026-N01",
           "EQ026-N17",
           "EQ026-N15",
           "EQ026-N05",
           "EQ026-N04",
           "EQ026-N08"
          ],
          "sentence_id": "b2wr1hhe-C014-S000"
         },
         {
          "nugget_ids": [
           "EQ026-N11",
           "EQ026-N12"
          ],
          "sentence_id": "b2wr1hhe-C014-S001"
         },
         {
          "nugget_ids": [
           "EQ026-N03"
          ],
          "sentence_id": "b31mzs3b-C000-S000"
         },
         {
          "nugget_ids": [
           "EQ026-N00",
           "EQ026-N01",
           "EQ026-N05",
           "EQ026-N03",
           "EQ026-N02",
           "EQ026-N08",
           "EQ026-N09"
          ],
          "sentence_id": "b31mzs3b-C000-S011"
         },
         {
          "nugget_ids": [
           "EQ026-N00",
           "EQ026-N01",
           "EQ026-N03"
          ],
          "sentence_id": "dixskemz-C000-S004"
         },
         {
          "nugget_ids": [
           "EQ026-N16",
           "EQ026-N00",
           "EQ026-N03"
          ],
          "sentence_id": "dixskemz-C000-S005"
         },
         {
          "nugget_ids": [
           "EQ026-N00",
           "EQ026-N01",
           "EQ026-N03",
           "EQ026-N05"
          ],
          "sentence_id": "e3t1f0rt-C007-S002"
         },
         {
          "nugget_ids": [
           "EQ026-N00",
           "EQ026-N01",
           "EQ026-N03"
          ],
          "sentence_id": "pkg4rxni-C003-S000"
         },
         {
          "nugget_ids": [
           "EQ026-N00",
           "EQ026-N01"
          ],
          "sentence_id": "fkoh76yx-C000-S006"
         },
         {
          "nugget_ids": [
           "EQ026-N08"
          ],
          "sentence_id": "fkoh76yx-C000-S009"
         },
         {
          "nugget_ids": [
           "EQ026-N00",
           "EQ026-N03"
          ],
          "sentence_id": "fkoh76yx-C000-S010"
         },
         {
          "nugget_ids": [
           "EQ026-N08"
          ],
          "sentence_id": "fkoh76yx-C000-S013"
         },
         {
          "nugget_ids": [
           "EQ026-N03"
          ],
          "sentence_id": "fs2gwmg1-C012-S004"
         },
         {
          "nugget_ids": [
           "EQ026-N00",
           "EQ026-N01",
           "EQ026-N05"
          ],
          "sentence_id": "fs2gwmg1-C012-S005"
         },
         {
          "nugget_ids": [
           "EQ026-N03"
          ],
          "sentence_id": "fs2gwmg1-C012-S006"
         },
         {
          "nugget_ids": [
           "EQ026-N08",
           "EQ026-N18",
           "EQ026-N03"
          ],
          "sentence_id": "fs2gwmg1-C012-S007"
         },
         {
          "nugget_ids": [
           "EQ026-N00",
           "EQ026-N01",
           "EQ026-N03"
          ],
          "sentence_id": "fs2gwmg1-C012-S008"
         },
         {
          "nugget_ids": [
           "EQ026-N05",
           "EQ026-N04",
           "EQ026-N08",
           "EQ026-N02"
          ],
          "sentence_id": "fs2gwmg1-C012-S009"
         },
         {
          "nugget_ids": [
           "EQ026-N00",
           "EQ026-N01",
           "EQ026-N05"
          ],
          "sentence_id": "gag50cmf-C019-S001"
         },
         {
          "nugget_ids": [
           "EQ026-N00"
          ],
          "sentence_id": "gag50cmf-C019-S002"
         },
         {
          "nugget_ids": [
           "EQ026-N00"
          ],
          "sentence_id": "gag50cmf-C019-S003"
         },
         {
          "nugget_ids": [
           "EQ026-N00"
          ],
          "sentence_id": "gag50cmf-C019-S004"
         },
         {
          "nugget_ids": [
           "EQ026-N00"
          ],
          "sentence_id": "gag50cmf-C019-S005"
         },
         {
          "nugget_ids": [
           "EQ026-N03"
          ],
          "sentence_id": "gtzi2isl-C001-S002"
         },
         {
          "nugget_ids": [
           "EQ026-N00",
           "EQ026-N03"
          ],
          "sentence_id": "jeaqqbna-C000-S001"
         },
         {
          "nugget_ids": [
           "EQ026-N16"
          ],
          "sentence_id": "jeaqqbna-C000-S006"
         },
         {
          "nugget_ids": [
           "EQ026-N16"
          ],
          "sentence_id": "jeaqqbna-C000-S007"
         },
         {
          "nugget_ids": [
           "EQ026-N00",
           "EQ026-N03"
          ],
          "sentence_id": "jeaqqbna-C000-S011"
         },
         {
          "nugget_ids": [
           "EQ026-N16"
          ],
          "sentence_id": "jeaqqbna-C000-S012"
         },
         {
          "nugget_ids": [
           "EQ026-N18"
          ],
          "sentence_id": "jt3edwbk-C003-S001"
         },
         {
          "nugget_ids": [
           "EQ026-N03"
          ],
          "sentence_id": "jt3edwbk-C003-S003"
         },
         {
          "nugget_ids": [
           "EQ026-N18"
          ],
          "sentence_id": "jt3edwbk-C003-S005"
         },
         {
          "nugget_ids": [
           "EQ026-N00",
           "EQ026-N01",
           "EQ026-N03",
           "EQ026-N02",
           "EQ026-N05"
          ],
          "sentence_id": "k3f7ohzg-C017-S000"
         },
         {
          "nugget_ids": [
           "EQ026-N00",
           "EQ026-N01"
          ],
          "sentence_id": "k5y1qc82-C008-S000"
         },
         {
          "nugget_ids": [
           "EQ026-N01",
           "EQ026-N05",
           "EQ026-N04",
           "EQ026-N03",
           "EQ026-N17",
           "EQ026-N08",
           "EQ026-N10",
           "EQ026-N19"
          ],
          "sentence_id": "mmgv3m84-C005-S000"
         },
         {
          "nugget_ids": [
           "EQ026-N15",
           "EQ026-N02",
           "EQ026-N00",
           "EQ026-N16",
           "EQ026-N11",
           "EQ026-N12"
          ],
          "sentence_id": "mmgv3m84-C005-S001"
         },
         {
          "nugget_ids": [
           "EQ026-N00",
           "EQ026-N01",
           "EQ026-N03"
          ],
          "sentence_id": "qu7ddcw9-C005-S004"
         },
         {
          "nugget_ids": [
           "EQ026-N00",
           "EQ026-N01",
           "EQ026-N04",
           "EQ026-N03"
          ],
          "sentence_id": "o3b2yvbs-C000-S004"
         },
         {
          "nugget_ids": [
           "EQ026-N21"
          ],
          "sentence_id": "o3b2yvbs-C000-S006"
         },
         {
          "nugget_ids": [
           "EQ026-N21"
          ],
          "sentence_id": "o3b2yvbs-C000-S007"
         },
         {
          "nugget_ids": [
           "EQ026-N21"
          ],
          "sentence_id": "o3b2yvbs-C000-S008"
         },
         {
          "nugget_ids": [
           "EQ026-N21"
          ],
          "sentence_id": "o3b2yvbs-C000-S010"
         },
         {
          "nugget_ids": [
           "EQ026-N00",
           "EQ026-N01"
          ],
          "sentence_id": "p2plpeew-C000-S000"
         },
         {
          "nugget_ids": [
           "EQ026-N03"
          ],
          "sentence_id": "p2plpeew-C000-S001"
         },
         {
          "nugget_ids": [
           "EQ026-N03"
          ],
          "sentence_id": "p2plpeew-C000-S002"
         },
         {
          "nugget_ids": [
           "EQ026-N00",
           "EQ026-N01",
           "EQ026-N05",
           "EQ026-N17",
           "EQ026-N15",
           "EQ026-N08"
          ],
          "sentence_id": "pyeb86on-C002-S000"
         },
         {
          "nugget_ids": [
           "EQ026-N00",
           "EQ026-N01",
           "EQ026-N05",
           "EQ026-N17",
           "EQ026-N15"
          ],
          "sentence_id": "qyrj0oaj-C002-S003"
         },
         {
          "nugget_ids": [
           "EQ026-N04"
          ],
          "sentence_id": "t159ctrv-C001-S000"
         },
         {
          "nugget_ids": [
           "EQ026-N03"
          ],
          "sentence_id": "tgky1hb2-C017-S000"
         },
         {
          "nugget_ids": [
           "EQ026-N02",
           "EQ026-N04"
          ],
          "sentence_id": "tgky1hb2-C017-S003"
         },
         {
          "nugget_ids": [
           "EQ026-N02"
          ],
          "sentence_id": "tgky1hb2-C017-S004"
         },
         {
          "nugget_ids": [
           "EQ026-N02"
          ],
          "sentence_id": "tgky1hb2-C017-S005"
         },
         {
          "nugget_ids": [
           "EQ026-N02"
          ],
          "sentence_id": "tgky1hb2-C017-S006"
         },
         {
          "nugget_ids": [
           "EQ026-N02"
          ],
          "sentence_id": "tgky1hb2-C017-S007"
         },
         {
          "nugget_ids": [
           "EQ026-N02"
          ],
          "sentence_id": "tgky1hb2-C017-S008"
         },
         {
          "nugget_ids": [
           "EQ026-N00",
           "EQ026-N01",
           "EQ026-N03"
          ],
          "sentence_id": "tik44x9f-C008-S000"
         },
         {
          "nugget_ids": [
           "EQ026-N08"
          ],
          "sentence_id": "u17s0j4c-C020-S001"
         },
         {
          "nugget_ids": [
           "EQ026-N08",
           "EQ026-N10",
           "EQ026-N19"
          ],
          "sentence_id": "u17s0j4c-C020-S000"
         },
         {
          "nugget_ids": [
           "EQ026-N08",
           "EQ026-N10",
           "EQ026-N19"
          ],
          "sentence_id": "u17s0j4c-C020-S002"
         },
         {
          "nugget_ids": [
           "EQ026-N08",
           "EQ026-N19",
           "EQ026-N10"
          ],
          "sentence_id": "u17s0j4c-C020-S003"
         },
         {
          "nugget_ids": [
           "EQ026-N00",
           "EQ026-N01",
           "EQ026-N03"
          ],
          "sentence_id": "v9wynk5x-C000-S000"
         },
         {
          "nugget_ids": [
           "EQ026-N00",
           "EQ026-N01",
           "EQ026-N03"
          ],
          "sentence_id": "v9wynk5x-C000-S005"
         },
         {
          "nugget_ids": [
           "EQ026-N00",
           "EQ026-N07",
           "EQ026-N06",
           "EQ026-N01",
           "EQ026-N05",
           "EQ026-N03",
           "EQ026-N18"
          ],
          "sentence_id": "vy2li9lz-C009-S002"
         },
         {
          "nugget_ids": [
           "EQ026-N00",
           "EQ026-N01",
           "EQ026-N15",
           "EQ026-N02",
           "EQ026-N05"
          ],
          "sentence_id": "wq89wtwf-C000-S001"
         },
         {
          "nugget_ids": [
           "EQ026-N11"
          ],
          "sentence_id": "wy9wbm0g-C002-S000"
         },
         {
          "nugget_ids": [
           "EQ026-N00",
           "EQ026-N01",
           "EQ026-N03",
           "EQ026-N02",
           "EQ026-N04",
           "EQ026-N22"
          ],
          "sentence_id": "wy9wbm0g-C002-S006"
         },
         {
          "nugget_ids": [
           "EQ026-N17",
           "EQ026-N04"
          ],
          "sentence_id": "wy9wbm0g-C002-S007"
         },
         {
          "nugget_ids": [
           "EQ026-N14"
          ],
          "sentence_id": "wy9wbm0g-C002-S008"
         },
         {
          "nugget_ids": [
           "EQ026-N11"
          ],
          "sentence_id": "wy9wbm0g-C002-S009"
         },
         {
          "nugget_ids": [
           "EQ026-N14"
          ],
          "sentence_id": "wy9wbm0g-C002-S010"
         },
         {
          "nugget_ids": [
           "EQ026-N14"
          ],
          "sentence_id": "wy9wbm0g-C002-S012"
         },
         {
          "nugget_ids": [
           "EQ026-N06"
          ],
          "sentence_id": "wy9wbm0g-C002-S013"
         },
         {
          "nugget_ids": [
           "EQ026-N14"
          ],
          "sentence_id": "wy9wbm0g-C002-S014"
         },
         {
          "nugget_ids": [
           "EQ026-N00",
           "EQ026-N01"
          ],
          "sentence_id": "yqiggzk9-C000-S006"
         },
         {
          "nugget_ids": [
           "EQ026-N03"
          ],
          "sentence_id": "yqiggzk9-C000-S010"
         },
         {
          "nugget_ids": [
           "EQ026-N00",
           "EQ026-N01",
           "EQ026-N20",
           "EQ026-N03"
          ],
          "sentence_id": "yqiggzk9-C000-S014"
         },
         {
          "nugget_ids": [
           "EQ026-N00",
           "EQ026-N01"
          ],
          "sentence_id": "ywsm11aw-C003-S010"
         },
         {
          "nugget_ids": [
           "EQ026-N00",
           "EQ026-N01",
           "EQ026-N17",
           "EQ026-N23",
           "EQ026-N04"
          ],
          "sentence_id": "zlzuoeh2-C006-S008"
         },
         {
          "nugget_ids": [
           "EQ026-N03",
           "EQ026-N00",
           "EQ026-N01"
          ],
          "sentence_id": "zv45usvu-C002-S004"
         },
         {
          "nugget_ids": [
           "EQ026-N11",
           "EQ026-N12"
          ],
          "sentence_id": "zv45usvu-C002-S008"
         },
         {
          "nugget_ids": [
           "EQ026-N14"
          ],
          "sentence_id": "zv45usvu-C002-S009"
         },
         {
          "nugget_ids": [
           "EQ026-N03"
          ],
          "sentence_id": "ulygq434-C002-S008"
         }
        ],
        "nuggets": [
         {
          "nugget": "dizziness",
          "nugget_id": "EQ026-N23"
         },
         {
          "nugget": "loss of appetite",
          "nugget_id": "EQ026-N22"
         },
         {
          "nugget": "rhabdomyolysis",
          "nugget_id": "EQ026-N21"
         },
         {
          "nugget": "malaise",
          "nugget_id": "EQ026-N20"
         },
         {
          "nugget": "naussea",
          "nugget_id": "EQ026-N19"
         },
         {
          "nugget": "pseudomembranous conjunctivitis",
          "nugget_id": "EQ026-N18"
         },
         {
          "nugget": "sneezing",
          "nugget_id": "EQ026-N17"
         },
         {
          "nugget": "altered mental status",
          "nugget_id": "EQ026-N16"
         },
         {
          "nugget": "sore throat",
          "nugget_id": "EQ026-N15"
         },
         {
          "nugget": "chemosensitive disorders",
          "nugget_id": "EQ026-N14"
         },
         {
          "nugget": "ataxia",
          "nugget_id": "EQ026-N13"
         },
         {
          "nugget": "ageusia",
          "nugget_id": "EQ026-N12"
         },
         {
          "nugget": "anosmia",
          "nugget_id": "EQ026-N11"
         },
         {
          "nugget": "vomiting",
          "nugget_id": "EQ026-N10"
         },
         {
          "nugget": "hemoptysis",
          "nugget_id": "EQ026-N09"
         },
         {
          "nugget": "diarrhea",
          "nugget_id": "EQ026-N08"
         },
         {
          "nugget": "dysguesia",
          "nugget_id": "EQ026-N07"
         },
         {
          "nugget": "dysosmia",
          "nugget_id": "EQ026-N06"
         },
         {
          "nugget": "tiredness",
          "nugget_id": "EQ026-N05"
         },
         {
          "nugget": "myalgias",
          "nugget_id": "EQ026-N04"
         },
         {
          "nugget": "dysapnea",
          "nugget_id": "EQ026-N03"
         },
         {
          "nugget": "headache",
          "nugget_id": "EQ026-N02"
         },
         {
          "nugget": "cough",
          "nugget_id": "EQ026-N01"
         },
         {
          "nugget": "fever",
          "nugget_id": "EQ026-N00"
         }
        ],
        "question_id": "EQ026"
       },
       {
        "annotations": [
         {
          "nugget_ids": [
           "CQ026-N00",
           "CQ026-N01",
           "CQ026-N02"
          ],
          "sentence_id": "12589f5b80c62d79c61ff97c9d302062a0c3f28c-C000-S001"
         },
         {
          "nugget_ids": [
           "CQ026-N00",
           "CQ026-N01",
           "CQ026-N02"
          ],
          "sentence_id": "1e70c19ffe4b7f50bfba1d3f9b836243fe6bc996-C025-S000"
         },
         {
          "nugget_ids": [
           "CQ026-N02"
          ],
          "sentence_id": "1e70c19ffe4b7f50bfba1d3f9b836243fe6bc996-C005-S000"
         },
         {
          "nugget_ids": [
           "CQ026-N00",
           "CQ026-N01",
           "CQ026-N02"
          ],
          "sentence_id": "1e70c19ffe4b7f50bfba1d3f9b836243fe6bc996-C005-S001"
         },
         {
          "nugget_ids": [
           "CQ026-N00",
           "CQ026-N03",
           "CQ026-N04"
          ],
          "sentence_id": "208c4d4dbfc5832519f0f27aab55ac1e280d2acc-C002-S003"
         },
         {
          "nugget_ids": [
           "CQ026-N02",
           "CQ026-N01"
          ],
          "sentence_id": "208c4d4dbfc5832519f0f27aab55ac1e280d2acc-C002-S004"
         },
         {
          "nugget_ids": [
           "CQ026-N05",
           "CQ026-N06"
          ],
          "sentence_id": "208c4d4dbfc5832519f0f27aab55ac1e280d2acc-C002-S005"
         },
         {
          "nugget_ids": [
           "CQ026-N01",
           "CQ026-N02"
          ],
          "sentence_id": "208c4d4dbfc5832519f0f27aab55ac1e280d2acc-C002-S008"
         },
         {
          "nugget_ids": [
           "CQ026-N02"
          ],
          "sentence_id": "400e5437f16a4b43b624e19863fe362556180626-C000-S000"
         },
         {
          "nugget_ids": [
           "CQ026-N00",
           "CQ026-N01",
           "CQ026-N02"
          ],
          "sentence_id": "400e5437f16a4b43b624e19863fe362556180626-C000-S001"
         },
         {
          "nugget_ids": [
           "CQ026-N00",
           "CQ026-N01",
           "CQ026-N02"
          ],
          "sentence_id": "5dda8569b57de9f1c947c9c044136428ea05bf29-C000-S004"
         },
         {
          "nugget_ids": [
           "CQ026-N02"
          ],
          "sentence_id": "61a327798813b09f9471bb79165d4aaf3e220d5d-C033-S001"
         },
         {
          "nugget_ids": [
           "CQ026-N01",
           "CQ026-N02"
          ],
          "sentence_id": "61a327798813b09f9471bb79165d4aaf3e220d5d-C033-S002"
         },
         {
          "nugget_ids": [
           "CQ026-N06",
           "CQ026-N05",
           "CQ026-N00",
           "CQ026-N08",
           "CQ026-N04",
           "CQ026-N03",
           "CQ026-N07"
          ],
          "sentence_id": "61a327798813b09f9471bb79165d4aaf3e220d5d-C033-S003"
         },
         {
          "nugget_ids": [
           "CQ026-N00",
           "CQ026-N01",
           "CQ026-N02"
          ],
          "sentence_id": "85162923aadac75a79873a379eb11b11907e6657-C000-S003"
         },
         {
          "nugget_ids": [
           "CQ026-N00",
           "CQ026-N01",
           "CQ026-N06"
          ],
          "sentence_id": "86205a6249a7023b7f693cbbc08b081a62df111d-C002-S002"
         },
         {
          "nugget_ids": [
           "CQ026-N07"
          ],
          "sentence_id": "86205a6249a7023b7f693cbbc08b081a62df111d-C002-S003"
         },
         {
          "nugget_ids": [
           "CQ026-N00",
           "CQ026-N01",
           "CQ026-N02"
          ],
          "sentence_id": "9038119bcb6bf2ebfb6b8acf63b60d64fd4ea6c7-C006-S007"
         },
         {
          "nugget_ids": [
           "CQ026-N02"
          ],
          "sentence_id": "9038119bcb6bf2ebfb6b8acf63b60d64fd4ea6c7-C006-S009"
         },
         {
          "nugget_ids": [
           "CQ026-N02"
          ],
          "sentence_id": "95534418522ff422077fa28cb7dd5e824d6841a4-C020-S008"
         },
         {
          "nugget_ids": [
           "CQ026-N00",
           "CQ026-N06",
           "CQ026-N01"
          ],
          "sentence_id": "95534418522ff422077fa28cb7dd5e824d6841a4-C053-S008"
         },
         {
          "nugget_ids": [
           "CQ026-N07"
          ],
          "sentence_id": "95534418522ff422077fa28cb7dd5e824d6841a4-C053-S009"
         },
         {
          "nugget_ids": [
           "CQ026-N00",
           "CQ026-N01",
           "CQ026-N02"
          ],
          "sentence_id": "95534418522ff422077fa28cb7dd5e824d6841a4-C016-S011"
         },
         {
          "nugget_ids": [
           "CQ026-N00",
           "CQ026-N01",
           "CQ026-N02"
          ],
          "sentence_id": "95534418522ff422077fa28cb7dd5e824d6841a4-C026-S010"
         },
         {
          "nugget_ids": [
           "CQ026-N00",
           "CQ026-N01",
           "CQ026-N02"
          ],
          "sentence_id": "95534418522ff422077fa28cb7dd5e824d6841a4-C134-S000"
         },
         {
          "nugget_ids": [
           "CQ026-N00",
           "CQ026-N01",
           "CQ026-N02"
          ],
          "sentence_id": "95534418522ff422077fa28cb7dd5e824d6841a4-C069-S001"
         },
         {
          "nugget_ids": [
           "CQ026-N00",
           "CQ026-N02"
          ],
          "sentence_id": "a120d35b45fb28dce7ca093ac9cfd906790ae98e-C000-S000"
         },
         {
          "nugget_ids": [
           "CQ026-N00",
           "CQ026-N02"
          ],
          "sentence_id": "a120d35b45fb28dce7ca093ac9cfd906790ae98e-C000-S002"
         },
         {
          "nugget_ids": [
           "CQ026-N00",
           "CQ026-N02"
          ],
          "sentence_id": "a120d35b45fb28dce7ca093ac9cfd906790ae98e-C000-S003"
         },
         {
          "nugget_ids": [
           "CQ026-N02"
          ],
          "sentence_id": "a120d35b45fb28dce7ca093ac9cfd906790ae98e-C015-S000"
         },
         {
          "nugget_ids": [
           "CQ026-N00",
           "CQ026-N01",
           "CQ026-N02"
          ],
          "sentence_id": "d04e6cfb7247cfa77a0a7a2a171e34f622748b3c-C000-S004"
         },
         {
          "nugget_ids": [
           "CQ026-N00"
          ],
          "sentence_id": "e8e4505aa64a46084161dd17f8a70c95778fdaeb-C002-S000"
         },
         {
          "nugget_ids": [
           "CQ026-N00",
           "CQ026-N03",
           "CQ026-N08",
           "CQ026-N04"
          ],
          "sentence_id": "e8e4505aa64a46084161dd17f8a70c95778fdaeb-C002-S001"
         },
         {
          "nugget_ids": [
           "CQ026-N02"
          ],
          "sentence_id": "e8e4505aa64a46084161dd17f8a70c95778fdaeb-C002-S002"
         },
         {
          "nugget_ids": [
           "CQ026-N07"
          ],
          "sentence_id": "e8e4505aa64a46084161dd17f8a70c95778fdaeb-C002-S003"
         },
         {
          "nugget_ids": [
           "CQ026-N01"
          ],
          "sentence_id": "e8e4505aa64a46084161dd17f8a70c95778fdaeb-C002-S004"
         },
         {
          "nugget_ids": [
           "CQ026-N00",
           "CQ026-N02"
          ],
          "sentence_id": "ecbce30242c85c1cc3df291046dd96975fb77e01-C001-S001"
         },
         {
          "nugget_ids": [
           "CQ026-N06",
           "CQ026-N05",
           "CQ026-N00",
           "CQ026-N04",
           "CQ026-N03",
           "CQ026-N07",
           "CQ026-N08"
          ],
          "sentence_id": "ecbce30242c85c1cc3df291046dd96975fb77e01-C001-S010"
         },
         {
          "nugget_ids": [
           "CQ026-N00",
           "CQ026-N03",
           "CQ026-N04",
           "CQ026-N08"
          ],
          "sentence_id": "ecbce30242c85c1cc3df291046dd96975fb77e01-C001-S011"
         },
         {
          "nugget_ids": [
           "CQ026-N05",
           "CQ026-N07",
           "CQ026-N06"
          ],
          "sentence_id": "ecbce30242c85c1cc3df291046dd96975fb77e01-C001-S012"
         },
         {
          "nugget_ids": [
           "CQ026-N01",
           "CQ026-N02"
          ],
          "sentence_id": "ed24685d24edd81bac86bce51a4a93b1140efbb2-C013-S011"
         }
        ],
        "nuggets": [
         {
          "nugget": "sneezing",
          "nugget_id": "CQ026-N09"
         },
         {
          "nugget": "body aches",
          "nugget_id": "CQ026-N08"
         },
         {
          "nugget": "gastrointestinal",
          "nugget_id": "CQ026-N07"
         },
         {
          "nugget": "rhinorrhea",
          "nugget_id": "CQ026-N06"
         },
         {
          "nugget": "sore throat",
          "nugget_id": "CQ026-N05"
         },
         {
          "nugget": "myalgias",
          "nugget_id": "CQ026-N04"
         },
         {
          "nugget": "headache",
          "nugget_id": "CQ026-N03"
         },
         {
          "nugget": "dysapnea",
          "nugget_id": "CQ026-N02"
         },
         {
          "nugget": "cough",
          "nugget_id": "CQ026-N01"
         },
         {
          "nugget": "fever",
          "nugget_id": "CQ026-N00"
         }
        ],
        "question_id": "CQ026"
       },
       {
        "annotations": [
         {
          "nugget_ids": [
           "EQ030-N02"
          ],
          "sentence_id": "vh30awom-C014-S000"
         },
         {
          "nugget_ids": [
           "EQ030-N26"
          ],
          "sentence_id": "12o3xniz-C044-S000"
         },
         {
          "nugget_ids": [
           "EQ030-N26"
          ],
          "sentence_id": "12o3xniz-C044-S001"
         },
         {
          "nugget_ids": [
           "EQ030-N01"
          ],
          "sentence_id": "12o3xniz-C044-S002"
         },
         {
          "nugget_ids": [
           "EQ030-N02"
          ],
          "sentence_id": "12o3xniz-C044-S003"
         },
         {
          "nugget_ids": [
           "EQ030-N00",
           "EQ030-N02"
          ],
          "sentence_id": "12o3xniz-C044-S006"
         },
         {
          "nugget_ids": [
           "EQ030-N05",
           "EQ030-N14",
           "EQ030-N03"
          ],
          "sentence_id": "12o3xniz-C044-S007"
         },
         {
          "nugget_ids": [
           "EQ030-N26"
          ],
          "sentence_id": "12o3xniz-C044-S008"
         },
         {
          "nugget_ids": [
           "EQ030-N01"
          ],
          "sentence_id": "12o3xniz-C044-S009"
         },
         {
          "nugget_ids": [
           "EQ030-N14"
          ],
          "sentence_id": "12o3xniz-C044-S010"
         },
         {
          "nugget_ids": [
           "EQ030-N05",
           "EQ030-N06",
           "EQ030-N26",
           "EQ030-N02"
          ],
          "sentence_id": "1cph1uij-C000-S001"
         },
         {
          "nugget_ids": [
           "EQ030-N00",
           "EQ030-N07",
           "EQ030-N01",
           "EQ030-N14",
           "EQ030-N06"
          ],
          "sentence_id": "1cph1uij-C000-S002"
         },
         {
          "nugget_ids": [
           "EQ030-N00",
           "EQ030-N02",
           "EQ030-N09",
           "EQ030-N04"
          ],
          "sentence_id": "1cph1uij-C000-S003"
         },
         {
          "nugget_ids": [
           "EQ030-N00",
           "EQ030-N19",
           "EQ030-N24"
          ],
          "sentence_id": "1cph1uij-C000-S004"
         },
         {
          "nugget_ids": [
           "EQ030-N24",
           "EQ030-N00"
          ],
          "sentence_id": "1cph1uij-C000-S005"
         },
         {
          "nugget_ids": [
           "EQ030-N24",
           "EQ030-N00"
          ],
          "sentence_id": "1cph1uij-C000-S006"
         },
         {
          "nugget_ids": [
           "EQ030-N04"
          ],
          "sentence_id": "1cph1uij-C000-S007"
         },
         {
          "nugget_ids": [
           "EQ030-N05",
           "EQ030-N00",
           "EQ030-N26",
           "EQ030-N17",
           "EQ030-N10"
          ],
          "sentence_id": "1cph1uij-C000-S008"
         },
         {
          "nugget_ids": [
           "EQ030-N00",
           "EQ030-N01"
          ],
          "sentence_id": "1eiw7bxh-C000-S000"
         },
         {
          "nugget_ids": [
           "EQ030-N00",
           "EQ030-N26"
          ],
          "sentence_id": "1eiw7bxh-C000-S001"
         },
         {
          "nugget_ids": [
           "EQ030-N14"
          ],
          "sentence_id": "1eiw7bxh-C000-S002"
         },
         {
          "nugget_ids": [
           "EQ030-N00",
           "EQ030-N04"
          ],
          "sentence_id": "1eiw7bxh-C000-S003"
         },
         {
          "nugget_ids": [
           "EQ030-N00",
           "EQ030-N02"
          ],
          "sentence_id": "1eiw7bxh-C000-S005"
         },
         {
          "nugget_ids": [
           "EQ030-N00"
          ],
          "sentence_id": "1eiw7bxh-C000-S006"
         },
         {
          "nugget_ids": [
           "EQ030-N02",
           "EQ030-N14"
          ],
          "sentence_id": "1eiw7bxh-C000-S007"
         },
         {
          "nugget_ids": [
           "EQ030-N00",
           "EQ030-N02"
          ],
          "sentence_id": "1eiw7bxh-C000-S008"
         },
         {
          "nugget_ids": [
           "EQ030-N00",
           "EQ030-N11",
           "EQ030-N09"
          ],
          "sentence_id": "1u12qr97-C002-S000"
         },
         {
          "nugget_ids": [
           "EQ030-N00",
           "EQ030-N13",
           "EQ030-N07"
          ],
          "sentence_id": "1u12qr97-C002-S001"
         },
         {
          "nugget_ids": [
           "EQ030-N26"
          ],
          "sentence_id": "1u12qr97-C002-S002"
         },
         {
          "nugget_ids": [
           "EQ030-N01",
           "EQ030-N00",
           "EQ030-N04",
           "EQ030-N15"
          ],
          "sentence_id": "1u12qr97-C002-S003"
         },
         {
          "nugget_ids": [
           "EQ030-N00",
           "EQ030-N14"
          ],
          "sentence_id": "1u12qr97-C002-S004"
         },
         {
          "nugget_ids": [
           "EQ030-N14"
          ],
          "sentence_id": "1u12qr97-C002-S005"
         },
         {
          "nugget_ids": [
           "EQ030-N00"
          ],
          "sentence_id": "1u12qr97-C002-S006"
         },
         {
          "nugget_ids": [
           "EQ030-N14",
           "EQ030-N26"
          ],
          "sentence_id": "1u12qr97-C002-S007"
         },
         {
          "nugget_ids": [
           "EQ030-N23"
          ],
          "sentence_id": "1u12qr97-C002-S008"
         },
         {
          "nugget_ids": [
           "EQ030-N26"
          ],
          "sentence_id": "1u12qr97-C002-S010"
         },
         {
          "nugget_ids": [
           "EQ030-N14",
           "EQ030-N26"
          ],
          "sentence_id": "1u12qr97-C002-S012"
         },
         {
          "nugget_ids": [
           "EQ030-N17",
           "EQ030-N14"
          ],
          "sentence_id": "1u12qr97-C002-S013"
         },
         {
          "nugget_ids": [
           "EQ030-N00",
           "EQ030-N04"
          ],
          "sentence_id": "4vfk99f5-C000-S000"
         },
         {
          "nugget_ids": [
           "EQ030-N14",
           "EQ030-N00",
           "EQ030-N17",
           "EQ030-N19"
          ],
          "sentence_id": "4vfk99f5-C000-S001"
         },
         {
          "nugget_ids": [
           "EQ030-N02",
           "EQ030-N15",
           "EQ030-N20",
           "EQ030-N18"
          ],
          "sentence_id": "4vfk99f5-C000-S002"
         },
         {
          "nugget_ids": [
           "EQ030-N16",
           "EQ030-N10",
           "EQ030-N17",
           "EQ030-N18"
          ],
          "sentence_id": "4vfk99f5-C000-S003"
         },
         {
          "nugget_ids": [
           "EQ030-N14"
          ],
          "sentence_id": "4vfk99f5-C000-S005"
         },
         {
          "nugget_ids": [
           "EQ030-N00"
          ],
          "sentence_id": "4vfk99f5-C000-S006"
         },
         {
          "nugget_ids": [
           "EQ030-N18",
           "EQ030-N14"
          ],
          "sentence_id": "4vfk99f5-C000-S007"
         },
         {
          "nugget_ids": [
           "EQ030-N16"
          ],
          "sentence_id": "4vfk99f5-C000-S008"
         },
         {
          "nugget_ids": [
           "EQ030-N00",
           "EQ030-N15",
           "EQ030-N20",
           "EQ030-N18"
          ],
          "sentence_id": "4vfk99f5-C000-S009"
         },
         {
          "nugget_ids": [
           "EQ030-N00",
           "EQ030-N18"
          ],
          "sentence_id": "4vfk99f5-C000-S010"
         },
         {
          "nugget_ids": [
           "EQ030-N14"
          ],
          "sentence_id": "4vfk99f5-C000-S011"
         },
         {
          "nugget_ids": [
           "EQ030-N14",
           "EQ030-N00",
           "EQ030-N26"
          ],
          "sentence_id": "4vfk99f5-C000-S012"
         },
         {
          "nugget_ids": [
           "EQ030-N00",
           "EQ030-N02"
          ],
          "sentence_id": "4vfk99f5-C000-S013"
         },
         {
          "nugget_ids": [
           "EQ030-N06",
           "EQ030-N00",
           "EQ030-N04",
           "EQ030-N18"
          ],
          "sentence_id": "4vfk99f5-C026-S000"
         },
         {
          "nugget_ids": [
           "EQ030-N00"
          ],
          "sentence_id": "4vfk99f5-C026-S001"
         },
         {
          "nugget_ids": [
           "EQ030-N00",
           "EQ030-N04"
          ],
          "sentence_id": "6tcwu832-C009-S000"
         },
         {
          "nugget_ids": [
           "EQ030-N00",
           "EQ030-N26"
          ],
          "sentence_id": "6tcwu832-C009-S001"
         },
         {
          "nugget_ids": [
           "EQ030-N00",
           "EQ030-N26"
          ],
          "sentence_id": "6tcwu832-C041-S000"
         },
         {
          "nugget_ids": [
           "EQ030-N20"
          ],
          "sentence_id": "6tcwu832-C041-S001"
         },
         {
          "nugget_ids": [
           "EQ030-N00",
           "EQ030-N02"
          ],
          "sentence_id": "6tcwu832-C041-S005"
         },
         {
          "nugget_ids": [
           "EQ030-N00",
           "EQ030-N14"
          ],
          "sentence_id": "6tcwu832-C041-S006"
         },
         {
          "nugget_ids": [
           "EQ030-N15"
          ],
          "sentence_id": "6tcwu832-C041-S007"
         },
         {
          "nugget_ids": [
           "EQ030-N15"
          ],
          "sentence_id": "6tcwu832-C041-S009"
         },
         {
          "nugget_ids": [
           "EQ030-N00",
           "EQ030-N26"
          ],
          "sentence_id": "6wwmbgw7-C000-S000"
         },
         {
          "nugget_ids": [
           "EQ030-N00",
           "EQ030-N26"
          ],
          "sentence_id": "6wwmbgw7-C000-S001"
         },
         {
          "nugget_ids": [
           "EQ030-N00",
           "EQ030-N02",
           "EQ030-N26"
          ],
          "sentence_id": "6wwmbgw7-C000-S002"
         },
         {
          "nugget_ids": [
           "EQ030-N00",
           "EQ030-N02",
           "EQ030-N20"
          ],
          "sentence_id": "6wwmbgw7-C000-S003"
         },
         {
          "nugget_ids": [
           "EQ030-N00",
           "EQ030-N26"
          ],
          "sentence_id": "7fdcu2f0-C009-S000"
         },
         {
          "nugget_ids": [
           "EQ030-N12",
           "EQ030-N07",
           "EQ030-N01",
           "EQ030-N26"
          ],
          "sentence_id": "7fdcu2f0-C009-S001"
         },
         {
          "nugget_ids": [
           "EQ030-N00",
           "EQ030-N13",
           "EQ030-N27",
           "EQ030-N22"
          ],
          "sentence_id": "7fdcu2f0-C009-S002"
         },
         {
          "nugget_ids": [
           "EQ030-N00",
           "EQ030-N09"
          ],
          "sentence_id": "7fdcu2f0-C009-S003"
         },
         {
          "nugget_ids": [
           "EQ030-N00",
           "EQ030-N07",
           "EQ030-N14",
           "EQ030-N26"
          ],
          "sentence_id": "7wiirvox-C000-S000"
         },
         {
          "nugget_ids": [
           "EQ030-N07",
           "EQ030-N29",
           "EQ030-N11"
          ],
          "sentence_id": "7wiirvox-C000-S001"
         },
         {
          "nugget_ids": [
           "EQ030-N01",
           "EQ030-N00",
           "EQ030-N26"
          ],
          "sentence_id": "7wiirvox-C000-S002"
         },
         {
          "nugget_ids": [
           "EQ030-N26"
          ],
          "sentence_id": "7wiirvox-C000-S003"
         },
         {
          "nugget_ids": [
           "EQ030-N00",
           "EQ030-N15"
          ],
          "sentence_id": "7wiirvox-C000-S006"
         },
         {
          "nugget_ids": [
           "EQ030-N26"
          ],
          "sentence_id": "7wiirvox-C000-S007"
         },
         {
          "nugget_ids": [
           "EQ030-N26",
           "EQ030-N15"
          ],
          "sentence_id": "7wiirvox-C000-S008"
         },
         {
          "nugget_ids": [
           "EQ030-N00",
           "EQ030-N01",
           "EQ030-N26",
           "EQ030-N14",
           "EQ030-N15"
          ],
          "sentence_id": "7x3nq9cp-C027-S000"
         },
         {
          "nugget_ids": [
           "EQ030-N14",
           "EQ030-N00",
           "EQ030-N04"
          ],
          "sentence_id": "7x3nq9cp-C027-S001"
         },
         {
          "nugget_ids": [
           "EQ030-N15"
          ],
          "sentence_id": "7xc47la7-C000-S000"
         },
         {
          "nugget_ids": [
           "EQ030-N26",
           "EQ030-N04"
          ],
          "sentence_id": "7xc47la7-C000-S001"
         },
         {
          "nugget_ids": [
           "EQ030-N00",
           "EQ030-N01",
           "EQ030-N04",
           "EQ030-N14"
          ],
          "sentence_id": "7xc47la7-C000-S002"
         },
         {
          "nugget_ids": [
           "EQ030-N14"
          ],
          "sentence_id": "7xc47la7-C000-S003"
         },
         {
          "nugget_ids": [
           "EQ030-N14"
          ],
          "sentence_id": "7xc47la7-C000-S006"
         },
         {
          "nugget_ids": [
           "EQ030-N15",
           "EQ030-N16",
           "EQ030-N18"
          ],
          "sentence_id": "7xc47la7-C000-S007"
         },
         {
          "nugget_ids": [
           "EQ030-N14",
           "EQ030-N00",
           "EQ030-N15",
           "EQ030-N16",
           "EQ030-N18"
          ],
          "sentence_id": "7xc47la7-C000-S008"
         },
         {
          "nugget_ids": [
           "EQ030-N01",
           "EQ030-N00",
           "EQ030-N26"
          ],
          "sentence_id": "7xc47la7-C000-S009"
         },
         {
          "nugget_ids": [
           "EQ030-N15"
          ],
          "sentence_id": "8xz0ddci-C012-S003"
         },
         {
          "nugget_ids": [
           "EQ030-N26",
           "EQ030-N04"
          ],
          "sentence_id": "8xz0ddci-C012-S004"
         },
         {
          "nugget_ids": [
           "EQ030-N17",
           "EQ030-N15"
          ],
          "sentence_id": "8xz0ddci-C012-S005"
         },
         {
          "nugget_ids": [
           "EQ030-N17",
           "EQ030-N26",
           "EQ030-N18"
          ],
          "sentence_id": "8xz0ddci-C012-S008"
         },
         {
          "nugget_ids": [
           "EQ030-N26"
          ],
          "sentence_id": "8xz0ddci-C012-S009"
         },
         {
          "nugget_ids": [
           "EQ030-N26",
           "EQ030-N02"
          ],
          "sentence_id": "8xz0ddci-C012-S010"
         },
         {
          "nugget_ids": [
           "EQ030-N26",
           "EQ030-N04"
          ],
          "sentence_id": "8xz0ddci-C012-S014"
         },
         {
          "nugget_ids": [
           "EQ030-N11"
          ],
          "sentence_id": "95fc828i-C006-S001"
         },
         {
          "nugget_ids": [
           "EQ030-N00",
           "EQ030-N01"
          ],
          "sentence_id": "95fc828i-C008-S000"
         },
         {
          "nugget_ids": [
           "EQ030-N25",
           "EQ030-N11"
          ],
          "sentence_id": "95fc828i-C008-S002"
         },
         {
          "nugget_ids": [
           "EQ030-N00",
           "EQ030-N04"
          ],
          "sentence_id": "95fc828i-C008-S003"
         },
         {
          "nugget_ids": [
           "EQ030-N00",
           "EQ030-N02"
          ],
          "sentence_id": "95fc828i-C008-S004"
         },
         {
          "nugget_ids": [
           "EQ030-N26",
           "EQ030-N06"
          ],
          "sentence_id": "9hxihlw9-C002-S000"
         },
         {
          "nugget_ids": [
           "EQ030-N00"
          ],
          "sentence_id": "9hxihlw9-C002-S001"
         },
         {
          "nugget_ids": [
           "EQ030-N00",
           "EQ030-N10",
           "EQ030-N17",
           "EQ030-N16"
          ],
          "sentence_id": "9hxihlw9-C014-S001"
         },
         {
          "nugget_ids": [
           "EQ030-N18",
           "EQ030-N02"
          ],
          "sentence_id": "9hxihlw9-C014-S002"
         },
         {
          "nugget_ids": [
           "EQ030-N00",
           "EQ030-N24"
          ],
          "sentence_id": "9hxihlw9-C014-S003"
         },
         {
          "nugget_ids": [
           "EQ030-N00",
           "EQ030-N01",
           "EQ030-N02",
           "EQ030-N24"
          ],
          "sentence_id": "9hxihlw9-C014-S005"
         },
         {
          "nugget_ids": [
           "EQ030-N14"
          ],
          "sentence_id": "9hxihlw9-C015-S000"
         },
         {
          "nugget_ids": [
           "EQ030-N14",
           "EQ030-N00",
           "EQ030-N04"
          ],
          "sentence_id": "9hxihlw9-C015-S001"
         },
         {
          "nugget_ids": [
           "EQ030-N00",
           "EQ030-N26"
          ],
          "sentence_id": "9hxihlw9-C015-S004"
         },
         {
          "nugget_ids": [
           "EQ030-N00",
           "EQ030-N14"
          ],
          "sentence_id": "9hxihlw9-C015-S005"
         },
         {
          "nugget_ids": [
           "EQ030-N00",
           "EQ030-N26"
          ],
          "sentence_id": "a0drmmf7-C000-S001"
         },
         {
          "nugget_ids": [
           "EQ030-N00",
           "EQ030-N01",
           "EQ030-N04"
          ],
          "sentence_id": "a0drmmf7-C000-S002"
         },
         {
          "nugget_ids": [
           "EQ030-N00",
           "EQ030-N26",
           "EQ030-N04",
           "EQ030-N14"
          ],
          "sentence_id": "a0drmmf7-C000-S003"
         },
         {
          "nugget_ids": [
           "EQ030-N17"
          ],
          "sentence_id": "a70k298w-C006-S000"
         },
         {
          "nugget_ids": [
           "EQ030-N17",
           "EQ030-N10"
          ],
          "sentence_id": "a70k298w-C006-S003"
         },
         {
          "nugget_ids": [
           "EQ030-N10",
           "EQ030-N19"
          ],
          "sentence_id": "a70k298w-C006-S004"
         },
         {
          "nugget_ids": [
           "EQ030-N17"
          ],
          "sentence_id": "a70k298w-C006-S005"
         },
         {
          "nugget_ids": [
           "EQ030-N19",
           "EQ030-N25"
          ],
          "sentence_id": "a70k298w-C006-S006"
         },
         {
          "nugget_ids": [
           "EQ030-N01"
          ],
          "sentence_id": "a70k298w-C006-S007"
         },
         {
          "nugget_ids": [
           "EQ030-N17",
           "EQ030-N19"
          ],
          "sentence_id": "a70k298w-C006-S008"
         },
         {
          "nugget_ids": [
           "EQ030-N17"
          ],
          "sentence_id": "a70k298w-C006-S009"
         },
         {
          "nugget_ids": [
           "EQ030-N26"
          ],
          "sentence_id": "a70k298w-C006-S010"
         },
         {
          "nugget_ids": [
           "EQ030-N00",
           "EQ030-N04"
          ],
          "sentence_id": "a70k298w-C006-S011"
         },
         {
          "nugget_ids": [
           "EQ030-N14",
           "EQ030-N26",
           "EQ030-N02"
          ],
          "sentence_id": "a70k298w-C006-S012"
         },
         {
          "nugget_ids": [
           "EQ030-N26"
          ],
          "sentence_id": "aivub6mi-C002-S005"
         },
         {
          "nugget_ids": [
           "EQ030-N26",
           "EQ030-N04"
          ],
          "sentence_id": "aivub6mi-C002-S006"
         },
         {
          "nugget_ids": [
           "EQ030-N14"
          ],
          "sentence_id": "aivub6mi-C002-S007"
         },
         {
          "nugget_ids": [
           "EQ030-N14",
           "EQ030-N26"
          ],
          "sentence_id": "aivub6mi-C002-S008"
         },
         {
          "nugget_ids": [
           "EQ030-N19"
          ],
          "sentence_id": "b518n9dx-C013-S001"
         },
         {
          "nugget_ids": [
           "EQ030-N24",
           "EQ030-N15"
          ],
          "sentence_id": "b518n9dx-C013-S002"
         },
         {
          "nugget_ids": [
           "EQ030-N24",
           "EQ030-N25"
          ],
          "sentence_id": "b518n9dx-C013-S003"
         },
         {
          "nugget_ids": [
           "EQ030-N00",
           "EQ030-N26",
           "EQ030-N25"
          ],
          "sentence_id": "b518n9dx-C013-S004"
         },
         {
          "nugget_ids": [
           "EQ030-N00",
           "EQ030-N02",
           "EQ030-N25"
          ],
          "sentence_id": "b518n9dx-C013-S005"
         },
         {
          "nugget_ids": [
           "EQ030-N00"
          ],
          "sentence_id": "b518n9dx-C013-S006"
         },
         {
          "nugget_ids": [
           "EQ030-N15"
          ],
          "sentence_id": "b518n9dx-C013-S007"
         },
         {
          "nugget_ids": [
           "EQ030-N00",
           "EQ030-N29"
          ],
          "sentence_id": "b518n9dx-C013-S008"
         },
         {
          "nugget_ids": [
           "EQ030-N00",
           "EQ030-N29",
           "EQ030-N15"
          ],
          "sentence_id": "b518n9dx-C013-S009"
         },
         {
          "nugget_ids": [
           "EQ030-N00"
          ],
          "sentence_id": "b518n9dx-C013-S010"
         },
         {
          "nugget_ids": [
           "EQ030-N00"
          ],
          "sentence_id": "b518n9dx-C013-S011"
         },
         {
          "nugget_ids": [
           "EQ030-N00"
          ],
          "sentence_id": "b518n9dx-C013-S012"
         },
         {
          "nugget_ids": [
           "EQ030-N00",
           "EQ030-N29"
          ],
          "sentence_id": "b518n9dx-C013-S014"
         },
         {
          "nugget_ids": [
           "EQ030-N24"
          ],
          "sentence_id": "bjq36px5-C025-S003"
         },
         {
          "nugget_ids": [
           "EQ030-N14",
           "EQ030-N19"
          ],
          "sentence_id": "bjq36px5-C025-S004"
         },
         {
          "nugget_ids": [
           "EQ030-N14"
          ],
          "sentence_id": "bjq36px5-C025-S006"
         },
         {
          "nugget_ids": [
           "EQ030-N04",
           "EQ030-N26",
           "EQ030-N00",
           "EQ030-N02"
          ],
          "sentence_id": "byjd8w4c-C008-S000"
         },
         {
          "nugget_ids": [
           "EQ030-N00",
           "EQ030-N04",
           "EQ030-N25"
          ],
          "sentence_id": "byjd8w4c-C008-S001"
         },
         {
          "nugget_ids": [
           "EQ030-N11",
           "EQ030-N25"
          ],
          "sentence_id": "byjd8w4c-C008-S002"
         },
         {
          "nugget_ids": [
           "EQ030-N11",
           "EQ030-N25"
          ],
          "sentence_id": "byjd8w4c-C008-S005"
         },
         {
          "nugget_ids": [
           "EQ030-N11"
          ],
          "sentence_id": "byjd8w4c-C008-S006"
         },
         {
          "nugget_ids": [
           "EQ030-N00",
           "EQ030-N09"
          ],
          "sentence_id": "byjd8w4c-C008-S007"
         },
         {
          "nugget_ids": [
           "EQ030-N11",
           "EQ030-N00",
           "EQ030-N29"
          ],
          "sentence_id": "byjd8w4c-C008-S008"
         },
         {
          "nugget_ids": [
           "EQ030-N00",
           "EQ030-N11"
          ],
          "sentence_id": "byjd8w4c-C008-S009"
         },
         {
          "nugget_ids": [
           "EQ030-N25"
          ],
          "sentence_id": "byjd8w4c-C008-S010"
         },
         {
          "nugget_ids": [
           "EQ030-N11",
           "EQ030-N29",
           "EQ030-N04"
          ],
          "sentence_id": "byjd8w4c-C008-S011"
         },
         {
          "nugget_ids": [
           "EQ030-N29",
           "EQ030-N11"
          ],
          "sentence_id": "byjd8w4c-C008-S012"
         },
         {
          "nugget_ids": [
           "EQ030-N11"
          ],
          "sentence_id": "byjd8w4c-C008-S013"
         },
         {
          "nugget_ids": [
           "EQ030-N00",
           "EQ030-N04"
          ],
          "sentence_id": "coryaz2s-C014-S000"
         },
         {
          "nugget_ids": [
           "EQ030-N00",
           "EQ030-N17",
           "EQ030-N04"
          ],
          "sentence_id": "coryaz2s-C014-S001"
         },
         {
          "nugget_ids": [
           "EQ030-N00"
          ],
          "sentence_id": "coryaz2s-C014-S002"
         },
         {
          "nugget_ids": [
           "EQ030-N00"
          ],
          "sentence_id": "coryaz2s-C014-S004"
         },
         {
          "nugget_ids": [
           "EQ030-N04"
          ],
          "sentence_id": "coryaz2s-C014-S005"
         },
         {
          "nugget_ids": [
           "EQ030-N04"
          ],
          "sentence_id": "coryaz2s-C014-S006"
         },
         {
          "nugget_ids": [
           "EQ030-N00",
           "EQ030-N24",
           "EQ030-N25"
          ],
          "sentence_id": "coryaz2s-C014-S009"
         },
         {
          "nugget_ids": [
           "EQ030-N25"
          ],
          "sentence_id": "coryaz2s-C014-S007"
         },
         {
          "nugget_ids": [
           "EQ030-N15",
           "EQ030-N26"
          ],
          "sentence_id": "dbvucvy3-C001-S000"
         },
         {
          "nugget_ids": [
           "EQ030-N01",
           "EQ030-N26"
          ],
          "sentence_id": "dbvucvy3-C001-S001"
         },
         {
          "nugget_ids": [
           "EQ030-N00",
           "EQ030-N04",
           "EQ030-N01",
           "EQ030-N11"
          ],
          "sentence_id": "dbvucvy3-C001-S002"
         },
         {
          "nugget_ids": [
           "EQ030-N00",
           "EQ030-N29",
           "EQ030-N11",
           "EQ030-N09"
          ],
          "sentence_id": "dbvucvy3-C001-S003"
         },
         {
          "nugget_ids": [
           "EQ030-N00",
           "EQ030-N29"
          ],
          "sentence_id": "dbvucvy3-C001-S004"
         },
         {
          "nugget_ids": [
           "EQ030-N12",
           "EQ030-N07",
           "EQ030-N00",
           "EQ030-N11",
           "EQ030-N29"
          ],
          "sentence_id": "dbvucvy3-C001-S005"
         },
         {
          "nugget_ids": [
           "EQ030-N29",
           "EQ030-N11"
          ],
          "sentence_id": "dbvucvy3-C001-S006"
         },
         {
          "nugget_ids": [
           "EQ030-N00"
          ],
          "sentence_id": "dbvucvy3-C001-S007"
         },
         {
          "nugget_ids": [
           "EQ030-N00",
           "EQ030-N18"
          ],
          "sentence_id": "dbvucvy3-C001-S008"
         },
         {
          "nugget_ids": [
           "EQ030-N16",
           "EQ030-N02"
          ],
          "sentence_id": "dbvucvy3-C001-S009"
         },
         {
          "nugget_ids": [
           "EQ030-N14",
           "EQ030-N04",
           "EQ030-N00"
          ],
          "sentence_id": "dieaqxmi-C004-S000"
         },
         {
          "nugget_ids": [
           "EQ030-N00",
           "EQ030-N06"
          ],
          "sentence_id": "dieaqxmi-C004-S001"
         },
         {
          "nugget_ids": [
           "EQ030-N00",
           "EQ030-N02"
          ],
          "sentence_id": "dieaqxmi-C004-S002"
         },
         {
          "nugget_ids": [
           "EQ030-N00"
          ],
          "sentence_id": "dieaqxmi-C000-S001"
         },
         {
          "nugget_ids": [
           "EQ030-N00",
           "EQ030-N26",
           "EQ030-N04"
          ],
          "sentence_id": "dieaqxmi-C000-S002"
         },
         {
          "nugget_ids": [
           "EQ030-N00"
          ],
          "sentence_id": "dieaqxmi-C000-S003"
         },
         {
          "nugget_ids": [
           "EQ030-N00",
           "EQ030-N04"
          ],
          "sentence_id": "dieaqxmi-C000-S005"
         },
         {
          "nugget_ids": [
           "EQ030-N14"
          ],
          "sentence_id": "dieaqxmi-C000-S006"
         },
         {
          "nugget_ids": [
           "EQ030-N14",
           "EQ030-N15",
           "EQ030-N02"
          ],
          "sentence_id": "dieaqxmi-C000-S007"
         },
         {
          "nugget_ids": [
           "EQ030-N14"
          ],
          "sentence_id": "dieaqxmi-C000-S008"
         },
         {
          "nugget_ids": [
           "EQ030-N14",
           "EQ030-N00",
           "EQ030-N18"
          ],
          "sentence_id": "dieaqxmi-C000-S009"
         },
         {
          "nugget_ids": [
           "EQ030-N08",
           "EQ030-N14",
           "EQ030-N00"
          ],
          "sentence_id": "dieaqxmi-C000-S010"
         },
         {
          "nugget_ids": [
           "EQ030-N14"
          ],
          "sentence_id": "dieaqxmi-C000-S012"
         },
         {
          "nugget_ids": [
           "EQ030-N04",
           "EQ030-N26"
          ],
          "sentence_id": "dieaqxmi-C002-S000"
         },
         {
          "nugget_ids": [
           "EQ030-N00",
           "EQ030-N01",
           "EQ030-N05",
           "EQ030-N02"
          ],
          "sentence_id": "dieaqxmi-C002-S001"
         },
         {
          "nugget_ids": [
           "EQ030-N00",
           "EQ030-N01",
           "EQ030-N09",
           "EQ030-N04"
          ],
          "sentence_id": "gqqdx2r5-C000-S000"
         },
         {
          "nugget_ids": [
           "EQ030-N02",
           "EQ030-N00",
           "EQ030-N04"
          ],
          "sentence_id": "gqqdx2r5-C000-S001"
         },
         {
          "nugget_ids": [
           "EQ030-N14"
          ],
          "sentence_id": "gqqdx2r5-C000-S002"
         },
         {
          "nugget_ids": [
           "EQ030-N00",
           "EQ030-N04"
          ],
          "sentence_id": "gqqdx2r5-C000-S003"
         },
         {
          "nugget_ids": [
           "EQ030-N14"
          ],
          "sentence_id": "gqqdx2r5-C000-S004"
         },
         {
          "nugget_ids": [
           "EQ030-N00",
           "EQ030-N02"
          ],
          "sentence_id": "gqqdx2r5-C000-S005"
         },
         {
          "nugget_ids": [
           "EQ030-N00",
           "EQ030-N04"
          ],
          "sentence_id": "gqqdx2r5-C000-S006"
         },
         {
          "nugget_ids": [
           "EQ030-N14",
           "EQ030-N15",
           "EQ030-N04"
          ],
          "sentence_id": "gqqdx2r5-C000-S007"
         },
         {
          "nugget_ids": [
           "EQ030-N00",
           "EQ030-N02",
           "EQ030-N18"
          ],
          "sentence_id": "gqqdx2r5-C000-S008"
         },
         {
          "nugget_ids": [
           "EQ030-N14"
          ],
          "sentence_id": "gqqdx2r5-C000-S009"
         },
         {
          "nugget_ids": [
           "EQ030-N26"
          ],
          "sentence_id": "j8n06hzx-C014-S000"
         },
         {
          "nugget_ids": [
           "EQ030-N26",
           "EQ030-N02"
          ],
          "sentence_id": "j8n06hzx-C014-S001"
         },
         {
          "nugget_ids": [
           "EQ030-N26",
           "EQ030-N02",
           "EQ030-N15"
          ],
          "sentence_id": "j8n06hzx-C014-S002"
         },
         {
          "nugget_ids": [
           "EQ030-N26"
          ],
          "sentence_id": "j8n06hzx-C014-S004"
         },
         {
          "nugget_ids": [
           "EQ030-N15"
          ],
          "sentence_id": "j8n06hzx-C014-S006"
         },
         {
          "nugget_ids": [
           "EQ030-N19"
          ],
          "sentence_id": "j8n06hzx-C014-S008"
         },
         {
          "nugget_ids": [
           "EQ030-N26"
          ],
          "sentence_id": "j8n06hzx-C014-S009"
         },
         {
          "nugget_ids": [
           "EQ030-N26"
          ],
          "sentence_id": "j8n06hzx-C014-S011"
         },
         {
          "nugget_ids": [
           "EQ030-N04"
          ],
          "sentence_id": "j8n06hzx-C014-S012"
         },
         {
          "nugget_ids": [
           "EQ030-N00",
           "EQ030-N04"
          ],
          "sentence_id": "j8n06hzx-C014-S013"
         },
         {
          "nugget_ids": [
           "EQ030-N26"
          ],
          "sentence_id": "j8n06hzx-C014-S014"
         },
         {
          "nugget_ids": [
           "EQ030-N26"
          ],
          "sentence_id": "jxbch44o-C000-S000"
         },
         {
          "nugget_ids": [
           "EQ030-N05",
           "EQ030-N06",
           "EQ030-N08"
          ],
          "sentence_id": "jxbch44o-C000-S001"
         },
         {
          "nugget_ids": [
           "EQ030-N00",
           "EQ030-N07",
           "EQ030-N01",
           "EQ030-N14",
           "EQ030-N04",
           "EQ030-N06"
          ],
          "sentence_id": "jxbch44o-C000-S002"
         },
         {
          "nugget_ids": [
           "EQ030-N00",
           "EQ030-N02",
           "EQ030-N09",
           "EQ030-N04"
          ],
          "sentence_id": "jxbch44o-C000-S003"
         },
         {
          "nugget_ids": [
           "EQ030-N00",
           "EQ030-N02",
           "EQ030-N19",
           "EQ030-N24"
          ],
          "sentence_id": "jxbch44o-C000-S004"
         },
         {
          "nugget_ids": [
           "EQ030-N24",
           "EQ030-N00",
           "EQ030-N26"
          ],
          "sentence_id": "jxbch44o-C000-S005"
         },
         {
          "nugget_ids": [
           "EQ030-N24",
           "EQ030-N00"
          ],
          "sentence_id": "jxbch44o-C000-S006"
         },
         {
          "nugget_ids": [
           "EQ030-N00",
           "EQ030-N02"
          ],
          "sentence_id": "jxbch44o-C000-S007"
         },
         {
          "nugget_ids": [
           "EQ030-N00",
           "EQ030-N10",
           "EQ030-N17",
           "EQ030-N02"
          ],
          "sentence_id": "jxbch44o-C000-S008"
         },
         {
          "nugget_ids": [
           "EQ030-N27",
           "EQ030-N05",
           "EQ030-N00"
          ],
          "sentence_id": "l2r0rlo0-C014-S000"
         },
         {
          "nugget_ids": [
           "EQ030-N07",
           "EQ030-N27"
          ],
          "sentence_id": "l2r0rlo0-C014-S001"
         },
         {
          "nugget_ids": [
           "EQ030-N27",
           "EQ030-N00",
           "EQ030-N02"
          ],
          "sentence_id": "l2r0rlo0-C014-S002"
         },
         {
          "nugget_ids": [
           "EQ030-N00",
           "EQ030-N04"
          ],
          "sentence_id": "l2r0rlo0-C014-S003"
         },
         {
          "nugget_ids": [
           "EQ030-N09"
          ],
          "sentence_id": "l2r0rlo0-C014-S004"
         },
         {
          "nugget_ids": [
           "EQ030-N00",
           "EQ030-N26"
          ],
          "sentence_id": "l2r0rlo0-C014-S006"
         },
         {
          "nugget_ids": [
           "EQ030-N11"
          ],
          "sentence_id": "l2r0rlo0-C014-S007"
         },
         {
          "nugget_ids": [
           "EQ030-N01",
           "EQ030-N26",
           "EQ030-N15"
          ],
          "sentence_id": "ljztowrp-C000-S000"
         },
         {
          "nugget_ids": [
           "EQ030-N00",
           "EQ030-N09",
           "EQ030-N02",
           "EQ030-N04"
          ],
          "sentence_id": "ljztowrp-C000-S001"
         },
         {
          "nugget_ids": [
           "EQ030-N04",
           "EQ030-N00",
           "EQ030-N26"
          ],
          "sentence_id": "ljztowrp-C000-S002"
         },
         {
          "nugget_ids": [
           "EQ030-N00",
           "EQ030-N26",
           "EQ030-N09",
           "EQ030-N04"
          ],
          "sentence_id": "ljztowrp-C000-S003"
         },
         {
          "nugget_ids": [
           "EQ030-N00",
           "EQ030-N02"
          ],
          "sentence_id": "ljztowrp-C000-S004"
         },
         {
          "nugget_ids": [
           "EQ030-N00",
           "EQ030-N04",
           "EQ030-N14"
          ],
          "sentence_id": "ljztowrp-C000-S005"
         },
         {
          "nugget_ids": [
           "EQ030-N01"
          ],
          "sentence_id": "lyx7mnnz-C012-S000"
         },
         {
          "nugget_ids": [
           "EQ030-N00",
           "EQ030-N04",
           "EQ030-N14"
          ],
          "sentence_id": "lyx7mnnz-C012-S001"
         },
         {
          "nugget_ids": [
           "EQ030-N26"
          ],
          "sentence_id": "lyx7mnnz-C012-S002"
         },
         {
          "nugget_ids": [
           "EQ030-N01",
           "EQ030-N26",
           "EQ030-N18"
          ],
          "sentence_id": "lyx7mnnz-C012-S003"
         },
         {
          "nugget_ids": [
           "EQ030-N23",
           "EQ030-N28",
           "EQ030-N25"
          ],
          "sentence_id": "np6nfvf2-C007-S000"
         },
         {
          "nugget_ids": [
           "EQ030-N11",
           "EQ030-N25"
          ],
          "sentence_id": "np6nfvf2-C007-S001"
         },
         {
          "nugget_ids": [
           "EQ030-N11",
           "EQ030-N25",
           "EQ030-N00",
           "EQ030-N07",
           "EQ030-N05"
          ],
          "sentence_id": "np6nfvf2-C007-S004"
         },
         {
          "nugget_ids": [
           "EQ030-N00",
           "EQ030-N07",
           "EQ030-N09",
           "EQ030-N02"
          ],
          "sentence_id": "oyr4klqk-C000-S000"
         },
         {
          "nugget_ids": [
           "EQ030-N00"
          ],
          "sentence_id": "oyr4klqk-C000-S001"
         },
         {
          "nugget_ids": [
           "EQ030-N00"
          ],
          "sentence_id": "oyr4klqk-C000-S003"
         },
         {
          "nugget_ids": [
           "EQ030-N00"
          ],
          "sentence_id": "oyr4klqk-C000-S004"
         },
         {
          "nugget_ids": [
           "EQ030-N00"
          ],
          "sentence_id": "oyr4klqk-C000-S005"
         },
         {
          "nugget_ids": [
           "EQ030-N02"
          ],
          "sentence_id": "oyr4klqk-C000-S008"
         },
         {
          "nugget_ids": [
           "EQ030-N15",
           "EQ030-N20"
          ],
          "sentence_id": "oyr4klqk-C000-S009"
         },
         {
          "nugget_ids": [
           "EQ030-N00",
           "EQ030-N02"
          ],
          "sentence_id": "oyr4klqk-C000-S010"
         },
         {
          "nugget_ids": [
           "EQ030-N04",
           "EQ030-N00",
           "EQ030-N14",
           "EQ030-N26"
          ],
          "sentence_id": "oyr4klqk-C000-S011"
         },
         {
          "nugget_ids": [
           "EQ030-N26"
          ],
          "sentence_id": "p6uliadr-C000-S000"
         },
         {
          "nugget_ids": [
           "EQ030-N00",
           "EQ030-N07",
           "EQ030-N04"
          ],
          "sentence_id": "p6uliadr-C000-S001"
         },
         {
          "nugget_ids": [
           "EQ030-N04",
           "EQ030-N00"
          ],
          "sentence_id": "p6uliadr-C000-S002"
         },
         {
          "nugget_ids": [
           "EQ030-N00",
           "EQ030-N02",
           "EQ030-N19"
          ],
          "sentence_id": "p6uliadr-C000-S003"
         },
         {
          "nugget_ids": [
           "EQ030-N00"
          ],
          "sentence_id": "p6uliadr-C000-S004"
         },
         {
          "nugget_ids": [
           "EQ030-N04",
           "EQ030-N19"
          ],
          "sentence_id": "p6uliadr-C000-S005"
         },
         {
          "nugget_ids": [
           "EQ030-N00",
           "EQ030-N19",
           "EQ030-N03"
          ],
          "sentence_id": "p6uliadr-C000-S006"
         },
         {
          "nugget_ids": [
           "EQ030-N24",
           "EQ030-N04"
          ],
          "sentence_id": "p6uliadr-C000-S007"
         },
         {
          "nugget_ids": [
           "EQ030-N24",
           "EQ030-N00"
          ],
          "sentence_id": "p6uliadr-C000-S008"
         },
         {
          "nugget_ids": [
           "EQ030-N00",
           "EQ030-N02",
           "EQ030-N26"
          ],
          "sentence_id": "p6uliadr-C000-S009"
         },
         {
          "nugget_ids": [
           "EQ030-N00",
           "EQ030-N02",
           "EQ030-N17",
           "EQ030-N10"
          ],
          "sentence_id": "p6uliadr-C000-S010"
         },
         {
          "nugget_ids": [
           "EQ030-N26"
          ],
          "sentence_id": "qxdakdk0-C000-S001"
         },
         {
          "nugget_ids": [
           "EQ030-N26"
          ],
          "sentence_id": "qxdakdk0-C000-S002"
         },
         {
          "nugget_ids": [
           "EQ030-N09"
          ],
          "sentence_id": "qxdakdk0-C000-S003"
         },
         {
          "nugget_ids": [
           "EQ030-N01",
           "EQ030-N25",
           "EQ030-N10",
           "EQ030-N00"
          ],
          "sentence_id": "qxdakdk0-C000-S006"
         },
         {
          "nugget_ids": [
           "EQ030-N19",
           "EQ030-N26",
           "EQ030-N15"
          ],
          "sentence_id": "qxdakdk0-C000-S007"
         },
         {
          "nugget_ids": [
           "EQ030-N01",
           "EQ030-N02",
           "EQ030-N19"
          ],
          "sentence_id": "qxdakdk0-C000-S008"
         },
         {
          "nugget_ids": [
           "EQ030-N26"
          ],
          "sentence_id": "qxdakdk0-C000-S009"
         },
         {
          "nugget_ids": [
           "EQ030-N00",
           "EQ030-N05",
           "EQ030-N01",
           "EQ030-N04"
          ],
          "sentence_id": "r0znh1bi-C000-S000"
         },
         {
          "nugget_ids": [
           "EQ030-N00",
           "EQ030-N05",
           "EQ030-N14"
          ],
          "sentence_id": "r0znh1bi-C000-S001"
         },
         {
          "nugget_ids": [
           "EQ030-N00"
          ],
          "sentence_id": "r0znh1bi-C000-S002"
         },
         {
          "nugget_ids": [
           "EQ030-N00",
           "EQ030-N04"
          ],
          "sentence_id": "r0znh1bi-C000-S003"
         },
         {
          "nugget_ids": [
           "EQ030-N00",
           "EQ030-N29",
           "EQ030-N04",
           "EQ030-N02"
          ],
          "sentence_id": "r0znh1bi-C000-S004"
         },
         {
          "nugget_ids": [
           "EQ030-N00",
           "EQ030-N14",
           "EQ030-N04"
          ],
          "sentence_id": "r0znh1bi-C000-S005"
         },
         {
          "nugget_ids": [
           "EQ030-N01",
           "EQ030-N26",
           "EQ030-N04",
           "EQ030-N02"
          ],
          "sentence_id": "r0znh1bi-C000-S006"
         },
         {
          "nugget_ids": [
           "EQ030-N05",
           "EQ030-N01"
          ],
          "sentence_id": "ssuao9mb-C001-S006"
         },
         {
          "nugget_ids": [
           "EQ030-N14",
           "EQ030-N26"
          ],
          "sentence_id": "ssuao9mb-C001-S007"
         },
         {
          "nugget_ids": [
           "EQ030-N26",
           "EQ030-N02",
           "EQ030-N04"
          ],
          "sentence_id": "tdqtikbh-C000-S000"
         },
         {
          "nugget_ids": [
           "EQ030-N04"
          ],
          "sentence_id": "tdqtikbh-C000-S001"
         },
         {
          "nugget_ids": [
           "EQ030-N04",
           "EQ030-N26"
          ],
          "sentence_id": "tdqtikbh-C000-S002"
         },
         {
          "nugget_ids": [
           "EQ030-N26"
          ],
          "sentence_id": "tdqtikbh-C000-S003"
         },
         {
          "nugget_ids": [
           "EQ030-N00"
          ],
          "sentence_id": "tdqtikbh-C000-S004"
         },
         {
          "nugget_ids": [
           "EQ030-N00",
           "EQ030-N06",
           "EQ030-N14"
          ],
          "sentence_id": "tdqtikbh-C000-S005"
         },
         {
          "nugget_ids": [
           "EQ030-N14",
           "EQ030-N26"
          ],
          "sentence_id": "tdqtikbh-C000-S009"
         },
         {
          "nugget_ids": [
           "EQ030-N04",
           "EQ030-N02"
          ],
          "sentence_id": "tdqtikbh-C000-S010"
         },
         {
          "nugget_ids": [
           "EQ030-N04",
           "EQ030-N26"
          ],
          "sentence_id": "tn2xfmry-C000-S000"
         },
         {
          "nugget_ids": [
           "EQ030-N14",
           "EQ030-N00",
           "EQ030-N02"
          ],
          "sentence_id": "tn2xfmry-C000-S001"
         },
         {
          "nugget_ids": [
           "EQ030-N00",
           "EQ030-N14"
          ],
          "sentence_id": "tn2xfmry-C000-S002"
         },
         {
          "nugget_ids": [
           "EQ030-N02",
           "EQ030-N16"
          ],
          "sentence_id": "tn2xfmry-C000-S003"
         },
         {
          "nugget_ids": [
           "EQ030-N00",
           "EQ030-N14"
          ],
          "sentence_id": "tn2xfmry-C000-S005"
         },
         {
          "nugget_ids": [
           "EQ030-N14"
          ],
          "sentence_id": "tn2xfmry-C000-S004"
         },
         {
          "nugget_ids": [
           "EQ030-N02",
           "EQ030-N14",
           "EQ030-N16"
          ],
          "sentence_id": "tn2xfmry-C000-S006"
         },
         {
          "nugget_ids": [
           "EQ030-N15",
           "EQ030-N00"
          ],
          "sentence_id": "tn2xfmry-C000-S007"
         },
         {
          "nugget_ids": [
           "EQ030-N00",
           "EQ030-N18",
           "EQ030-N14"
          ],
          "sentence_id": "tn2xfmry-C000-S008"
         },
         {
          "nugget_ids": [
           "EQ030-N00",
           "EQ030-N19",
           "EQ030-N16"
          ],
          "sentence_id": "tn2xfmry-C000-S009"
         },
         {
          "nugget_ids": [
           "EQ030-N14"
          ],
          "sentence_id": "tn2xfmry-C000-S010"
         },
         {
          "nugget_ids": [
           "EQ030-N01",
           "EQ030-N00"
          ],
          "sentence_id": "u7zxlgxz-C008-S000"
         },
         {
          "nugget_ids": [
           "EQ030-N00",
           "EQ030-N01",
           "EQ030-N11"
          ],
          "sentence_id": "u7zxlgxz-C008-S001"
         },
         {
          "nugget_ids": [
           "EQ030-N00",
           "EQ030-N01"
          ],
          "sentence_id": "u7zxlgxz-C008-S002"
         },
         {
          "nugget_ids": [
           "EQ030-N00",
           "EQ030-N19",
           "EQ030-N24",
           "EQ030-N17"
          ],
          "sentence_id": "u7zxlgxz-C008-S003"
         },
         {
          "nugget_ids": [
           "EQ030-N00",
           "EQ030-N09"
          ],
          "sentence_id": "u7zxlgxz-C008-S004"
         },
         {
          "nugget_ids": [
           "EQ030-N00",
           "EQ030-N09",
           "EQ030-N25"
          ],
          "sentence_id": "u7zxlgxz-C008-S005"
         },
         {
          "nugget_ids": [
           "EQ030-N00",
           "EQ030-N02"
          ],
          "sentence_id": "u7zxlgxz-C008-S006"
         },
         {
          "nugget_ids": [
           "EQ030-N14",
           "EQ030-N00"
          ],
          "sentence_id": "u7zxlgxz-C008-S007"
         },
         {
          "nugget_ids": [
           "EQ030-N14"
          ],
          "sentence_id": "u7zxlgxz-C008-S008"
         },
         {
          "nugget_ids": [
           "EQ030-N00",
           "EQ030-N02",
           "EQ030-N24"
          ],
          "sentence_id": "u7zxlgxz-C008-S009"
         },
         {
          "nugget_ids": [
           "EQ030-N24",
           "EQ030-N25"
          ],
          "sentence_id": "u7zxlgxz-C008-S010"
         },
         {
          "nugget_ids": [
           "EQ030-N00",
           "EQ030-N02"
          ],
          "sentence_id": "u7zxlgxz-C008-S011"
         },
         {
          "nugget_ids": [
           "EQ030-N04"
          ],
          "sentence_id": "u7zxlgxz-C008-S013"
         },
         {
          "nugget_ids": [
           "EQ030-N01",
           "EQ030-N14"
          ],
          "sentence_id": "u7zxlgxz-C008-S014"
         },
         {
          "nugget_ids": [
           "EQ030-N04"
          ],
          "sentence_id": "vlkgdis7-C000-S001"
         },
         {
          "nugget_ids": [
           "EQ030-N00",
           "EQ030-N26",
           "EQ030-N02"
          ],
          "sentence_id": "vlkgdis7-C000-S002"
         },
         {
          "nugget_ids": [
           "EQ030-N00",
           "EQ030-N13",
           "EQ030-N29"
          ],
          "sentence_id": "vlkgdis7-C000-S003"
         },
         {
          "nugget_ids": [
           "EQ030-N02",
           "EQ030-N00",
           "EQ030-N14"
          ],
          "sentence_id": "4pywvaxi-C001-S000"
         },
         {
          "nugget_ids": [
           "EQ030-N00",
           "EQ030-N02",
           "EQ030-N04"
          ],
          "sentence_id": "4pywvaxi-C001-S001"
         },
         {
          "nugget_ids": [
           "EQ030-N00",
           "EQ030-N02",
           "EQ030-N04"
          ],
          "sentence_id": "x89iy0m2-C000-S001"
         },
         {
          "nugget_ids": [
           "EQ030-N00",
           "EQ030-N14",
           "EQ030-N04"
          ],
          "sentence_id": "x89iy0m2-C000-S002"
         },
         {
          "nugget_ids": [
           "EQ030-N02",
           "EQ030-N15",
           "EQ030-N16"
          ],
          "sentence_id": "x89iy0m2-C000-S003"
         },
         {
          "nugget_ids": [
           "EQ030-N00",
           "EQ030-N06"
          ],
          "sentence_id": "x89iy0m2-C000-S004"
         },
         {
          "nugget_ids": [
           "EQ030-N14"
          ],
          "sentence_id": "x89iy0m2-C000-S005"
         },
         {
          "nugget_ids": [
           "EQ030-N00",
           "EQ030-N02"
          ],
          "sentence_id": "x89iy0m2-C000-S006"
         },
         {
          "nugget_ids": [
           "EQ030-N00",
           "EQ030-N02"
          ],
          "sentence_id": "x89iy0m2-C000-S007"
         },
         {
          "nugget_ids": [
           "EQ030-N04",
           "EQ030-N14"
          ],
          "sentence_id": "x89iy0m2-C000-S008"
         },
         {
          "nugget_ids": [
           "EQ030-N00",
           "EQ030-N07",
           "EQ030-N14",
           "EQ030-N01"
          ],
          "sentence_id": "zv0ysi8m-C005-S002"
         },
         {
          "nugget_ids": [
           "EQ030-N05"
          ],
          "sentence_id": "zv0ysi8m-C005-S001"
         },
         {
          "nugget_ids": [
           "EQ030-N01",
           "EQ030-N11"
          ],
          "sentence_id": "zv0ysi8m-C005-S003"
         },
         {
          "nugget_ids": [
           "EQ030-N23",
           "EQ030-N17"
          ],
          "sentence_id": "zv0ysi8m-C005-S005"
         }
        ],
        "nuggets": [
         {
          "nugget": "GS-443902",
          "nugget_id": "EQ030-N29"
         },
         {
          "nugget": "papain like protease",
          "nugget_id": "EQ030-N28"
         },
         {
          "nugget": "exonuclease",
          "nugget_id": "EQ030-N27"
         },
         {
          "nugget": "drug therapy",
          "nugget_id": "EQ030-N26"
         },
         {
          "nugget": "genome replication",
          "nugget_id": "EQ030-N25"
         },
         {
          "nugget": "viral load",
          "nugget_id": "EQ030-N24"
         },
         {
          "nugget": "coronavirus main proteinase",
          "nugget_id": "EQ030-N23"
         },
         {
          "nugget": "evades proofreading by viral exonuclease",
          "nugget_id": "EQ030-N22"
         },
         {
          "nugget": "obscures viral rna polymerase",
          "nugget_id": "EQ030-N21"
         },
         {
          "nugget": "invasive mechanical ventilation",
          "nugget_id": "EQ030-N20"
         },
         {
          "nugget": "respiratory insufficiency",
          "nugget_id": "EQ030-N19"
         },
         {
          "nugget": "adverse effect",
          "nugget_id": "EQ030-N18"
         },
         {
          "nugget": "pneumonia",
          "nugget_id": "EQ030-N17"
         },
         {
          "nugget": "leangth of stay",
          "nugget_id": "EQ030-N16"
         },
         {
          "nugget": "mortality",
          "nugget_id": "EQ030-N15"
         },
         {
          "nugget": "clinical trial",
          "nugget_id": "EQ030-N14"
         },
         {
          "nugget": "GS-441524",
          "nugget_id": "EQ030-N13"
         },
         {
          "nugget": "monophosphoramidate",
          "nugget_id": "EQ030-N12"
         },
         {
          "nugget": "mRNA RdRp",
          "nugget_id": "EQ030-N11"
         },
         {
          "nugget": "disease progression",
          "nugget_id": "EQ030-N10"
         },
         {
          "nugget": "inhibits viral replication",
          "nugget_id": "EQ030-N09"
         },
         {
          "nugget": "preclinical",
          "nugget_id": "EQ030-N08"
         },
         {
          "nugget": "nucleotide analog prodrug",
          "nugget_id": "EQ030-N07"
         },
         {
          "nugget": "approved",
          "nugget_id": "EQ030-N06"
         },
         {
          "nugget": "investigational",
          "nugget_id": "EQ030-N05"
         },
         {
          "nugget": "efficacy",
          "nugget_id": "EQ030-N04"
         },
         {
          "nugget": "reduce virulence",
          "nugget_id": "EQ030-N03"
         },
         {
          "nugget": "treatment outcome",
          "nugget_id": "EQ030-N02"
         },
         {
          "nugget": "antiviral",
          "nugget_id": "EQ030-N01"
         },
         {
          "nugget": "remdesivir",
          "nugget_id": "EQ030-N00"
         }
        ],
        "question_id": "EQ030"
       },
       {
        "annotations": [
         {
          "nugget_ids": [
           "CQ030-N00"
          ],
          "sentence_id": "03a2996a20de14c20f2aebe3e15f6cefc7275822-C014-S000"
         },
         {
          "nugget_ids": [
           "CQ030-N00"
          ],
          "sentence_id": "26d1f032121b2d58b84da79ed23f3f2a9afb6c0b-C004-S002"
         },
         {
          "nugget_ids": [
           "CQ030-N02"
          ],
          "sentence_id": "2df2dc3d8b76620f4ec17069986e7b182f59072d-C018-S002"
         },
         {
          "nugget_ids": [
           "CQ030-N02"
          ],
          "sentence_id": "2df2dc3d8b76620f4ec17069986e7b182f59072d-C018-S011"
         },
         {
          "nugget_ids": [
           "CQ030-N00"
          ],
          "sentence_id": "2df2dc3d8b76620f4ec17069986e7b182f59072d-C009-S002"
         },
         {
          "nugget_ids": [
           "CQ030-N00"
          ],
          "sentence_id": "2df2dc3d8b76620f4ec17069986e7b182f59072d-C009-S003"
         },
         {
          "nugget_ids": [
           "CQ030-N02"
          ],
          "sentence_id": "2df2dc3d8b76620f4ec17069986e7b182f59072d-C009-S005"
         },
         {
          "nugget_ids": [
           "CQ030-N02"
          ],
          "sentence_id": "2df2dc3d8b76620f4ec17069986e7b182f59072d-C005-S009"
         },
         {
          "nugget_ids": [
           "CQ030-N00"
          ],
          "sentence_id": "2df2dc3d8b76620f4ec17069986e7b182f59072d-C022-S006"
         },
         {
          "nugget_ids": [
           "CQ030-N00"
          ],
          "sentence_id": "2df2dc3d8b76620f4ec17069986e7b182f59072d-C022-S007"
         },
         {
          "nugget_ids": [
           "CQ030-N02"
          ],
          "sentence_id": "2df2dc3d8b76620f4ec17069986e7b182f59072d-C022-S009"
         },
         {
          "nugget_ids": [
           "CQ030-N02"
          ],
          "sentence_id": "3c1fcdf12bf53c47f76b573dd52d440fe1a7a8aa-C015-S000"
         },
         {
          "nugget_ids": [
           "CQ030-N02"
          ],
          "sentence_id": "3c1fcdf12bf53c47f76b573dd52d440fe1a7a8aa-C015-S001"
         },
         {
          "nugget_ids": [
           "CQ030-N00"
          ],
          "sentence_id": "3c1fcdf12bf53c47f76b573dd52d440fe1a7a8aa-C015-S002"
         },
         {
          "nugget_ids": [
           "CQ030-N01",
           "CQ030-N02",
           "CQ030-N00"
          ],
          "sentence_id": "da4b78ce412fbc1076a0a9768817df33b977cec4-C009-S001"
         },
         {
          "nugget_ids": [
           "CQ030-N01"
          ],
          "sentence_id": "da4b78ce412fbc1076a0a9768817df33b977cec4-C009-S002"
         },
         {
          "nugget_ids": [
           "CQ030-N02"
          ],
          "sentence_id": "da4b78ce412fbc1076a0a9768817df33b977cec4-C009-S003"
         },
         {
          "nugget_ids": [
           "CQ030-N02",
           "CQ030-N00"
          ],
          "sentence_id": "f3da0670aab53b2c0c479241acbdd5dfad116c00-C003-S000"
         },
         {
          "nugget_ids": [
           "CQ030-N01",
           "CQ030-N00"
          ],
          "sentence_id": "f3da0670aab53b2c0c479241acbdd5dfad116c00-C001-S000"
         },
         {
          "nugget_ids": [
           "CQ030-N01"
          ],
          "sentence_id": "f3da0670aab53b2c0c479241acbdd5dfad116c00-C001-S001"
         },
         {
          "nugget_ids": [
           "CQ030-N01"
          ],
          "sentence_id": "f3da0670aab53b2c0c479241acbdd5dfad116c00-C001-S002"
         }
        ],
        "nuggets": [
         {
          "nugget": "investigational",
          "nugget_id": "CQ030-N02"
         },
         {
          "nugget": "remdesivir",
          "nugget_id": "CQ030-N01"
         },
         {
          "nugget": "antiviral",
          "nugget_id": "CQ030-N00"
         }
        ],
        "question_id": "CQ030"
       },
       {
        "annotations": [
         {
          "nugget_ids": [
           "EQ034-N02",
           "EQ034-N06",
           "EQ034-N03"
          ],
          "sentence_id": "0cq5ee1i-C000-S006"
         },
         {
          "nugget_ids": [
           "EQ034-N04",
           "EQ034-N06"
          ],
          "sentence_id": "0cq5ee1i-C000-S007"
         },
         {
          "nugget_ids": [
           "EQ034-N02",
           "EQ034-N03"
          ],
          "sentence_id": "0cq5ee1i-C000-S004"
         },
         {
          "nugget_ids": [
           "EQ034-N00"
          ],
          "sentence_id": "mq9vjnro-C021-S008"
         },
         {
          "nugget_ids": [
           "EQ034-N04"
          ],
          "sentence_id": "l0ongbag-C016-S005"
         },
         {
          "nugget_ids": [
           "EQ034-N02",
           "EQ034-N04"
          ],
          "sentence_id": "l0ongbag-C016-S006"
         },
         {
          "nugget_ids": [
           "EQ034-N02",
           "EQ034-N00",
           "EQ034-N04"
          ],
          "sentence_id": "702z8mp5-C000-S002"
         },
         {
          "nugget_ids": [
           "EQ034-N06",
           "EQ034-N04"
          ],
          "sentence_id": "8p9d1c9k-C025-S001"
         },
         {
          "nugget_ids": [
           "EQ034-N06"
          ],
          "sentence_id": "8p9d1c9k-C025-S003"
         },
         {
          "nugget_ids": [
           "EQ034-N03",
           "EQ034-N02",
           "EQ034-N04"
          ],
          "sentence_id": "b999y89f-C000-S003"
         },
         {
          "nugget_ids": [
           "EQ034-N00",
           "EQ034-N06"
          ],
          "sentence_id": "bzc7luwj-C041-S001"
         },
         {
          "nugget_ids": [
           "EQ034-N06"
          ],
          "sentence_id": "bzc7luwj-C041-S002"
         },
         {
          "nugget_ids": [
           "EQ034-N00"
          ],
          "sentence_id": "cmde6yx9-C000-S005"
         },
         {
          "nugget_ids": [
           "EQ034-N04"
          ],
          "sentence_id": "ds12pmp1-C000-S006"
         },
         {
          "nugget_ids": [
           "EQ034-N00",
           "EQ034-N01",
           "EQ034-N05"
          ],
          "sentence_id": "mqv87096-C000-S000"
         },
         {
          "nugget_ids": [
           "EQ034-N02",
           "EQ034-N06",
           "EQ034-N03"
          ],
          "sentence_id": "stnva6pv-C028-S000"
         },
         {
          "nugget_ids": [
           "EQ034-N02"
          ],
          "sentence_id": "v666xzjj-C023-S000"
         },
         {
          "nugget_ids": [
           "EQ034-N02"
          ],
          "sentence_id": "v666xzjj-C023-S001"
         },
         {
          "nugget_ids": [
           "EQ034-N00"
          ],
          "sentence_id": "vjdwh19x-C002-S003"
         },
         {
          "nugget_ids": [
           "EQ034-N06"
          ],
          "sentence_id": "vjdwh19x-C015-S009"
         },
         {
          "nugget_ids": [
           "EQ034-N06"
          ],
          "sentence_id": "vjdwh19x-C015-S007"
         },
         {
          "nugget_ids": [
           "EQ034-N00"
          ],
          "sentence_id": "x7or932x-C001-S004"
         },
         {
          "nugget_ids": [
           "EQ034-N00",
           "EQ034-N01",
           "EQ034-N02",
           "EQ034-N06",
           "EQ034-N08"
          ],
          "sentence_id": "yudrouue-C000-S001"
         },
         {
          "nugget_ids": [
           "EQ034-N06"
          ],
          "sentence_id": "zs1qmfjy-C004-S000"
         },
         {
          "nugget_ids": [
           "EQ034-N06"
          ],
          "sentence_id": "zs1qmfjy-C004-S002"
         },
         {
          "nugget_ids": [
           "EQ034-N06"
          ],
          "sentence_id": "zs1qmfjy-C004-S003"
         },
         {
          "nugget_ids": [
           "EQ034-N06"
          ],
          "sentence_id": "zs1qmfjy-C004-S004"
         },
         {
          "nugget_ids": [
           "EQ034-N06"
          ],
          "sentence_id": "zs1qmfjy-C004-S005"
         }
        ],
        "nuggets": [
         {
          "nugget": "metabolic complications/disease",
          "nugget_id": "EQ034-N08"
         },
         {
          "nugget": "kidney pathology/disease",
          "nugget_id": "EQ034-N07"
         },
         {
          "nugget": "psychologic and psychiatric disorders",
          "nugget_id": "EQ034-N06"
         },
         {
          "nugget": "fatigue",
          "nugget_id": "EQ034-N05"
         },
         {
          "nugget": "cognition disorders",
          "nugget_id": "EQ034-N04"
         },
         {
          "nugget": "immunologic pathology/disease",
          "nugget_id": "EQ034-N03"
         },
         {
          "nugget": "brain and neurologic pathology/disease",
          "nugget_id": "EQ034-N02"
         },
         {
          "nugget": "heart pathology/disease",
          "nugget_id": "EQ034-N01"
         },
         {
          "nugget": "lung pathology/disease",
          "nugget_id": "EQ034-N00"
         }
        ],
        "question_id": "EQ034"
       },
       {
        "annotations": [
         {
          "nugget_ids": [
           "EQ037-N00"
          ],
          "sentence_id": "1ggrjy9b-C002-S003"
         },
         {
          "nugget_ids": [
           "EQ037-N01",
           "EQ037-N02",
           "EQ037-N03",
           "EQ037-N53"
          ],
          "sentence_id": "1ggrjy9b-C002-S004"
         },
         {
          "nugget_ids": [
           "EQ037-N03",
           "EQ037-N04",
           "EQ037-N02"
          ],
          "sentence_id": "1kzy7rts-C003-S000"
         },
         {
          "nugget_ids": [
           "EQ037-N05"
          ],
          "sentence_id": "24viekl7-C025-S002"
         },
         {
          "nugget_ids": [
           "EQ037-N06"
          ],
          "sentence_id": "24viekl7-C025-S004"
         },
         {
          "nugget_ids": [
           "EQ037-N07"
          ],
          "sentence_id": "2uwnamao-C003-S004"
         },
         {
          "nugget_ids": [
           "EQ037-N09"
          ],
          "sentence_id": "33nyo8r5-C003-S001"
         },
         {
          "nugget_ids": [
           "EQ037-N08"
          ],
          "sentence_id": "33nyo8r5-C003-S004"
         },
         {
          "nugget_ids": [
           "EQ037-N08"
          ],
          "sentence_id": "33nyo8r5-C003-S005"
         },
         {
          "nugget_ids": [
           "EQ037-N10"
          ],
          "sentence_id": "3h1o0oz3-C017-S000"
         },
         {
          "nugget_ids": [
           "EQ037-N00"
          ],
          "sentence_id": "3h1o0oz3-C017-S002"
         },
         {
          "nugget_ids": [
           "EQ037-N11"
          ],
          "sentence_id": "3h1o0oz3-C017-S005"
         },
         {
          "nugget_ids": [
           "EQ037-N12"
          ],
          "sentence_id": "3k5lmawz-C002-S007"
         },
         {
          "nugget_ids": [
           "EQ037-N13"
          ],
          "sentence_id": "3k5lmawz-C002-S008"
         },
         {
          "nugget_ids": [
           "EQ037-N15",
           "EQ037-N02"
          ],
          "sentence_id": "4ze0mfxp-C015-S000"
         },
         {
          "nugget_ids": [
           "EQ037-N14",
           "EQ037-N40"
          ],
          "sentence_id": "4ze0mfxp-C015-S001"
         },
         {
          "nugget_ids": [
           "EQ037-N22"
          ],
          "sentence_id": "50xzptr1-C000-S003"
         },
         {
          "nugget_ids": [
           "EQ037-N17"
          ],
          "sentence_id": "5h7qyn1g-C009-S002"
         },
         {
          "nugget_ids": [
           "EQ037-N19"
          ],
          "sentence_id": "5h7qyn1g-C009-S003"
         },
         {
          "nugget_ids": [
           "EQ037-N20",
           "EQ037-N39"
          ],
          "sentence_id": "5h7qyn1g-C009-S005"
         },
         {
          "nugget_ids": [
           "EQ037-N07"
          ],
          "sentence_id": "7i52vltp-C004-S006"
         },
         {
          "nugget_ids": [
           "EQ037-N21"
          ],
          "sentence_id": "8dc7andx-C009-S000"
         },
         {
          "nugget_ids": [
           "EQ037-N21"
          ],
          "sentence_id": "8dc7andx-C009-S002"
         },
         {
          "nugget_ids": [
           "EQ037-N21"
          ],
          "sentence_id": "8dc7andx-C009-S003"
         },
         {
          "nugget_ids": [
           "EQ037-N22"
          ],
          "sentence_id": "8dc7andx-C009-S007"
         },
         {
          "nugget_ids": [
           "EQ037-N22"
          ],
          "sentence_id": "8klkojpo-C000-S008"
         },
         {
          "nugget_ids": [
           "EQ037-N24"
          ],
          "sentence_id": "96ee2c1s-C000-S003"
         },
         {
          "nugget_ids": [
           "EQ037-N25"
          ],
          "sentence_id": "96ee2c1s-C000-S004"
         },
         {
          "nugget_ids": [
           "EQ037-N26"
          ],
          "sentence_id": "bcx51aci-C000-S005"
         },
         {
          "nugget_ids": [
           "EQ037-N26"
          ],
          "sentence_id": "bcx51aci-C000-S009"
         },
         {
          "nugget_ids": [
           "EQ037-N45"
          ],
          "sentence_id": "bcx51aci-C000-S001"
         },
         {
          "nugget_ids": [
           "EQ037-N27"
          ],
          "sentence_id": "bpcyee65-C010-S003"
         },
         {
          "nugget_ids": [
           "EQ037-N27"
          ],
          "sentence_id": "bpcyee65-C010-S004"
         },
         {
          "nugget_ids": [
           "EQ037-N28"
          ],
          "sentence_id": "bpcyee65-C010-S006"
         },
         {
          "nugget_ids": [
           "EQ037-N28"
          ],
          "sentence_id": "bpcyee65-C010-S005"
         },
         {
          "nugget_ids": [
           "EQ037-N29",
           "EQ037-N30"
          ],
          "sentence_id": "d5qzzvy3-C000-S000"
         },
         {
          "nugget_ids": [
           "EQ037-N31"
          ],
          "sentence_id": "ew2kjq5s-C000-S004"
         },
         {
          "nugget_ids": [
           "EQ037-N32"
          ],
          "sentence_id": "ew2kjq5s-C000-S005"
         },
         {
          "nugget_ids": [
           "EQ037-N33"
          ],
          "sentence_id": "ew2kjq5s-C000-S006"
         },
         {
          "nugget_ids": [
           "EQ037-N50"
          ],
          "sentence_id": "ew2kjq5s-C000-S007"
         },
         {
          "nugget_ids": [
           "EQ037-N51"
          ],
          "sentence_id": "ew2kjq5s-C000-S009"
         },
         {
          "nugget_ids": [
           "EQ037-N25"
          ],
          "sentence_id": "ew2kjq5s-C000-S010"
         },
         {
          "nugget_ids": [
           "EQ037-N37",
           "EQ037-N45"
          ],
          "sentence_id": "fw4pmaoc-C003-S005"
         },
         {
          "nugget_ids": [
           "EQ037-N37"
          ],
          "sentence_id": "fw4pmaoc-C003-S006"
         },
         {
          "nugget_ids": [
           "EQ037-N35"
          ],
          "sentence_id": "fw4pmaoc-C003-S000"
         },
         {
          "nugget_ids": [
           "EQ037-N17"
          ],
          "sentence_id": "fw4pmaoc-C003-S002"
         },
         {
          "nugget_ids": [
           "EQ037-N36"
          ],
          "sentence_id": "fw4pmaoc-C003-S004"
         },
         {
          "nugget_ids": [
           "EQ037-N52"
          ],
          "sentence_id": "gyr8k4j2-C000-S003"
         },
         {
          "nugget_ids": [
           "EQ037-N39"
          ],
          "sentence_id": "hgpfib1z-C000-S007"
         },
         {
          "nugget_ids": [
           "EQ037-N40",
           "EQ037-N41",
           "EQ037-N07",
           "EQ037-N22"
          ],
          "sentence_id": "i758v1vb-C001-S001"
         },
         {
          "nugget_ids": [
           "EQ037-N42",
           "EQ037-N43"
          ],
          "sentence_id": "i9zrojoo-C002-S005"
         },
         {
          "nugget_ids": [
           "EQ037-N44"
          ],
          "sentence_id": "i9zrojoo-C002-S006"
         },
         {
          "nugget_ids": [
           "EQ037-N01"
          ],
          "sentence_id": "o08tnpib-C000-S002"
         },
         {
          "nugget_ids": [
           "EQ037-N26"
          ],
          "sentence_id": "o08tnpib-C000-S006"
         },
         {
          "nugget_ids": [
           "EQ037-N26"
          ],
          "sentence_id": "o08tnpib-C000-S010"
         },
         {
          "nugget_ids": [
           "EQ037-N40"
          ],
          "sentence_id": "pn9nwl64-C000-S002"
         },
         {
          "nugget_ids": [
           "EQ037-N48"
          ],
          "sentence_id": "pn9nwl64-C010-S004"
         },
         {
          "nugget_ids": [
           "EQ037-N48"
          ],
          "sentence_id": "pn9nwl64-C010-S005"
         },
         {
          "nugget_ids": [
           "EQ037-N56"
          ],
          "sentence_id": "pn9nwl64-C016-S002"
         },
         {
          "nugget_ids": [
           "EQ037-N31"
          ],
          "sentence_id": "q3epwcib-C000-S003"
         },
         {
          "nugget_ids": [
           "EQ037-N32"
          ],
          "sentence_id": "q3epwcib-C000-S004"
         },
         {
          "nugget_ids": [
           "EQ037-N33"
          ],
          "sentence_id": "q3epwcib-C000-S005"
         },
         {
          "nugget_ids": [
           "EQ037-N34"
          ],
          "sentence_id": "q3epwcib-C000-S006"
         },
         {
          "nugget_ids": [
           "EQ037-N51"
          ],
          "sentence_id": "q3epwcib-C000-S008"
         },
         {
          "nugget_ids": [
           "EQ037-N25"
          ],
          "sentence_id": "q3epwcib-C000-S009"
         },
         {
          "nugget_ids": [
           "EQ037-N38"
          ],
          "sentence_id": "q8dl0gcc-C000-S002"
         },
         {
          "nugget_ids": [
           "EQ037-N53"
          ],
          "sentence_id": "qzbqxjdi-C000-S001"
         },
         {
          "nugget_ids": [
           "EQ037-N54"
          ],
          "sentence_id": "sz24szfh-C000-S006"
         },
         {
          "nugget_ids": [
           "EQ037-N46"
          ],
          "sentence_id": "vhb280gz-C012-S002"
         },
         {
          "nugget_ids": [
           "EQ037-N24"
          ],
          "sentence_id": "vhb280gz-C012-S003"
         },
         {
          "nugget_ids": [
           "EQ037-N55"
          ],
          "sentence_id": "vhb280gz-C012-S004"
         },
         {
          "nugget_ids": [
           "EQ037-N58"
          ],
          "sentence_id": "w5ytp1q7-C012-S001"
         },
         {
          "nugget_ids": [
           "EQ037-N59",
           "EQ037-N39",
           "EQ037-N41",
           "EQ037-N48"
          ],
          "sentence_id": "wim5q9a5-C000-S003"
         },
         {
          "nugget_ids": [
           "EQ037-N48"
          ],
          "sentence_id": "wim5q9a5-C000-S005"
         },
         {
          "nugget_ids": [
           "EQ037-N61",
           "EQ037-N39",
           "EQ037-N41"
          ],
          "sentence_id": "wim5q9a5-C000-S006"
         },
         {
          "nugget_ids": [
           "EQ037-N61",
           "EQ037-N39"
          ],
          "sentence_id": "wim5q9a5-C000-S007"
         },
         {
          "nugget_ids": [
           "EQ037-N62",
           "EQ037-N53",
           "EQ037-N39"
          ],
          "sentence_id": "wim5q9a5-C000-S008"
         },
         {
          "nugget_ids": [
           "EQ037-N22"
          ],
          "sentence_id": "wim5q9a5-C000-S009"
         },
         {
          "nugget_ids": [
           "EQ037-N15",
           "EQ037-N39",
           "EQ037-N41"
          ],
          "sentence_id": "wim5q9a5-C000-S012"
         },
         {
          "nugget_ids": [
           "EQ037-N02",
           "EQ037-N48",
           "EQ037-N61",
           "EQ037-N22"
          ],
          "sentence_id": "wim5q9a5-C000-S013"
         },
         {
          "nugget_ids": [
           "EQ037-N22"
          ],
          "sentence_id": "wim5q9a5-C000-S014"
         },
         {
          "nugget_ids": [
           "EQ037-N22"
          ],
          "sentence_id": "wim5q9a5-C000-S011"
         },
         {
          "nugget_ids": [
           "EQ037-N02",
           "EQ037-N59",
           "EQ037-N41",
           "EQ037-N48"
          ],
          "sentence_id": "wim5q9a5-C001-S002"
         },
         {
          "nugget_ids": [
           "EQ037-N60"
          ],
          "sentence_id": "wim5q9a5-C001-S003"
         },
         {
          "nugget_ids": [
           "EQ037-N48"
          ],
          "sentence_id": "wim5q9a5-C001-S004"
         },
         {
          "nugget_ids": [
           "EQ037-N61",
           "EQ037-N39",
           "EQ037-N41"
          ],
          "sentence_id": "wim5q9a5-C001-S005"
         },
         {
          "nugget_ids": [
           "EQ037-N61",
           "EQ037-N39"
          ],
          "sentence_id": "wim5q9a5-C001-S006"
         },
         {
          "nugget_ids": [
           "EQ037-N62",
           "EQ037-N53",
           "EQ037-N39",
           "EQ037-N02"
          ],
          "sentence_id": "wim5q9a5-C001-S007"
         },
         {
          "nugget_ids": [
           "EQ037-N22"
          ],
          "sentence_id": "wim5q9a5-C001-S008"
         }
        ],
        "nuggets": [
         {
          "nugget": "adaptive evolution",
          "nugget_id": "EQ037-N62"
         },
         {
          "nugget": "positive selection",
          "nugget_id": "EQ037-N61"
         },
         {
          "nugget": "S gene recombination",
          "nugget_id": "EQ037-N60"
         },
         {
          "nugget": "origin and proximity",
          "nugget_id": "EQ037-N59"
         },
         {
          "nugget": "Bat coronavirus (BM48-31, Hp-betacoronavirus)",
          "nugget_id": "EQ037-N58"
         },
         {
          "nugget": "BatCoV RaTG13 sequence",
          "nugget_id": "EQ037-N57"
         },
         {
          "nugget": "Sarbecovirus subgenus",
          "nugget_id": "EQ037-N56"
         },
         {
          "nugget": "emerging heterogeneity",
          "nugget_id": "EQ037-N55"
         },
         {
          "nugget": "sequence identity",
          "nugget_id": "EQ037-N54"
         },
         {
          "nugget": "bat origin",
          "nugget_id": "EQ037-N53"
         },
         {
          "nugget": "independent introductions",
          "nugget_id": "EQ037-N52"
         },
         {
          "nugget": "diversification of strains",
          "nugget_id": "EQ037-N51"
         },
         {
          "nugget": "mean rate of evolution",
          "nugget_id": "EQ037-N50"
         },
         {
          "nugget": "time of the most recent common ancestor",
          "nugget_id": "EQ037-N49"
         },
         {
          "nugget": "recombination",
          "nugget_id": "EQ037-N48"
         },
         {
          "nugget": "bat coronavirus RaTG13",
          "nugget_id": "EQ037-N47"
         },
         {
          "nugget": "Sarbecovirus",
          "nugget_id": "EQ037-N46"
         },
         {
          "nugget": "genome similarity",
          "nugget_id": "EQ037-N45"
         },
         {
          "nugget": "monophyletic subclade",
          "nugget_id": "EQ037-N44"
         },
         {
          "nugget": "S Clade",
          "nugget_id": "EQ037-N43"
         },
         {
          "nugget": "G clade",
          "nugget_id": "EQ037-N42"
         },
         {
          "nugget": "SARS-COV",
          "nugget_id": "EQ037-N41"
         },
         {
          "nugget": "BatCoV RaTG13",
          "nugget_id": "EQ037-N40"
         },
         {
          "nugget": "Bat-SL-CoV",
          "nugget_id": "EQ037-N39"
         },
         {
          "nugget": "independent  introductions",
          "nugget_id": "EQ037-N38"
         },
         {
          "nugget": "Bat/Yunnan/RaTG13",
          "nugget_id": "EQ037-N37"
         },
         {
          "nugget": "monophyletic group",
          "nugget_id": "EQ037-N36"
         },
         {
          "nugget": "evolutionary relationship",
          "nugget_id": "EQ037-N35"
         },
         {
          "nugget": "mean rate of evolution",
          "nugget_id": "EQ037-N34"
         },
         {
          "nugget": "time of the most recent common ancestor",
          "nugget_id": "EQ037-N33"
         },
         {
          "nugget": "genetic lineage",
          "nugget_id": "EQ037-N32"
         },
         {
          "nugget": "diversification",
          "nugget_id": "EQ037-N31"
         },
         {
          "nugget": "ancestral type",
          "nugget_id": "EQ037-N30"
         },
         {
          "nugget": "central variants",
          "nugget_id": "EQ037-N29"
         },
         {
          "nugget": "paraphyletic relation",
          "nugget_id": "EQ037-N28"
         },
         {
          "nugget": "monophyletic clade",
          "nugget_id": "EQ037-N27"
         },
         {
          "nugget": "relationship of isolates",
          "nugget_id": "EQ037-N26"
         },
         {
          "nugget": "evolutionary rate",
          "nugget_id": "EQ037-N25"
         },
         {
          "nugget": "phylogenetic clusters",
          "nugget_id": "EQ037-N24"
         },
         {
          "nugget": "genetic diversity",
          "nugget_id": "EQ037-N23"
         },
         {
          "nugget": "virus origin",
          "nugget_id": "EQ037-N22"
         },
         {
          "nugget": "infection paths",
          "nugget_id": "EQ037-N21"
         },
         {
          "nugget": "closest relatives",
          "nugget_id": "EQ037-N20"
         },
         {
          "nugget": "immediate ancestor",
          "nugget_id": "EQ037-N19"
         },
         {
          "nugget": "SARS-COV-2 clade",
          "nugget_id": "EQ037-N18"
         },
         {
          "nugget": "Betacoronavirus",
          "nugget_id": "EQ037-N17"
         },
         {
          "nugget": "evolutionary history",
          "nugget_id": "EQ037-N16"
         },
         {
          "nugget": "phylogenetic relationship",
          "nugget_id": "EQ037-N15"
         },
         {
          "nugget": "AA changes",
          "nugget_id": "EQ037-N14"
         },
         {
          "nugget": "long-distance dispersal",
          "nugget_id": "EQ037-N13"
         },
         {
          "nugget": "spatial phylogenetic structure",
          "nugget_id": "EQ037-N12"
         },
         {
          "nugget": "synonymous substitution",
          "nugget_id": "EQ037-N11"
         },
         {
          "nugget": "Clades",
          "nugget_id": "EQ037-N10"
         },
         {
          "nugget": "lineage-defining SNPs",
          "nugget_id": "EQ037-N09"
         },
         {
          "nugget": "homoplasies",
          "nugget_id": "EQ037-N08"
         },
         {
          "nugget": "similarity to SARS-COV",
          "nugget_id": "EQ037-N07"
         },
         {
          "nugget": "intra-and inter-clade variability",
          "nugget_id": "EQ037-N06"
         },
         {
          "nugget": "Clades",
          "nugget_id": "EQ037-N05"
         },
         {
          "nugget": "homology at genome level",
          "nugget_id": "EQ037-N04"
         },
         {
          "nugget": "sequence similarity",
          "nugget_id": "EQ037-N03"
         },
         {
          "nugget": "bat coronaviruses",
          "nugget_id": "EQ037-N02"
         },
         {
          "nugget": "RNA genome Sequence",
          "nugget_id": "EQ037-N01"
         },
         {
          "nugget": "lineage B betacoronaviruses",
          "nugget_id": "EQ037-N00"
         }
        ],
        "question_id": "EQ037"
       },
       {
        "annotations": [
         {
          "nugget_ids": [
           "EQ045-N17"
          ],
          "sentence_id": "01d8cqn4-C000-S000"
         },
         {
          "nugget_ids": [
           "EQ045-N00",
           "EQ045-N01",
           "EQ045-N02",
           "EQ045-N03",
           "EQ045-N04"
          ],
          "sentence_id": "01d8cqn4-C000-S002"
         },
         {
          "nugget_ids": [
           "EQ045-N00",
           "EQ045-N01",
           "EQ045-N02",
           "EQ045-N03",
           "EQ045-N04"
          ],
          "sentence_id": "01d8cqn4-C000-S003"
         },
         {
          "nugget_ids": [
           "EQ045-N17"
          ],
          "sentence_id": "01d8cqn4-C000-S004"
         },
         {
          "nugget_ids": [
           "EQ045-N17"
          ],
          "sentence_id": "01d8cqn4-C000-S005"
         },
         {
          "nugget_ids": [
           "EQ045-N17"
          ],
          "sentence_id": "uecdbanf-C015-S000"
         },
         {
          "nugget_ids": [
           "EQ045-N19"
          ],
          "sentence_id": "uecdbanf-C015-S001"
         },
         {
          "nugget_ids": [
           "EQ045-N05"
          ],
          "sentence_id": "uecdbanf-C015-S002"
         },
         {
          "nugget_ids": [
           "EQ045-N06",
           "EQ045-N02",
           "EQ045-N01",
           "EQ045-N00",
           "EQ045-N12"
          ],
          "sentence_id": "1vehveqk-C000-S001"
         },
         {
          "nugget_ids": [
           "EQ045-N17"
          ],
          "sentence_id": "1vehveqk-C000-S002"
         },
         {
          "nugget_ids": [
           "EQ045-N17"
          ],
          "sentence_id": "1vehveqk-C000-S004"
         },
         {
          "nugget_ids": [
           "EQ045-N17"
          ],
          "sentence_id": "26yvryhw-C004-S000"
         },
         {
          "nugget_ids": [
           "EQ045-N17"
          ],
          "sentence_id": "26yvryhw-C004-S001"
         },
         {
          "nugget_ids": [
           "EQ045-N07",
           "EQ045-N08",
           "EQ045-N16",
           "EQ045-N19",
           "EQ045-N17"
          ],
          "sentence_id": "26yvryhw-C004-S002"
         },
         {
          "nugget_ids": [
           "EQ045-N17"
          ],
          "sentence_id": "3qgknhmv-C030-S000"
         },
         {
          "nugget_ids": [
           "EQ045-N17",
           "EQ045-N00",
           "EQ045-N01"
          ],
          "sentence_id": "3qgknhmv-C030-S001"
         },
         {
          "nugget_ids": [
           "EQ045-N10"
          ],
          "sentence_id": "3qgknhmv-C030-S002"
         },
         {
          "nugget_ids": [
           "EQ045-N04"
          ],
          "sentence_id": "3qgknhmv-C030-S003"
         },
         {
          "nugget_ids": [
           "EQ045-N17"
          ],
          "sentence_id": "3qgknhmv-C030-S004"
         },
         {
          "nugget_ids": [
           "EQ045-N17"
          ],
          "sentence_id": "3unwyjdq-C000-S002"
         },
         {
          "nugget_ids": [
           "EQ045-N02"
          ],
          "sentence_id": "3unwyjdq-C000-S003"
         },
         {
          "nugget_ids": [
           "EQ045-N17"
          ],
          "sentence_id": "3unwyjdq-C000-S005"
         },
         {
          "nugget_ids": [
           "EQ045-N04"
          ],
          "sentence_id": "3unwyjdq-C000-S008"
         },
         {
          "nugget_ids": [
           "EQ045-N02",
           "EQ045-N01"
          ],
          "sentence_id": "3unwyjdq-C000-S009"
         },
         {
          "nugget_ids": [
           "EQ045-N04"
          ],
          "sentence_id": "3unwyjdq-C000-S010"
         },
         {
          "nugget_ids": [
           "EQ045-N04",
           "EQ045-N08"
          ],
          "sentence_id": "3unwyjdq-C000-S011"
         },
         {
          "nugget_ids": [
           "EQ045-N11"
          ],
          "sentence_id": "4cpuwrci-C000-S001"
         },
         {
          "nugget_ids": [
           "EQ045-N17"
          ],
          "sentence_id": "4cpuwrci-C000-S000"
         },
         {
          "nugget_ids": [
           "EQ045-N17"
          ],
          "sentence_id": "55mxgkmy-C003-S000"
         },
         {
          "nugget_ids": [
           "EQ045-N08"
          ],
          "sentence_id": "55mxgkmy-C001-S001"
         },
         {
          "nugget_ids": [
           "EQ045-N17"
          ],
          "sentence_id": "55mxgkmy-C001-S002"
         },
         {
          "nugget_ids": [
           "EQ045-N17"
          ],
          "sentence_id": "64zz84u7-C000-S000"
         },
         {
          "nugget_ids": [
           "EQ045-N17"
          ],
          "sentence_id": "64zz84u7-C000-S001"
         },
         {
          "nugget_ids": [
           "EQ045-N01",
           "EQ045-N02"
          ],
          "sentence_id": "64zz84u7-C000-S002"
         },
         {
          "nugget_ids": [
           "EQ045-N01",
           "EQ045-N02"
          ],
          "sentence_id": "64zz84u7-C000-S005"
         },
         {
          "nugget_ids": [
           "EQ045-N01",
           "EQ045-N02"
          ],
          "sentence_id": "64zz84u7-C000-S006"
         },
         {
          "nugget_ids": [
           "EQ045-N01",
           "EQ045-N02"
          ],
          "sentence_id": "64zz84u7-C000-S007"
         },
         {
          "nugget_ids": [
           "EQ045-N17"
          ],
          "sentence_id": "6pv0c1iu-C000-S000"
         },
         {
          "nugget_ids": [
           "EQ045-N17"
          ],
          "sentence_id": "6pv0c1iu-C000-S001"
         },
         {
          "nugget_ids": [
           "EQ045-N01",
           "EQ045-N02"
          ],
          "sentence_id": "6pv0c1iu-C000-S003"
         },
         {
          "nugget_ids": [
           "EQ045-N01",
           "EQ045-N02"
          ],
          "sentence_id": "6pv0c1iu-C000-S006"
         },
         {
          "nugget_ids": [
           "EQ045-N01",
           "EQ045-N02"
          ],
          "sentence_id": "6pv0c1iu-C000-S007"
         },
         {
          "nugget_ids": [
           "EQ045-N02",
           "EQ045-N01"
          ],
          "sentence_id": "6pv0c1iu-C000-S008"
         },
         {
          "nugget_ids": [
           "EQ045-N06",
           "EQ045-N02"
          ],
          "sentence_id": "78bpvtuf-C001-S002"
         },
         {
          "nugget_ids": [
           "EQ045-N17"
          ],
          "sentence_id": "78bpvtuf-C001-S003"
         },
         {
          "nugget_ids": [
           "EQ045-N01",
           "EQ045-N02"
          ],
          "sentence_id": "8lmqu90f-C024-S002"
         },
         {
          "nugget_ids": [
           "EQ045-N01"
          ],
          "sentence_id": "8lmqu90f-C024-S003"
         },
         {
          "nugget_ids": [
           "EQ045-N17"
          ],
          "sentence_id": "8lmqu90f-C024-S004"
         },
         {
          "nugget_ids": [
           "EQ045-N01"
          ],
          "sentence_id": "8lmqu90f-C024-S005"
         },
         {
          "nugget_ids": [
           "EQ045-N01"
          ],
          "sentence_id": "8lmqu90f-C024-S006"
         },
         {
          "nugget_ids": [
           "EQ045-N17"
          ],
          "sentence_id": "8lmqu90f-C024-S007"
         },
         {
          "nugget_ids": [
           "EQ045-N17"
          ],
          "sentence_id": "8lmqu90f-C024-S008"
         },
         {
          "nugget_ids": [
           "EQ045-N17"
          ],
          "sentence_id": "a4pms2ub-C022-S000"
         },
         {
          "nugget_ids": [
           "EQ045-N07",
           "EQ045-N02",
           "EQ045-N12",
           "EQ045-N06"
          ],
          "sentence_id": "a4pms2ub-C022-S001"
         },
         {
          "nugget_ids": [
           "EQ045-N05",
           "EQ045-N08",
           "EQ045-N01"
          ],
          "sentence_id": "a4pms2ub-C022-S002"
         },
         {
          "nugget_ids": [
           "EQ045-N04",
           "EQ045-N07",
           "EQ045-N03",
           "EQ045-N00"
          ],
          "sentence_id": "a4pms2ub-C022-S003"
         },
         {
          "nugget_ids": [
           "EQ045-N01",
           "EQ045-N02",
           "EQ045-N08"
          ],
          "sentence_id": "a4pms2ub-C022-S004"
         },
         {
          "nugget_ids": [
           "EQ045-N04"
          ],
          "sentence_id": "a4pms2ub-C022-S005"
         },
         {
          "nugget_ids": [
           "EQ045-N02"
          ],
          "sentence_id": "a4pms2ub-C022-S007"
         },
         {
          "nugget_ids": [
           "EQ045-N04"
          ],
          "sentence_id": "a4pms2ub-C022-S008"
         },
         {
          "nugget_ids": [
           "EQ045-N01",
           "EQ045-N02"
          ],
          "sentence_id": "omv50b7j-C007-S000"
         },
         {
          "nugget_ids": [
           "EQ045-N06",
           "EQ045-N04"
          ],
          "sentence_id": "c1o0i3et-C001-S002"
         },
         {
          "nugget_ids": [
           "EQ045-N17"
          ],
          "sentence_id": "c1o0i3et-C001-S003"
         },
         {
          "nugget_ids": [
           "EQ045-N07",
           "EQ045-N02"
          ],
          "sentence_id": "feqwdynl-C014-S002"
         },
         {
          "nugget_ids": [
           "EQ045-N17"
          ],
          "sentence_id": "ka7nvqcc-C000-S001"
         },
         {
          "nugget_ids": [
           "EQ045-N17"
          ],
          "sentence_id": "ka7nvqcc-C000-S004"
         },
         {
          "nugget_ids": [
           "EQ045-N17"
          ],
          "sentence_id": "ka7nvqcc-C000-S005"
         },
         {
          "nugget_ids": [
           "EQ045-N14",
           "EQ045-N19",
           "EQ045-N12",
           "EQ045-N06",
           "EQ045-N08",
           "EQ045-N05"
          ],
          "sentence_id": "ka7nvqcc-C000-S006"
         },
         {
          "nugget_ids": [
           "EQ045-N17"
          ],
          "sentence_id": "n2pw9uts-C000-S001"
         },
         {
          "nugget_ids": [
           "EQ045-N01",
           "EQ045-N02",
           "EQ045-N00"
          ],
          "sentence_id": "n2pw9uts-C000-S003"
         },
         {
          "nugget_ids": [
           "EQ045-N08"
          ],
          "sentence_id": "n2pw9uts-C000-S005"
         },
         {
          "nugget_ids": [
           "EQ045-N01",
           "EQ045-N02",
           "EQ045-N00"
          ],
          "sentence_id": "n2pw9uts-C000-S007"
         },
         {
          "nugget_ids": [
           "EQ045-N01",
           "EQ045-N02",
           "EQ045-N00"
          ],
          "sentence_id": "n2pw9uts-C000-S008"
         },
         {
          "nugget_ids": [
           "EQ045-N17"
          ],
          "sentence_id": "n2pw9uts-C000-S009"
         },
         {
          "nugget_ids": [
           "EQ045-N08",
           "EQ045-N01",
           "EQ045-N02",
           "EQ045-N00"
          ],
          "sentence_id": "n2pw9uts-C000-S010"
         },
         {
          "nugget_ids": [
           "EQ045-N17"
          ],
          "sentence_id": "n2pw9uts-C000-S011"
         },
         {
          "nugget_ids": [
           "EQ045-N15",
           "EQ045-N01",
           "EQ045-N10",
           "EQ045-N17",
           "EQ045-N14"
          ],
          "sentence_id": "u0ye6juk-C002-S000"
         },
         {
          "nugget_ids": [
           "EQ045-N17"
          ],
          "sentence_id": "u0ye6juk-C002-S001"
         },
         {
          "nugget_ids": [
           "EQ045-N17"
          ],
          "sentence_id": "u0ye6juk-C002-S002"
         },
         {
          "nugget_ids": [
           "EQ045-N17"
          ],
          "sentence_id": "u0ye6juk-C002-S003"
         },
         {
          "nugget_ids": [
           "EQ045-N15"
          ],
          "sentence_id": "u0ye6juk-C002-S004"
         },
         {
          "nugget_ids": [
           "EQ045-N17"
          ],
          "sentence_id": "u0ye6juk-C002-S005"
         },
         {
          "nugget_ids": [
           "EQ045-N17"
          ],
          "sentence_id": "omv50b7j-C001-S000"
         },
         {
          "nugget_ids": [
           "EQ045-N17"
          ],
          "sentence_id": "omv50b7j-C001-S001"
         },
         {
          "nugget_ids": [
           "EQ045-N17"
          ],
          "sentence_id": "omv50b7j-C001-S002"
         },
         {
          "nugget_ids": [
           "EQ045-N17"
          ],
          "sentence_id": "omv50b7j-C001-S003"
         },
         {
          "nugget_ids": [
           "EQ045-N02",
           "EQ045-N05"
          ],
          "sentence_id": "omv50b7j-C001-S005"
         },
         {
          "nugget_ids": [
           "EQ045-N01",
           "EQ045-N02",
           "EQ045-N00",
           "EQ045-N17"
          ],
          "sentence_id": "omv50b7j-C001-S004"
         },
         {
          "nugget_ids": [
           "EQ045-N17"
          ],
          "sentence_id": "omv50b7j-C001-S006"
         },
         {
          "nugget_ids": [
           "EQ045-N02",
           "EQ045-N05",
           "EQ045-N17"
          ],
          "sentence_id": "omv50b7j-C001-S007"
         },
         {
          "nugget_ids": [
           "EQ045-N17"
          ],
          "sentence_id": "oxctvf34-C001-S002"
         },
         {
          "nugget_ids": [
           "EQ045-N17",
           "EQ045-N05"
          ],
          "sentence_id": "oxctvf34-C001-S003"
         },
         {
          "nugget_ids": [
           "EQ045-N17"
          ],
          "sentence_id": "oxctvf34-C001-S004"
         },
         {
          "nugget_ids": [
           "EQ045-N17"
          ],
          "sentence_id": "oxctvf34-C001-S005"
         },
         {
          "nugget_ids": [
           "EQ045-N15"
          ],
          "sentence_id": "oxctvf34-C001-S006"
         },
         {
          "nugget_ids": [
           "EQ045-N17"
          ],
          "sentence_id": "pavnpgu8-C000-S000"
         },
         {
          "nugget_ids": [
           "EQ045-N03",
           "EQ045-N01",
           "EQ045-N00",
           "EQ045-N14"
          ],
          "sentence_id": "pavnpgu8-C000-S001"
         },
         {
          "nugget_ids": [
           "EQ045-N00",
           "EQ045-N01",
           "EQ045-N03"
          ],
          "sentence_id": "pavnpgu8-C000-S004"
         },
         {
          "nugget_ids": [
           "EQ045-N14"
          ],
          "sentence_id": "pavnpgu8-C000-S006"
         },
         {
          "nugget_ids": [
           "EQ045-N14"
          ],
          "sentence_id": "pavnpgu8-C000-S007"
         },
         {
          "nugget_ids": [
           "EQ045-N17"
          ],
          "sentence_id": "pavnpgu8-C000-S009"
         },
         {
          "nugget_ids": [
           "EQ045-N17"
          ],
          "sentence_id": "pavnpgu8-C000-S010"
         },
         {
          "nugget_ids": [
           "EQ045-N14"
          ],
          "sentence_id": "pavnpgu8-C000-S011"
         },
         {
          "nugget_ids": [
           "EQ045-N17"
          ],
          "sentence_id": "pavnpgu8-C000-S012"
         },
         {
          "nugget_ids": [
           "EQ045-N14"
          ],
          "sentence_id": "pavnpgu8-C000-S013"
         },
         {
          "nugget_ids": [
           "EQ045-N17",
           "EQ045-N16"
          ],
          "sentence_id": "r5cbuvcw-C014-S000"
         },
         {
          "nugget_ids": [
           "EQ045-N17",
           "EQ045-N14",
           "EQ045-N16",
           "EQ045-N02"
          ],
          "sentence_id": "r5cbuvcw-C014-S001"
         },
         {
          "nugget_ids": [
           "EQ045-N08"
          ],
          "sentence_id": "r5cbuvcw-C014-S002"
         },
         {
          "nugget_ids": [
           "EQ045-N16",
           "EQ045-N01",
           "EQ045-N02"
          ],
          "sentence_id": "r5cbuvcw-C014-S003"
         },
         {
          "nugget_ids": [
           "EQ045-N05"
          ],
          "sentence_id": "r5cbuvcw-C014-S004"
         },
         {
          "nugget_ids": [
           "EQ045-N17"
          ],
          "sentence_id": "r5cbuvcw-C014-S005"
         },
         {
          "nugget_ids": [
           "EQ045-N02",
           "EQ045-N07"
          ],
          "sentence_id": "r5cbuvcw-C014-S006"
         },
         {
          "nugget_ids": [
           "EQ045-N14"
          ],
          "sentence_id": "r5cbuvcw-C014-S008"
         },
         {
          "nugget_ids": [
           "EQ045-N07"
          ],
          "sentence_id": "rsn4ysmo-C004-S000"
         },
         {
          "nugget_ids": [
           "EQ045-N05",
           "EQ045-N08"
          ],
          "sentence_id": "rsn4ysmo-C004-S001"
         },
         {
          "nugget_ids": [
           "EQ045-N19"
          ],
          "sentence_id": "rsn4ysmo-C004-S002"
         },
         {
          "nugget_ids": [
           "EQ045-N02"
          ],
          "sentence_id": "rsn4ysmo-C004-S003"
         },
         {
          "nugget_ids": [
           "EQ045-N17"
          ],
          "sentence_id": "rw5604wt-C000-S003"
         },
         {
          "nugget_ids": [
           "EQ045-N04",
           "EQ045-N02",
           "EQ045-N07",
           "EQ045-N13",
           "EQ045-N01",
           "EQ045-N10"
          ],
          "sentence_id": "rw5604wt-C000-S004"
         },
         {
          "nugget_ids": [
           "EQ045-N17"
          ],
          "sentence_id": "s73hljz9-C000-S000"
         },
         {
          "nugget_ids": [
           "EQ045-N17"
          ],
          "sentence_id": "s73hljz9-C000-S002"
         },
         {
          "nugget_ids": [
           "EQ045-N17"
          ],
          "sentence_id": "s73hljz9-C000-S004"
         },
         {
          "nugget_ids": [
           "EQ045-N14"
          ],
          "sentence_id": "s73hljz9-C000-S006"
         },
         {
          "nugget_ids": [
           "EQ045-N04"
          ],
          "sentence_id": "s73hljz9-C000-S007"
         },
         {
          "nugget_ids": [
           "EQ045-N15",
           "EQ045-N04",
           "EQ045-N17"
          ],
          "sentence_id": "s73hljz9-C000-S008"
         },
         {
          "nugget_ids": [
           "EQ045-N15"
          ],
          "sentence_id": "tlc021js-C004-S000"
         },
         {
          "nugget_ids": [
           "EQ045-N15"
          ],
          "sentence_id": "tlc021js-C004-S003"
         },
         {
          "nugget_ids": [
           "EQ045-N15"
          ],
          "sentence_id": "tlc021js-C004-S004"
         },
         {
          "nugget_ids": [
           "EQ045-N17"
          ],
          "sentence_id": "tlc021js-C004-S008"
         },
         {
          "nugget_ids": [
           "EQ045-N15"
          ],
          "sentence_id": "tlc021js-C004-S011"
         },
         {
          "nugget_ids": [
           "EQ045-N04"
          ],
          "sentence_id": "tmk2c9eh-C016-S000"
         },
         {
          "nugget_ids": [
           "EQ045-N02",
           "EQ045-N01"
          ],
          "sentence_id": "tmk2c9eh-C016-S001"
         },
         {
          "nugget_ids": [
           "EQ045-N17"
          ],
          "sentence_id": "tmk2c9eh-C016-S002"
         },
         {
          "nugget_ids": [
           "EQ045-N17"
          ],
          "sentence_id": "tmk2c9eh-C016-S003"
         },
         {
          "nugget_ids": [
           "EQ045-N15"
          ],
          "sentence_id": "tvky6oz5-C000-S000"
         },
         {
          "nugget_ids": [
           "EQ045-N17"
          ],
          "sentence_id": "tvky6oz5-C000-S001"
         },
         {
          "nugget_ids": [
           "EQ045-N17"
          ],
          "sentence_id": "tvky6oz5-C000-S002"
         },
         {
          "nugget_ids": [
           "EQ045-N15"
          ],
          "sentence_id": "tvky6oz5-C000-S004"
         },
         {
          "nugget_ids": [
           "EQ045-N15"
          ],
          "sentence_id": "tvky6oz5-C000-S005"
         },
         {
          "nugget_ids": [
           "EQ045-N15"
          ],
          "sentence_id": "tvky6oz5-C000-S006"
         },
         {
          "nugget_ids": [
           "EQ045-N17"
          ],
          "sentence_id": "tvky6oz5-C000-S007"
         },
         {
          "nugget_ids": [
           "EQ045-N15"
          ],
          "sentence_id": "tvky6oz5-C000-S008"
         },
         {
          "nugget_ids": [
           "EQ045-N17"
          ],
          "sentence_id": "wgim93nm-C000-S000"
         },
         {
          "nugget_ids": [
           "EQ045-N17",
           "EQ045-N16",
           "EQ045-N19"
          ],
          "sentence_id": "wgim93nm-C000-S002"
         },
         {
          "nugget_ids": [
           "EQ045-N04"
          ],
          "sentence_id": "wgim93nm-C000-S005"
         },
         {
          "nugget_ids": [
           "EQ045-N18"
          ],
          "sentence_id": "wgim93nm-C000-S007"
         },
         {
          "nugget_ids": [
           "EQ045-N07",
           "EQ045-N02"
          ],
          "sentence_id": "wgim93nm-C000-S008"
         },
         {
          "nugget_ids": [
           "EQ045-N04"
          ],
          "sentence_id": "wgim93nm-C000-S010"
         },
         {
          "nugget_ids": [
           "EQ045-N08"
          ],
          "sentence_id": "wttom8eh-C004-S000"
         },
         {
          "nugget_ids": [
           "EQ045-N08"
          ],
          "sentence_id": "wttom8eh-C004-S001"
         },
         {
          "nugget_ids": [
           "EQ045-N17"
          ],
          "sentence_id": "wttom8eh-C004-S002"
         },
         {
          "nugget_ids": [
           "EQ045-N17"
          ],
          "sentence_id": "xk4ha91a-C001-S000"
         },
         {
          "nugget_ids": [
           "EQ045-N07",
           "EQ045-N02",
           "EQ045-N18",
           "EQ045-N01",
           "EQ045-N06",
           "EQ045-N00",
           "EQ045-N10",
           "EQ045-N17",
           "EQ045-N09"
          ],
          "sentence_id": "xk4ha91a-C001-S001"
         },
         {
          "nugget_ids": [
           "EQ045-N04",
           "EQ045-N08",
           "EQ045-N15"
          ],
          "sentence_id": "xk4ha91a-C001-S002"
         },
         {
          "nugget_ids": [
           "EQ045-N17"
          ],
          "sentence_id": "y1bwv1tg-C000-S000"
         },
         {
          "nugget_ids": [
           "EQ045-N02"
          ],
          "sentence_id": "y1bwv1tg-C000-S001"
         },
         {
          "nugget_ids": [
           "EQ045-N02"
          ],
          "sentence_id": "y1bwv1tg-C000-S002"
         },
         {
          "nugget_ids": [
           "EQ045-N14",
           "EQ045-N18",
           "EQ045-N10"
          ],
          "sentence_id": "y1bwv1tg-C000-S003"
         },
         {
          "nugget_ids": [
           "EQ045-N02"
          ],
          "sentence_id": "y1bwv1tg-C000-S004"
         },
         {
          "nugget_ids": [
           "EQ045-N17"
          ],
          "sentence_id": "y2vgo55k-C044-S000"
         },
         {
          "nugget_ids": [
           "EQ045-N15",
           "EQ045-N17"
          ],
          "sentence_id": "y2vgo55k-C044-S002"
         },
         {
          "nugget_ids": [
           "EQ045-N15"
          ],
          "sentence_id": "y2vgo55k-C044-S003"
         },
         {
          "nugget_ids": [
           "EQ045-N08"
          ],
          "sentence_id": "y2vgo55k-C044-S004"
         },
         {
          "nugget_ids": [
           "EQ045-N15"
          ],
          "sentence_id": "y2vgo55k-C044-S005"
         },
         {
          "nugget_ids": [
           "EQ045-N17"
          ],
          "sentence_id": "y2vgo55k-C000-S001"
         },
         {
          "nugget_ids": [
           "EQ045-N15"
          ],
          "sentence_id": "y2vgo55k-C000-S002"
         },
         {
          "nugget_ids": [
           "EQ045-N17"
          ],
          "sentence_id": "y2vgo55k-C000-S004"
         },
         {
          "nugget_ids": [
           "EQ045-N10"
          ],
          "sentence_id": "y2vgo55k-C000-S006"
         },
         {
          "nugget_ids": [
           "EQ045-N17"
          ],
          "sentence_id": "y2vgo55k-C000-S008"
         },
         {
          "nugget_ids": [
           "EQ045-N00"
          ],
          "sentence_id": "y2vgo55k-C000-S009"
         },
         {
          "nugget_ids": [
           "EQ045-N17"
          ],
          "sentence_id": "y2vgo55k-C000-S010"
         },
         {
          "nugget_ids": [
           "EQ045-N10"
          ],
          "sentence_id": "y2vgo55k-C000-S012"
         },
         {
          "nugget_ids": [
           "EQ045-N15"
          ],
          "sentence_id": "y2vgo55k-C000-S013"
         },
         {
          "nugget_ids": [
           "EQ045-N15",
           "EQ045-N17"
          ],
          "sentence_id": "y2vgo55k-C000-S014"
         },
         {
          "nugget_ids": [
           "EQ045-N17"
          ],
          "sentence_id": "y2xn4jzy-C004-S000"
         },
         {
          "nugget_ids": [
           "EQ045-N05",
           "EQ045-N07",
           "EQ045-N19",
           "EQ045-N17"
          ],
          "sentence_id": "y2xn4jzy-C004-S001"
         },
         {
          "nugget_ids": [
           "EQ045-N17",
           "EQ045-N14",
           "EQ045-N04"
          ],
          "sentence_id": "y2xn4jzy-C004-S002"
         },
         {
          "nugget_ids": [
           "EQ045-N04",
           "EQ045-N02",
           "EQ045-N01",
           "EQ045-N18",
           "EQ045-N10"
          ],
          "sentence_id": "y2xn4jzy-C004-S003"
         },
         {
          "nugget_ids": [
           "EQ045-N15",
           "EQ045-N17"
          ],
          "sentence_id": "y2xn4jzy-C004-S004"
         },
         {
          "nugget_ids": [
           "EQ045-N04"
          ],
          "sentence_id": "y7yakmoc-C000-S001"
         },
         {
          "nugget_ids": [
           "EQ045-N17"
          ],
          "sentence_id": "y7yakmoc-C000-S002"
         },
         {
          "nugget_ids": [
           "EQ045-N14"
          ],
          "sentence_id": "y7yakmoc-C000-S003"
         },
         {
          "nugget_ids": [
           "EQ045-N00",
           "EQ045-N01",
           "EQ045-N02",
           "EQ045-N04"
          ],
          "sentence_id": "z5tuw5d0-C005-S000"
         },
         {
          "nugget_ids": [
           "EQ045-N00"
          ],
          "sentence_id": "z5tuw5d0-C005-S001"
         },
         {
          "nugget_ids": [
           "EQ045-N04"
          ],
          "sentence_id": "z5tuw5d0-C005-S002"
         },
         {
          "nugget_ids": [
           "EQ045-N02",
           "EQ045-N03",
           "EQ045-N20",
           "EQ045-N14"
          ],
          "sentence_id": "z5tuw5d0-C005-S004"
         },
         {
          "nugget_ids": [
           "EQ045-N04"
          ],
          "sentence_id": "z5tuw5d0-C005-S005"
         },
         {
          "nugget_ids": [
           "EQ045-N14"
          ],
          "sentence_id": "z5tuw5d0-C005-S007"
         },
         {
          "nugget_ids": [
           "EQ045-N17",
           "EQ045-N04",
           "EQ045-N08"
          ],
          "sentence_id": "z5tuw5d0-C005-S008"
         },
         {
          "nugget_ids": [
           "EQ045-N02",
           "EQ045-N01"
          ],
          "sentence_id": "z5tuw5d0-C005-S009"
         },
         {
          "nugget_ids": [
           "EQ045-N17"
          ],
          "sentence_id": "z5tuw5d0-C005-S010"
         }
        ],
        "nuggets": [
         {
          "nugget": "Interpersonal conflict",
          "nugget_id": "EQ045-N20"
         },
         {
          "nugget": "Lifestyle change",
          "nugget_id": "EQ045-N19"
         },
         {
          "nugget": "Hopelessness",
          "nugget_id": "EQ045-N18"
         },
         {
          "nugget": "Mental health disturbances",
          "nugget_id": "EQ045-N17"
         },
         {
          "nugget": "Lack of social support",
          "nugget_id": "EQ045-N16"
         },
         {
          "nugget": "Mental health services accessibility",
          "nugget_id": "EQ045-N15"
         },
         {
          "nugget": "Coping",
          "nugget_id": "EQ045-N14"
         },
         {
          "nugget": "Anger",
          "nugget_id": "EQ045-N13"
         },
         {
          "nugget": "Paranoia",
          "nugget_id": "EQ045-N12"
         },
         {
          "nugget": "Grief",
          "nugget_id": "EQ045-N11"
         },
         {
          "nugget": "Suicidal ideation",
          "nugget_id": "EQ045-N10"
         },
         {
          "nugget": "Somatic symptoms",
          "nugget_id": "EQ045-N09"
         },
         {
          "nugget": "Social isolation",
          "nugget_id": "EQ045-N08"
         },
         {
          "nugget": "Fear",
          "nugget_id": "EQ045-N07"
         },
         {
          "nugget": "Panic",
          "nugget_id": "EQ045-N06"
         },
         {
          "nugget": "Social distancing",
          "nugget_id": "EQ045-N05"
         },
         {
          "nugget": "Stress",
          "nugget_id": "EQ045-N04"
         },
         {
          "nugget": "Insomnia",
          "nugget_id": "EQ045-N03"
         },
         {
          "nugget": "Anxiety",
          "nugget_id": "EQ045-N02"
         },
         {
          "nugget": "Depression",
          "nugget_id": "EQ045-N01"
         },
         {
          "nugget": "Post-Traumatic Stress Disorder",
          "nugget_id": "EQ045-N00"
         }
        ],
        "question_id": "EQ045"
       },
       {
        "annotations": [
         {
          "nugget_ids": [
           "CQ045-N07"
          ],
          "sentence_id": "195451791fcb303c84492a7302c1012a61ee51fa-C000-S006"
         },
         {
          "nugget_ids": [
           "CQ045-N01"
          ],
          "sentence_id": "4bca29834882ae8cfbcbf309787338a9967cffb9-C029-S000"
         },
         {
          "nugget_ids": [
           "CQ045-N02"
          ],
          "sentence_id": "4bca29834882ae8cfbcbf309787338a9967cffb9-C029-S001"
         },
         {
          "nugget_ids": [
           "CQ045-N00"
          ],
          "sentence_id": "4bca29834882ae8cfbcbf309787338a9967cffb9-C005-S006"
         },
         {
          "nugget_ids": [
           "CQ045-N00",
           "CQ045-N01"
          ],
          "sentence_id": "4bca29834882ae8cfbcbf309787338a9967cffb9-C005-S007"
         },
         {
          "nugget_ids": [
           "CQ045-N02"
          ],
          "sentence_id": "4bca29834882ae8cfbcbf309787338a9967cffb9-C005-S008"
         },
         {
          "nugget_ids": [
           "CQ045-N03"
          ],
          "sentence_id": "6275d346fa8f420c2c006596878929f395911d54-C014-S001"
         },
         {
          "nugget_ids": [
           "CQ045-N03"
          ],
          "sentence_id": "81e4ca7fa492748e551dab6ee15275fc1238245c-C003-S000"
         },
         {
          "nugget_ids": [
           "CQ045-N04"
          ],
          "sentence_id": "95534418522ff422077fa28cb7dd5e824d6841a4-C002-S004"
         },
         {
          "nugget_ids": [
           "CQ045-N00"
          ],
          "sentence_id": "95534418522ff422077fa28cb7dd5e824d6841a4-C002-S003"
         },
         {
          "nugget_ids": [
           "CQ045-N04"
          ],
          "sentence_id": "95534418522ff422077fa28cb7dd5e824d6841a4-C002-S005"
         },
         {
          "nugget_ids": [
           "CQ045-N05",
           "CQ045-N00",
           "CQ045-N04"
          ],
          "sentence_id": "95534418522ff422077fa28cb7dd5e824d6841a4-C002-S006"
         },
         {
          "nugget_ids": [
           "CQ045-N00"
          ],
          "sentence_id": "95534418522ff422077fa28cb7dd5e824d6841a4-C002-S007"
         },
         {
          "nugget_ids": [
           "CQ045-N00",
           "CQ045-N05"
          ],
          "sentence_id": "95534418522ff422077fa28cb7dd5e824d6841a4-C002-S008"
         },
         {
          "nugget_ids": [
           "CQ045-N00",
           "CQ045-N05",
           "CQ045-N06"
          ],
          "sentence_id": "95534418522ff422077fa28cb7dd5e824d6841a4-C002-S009"
         },
         {
          "nugget_ids": [
           "CQ045-N00"
          ],
          "sentence_id": "95534418522ff422077fa28cb7dd5e824d6841a4-C002-S010"
         },
         {
          "nugget_ids": [
           "CQ045-N00"
          ],
          "sentence_id": "95534418522ff422077fa28cb7dd5e824d6841a4-C002-S011"
         },
         {
          "nugget_ids": [
           "CQ045-N00"
          ],
          "sentence_id": "95534418522ff422077fa28cb7dd5e824d6841a4-C002-S012"
         },
         {
          "nugget_ids": [
           "CQ045-N00"
          ],
          "sentence_id": "95534418522ff422077fa28cb7dd5e824d6841a4-C002-S013"
         },
         {
          "nugget_ids": [
           "CQ045-N02"
          ],
          "sentence_id": "95534418522ff422077fa28cb7dd5e824d6841a4-C002-S014"
         },
         {
          "nugget_ids": [
           "CQ045-N07"
          ],
          "sentence_id": "dbc468dcae4116713e8332babf25cdc14fb743b5-C003-S001"
         },
         {
          "nugget_ids": [
           "CQ045-N07"
          ],
          "sentence_id": "dbc468dcae4116713e8332babf25cdc14fb743b5-C003-S004"
         },
         {
          "nugget_ids": [
           "CQ045-N07",
           "CQ045-N02"
          ],
          "sentence_id": "dbc468dcae4116713e8332babf25cdc14fb743b5-C003-S005"
         }
        ],
        "nuggets": [
         {
          "nugget": "social distancing",
          "nugget_id": "CQ045-N07"
         },
         {
          "nugget": "anger",
          "nugget_id": "CQ045-N06"
         },
         {
          "nugget": "fear",
          "nugget_id": "CQ045-N05"
         },
         {
          "nugget": "worry",
          "nugget_id": "CQ045-N04"
         },
         {
          "nugget": "mental health services",
          "nugget_id": "CQ045-N03"
         },
         {
          "nugget": "coping",
          "nugget_id": "CQ045-N02"
         },
         {
          "nugget": "homelessness",
          "nugget_id": "CQ045-N01"
         },
         {
          "nugget": "social stigma",
          "nugget_id": "CQ045-N00"
         }
        ],
        "question_id": "CQ045"
       }
      ],
      "text/plain": [
       "<IPython.core.display.JSON object>"
      ]
     },
     "execution_count": 11,
     "metadata": {
      "application/json": {
       "expanded": false,
       "root": "root"
      }
     },
     "output_type": "execute_result"
    }
   ],
   "source": [
    "JSON(j)"
   ]
  },
  {
   "cell_type": "code",
   "execution_count": null,
   "id": "7e04af25-3658-4d92-a7b5-327a9802caa4",
   "metadata": {},
   "outputs": [],
   "source": []
  }
 ],
 "metadata": {
  "kernelspec": {
   "display_name": "Python 3",
   "language": "python",
   "name": "python3"
  },
  "language_info": {
   "codemirror_mode": {
    "name": "ipython",
    "version": 3
   },
   "file_extension": ".py",
   "mimetype": "text/x-python",
   "name": "python",
   "nbconvert_exporter": "python",
   "pygments_lexer": "ipython3",
   "version": "3.8.8"
  }
 },
 "nbformat": 4,
 "nbformat_minor": 5
}
