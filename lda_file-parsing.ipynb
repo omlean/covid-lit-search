{
 "cells": [
  {
   "cell_type": "code",
   "execution_count": 1,
   "id": "08d37dd8-1810-4e9e-a44d-a692175f8455",
   "metadata": {},
   "outputs": [],
   "source": [
    "# import libraries\n",
    "import pandas as pd\n",
    "import numpy as np\n",
    "import json\n",
    "import nltk\n",
    "import re\n",
    "import string\n",
    "import os\n",
    "from tqdm import tqdm\n",
    "from nltk.stem import PorterStemmer\n",
    "from nltk.tokenize import word_tokenize\n",
    "from nltk.corpus import stopwords\n",
    "from nltk.stem import WordNetLemmatizer\n",
    "from IPython.display import JSON\n",
    "\n",
    "from sklearn.feature_extraction.text import TfidfVectorizer\n",
    "\n",
    "# import own functions\n",
    "import preprocessing\n",
    "import data_access"
   ]
  },
  {
   "cell_type": "code",
   "execution_count": 2,
   "id": "2f71f5a0-2ab4-48c5-a616-cafcb7e6d536",
   "metadata": {},
   "outputs": [],
   "source": [
    "# filepath = 'data/cord-19/metadata.csv'\n",
    "# df = preprocessing.clean_metadata_for_lda(filepath)"
   ]
  },
  {
   "cell_type": "code",
   "execution_count": 3,
   "id": "aac607f6-a3e8-49c9-a342-e1c40d2e3728",
   "metadata": {},
   "outputs": [],
   "source": [
    "# df.to_csv('data/processed/metadata_clean_lda.csv', sep='\\t')"
   ]
  },
  {
   "cell_type": "code",
   "execution_count": 4,
   "id": "e54fb357-286b-4b62-9ce3-ca1022e85c1b",
   "metadata": {},
   "outputs": [],
   "source": [
    "df = preprocessing.load_cleaned_metadata('data/processed/metadata_clean_lda.csv')"
   ]
  },
  {
   "cell_type": "code",
   "execution_count": 5,
   "id": "a0c2ac42-cf63-428e-9b53-dcf507f22c67",
   "metadata": {},
   "outputs": [],
   "source": [
    "df['pdf_json_files'] = df['pdf_json_files'].fillna('nan')\n",
    "df['pmc_json_files'] = df['pmc_json_files'].fillna('nan')"
   ]
  },
  {
   "cell_type": "code",
   "execution_count": 7,
   "id": "1555ccde-5f64-460e-ba22-120437d94c06",
   "metadata": {},
   "outputs": [
    {
     "name": "stderr",
     "output_type": "stream",
     "text": [
      "100%|██████████| 437966/437966 [19:26<00:00, 375.38it/s] \n"
     ]
    }
   ],
   "source": [
    "def first(s):\n",
    "    if \";\" in s:\n",
    "        s = s.split(';')[0].strip()\n",
    "    return s\n",
    "\n",
    "dest_directory = 'data/cord-19/body_text/lda_raw/'\n",
    "\n",
    "for i in tqdm(range(len(df))):\n",
    "    row = df.iloc[i]\n",
    "    \n",
    "    # get title and abstract\n",
    "    title_abstract = row.title + '\\n\\n' + row.abstract + '\\n\\n'\n",
    "\n",
    "    # get body text, if there's a file for it\n",
    "    if row.pdf_json_files != 'nan':\n",
    "        path = 'data/cord-19/' + first(row.pdf_json_files)\n",
    "        body = data_access.get_body_text_from_path(path)\n",
    "    elif row.pmc_json_files != 'nan':\n",
    "        path = 'data/cord-19/' + first(row.pmc_json_files)\n",
    "        body = data_access.get_body_text_from_path(path)\n",
    "    else:\n",
    "        body = ''\n",
    "    \n",
    "    # write text to file\n",
    "    uid = row.cord_uid\n",
    "    dest_path = dest_directory + uid + '.txt'\n",
    "    with open(dest_path, 'w') as file:\n",
    "        file.write(title_abstract)\n",
    "        file.write(body)"
   ]
  },
  {
   "cell_type": "code",
   "execution_count": 8,
   "id": "b2ca11a1-388b-4ff4-90ec-7eb28b30f19d",
   "metadata": {},
   "outputs": [
    {
     "data": {
      "text/plain": [
       "437966"
      ]
     },
     "execution_count": 8,
     "metadata": {},
     "output_type": "execute_result"
    }
   ],
   "source": [
    "len(df)"
   ]
  },
  {
   "cell_type": "code",
   "execution_count": 9,
   "id": "9bc78c3c-3385-412d-a639-d95db927ffd0",
   "metadata": {},
   "outputs": [
    {
     "data": {
      "text/plain": [
       "437967"
      ]
     },
     "execution_count": 9,
     "metadata": {},
     "output_type": "execute_result"
    }
   ],
   "source": [
    "len(os.listdir('data/cord-19/body_text/lda_raw/'))"
   ]
  },
  {
   "cell_type": "code",
   "execution_count": null,
   "id": "e33038e3-dd13-449b-b018-219bc70a3305",
   "metadata": {},
   "outputs": [],
   "source": []
  }
 ],
 "metadata": {
  "kernelspec": {
   "display_name": "Python 3",
   "language": "python",
   "name": "python3"
  },
  "language_info": {
   "codemirror_mode": {
    "name": "ipython",
    "version": 3
   },
   "file_extension": ".py",
   "mimetype": "text/x-python",
   "name": "python",
   "nbconvert_exporter": "python",
   "pygments_lexer": "ipython3",
   "version": "3.8.8"
  }
 },
 "nbformat": 4,
 "nbformat_minor": 5
}
