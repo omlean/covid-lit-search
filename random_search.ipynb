{
 "cells": [
  {
   "cell_type": "markdown",
   "id": "c9f46663-5464-4dd3-bdc9-f34f06f2311f",
   "metadata": {},
   "source": [
    "## Random search\n",
    "A baseline search that returns papers picked at random from the corpus for each query."
   ]
  },
  {
   "cell_type": "code",
   "execution_count": 1,
   "id": "eb5e4ff8-cf3e-44ae-8371-232e0ae6becc",
   "metadata": {},
   "outputs": [],
   "source": [
    "import pandas as pd\n",
    "from tqdm import tqdm\n",
    "import tfidf_search"
   ]
  },
  {
   "cell_type": "code",
   "execution_count": 2,
   "id": "c245d304-dfc7-4a41-9f6b-54942206ec1f",
   "metadata": {},
   "outputs": [],
   "source": [
    "metadata = pd.read_csv('data/processed/04_jan21_full_table.csv', sep='\\t', low_memory=False)"
   ]
  },
  {
   "cell_type": "code",
   "execution_count": 3,
   "id": "482d96b1-be28-48c3-95b5-d9a5376a9458",
   "metadata": {},
   "outputs": [],
   "source": [
    "questions = pd.read_csv('data/processed/questions_expert.csv', sep='\\t', index_col=0)"
   ]
  },
  {
   "cell_type": "code",
   "execution_count": 4,
   "id": "d44fd2f2-417e-439d-bc65-93292695fe4b",
   "metadata": {},
   "outputs": [],
   "source": [
    "queries = questions.question.tolist()"
   ]
  },
  {
   "cell_type": "code",
   "execution_count": 5,
   "id": "65e982da-b7c5-43ff-b69e-890f9015b0d2",
   "metadata": {},
   "outputs": [
    {
     "data": {
      "text/plain": [
       "6473     27fq6p3r\n",
       "13830    l4c6yksh\n",
       "15823    axwfvzbd\n",
       "62145    7sogycvc\n",
       "12934    n9sb3x0m\n",
       "Name: cord_uid, dtype: object"
      ]
     },
     "execution_count": 5,
     "metadata": {},
     "output_type": "execute_result"
    }
   ],
   "source": [
    "metadata.cord_uid.sample(n=5)"
   ]
  },
  {
   "cell_type": "code",
   "execution_count": 6,
   "id": "69d5b478-1e46-41f6-ad29-30e1f7c15980",
   "metadata": {},
   "outputs": [
    {
     "name": "stdout",
     "output_type": "stream",
     "text": [
      "Search results saved to results/random_jan21/q0_search_record.txt\n",
      "Search results saved to results/random_jan21/q1_search_record.txt\n",
      "Search results saved to results/random_jan21/q2_search_record.txt\n",
      "Search results saved to results/random_jan21/q3_search_record.txt\n",
      "Search results saved to results/random_jan21/q4_search_record.txt\n",
      "Search results saved to results/random_jan21/q5_search_record.txt\n",
      "Search results saved to results/random_jan21/q6_search_record.txt\n",
      "Search results saved to results/random_jan21/q7_search_record.txt\n",
      "Search results saved to results/random_jan21/q8_search_record.txt\n",
      "Search results saved to results/random_jan21/q9_search_record.txt\n",
      "Search results saved to results/random_jan21/q10_search_record.txt\n",
      "Search results saved to results/random_jan21/q11_search_record.txt\n",
      "Search results saved to results/random_jan21/q12_search_record.txt\n",
      "Search results saved to results/random_jan21/q13_search_record.txt\n",
      "Search results saved to results/random_jan21/q14_search_record.txt\n",
      "Search results saved to results/random_jan21/q15_search_record.txt\n",
      "Search results saved to results/random_jan21/q16_search_record.txt\n",
      "Search results saved to results/random_jan21/q17_search_record.txt\n",
      "Search results saved to results/random_jan21/q18_search_record.txt\n",
      "Search results saved to results/random_jan21/q19_search_record.txt\n",
      "Search results saved to results/random_jan21/q20_search_record.txt\n",
      "Search results saved to results/random_jan21/q21_search_record.txt\n",
      "Search results saved to results/random_jan21/q22_search_record.txt\n",
      "Search results saved to results/random_jan21/q23_search_record.txt\n",
      "Search results saved to results/random_jan21/q24_search_record.txt\n",
      "Search results saved to results/random_jan21/q25_search_record.txt\n",
      "Search results saved to results/random_jan21/q26_search_record.txt\n",
      "Search results saved to results/random_jan21/q27_search_record.txt\n",
      "Search results saved to results/random_jan21/q28_search_record.txt\n",
      "Search results saved to results/random_jan21/q29_search_record.txt\n"
     ]
    }
   ],
   "source": [
    "n = 0\n",
    "for query in queries:\n",
    "    sample = metadata.cord_uid.sample(n=5).tolist()\n",
    "    tfidf_search.write_details(query=query, uids=sample, reference_df=metadata, record_file_prefix=f'q{n}', directory='results/random_jan21/')\n",
    "    n += 1"
   ]
  },
  {
   "cell_type": "code",
   "execution_count": null,
   "id": "8023e975-4160-40b5-a96a-858191c119b3",
   "metadata": {},
   "outputs": [],
   "source": []
  }
 ],
 "metadata": {
  "kernelspec": {
   "display_name": "Python 3",
   "language": "python",
   "name": "python3"
  },
  "language_info": {
   "codemirror_mode": {
    "name": "ipython",
    "version": 3
   },
   "file_extension": ".py",
   "mimetype": "text/x-python",
   "name": "python",
   "nbconvert_exporter": "python",
   "pygments_lexer": "ipython3",
   "version": "3.8.8"
  }
 },
 "nbformat": 4,
 "nbformat_minor": 5
}
