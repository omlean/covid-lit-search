{
 "cells": [
  {
   "cell_type": "markdown",
   "id": "77a7ef51-71a0-427e-aaef-0a92da2b08bd",
   "metadata": {},
   "source": [
    "### LDA Modeling for Cluster Visualisation"
   ]
  },
  {
   "cell_type": "code",
   "execution_count": 2,
   "id": "58151c1f-8ca6-4605-bd99-502e54dad288",
   "metadata": {},
   "outputs": [],
   "source": [
    "import pandas as pd\n",
    "import numpy as np\n",
    "import matplotlib.pyplot as plt\n",
    "\n",
    "import re\n",
    "import os\n",
    "from tqdm import tqdm\n",
    "\n",
    "# from nltk.stem import PorterStemmer\n",
    "# from nltk.tokenize import word_tokenize\n",
    "# from nltk.corpus import stopwords\n",
    "# from nltk.stem import WordNetLemmatizer\n",
    "\n",
    "from gensim.corpora.dictionary import Dictionary\n",
    "from gensim.models.ldamodel import LdaModel\n",
    "\n",
    "import pyLDAvis\n",
    "import pyLDAvis.gensim_models as gensimvis\n",
    "pyLDAvis.enable_notebook()\n",
    "\n",
    "from sklearn.decomposition import PCA\n",
    "from sklearn.cluster import KMeans\n",
    "\n",
    "from scipy.sparse import save_npz, load_npz\n",
    "\n",
    "from preprocessing import load_cleaned_metadata, clean_text_lda, get_clean_write\n",
    "from data_access import get_txt\n",
    "from my_lda import MyCorpus\n",
    "import my_lda"
   ]
  },
  {
   "cell_type": "code",
   "execution_count": 2,
   "id": "e52058ad-5d2b-4584-bd40-f14376ee97be",
   "metadata": {},
   "outputs": [],
   "source": [
    "# df = load_cleaned_metadata('data/processed/metadata_clean.csv.gz')\n",
    "# len(df)"
   ]
  },
  {
   "cell_type": "code",
   "execution_count": 3,
   "id": "39a49999-d585-47f9-bc8b-f2ef47cb98fb",
   "metadata": {},
   "outputs": [
    {
     "data": {
      "text/plain": [
       "53758"
      ]
     },
     "execution_count": 3,
     "metadata": {},
     "output_type": "execute_result"
    }
   ],
   "source": [
    "# df = pd.read_csv('results/final_models/metadata_2021.csv.gz', sep='\\t', compression='gzip')\n",
    "# df.date = pd.to_datetime(df.date)\n",
    "# len(df)"
   ]
  },
  {
   "cell_type": "markdown",
   "id": "eb237fa1-c3a6-4284-b02a-8c43663adeac",
   "metadata": {},
   "source": [
    "## Create corpus and dictionary"
   ]
  },
  {
   "cell_type": "markdown",
   "id": "deb90ab7-e900-4f22-bcc1-11ae864378f8",
   "metadata": {},
   "source": [
    "Required output:\n",
    "- topic profile of every document\n",
    "- visualisation of topics"
   ]
  },
  {
   "cell_type": "markdown",
   "id": "232cf635-0906-4d90-b69e-348dc00552b5",
   "metadata": {},
   "source": [
    "> \"[Gensim](https://radimrehurek.com/gensim/auto_examples/core/run_corpora_and_vector_spaces.html#corpus-streaming-tutorial) accepts any object that, when iterated over, successively yields documents.\""
   ]
  },
  {
   "cell_type": "code",
   "execution_count": 3,
   "id": "76485167-9c18-4b54-8c8a-bb537eb066be",
   "metadata": {},
   "outputs": [],
   "source": [
    "# list of full paths for documents to be accessed\n",
    "corpus_directory = 'results/final_models/lda_2021_corpus_clean/'\n",
    "# ids = df.cord_uid.tolist()\n",
    "doc_path_list = [corpus_directory + file for file in os.listdir(corpus_directory) if file.endswith('.txt')]\n",
    "# initiate corpus object\n",
    "save_directory = 'results/final_models/'\n",
    "dictionary = Dictionary.load(save_directory+'dictionary.dict')\n",
    "corpus = MyCorpus(doc_path_list, dictionary=dictionary)"
   ]
  },
  {
   "cell_type": "code",
   "execution_count": 5,
   "id": "93d04384-a063-43ca-880c-d85aca89d001",
   "metadata": {},
   "outputs": [
    {
     "name": "stdout",
     "output_type": "stream",
     "text": [
      "53758\n",
      "100000\n"
     ]
    }
   ],
   "source": [
    "print(len(corpus))\n",
    "print(len(corpus.dictionary))"
   ]
  },
  {
   "cell_type": "markdown",
   "id": "7f501b6d-3a84-426d-8165-5c14e889d35a",
   "metadata": {},
   "source": [
    "### Train model"
   ]
  },
  {
   "cell_type": "code",
   "execution_count": 5,
   "id": "be245d09-9f40-43cc-9522-a58069e104f9",
   "metadata": {},
   "outputs": [],
   "source": [
    "num_topics = 20\n",
    "alpha = 0.01\n",
    "eta = 0.01\n",
    "\n",
    "filename = f'lda_{num_topics}_{alpha}_{eta}'"
   ]
  },
  {
   "cell_type": "code",
   "execution_count": 7,
   "id": "1851e45a-3cce-434c-a282-a329a6bba314",
   "metadata": {},
   "outputs": [],
   "source": [
    "# model = LdaModel(corpus, num_topics=num_topics, id2word=corpus.id2word, alpha=alpha, eta=eta)"
   ]
  },
  {
   "cell_type": "code",
   "execution_count": 8,
   "id": "1abe7491-2d53-41cd-86a7-42175a7d0435",
   "metadata": {},
   "outputs": [],
   "source": [
    "# model.save(save_directory+filename+\"_model\")"
   ]
  },
  {
   "cell_type": "code",
   "execution_count": 6,
   "id": "7a195c8b-fe4f-4e43-8db1-3d6c1072e0b6",
   "metadata": {},
   "outputs": [],
   "source": [
    "model = LdaModel.load(save_directory+filename+\"_model\")"
   ]
  },
  {
   "cell_type": "markdown",
   "id": "8e699bd9-9af5-4c75-9bc7-28ed40480941",
   "metadata": {},
   "source": [
    "### Visualise"
   ]
  },
  {
   "cell_type": "code",
   "execution_count": 10,
   "id": "e45aeba1-5485-4de1-ab73-e4e82bf9c7c2",
   "metadata": {},
   "outputs": [],
   "source": [
    "# vis = gensimvis.prepare(model, corpus, corpus.dictionary, sort_topics=False)\n",
    "# pyLDAvis.save_html(vis, save_directory+filename+'_vis.html')"
   ]
  },
  {
   "cell_type": "code",
   "execution_count": 47,
   "id": "54b96fcc-3746-4dd3-b32e-9da824f1da45",
   "metadata": {},
   "outputs": [
    {
     "data": {
      "image/png": "[encoded data removed]",
      "text/plain": [
       "<Figure size 432x288 with 1 Axes>"
      ]
     },
     "metadata": {
      "needs_background": "light"
     },
     "output_type": "display_data"
    }
   ],
   "source": [
    "# check number of topics per document\n",
    "\n",
    "# my_lda.topics_per_doc(model, corpus)"
   ]
  },
  {
   "cell_type": "code",
   "execution_count": null,
   "id": "18ca4f0c-72df-4f3b-ad9e-ae72cba12b8c",
   "metadata": {},
   "outputs": [],
   "source": [
    "# list top words in topic\n",
    "def topic_words(topic_no, topn=30):\n",
    "    ids = model.get_topic_terms(topic_no, topn=50)\n",
    "    words = [corpus.id2word[i] for i, amt in ids]\n",
    "    return words\n",
    "\n",
    "topic_words(7)"
   ]
  },
  {
   "cell_type": "markdown",
   "id": "8d5e5aae-ca7e-4f03-8396-f528e43213f4",
   "metadata": {},
   "source": [
    "# Cluster documents"
   ]
  },
  {
   "cell_type": "markdown",
   "id": "297ef7dd-9528-4128-a392-247748eb723f",
   "metadata": {},
   "source": [
    "### Create document-topic matrix"
   ]
  },
  {
   "cell_type": "code",
   "execution_count": 7,
   "id": "169d30f6-ad56-477a-a589-5069398882d7",
   "metadata": {},
   "outputs": [
    {
     "name": "stderr",
     "output_type": "stream",
     "text": [
      "100%|██████████| 53758/53758 [05:34<00:00, 160.93it/s]\n"
     ]
    }
   ],
   "source": [
    "dtm = my_lda.doc_topic_matrix(corpus, model)"
   ]
  },
  {
   "cell_type": "markdown",
   "id": "9c493b7a-4b78-4aad-9f9b-a7ee2ece423f",
   "metadata": {},
   "source": [
    "### Run PCA"
   ]
  },
  {
   "cell_type": "code",
   "execution_count": 1,
   "id": "e2977ac6-616f-46d4-bac6-d3d5c22f6cb3",
   "metadata": {},
   "outputs": [
    {
     "ename": "NameError",
     "evalue": "name 'PCA' is not defined",
     "output_type": "error",
     "traceback": [
      "\u001b[0;31m---------------------------------------------------------------------------\u001b[0m",
      "\u001b[0;31mNameError\u001b[0m                                 Traceback (most recent call last)",
      "\u001b[0;32m<ipython-input-1-95ca07e6b2eb>\u001b[0m in \u001b[0;36m<module>\u001b[0;34m\u001b[0m\n\u001b[0;32m----> 1\u001b[0;31m \u001b[0mpca\u001b[0m \u001b[0;34m=\u001b[0m \u001b[0mPCA\u001b[0m\u001b[0;34m(\u001b[0m\u001b[0mn_components\u001b[0m\u001b[0;34m=\u001b[0m\u001b[0;36m2\u001b[0m\u001b[0;34m,\u001b[0m \u001b[0mrandom_state\u001b[0m\u001b[0;34m=\u001b[0m\u001b[0;36m458\u001b[0m\u001b[0;34m)\u001b[0m\u001b[0;34m.\u001b[0m\u001b[0mfit\u001b[0m\u001b[0;34m(\u001b[0m\u001b[0mdtm\u001b[0m\u001b[0;34m)\u001b[0m\u001b[0;34m\u001b[0m\u001b[0;34m\u001b[0m\u001b[0m\n\u001b[0m\u001b[1;32m      2\u001b[0m \u001b[0mdtm_pca\u001b[0m \u001b[0;34m=\u001b[0m \u001b[0mpca\u001b[0m\u001b[0;34m.\u001b[0m\u001b[0mtransform\u001b[0m\u001b[0;34m(\u001b[0m\u001b[0mdtm\u001b[0m\u001b[0;34m)\u001b[0m\u001b[0;34m\u001b[0m\u001b[0;34m\u001b[0m\u001b[0m\n",
      "\u001b[0;31mNameError\u001b[0m: name 'PCA' is not defined"
     ]
    }
   ],
   "source": [
    "pca = PCA(n_components=2, random_state=458).fit(dtm)\n",
    "dtm_pca = pca.transform(dtm)"
   ]
  },
  {
   "cell_type": "code",
   "execution_count": null,
   "id": "0d890700-19b1-4071-9049-be56a728255c",
   "metadata": {},
   "outputs": [],
   "source": [
    "dtm_pca.shape"
   ]
  },
  {
   "cell_type": "markdown",
   "id": "b46bab30-d5ab-4616-8f28-fc30e16d3efa",
   "metadata": {},
   "source": [
    "### Visualise"
   ]
  },
  {
   "cell_type": "code",
   "execution_count": null,
   "id": "d51d0c7b-eef5-4e51-aafe-4090bd990bb7",
   "metadata": {},
   "outputs": [],
   "source": [
    "fig, ax = plt.subplots(figsize=(10,10))\n",
    "sns.scatterplot(data=dtm_pca, x='PC1', y='PC2')"
   ]
  },
  {
   "cell_type": "code",
   "execution_count": null,
   "id": "07b31152-8f87-402d-8f52-95864818cc2c",
   "metadata": {},
   "outputs": [],
   "source": []
  }
 ],
 "metadata": {
  "kernelspec": {
   "display_name": "Python 3",
   "language": "python",
   "name": "python3"
  },
  "language_info": {
   "codemirror_mode": {
    "name": "ipython",
    "version": 3
   },
   "file_extension": ".py",
   "mimetype": "text/x-python",
   "name": "python",
   "nbconvert_exporter": "python",
   "pygments_lexer": "ipython3",
   "version": "3.8.8"
  }
 },
 "nbformat": 4,
 "nbformat_minor": 5
}
