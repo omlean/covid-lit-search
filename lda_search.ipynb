{
 "cells": [
  {
   "cell_type": "markdown",
   "id": "8d456b86-4d33-4d03-a2fe-3dbc38a73fc2",
   "metadata": {},
   "source": [
    "# LDA-based search engine\n",
    "Requirements: Trained topic model, id2word\n",
    "\n",
    "Method:\n",
    "- "
   ]
  },
  {
   "cell_type": "code",
   "execution_count": 1,
   "id": "c537d807-6c10-43f4-8aea-9b57354fa3c2",
   "metadata": {},
   "outputs": [],
   "source": [
    "import pandas as pd\n",
    "import numpy as np\n",
    "\n",
    "from tqdm import tqdm\n",
    "import re\n",
    "\n",
    "import scipy.sparse as sparse\n",
    "from scipy.spatial.distance import cosine\n",
    "\n",
    "from gensim.corpora.dictionary import Dictionary\n",
    "from gensim.models.ldamodel import LdaModel\n",
    "from gensim.matutils import cossim\n",
    "\n",
    "from preprocessing import load_cleaned_metadata, clean_text_lda\n",
    "from data_access import get_txt\n",
    "import my_lda"
   ]
  },
  {
   "cell_type": "markdown",
   "id": "455a686c-fa1c-4c95-b458-06a0e556461d",
   "metadata": {},
   "source": [
    "# First run on all questions"
   ]
  },
  {
   "cell_type": "code",
   "execution_count": 2,
   "id": "3850ecd0-cc84-497a-a0f5-98f6c3134c45",
   "metadata": {},
   "outputs": [],
   "source": [
    "filename = 'results/final_models/lda_2021_60_0-5'\n",
    "\n",
    "# load model\n",
    "model = LdaModel.load(filename)\n",
    "# load dictionary\n",
    "dictionary = Dictionary.load(filename+'.dict')\n",
    "\n",
    "# load metadata and corpus\n",
    "metadata = pd.read_csv('results/final_models/metadata_2021.csv.gz', sep='\\t')\n",
    "uids = metadata.cord_uid.tolist()\n",
    "doc_path_list = ['results/final_models/lda_2021_corpus_clean/' + uid + '_clean.txt' for uid in uids]\n",
    "\n",
    "corpus = my_lda.MyCorpus(doc_path_list, dictionary=dictionary)\n",
    "\n",
    "questions = pd.read_csv('data/processed/questions_expert.csv', sep='\\t', index_col=0)"
   ]
  },
  {
   "cell_type": "code",
   "execution_count": 4,
   "id": "598aeb28-134e-41e8-9fc8-3117891d3f3e",
   "metadata": {},
   "outputs": [],
   "source": [
    "# concatenate full background to questions\n",
    "def q_plus_bg(row):\n",
    "    return row.question + ' ' + row.background\n",
    "    \n",
    "questions['full_query'] = questions.apply(q_plus_bg, axis=1)\n",
    "queries = questions.full_query.tolist()"
   ]
  },
  {
   "cell_type": "code",
   "execution_count": null,
   "id": "d3c0e5e8-b287-4d78-9406-2efc2b10c442",
   "metadata": {},
   "outputs": [],
   "source": [
    "# Main question only"
   ]
  },
  {
   "cell_type": "code",
   "execution_count": 5,
   "id": "dba4dee3-34bd-42f7-bf5f-a1f35c375a96",
   "metadata": {},
   "outputs": [
    {
     "name": "stderr",
     "output_type": "stream",
     "text": [
      "100%|██████████| 53758/53758 [01:08<00:00, 788.27it/s] \n",
      "100%|██████████| 53758/53758 [01:09<00:00, 778.01it/s] \n",
      "100%|██████████| 53758/53758 [01:08<00:00, 785.83it/s] \n",
      "100%|██████████| 53758/53758 [01:05<00:00, 825.81it/s] \n",
      "100%|██████████| 53758/53758 [01:04<00:00, 828.75it/s] \n",
      "100%|██████████| 53758/53758 [01:04<00:00, 829.47it/s] \n",
      "100%|██████████| 53758/53758 [01:04<00:00, 837.00it/s] \n",
      "100%|██████████| 53758/53758 [01:04<00:00, 829.14it/s] \n",
      "100%|██████████| 53758/53758 [01:05<00:00, 816.60it/s] \n",
      "100%|██████████| 53758/53758 [01:07<00:00, 792.18it/s] \n",
      "100%|██████████| 53758/53758 [01:04<00:00, 829.56it/s] \n",
      "100%|██████████| 53758/53758 [01:04<00:00, 831.96it/s] \n",
      "100%|██████████| 53758/53758 [01:04<00:00, 836.71it/s] \n",
      "100%|██████████| 53758/53758 [01:01<00:00, 876.96it/s] \n",
      "100%|██████████| 53758/53758 [01:04<00:00, 835.34it/s] \n",
      "100%|██████████| 53758/53758 [01:04<00:00, 839.16it/s] \n",
      "100%|██████████| 53758/53758 [01:03<00:00, 841.73it/s] \n",
      "100%|██████████| 53758/53758 [01:03<00:00, 840.65it/s] \n",
      "100%|██████████| 53758/53758 [01:04<00:00, 829.90it/s] \n",
      "100%|██████████| 53758/53758 [01:06<00:00, 811.74it/s] \n",
      "100%|██████████| 53758/53758 [01:04<00:00, 837.63it/s] \n",
      "100%|██████████| 53758/53758 [01:04<00:00, 833.25it/s] \n",
      "100%|██████████| 53758/53758 [01:04<00:00, 832.98it/s] \n",
      "100%|██████████| 53758/53758 [01:04<00:00, 832.50it/s] \n",
      "100%|██████████| 53758/53758 [01:04<00:00, 831.29it/s] \n",
      "100%|██████████| 53758/53758 [01:04<00:00, 837.41it/s] \n",
      "100%|██████████| 53758/53758 [01:06<00:00, 805.26it/s] \n",
      "100%|██████████| 53758/53758 [01:05<00:00, 817.29it/s] \n",
      "100%|██████████| 53758/53758 [01:04<00:00, 829.57it/s] \n",
      "100%|██████████| 53758/53758 [01:04<00:00, 837.52it/s] \n"
     ]
    }
   ],
   "source": [
    "def write_results_to_file(query, df, dest_path):\n",
    "    with open(dest_path, 'w') as file:\n",
    "        file.write(query + '\\n\\n')\n",
    "        for i in range(len(df)):\n",
    "            row = df.iloc[i]\n",
    "            file.write(f\"Result #{i+1}: uid {row.cord_uid} \\n\")\n",
    "            file.write(row.title + '\\n')\n",
    "            file.write(f\"Abstract: \\n {row.abstract} \\n\\n\")\n",
    "\n",
    "directory = 'results/final_models/lda_2021_60_0-5_results/'\n",
    "\n",
    "for i in range(len(queries)):\n",
    "    query = queries[i]\n",
    "    results_df = my_lda.lda_search(query, model, corpus, dictionary, metadata)\n",
    "    dest_path = directory + f'q{i}'\n",
    "    write_results_to_file(query, results_df, dest_path)  \n"
   ]
  },
  {
   "cell_type": "markdown",
   "id": "0e40bde9-ccc6-4ff1-bd2d-838796465c73",
   "metadata": {},
   "source": [
    "### Troubleshoot"
   ]
  },
  {
   "cell_type": "code",
   "execution_count": 6,
   "id": "9c398a11-eb50-4c83-8425-288516d06bec",
   "metadata": {},
   "outputs": [],
   "source": [
    "def word_topics(word_id):\n",
    "    return(model.get_term_topics(word_id, minimum_probability=None))"
   ]
  },
  {
   "cell_type": "code",
   "execution_count": 7,
   "id": "8da76712-9eeb-4f07-9fc0-c680b31c6d3d",
   "metadata": {},
   "outputs": [],
   "source": [
    "def print_pred(query, corpus, model):\n",
    "    print(query, '\\n')\n",
    "    query = clean_text_lda(query)\n",
    "    print(query, '\\n')\n",
    "    q_vec = corpus.dictionary.doc2bow(query.split())\n",
    "    print(\"bow: \")\n",
    "    for i, n in q_vec:\n",
    "        print(corpus.id2word[i], n)\n",
    "    pred = model[q_vec]\n",
    "    pred.sort(key=lambda x: x[1])\n",
    "    pred = pred[::-1]\n",
    "    print(\"\\nTopic predictions: \")\n",
    "    print(pred, '\\n')\n",
    "    for word, _ in q_vec:\n",
    "        print(corpus.id2word[word], word_topics(word))"
   ]
  },
  {
   "cell_type": "code",
   "execution_count": 10,
   "id": "fb6e16c7-8742-443b-b344-31a90f73b99d",
   "metadata": {},
   "outputs": [
    {
     "name": "stdout",
     "output_type": "stream",
     "text": [
      "drive \n",
      "\n",
      "drive \n",
      "\n",
      "bow: \n",
      "drive 1\n",
      "\n",
      "Topic predictions: \n",
      "[(52, 0.019755345), (42, 0.018223174), (22, 0.017937066), (38, 0.01768029), (17, 0.017669143), (26, 0.017626299), (31, 0.017428488), (53, 0.017271085), (5, 0.01704785), (45, 0.016961437), (15, 0.016917594), (59, 0.016904617), (56, 0.016887777), (47, 0.01685835), (32, 0.016842607), (49, 0.016782738), (24, 0.016780162), (46, 0.016750552), (14, 0.016734596), (37, 0.016724542), (25, 0.016684154), (8, 0.016679836), (48, 0.016662132), (3, 0.016644744), (1, 0.016639555), (10, 0.016626328), (16, 0.016604705), (20, 0.016589323), (39, 0.016558817), (58, 0.016474724), (35, 0.016469829), (55, 0.016460542), (7, 0.016460022), (28, 0.016449103), (12, 0.016430587), (41, 0.016425142), (57, 0.01638569), (44, 0.016347349), (34, 0.016299497), (30, 0.016286893), (33, 0.016272632), (19, 0.016265301), (2, 0.016254703), (40, 0.016254677), (0, 0.01625255), (6, 0.016246272), (4, 0.016230641), (54, 0.016228804), (36, 0.016216127), (51, 0.016215706), (21, 0.016192004), (29, 0.016185788), (27, 0.016173197), (18, 0.01616793), (50, 0.016166847), (11, 0.01615975), (23, 0.016155701), (43, 0.01613966), (9, 0.01612953), (13, 0.016129522)] \n",
      "\n",
      "drive []\n"
     ]
    }
   ],
   "source": [
    "print_pred('drive', corpus, model)"
   ]
  },
  {
   "cell_type": "code",
   "execution_count": 9,
   "id": "a6f86a2b-775f-48ae-9aea-2617ad9e13d8",
   "metadata": {},
   "outputs": [
    {
     "name": "stdout",
     "output_type": "stream",
     "text": [
      "cancer 0.07067993\n",
      "genetic 0.024497882\n",
      "variants 0.022230443\n",
      "sequence 0.016090862\n",
      "mutations 0.014204685\n",
      "variant 0.013256889\n",
      "breast 0.011527257\n",
      "gene 0.009862625\n",
      "mutation 0.00887791\n",
      "genomic 0.008049104\n",
      "chemotherapy 0.0073077707\n",
      "genes 0.00728924\n",
      "survival 0.0072188056\n",
      "frequency 0.006905627\n",
      "genome 0.0066896803\n",
      "oncology 0.0058932453\n",
      "therapy 0.005628531\n",
      "genomes 0.0055097146\n",
      "cancers 0.0054290113\n",
      "tumor 0.0049717235\n",
      "lineage 0.004912226\n",
      "selection 0.0048118723\n",
      "populations 0.004806468\n",
      "lineages 0.0046470375\n",
      "allele 0.0044820653\n",
      "rare 0.0044328873\n",
      "stage 0.0040391567\n",
      "snps 0.0035212233\n",
      "aa 0.0035091995\n",
      "advance 0.0034786137\n",
      "susceptibility 0.003421268\n",
      "phenotypes 0.0033462818\n",
      "radiotherapy 0.0032536471\n",
      "supplementary 0.0031986327\n",
      "diversity 0.003135707\n",
      "genetics 0.0030174633\n",
      "genotype 0.0029587464\n",
      "phenotype 0.002940324\n",
      "uk 0.0028912742\n",
      "variation 0.002862136\n",
      "os 0.0027196992\n",
      "lung 0.0027124712\n",
      "colorectal 0.0027110993\n",
      "polymorphisms 0.002635743\n",
      "european 0.0026269658\n",
      "alleles 0.0026216907\n",
      "prostate 0.0026171284\n",
      "combination 0.002559289\n",
      "evolution 0.0025356277\n",
      "mr 0.0025207668\n"
     ]
    }
   ],
   "source": [
    "for i, n in model.get_topic_terms(45, topn=50):\n",
    "    print(model.id2word[i], n)"
   ]
  },
  {
   "cell_type": "code",
   "execution_count": 86,
   "id": "e494213b-b6ae-4e5d-8506-f4336cdc5ce6",
   "metadata": {},
   "outputs": [],
   "source": [
    "# corpus.dictionary.id2token"
   ]
  },
  {
   "cell_type": "code",
   "execution_count": 88,
   "id": "ec1ddab1-afe5-4d80-af49-09831c790bf4",
   "metadata": {},
   "outputs": [],
   "source": [
    "# model.id2word"
   ]
  },
  {
   "cell_type": "code",
   "execution_count": null,
   "id": "25e75f23-3de5-40f3-9d2d-5867d62e7335",
   "metadata": {},
   "outputs": [],
   "source": []
  }
 ],
 "metadata": {
  "kernelspec": {
   "display_name": "Python 3",
   "language": "python",
   "name": "python3"
  },
  "language_info": {
   "codemirror_mode": {
    "name": "ipython",
    "version": 3
   },
   "file_extension": ".py",
   "mimetype": "text/x-python",
   "name": "python",
   "nbconvert_exporter": "python",
   "pygments_lexer": "ipython3",
   "version": "3.8.8"
  }
 },
 "nbformat": 4,
 "nbformat_minor": 5
}
