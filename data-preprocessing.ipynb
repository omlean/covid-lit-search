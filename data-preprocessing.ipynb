{
 "cells": [
  {
   "cell_type": "code",
   "execution_count": 1,
   "id": "cd8f91cf-53d4-4ee3-9917-45cd775f53fd",
   "metadata": {},
   "outputs": [],
   "source": [
    "# import libraries\n",
    "import pandas as pd\n",
    "import numpy as np\n",
    "import json\n",
    "from IPython.display import JSON\n",
    "import nltk\n",
    "import re\n",
    "import string\n",
    "from tqdm import tqdm\n",
    "from nltk.stem import PorterStemmer\n",
    "from nltk.tokenize import word_tokenize\n",
    "from nltk.corpus import stopwords\n",
    "from nltk.stem import WordNetLemmatizer\n",
    "\n",
    "from langdetect import detect\n",
    "\n",
    "from sklearn.feature_extraction.text import TfidfVectorizer\n",
    "import pickle\n",
    "from scipy.sparse import save_npz, load_npz\n",
    "\n",
    "# import own functions\n",
    "import preprocessing"
   ]
  },
  {
   "cell_type": "markdown",
   "id": "57386a5a-d8da-4bb6-8cbe-5024c49ff7aa",
   "metadata": {},
   "source": [
    "### Parse json files containing questions from consumers and experts"
   ]
  },
  {
   "cell_type": "code",
   "execution_count": 2,
   "id": "e077dc64-0157-4a1b-82e5-e7b56493a974",
   "metadata": {},
   "outputs": [
    {
     "data": {
      "text/html": [
       "<div>\n",
       "<style scoped>\n",
       "    .dataframe tbody tr th:only-of-type {\n",
       "        vertical-align: middle;\n",
       "    }\n",
       "\n",
       "    .dataframe tbody tr th {\n",
       "        vertical-align: top;\n",
       "    }\n",
       "\n",
       "    .dataframe thead th {\n",
       "        text-align: right;\n",
       "    }\n",
       "</style>\n",
       "<table border=\"1\" class=\"dataframe\">\n",
       "  <thead>\n",
       "    <tr style=\"text-align: right;\">\n",
       "      <th></th>\n",
       "      <th>question_id</th>\n",
       "      <th>question</th>\n",
       "      <th>query</th>\n",
       "      <th>background</th>\n",
       "    </tr>\n",
       "  </thead>\n",
       "  <tbody>\n",
       "    <tr>\n",
       "      <th>0</th>\n",
       "      <td>CQ101</td>\n",
       "      <td>If the common cold is a type of coronavirus an...</td>\n",
       "      <td>coronavirus vaccine landscape</td>\n",
       "      <td>Looking for information on global efforts to s...</td>\n",
       "    </tr>\n",
       "    <tr>\n",
       "      <th>1</th>\n",
       "      <td>CQ102</td>\n",
       "      <td>Does adequate sleep prevent COVID-19?</td>\n",
       "      <td>Sleep prevent covid</td>\n",
       "      <td>Looking for any confirmation that better sleep...</td>\n",
       "    </tr>\n",
       "    <tr>\n",
       "      <th>2</th>\n",
       "      <td>CQ103</td>\n",
       "      <td>Can I go home when I have COVID-19 and pneumonia?</td>\n",
       "      <td>COVID-19 hospital discharge</td>\n",
       "      <td>looking for information on leaving hospital af...</td>\n",
       "    </tr>\n",
       "    <tr>\n",
       "      <th>3</th>\n",
       "      <td>CQ104</td>\n",
       "      <td>What endocrine complications are  linked to CO...</td>\n",
       "      <td>endocrine complications covid-19</td>\n",
       "      <td>Looking for information on damage to endocrine...</td>\n",
       "    </tr>\n",
       "    <tr>\n",
       "      <th>4</th>\n",
       "      <td>CQ105</td>\n",
       "      <td>How long do COVID-19 antibodies stay in your s...</td>\n",
       "      <td>COVID-19 immunity duration</td>\n",
       "      <td>Looking for information on how long a person w...</td>\n",
       "    </tr>\n",
       "  </tbody>\n",
       "</table>\n",
       "</div>"
      ],
      "text/plain": [
       "  question_id                                           question  \\\n",
       "0       CQ101  If the common cold is a type of coronavirus an...   \n",
       "1       CQ102              Does adequate sleep prevent COVID-19?   \n",
       "2       CQ103  Can I go home when I have COVID-19 and pneumonia?   \n",
       "3       CQ104  What endocrine complications are  linked to CO...   \n",
       "4       CQ105  How long do COVID-19 antibodies stay in your s...   \n",
       "\n",
       "                              query  \\\n",
       "0     coronavirus vaccine landscape   \n",
       "1               Sleep prevent covid   \n",
       "2       COVID-19 hospital discharge   \n",
       "3  endocrine complications covid-19   \n",
       "4        COVID-19 immunity duration   \n",
       "\n",
       "                                          background  \n",
       "0  Looking for information on global efforts to s...  \n",
       "1  Looking for any confirmation that better sleep...  \n",
       "2  looking for information on leaving hospital af...  \n",
       "3  Looking for information on damage to endocrine...  \n",
       "4  Looking for information on how long a person w...  "
      ]
     },
     "execution_count": 2,
     "metadata": {},
     "output_type": "execute_result"
    }
   ],
   "source": [
    "filepath = 'data/EPIC-QA/consumer_questions_primary.json'\n",
    "consumer_df = preprocessing.parse_questions(filepath)\n",
    "consumer_df.head()"
   ]
  },
  {
   "cell_type": "code",
   "execution_count": null,
   "id": "b648cdcd-cc18-4bb1-a4a8-281bedcc72f9",
   "metadata": {},
   "outputs": [],
   "source": [
    "# consumer_df.to_csv('data/processed/questions_consumer.csv', sep='\\t')"
   ]
  },
  {
   "cell_type": "code",
   "execution_count": null,
   "id": "b5678751-7f19-4505-add6-6abc6dfc1518",
   "metadata": {},
   "outputs": [],
   "source": [
    "# parse json files containing questions from consumers and experts\n",
    "filepath = 'data/EPIC-QA/expert_questions_primary.json'\n",
    "expert_df = preprocessing.parse_questions(filepath)\n",
    "expert_df.head()"
   ]
  },
  {
   "cell_type": "code",
   "execution_count": null,
   "id": "91824b39-aff8-4107-97cb-9a068528d1ae",
   "metadata": {},
   "outputs": [],
   "source": [
    "# expert_df.to_csv('data/processed/questions_expert.csv', sep='\\t')"
   ]
  },
  {
   "cell_type": "markdown",
   "id": "f109ccca-3fe2-486c-9d89-deac83f61d2d",
   "metadata": {},
   "source": [
    "### Load and clean metadata file"
   ]
  },
  {
   "cell_type": "code",
   "execution_count": 2,
   "id": "9dc9aa5f-a5ed-4a2a-9f6e-47368a79c949",
   "metadata": {},
   "outputs": [
    {
     "name": "stdout",
     "output_type": "stream",
     "text": [
      "CSV file loaded successfully\n",
      "Dropping duplicate uids\n"
     ]
    },
    {
     "name": "stderr",
     "output_type": "stream",
     "text": [
      "/mnt/c/Users/omlea/Documents/_training/Lighthouse/lh-final-project/covid-lit-search/preprocessing.py:39: SettingWithCopyWarning: \n",
      "A value is trying to be set on a copy of a slice from a DataFrame.\n",
      "Try using .loc[row_indexer,col_indexer] = value instead\n",
      "\n",
      "See the caveats in the documentation: https://pandas.pydata.org/pandas-docs/stable/user_guide/indexing.html#returning-a-view-versus-a-copy\n",
      "  duplicates_df['nans'] = duplicates_df.apply(lambda x: x.isnull().sum(), axis=1)\n",
      "  0%|          | 11/24167 [00:00<03:54, 103.22it/s]"
     ]
    },
    {
     "name": "stdout",
     "output_type": "stream",
     "text": [
      "Choosing rows to drop\n"
     ]
    },
    {
     "name": "stderr",
     "output_type": "stream",
     "text": [
      "100%|██████████| 24167/24167 [04:27<00:00, 90.20it/s] \n"
     ]
    },
    {
     "name": "stdout",
     "output_type": "stream",
     "text": [
      "Dropping duplicate sha ids\n"
     ]
    },
    {
     "name": "stderr",
     "output_type": "stream",
     "text": [
      " 50%|█████     | 9/18 [00:00<00:00, 85.06it/s]"
     ]
    },
    {
     "name": "stdout",
     "output_type": "stream",
     "text": [
      "Choosing rows to drop\n"
     ]
    },
    {
     "name": "stderr",
     "output_type": "stream",
     "text": [
      "100%|██████████| 18/18 [00:00<00:00, 74.38it/s]\n"
     ]
    },
    {
     "name": "stdout",
     "output_type": "stream",
     "text": [
      "Metadata cleaning complete\n"
     ]
    }
   ],
   "source": [
    "metadata = preprocessing.clean_metadata('data/cord-19/metadata.csv')"
   ]
  },
  {
   "cell_type": "code",
   "execution_count": 3,
   "id": "17e189e6-82d4-4db7-a9c3-8f23af180ffc",
   "metadata": {},
   "outputs": [],
   "source": [
    "# metadata.to_csv('data/processed/metadata_clean.csv', sep='\\t')"
   ]
  },
  {
   "cell_type": "markdown",
   "id": "e044227b-2d12-47b3-81e5-be166d0f8cb5",
   "metadata": {},
   "source": [
    "### Create cleaned title and abstract strings"
   ]
  },
  {
   "cell_type": "code",
   "execution_count": 4,
   "id": "069b1147-87ed-4a57-8f60-4cbe5bf37533",
   "metadata": {},
   "outputs": [],
   "source": [
    "metadata = preprocessing.load_cleaned_metadata('data/processed/metadata_clean.csv')"
   ]
  },
  {
   "cell_type": "code",
   "execution_count": 5,
   "id": "b3eb2c79-b5a2-41bc-8a0f-b702bbbd70ba",
   "metadata": {},
   "outputs": [
    {
     "name": "stderr",
     "output_type": "stream",
     "text": [
      "100%|██████████| 508052/508052 [39:31<00:00, 214.22it/s] \n"
     ]
    }
   ],
   "source": [
    "metadata['search_text'] = preprocessing.make_search_documents(metadata)"
   ]
  },
  {
   "cell_type": "code",
   "execution_count": 14,
   "id": "9fe1597f-68ef-4c46-814c-027ee71b25a8",
   "metadata": {},
   "outputs": [],
   "source": [
    "metadata['search_text_length'] = metadata.search_text.apply(lambda x: len(x.split(' ')))"
   ]
  },
  {
   "cell_type": "code",
   "execution_count": 16,
   "id": "c72d6eab-b952-46e2-9011-c1ed73719ad0",
   "metadata": {},
   "outputs": [],
   "source": [
    "# remove rows where search_text is less than six words\n",
    "metadata = metadata[metadata.search_text_length > 5]"
   ]
  },
  {
   "cell_type": "code",
   "execution_count": 19,
   "id": "6b2eea60-38a9-4402-9ec0-61baf5112c42",
   "metadata": {},
   "outputs": [],
   "source": [
    "# metadata.to_csv('data/processed/02_full_table.csv', sep='\\t')"
   ]
  },
  {
   "cell_type": "code",
   "execution_count": null,
   "id": "2b12becf-16b6-4b81-ac37-bbbf1d411afe",
   "metadata": {},
   "outputs": [],
   "source": []
  },
  {
   "cell_type": "code",
   "execution_count": 18,
   "id": "ea318580-b33f-47f3-9789-9be311eb9961",
   "metadata": {},
   "outputs": [
    {
     "name": "stderr",
     "output_type": "stream",
     "text": [
      "  1%|          | 2938/472361 [01:07<2:30:05, 52.13it/s]"
     ]
    }
   ],
   "source": [
    "# metadata['language'] = [detect(x) for x in tqdm(metadata.search_text.values)]"
   ]
  },
  {
   "cell_type": "code",
   "execution_count": 16,
   "id": "47e6f43a-c586-404f-99be-f2a358de9201",
   "metadata": {},
   "outputs": [],
   "source": [
    "# # remove non-english (redundant)\n",
    "\n",
    "# df = pd.read_csv('data/processed/02_full_table.csv', index_col=0)\n",
    "\n",
    "# langs = pd.read_csv('data/processed/languages.csv', index_col=0)['0']\n",
    "# df['language'] = langs\n",
    "# df = df[df.language == 'en'].drop(columns='language')\n",
    "\n",
    "# # remove remaining null rows\n",
    "# df.dropna(inplace=True)"
   ]
  },
  {
   "cell_type": "code",
   "execution_count": null,
   "id": "5c25d7c8-c06e-4981-9d75-3c3b80148ab2",
   "metadata": {},
   "outputs": [],
   "source": []
  }
 ],
 "metadata": {
  "kernelspec": {
   "display_name": "Python 3",
   "language": "python",
   "name": "python3"
  },
  "language_info": {
   "codemirror_mode": {
    "name": "ipython",
    "version": 3
   },
   "file_extension": ".py",
   "mimetype": "text/x-python",
   "name": "python",
   "nbconvert_exporter": "python",
   "pygments_lexer": "ipython3",
   "version": "3.9.4"
  }
 },
 "nbformat": 4,
 "nbformat_minor": 5
}
