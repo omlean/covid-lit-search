{
 "cells": [
  {
   "cell_type": "code",
   "execution_count": 1,
   "id": "cd8f91cf-53d4-4ee3-9917-45cd775f53fd",
   "metadata": {},
   "outputs": [],
   "source": [
    "import pandas as pd\n",
    "import json\n",
    "from IPython.display import JSON\n",
    "import preprocessing"
   ]
  },
  {
   "cell_type": "markdown",
   "id": "57386a5a-d8da-4bb6-8cbe-5024c49ff7aa",
   "metadata": {},
   "source": [
    "### Parse json files containing questions from consumers and experts"
   ]
  },
  {
   "cell_type": "code",
   "execution_count": 2,
   "id": "e077dc64-0157-4a1b-82e5-e7b56493a974",
   "metadata": {},
   "outputs": [
    {
     "data": {
      "text/html": [
       "<div>\n",
       "<style scoped>\n",
       "    .dataframe tbody tr th:only-of-type {\n",
       "        vertical-align: middle;\n",
       "    }\n",
       "\n",
       "    .dataframe tbody tr th {\n",
       "        vertical-align: top;\n",
       "    }\n",
       "\n",
       "    .dataframe thead th {\n",
       "        text-align: right;\n",
       "    }\n",
       "</style>\n",
       "<table border=\"1\" class=\"dataframe\">\n",
       "  <thead>\n",
       "    <tr style=\"text-align: right;\">\n",
       "      <th></th>\n",
       "      <th>question_id</th>\n",
       "      <th>question</th>\n",
       "      <th>query</th>\n",
       "      <th>background</th>\n",
       "    </tr>\n",
       "  </thead>\n",
       "  <tbody>\n",
       "    <tr>\n",
       "      <th>0</th>\n",
       "      <td>CQ101</td>\n",
       "      <td>If the common cold is a type of coronavirus an...</td>\n",
       "      <td>coronavirus vaccine landscape</td>\n",
       "      <td>Looking for information on global efforts to s...</td>\n",
       "    </tr>\n",
       "    <tr>\n",
       "      <th>1</th>\n",
       "      <td>CQ102</td>\n",
       "      <td>Does adequate sleep prevent COVID-19?</td>\n",
       "      <td>Sleep prevent covid</td>\n",
       "      <td>Looking for any confirmation that better sleep...</td>\n",
       "    </tr>\n",
       "    <tr>\n",
       "      <th>2</th>\n",
       "      <td>CQ103</td>\n",
       "      <td>Can I go home when I have COVID-19 and pneumonia?</td>\n",
       "      <td>COVID-19 hospital discharge</td>\n",
       "      <td>looking for information on leaving hospital af...</td>\n",
       "    </tr>\n",
       "    <tr>\n",
       "      <th>3</th>\n",
       "      <td>CQ104</td>\n",
       "      <td>What endocrine complications are  linked to CO...</td>\n",
       "      <td>endocrine complications covid-19</td>\n",
       "      <td>Looking for information on damage to endocrine...</td>\n",
       "    </tr>\n",
       "    <tr>\n",
       "      <th>4</th>\n",
       "      <td>CQ105</td>\n",
       "      <td>How long do COVID-19 antibodies stay in your s...</td>\n",
       "      <td>COVID-19 immunity duration</td>\n",
       "      <td>Looking for information on how long a person w...</td>\n",
       "    </tr>\n",
       "  </tbody>\n",
       "</table>\n",
       "</div>"
      ],
      "text/plain": [
       "  question_id                                           question  \\\n",
       "0       CQ101  If the common cold is a type of coronavirus an...   \n",
       "1       CQ102              Does adequate sleep prevent COVID-19?   \n",
       "2       CQ103  Can I go home when I have COVID-19 and pneumonia?   \n",
       "3       CQ104  What endocrine complications are  linked to CO...   \n",
       "4       CQ105  How long do COVID-19 antibodies stay in your s...   \n",
       "\n",
       "                              query  \\\n",
       "0     coronavirus vaccine landscape   \n",
       "1               Sleep prevent covid   \n",
       "2       COVID-19 hospital discharge   \n",
       "3  endocrine complications covid-19   \n",
       "4        COVID-19 immunity duration   \n",
       "\n",
       "                                          background  \n",
       "0  Looking for information on global efforts to s...  \n",
       "1  Looking for any confirmation that better sleep...  \n",
       "2  looking for information on leaving hospital af...  \n",
       "3  Looking for information on damage to endocrine...  \n",
       "4  Looking for information on how long a person w...  "
      ]
     },
     "execution_count": 2,
     "metadata": {},
     "output_type": "execute_result"
    }
   ],
   "source": [
    "filepath = 'data/EPIC-QA/consumer_questions_primary.json'\n",
    "consumer_df = preprocessing.parse_questions(filepath)\n",
    "consumer_df.head()"
   ]
  },
  {
   "cell_type": "code",
   "execution_count": 3,
   "id": "b648cdcd-cc18-4bb1-a4a8-281bedcc72f9",
   "metadata": {},
   "outputs": [],
   "source": [
    "# consumer_df.to_csv('data/processed/questions_consumer.csv', sep='\\t')"
   ]
  },
  {
   "cell_type": "code",
   "execution_count": 4,
   "id": "b5678751-7f19-4505-add6-6abc6dfc1518",
   "metadata": {},
   "outputs": [
    {
     "data": {
      "text/html": [
       "<div>\n",
       "<style scoped>\n",
       "    .dataframe tbody tr th:only-of-type {\n",
       "        vertical-align: middle;\n",
       "    }\n",
       "\n",
       "    .dataframe tbody tr th {\n",
       "        vertical-align: top;\n",
       "    }\n",
       "\n",
       "    .dataframe thead th {\n",
       "        text-align: right;\n",
       "    }\n",
       "</style>\n",
       "<table border=\"1\" class=\"dataframe\">\n",
       "  <thead>\n",
       "    <tr style=\"text-align: right;\">\n",
       "      <th></th>\n",
       "      <th>question_id</th>\n",
       "      <th>question</th>\n",
       "      <th>query</th>\n",
       "      <th>background</th>\n",
       "    </tr>\n",
       "  </thead>\n",
       "  <tbody>\n",
       "    <tr>\n",
       "      <th>0</th>\n",
       "      <td>EQ101</td>\n",
       "      <td>What features of SARS-CoV2 are targeted in vac...</td>\n",
       "      <td>coronavirus vaccine landscape</td>\n",
       "      <td>Seeking information on guiding principles for ...</td>\n",
       "    </tr>\n",
       "    <tr>\n",
       "      <th>1</th>\n",
       "      <td>EQ102</td>\n",
       "      <td>How do cytokine pathways link sleep and immuni...</td>\n",
       "      <td>Sleep prevent covid</td>\n",
       "      <td>Looking for information on bidirectional inter...</td>\n",
       "    </tr>\n",
       "    <tr>\n",
       "      <th>2</th>\n",
       "      <td>EQ103</td>\n",
       "      <td>When is it safe to discharge a COVID-19 patien...</td>\n",
       "      <td>COVID-19 hospital discharge</td>\n",
       "      <td>Looking for guidelines on discharging COVID-19...</td>\n",
       "    </tr>\n",
       "    <tr>\n",
       "      <th>3</th>\n",
       "      <td>EQ104</td>\n",
       "      <td>What endocrine complications are  linked to CO...</td>\n",
       "      <td>endocrine complications covid-19</td>\n",
       "      <td>Looking for studies investigating whether SARS...</td>\n",
       "    </tr>\n",
       "    <tr>\n",
       "      <th>4</th>\n",
       "      <td>EQ105</td>\n",
       "      <td>What is the duration of protection and immunit...</td>\n",
       "      <td>COVID-19 immunity duration</td>\n",
       "      <td>Looking for longitudinal serological studies t...</td>\n",
       "    </tr>\n",
       "  </tbody>\n",
       "</table>\n",
       "</div>"
      ],
      "text/plain": [
       "  question_id                                           question  \\\n",
       "0       EQ101  What features of SARS-CoV2 are targeted in vac...   \n",
       "1       EQ102  How do cytokine pathways link sleep and immuni...   \n",
       "2       EQ103  When is it safe to discharge a COVID-19 patien...   \n",
       "3       EQ104  What endocrine complications are  linked to CO...   \n",
       "4       EQ105  What is the duration of protection and immunit...   \n",
       "\n",
       "                              query  \\\n",
       "0     coronavirus vaccine landscape   \n",
       "1               Sleep prevent covid   \n",
       "2       COVID-19 hospital discharge   \n",
       "3  endocrine complications covid-19   \n",
       "4        COVID-19 immunity duration   \n",
       "\n",
       "                                          background  \n",
       "0  Seeking information on guiding principles for ...  \n",
       "1  Looking for information on bidirectional inter...  \n",
       "2  Looking for guidelines on discharging COVID-19...  \n",
       "3  Looking for studies investigating whether SARS...  \n",
       "4  Looking for longitudinal serological studies t...  "
      ]
     },
     "execution_count": 4,
     "metadata": {},
     "output_type": "execute_result"
    }
   ],
   "source": [
    "# parse json files containing questions from consumers and experts\n",
    "filepath = 'data/EPIC-QA/expert_questions_primary.json'\n",
    "expert_df = preprocessing.parse_questions(filepath)\n",
    "expert_df.head()"
   ]
  },
  {
   "cell_type": "code",
   "execution_count": 5,
   "id": "91824b39-aff8-4107-97cb-9a068528d1ae",
   "metadata": {},
   "outputs": [],
   "source": [
    "# expert_df.to_csv('data/processed/questions_expert.csv', sep='\\t')"
   ]
  },
  {
   "cell_type": "markdown",
   "id": "f109ccca-3fe2-486c-9d89-deac83f61d2d",
   "metadata": {},
   "source": [
    "### Extract titles and abstracts from metadata file"
   ]
  },
  {
   "cell_type": "code",
   "execution_count": 2,
   "id": "9dc9aa5f-a5ed-4a2a-9f6e-47368a79c949",
   "metadata": {},
   "outputs": [
    {
     "name": "stdout",
     "output_type": "stream",
     "text": [
      "CSV file loaded successfully\n",
      "Metadata cleaning complete\n"
     ]
    }
   ],
   "source": [
    "metadata = preprocessing.load_metadata('data/cord-19/metadata.csv')"
   ]
  },
  {
   "cell_type": "code",
   "execution_count": 4,
   "id": "069b1147-87ed-4a57-8f60-4cbe5bf37533",
   "metadata": {},
   "outputs": [],
   "source": [
    "# Create table of just cord_uid, title, and abstracts\n",
    "content = metadata[['cord_uid', 'title', 'abstract']]"
   ]
  },
  {
   "cell_type": "code",
   "execution_count": 11,
   "id": "bef52d7e-9d31-42d2-9c58-d60129889f98",
   "metadata": {},
   "outputs": [],
   "source": [
    "# # save as csv\n",
    "# content.to_csv('data/processed/titles_abstracts.csv', sep='\\t')"
   ]
  },
  {
   "cell_type": "code",
   "execution_count": null,
   "id": "18e72a36-ccc2-471b-819a-98eeadad851e",
   "metadata": {},
   "outputs": [],
   "source": []
  }
 ],
 "metadata": {
  "kernelspec": {
   "display_name": "Python 3",
   "language": "python",
   "name": "python3"
  },
  "language_info": {
   "codemirror_mode": {
    "name": "ipython",
    "version": 3
   },
   "file_extension": ".py",
   "mimetype": "text/x-python",
   "name": "python",
   "nbconvert_exporter": "python",
   "pygments_lexer": "ipython3",
   "version": "3.9.4"
  }
 },
 "nbformat": 4,
 "nbformat_minor": 5
}
