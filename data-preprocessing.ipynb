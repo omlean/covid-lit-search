{
 "cells": [
  {
   "cell_type": "code",
   "execution_count": 71,
   "id": "cd8f91cf-53d4-4ee3-9917-45cd775f53fd",
   "metadata": {},
   "outputs": [],
   "source": [
    "# import libraries\n",
    "import pandas as pd\n",
    "import numpy as np\n",
    "import json\n",
    "from IPython.display import JSON\n",
    "import nltk\n",
    "import re\n",
    "import string\n",
    "from tqdm import tqdm\n",
    "from nltk.stem import PorterStemmer\n",
    "from nltk.tokenize import word_tokenize\n",
    "from nltk.corpus import stopwords\n",
    "from nltk.stem import WordNetLemmatizer\n",
    "from sklearn.feature_extraction.text import TfidfVectorizer\n",
    "import pickle\n",
    "from scipy.sparse import save_npz, load_npz\n",
    "\n",
    "# import own functions\n",
    "import preprocessing"
   ]
  },
  {
   "cell_type": "markdown",
   "id": "57386a5a-d8da-4bb6-8cbe-5024c49ff7aa",
   "metadata": {},
   "source": [
    "### Parse json files containing questions from consumers and experts"
   ]
  },
  {
   "cell_type": "code",
   "execution_count": null,
   "id": "e077dc64-0157-4a1b-82e5-e7b56493a974",
   "metadata": {},
   "outputs": [],
   "source": [
    "filepath = 'data/EPIC-QA/consumer_questions_primary.json'\n",
    "consumer_df = preprocessing.parse_questions(filepath)\n",
    "consumer_df.head()"
   ]
  },
  {
   "cell_type": "code",
   "execution_count": null,
   "id": "b648cdcd-cc18-4bb1-a4a8-281bedcc72f9",
   "metadata": {},
   "outputs": [],
   "source": [
    "# consumer_df.to_csv('data/processed/questions_consumer.csv', sep='\\t')"
   ]
  },
  {
   "cell_type": "code",
   "execution_count": null,
   "id": "b5678751-7f19-4505-add6-6abc6dfc1518",
   "metadata": {},
   "outputs": [],
   "source": [
    "# parse json files containing questions from consumers and experts\n",
    "filepath = 'data/EPIC-QA/expert_questions_primary.json'\n",
    "expert_df = preprocessing.parse_questions(filepath)\n",
    "expert_df.head()"
   ]
  },
  {
   "cell_type": "code",
   "execution_count": null,
   "id": "91824b39-aff8-4107-97cb-9a068528d1ae",
   "metadata": {},
   "outputs": [],
   "source": [
    "# expert_df.to_csv('data/processed/questions_expert.csv', sep='\\t')"
   ]
  },
  {
   "cell_type": "markdown",
   "id": "f109ccca-3fe2-486c-9d89-deac83f61d2d",
   "metadata": {},
   "source": [
    "### Extract titles and abstracts from metadata file"
   ]
  },
  {
   "cell_type": "code",
   "execution_count": 2,
   "id": "9dc9aa5f-a5ed-4a2a-9f6e-47368a79c949",
   "metadata": {},
   "outputs": [
    {
     "name": "stdout",
     "output_type": "stream",
     "text": [
      "CSV file loaded successfully\n",
      "Metadata cleaning complete\n"
     ]
    }
   ],
   "source": [
    "metadata = preprocessing.load_metadata('data/cord-19/metadata.csv')"
   ]
  },
  {
   "cell_type": "code",
   "execution_count": 3,
   "id": "069b1147-87ed-4a57-8f60-4cbe5bf37533",
   "metadata": {},
   "outputs": [],
   "source": [
    "# Create table of just cord_uid, title, and abstracts\n",
    "content = metadata[['cord_uid', 'title', 'abstract']]"
   ]
  },
  {
   "cell_type": "code",
   "execution_count": 4,
   "id": "b3eb2c79-b5a2-41bc-8a0f-b702bbbd70ba",
   "metadata": {},
   "outputs": [
    {
     "name": "stderr",
     "output_type": "stream",
     "text": [
      "100%|██████████| 536570/536570 [28:47<00:00, 310.62it/s] \n",
      "/mnt/c/Users/omlea/Documents/_training/Lighthouse/lh-final-project/covid-lit-search/preprocessing.py:95: SettingWithCopyWarning: \n",
      "A value is trying to be set on a copy of a slice from a DataFrame.\n",
      "Try using .loc[row_indexer,col_indexer] = value instead\n",
      "\n",
      "See the caveats in the documentation: https://pandas.pydata.org/pandas-docs/stable/user_guide/indexing.html#returning-a-view-versus-a-copy\n",
      "  df['title_abstract'] = l\n"
     ]
    }
   ],
   "source": [
    "df = preprocessing.make_title_abstract_documents(content)"
   ]
  },
  {
   "cell_type": "code",
   "execution_count": 5,
   "id": "2f4f0105-8d1e-4f90-9da7-933f51c813d5",
   "metadata": {},
   "outputs": [
    {
     "data": {
      "text/html": [
       "<div>\n",
       "<style scoped>\n",
       "    .dataframe tbody tr th:only-of-type {\n",
       "        vertical-align: middle;\n",
       "    }\n",
       "\n",
       "    .dataframe tbody tr th {\n",
       "        vertical-align: top;\n",
       "    }\n",
       "\n",
       "    .dataframe thead th {\n",
       "        text-align: right;\n",
       "    }\n",
       "</style>\n",
       "<table border=\"1\" class=\"dataframe\">\n",
       "  <thead>\n",
       "    <tr style=\"text-align: right;\">\n",
       "      <th></th>\n",
       "      <th>cord_uid</th>\n",
       "      <th>title_abstract</th>\n",
       "    </tr>\n",
       "  </thead>\n",
       "  <tbody>\n",
       "    <tr>\n",
       "      <th>0</th>\n",
       "      <td>ug7v899j</td>\n",
       "      <td>clinical feature culture prove mycoplasma pneu...</td>\n",
       "    </tr>\n",
       "    <tr>\n",
       "      <th>1</th>\n",
       "      <td>02tnwd4m</td>\n",
       "      <td>nitric oxide pro inflammatory mediator lung di...</td>\n",
       "    </tr>\n",
       "    <tr>\n",
       "      <th>2</th>\n",
       "      <td>ejv2xln0</td>\n",
       "      <td>surfactant protein d pulmonary host defense su...</td>\n",
       "    </tr>\n",
       "    <tr>\n",
       "      <th>3</th>\n",
       "      <td>2b73a28n</td>\n",
       "      <td>role endothelin lung disease endothelin et ami...</td>\n",
       "    </tr>\n",
       "    <tr>\n",
       "      <th>4</th>\n",
       "      <td>9785vg6d</td>\n",
       "      <td>gene expression epithelial cells response pneu...</td>\n",
       "    </tr>\n",
       "  </tbody>\n",
       "</table>\n",
       "</div>"
      ],
      "text/plain": [
       "   cord_uid                                     title_abstract\n",
       "0  ug7v899j  clinical feature culture prove mycoplasma pneu...\n",
       "1  02tnwd4m  nitric oxide pro inflammatory mediator lung di...\n",
       "2  ejv2xln0  surfactant protein d pulmonary host defense su...\n",
       "3  2b73a28n  role endothelin lung disease endothelin et ami...\n",
       "4  9785vg6d  gene expression epithelial cells response pneu..."
      ]
     },
     "execution_count": 5,
     "metadata": {},
     "output_type": "execute_result"
    }
   ],
   "source": [
    "df.head()"
   ]
  },
  {
   "cell_type": "code",
   "execution_count": 6,
   "id": "d40ad85e-27bd-4243-96c9-50da21c76409",
   "metadata": {},
   "outputs": [],
   "source": [
    "# df.to_csv('data/processed/titles_abstracts_merged_cleaned.csv')"
   ]
  },
  {
   "cell_type": "markdown",
   "id": "3f727cb0-7340-4449-9f91-b8323c96dda9",
   "metadata": {},
   "source": [
    "### Remove non-english"
   ]
  },
  {
   "cell_type": "code",
   "execution_count": 10,
   "id": "99354c2b-6cdc-4c59-8ac3-faff7619bb55",
   "metadata": {},
   "outputs": [],
   "source": [
    "df = pd.read_csv('data/processed/titles_abstracts_merged_cleaned.csv', index_col=0)\n",
    "\n",
    "langs = pd.read_csv('data/processed/languages.csv', index_col=0)['0']\n",
    "df['language'] = langs\n",
    "df = df[df.language == 'en'].drop(columns='language')"
   ]
  },
  {
   "cell_type": "code",
   "execution_count": 11,
   "id": "2b595c30-3bea-48b7-933a-3ffb2a04fb16",
   "metadata": {},
   "outputs": [],
   "source": [
    "# df.to_csv('data/processed/titles_abstracts_merged_cleaned.csv')"
   ]
  },
  {
   "cell_type": "markdown",
   "id": "589aac1b-c4e9-4c46-aa8d-e2a33e3d7cd7",
   "metadata": {},
   "source": [
    "## Vectorization "
   ]
  },
  {
   "cell_type": "code",
   "execution_count": 50,
   "id": "0d1ed9c6-8f56-4083-bf3d-e99df1da1c9a",
   "metadata": {},
   "outputs": [],
   "source": [
    "# load data from file\n",
    "df = pd.read_csv('data/processed/titles_abstracts_merged_cleaned.csv', index_col=0)"
   ]
  },
  {
   "cell_type": "code",
   "execution_count": 51,
   "id": "2b0697e8-bb34-4429-8461-e3f8fb967e09",
   "metadata": {},
   "outputs": [
    {
     "data": {
      "text/html": [
       "<div>\n",
       "<style scoped>\n",
       "    .dataframe tbody tr th:only-of-type {\n",
       "        vertical-align: middle;\n",
       "    }\n",
       "\n",
       "    .dataframe tbody tr th {\n",
       "        vertical-align: top;\n",
       "    }\n",
       "\n",
       "    .dataframe thead th {\n",
       "        text-align: right;\n",
       "    }\n",
       "</style>\n",
       "<table border=\"1\" class=\"dataframe\">\n",
       "  <thead>\n",
       "    <tr style=\"text-align: right;\">\n",
       "      <th></th>\n",
       "      <th>cord_uid</th>\n",
       "      <th>title_abstract</th>\n",
       "    </tr>\n",
       "  </thead>\n",
       "  <tbody>\n",
       "    <tr>\n",
       "      <th>0</th>\n",
       "      <td>ug7v899j</td>\n",
       "      <td>clinical feature culture prove mycoplasma pneu...</td>\n",
       "    </tr>\n",
       "    <tr>\n",
       "      <th>1</th>\n",
       "      <td>02tnwd4m</td>\n",
       "      <td>nitric oxide pro inflammatory mediator lung di...</td>\n",
       "    </tr>\n",
       "    <tr>\n",
       "      <th>2</th>\n",
       "      <td>ejv2xln0</td>\n",
       "      <td>surfactant protein d pulmonary host defense su...</td>\n",
       "    </tr>\n",
       "    <tr>\n",
       "      <th>3</th>\n",
       "      <td>2b73a28n</td>\n",
       "      <td>role endothelin lung disease endothelin et ami...</td>\n",
       "    </tr>\n",
       "    <tr>\n",
       "      <th>4</th>\n",
       "      <td>9785vg6d</td>\n",
       "      <td>gene expression epithelial cells response pneu...</td>\n",
       "    </tr>\n",
       "  </tbody>\n",
       "</table>\n",
       "</div>"
      ],
      "text/plain": [
       "   cord_uid                                     title_abstract\n",
       "0  ug7v899j  clinical feature culture prove mycoplasma pneu...\n",
       "1  02tnwd4m  nitric oxide pro inflammatory mediator lung di...\n",
       "2  ejv2xln0  surfactant protein d pulmonary host defense su...\n",
       "3  2b73a28n  role endothelin lung disease endothelin et ami...\n",
       "4  9785vg6d  gene expression epithelial cells response pneu..."
      ]
     },
     "execution_count": 51,
     "metadata": {},
     "output_type": "execute_result"
    }
   ],
   "source": [
    "df.head()"
   ]
  },
  {
   "cell_type": "code",
   "execution_count": 52,
   "id": "f09cc1d0-c5d3-4aba-ada9-ed4898e4626d",
   "metadata": {},
   "outputs": [],
   "source": [
    "# drop null rows\n",
    "df.dropna(inplace=True)"
   ]
  },
  {
   "cell_type": "code",
   "execution_count": 56,
   "id": "40a9e251-ade8-40f0-acc1-8016c6e08701",
   "metadata": {},
   "outputs": [],
   "source": [
    "def clean_alphanumeric(s):\n",
    "    \"\"\"Drops words containing more than 4 digits, or beginning with digits then letters\"\"\"\n",
    "    s = re.sub(r'\\d[a-z]*\\d[a-z]*\\d[a-z]*\\d[a-z]*\\d[\\d\\w]*', '', s)\n",
    "    s = re.sub(r'\\d+[a-z]+\\W*', '', s)\n",
    "    s = \" \".join(word.strip() for word in s.split())\n",
    "    return s\n",
    "\n",
    "df['title_abstract'] = df['title_abstract'].apply(clean_alphanumeric)"
   ]
  },
  {
   "cell_type": "code",
   "execution_count": 57,
   "id": "c008c2a6-9fe1-4ebc-8bbb-37f32c645584",
   "metadata": {},
   "outputs": [],
   "source": [
    "tfidf = TfidfVectorizer()\n",
    "tfidf.fit(df.title_abstract)\n",
    "X = tfidf.transform(df.title_abstract)"
   ]
  },
  {
   "cell_type": "code",
   "execution_count": 68,
   "id": "cd831338-140d-466b-9dd5-979ae3fa6e95",
   "metadata": {},
   "outputs": [],
   "source": [
    "# # save fit vectorizer and term-document matrix\n",
    "# with open('data/processed/vectorizer_1.pkl', 'wb') as file:\n",
    "#     pickle.dump(tfidf, file)"
   ]
  },
  {
   "cell_type": "code",
   "execution_count": 70,
   "id": "e54ca95a-db9c-4eae-8583-98d16eeef8d4",
   "metadata": {},
   "outputs": [],
   "source": [
    "# save_npz('data/processed/tdm1.npz', X)"
   ]
  },
  {
   "cell_type": "code",
   "execution_count": null,
   "id": "aa14d406-ac21-4c27-841a-cd2a5355b895",
   "metadata": {},
   "outputs": [],
   "source": []
  }
 ],
 "metadata": {
  "kernelspec": {
   "display_name": "Python 3",
   "language": "python",
   "name": "python3"
  },
  "language_info": {
   "codemirror_mode": {
    "name": "ipython",
    "version": 3
   },
   "file_extension": ".py",
   "mimetype": "text/x-python",
   "name": "python",
   "nbconvert_exporter": "python",
   "pygments_lexer": "ipython3",
   "version": "3.9.4"
  }
 },
 "nbformat": 4,
 "nbformat_minor": 5
}
