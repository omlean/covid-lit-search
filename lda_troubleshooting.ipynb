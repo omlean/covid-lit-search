{
 "cells": [
  {
   "cell_type": "code",
   "execution_count": 1,
   "id": "e5d51ae8-46b2-410b-924f-984e2b273004",
   "metadata": {},
   "outputs": [],
   "source": [
    "import pandas as pd\n",
    "import numpy as np\n",
    "import json\n",
    "import os"
   ]
  },
  {
   "cell_type": "code",
   "execution_count": 2,
   "id": "3576d779-d548-4cad-872c-02a5940041c8",
   "metadata": {},
   "outputs": [],
   "source": [
    "def get_body_text_from_path(path):\n",
    "    \"\"\"Input:\n",
    "    path [string]: full path of target file\n",
    "    Output:\n",
    "    String of body text\"\"\"\n",
    "    blocks = []\n",
    "    with open(path, 'r') as file:\n",
    "        j = json.load(file)\n",
    "        for block in j['body_text']:\n",
    "            blocks.append(block['text'])\n",
    "    fulltext = '\\n\\n'.join(blocks)\n",
    "    return fulltext"
   ]
  },
  {
   "cell_type": "code",
   "execution_count": 13,
   "id": "eab59183-6fdf-4908-85ea-7cf0bf073b72",
   "metadata": {},
   "outputs": [],
   "source": [
    "def get_json_body(uid, metadata):\n",
    "    row = metadata[metadata.cord_uid == uid].iloc[0]\n",
    "    if str(row.pdf_json_files) != 'nan':\n",
    "        paths = row.pdf_json_files\n",
    "    elif str(row.pmc_json_files) != 'nan':\n",
    "        paths = row.pmc_json_files\n",
    "    else:\n",
    "        print('No file path found')\n",
    "        return None\n",
    "    path = 'data/cord-19/' + paths.split(';')[0].strip()\n",
    "    text = get_body_text_from_path(path)\n",
    "    return text"
   ]
  },
  {
   "cell_type": "code",
   "execution_count": 4,
   "id": "a86d15d3-fb30-4544-b1b4-d6160bbd7ea7",
   "metadata": {},
   "outputs": [],
   "source": [
    "def print_parsed_text(uid, version='raw'):\n",
    "    if version == 'raw':\n",
    "        directory = 'data/cord-19/body_text/lda_raw/'\n",
    "        suffix = '.txt'\n",
    "    if version == 'clean':\n",
    "        directory = 'data/cord-19/body_text/lda_raw/'\n",
    "        suffix = '_clean.txt'\n",
    "    path = directory + uid + suffix\n",
    "    with open(path, 'r') as file:\n",
    "        text = file.read()\n",
    "    print(text)\n",
    "    "
   ]
  },
  {
   "cell_type": "code",
   "execution_count": 11,
   "id": "08c77ed3-26ad-4f2d-93e1-b0d7404dee12",
   "metadata": {},
   "outputs": [],
   "source": [
    "metadata = pd.read_csv('data/processed/metadata_21.csv', index_col=0, sep='\\t')"
   ]
  },
  {
   "cell_type": "code",
   "execution_count": 12,
   "id": "6f96a934-fe49-4226-8ee3-e05b17bf1780",
   "metadata": {},
   "outputs": [
    {
     "data": {
      "text/html": [
       "<div>\n",
       "<style scoped>\n",
       "    .dataframe tbody tr th:only-of-type {\n",
       "        vertical-align: middle;\n",
       "    }\n",
       "\n",
       "    .dataframe tbody tr th {\n",
       "        vertical-align: top;\n",
       "    }\n",
       "\n",
       "    .dataframe thead th {\n",
       "        text-align: right;\n",
       "    }\n",
       "</style>\n",
       "<table border=\"1\" class=\"dataframe\">\n",
       "  <thead>\n",
       "    <tr style=\"text-align: right;\">\n",
       "      <th></th>\n",
       "      <th>cord_uid</th>\n",
       "      <th>sha</th>\n",
       "      <th>source_x</th>\n",
       "      <th>title</th>\n",
       "      <th>doi</th>\n",
       "      <th>pmcid</th>\n",
       "      <th>pubmed_id</th>\n",
       "      <th>license</th>\n",
       "      <th>abstract</th>\n",
       "      <th>publish_time</th>\n",
       "      <th>authors</th>\n",
       "      <th>journal</th>\n",
       "      <th>mag_id</th>\n",
       "      <th>who_covidence_id</th>\n",
       "      <th>arxiv_id</th>\n",
       "      <th>pdf_json_files</th>\n",
       "      <th>pmc_json_files</th>\n",
       "      <th>url</th>\n",
       "      <th>s2_id</th>\n",
       "    </tr>\n",
       "  </thead>\n",
       "  <tbody>\n",
       "    <tr>\n",
       "      <th>56502</th>\n",
       "      <td>tk0q4d1x</td>\n",
       "      <td>NaN</td>\n",
       "      <td>Medline</td>\n",
       "      <td>Drug pipeline 4Q20.</td>\n",
       "      <td>10.1038/s41587-021-00818-6</td>\n",
       "      <td>NaN</td>\n",
       "      <td>33564165.0</td>\n",
       "      <td>unk</td>\n",
       "      <td>NaN</td>\n",
       "      <td>2021-02-09</td>\n",
       "      <td>DeFrancesco, Laura</td>\n",
       "      <td>Nature biotechnology</td>\n",
       "      <td>NaN</td>\n",
       "      <td>NaN</td>\n",
       "      <td>NaN</td>\n",
       "      <td>NaN</td>\n",
       "      <td>NaN</td>\n",
       "      <td>https://doi.org/10.1038/s41587-021-00818-6; ht...</td>\n",
       "      <td>231867445.0</td>\n",
       "    </tr>\n",
       "  </tbody>\n",
       "</table>\n",
       "</div>"
      ],
      "text/plain": [
       "       cord_uid  sha source_x                title  \\\n",
       "56502  tk0q4d1x  NaN  Medline  Drug pipeline 4Q20.   \n",
       "\n",
       "                              doi pmcid   pubmed_id license abstract  \\\n",
       "56502  10.1038/s41587-021-00818-6   NaN  33564165.0     unk      NaN   \n",
       "\n",
       "      publish_time             authors               journal  mag_id  \\\n",
       "56502   2021-02-09  DeFrancesco, Laura  Nature biotechnology     NaN   \n",
       "\n",
       "      who_covidence_id  arxiv_id pdf_json_files pmc_json_files  \\\n",
       "56502              NaN       NaN            NaN            NaN   \n",
       "\n",
       "                                                     url        s2_id  \n",
       "56502  https://doi.org/10.1038/s41587-021-00818-6; ht...  231867445.0  "
      ]
     },
     "execution_count": 12,
     "metadata": {},
     "output_type": "execute_result"
    }
   ],
   "source": [
    "uid = 'tk0q4d1x'\n",
    "metadata[metadata.cord_uid == uid]"
   ]
  },
  {
   "cell_type": "code",
   "execution_count": 16,
   "id": "be563dc8-aa22-4138-abea-5257a26bb17b",
   "metadata": {},
   "outputs": [
    {
     "name": "stdout",
     "output_type": "stream",
     "text": [
      "Causes and timing of death in critically ill COVID-19 patients\n",
      "\n",
      "\n",
      "\n",
      "\n"
     ]
    }
   ],
   "source": [
    "uid = 'lun9x852'\n",
    "print_parsed_text(uid)"
   ]
  },
  {
   "cell_type": "code",
   "execution_count": null,
   "id": "ea5f5d29-cc65-49b5-b25e-52e39bd1e8e1",
   "metadata": {},
   "outputs": [],
   "source": []
  }
 ],
 "metadata": {
  "kernelspec": {
   "display_name": "Python 3",
   "language": "python",
   "name": "python3"
  },
  "language_info": {
   "codemirror_mode": {
    "name": "ipython",
    "version": 3
   },
   "file_extension": ".py",
   "mimetype": "text/x-python",
   "name": "python",
   "nbconvert_exporter": "python",
   "pygments_lexer": "ipython3",
   "version": "3.8.8"
  }
 },
 "nbformat": 4,
 "nbformat_minor": 5
}
