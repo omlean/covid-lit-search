{
 "cells": [
  {
   "cell_type": "code",
   "execution_count": 1,
   "id": "e5d51ae8-46b2-410b-924f-984e2b273004",
   "metadata": {},
   "outputs": [],
   "source": [
    "import pandas as pd\n",
    "import numpy as np\n",
    "import json\n",
    "import os"
   ]
  },
  {
   "cell_type": "code",
   "execution_count": 2,
   "id": "3576d779-d548-4cad-872c-02a5940041c8",
   "metadata": {},
   "outputs": [],
   "source": [
    "def get_body_text_from_path(path):\n",
    "    \"\"\"Input:\n",
    "    path [string]: full path of target file\n",
    "    Output:\n",
    "    String of body text\"\"\"\n",
    "    blocks = []\n",
    "    with open(path, 'r') as file:\n",
    "        j = json.load(file)\n",
    "        for block in j['body_text']:\n",
    "            blocks.append(block['text'])\n",
    "    fulltext = '\\n\\n'.join(blocks)\n",
    "    return fulltext"
   ]
  },
  {
   "cell_type": "code",
   "execution_count": 3,
   "id": "eab59183-6fdf-4908-85ea-7cf0bf073b72",
   "metadata": {},
   "outputs": [],
   "source": [
    "def get_json_body(uid, metadata):\n",
    "    row = metadata[metadata.cord_uid == uid].iloc[0]\n",
    "    if str(row.pdf_json_files) != 'nan':\n",
    "        paths = row.pdf_json_files\n",
    "    elif str(row.pmc_json_files) != 'nan':\n",
    "        paths = row.pmc_json_files\n",
    "    else:\n",
    "        print('No file path found')\n",
    "        return None\n",
    "    path = 'data/cord-19/' + paths.split(';')[0].strip()\n",
    "    text = get_body_text_from_path(path)\n",
    "    return text"
   ]
  },
  {
   "cell_type": "code",
   "execution_count": 4,
   "id": "a86d15d3-fb30-4544-b1b4-d6160bbd7ea7",
   "metadata": {},
   "outputs": [],
   "source": [
    "def print_parsed_text(uid, version='raw'):\n",
    "    if version == 'raw':\n",
    "        directory = 'data/cord-19/body_text/lda_raw/'\n",
    "        suffix = '.txt'\n",
    "    if version == 'clean':\n",
    "        directory = 'data/cord-19/body_text/lda_raw/'\n",
    "        suffix = '_clean.txt'\n",
    "    path = directory + uid + suffix\n",
    "    with open(path, 'r') as file:\n",
    "        text = file.read()\n",
    "    print(text)\n",
    "    "
   ]
  },
  {
   "cell_type": "code",
   "execution_count": 6,
   "id": "08c77ed3-26ad-4f2d-93e1-b0d7404dee12",
   "metadata": {},
   "outputs": [],
   "source": [
    "metadata = pd.read_csv('results/final_models/metadata_2021.csv.gz', sep='\\t')"
   ]
  },
  {
   "cell_type": "code",
   "execution_count": 23,
   "id": "be563dc8-aa22-4138-abea-5257a26bb17b",
   "metadata": {},
   "outputs": [
    {
     "name": "stdout",
     "output_type": "stream",
     "text": [
      "Clinical characteristics and outcome of SARS-CoV-2 infection during pregnancy\n",
      "\n",
      "None\n",
      "\n",
      "All authors declare that they have no competing interests.\n"
     ]
    }
   ],
   "source": [
    "# load corpus, dictionary, and model\n"
   ]
  },
  {
   "cell_type": "code",
   "execution_count": null,
   "id": "ea5f5d29-cc65-49b5-b25e-52e39bd1e8e1",
   "metadata": {},
   "outputs": [],
   "source": []
  }
 ],
 "metadata": {
  "kernelspec": {
   "display_name": "Python 3",
   "language": "python",
   "name": "python3"
  },
  "language_info": {
   "codemirror_mode": {
    "name": "ipython",
    "version": 3
   },
   "file_extension": ".py",
   "mimetype": "text/x-python",
   "name": "python",
   "nbconvert_exporter": "python",
   "pygments_lexer": "ipython3",
   "version": "3.8.8"
  }
 },
 "nbformat": 4,
 "nbformat_minor": 5
}
