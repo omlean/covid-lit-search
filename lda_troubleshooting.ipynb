{
 "cells": [
  {
   "cell_type": "markdown",
   "id": "adf03112-d3c0-4b6f-b173-e895bb9cd5cc",
   "metadata": {},
   "source": [
    "## Inspection/troubleshooting of LDA model"
   ]
  },
  {
   "cell_type": "code",
   "execution_count": 19,
   "id": "e5d51ae8-46b2-410b-924f-984e2b273004",
   "metadata": {},
   "outputs": [],
   "source": [
    "import pandas as pd\n",
    "import numpy as np\n",
    "import os\n",
    "from tqdm import tqdm\n",
    "\n",
    "from gensim.corpora.dictionary import Dictionary\n",
    "from gensim.models.ldamodel import LdaModel\n",
    "\n",
    "import matplotlib.pyplot as plt\n",
    "\n",
    "import my_lda"
   ]
  },
  {
   "cell_type": "code",
   "execution_count": 2,
   "id": "ffb851fa-0f48-467e-8005-441eff4bbdca",
   "metadata": {},
   "outputs": [],
   "source": [
    "num_topics = 100\n",
    "alpha = 0.01\n",
    "eta = 0.1\n",
    "model_root = f'lda_{num_topics}_{alpha}_{eta}'\n",
    "\n",
    "metadata_path = 'results/final_models/metadata_2021.csv.gz'\n",
    "corpus_directory = 'results/final_models/lda_2021_corpus_clean/'\n",
    "dictionary_path = 'results/final_models/dictionary.dict'\n",
    "model_path = f'results/final_models/{model_root}_model'"
   ]
  },
  {
   "cell_type": "code",
   "execution_count": 3,
   "id": "9e8a9cca-167b-4393-aaba-986de305d44a",
   "metadata": {},
   "outputs": [],
   "source": [
    "metadata = pd.read_csv(metadata_path, sep='\\t')\n",
    "dictionary = Dictionary.load(dictionary_path)\n",
    "doc_path_list = [corpus_directory + file for file in os.listdir(corpus_directory) \n",
    "                 if file.endswith('.txt')]\n",
    "corpus = my_lda.MyCorpus(doc_path_list, dictionary=dictionary)\n",
    "model = LdaModel.load(model_path)"
   ]
  },
  {
   "cell_type": "markdown",
   "id": "3a8d4469-0dbc-4a35-b4f3-235cf6511772",
   "metadata": {},
   "source": [
    "### View distribution of topics per document"
   ]
  },
  {
   "cell_type": "code",
   "execution_count": 9,
   "id": "ea5f5d29-cc65-49b5-b25e-52e39bd1e8e1",
   "metadata": {},
   "outputs": [
    {
     "name": "stderr",
     "output_type": "stream",
     "text": [
      "100%|██████████| 53758/53758 [06:46<00:00, 132.31it/s]\n"
     ]
    },
    {
     "data": {
      "image/png": "[encoded data removed]",
      "text/plain": [
       "<Figure size 432x288 with 1 Axes>"
      ]
     },
     "metadata": {
      "needs_background": "light"
     },
     "output_type": "display_data"
    }
   ],
   "source": [
    "my_lda.topics_per_doc(model, corpus)"
   ]
  },
  {
   "cell_type": "markdown",
   "id": "5b7262b9-16d6-4ee1-a859-60b577affb41",
   "metadata": {},
   "source": [
    "### View number of topics per word"
   ]
  },
  {
   "cell_type": "code",
   "execution_count": 21,
   "id": "baf0ebd6-c093-43b3-b0b5-2ec4787b1caf",
   "metadata": {},
   "outputs": [
    {
     "name": "stderr",
     "output_type": "stream",
     "text": [
      "100%|██████████| 100000/100000 [00:14<00:00, 6953.40it/s]\n"
     ]
    },
    {
     "data": {
      "image/png": "[encoded data removed]",
      "text/plain": [
       "<Figure size 432x288 with 1 Axes>"
      ]
     },
     "metadata": {
      "needs_background": "light"
     },
     "output_type": "display_data"
    }
   ],
   "source": [
    "def plot_topics_per_word(model, dictionary):\n",
    "    topics_per_word = []\n",
    "    for i in tqdm(range(len(dictionary))):\n",
    "        topics_per_word.append(len(model.get_term_topics(i)))\n",
    "    plt.hist(topics_per_word, bins=max(topics_per_word))\n",
    "\n",
    "plot_topics_per_word(model, dictionary)"
   ]
  },
  {
   "cell_type": "markdown",
   "id": "3dbee3a9-90fa-4a2b-a0a5-10be13acde12",
   "metadata": {},
   "source": [
    "### View topic predictions for query"
   ]
  },
  {
   "cell_type": "code",
   "execution_count": 23,
   "id": "8ac323a9-9953-4d5d-a20f-7cd467ad5ed7",
   "metadata": {},
   "outputs": [
    {
     "name": "stdout",
     "output_type": "stream",
     "text": [
      "What endocrine complications are  linked to COVID-19? \n",
      "\n",
      "endocrine complications link covid19 \n",
      "\n",
      "bow: \n",
      "complications 1\n",
      "endocrine 1\n",
      "\n",
      "Topic predictions: \n",
      "[(92, 0.35180938), (15, 0.321474)] \n",
      "\n",
      "complications []\n",
      "endocrine []\n"
     ]
    }
   ],
   "source": [
    "query = 'What endocrine complications are  linked to COVID-19?'\n",
    "\n",
    "my_lda.print_pred(query, corpus, model)"
   ]
  },
  {
   "cell_type": "markdown",
   "id": "dcb7b760-9b35-462a-b3d0-0f7a1c23958e",
   "metadata": {},
   "source": [
    "### View topic relevance for word"
   ]
  },
  {
   "cell_type": "code",
   "execution_count": 43,
   "id": "ecc0ad00-b57e-4202-baef-7fb89e078b30",
   "metadata": {},
   "outputs": [
    {
     "data": {
      "text/plain": [
       "[(1, 0.0069413385),\n",
       " (15, 0.008447186),\n",
       " (40, 0.0018138113),\n",
       " (67, 0.0022749496),\n",
       " (68, 0.0017632607),\n",
       " (76, 0.0020880084)]"
      ]
     },
     "execution_count": 43,
     "metadata": {},
     "output_type": "execute_result"
    }
   ],
   "source": [
    "word = 'complications'\n",
    "model.get_term_topics(dictionary.token2id[word], minimum_probability=num_topics/len(corpus.dictionary))"
   ]
  },
  {
   "cell_type": "code",
   "execution_count": 41,
   "id": "9bf90538-8704-45d9-948d-ce7ce72bc0df",
   "metadata": {},
   "outputs": [
    {
     "data": {
      "text/plain": [
       "['liver',\n",
       " 'inflammatory',\n",
       " 'injury',\n",
       " 'elevate',\n",
       " 'therapy',\n",
       " 'complications',\n",
       " 'failure',\n",
       " 'pulmonary',\n",
       " 'crp',\n",
       " 'ddimer',\n",
       " 'thrombosis',\n",
       " 'admission',\n",
       " 'platelet',\n",
       " 'coagulation',\n",
       " 'serum',\n",
       " 'tocilizumab',\n",
       " 'laboratory',\n",
       " 'systemic',\n",
       " 'ill',\n",
       " 'damage',\n",
       " 'dysfunction',\n",
       " 'inflammation',\n",
       " 'stroke',\n",
       " 'il6',\n",
       " 'count',\n",
       " 'oxygen',\n",
       " 'bleed',\n",
       " 'vascular',\n",
       " 'ferritin',\n",
       " 'venous',\n",
       " 'anticoagulation',\n",
       " 'critically',\n",
       " 'icu',\n",
       " 'pneumonia',\n",
       " 'mild',\n",
       " 'markers',\n",
       " 'manifestations',\n",
       " 'thrombotic',\n",
       " 'organ',\n",
       " 'ards',\n",
       " 'autopsy',\n",
       " 'cytokine',\n",
       " 'platelets',\n",
       " 'arterial',\n",
       " 'hospitalize',\n",
       " 'heparin',\n",
       " 'discharge',\n",
       " 'incidence',\n",
       " 'dose',\n",
       " 'history']"
      ]
     },
     "execution_count": 41,
     "metadata": {},
     "output_type": "execute_result"
    }
   ],
   "source": [
    "my_lda.topic_words(92, model, corpus)"
   ]
  },
  {
   "cell_type": "code",
   "execution_count": null,
   "id": "b47a2039-80a1-4aaf-9ecd-1b56341cc10d",
   "metadata": {},
   "outputs": [],
   "source": []
  }
 ],
 "metadata": {
  "kernelspec": {
   "display_name": "Python 3",
   "language": "python",
   "name": "python3"
  },
  "language_info": {
   "codemirror_mode": {
    "name": "ipython",
    "version": 3
   },
   "file_extension": ".py",
   "mimetype": "text/x-python",
   "name": "python",
   "nbconvert_exporter": "python",
   "pygments_lexer": "ipython3",
   "version": "3.8.8"
  }
 },
 "nbformat": 4,
 "nbformat_minor": 5
}
