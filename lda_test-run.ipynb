{
 "cells": [
  {
   "cell_type": "code",
   "execution_count": 1,
   "id": "58151c1f-8ca6-4605-bd99-502e54dad288",
   "metadata": {},
   "outputs": [],
   "source": [
    "import pandas as pd\n",
    "import matplotlib.pyplot as plt\n",
    "\n",
    "import re\n",
    "import os\n",
    "from tqdm import tqdm\n",
    "\n",
    "from nltk.stem import PorterStemmer\n",
    "from nltk.tokenize import word_tokenize\n",
    "from nltk.corpus import stopwords\n",
    "from nltk.stem import WordNetLemmatizer\n",
    "\n",
    "from gensim.corpora.dictionary import Dictionary\n",
    "from gensim.models.ldamodel import LdaModel\n",
    "\n",
    "import pyLDAvis\n",
    "import pyLDAvis.gensim_models as gensimvis\n",
    "pyLDAvis.enable_notebook()\n",
    "\n",
    "from preprocessing import load_cleaned_metadata, clean_text_lda, get_clean_write\n",
    "from data_access import get_txt\n",
    "from my_lda import MyCorpus"
   ]
  },
  {
   "cell_type": "code",
   "execution_count": 2,
   "id": "e52058ad-5d2b-4584-bd40-f14376ee97be",
   "metadata": {},
   "outputs": [
    {
     "data": {
      "text/plain": [
       "437966"
      ]
     },
     "execution_count": 2,
     "metadata": {},
     "output_type": "execute_result"
    }
   ],
   "source": [
    "df = load_cleaned_metadata('data/processed/metadata_clean_lda.csv')\n",
    "len(df)"
   ]
  },
  {
   "cell_type": "markdown",
   "id": "1afd1e07-a86c-47d0-adc8-aba6df92dbc4",
   "metadata": {},
   "source": [
    "# Create data files of clean data"
   ]
  },
  {
   "cell_type": "code",
   "execution_count": null,
   "id": "ba41b11f-6cab-4ed5-816b-c9e910409e9e",
   "metadata": {},
   "outputs": [],
   "source": [
    "# dest_directory = 'data/cord-19/body_text/lda_clean/'\n",
    "# ids = df.cord_uid.tolist()\n",
    "\n",
    "# for uid in tqdm(ids):\n",
    "#     get_clean_write(uid, dest_directory)"
   ]
  },
  {
   "cell_type": "code",
   "execution_count": null,
   "id": "5e783873-375d-4729-bf3b-3e26e5ccaa2e",
   "metadata": {},
   "outputs": [],
   "source": [
    "# len(os.listdir('data/cord-19/body_text/lda_clean/'))"
   ]
  },
  {
   "cell_type": "markdown",
   "id": "eb237fa1-c3a6-4284-b02a-8c43663adeac",
   "metadata": {},
   "source": [
    "## Trial run with small sample"
   ]
  },
  {
   "cell_type": "code",
   "execution_count": 5,
   "id": "a3bb81f6-888c-471c-9784-60eaa0279a82",
   "metadata": {},
   "outputs": [],
   "source": [
    "# Sample documents from january 2021\n",
    "mask1 = df.publish_time.apply(lambda x: x.year == 2021)\n",
    "mask2 = df.publish_time.apply(lambda x: x.month == 1)\n",
    "df_jan21 = df[mask1 & mask2]\n",
    "ids = df_jan21.cord_uid.tolist()"
   ]
  },
  {
   "cell_type": "code",
   "execution_count": 6,
   "id": "253ba06d-d2ff-48b6-b52c-0ae80dcf3859",
   "metadata": {},
   "outputs": [
    {
     "data": {
      "text/plain": [
       "49366"
      ]
     },
     "execution_count": 6,
     "metadata": {},
     "output_type": "execute_result"
    }
   ],
   "source": [
    "len(df_jan21)"
   ]
  },
  {
   "cell_type": "code",
   "execution_count": 7,
   "id": "f3d28ec5-4190-46df-9653-58ecceb8b654",
   "metadata": {},
   "outputs": [],
   "source": [
    "# df_apr21.to_csv('data/processed/metadata_jan21.csv', sep='\\t')"
   ]
  },
  {
   "cell_type": "markdown",
   "id": "deb90ab7-e900-4f22-bcc1-11ae864378f8",
   "metadata": {},
   "source": [
    "Required output:\n",
    "- topic profile of every document\n",
    "- visualisation of topics"
   ]
  },
  {
   "cell_type": "markdown",
   "id": "232cf635-0906-4d90-b69e-348dc00552b5",
   "metadata": {},
   "source": [
    "> \"[Gensim](https://radimrehurek.com/gensim/auto_examples/core/run_corpora_and_vector_spaces.html#corpus-streaming-tutorial) accepts any object that, when iterated over, successively yields documents.\""
   ]
  },
  {
   "cell_type": "code",
   "execution_count": 8,
   "id": "76485167-9c18-4b54-8c8a-bb537eb066be",
   "metadata": {},
   "outputs": [],
   "source": [
    "# list of full paths for documents to be accessed\n",
    "doc_path_list = ['data/cord-19/body_text/lda_clean/' + uid + '_clean.txt' for uid in ids]\n",
    "# initiate corpus object\n",
    "corpus = MyCorpus(doc_path_list)"
   ]
  },
  {
   "cell_type": "code",
   "execution_count": 9,
   "id": "571a6ce9-00fb-45b9-a783-ba1a639eb154",
   "metadata": {},
   "outputs": [
    {
     "name": "stdout",
     "output_type": "stream",
     "text": [
      "Creating dictionary...\n",
      "...complete\n",
      "Saving dictionary to results/lda_jan21_01\n"
     ]
    }
   ],
   "source": [
    "# generate vocabulary from the corpus and save dictionary\n",
    "save_directory = 'results/lda_jan21_01'\n",
    "corpus.make_dictionary(save_directory, \"jan21_01\")"
   ]
  },
  {
   "cell_type": "code",
   "execution_count": 10,
   "id": "5aa67741-3ab0-42d8-b861-be86b21ef241",
   "metadata": {},
   "outputs": [],
   "source": [
    "# filter extremes\n",
    "corpus.filter_extremes(no_below=5, no_above=0.2)"
   ]
  },
  {
   "cell_type": "markdown",
   "id": "7f501b6d-3a84-426d-8165-5c14e889d35a",
   "metadata": {},
   "source": [
    "### Train model, explore methods"
   ]
  },
  {
   "cell_type": "code",
   "execution_count": 11,
   "id": "2b0a18e6-4c5a-4ad6-8ed6-1572f5a83702",
   "metadata": {},
   "outputs": [],
   "source": [
    "# model = LdaModel(corpus, num_topics=500, id2word=corpus.id2word, alpha=0.1)\n",
    "# model.save('results/jan21_01')"
   ]
  },
  {
   "cell_type": "code",
   "execution_count": null,
   "id": "d9716a79-410a-4f4f-bb70-695b60dec7f8",
   "metadata": {},
   "outputs": [],
   "source": [
    "model = LdaModel.load('results/jan21_01')"
   ]
  },
  {
   "cell_type": "code",
   "execution_count": 13,
   "id": "e45aeba1-5485-4de1-ab73-e4e82bf9c7c2",
   "metadata": {},
   "outputs": [],
   "source": [
    "# jan21_01_vis = gensimvis.prepare(model, corpus, corpus.dictionary)"
   ]
  },
  {
   "cell_type": "code",
   "execution_count": 14,
   "id": "ef9c7d87-93eb-40fa-98d4-e578ce9ba58a",
   "metadata": {},
   "outputs": [],
   "source": [
    "pyLDAvis.save_html(jan21_01_vis, 'results/lda_jan21_01/jan21_01_vis.html')"
   ]
  },
  {
   "cell_type": "code",
   "execution_count": null,
   "id": "e66a1dae-89f7-43f2-9862-0efd67baffd4",
   "metadata": {},
   "outputs": [],
   "source": []
  }
 ],
 "metadata": {
  "kernelspec": {
   "display_name": "Python 3",
   "language": "python",
   "name": "python3"
  },
  "language_info": {
   "codemirror_mode": {
    "name": "ipython",
    "version": 3
   },
   "file_extension": ".py",
   "mimetype": "text/x-python",
   "name": "python",
   "nbconvert_exporter": "python",
   "pygments_lexer": "ipython3",
   "version": "3.8.8"
  }
 },
 "nbformat": 4,
 "nbformat_minor": 5
}
