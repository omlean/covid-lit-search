{
 "cells": [
  {
   "cell_type": "code",
   "execution_count": 1,
   "id": "58151c1f-8ca6-4605-bd99-502e54dad288",
   "metadata": {},
   "outputs": [],
   "source": [
    "import pandas as pd\n",
    "import numpy as np\n",
    "import matplotlib.pyplot as plt\n",
    "\n",
    "import re\n",
    "import os\n",
    "from tqdm import tqdm\n",
    "\n",
    "from nltk.stem import PorterStemmer\n",
    "from nltk.tokenize import word_tokenize\n",
    "from nltk.corpus import stopwords\n",
    "from nltk.stem import WordNetLemmatizer\n",
    "\n",
    "from gensim.corpora.dictionary import Dictionary\n",
    "from gensim.models.ldamodel import LdaModel\n",
    "\n",
    "import pyLDAvis\n",
    "import pyLDAvis.gensim_models as gensimvis\n",
    "pyLDAvis.enable_notebook()\n",
    "\n",
    "from preprocessing import load_cleaned_metadata, clean_text_lda, get_clean_write\n",
    "from data_access import get_txt\n",
    "from my_lda import MyCorpus\n",
    "import my_lda"
   ]
  },
  {
   "cell_type": "code",
   "execution_count": 2,
   "id": "e52058ad-5d2b-4584-bd40-f14376ee97be",
   "metadata": {},
   "outputs": [],
   "source": [
    "# df = load_cleaned_metadata('data/processed/metadata_clean.csv.gz')\n",
    "# len(df)"
   ]
  },
  {
   "cell_type": "code",
   "execution_count": 3,
   "id": "8de4418e-5c58-4e33-aae1-2556a58c5cec",
   "metadata": {},
   "outputs": [],
   "source": [
    "# # 2021 only\n",
    "# df.date = pd.to_datetime(df.date)\n",
    "# df = df[df.date.apply(lambda x: x.year == 2021)]\n",
    "# len(df)"
   ]
  },
  {
   "cell_type": "code",
   "execution_count": 4,
   "id": "21d9791d-2d08-46e9-84c1-cd093b055ae0",
   "metadata": {},
   "outputs": [],
   "source": [
    "# df.to_csv('results/final_models/metadata_2021.csv.gz', index=False, sep='\\t', compression='gzip')"
   ]
  },
  {
   "cell_type": "code",
   "execution_count": 5,
   "id": "39a49999-d585-47f9-bc8b-f2ef47cb98fb",
   "metadata": {},
   "outputs": [
    {
     "data": {
      "text/plain": [
       "53758"
      ]
     },
     "execution_count": 5,
     "metadata": {},
     "output_type": "execute_result"
    }
   ],
   "source": [
    "df = pd.read_csv('results/final_models/metadata_2021.csv.gz', sep='\\t', compression='gzip')\n",
    "df.date = pd.to_datetime(df.date)\n",
    "len(df)"
   ]
  },
  {
   "cell_type": "code",
   "execution_count": 6,
   "id": "29e1f163-9489-4c61-adb7-e738ed68b684",
   "metadata": {},
   "outputs": [],
   "source": [
    "# # 2000 onwards\n",
    "# df.date = pd.to_datetime(df.date)\n",
    "# df = df[df.date.apply(lambda x: x.year >= 2000)]\n",
    "# len(df)"
   ]
  },
  {
   "cell_type": "markdown",
   "id": "1afd1e07-a86c-47d0-adc8-aba6df92dbc4",
   "metadata": {},
   "source": [
    "# Create data files of clean data"
   ]
  },
  {
   "cell_type": "code",
   "execution_count": 8,
   "id": "4496d238-c504-4f2e-85b4-f4cfb601b46c",
   "metadata": {},
   "outputs": [
    {
     "name": "stdout",
     "output_type": "stream",
     "text": [
      "276669\n",
      "190338\n",
      "86331\n"
     ]
    }
   ],
   "source": [
    "# # to save time, clean only files for ids that aren't already in the directory\n",
    "\n",
    "# dest_directory = 'results/final_models/lda_2000plus_corpus_clean/'\n",
    "# existing_files = os.listdir(dest_directory)\n",
    "# ids = df.cord_uid.tolist()\n",
    "# missing_ids = [i for i in ids if f'{i}_clean.txt' not in existing_files]\n",
    "# print(len(ids))\n",
    "# print(len(existing_files))\n",
    "# print(len(missing_ids))"
   ]
  },
  {
   "cell_type": "code",
   "execution_count": 9,
   "id": "86780a0b-dc9a-49f7-988c-fa58d8797d1b",
   "metadata": {},
   "outputs": [
    {
     "name": "stderr",
     "output_type": "stream",
     "text": [
      "100%|██████████| 86331/86331 [1:30:24<00:00, 15.92it/s]  \n"
     ]
    }
   ],
   "source": [
    "# for uid in tqdm(missing_ids):\n",
    "#     get_clean_write(uid, dest_directory)"
   ]
  },
  {
   "cell_type": "code",
   "execution_count": 12,
   "id": "5e783873-375d-4729-bf3b-3e26e5ccaa2e",
   "metadata": {},
   "outputs": [],
   "source": [
    "# len(os.listdir('results/final_models/lda2000plus_corpus_clean/'))"
   ]
  },
  {
   "cell_type": "markdown",
   "id": "eb237fa1-c3a6-4284-b02a-8c43663adeac",
   "metadata": {},
   "source": [
    "## Create corpus and dictionary"
   ]
  },
  {
   "cell_type": "markdown",
   "id": "deb90ab7-e900-4f22-bcc1-11ae864378f8",
   "metadata": {},
   "source": [
    "Required output:\n",
    "- topic profile of every document\n",
    "- visualisation of topics"
   ]
  },
  {
   "cell_type": "markdown",
   "id": "232cf635-0906-4d90-b69e-348dc00552b5",
   "metadata": {},
   "source": [
    "> \"[Gensim](https://radimrehurek.com/gensim/auto_examples/core/run_corpora_and_vector_spaces.html#corpus-streaming-tutorial) accepts any object that, when iterated over, successively yields documents.\""
   ]
  },
  {
   "cell_type": "code",
   "execution_count": 7,
   "id": "76485167-9c18-4b54-8c8a-bb537eb066be",
   "metadata": {},
   "outputs": [],
   "source": [
    "# list of full paths for documents to be accessed\n",
    "corpus_directory = 'results/final_models/lda_2021_corpus_clean/'\n",
    "# ids = df.cord_uid.tolist()\n",
    "doc_path_list = [corpus_directory + file for file in os.listdir(corpus_directory) if file.endswith('.txt')]\n",
    "# initiate corpus object\n",
    "save_directory = 'results/final_models/'\n",
    "dictionary = Dictionary.load(save_directory + 'dictionary.dict')\n",
    "corpus = MyCorpus(doc_path_list, dictionary=dictionary)"
   ]
  },
  {
   "cell_type": "code",
   "execution_count": 8,
   "id": "9ab6f8ed-7872-4ef6-bbc7-38031cb75c24",
   "metadata": {},
   "outputs": [],
   "source": [
    "# save_directory = 'results/final_models/'\n",
    "# corpus.make_dictionary(save_directory, 'dictionary')"
   ]
  },
  {
   "cell_type": "code",
   "execution_count": 9,
   "id": "5aa67741-3ab0-42d8-b861-be86b21ef241",
   "metadata": {},
   "outputs": [],
   "source": [
    "# # filter extremes\n",
    "# corpus.filter_extremes(no_below=5, no_above=0.2)"
   ]
  },
  {
   "cell_type": "code",
   "execution_count": 10,
   "id": "93d04384-a063-43ca-880c-d85aca89d001",
   "metadata": {},
   "outputs": [
    {
     "name": "stdout",
     "output_type": "stream",
     "text": [
      "53758\n",
      "100000\n"
     ]
    }
   ],
   "source": [
    "print(len(corpus))\n",
    "print(len(corpus.dictionary))"
   ]
  },
  {
   "cell_type": "markdown",
   "id": "7f501b6d-3a84-426d-8165-5c14e889d35a",
   "metadata": {},
   "source": [
    "### Train model"
   ]
  },
  {
   "cell_type": "code",
   "execution_count": 11,
   "id": "be245d09-9f40-43cc-9522-a58069e104f9",
   "metadata": {},
   "outputs": [],
   "source": [
    "num_topics = 100\n",
    "alpha = 0.01\n",
    "eta = 0.01\n",
    "\n",
    "filename = f'lda_{num_topics}_{alpha}_{eta}'"
   ]
  },
  {
   "cell_type": "code",
   "execution_count": 12,
   "id": "1851e45a-3cce-434c-a282-a329a6bba314",
   "metadata": {},
   "outputs": [],
   "source": [
    "# model = LdaModel(corpus, num_topics=num_topics, id2word=corpus.id2word, alpha=alpha, eta=eta)"
   ]
  },
  {
   "cell_type": "code",
   "execution_count": 13,
   "id": "1abe7491-2d53-41cd-86a7-42175a7d0435",
   "metadata": {},
   "outputs": [],
   "source": [
    "# model.save(save_directory+filename+\"_model\")"
   ]
  },
  {
   "cell_type": "code",
   "execution_count": 14,
   "id": "7a195c8b-fe4f-4e43-8db1-3d6c1072e0b6",
   "metadata": {},
   "outputs": [],
   "source": [
    "model = LdaModel.load(save_directory + filename + '_model')"
   ]
  },
  {
   "cell_type": "markdown",
   "id": "8e699bd9-9af5-4c75-9bc7-28ed40480941",
   "metadata": {},
   "source": [
    "### Visualise"
   ]
  },
  {
   "cell_type": "code",
   "execution_count": 16,
   "id": "e45aeba1-5485-4de1-ab73-e4e82bf9c7c2",
   "metadata": {},
   "outputs": [],
   "source": [
    "# vis = gensimvis.prepare(model, corpus, corpus.dictionary, sort_topics=False)"
   ]
  },
  {
   "cell_type": "code",
   "execution_count": 17,
   "id": "e66a1dae-89f7-43f2-9862-0efd67baffd4",
   "metadata": {},
   "outputs": [],
   "source": [
    "# pyLDAvis.save_html(vis, save_directory+filename+'_vis.html')"
   ]
  },
  {
   "cell_type": "markdown",
   "id": "dd866cfc-61b4-4eda-a555-182d948f17c0",
   "metadata": {},
   "source": [
    "### Run search using model"
   ]
  },
  {
   "cell_type": "code",
   "execution_count": 15,
   "id": "cfc1d5f4-0659-400e-af32-56988ccfcdac",
   "metadata": {},
   "outputs": [],
   "source": [
    "questions_df = pd.read_csv('data/processed/questions_expert.csv', sep='\\t', index_col=0)"
   ]
  },
  {
   "cell_type": "code",
   "execution_count": 17,
   "id": "64f44229-131b-4ae5-852d-0a0f3678e4d0",
   "metadata": {},
   "outputs": [
    {
     "name": "stderr",
     "output_type": "stream",
     "text": [
      "100%|██████████| 53758/53758 [08:13<00:00, 108.89it/s]\n",
      "100%|██████████| 53758/53758 [08:20<00:00, 107.37it/s]\n",
      "100%|██████████| 53758/53758 [08:18<00:00, 107.77it/s]\n",
      "100%|██████████| 53758/53758 [08:15<00:00, 108.40it/s]\n",
      "100%|██████████| 53758/53758 [08:17<00:00, 108.16it/s]\n",
      "100%|██████████| 53758/53758 [08:20<00:00, 107.42it/s]\n",
      "100%|██████████| 53758/53758 [08:15<00:00, 108.44it/s]\n",
      "100%|██████████| 53758/53758 [08:04<00:00, 110.92it/s]\n",
      "100%|██████████| 53758/53758 [07:53<00:00, 113.54it/s]\n",
      "100%|██████████| 53758/53758 [07:58<00:00, 112.28it/s]\n",
      "100%|██████████| 53758/53758 [07:56<00:00, 112.92it/s]\n",
      "100%|██████████| 53758/53758 [07:53<00:00, 113.42it/s]\n",
      "100%|██████████| 53758/53758 [07:53<00:00, 113.56it/s]\n",
      "100%|██████████| 53758/53758 [07:53<00:00, 113.52it/s]\n",
      "100%|██████████| 53758/53758 [07:54<00:00, 113.23it/s]\n",
      "100%|██████████| 53758/53758 [07:53<00:00, 113.50it/s]\n",
      "100%|██████████| 53758/53758 [07:52<00:00, 113.74it/s]\n",
      "100%|██████████| 53758/53758 [07:56<00:00, 112.78it/s]\n",
      "100%|██████████| 53758/53758 [07:56<00:00, 112.87it/s]\n",
      "100%|██████████| 53758/53758 [07:54<00:00, 113.21it/s]\n",
      "100%|██████████| 53758/53758 [07:50<00:00, 114.26it/s]\n"
     ]
    }
   ],
   "source": [
    "# # concatenate full background to questions\n",
    "# def q_plus_bg(row):\n",
    "#     return row.question + ' ' + row.background\n",
    "# questions_df['full_query'] = questions_df.apply(q_plus_bg, axis=1)\n",
    "# queries = questions_df.full_query.tolist()\n",
    "\n",
    "# main question only\n",
    "queries = questions_df.question.tolist()\n",
    "\n",
    "def write_results_to_file(query, df, dest_path):\n",
    "    with open(dest_path, 'w') as file:\n",
    "        file.write(query + '\\n\\n')\n",
    "        for i in range(len(df)):\n",
    "            row = df.iloc[i]\n",
    "            file.write(f\"Result #{i+1}: uid {row.cord_uid} \\n\")\n",
    "            file.write(row.title + '\\n')\n",
    "            file.write(f\"Abstract: \\n {row.abstract} \\n\\n\")\n",
    "\n",
    "results_dir = save_directory+filename\n",
    "os.mkdir(results_dir)\n",
    "\n",
    "for i in range(len(queries)):\n",
    "    query = queries[i]\n",
    "    results_df = my_lda.lda_search(query, model, corpus, corpus.dictionary, df)\n",
    "    dest_path = results_dir + f'/q{i}'\n",
    "    write_results_to_file(query, results_df, dest_path) "
   ]
  },
  {
   "cell_type": "code",
   "execution_count": null,
   "id": "e352ccdc-7a67-4545-8170-2f15210b6c12",
   "metadata": {},
   "outputs": [],
   "source": []
  }
 ],
 "metadata": {
  "kernelspec": {
   "display_name": "Python 3",
   "language": "python",
   "name": "python3"
  },
  "language_info": {
   "codemirror_mode": {
    "name": "ipython",
    "version": 3
   },
   "file_extension": ".py",
   "mimetype": "text/x-python",
   "name": "python",
   "nbconvert_exporter": "python",
   "pygments_lexer": "ipython3",
   "version": "3.8.8"
  }
 },
 "nbformat": 4,
 "nbformat_minor": 5
}
