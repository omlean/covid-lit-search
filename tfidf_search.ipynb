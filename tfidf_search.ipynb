{
 "cells": [
  {
   "cell_type": "markdown",
   "id": "5adae888-3a88-4439-928a-7e374f255ed7",
   "metadata": {},
   "source": [
    "## Stage 1: Basic content search by tf-idf"
   ]
  },
  {
   "cell_type": "code",
   "execution_count": 10,
   "id": "210203e2-1664-49df-b3d8-2849f99c4725",
   "metadata": {},
   "outputs": [],
   "source": [
    "import pandas as pd\n",
    "import numpy as np\n",
    "\n",
    "import pickle\n",
    "from scipy.sparse import load_npz\n",
    "\n",
    "import preprocessing"
   ]
  },
  {
   "cell_type": "code",
   "execution_count": 2,
   "id": "5f9b1c50-b0f9-481d-aa2e-bce65e3c5651",
   "metadata": {},
   "outputs": [],
   "source": [
    "# function for cleaning and vectorizing input query\n",
    "def clean_vectorize_query(query_string):\n",
    "    pass"
   ]
  },
  {
   "cell_type": "code",
   "execution_count": 11,
   "id": "a75dd3a8-0310-4c4d-927d-b49843af3cdd",
   "metadata": {},
   "outputs": [
    {
     "data": {
      "text/html": [
       "<div>\n",
       "<style scoped>\n",
       "    .dataframe tbody tr th:only-of-type {\n",
       "        vertical-align: middle;\n",
       "    }\n",
       "\n",
       "    .dataframe tbody tr th {\n",
       "        vertical-align: top;\n",
       "    }\n",
       "\n",
       "    .dataframe thead th {\n",
       "        text-align: right;\n",
       "    }\n",
       "</style>\n",
       "<table border=\"1\" class=\"dataframe\">\n",
       "  <thead>\n",
       "    <tr style=\"text-align: right;\">\n",
       "      <th></th>\n",
       "      <th>question_id</th>\n",
       "      <th>question</th>\n",
       "      <th>query</th>\n",
       "      <th>background</th>\n",
       "    </tr>\n",
       "  </thead>\n",
       "  <tbody>\n",
       "    <tr>\n",
       "      <th>0</th>\n",
       "      <td>EQ101</td>\n",
       "      <td>What features of SARS-CoV2 are targeted in vac...</td>\n",
       "      <td>coronavirus vaccine landscape</td>\n",
       "      <td>Seeking information on guiding principles for ...</td>\n",
       "    </tr>\n",
       "    <tr>\n",
       "      <th>1</th>\n",
       "      <td>EQ102</td>\n",
       "      <td>How do cytokine pathways link sleep and immuni...</td>\n",
       "      <td>Sleep prevent covid</td>\n",
       "      <td>Looking for information on bidirectional inter...</td>\n",
       "    </tr>\n",
       "    <tr>\n",
       "      <th>2</th>\n",
       "      <td>EQ103</td>\n",
       "      <td>When is it safe to discharge a COVID-19 patien...</td>\n",
       "      <td>COVID-19 hospital discharge</td>\n",
       "      <td>Looking for guidelines on discharging COVID-19...</td>\n",
       "    </tr>\n",
       "    <tr>\n",
       "      <th>3</th>\n",
       "      <td>EQ104</td>\n",
       "      <td>What endocrine complications are  linked to CO...</td>\n",
       "      <td>endocrine complications covid-19</td>\n",
       "      <td>Looking for studies investigating whether SARS...</td>\n",
       "    </tr>\n",
       "    <tr>\n",
       "      <th>4</th>\n",
       "      <td>EQ105</td>\n",
       "      <td>What is the duration of protection and immunit...</td>\n",
       "      <td>COVID-19 immunity duration</td>\n",
       "      <td>Looking for longitudinal serological studies t...</td>\n",
       "    </tr>\n",
       "  </tbody>\n",
       "</table>\n",
       "</div>"
      ],
      "text/plain": [
       "  question_id                                           question  \\\n",
       "0       EQ101  What features of SARS-CoV2 are targeted in vac...   \n",
       "1       EQ102  How do cytokine pathways link sleep and immuni...   \n",
       "2       EQ103  When is it safe to discharge a COVID-19 patien...   \n",
       "3       EQ104  What endocrine complications are  linked to CO...   \n",
       "4       EQ105  What is the duration of protection and immunit...   \n",
       "\n",
       "                              query  \\\n",
       "0     coronavirus vaccine landscape   \n",
       "1               Sleep prevent covid   \n",
       "2       COVID-19 hospital discharge   \n",
       "3  endocrine complications covid-19   \n",
       "4        COVID-19 immunity duration   \n",
       "\n",
       "                                          background  \n",
       "0  Seeking information on guiding principles for ...  \n",
       "1  Looking for information on bidirectional inter...  \n",
       "2  Looking for guidelines on discharging COVID-19...  \n",
       "3  Looking for studies investigating whether SARS...  \n",
       "4  Looking for longitudinal serological studies t...  "
      ]
     },
     "execution_count": 11,
     "metadata": {},
     "output_type": "execute_result"
    }
   ],
   "source": [
    "df = pd.read_csv('data/processed/questions_expert.csv', sep='\\t', index_col=0)\n",
    "df.head()"
   ]
  },
  {
   "cell_type": "code",
   "execution_count": 12,
   "id": "aac1fbe6-bcbb-44dd-b0b9-d02d4889f31f",
   "metadata": {},
   "outputs": [],
   "source": [
    "# load vectorizer\n",
    "with open('data/processed/vectorizer_1.pkl', 'rb') as file:\n",
    "    vectorizer = pickle.load(file)"
   ]
  },
  {
   "cell_type": "code",
   "execution_count": 8,
   "id": "a572250d-c167-490c-8492-b7bc99e944ae",
   "metadata": {},
   "outputs": [],
   "source": [
    "s = df.question[0]\n",
    "s = preprocessing.clean_text(s)\n",
    "v = vectorizer.transform([s])"
   ]
  },
  {
   "cell_type": "code",
   "execution_count": 17,
   "id": "663afb27-85e6-4a08-9a2d-26851876886b",
   "metadata": {},
   "outputs": [
    {
     "data": {
      "text/plain": [
       "(1, 381540)"
      ]
     },
     "execution_count": 17,
     "metadata": {},
     "output_type": "execute_result"
    }
   ],
   "source": [
    "v.shape"
   ]
  },
  {
   "cell_type": "code",
   "execution_count": 15,
   "id": "21dd066b-8a91-4069-a1ed-6b9d6c53f7c9",
   "metadata": {},
   "outputs": [],
   "source": [
    "# load term-document matrix \n",
    "X = load_npz('data/processed/tdm_1.npz')"
   ]
  },
  {
   "cell_type": "code",
   "execution_count": 16,
   "id": "4cbfc113-1aa8-48e1-a593-e20b0416e974",
   "metadata": {},
   "outputs": [
    {
     "data": {
      "text/plain": [
       "<506595x405844 sparse matrix of type '<class 'numpy.float64'>'\n",
       "\twith 34920703 stored elements in Compressed Sparse Row format>"
      ]
     },
     "execution_count": 16,
     "metadata": {},
     "output_type": "execute_result"
    }
   ],
   "source": [
    "X"
   ]
  },
  {
   "cell_type": "code",
   "execution_count": null,
   "id": "0eeb43ec-3dc7-40c9-a9c7-9ca7484490ed",
   "metadata": {},
   "outputs": [],
   "source": []
  }
 ],
 "metadata": {
  "kernelspec": {
   "display_name": "Python 3",
   "language": "python",
   "name": "python3"
  },
  "language_info": {
   "codemirror_mode": {
    "name": "ipython",
    "version": 3
   },
   "file_extension": ".py",
   "mimetype": "text/x-python",
   "name": "python",
   "nbconvert_exporter": "python",
   "pygments_lexer": "ipython3",
   "version": "3.9.4"
  }
 },
 "nbformat": 4,
 "nbformat_minor": 5
}
