{
 "cells": [
  {
   "cell_type": "markdown",
   "id": "5adae888-3a88-4439-928a-7e374f255ed7",
   "metadata": {},
   "source": [
    "# Stage 1: Basic content search by tf-idf"
   ]
  },
  {
   "cell_type": "code",
   "execution_count": 8,
   "id": "2e46819b-9ef8-4ba7-bdb0-386fc2ad0a30",
   "metadata": {},
   "outputs": [],
   "source": [
    "import pandas as pd\n",
    "import numpy as np\n",
    "import os\n",
    "from tqdm import tqdm\n",
    "\n",
    "from sklearn.feature_extraction.text import TfidfVectorizer\n",
    "import pickle\n",
    "from scipy.sparse import save_npz, load_npz\n",
    "\n",
    "from scipy.spatial.distance import cosine\n",
    "\n",
    "import preprocessing\n",
    "import tfidf_search"
   ]
  },
  {
   "cell_type": "markdown",
   "id": "2808e820-f7d3-4fe1-a263-f8430eca56bc",
   "metadata": {},
   "source": [
    "## Vectorization "
   ]
  },
  {
   "cell_type": "code",
   "execution_count": 11,
   "id": "49a30e0c-5468-4407-b2e1-7d525518ec05",
   "metadata": {},
   "outputs": [],
   "source": [
    "# load data from file\n",
    "df = pd.read_csv('data/processed/01_full_table.csv', index_col=0, sep='\\t', low_memory=False)"
   ]
  },
  {
   "cell_type": "code",
   "execution_count": 15,
   "id": "94838068-dc38-4c96-a7ff-a0236a005f69",
   "metadata": {},
   "outputs": [],
   "source": [
    "# for now, just remove rows without a search_text\n",
    "df = df[df.search_text.notnull()]"
   ]
  },
  {
   "cell_type": "code",
   "execution_count": 17,
   "id": "9edc0456-1321-43ea-bcb7-ca10bb87e5a3",
   "metadata": {},
   "outputs": [
    {
     "data": {
      "text/html": [
       "<div>\n",
       "<style scoped>\n",
       "    .dataframe tbody tr th:only-of-type {\n",
       "        vertical-align: middle;\n",
       "    }\n",
       "\n",
       "    .dataframe tbody tr th {\n",
       "        vertical-align: top;\n",
       "    }\n",
       "\n",
       "    .dataframe thead th {\n",
       "        text-align: right;\n",
       "    }\n",
       "</style>\n",
       "<table border=\"1\" class=\"dataframe\">\n",
       "  <thead>\n",
       "    <tr style=\"text-align: right;\">\n",
       "      <th></th>\n",
       "      <th>cord_uid</th>\n",
       "      <th>source_x</th>\n",
       "      <th>title</th>\n",
       "      <th>doi</th>\n",
       "      <th>pmcid</th>\n",
       "      <th>pubmed_id</th>\n",
       "      <th>abstract</th>\n",
       "      <th>publish_time</th>\n",
       "      <th>authors</th>\n",
       "      <th>journal</th>\n",
       "      <th>mag_id</th>\n",
       "      <th>who_covidence_id</th>\n",
       "      <th>arxiv_id</th>\n",
       "      <th>pdf_json_files</th>\n",
       "      <th>pmc_json_files</th>\n",
       "      <th>url</th>\n",
       "      <th>s2_id</th>\n",
       "      <th>search_text</th>\n",
       "    </tr>\n",
       "  </thead>\n",
       "  <tbody>\n",
       "    <tr>\n",
       "      <th>0</th>\n",
       "      <td>ug7v899j</td>\n",
       "      <td>PMC</td>\n",
       "      <td>Clinical features of culture-proven Mycoplasma...</td>\n",
       "      <td>10.1186/1471-2334-1-6</td>\n",
       "      <td>PMC35282</td>\n",
       "      <td>11472636</td>\n",
       "      <td>OBJECTIVE: This retrospective chart review des...</td>\n",
       "      <td>2001-07-04 00:00:00</td>\n",
       "      <td>Madani, Tariq A; Al-Ghamdi, Aisha A</td>\n",
       "      <td>BMC Infect Dis</td>\n",
       "      <td>none</td>\n",
       "      <td>none</td>\n",
       "      <td>none</td>\n",
       "      <td>document_parses/pdf_json/d1aafb70c066a2068b027...</td>\n",
       "      <td>document_parses/pmc_json/PMC35282.xml.json</td>\n",
       "      <td>https://www.ncbi.nlm.nih.gov/pmc/articles/PMC3...</td>\n",
       "      <td>none</td>\n",
       "      <td>clinical feature culture prove mycoplasma pneu...</td>\n",
       "    </tr>\n",
       "    <tr>\n",
       "      <th>1</th>\n",
       "      <td>02tnwd4m</td>\n",
       "      <td>PMC</td>\n",
       "      <td>Nitric oxide: a pro-inflammatory mediator in l...</td>\n",
       "      <td>10.1186/rr14</td>\n",
       "      <td>PMC59543</td>\n",
       "      <td>11667967</td>\n",
       "      <td>Inflammatory diseases of the respiratory tract...</td>\n",
       "      <td>2000-08-15 00:00:00</td>\n",
       "      <td>Vliet, Albert van der; Eiserich, Jason P; Cros...</td>\n",
       "      <td>Respir Res</td>\n",
       "      <td>none</td>\n",
       "      <td>none</td>\n",
       "      <td>none</td>\n",
       "      <td>document_parses/pdf_json/6b0567729c2143a66d737...</td>\n",
       "      <td>document_parses/pmc_json/PMC59543.xml.json</td>\n",
       "      <td>https://www.ncbi.nlm.nih.gov/pmc/articles/PMC5...</td>\n",
       "      <td>none</td>\n",
       "      <td>nitric oxide pro inflammatory mediator lung di...</td>\n",
       "    </tr>\n",
       "    <tr>\n",
       "      <th>2</th>\n",
       "      <td>ejv2xln0</td>\n",
       "      <td>PMC</td>\n",
       "      <td>Surfactant protein-D and pulmonary host defense</td>\n",
       "      <td>10.1186/rr19</td>\n",
       "      <td>PMC59549</td>\n",
       "      <td>11667972</td>\n",
       "      <td>Surfactant protein-D (SP-D) participates in th...</td>\n",
       "      <td>2000-08-25 00:00:00</td>\n",
       "      <td>Crouch, Erika C</td>\n",
       "      <td>Respir Res</td>\n",
       "      <td>none</td>\n",
       "      <td>none</td>\n",
       "      <td>none</td>\n",
       "      <td>document_parses/pdf_json/06ced00a5fc04215949aa...</td>\n",
       "      <td>document_parses/pmc_json/PMC59549.xml.json</td>\n",
       "      <td>https://www.ncbi.nlm.nih.gov/pmc/articles/PMC5...</td>\n",
       "      <td>none</td>\n",
       "      <td>surfactant protein d pulmonary host defense su...</td>\n",
       "    </tr>\n",
       "    <tr>\n",
       "      <th>3</th>\n",
       "      <td>2b73a28n</td>\n",
       "      <td>PMC</td>\n",
       "      <td>Role of endothelin-1 in lung disease</td>\n",
       "      <td>10.1186/rr44</td>\n",
       "      <td>PMC59574</td>\n",
       "      <td>11686871</td>\n",
       "      <td>Endothelin-1 (ET-1) is a 21 amino acid peptide...</td>\n",
       "      <td>2001-02-22 00:00:00</td>\n",
       "      <td>Fagan, Karen A; McMurtry, Ivan F; Rodman, David M</td>\n",
       "      <td>Respir Res</td>\n",
       "      <td>none</td>\n",
       "      <td>none</td>\n",
       "      <td>none</td>\n",
       "      <td>document_parses/pdf_json/348055649b6b8cf2b9a37...</td>\n",
       "      <td>document_parses/pmc_json/PMC59574.xml.json</td>\n",
       "      <td>https://www.ncbi.nlm.nih.gov/pmc/articles/PMC5...</td>\n",
       "      <td>none</td>\n",
       "      <td>role endothelin lung disease endothelin et ami...</td>\n",
       "    </tr>\n",
       "    <tr>\n",
       "      <th>4</th>\n",
       "      <td>9785vg6d</td>\n",
       "      <td>PMC</td>\n",
       "      <td>Gene expression in epithelial cells in respons...</td>\n",
       "      <td>10.1186/rr61</td>\n",
       "      <td>PMC59580</td>\n",
       "      <td>11686888</td>\n",
       "      <td>Respiratory syncytial virus (RSV) and pneumoni...</td>\n",
       "      <td>2001-05-11 00:00:00</td>\n",
       "      <td>Domachowske, Joseph B; Bonville, Cynthia A; Ro...</td>\n",
       "      <td>Respir Res</td>\n",
       "      <td>none</td>\n",
       "      <td>none</td>\n",
       "      <td>none</td>\n",
       "      <td>document_parses/pdf_json/5f48792a5fa08bed9f560...</td>\n",
       "      <td>document_parses/pmc_json/PMC59580.xml.json</td>\n",
       "      <td>https://www.ncbi.nlm.nih.gov/pmc/articles/PMC5...</td>\n",
       "      <td>none</td>\n",
       "      <td>gene expression epithelial cells response pneu...</td>\n",
       "    </tr>\n",
       "  </tbody>\n",
       "</table>\n",
       "</div>"
      ],
      "text/plain": [
       "   cord_uid source_x                                              title  \\\n",
       "0  ug7v899j      PMC  Clinical features of culture-proven Mycoplasma...   \n",
       "1  02tnwd4m      PMC  Nitric oxide: a pro-inflammatory mediator in l...   \n",
       "2  ejv2xln0      PMC    Surfactant protein-D and pulmonary host defense   \n",
       "3  2b73a28n      PMC               Role of endothelin-1 in lung disease   \n",
       "4  9785vg6d      PMC  Gene expression in epithelial cells in respons...   \n",
       "\n",
       "                     doi     pmcid pubmed_id  \\\n",
       "0  10.1186/1471-2334-1-6  PMC35282  11472636   \n",
       "1           10.1186/rr14  PMC59543  11667967   \n",
       "2           10.1186/rr19  PMC59549  11667972   \n",
       "3           10.1186/rr44  PMC59574  11686871   \n",
       "4           10.1186/rr61  PMC59580  11686888   \n",
       "\n",
       "                                            abstract         publish_time  \\\n",
       "0  OBJECTIVE: This retrospective chart review des...  2001-07-04 00:00:00   \n",
       "1  Inflammatory diseases of the respiratory tract...  2000-08-15 00:00:00   \n",
       "2  Surfactant protein-D (SP-D) participates in th...  2000-08-25 00:00:00   \n",
       "3  Endothelin-1 (ET-1) is a 21 amino acid peptide...  2001-02-22 00:00:00   \n",
       "4  Respiratory syncytial virus (RSV) and pneumoni...  2001-05-11 00:00:00   \n",
       "\n",
       "                                             authors         journal mag_id  \\\n",
       "0                Madani, Tariq A; Al-Ghamdi, Aisha A  BMC Infect Dis   none   \n",
       "1  Vliet, Albert van der; Eiserich, Jason P; Cros...      Respir Res   none   \n",
       "2                                    Crouch, Erika C      Respir Res   none   \n",
       "3  Fagan, Karen A; McMurtry, Ivan F; Rodman, David M      Respir Res   none   \n",
       "4  Domachowske, Joseph B; Bonville, Cynthia A; Ro...      Respir Res   none   \n",
       "\n",
       "  who_covidence_id arxiv_id  \\\n",
       "0             none     none   \n",
       "1             none     none   \n",
       "2             none     none   \n",
       "3             none     none   \n",
       "4             none     none   \n",
       "\n",
       "                                      pdf_json_files  \\\n",
       "0  document_parses/pdf_json/d1aafb70c066a2068b027...   \n",
       "1  document_parses/pdf_json/6b0567729c2143a66d737...   \n",
       "2  document_parses/pdf_json/06ced00a5fc04215949aa...   \n",
       "3  document_parses/pdf_json/348055649b6b8cf2b9a37...   \n",
       "4  document_parses/pdf_json/5f48792a5fa08bed9f560...   \n",
       "\n",
       "                               pmc_json_files  \\\n",
       "0  document_parses/pmc_json/PMC35282.xml.json   \n",
       "1  document_parses/pmc_json/PMC59543.xml.json   \n",
       "2  document_parses/pmc_json/PMC59549.xml.json   \n",
       "3  document_parses/pmc_json/PMC59574.xml.json   \n",
       "4  document_parses/pmc_json/PMC59580.xml.json   \n",
       "\n",
       "                                                 url s2_id  \\\n",
       "0  https://www.ncbi.nlm.nih.gov/pmc/articles/PMC3...  none   \n",
       "1  https://www.ncbi.nlm.nih.gov/pmc/articles/PMC5...  none   \n",
       "2  https://www.ncbi.nlm.nih.gov/pmc/articles/PMC5...  none   \n",
       "3  https://www.ncbi.nlm.nih.gov/pmc/articles/PMC5...  none   \n",
       "4  https://www.ncbi.nlm.nih.gov/pmc/articles/PMC5...  none   \n",
       "\n",
       "                                         search_text  \n",
       "0  clinical feature culture prove mycoplasma pneu...  \n",
       "1  nitric oxide pro inflammatory mediator lung di...  \n",
       "2  surfactant protein d pulmonary host defense su...  \n",
       "3  role endothelin lung disease endothelin et ami...  \n",
       "4  gene expression epithelial cells response pneu...  "
      ]
     },
     "execution_count": 17,
     "metadata": {},
     "output_type": "execute_result"
    }
   ],
   "source": [
    "df.head()"
   ]
  },
  {
   "cell_type": "code",
   "execution_count": 18,
   "id": "9f9babd1-73a2-4b1b-b015-b65dd79bf6ae",
   "metadata": {},
   "outputs": [
    {
     "name": "stdout",
     "output_type": "stream",
     "text": [
      "Vectorizer picked at  data/processed/02_vectorizer.pkl\n",
      "Term-document matrix saved at  data/processed/02_tdm.npz\n"
     ]
    }
   ],
   "source": [
    "# create vectorizer and term-document matrix\n",
    "path = 'data/processed/'\n",
    "documents = df.search_text\n",
    "vectorizer, tdm = tfidf_search.tfidf_vectorize(documents, pickle_path=path,\n",
    "                                              save_files_prefix=\"02\")"
   ]
  },
  {
   "cell_type": "markdown",
   "id": "790f9b6c-41cd-4bba-8f12-87d957ea91a3",
   "metadata": {},
   "source": [
    "### Input query"
   ]
  },
  {
   "cell_type": "code",
   "execution_count": 19,
   "id": "b20aee44-6e14-4b59-8c6f-600df7bf1ccf",
   "metadata": {},
   "outputs": [],
   "source": [
    "query_df = pd.read_csv('data/processed/questions_expert.csv', sep='\\t', index_col=0)\n",
    "index = df['cord_uid']\n",
    "\n",
    "vectorizer = tfidf_search.load_vectorizer('data/processed/02_vectorizer.pkl')\n",
    "tdm = load_npz('data/processed/02_tdm.npz') # load term-document matrix "
   ]
  },
  {
   "cell_type": "code",
   "execution_count": 64,
   "id": "e3471339-aa9b-4292-94d0-71300ece1d31",
   "metadata": {},
   "outputs": [
    {
     "name": "stdout",
     "output_type": "stream",
     "text": [
      "Input query: How do cytokine pathways link sleep and immunity to infection and COVID-19?\n"
     ]
    }
   ],
   "source": [
    "query = query_df.question[1]\n",
    "print(\"Input query:\", query)"
   ]
  },
  {
   "cell_type": "code",
   "execution_count": 21,
   "id": "f821e171-4808-426c-91af-2a3a89974ed4",
   "metadata": {},
   "outputs": [
    {
     "name": "stderr",
     "output_type": "stream",
     "text": [
      "  0%|          | 23/508040 [00:00<37:32, 225.58it/s]"
     ]
    },
    {
     "name": "stdout",
     "output_type": "stream",
     "text": [
      "Vectorized search query\n",
      "Computing document similarity...\n"
     ]
    },
    {
     "name": "stderr",
     "output_type": "stream",
     "text": [
      " 95%|█████████▌| 484995/508040 [21:16<01:04, 358.93it/s]/home/omlean/anaconda3/envs/lhfinal/lib/python3.9/site-packages/scipy/spatial/distance.py:728: RuntimeWarning: invalid value encountered in double_scalars\n",
      "  dist = 1.0 - uv / np.sqrt(uu * vv)\n",
      "100%|██████████| 508040/508040 [22:20<00:00, 378.87it/s]\n"
     ]
    },
    {
     "name": "stdout",
     "output_type": "stream",
     "text": [
      "Complete\n",
      "Returned top 5 results.\n"
     ]
    }
   ],
   "source": [
    "uids = tfidf_search.tfidf_search(query, vectorizer, tdm, index)"
   ]
  },
  {
   "cell_type": "code",
   "execution_count": 22,
   "id": "983d6559-05b8-4f68-9618-32627ef99b6d",
   "metadata": {},
   "outputs": [
    {
     "data": {
      "text/plain": [
       "['wt4crton', 'vdd88nwl', '1ansnm46', 'wtbu91hz', '9dpe3zq1']"
      ]
     },
     "execution_count": 22,
     "metadata": {},
     "output_type": "execute_result"
    }
   ],
   "source": [
    "list(uids.values)"
   ]
  },
  {
   "cell_type": "code",
   "execution_count": 65,
   "id": "99d6a7b5-b1ef-403b-9d96-0371066bc16e",
   "metadata": {},
   "outputs": [
    {
     "name": "stdout",
     "output_type": "stream",
     "text": [
      "Search results saved to data/processed/02_singleq_search_record.txt\n"
     ]
    }
   ],
   "source": [
    "tfidwrite_details(query, uids, df, '02_singleq')"
   ]
  },
  {
   "cell_type": "code",
   "execution_count": null,
   "id": "fcbb6d85-ea59-41be-928d-49276e260287",
   "metadata": {},
   "outputs": [],
   "source": []
  }
 ],
 "metadata": {
  "kernelspec": {
   "display_name": "Python 3",
   "language": "python",
   "name": "python3"
  },
  "language_info": {
   "codemirror_mode": {
    "name": "ipython",
    "version": 3
   },
   "file_extension": ".py",
   "mimetype": "text/x-python",
   "name": "python",
   "nbconvert_exporter": "python",
   "pygments_lexer": "ipython3",
   "version": "3.9.4"
  }
 },
 "nbformat": 4,
 "nbformat_minor": 5
}
