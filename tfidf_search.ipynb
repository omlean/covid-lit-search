{
 "cells": [
  {
   "cell_type": "markdown",
   "id": "5adae888-3a88-4439-928a-7e374f255ed7",
   "metadata": {},
   "source": [
    "# Stage 1: Basic content search by tf-idf"
   ]
  },
  {
   "cell_type": "code",
   "execution_count": 1,
   "id": "2e46819b-9ef8-4ba7-bdb0-386fc2ad0a30",
   "metadata": {},
   "outputs": [],
   "source": [
    "import pandas as pd\n",
    "import numpy as np\n",
    "import os\n",
    "from tqdm import tqdm\n",
    "\n",
    "from sklearn.feature_extraction.text import TfidfVectorizer\n",
    "import pickle\n",
    "from scipy.sparse import save_npz, load_npz, csr_matrix\n",
    "\n",
    "from scipy.spatial.distance import cosine\n",
    "\n",
    "import preprocessing\n",
    "import my_tfidf"
   ]
  },
  {
   "cell_type": "code",
   "execution_count": 2,
   "id": "31373aeb-4d8b-456e-b80a-c957ec3a0723",
   "metadata": {},
   "outputs": [],
   "source": [
    "dtypes = {'cord_uid': str, 'sha': str, 'source_x': str, 'title': str, 'doi': str, 'pmcid': str, 'pubmed_id': str,\n",
    "       'license': str, 'abstract': str, 'publish_time': str, 'authors': str, 'journal': str, 'mag_id': str,\n",
    "       'who_covidence_id': str, 'arxiv_id': str, 'pdf_json_files': str, 'pmc_json_files': str,\n",
    "       'url': str, 's2_id': str, 'search_text': str, 'date': str}"
   ]
  },
  {
   "cell_type": "code",
   "execution_count": 3,
   "id": "dfbbcb61-2e1a-424b-a319-992efebd6ac3",
   "metadata": {},
   "outputs": [],
   "source": [
    "# load dataframe, filter only papers from 2021\n",
    "path = 'data/processed/metadata_clean.csv.gz'\n",
    "data = pd.read_csv(path, sep='\\t', dtype=dtypes)\n",
    "data.date = pd.to_datetime(data.date)\n",
    "data = data[data.date.apply(lambda x: x.year == 2021)]\n",
    "\n",
    "data = data[['cord_uid', 'date', 'title', 'abstract', 'authors', 'doi',\n",
    "      'url', 'pdf_json_files', 'pmc_json_files', 'search_text']]\n",
    "documents = data.search_text\n",
    "index = data['cord_uid'].values"
   ]
  },
  {
   "cell_type": "code",
   "execution_count": 4,
   "id": "e568471a-c7ba-43ee-94ca-3b71dfea65b1",
   "metadata": {},
   "outputs": [],
   "source": [
    "# data.to_csv('results/final_models/metadata_2021.csv.gz', index=False, sep='\\t', compression='gzip')"
   ]
  },
  {
   "cell_type": "markdown",
   "id": "69a1cf86-6cb9-451f-a4e5-44089d2fbe6b",
   "metadata": {},
   "source": [
    "### Vectorize"
   ]
  },
  {
   "cell_type": "code",
   "execution_count": 5,
   "id": "df41261b-239b-4aa1-b8fb-f5a3b3acdafe",
   "metadata": {},
   "outputs": [
    {
     "name": "stdin",
     "output_type": "stream",
     "text": [
      "Files by that name already exist. Enter another prefix... 2021\n"
     ]
    },
    {
     "name": "stdout",
     "output_type": "stream",
     "text": [
      "Vectorizer pickled at  results/final_models/2021vectorizer.pkl\n"
     ]
    }
   ],
   "source": [
    "path = 'results/final_models/'\n",
    "\n",
    "vectorizer = my_tfidf.make_vectorizer(documents, pickle_path=path, save_files_prefix=\"_2021\")\n",
    "# vectorizer = my_tfidf.load_vectorizer(path + 'vectorizer.pkl')\n",
    "\n",
    "tdm = vectorizer.transform(documents)\n",
    "save_npz(path + '2021_tdm.npz', tdm)\n",
    "# tdm = load_npz(path + '2021_tdm.npz')"
   ]
  },
  {
   "cell_type": "markdown",
   "id": "b448fca8-cb24-4eb9-aada-37b4dc52440f",
   "metadata": {},
   "source": [
    "### Run search on queries"
   ]
  },
  {
   "cell_type": "code",
   "execution_count": 6,
   "id": "b2d1d4a4-0715-4f9e-8bc2-60264cf741b7",
   "metadata": {},
   "outputs": [],
   "source": [
    "def search_write_queries(queries, vectorizer, tdm, index, metadata, save_directory, num_top_results=5):\n",
    "    \n",
    "    def write_results(results_df, query, save_directory, filename):\n",
    "        path = save_directory + filename\n",
    "        with open(path, 'w') as file:\n",
    "            file.write(query + '\\n\\n\\n')\n",
    "            for i in range(len(results)):\n",
    "                row = results.iloc[i]\n",
    "                file.write(f'Result {i+1}: uid {row.cord_uid}\\n\\n{row.title}\\n\\n{row.abstract}\\n\\n\\n')\n",
    "    \n",
    "    \n",
    "    for i in range(len(queries)):\n",
    "        query = queries[i]\n",
    "        results = my_tfidf.tfidf_search(query, vectorizer, tdm, index, \n",
    "                                        metadata, num_top_results=5)\n",
    "        filename = f'q{i}'\n",
    "        write_results(results, query, save_directory, filename)    "
   ]
  },
  {
   "cell_type": "code",
   "execution_count": 7,
   "id": "cba14a39-db63-4e5e-af80-ce84a1500e1f",
   "metadata": {},
   "outputs": [
    {
     "name": "stderr",
     "output_type": "stream",
     "text": [
      "  0%|          | 186/53758 [00:00<00:28, 1856.31it/s]"
     ]
    },
    {
     "name": "stdout",
     "output_type": "stream",
     "text": [
      "Vectorized search query\n"
     ]
    },
    {
     "name": "stderr",
     "output_type": "stream",
     "text": [
      "100%|██████████| 53758/53758 [00:30<00:00, 1786.51it/s]\n",
      "  0%|          | 181/53758 [00:00<00:29, 1786.31it/s]"
     ]
    },
    {
     "name": "stdout",
     "output_type": "stream",
     "text": [
      "Vectorized search query\n"
     ]
    },
    {
     "name": "stderr",
     "output_type": "stream",
     "text": [
      "100%|██████████| 53758/53758 [00:31<00:00, 1718.84it/s]\n",
      "  0%|          | 179/53758 [00:00<00:29, 1789.63it/s]"
     ]
    },
    {
     "name": "stdout",
     "output_type": "stream",
     "text": [
      "Vectorized search query\n"
     ]
    },
    {
     "name": "stderr",
     "output_type": "stream",
     "text": [
      "100%|██████████| 53758/53758 [00:32<00:00, 1656.91it/s]\n",
      "  0%|          | 168/53758 [00:00<00:32, 1672.07it/s]"
     ]
    },
    {
     "name": "stdout",
     "output_type": "stream",
     "text": [
      "Vectorized search query\n"
     ]
    },
    {
     "name": "stderr",
     "output_type": "stream",
     "text": [
      "100%|██████████| 53758/53758 [00:31<00:00, 1693.73it/s]\n",
      "  0%|          | 174/53758 [00:00<00:30, 1733.51it/s]"
     ]
    },
    {
     "name": "stdout",
     "output_type": "stream",
     "text": [
      "Vectorized search query\n"
     ]
    },
    {
     "name": "stderr",
     "output_type": "stream",
     "text": [
      "100%|██████████| 53758/53758 [00:44<00:00, 1220.28it/s]\n",
      "  0%|          | 137/53758 [00:00<00:39, 1367.75it/s]"
     ]
    },
    {
     "name": "stdout",
     "output_type": "stream",
     "text": [
      "Vectorized search query\n"
     ]
    },
    {
     "name": "stderr",
     "output_type": "stream",
     "text": [
      "100%|██████████| 53758/53758 [00:33<00:00, 1625.73it/s]\n",
      "  0%|          | 172/53758 [00:00<00:31, 1714.09it/s]"
     ]
    },
    {
     "name": "stdout",
     "output_type": "stream",
     "text": [
      "Vectorized search query\n"
     ]
    },
    {
     "name": "stderr",
     "output_type": "stream",
     "text": [
      "100%|██████████| 53758/53758 [00:31<00:00, 1711.92it/s]\n",
      "  0%|          | 138/53758 [00:00<00:38, 1378.20it/s]"
     ]
    },
    {
     "name": "stdout",
     "output_type": "stream",
     "text": [
      "Vectorized search query\n"
     ]
    },
    {
     "name": "stderr",
     "output_type": "stream",
     "text": [
      "100%|██████████| 53758/53758 [00:37<00:00, 1419.15it/s]\n",
      "  0%|          | 190/53758 [00:00<00:28, 1895.01it/s]"
     ]
    },
    {
     "name": "stdout",
     "output_type": "stream",
     "text": [
      "Vectorized search query\n"
     ]
    },
    {
     "name": "stderr",
     "output_type": "stream",
     "text": [
      "100%|██████████| 53758/53758 [00:30<00:00, 1774.46it/s]\n",
      "  0%|          | 190/53758 [00:00<00:28, 1892.42it/s]"
     ]
    },
    {
     "name": "stdout",
     "output_type": "stream",
     "text": [
      "Vectorized search query\n"
     ]
    },
    {
     "name": "stderr",
     "output_type": "stream",
     "text": [
      "100%|██████████| 53758/53758 [00:31<00:00, 1705.11it/s]\n",
      "  0%|          | 150/53758 [00:00<00:35, 1492.06it/s]"
     ]
    },
    {
     "name": "stdout",
     "output_type": "stream",
     "text": [
      "Vectorized search query\n"
     ]
    },
    {
     "name": "stderr",
     "output_type": "stream",
     "text": [
      "100%|██████████| 53758/53758 [00:32<00:00, 1652.87it/s]\n",
      "  0%|          | 118/53758 [00:00<00:45, 1173.64it/s]"
     ]
    },
    {
     "name": "stdout",
     "output_type": "stream",
     "text": [
      "Vectorized search query\n"
     ]
    },
    {
     "name": "stderr",
     "output_type": "stream",
     "text": [
      "100%|██████████| 53758/53758 [00:31<00:00, 1685.23it/s]\n",
      "  0%|          | 185/53758 [00:00<00:29, 1844.68it/s]"
     ]
    },
    {
     "name": "stdout",
     "output_type": "stream",
     "text": [
      "Vectorized search query\n"
     ]
    },
    {
     "name": "stderr",
     "output_type": "stream",
     "text": [
      "100%|██████████| 53758/53758 [00:40<00:00, 1329.47it/s]\n",
      "  0%|          | 154/53758 [00:00<00:34, 1532.06it/s]"
     ]
    },
    {
     "name": "stdout",
     "output_type": "stream",
     "text": [
      "Vectorized search query\n"
     ]
    },
    {
     "name": "stderr",
     "output_type": "stream",
     "text": [
      "100%|██████████| 53758/53758 [00:33<00:00, 1607.48it/s]\n",
      "  0%|          | 192/53758 [00:00<00:27, 1917.43it/s]"
     ]
    },
    {
     "name": "stdout",
     "output_type": "stream",
     "text": [
      "Vectorized search query\n"
     ]
    },
    {
     "name": "stderr",
     "output_type": "stream",
     "text": [
      "100%|██████████| 53758/53758 [00:33<00:00, 1611.24it/s]\n",
      "  0%|          | 34/53758 [00:00<02:38, 339.05it/s]"
     ]
    },
    {
     "name": "stdout",
     "output_type": "stream",
     "text": [
      "Vectorized search query\n"
     ]
    },
    {
     "name": "stderr",
     "output_type": "stream",
     "text": [
      "100%|██████████| 53758/53758 [00:34<00:00, 1577.12it/s]\n",
      "  0%|          | 186/53758 [00:00<00:28, 1851.13it/s]"
     ]
    },
    {
     "name": "stdout",
     "output_type": "stream",
     "text": [
      "Vectorized search query\n"
     ]
    },
    {
     "name": "stderr",
     "output_type": "stream",
     "text": [
      "100%|██████████| 53758/53758 [00:29<00:00, 1797.38it/s]\n",
      "  0%|          | 180/53758 [00:00<00:29, 1794.08it/s]"
     ]
    },
    {
     "name": "stdout",
     "output_type": "stream",
     "text": [
      "Vectorized search query\n"
     ]
    },
    {
     "name": "stderr",
     "output_type": "stream",
     "text": [
      "100%|██████████| 53758/53758 [00:33<00:00, 1611.29it/s]\n",
      "  0%|          | 147/53758 [00:00<00:36, 1461.52it/s]"
     ]
    },
    {
     "name": "stdout",
     "output_type": "stream",
     "text": [
      "Vectorized search query\n"
     ]
    },
    {
     "name": "stderr",
     "output_type": "stream",
     "text": [
      "100%|██████████| 53758/53758 [00:33<00:00, 1597.42it/s]\n",
      "  0%|          | 155/53758 [00:00<00:34, 1548.40it/s]"
     ]
    },
    {
     "name": "stdout",
     "output_type": "stream",
     "text": [
      "Vectorized search query\n"
     ]
    },
    {
     "name": "stderr",
     "output_type": "stream",
     "text": [
      "100%|██████████| 53758/53758 [00:34<00:00, 1546.90it/s]\n",
      "  0%|          | 188/53758 [00:00<00:28, 1878.25it/s]"
     ]
    },
    {
     "name": "stdout",
     "output_type": "stream",
     "text": [
      "Vectorized search query\n"
     ]
    },
    {
     "name": "stderr",
     "output_type": "stream",
     "text": [
      "100%|██████████| 53758/53758 [00:32<00:00, 1676.60it/s]\n",
      "  0%|          | 167/53758 [00:00<00:32, 1668.98it/s]"
     ]
    },
    {
     "name": "stdout",
     "output_type": "stream",
     "text": [
      "Vectorized search query\n"
     ]
    },
    {
     "name": "stderr",
     "output_type": "stream",
     "text": [
      "100%|██████████| 53758/53758 [00:39<00:00, 1358.43it/s]\n",
      "  0%|          | 170/53758 [00:00<00:31, 1693.27it/s]"
     ]
    },
    {
     "name": "stdout",
     "output_type": "stream",
     "text": [
      "Vectorized search query\n"
     ]
    },
    {
     "name": "stderr",
     "output_type": "stream",
     "text": [
      "100%|██████████| 53758/53758 [00:32<00:00, 1658.83it/s]\n",
      "  0%|          | 167/53758 [00:00<00:32, 1663.41it/s]"
     ]
    },
    {
     "name": "stdout",
     "output_type": "stream",
     "text": [
      "Vectorized search query\n"
     ]
    },
    {
     "name": "stderr",
     "output_type": "stream",
     "text": [
      "100%|██████████| 53758/53758 [00:33<00:00, 1612.88it/s]\n",
      "  0%|          | 164/53758 [00:00<00:32, 1627.66it/s]"
     ]
    },
    {
     "name": "stdout",
     "output_type": "stream",
     "text": [
      "Vectorized search query\n"
     ]
    },
    {
     "name": "stderr",
     "output_type": "stream",
     "text": [
      "100%|██████████| 53758/53758 [00:31<00:00, 1689.28it/s]\n",
      "  0%|          | 166/53758 [00:00<00:32, 1653.56it/s]"
     ]
    },
    {
     "name": "stdout",
     "output_type": "stream",
     "text": [
      "Vectorized search query\n"
     ]
    },
    {
     "name": "stderr",
     "output_type": "stream",
     "text": [
      "100%|██████████| 53758/53758 [00:31<00:00, 1719.86it/s]\n",
      "  0%|          | 176/53758 [00:00<00:30, 1751.73it/s]"
     ]
    },
    {
     "name": "stdout",
     "output_type": "stream",
     "text": [
      "Vectorized search query\n"
     ]
    },
    {
     "name": "stderr",
     "output_type": "stream",
     "text": [
      "100%|██████████| 53758/53758 [00:32<00:00, 1648.24it/s]\n",
      "  0%|          | 170/53758 [00:00<00:31, 1698.18it/s]"
     ]
    },
    {
     "name": "stdout",
     "output_type": "stream",
     "text": [
      "Vectorized search query\n"
     ]
    },
    {
     "name": "stderr",
     "output_type": "stream",
     "text": [
      "100%|██████████| 53758/53758 [00:31<00:00, 1709.61it/s]\n",
      "  0%|          | 170/53758 [00:00<00:31, 1692.07it/s]"
     ]
    },
    {
     "name": "stdout",
     "output_type": "stream",
     "text": [
      "Vectorized search query\n"
     ]
    },
    {
     "name": "stderr",
     "output_type": "stream",
     "text": [
      "100%|██████████| 53758/53758 [00:32<00:00, 1633.85it/s]\n",
      "  0%|          | 168/53758 [00:00<00:32, 1672.66it/s]"
     ]
    },
    {
     "name": "stdout",
     "output_type": "stream",
     "text": [
      "Vectorized search query\n"
     ]
    },
    {
     "name": "stderr",
     "output_type": "stream",
     "text": [
      "100%|██████████| 53758/53758 [00:32<00:00, 1641.06it/s]\n"
     ]
    }
   ],
   "source": [
    "queries = pd.read_csv('data/processed/questions_expert.csv', sep='\\t', index_col=0).question.values\n",
    "save_directory = 'results/final_models/tfidf_results/'\n",
    "\n",
    "search_write_queries(queries, vectorizer, tdm, index, data, save_directory)"
   ]
  },
  {
   "cell_type": "code",
   "execution_count": null,
   "id": "d96ccfac-76aa-4249-aa21-cd617a4d926a",
   "metadata": {},
   "outputs": [],
   "source": []
  }
 ],
 "metadata": {
  "kernelspec": {
   "display_name": "Python 3",
   "language": "python",
   "name": "python3"
  },
  "language_info": {
   "codemirror_mode": {
    "name": "ipython",
    "version": 3
   },
   "file_extension": ".py",
   "mimetype": "text/x-python",
   "name": "python",
   "nbconvert_exporter": "python",
   "pygments_lexer": "ipython3",
   "version": "3.8.8"
  }
 },
 "nbformat": 4,
 "nbformat_minor": 5
}
