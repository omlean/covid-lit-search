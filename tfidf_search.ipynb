{
 "cells": [
  {
   "cell_type": "markdown",
   "id": "5adae888-3a88-4439-928a-7e374f255ed7",
   "metadata": {},
   "source": [
    "# Stage 1: Basic content search by tf-idf"
   ]
  },
  {
   "cell_type": "code",
   "execution_count": 2,
   "id": "2e46819b-9ef8-4ba7-bdb0-386fc2ad0a30",
   "metadata": {},
   "outputs": [],
   "source": [
    "import pandas as pd\n",
    "import numpy as np\n",
    "import os\n",
    "from tqdm import tqdm\n",
    "\n",
    "from sklearn.feature_extraction.text import TfidfVectorizer\n",
    "import pickle\n",
    "from scipy.sparse import save_npz, load_npz, csr_matrix\n",
    "\n",
    "from scipy.spatial.distance import cosine\n",
    "\n",
    "import preprocessing\n",
    "import my_tfidf"
   ]
  },
  {
   "cell_type": "code",
   "execution_count": 3,
   "id": "31373aeb-4d8b-456e-b80a-c957ec3a0723",
   "metadata": {},
   "outputs": [],
   "source": [
    "dtypes = {'cord_uid': str, 'sha': str, 'source_x': str, 'title': str, 'doi': str, 'pmcid': str, 'pubmed_id': str,\n",
    "       'license': str, 'abstract': str, 'publish_time': str, 'authors': str, 'journal': str, 'mag_id': str,\n",
    "       'who_covidence_id': str, 'arxiv_id': str, 'pdf_json_files': str, 'pmc_json_files': str,\n",
    "       'url': str, 's2_id': str, 'search_text': str, 'date': str}"
   ]
  },
  {
   "cell_type": "code",
   "execution_count": 4,
   "id": "dfbbcb61-2e1a-424b-a319-992efebd6ac3",
   "metadata": {},
   "outputs": [],
   "source": [
    "# load dataframe, filter only papers from 2021\n",
    "path = 'data/processed/metadata_clean.csv.gz'\n",
    "data = pd.read_csv(path, sep='\\t', dtype=dtypes)\n",
    "data.date = pd.to_datetime(data.date)\n",
    "data = data[data.date.apply(lambda x: x.year == 2021)]\n",
    "\n",
    "data = data[['cord_uid', 'date', 'title', 'abstract', 'authors', 'doi',\n",
    "      'url', 'pdf_json_files', 'pmc_json_files', 'search_text']]\n",
    "documents = data.search_text\n",
    "index = data['cord_uid'].values"
   ]
  },
  {
   "cell_type": "code",
   "execution_count": 25,
   "id": "e568471a-c7ba-43ee-94ca-3b71dfea65b1",
   "metadata": {},
   "outputs": [],
   "source": [
    "# data.to_csv('results/final_models/metadata_2021.csv.gz', index=False, sep='\\t', compression='gzip')"
   ]
  },
  {
   "cell_type": "markdown",
   "id": "69a1cf86-6cb9-451f-a4e5-44089d2fbe6b",
   "metadata": {},
   "source": [
    "### Vectorize"
   ]
  },
  {
   "cell_type": "code",
   "execution_count": 5,
   "id": "df41261b-239b-4aa1-b8fb-f5a3b3acdafe",
   "metadata": {},
   "outputs": [
    {
     "name": "stdout",
     "output_type": "stream",
     "text": [
      "Vectorizer pickled at  results/final_models/2021vectorizer.pkl\n"
     ]
    }
   ],
   "source": [
    "path = 'results/final_models/'\n",
    "\n",
    "vectorizer = my_tfidf.make_vectorizer(documents, pickle_path=path, save_files_prefix=\"2021\")\n",
    "# vectorizer = my_tfidf.load_vectorizer(path + 'vectorizer.pkl')\n",
    "\n",
    "tdm = vectorizer.transform(documents)\n",
    "save_npz(path + '2021_tdm.npz', tdm)\n",
    "# tdm = load_npz(path + '2021_tdm.npz')"
   ]
  },
  {
   "cell_type": "markdown",
   "id": "b448fca8-cb24-4eb9-aada-37b4dc52440f",
   "metadata": {},
   "source": [
    "### Run search on queries"
   ]
  },
  {
   "cell_type": "code",
   "execution_count": 23,
   "id": "b2d1d4a4-0715-4f9e-8bc2-60264cf741b7",
   "metadata": {},
   "outputs": [],
   "source": [
    "def search_write_queries(queries, vectorizer, tdm, index, metadata, save_directory, num_top_results=5):\n",
    "    \n",
    "    def write_results(results_df, query, save_directory, filename):\n",
    "        path = save_directory + filename\n",
    "        with open(path, 'w') as file:\n",
    "            file.write(query + '\\n\\n\\n')\n",
    "            for i in range(len(results)):\n",
    "                row = results.iloc[i]\n",
    "                file.write(f'Result {i+1}: uid {row.cord_uid}\\n\\n{row.title}\\n\\n{row.abstract}\\n\\n\\n')\n",
    "    \n",
    "    \n",
    "    for i in range(len(queries)):\n",
    "        query = queries[i]\n",
    "        results = my_tfidf.tfidf_search(query, vectorizer, tdm, index, \n",
    "                                        metadata, num_top_results=5)\n",
    "        filename = f'q{i}'\n",
    "        write_results(results, query, save_directory, filename)    "
   ]
  },
  {
   "cell_type": "code",
   "execution_count": 24,
   "id": "cba14a39-db63-4e5e-af80-ce84a1500e1f",
   "metadata": {},
   "outputs": [
    {
     "name": "stderr",
     "output_type": "stream",
     "text": [
      "  0%|          | 121/56655 [00:00<00:46, 1209.28it/s]"
     ]
    },
    {
     "name": "stdout",
     "output_type": "stream",
     "text": [
      "Vectorized search query\n"
     ]
    },
    {
     "name": "stderr",
     "output_type": "stream",
     "text": [
      "100%|██████████| 56655/56655 [00:31<00:00, 1801.21it/s]\n",
      "  0%|          | 176/56655 [00:00<00:32, 1752.06it/s]"
     ]
    },
    {
     "name": "stdout",
     "output_type": "stream",
     "text": [
      "Vectorized search query\n"
     ]
    },
    {
     "name": "stderr",
     "output_type": "stream",
     "text": [
      "100%|██████████| 56655/56655 [00:30<00:00, 1839.12it/s]\n",
      "  0%|          | 198/56655 [00:00<00:28, 1974.30it/s]"
     ]
    },
    {
     "name": "stdout",
     "output_type": "stream",
     "text": [
      "Vectorized search query\n"
     ]
    },
    {
     "name": "stderr",
     "output_type": "stream",
     "text": [
      "100%|██████████| 56655/56655 [00:30<00:00, 1886.36it/s]\n",
      "  0%|          | 194/56655 [00:00<00:29, 1934.95it/s]"
     ]
    },
    {
     "name": "stdout",
     "output_type": "stream",
     "text": [
      "Vectorized search query\n"
     ]
    },
    {
     "name": "stderr",
     "output_type": "stream",
     "text": [
      "100%|██████████| 56655/56655 [00:35<00:00, 1589.85it/s]\n",
      "  0%|          | 178/56655 [00:00<00:31, 1771.46it/s]"
     ]
    },
    {
     "name": "stdout",
     "output_type": "stream",
     "text": [
      "Vectorized search query\n"
     ]
    },
    {
     "name": "stderr",
     "output_type": "stream",
     "text": [
      "100%|██████████| 56655/56655 [00:35<00:00, 1608.41it/s]\n",
      "  0%|          | 129/56655 [00:00<00:43, 1285.45it/s]"
     ]
    },
    {
     "name": "stdout",
     "output_type": "stream",
     "text": [
      "Vectorized search query\n"
     ]
    },
    {
     "name": "stderr",
     "output_type": "stream",
     "text": [
      "100%|██████████| 56655/56655 [00:34<00:00, 1637.51it/s]\n",
      "  1%|          | 327/56655 [00:00<00:34, 1630.81it/s]"
     ]
    },
    {
     "name": "stdout",
     "output_type": "stream",
     "text": [
      "Vectorized search query\n"
     ]
    },
    {
     "name": "stderr",
     "output_type": "stream",
     "text": [
      "100%|██████████| 56655/56655 [00:32<00:00, 1729.93it/s]\n",
      "  0%|          | 166/56655 [00:00<00:34, 1653.28it/s]"
     ]
    },
    {
     "name": "stdout",
     "output_type": "stream",
     "text": [
      "Vectorized search query\n"
     ]
    },
    {
     "name": "stderr",
     "output_type": "stream",
     "text": [
      "100%|██████████| 56655/56655 [00:33<00:00, 1712.55it/s]\n",
      "  0%|          | 161/56655 [00:00<00:35, 1605.32it/s]"
     ]
    },
    {
     "name": "stdout",
     "output_type": "stream",
     "text": [
      "Vectorized search query\n"
     ]
    },
    {
     "name": "stderr",
     "output_type": "stream",
     "text": [
      "100%|██████████| 56655/56655 [00:32<00:00, 1733.95it/s]\n",
      "  0%|          | 158/56655 [00:00<00:36, 1563.97it/s]"
     ]
    },
    {
     "name": "stdout",
     "output_type": "stream",
     "text": [
      "Vectorized search query\n"
     ]
    },
    {
     "name": "stderr",
     "output_type": "stream",
     "text": [
      "100%|██████████| 56655/56655 [00:32<00:00, 1737.20it/s]\n",
      "  0%|          | 169/56655 [00:00<00:33, 1689.08it/s]"
     ]
    },
    {
     "name": "stdout",
     "output_type": "stream",
     "text": [
      "Vectorized search query\n"
     ]
    },
    {
     "name": "stderr",
     "output_type": "stream",
     "text": [
      "100%|██████████| 56655/56655 [00:34<00:00, 1638.37it/s]\n",
      "  0%|          | 172/56655 [00:00<00:32, 1716.38it/s]"
     ]
    },
    {
     "name": "stdout",
     "output_type": "stream",
     "text": [
      "Vectorized search query\n"
     ]
    },
    {
     "name": "stderr",
     "output_type": "stream",
     "text": [
      "100%|██████████| 56655/56655 [00:33<00:00, 1699.50it/s]\n",
      "  0%|          | 162/56655 [00:00<00:34, 1614.32it/s]"
     ]
    },
    {
     "name": "stdout",
     "output_type": "stream",
     "text": [
      "Vectorized search query\n"
     ]
    },
    {
     "name": "stderr",
     "output_type": "stream",
     "text": [
      "100%|██████████| 56655/56655 [00:33<00:00, 1712.42it/s]\n",
      "  0%|          | 163/56655 [00:00<00:34, 1626.32it/s]"
     ]
    },
    {
     "name": "stdout",
     "output_type": "stream",
     "text": [
      "Vectorized search query\n"
     ]
    },
    {
     "name": "stderr",
     "output_type": "stream",
     "text": [
      "100%|██████████| 56655/56655 [00:32<00:00, 1718.63it/s]\n",
      "  0%|          | 176/56655 [00:00<00:32, 1758.15it/s]"
     ]
    },
    {
     "name": "stdout",
     "output_type": "stream",
     "text": [
      "Vectorized search query\n"
     ]
    },
    {
     "name": "stderr",
     "output_type": "stream",
     "text": [
      "100%|██████████| 56655/56655 [00:33<00:00, 1689.53it/s]\n",
      "  0%|          | 162/56655 [00:00<00:35, 1613.62it/s]"
     ]
    },
    {
     "name": "stdout",
     "output_type": "stream",
     "text": [
      "Vectorized search query\n"
     ]
    },
    {
     "name": "stderr",
     "output_type": "stream",
     "text": [
      "100%|██████████| 56655/56655 [00:33<00:00, 1711.51it/s]\n",
      "  0%|          | 161/56655 [00:00<00:35, 1605.95it/s]"
     ]
    },
    {
     "name": "stdout",
     "output_type": "stream",
     "text": [
      "Vectorized search query\n"
     ]
    },
    {
     "name": "stderr",
     "output_type": "stream",
     "text": [
      "100%|██████████| 56655/56655 [00:33<00:00, 1708.24it/s]\n",
      "  0%|          | 158/56655 [00:00<00:35, 1578.91it/s]"
     ]
    },
    {
     "name": "stdout",
     "output_type": "stream",
     "text": [
      "Vectorized search query\n"
     ]
    },
    {
     "name": "stderr",
     "output_type": "stream",
     "text": [
      "100%|██████████| 56655/56655 [00:33<00:00, 1713.36it/s]\n",
      "  1%|          | 342/56655 [00:00<00:32, 1707.65it/s]"
     ]
    },
    {
     "name": "stdout",
     "output_type": "stream",
     "text": [
      "Vectorized search query\n"
     ]
    },
    {
     "name": "stderr",
     "output_type": "stream",
     "text": [
      "100%|██████████| 56655/56655 [00:33<00:00, 1704.27it/s]\n",
      "  0%|          | 152/56655 [00:00<00:37, 1517.74it/s]"
     ]
    },
    {
     "name": "stdout",
     "output_type": "stream",
     "text": [
      "Vectorized search query\n"
     ]
    },
    {
     "name": "stderr",
     "output_type": "stream",
     "text": [
      "100%|██████████| 56655/56655 [00:33<00:00, 1704.20it/s]\n",
      "  0%|          | 165/56655 [00:00<00:34, 1640.12it/s]"
     ]
    },
    {
     "name": "stdout",
     "output_type": "stream",
     "text": [
      "Vectorized search query\n"
     ]
    },
    {
     "name": "stderr",
     "output_type": "stream",
     "text": [
      "100%|██████████| 56655/56655 [00:33<00:00, 1712.01it/s]\n",
      "  0%|          | 165/56655 [00:00<00:34, 1648.93it/s]"
     ]
    },
    {
     "name": "stdout",
     "output_type": "stream",
     "text": [
      "Vectorized search query\n"
     ]
    },
    {
     "name": "stderr",
     "output_type": "stream",
     "text": [
      "100%|██████████| 56655/56655 [00:33<00:00, 1692.99it/s]\n",
      "  0%|          | 163/56655 [00:00<00:34, 1626.95it/s]"
     ]
    },
    {
     "name": "stdout",
     "output_type": "stream",
     "text": [
      "Vectorized search query\n"
     ]
    },
    {
     "name": "stderr",
     "output_type": "stream",
     "text": [
      "100%|██████████| 56655/56655 [00:34<00:00, 1663.87it/s]\n",
      "  0%|          | 172/56655 [00:00<00:32, 1712.80it/s]"
     ]
    },
    {
     "name": "stdout",
     "output_type": "stream",
     "text": [
      "Vectorized search query\n"
     ]
    },
    {
     "name": "stderr",
     "output_type": "stream",
     "text": [
      "100%|██████████| 56655/56655 [00:33<00:00, 1704.87it/s]\n",
      "  1%|          | 323/56655 [00:00<00:34, 1617.25it/s]"
     ]
    },
    {
     "name": "stdout",
     "output_type": "stream",
     "text": [
      "Vectorized search query\n"
     ]
    },
    {
     "name": "stderr",
     "output_type": "stream",
     "text": [
      "100%|██████████| 56655/56655 [00:33<00:00, 1715.79it/s]\n",
      "  0%|          | 168/56655 [00:00<00:33, 1671.60it/s]"
     ]
    },
    {
     "name": "stdout",
     "output_type": "stream",
     "text": [
      "Vectorized search query\n"
     ]
    },
    {
     "name": "stderr",
     "output_type": "stream",
     "text": [
      "100%|██████████| 56655/56655 [00:33<00:00, 1690.69it/s]\n",
      "  1%|          | 344/56655 [00:00<00:32, 1714.31it/s]"
     ]
    },
    {
     "name": "stdout",
     "output_type": "stream",
     "text": [
      "Vectorized search query\n"
     ]
    },
    {
     "name": "stderr",
     "output_type": "stream",
     "text": [
      "100%|██████████| 56655/56655 [00:33<00:00, 1711.65it/s]\n",
      "  0%|          | 164/56655 [00:00<00:34, 1633.64it/s]"
     ]
    },
    {
     "name": "stdout",
     "output_type": "stream",
     "text": [
      "Vectorized search query\n"
     ]
    },
    {
     "name": "stderr",
     "output_type": "stream",
     "text": [
      "100%|██████████| 56655/56655 [00:33<00:00, 1693.10it/s]\n",
      "  0%|          | 159/56655 [00:00<00:35, 1584.82it/s]"
     ]
    },
    {
     "name": "stdout",
     "output_type": "stream",
     "text": [
      "Vectorized search query\n"
     ]
    },
    {
     "name": "stderr",
     "output_type": "stream",
     "text": [
      "100%|██████████| 56655/56655 [00:33<00:00, 1685.49it/s]\n",
      "  0%|          | 166/56655 [00:00<00:34, 1656.92it/s]"
     ]
    },
    {
     "name": "stdout",
     "output_type": "stream",
     "text": [
      "Vectorized search query\n"
     ]
    },
    {
     "name": "stderr",
     "output_type": "stream",
     "text": [
      "100%|██████████| 56655/56655 [00:33<00:00, 1701.78it/s]\n"
     ]
    }
   ],
   "source": [
    "queries = pd.read_csv('data/processed/questions_expert.csv', sep='\\t', index_col=0).question.values\n",
    "save_directory = 'results/final_models/query_results/'\n",
    "\n",
    "search_write_queries(queries, vectorizer, tdm, index, data, save_directory)"
   ]
  },
  {
   "cell_type": "code",
   "execution_count": null,
   "id": "d96ccfac-76aa-4249-aa21-cd617a4d926a",
   "metadata": {},
   "outputs": [],
   "source": []
  }
 ],
 "metadata": {
  "kernelspec": {
   "display_name": "Python 3",
   "language": "python",
   "name": "python3"
  },
  "language_info": {
   "codemirror_mode": {
    "name": "ipython",
    "version": 3
   },
   "file_extension": ".py",
   "mimetype": "text/x-python",
   "name": "python",
   "nbconvert_exporter": "python",
   "pygments_lexer": "ipython3",
   "version": "3.8.8"
  }
 },
 "nbformat": 4,
 "nbformat_minor": 5
}
