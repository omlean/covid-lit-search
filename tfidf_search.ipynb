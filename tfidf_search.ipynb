{
 "cells": [
  {
   "cell_type": "markdown",
   "id": "5adae888-3a88-4439-928a-7e374f255ed7",
   "metadata": {},
   "source": [
    "# Stage 1: Basic content search by tf-idf"
   ]
  },
  {
   "cell_type": "code",
   "execution_count": null,
   "id": "2e46819b-9ef8-4ba7-bdb0-386fc2ad0a30",
   "metadata": {},
   "outputs": [],
   "source": [
    "import pandas as pd\n",
    "import numpy as np\n",
    "import os\n",
    "from tqdm import tqdm\n",
    "\n",
    "from sklearn.feature_extraction.text import TfidfVectorizer\n",
    "import pickle\n",
    "from scipy.sparse import save_npz, load_npz, csr_matrix\n",
    "\n",
    "from scipy.spatial.distance import cosine\n",
    "\n",
    "import preprocessing\n",
    "import my_tfidf"
   ]
  },
  {
   "cell_type": "code",
   "execution_count": null,
   "id": "31373aeb-4d8b-456e-b80a-c957ec3a0723",
   "metadata": {},
   "outputs": [],
   "source": [
    "dtypes = {'cord_uid': str, 'sha': str, 'source_x': str, 'title': str, 'doi': str, 'pmcid': str, 'pubmed_id': str,\n",
    "       'license': str, 'abstract': str, 'publish_time': str, 'authors': str, 'journal': str, 'mag_id': str,\n",
    "       'who_covidence_id': str, 'arxiv_id': str, 'pdf_json_files': str, 'pmc_json_files': str,\n",
    "       'url': str, 's2_id': str, 'search_text': str, 'date': str}"
   ]
  },
  {
   "cell_type": "code",
   "execution_count": null,
   "id": "dfbbcb61-2e1a-424b-a319-992efebd6ac3",
   "metadata": {},
   "outputs": [],
   "source": [
    "# load dataframe, filter only papers from 2021\n",
    "path = 'results/final_models/metadata_2021.csv.gz'\n",
    "data = pd.read_csv(path, sep='\\t', dtype=dtypes)\n",
    "data.date = pd.to_datetime(data.date)\n",
    "data = data[data.date.apply(lambda x: x.year == 2021)]\n",
    "\n",
    "data = data[['cord_uid', 'date', 'title', 'abstract', 'authors', 'doi',\n",
    "      'url', 'pdf_json_files', 'pmc_json_files', 'search_text']]\n",
    "documents = data.search_text\n",
    "index = data['cord_uid'].values"
   ]
  },
  {
   "cell_type": "code",
   "execution_count": null,
   "id": "e568471a-c7ba-43ee-94ca-3b71dfea65b1",
   "metadata": {},
   "outputs": [],
   "source": [
    "# # save to csv\n",
    "# data.to_csv('results/final_models/metadata_2021.csv.gz', index=False, sep='\\t', compression='gzip')"
   ]
  },
  {
   "cell_type": "markdown",
   "id": "69a1cf86-6cb9-451f-a4e5-44089d2fbe6b",
   "metadata": {},
   "source": [
    "### Vectorize"
   ]
  },
  {
   "cell_type": "code",
   "execution_count": null,
   "id": "a4304544-6098-400e-9f27-e70852a23263",
   "metadata": {},
   "outputs": [],
   "source": [
    "path = 'results/final_models/'"
   ]
  },
  {
   "cell_type": "code",
   "execution_count": null,
   "id": "acdd2462-ed90-45fb-a3f7-4f30933f37a9",
   "metadata": {},
   "outputs": [],
   "source": [
    "# # option 1: create vectorizer (uncomment desired option)\n",
    "# vectorizer = my_tfidf.make_vectorizer(documents, pickle_path=path, save_files_prefix=\"_2021\")\n",
    "\n",
    "# option 2: load vectorizer from file\n",
    "with open('results/final_models/streamlit_vectorizer.pkl', 'wb') as file:\n",
    "    pickle.dump(vectorizer, file)\n",
    "vectorizer = my_tfidf.load_vectorizer(path + 'vectorizer.pkl')"
   ]
  },
  {
   "cell_type": "code",
   "execution_count": null,
   "id": "d838a924-381c-41ed-a4b3-349a19dfc21d",
   "metadata": {},
   "outputs": [],
   "source": [
    "# # option 1: create term-document matrix with vectorizer\n",
    "# tdm = vectorizer.transform(documents)\n",
    "# save_npz(path + 'streamlit_tdm.npz', tdm)\n",
    "\n",
    "# option 2: load term-document matrix from file\n",
    "tdm = load_npz(path + '2021_tdm.npz')"
   ]
  },
  {
   "cell_type": "markdown",
   "id": "b448fca8-cb24-4eb9-aada-37b4dc52440f",
   "metadata": {},
   "source": [
    "### Run search on queries"
   ]
  },
  {
   "cell_type": "code",
   "execution_count": null,
   "id": "b2d1d4a4-0715-4f9e-8bc2-60264cf741b7",
   "metadata": {},
   "outputs": [],
   "source": [
    "def search_write_queries(queries, vectorizer, tdm, index, metadata, save_directory, num_top_results=5):\n",
    "    \n",
    "    def write_results(results_df, query, save_directory, filename):\n",
    "        path = save_directory + filename\n",
    "        with open(path, 'w') as file:\n",
    "            file.write(query + '\\n\\n\\n')\n",
    "            for i in range(len(results)):\n",
    "                row = results.iloc[i]\n",
    "                file.write(f'Result {i+1}: uid {row.cord_uid}\\n\\n{row.title}\\n\\n{row.abstract}\\n\\n\\n')\n",
    "    \n",
    "    \n",
    "    for i in range(len(queries)):\n",
    "        query = queries[i]\n",
    "        results = my_tfidf.tfidf_search(query, vectorizer, tdm, index, \n",
    "                                        metadata, num_top_results=5)\n",
    "        filename = f'q{i}'\n",
    "        write_results(results, query, save_directory, filename)    "
   ]
  },
  {
   "cell_type": "code",
   "execution_count": null,
   "id": "1b96857a-eb71-45e2-a768-9736e4b27389",
   "metadata": {},
   "outputs": [],
   "source": [
    "# load list of queries\n",
    "queries = pd.read_csv('data/processed/questions_expert.csv', sep='\\t', index_col=0).question.values"
   ]
  },
  {
   "cell_type": "code",
   "execution_count": null,
   "id": "54c29d53-b513-4049-ae4d-583a02e5daa1",
   "metadata": {},
   "outputs": [],
   "source": [
    "# run search, write results to .txt files\n",
    "save_directory = 'results/final_models/tfidf_results/'\n",
    "search_write_queries(queries, vectorizer, tdm, index, data, save_directory)"
   ]
  },
  {
   "cell_type": "code",
   "execution_count": null,
   "id": "d96ccfac-76aa-4249-aa21-cd617a4d926a",
   "metadata": {},
   "outputs": [],
   "source": []
  }
 ],
 "metadata": {
  "kernelspec": {
   "display_name": "Python 3",
   "language": "python",
   "name": "python3"
  },
  "language_info": {
   "codemirror_mode": {
    "name": "ipython",
    "version": 3
   },
   "file_extension": ".py",
   "mimetype": "text/x-python",
   "name": "python",
   "nbconvert_exporter": "python",
   "pygments_lexer": "ipython3",
   "version": "3.8.8"
  }
 },
 "nbformat": 4,
 "nbformat_minor": 5
}
