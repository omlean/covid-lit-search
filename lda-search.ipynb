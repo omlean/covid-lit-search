{
 "cells": [
  {
   "cell_type": "markdown",
   "id": "8d456b86-4d33-4d03-a2fe-3dbc38a73fc2",
   "metadata": {},
   "source": [
    "# LDA-based search engine\n",
    "Requirements: Trained topic model, id2word\n",
    "\n",
    "Method:\n",
    "- "
   ]
  },
  {
   "cell_type": "code",
   "execution_count": 1,
   "id": "c537d807-6c10-43f4-8aea-9b57354fa3c2",
   "metadata": {},
   "outputs": [],
   "source": [
    "import pandas as pd\n",
    "import numpy as np\n",
    "\n",
    "from tqdm import tqdm\n",
    "import re\n",
    "\n",
    "import scipy.sparse as sparse\n",
    "from scipy.spatial.distance import cosine\n",
    "\n",
    "from gensim.corpora.dictionary import Dictionary\n",
    "from gensim.models.ldamodel import LdaModel\n",
    "from gensim.matutils import cossim\n",
    "\n",
    "from preprocessing import load_cleaned_metadata, clean_text_lda\n",
    "from data_access import get_txt\n",
    "import my_lda"
   ]
  },
  {
   "cell_type": "markdown",
   "id": "455a686c-fa1c-4c95-b458-06a0e556461d",
   "metadata": {},
   "source": [
    "# First run on all questions"
   ]
  },
  {
   "cell_type": "code",
   "execution_count": 2,
   "id": "3850ecd0-cc84-497a-a0f5-98f6c3134c45",
   "metadata": {},
   "outputs": [],
   "source": [
    "# load model\n",
    "model = LdaModel.load('data/cord-19/body_text/test')\n",
    "# load dictionary\n",
    "dictionary = Dictionary.load('data/cord-19/body_text/test.dict')\n",
    "\n",
    "# load metadata and corpus\n",
    "metadata = pd.read_csv('data/processed/metadata_jan21.csv', sep='\\t', index_col=0)\n",
    "uids = metadata.cord_uid.tolist()\n",
    "doc_path_list = ['data/cord-19/body_text/lda_clean/' + uid + '_clean.txt' for uid in uids]\n",
    "\n",
    "corpus = my_lda.MyCorpus(doc_path_list, dictionary=dictionary)\n",
    "\n",
    "queries = pd.read_csv('data/processed/questions_expert.csv', sep='\\t', index_col=0).question.tolist()"
   ]
  },
  {
   "cell_type": "code",
   "execution_count": 12,
   "id": "dba4dee3-34bd-42f7-bf5f-a1f35c375a96",
   "metadata": {},
   "outputs": [
    {
     "name": "stderr",
     "output_type": "stream",
     "text": [
      "100%|██████████| 49366/49366 [00:27<00:00, 1767.09it/s]\n",
      "100%|██████████| 49366/49366 [00:28<00:00, 1714.04it/s]\n",
      "100%|██████████| 49366/49366 [00:31<00:00, 1545.67it/s]\n",
      "100%|██████████| 49366/49366 [00:33<00:00, 1466.35it/s]\n",
      "100%|██████████| 49366/49366 [00:30<00:00, 1645.16it/s]\n",
      "100%|██████████| 49366/49366 [00:29<00:00, 1650.12it/s]\n",
      "100%|██████████| 49366/49366 [00:29<00:00, 1675.73it/s]\n",
      "100%|██████████| 49366/49366 [00:29<00:00, 1671.54it/s]\n",
      "100%|██████████| 49366/49366 [00:28<00:00, 1730.74it/s]\n",
      "100%|██████████| 49366/49366 [00:28<00:00, 1721.79it/s]\n",
      "100%|██████████| 49366/49366 [00:28<00:00, 1733.81it/s]\n",
      "100%|██████████| 49366/49366 [00:29<00:00, 1662.95it/s]\n",
      "100%|██████████| 49366/49366 [00:30<00:00, 1598.28it/s]\n",
      "100%|██████████| 49366/49366 [00:29<00:00, 1659.13it/s]\n",
      "100%|██████████| 49366/49366 [00:29<00:00, 1685.72it/s]\n",
      "100%|██████████| 49366/49366 [00:30<00:00, 1633.92it/s]\n",
      "100%|██████████| 49366/49366 [00:27<00:00, 1794.47it/s]\n",
      "100%|██████████| 49366/49366 [00:29<00:00, 1648.88it/s]\n",
      "100%|██████████| 49366/49366 [00:29<00:00, 1673.27it/s]\n",
      "100%|██████████| 49366/49366 [00:30<00:00, 1637.61it/s]\n",
      "100%|██████████| 49366/49366 [00:29<00:00, 1674.25it/s]\n",
      "100%|██████████| 49366/49366 [00:29<00:00, 1669.20it/s]\n",
      "100%|██████████| 49366/49366 [00:29<00:00, 1668.52it/s]\n",
      "100%|██████████| 49366/49366 [00:30<00:00, 1636.11it/s]\n",
      "100%|██████████| 49366/49366 [00:29<00:00, 1664.99it/s]\n",
      "100%|██████████| 49366/49366 [00:29<00:00, 1671.26it/s]\n",
      "100%|██████████| 49366/49366 [00:29<00:00, 1677.08it/s]\n",
      "100%|██████████| 49366/49366 [00:29<00:00, 1683.72it/s]\n",
      "100%|██████████| 49366/49366 [00:29<00:00, 1659.99it/s]\n",
      "100%|██████████| 49366/49366 [00:31<00:00, 1583.64it/s]\n"
     ]
    }
   ],
   "source": [
    "def write_results_to_file(query, df, dest_path):\n",
    "    with open(dest_path, 'w') as file:\n",
    "        for i in range(len(df)):\n",
    "            row = df.iloc[i]\n",
    "            file.write(query + '\\n\\n')\n",
    "            file.write(f\"Result #{i+1}: uid {row.cord_uid} \\n\")\n",
    "            file.write(row.title + '\\n')\n",
    "            file.write(f\"Abstract: \\n {row.abstract} \\n\\n\")\n",
    "\n",
    "directory = 'results/lda_jan21_01/'\n",
    "\n",
    "for i in range(len(queries)):\n",
    "    query = queries[i]\n",
    "    results_df = my_lda.lda_search(query, model, corpus, dictionary, metadata)\n",
    "    dest_path = directory + f'q{i}'\n",
    "    write_results_to_file(query, results_df, dest_path)  \n"
   ]
  },
  {
   "cell_type": "code",
   "execution_count": null,
   "id": "6dae7feb-77ea-4902-941d-aae119b1a5c7",
   "metadata": {},
   "outputs": [],
   "source": []
  }
 ],
 "metadata": {
  "kernelspec": {
   "display_name": "Python 3",
   "language": "python",
   "name": "python3"
  },
  "language_info": {
   "codemirror_mode": {
    "name": "ipython",
    "version": 3
   },
   "file_extension": ".py",
   "mimetype": "text/x-python",
   "name": "python",
   "nbconvert_exporter": "python",
   "pygments_lexer": "ipython3",
   "version": "3.8.8"
  }
 },
 "nbformat": 4,
 "nbformat_minor": 5
}
